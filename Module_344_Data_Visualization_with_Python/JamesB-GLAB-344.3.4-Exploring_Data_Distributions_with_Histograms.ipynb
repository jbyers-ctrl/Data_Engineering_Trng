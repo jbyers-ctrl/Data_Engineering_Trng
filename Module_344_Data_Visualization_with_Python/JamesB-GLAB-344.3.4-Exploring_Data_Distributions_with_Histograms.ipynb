{
  "cells": [
    {
      "cell_type": "markdown",
      "metadata": {
        "id": "4SQtgl0LiN_r"
      },
      "source": [
        "# **Guided Lab - 343.3.4 -  Exploring Data Distributions with Histogram**"
      ]
    },
    {
      "cell_type": "markdown",
      "metadata": {
        "id": "GZBY7OsZfYFZ"
      },
      "source": [
        "## **Lab Objective:**\n",
        "\n",
        "The objective of this lab is to introduce learners to the concept of histograms and how to create them using Python's Matplotlib library. By the end of this lab, learners will be able to:\n",
        "\n",
        "- Describe the purpose and significance of histograms in data visualization.\n",
        "- Explain how to interpret histograms to analyze the distribution of data.\n",
        "- Create histograms using Matplotlib's pyplot module.\n",
        "- Explore various customization options for histograms, such as adjusting bin size, colors, and labels.\n",
        "- Gain practical experience in visualizing different types of datasets using histograms, including numerical and categorical data.\n",
        "- Describe how to use histograms effectively for exploratory data analysis (EDA) and communicating insights from data.\n",
        "\n",
        "Through hands-on exercises and examples provided in the lab, learners will develop a strong foundation in histogram creation and interpretation, which are essential skills for data analysis and visualization tasks in various domains."
      ]
    },
    {
      "cell_type": "markdown",
      "metadata": {
        "id": "EH3xQKx_fJCs"
      },
      "source": [
        "## **Dataset for the Lab**\n",
        "[click here to download dataset file named ticketinfo.csv](https://drive.google.com/file/d/1rLB_5etqxYv9FaCZSvMw8qXGtdpjn7rb/view?usp=sharing)"
      ]
    },
    {
      "cell_type": "markdown",
      "metadata": {
        "id": "3w41KS76b4NC"
      },
      "source": [
        "- This dataset is related to tickets with corresponding volumes. Here's a breakdown of what the dataset will contain:\n",
        "\n",
        "- TicketID: This column contains unique identifiers for each ticket. The tickets are represented as strings, with the format 'T' followed by a numerical identifier ranging from 1 to 1930. For example, the first ticket will have the ID 'T1', the second ticket will have the ID 'T2', and so on up to 'T1930'.\n",
        "\n",
        "- Volumes: This column contains the volumes associated with each ticket. The volumes are generated in a way that mimics some pattern or distribution. The volumes are distributed across different ticket numbers, with certain ticket numbers having higher volumes than others. Specifically, the volumes are distributed as follows:\n",
        "\n",
        "- The first 140 tickets have a volume of 1.\n",
        "\n",
        "- The next 120 tickets have a volume of 2.\n",
        "\n",
        "- The subsequent 230 tickets have a volume of 3.\n",
        "\n",
        "- The following 200 tickets have a volume of 4.\n",
        "\n",
        "- The next 230 tickets have a volume of 5.\n",
        "\n",
        "- And so on, until the last 12 tickets have a volume of 20.\n",
        "\n"
      ]
    },
    {
      "cell_type": "markdown",
      "metadata": {
        "id": "BQdDoVPyhyLi"
      },
      "source": [
        "## **Instructions:**\n",
        "\n",
        "Lets import dataset in Pandas Dataframe."
      ]
    },
    {
      "cell_type": "code",
      "execution_count": 1,
      "metadata": {},
      "outputs": [],
      "source": [
        "import pandas as pd\n",
        "import datetime\n",
        "import numpy as np\n",
        "import matplotlib.pyplot as plt"
      ]
    },
    {
      "cell_type": "code",
      "execution_count": 3,
      "metadata": {
        "id": "ajLRsRURcxVj"
      },
      "outputs": [
        {
          "data": {
            "text/html": [
              "<div>\n",
              "<style scoped>\n",
              "    .dataframe tbody tr th:only-of-type {\n",
              "        vertical-align: middle;\n",
              "    }\n",
              "\n",
              "    .dataframe tbody tr th {\n",
              "        vertical-align: top;\n",
              "    }\n",
              "\n",
              "    .dataframe thead th {\n",
              "        text-align: right;\n",
              "    }\n",
              "</style>\n",
              "<table border=\"1\" class=\"dataframe\">\n",
              "  <thead>\n",
              "    <tr style=\"text-align: right;\">\n",
              "      <th></th>\n",
              "      <th>index</th>\n",
              "      <th>TicketID</th>\n",
              "      <th>Volumes</th>\n",
              "    </tr>\n",
              "  </thead>\n",
              "  <tbody>\n",
              "    <tr>\n",
              "      <th>0</th>\n",
              "      <td>0</td>\n",
              "      <td>T1</td>\n",
              "      <td>1</td>\n",
              "    </tr>\n",
              "    <tr>\n",
              "      <th>1</th>\n",
              "      <td>1</td>\n",
              "      <td>T2</td>\n",
              "      <td>1</td>\n",
              "    </tr>\n",
              "    <tr>\n",
              "      <th>2</th>\n",
              "      <td>2</td>\n",
              "      <td>T3</td>\n",
              "      <td>1</td>\n",
              "    </tr>\n",
              "    <tr>\n",
              "      <th>3</th>\n",
              "      <td>3</td>\n",
              "      <td>T4</td>\n",
              "      <td>1</td>\n",
              "    </tr>\n",
              "    <tr>\n",
              "      <th>4</th>\n",
              "      <td>4</td>\n",
              "      <td>T5</td>\n",
              "      <td>1</td>\n",
              "    </tr>\n",
              "    <tr>\n",
              "      <th>5</th>\n",
              "      <td>5</td>\n",
              "      <td>T6</td>\n",
              "      <td>1</td>\n",
              "    </tr>\n",
              "    <tr>\n",
              "      <th>6</th>\n",
              "      <td>6</td>\n",
              "      <td>T7</td>\n",
              "      <td>1</td>\n",
              "    </tr>\n",
              "    <tr>\n",
              "      <th>7</th>\n",
              "      <td>7</td>\n",
              "      <td>T8</td>\n",
              "      <td>1</td>\n",
              "    </tr>\n",
              "    <tr>\n",
              "      <th>8</th>\n",
              "      <td>8</td>\n",
              "      <td>T9</td>\n",
              "      <td>1</td>\n",
              "    </tr>\n",
              "    <tr>\n",
              "      <th>9</th>\n",
              "      <td>9</td>\n",
              "      <td>T10</td>\n",
              "      <td>1</td>\n",
              "    </tr>\n",
              "  </tbody>\n",
              "</table>\n",
              "</div>"
            ],
            "text/plain": [
              "   index TicketID  Volumes\n",
              "0      0       T1        1\n",
              "1      1       T2        1\n",
              "2      2       T3        1\n",
              "3      3       T4        1\n",
              "4      4       T5        1\n",
              "5      5       T6        1\n",
              "6      6       T7        1\n",
              "7      7       T8        1\n",
              "8      8       T9        1\n",
              "9      9      T10        1"
            ]
          },
          "execution_count": 3,
          "metadata": {},
          "output_type": "execute_result"
        }
      ],
      "source": [
        "ticket_df = pd.read_csv(\"./Data/ticketinfo.csv\")\n",
        "ticket_df.head(10)"
      ]
    },
    {
      "cell_type": "code",
      "execution_count": 4,
      "metadata": {
        "id": "-QmDAqhEdYSi"
      },
      "outputs": [
        {
          "data": {
            "text/html": [
              "<div>\n",
              "<style scoped>\n",
              "    .dataframe tbody tr th:only-of-type {\n",
              "        vertical-align: middle;\n",
              "    }\n",
              "\n",
              "    .dataframe tbody tr th {\n",
              "        vertical-align: top;\n",
              "    }\n",
              "\n",
              "    .dataframe thead th {\n",
              "        text-align: right;\n",
              "    }\n",
              "</style>\n",
              "<table border=\"1\" class=\"dataframe\">\n",
              "  <thead>\n",
              "    <tr style=\"text-align: right;\">\n",
              "      <th></th>\n",
              "      <th>index</th>\n",
              "      <th>Volumes</th>\n",
              "    </tr>\n",
              "  </thead>\n",
              "  <tbody>\n",
              "    <tr>\n",
              "      <th>count</th>\n",
              "      <td>1930.000000</td>\n",
              "      <td>1930.000000</td>\n",
              "    </tr>\n",
              "    <tr>\n",
              "      <th>mean</th>\n",
              "      <td>964.500000</td>\n",
              "      <td>6.434197</td>\n",
              "    </tr>\n",
              "    <tr>\n",
              "      <th>std</th>\n",
              "      <td>557.287329</td>\n",
              "      <td>3.883086</td>\n",
              "    </tr>\n",
              "    <tr>\n",
              "      <th>min</th>\n",
              "      <td>0.000000</td>\n",
              "      <td>1.000000</td>\n",
              "    </tr>\n",
              "    <tr>\n",
              "      <th>25%</th>\n",
              "      <td>482.250000</td>\n",
              "      <td>3.000000</td>\n",
              "    </tr>\n",
              "    <tr>\n",
              "      <th>50%</th>\n",
              "      <td>964.500000</td>\n",
              "      <td>6.000000</td>\n",
              "    </tr>\n",
              "    <tr>\n",
              "      <th>75%</th>\n",
              "      <td>1446.750000</td>\n",
              "      <td>9.000000</td>\n",
              "    </tr>\n",
              "    <tr>\n",
              "      <th>max</th>\n",
              "      <td>1929.000000</td>\n",
              "      <td>20.000000</td>\n",
              "    </tr>\n",
              "  </tbody>\n",
              "</table>\n",
              "</div>"
            ],
            "text/plain": [
              "             index      Volumes\n",
              "count  1930.000000  1930.000000\n",
              "mean    964.500000     6.434197\n",
              "std     557.287329     3.883086\n",
              "min       0.000000     1.000000\n",
              "25%     482.250000     3.000000\n",
              "50%     964.500000     6.000000\n",
              "75%    1446.750000     9.000000\n",
              "max    1929.000000    20.000000"
            ]
          },
          "execution_count": 4,
          "metadata": {},
          "output_type": "execute_result"
        }
      ],
      "source": [
        "ticket_df.describe()"
      ]
    },
    {
      "cell_type": "markdown",
      "metadata": {
        "id": "f4B4B3WziA4a"
      },
      "source": [
        "## **Creating Histogram**"
      ]
    },
    {
      "cell_type": "code",
      "execution_count": 6,
      "metadata": {
        "id": "wj7qEM0KeDny"
      },
      "outputs": [
        {
          "data": {
            "image/png": "[encoded data removed]",
            "text/plain": [
              "<Figure size 900x600 with 1 Axes>"
            ]
          },
          "metadata": {},
          "output_type": "display_data"
        }
      ],
      "source": [
        "plt.figure(figsize=(9, 6))\n",
        "\n",
        "plt.hist(ticket_df['Volumes'], bins=6, density=True)\n",
        "plt.xlim(left=0, right=21)\n",
        "plt.xticks(np.arange(21))\n",
        "\n",
        "plt.grid(alpha=0.2)\n",
        "plt.show()"
      ]
    },
    {
      "cell_type": "markdown",
      "metadata": {
        "id": "p4tymN6ReUEi"
      },
      "source": [
        "This above plot describes that among 1930 tickets, 11% tickets contain less than 5 products; less than 1% tickets contain less than 21 products but more than 16 products. However, if we want to the percentage of tickets that contains less than or equal to 10 products, this basic histogram cannot satisfy our need in one second. In the following cumulative histogram, we can find the answer."
      ]
    },
    {
      "cell_type": "markdown",
      "metadata": {
        "id": "QxsjhthEehNp"
      },
      "source": [
        "## **Creating Cumulative histogram**\n",
        "\n",
        "A cumulative histogram is a mapping that counts the cumulative number of observations in all of the bins up to the specified bin."
      ]
    },
    {
      "cell_type": "code",
      "execution_count": 8,
      "metadata": {
        "id": "CDbucPtoecVY"
      },
      "outputs": [
        {
          "data": {
            "image/png": "[encoded data removed]",
            "text/plain": [
              "<Figure size 900x600 with 1 Axes>"
            ]
          },
          "metadata": {},
          "output_type": "display_data"
        }
      ],
      "source": [
        "\n",
        "plt.figure(figsize=(9, 6))\n",
        "\n",
        "plt.hist(ticket_df['Volumes'], bins=6, density=True, cumulative=True, histtype='step', linewidth=2)\n",
        "plt.xlim(left=0, right=21)\n",
        "plt.xticks(np.arange(21))\n",
        "\n",
        "plt.grid(alpha=0.3)\n",
        "plt.show()"
      ]
    },
    {
      "cell_type": "markdown",
      "metadata": {
        "id": "wvhxPvL-eyiz"
      },
      "source": [
        "Considering the same question as above: what the percentage of tickets that contain less than or equal to 10 products? According to this cumulative histogram, the answer is obvious: nearly 85% tickets contain less than or egale to 10 products."
      ]
    }
  ],
  "metadata": {
    "colab": {
      "provenance": []
    },
    "kernelspec": {
      "display_name": "Python 3",
      "name": "python3"
    },
    "language_info": {
      "codemirror_mode": {
        "name": "ipython",
        "version": 3
      },
      "file_extension": ".py",
      "mimetype": "text/x-python",
      "name": "python",
      "nbconvert_exporter": "python",
      "pygments_lexer": "ipython3",
      "version": "3.12.0"
    }
  },
  "nbformat": 4,
  "nbformat_minor": 0
}
