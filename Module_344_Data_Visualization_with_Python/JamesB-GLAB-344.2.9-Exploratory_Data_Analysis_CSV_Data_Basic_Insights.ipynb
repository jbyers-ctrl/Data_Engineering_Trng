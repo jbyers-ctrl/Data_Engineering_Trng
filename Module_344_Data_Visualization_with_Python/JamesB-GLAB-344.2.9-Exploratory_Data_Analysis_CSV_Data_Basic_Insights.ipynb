{
  "cells": [
    {
      "cell_type": "markdown",
      "metadata": {
        "id": "JsLHgrOmtSbE"
      },
      "source": [
        "# **Guided LAB - 344.2.9 - Exploratory Data Analysis on CSV data - Basic Insights from the Data**\n",
        "\n"
      ]
    },
    {
      "cell_type": "markdown",
      "metadata": {
        "id": "NeP9npqTtkH6"
      },
      "source": [
        "## **Introduction:**\n",
        "Use the pandas read_csv() function to read a CSV file (comma-separated) into a Python pandas DataFrame, which supports options to read any delimited file.\n",
        "\n",
        "## **Lab Overview:**\n",
        "In this lab, we will demonstrate how to read a CSV file. Additionally, we will conduct Exploratory Data Analysis (EDA) on a CSV file.\n",
        "\n",
        "Please note that we have previously covered this lab in a previous topic. We are revisiting it now to create visualizations for the data.\n",
        "\n",
        "## **Learning Objective:**\n",
        "By the end of this lab, learners will be able to:\n",
        "- Read CSV files using Panda dataframe.\n",
        "- Perform basic EDA operations on Pandas DataFrame.\n",
        "- Create a line graph for the data in the CSV file.\n",
        "\n",
        "**Dataset:**\n",
        "In this lab, we will utilize the dummy employee dataset.\n",
        "\n",
        "[Click here to download employee dataset (employee.csv)](https://drive.google.com/file/d/14RV1xKIRzWS166LtGqnPC1Wg7eTlI_y1/view?usp=drive_link)\n",
        "\n"
      ]
    },
    {
      "cell_type": "markdown",
      "metadata": {
        "id": "NfTyApuouKdU"
      },
      "source": [
        "**Example 1: Reading Data from CSVs**\n",
        "\n",
        "Note: if you get error, use the line below:\n",
        "`df = pd.read_csv('employee.csv', on_bad_lines='skip')`\n",
        "\n",
        "Note: Make sure to add 'employee.csv' with the actual path to your CSV file.\n",
        "\n"
      ]
    },
    {
      "cell_type": "code",
      "execution_count": 2,
      "metadata": {
        "colab": {
          "base_uri": "https://localhost:8080/",
          "height": 519
        },
        "id": "_QszDPGZuL4j",
        "outputId": "96768b67-43e9-49fa-d4af-1bb5d9214bf7"
      },
      "outputs": [
        {
          "data": {
            "text/html": [
              "<div>\n",
              "<style scoped>\n",
              "    .dataframe tbody tr th:only-of-type {\n",
              "        vertical-align: middle;\n",
              "    }\n",
              "\n",
              "    .dataframe tbody tr th {\n",
              "        vertical-align: top;\n",
              "    }\n",
              "\n",
              "    .dataframe thead th {\n",
              "        text-align: right;\n",
              "    }\n",
              "</style>\n",
              "<table border=\"1\" class=\"dataframe\">\n",
              "  <thead>\n",
              "    <tr style=\"text-align: right;\">\n",
              "      <th></th>\n",
              "      <th>Name</th>\n",
              "      <th>Age</th>\n",
              "      <th>Weight</th>\n",
              "      <th>Salary</th>\n",
              "    </tr>\n",
              "  </thead>\n",
              "  <tbody>\n",
              "    <tr>\n",
              "      <th>0</th>\n",
              "      <td>James</td>\n",
              "      <td>36.0</td>\n",
              "      <td>75.0</td>\n",
              "      <td>5428000.0</td>\n",
              "    </tr>\n",
              "    <tr>\n",
              "      <th>1</th>\n",
              "      <td>Villers</td>\n",
              "      <td>38.0</td>\n",
              "      <td>74.0</td>\n",
              "      <td>3428000.0</td>\n",
              "    </tr>\n",
              "    <tr>\n",
              "      <th>2</th>\n",
              "      <td>VKole</td>\n",
              "      <td>31.0</td>\n",
              "      <td>70.0</td>\n",
              "      <td>8428000.0</td>\n",
              "    </tr>\n",
              "    <tr>\n",
              "      <th>3</th>\n",
              "      <td>Smith</td>\n",
              "      <td>34.0</td>\n",
              "      <td>80.0</td>\n",
              "      <td>4428000.0</td>\n",
              "    </tr>\n",
              "    <tr>\n",
              "      <th>4</th>\n",
              "      <td>Gayle</td>\n",
              "      <td>40.0</td>\n",
              "      <td>100.0</td>\n",
              "      <td>4528000.0</td>\n",
              "    </tr>\n",
              "    <tr>\n",
              "      <th>5</th>\n",
              "      <td>Adam</td>\n",
              "      <td>40.0</td>\n",
              "      <td>NaN</td>\n",
              "      <td>4528000.0</td>\n",
              "    </tr>\n",
              "    <tr>\n",
              "      <th>6</th>\n",
              "      <td>Rooter</td>\n",
              "      <td>33.0</td>\n",
              "      <td>72.0</td>\n",
              "      <td>7028000.0</td>\n",
              "    </tr>\n",
              "    <tr>\n",
              "      <th>7</th>\n",
              "      <td>Peterson</td>\n",
              "      <td>42.0</td>\n",
              "      <td>85.0</td>\n",
              "      <td>2528000.0</td>\n",
              "    </tr>\n",
              "    <tr>\n",
              "      <th>8</th>\n",
              "      <td>lynda</td>\n",
              "      <td>42.0</td>\n",
              "      <td>85.0</td>\n",
              "      <td>NaN</td>\n",
              "    </tr>\n",
              "    <tr>\n",
              "      <th>9</th>\n",
              "      <td>NaN</td>\n",
              "      <td>42.0</td>\n",
              "      <td>85.0</td>\n",
              "      <td>NaN</td>\n",
              "    </tr>\n",
              "    <tr>\n",
              "      <th>10</th>\n",
              "      <td>Jenny</td>\n",
              "      <td>NaN</td>\n",
              "      <td>100.0</td>\n",
              "      <td>25632.0</td>\n",
              "    </tr>\n",
              "    <tr>\n",
              "      <th>11</th>\n",
              "      <td>Kenn</td>\n",
              "      <td>NaN</td>\n",
              "      <td>110.0</td>\n",
              "      <td>25632.0</td>\n",
              "    </tr>\n",
              "    <tr>\n",
              "      <th>12</th>\n",
              "      <td>Aly</td>\n",
              "      <td>NaN</td>\n",
              "      <td>90.0</td>\n",
              "      <td>25582.0</td>\n",
              "    </tr>\n",
              "    <tr>\n",
              "      <th>13</th>\n",
              "      <td>John</td>\n",
              "      <td>41.0</td>\n",
              "      <td>85.0</td>\n",
              "      <td>1528000.0</td>\n",
              "    </tr>\n",
              "    <tr>\n",
              "      <th>14</th>\n",
              "      <td>Ali</td>\n",
              "      <td>26.0</td>\n",
              "      <td>69.0</td>\n",
              "      <td>NaN</td>\n",
              "    </tr>\n",
              "  </tbody>\n",
              "</table>\n",
              "</div>"
            ],
            "text/plain": [
              "        Name   Age  Weight     Salary\n",
              "0      James  36.0    75.0  5428000.0\n",
              "1    Villers  38.0    74.0  3428000.0\n",
              "2      VKole  31.0    70.0  8428000.0\n",
              "3      Smith  34.0    80.0  4428000.0\n",
              "4      Gayle  40.0   100.0  4528000.0\n",
              "5       Adam  40.0     NaN  4528000.0\n",
              "6     Rooter  33.0    72.0  7028000.0\n",
              "7   Peterson  42.0    85.0  2528000.0\n",
              "8      lynda  42.0    85.0        NaN\n",
              "9        NaN  42.0    85.0        NaN\n",
              "10     Jenny   NaN   100.0    25632.0\n",
              "11      Kenn   NaN   110.0    25632.0\n",
              "12       Aly   NaN    90.0    25582.0\n",
              "13      John  41.0    85.0  1528000.0\n",
              "14       Ali  26.0    69.0        NaN"
            ]
          },
          "execution_count": 2,
          "metadata": {},
          "output_type": "execute_result"
        }
      ],
      "source": [
        "import pandas as pd\n",
        "df = pd.read_csv('../Module_343_Data_Analytics_Python/Data/employee.csv')\n",
        "df\n"
      ]
    },
    {
      "cell_type": "markdown",
      "metadata": {
        "id": "UdOcz3nuuXV0"
      },
      "source": [
        "**Example 2: Viewing or Explore your Data**\n",
        "\n",
        "\n",
        "The first thing to do when opening a new dataset is to print out a few rows to keep as a visual reference. We accomplish this with .head():\n",
        "\n",
        "\n",
        "\n"
      ]
    },
    {
      "cell_type": "code",
      "execution_count": 3,
      "metadata": {
        "colab": {
          "base_uri": "https://localhost:8080/",
          "height": 206
        },
        "id": "Q3j5UtRHtRIR",
        "outputId": "5838c985-06c7-48a0-b249-ee073e646adc"
      },
      "outputs": [
        {
          "data": {
            "text/html": [
              "<div>\n",
              "<style scoped>\n",
              "    .dataframe tbody tr th:only-of-type {\n",
              "        vertical-align: middle;\n",
              "    }\n",
              "\n",
              "    .dataframe tbody tr th {\n",
              "        vertical-align: top;\n",
              "    }\n",
              "\n",
              "    .dataframe thead th {\n",
              "        text-align: right;\n",
              "    }\n",
              "</style>\n",
              "<table border=\"1\" class=\"dataframe\">\n",
              "  <thead>\n",
              "    <tr style=\"text-align: right;\">\n",
              "      <th></th>\n",
              "      <th>Name</th>\n",
              "      <th>Age</th>\n",
              "      <th>Weight</th>\n",
              "      <th>Salary</th>\n",
              "    </tr>\n",
              "  </thead>\n",
              "  <tbody>\n",
              "    <tr>\n",
              "      <th>0</th>\n",
              "      <td>James</td>\n",
              "      <td>36.0</td>\n",
              "      <td>75.0</td>\n",
              "      <td>5428000.0</td>\n",
              "    </tr>\n",
              "    <tr>\n",
              "      <th>1</th>\n",
              "      <td>Villers</td>\n",
              "      <td>38.0</td>\n",
              "      <td>74.0</td>\n",
              "      <td>3428000.0</td>\n",
              "    </tr>\n",
              "    <tr>\n",
              "      <th>2</th>\n",
              "      <td>VKole</td>\n",
              "      <td>31.0</td>\n",
              "      <td>70.0</td>\n",
              "      <td>8428000.0</td>\n",
              "    </tr>\n",
              "    <tr>\n",
              "      <th>3</th>\n",
              "      <td>Smith</td>\n",
              "      <td>34.0</td>\n",
              "      <td>80.0</td>\n",
              "      <td>4428000.0</td>\n",
              "    </tr>\n",
              "    <tr>\n",
              "      <th>4</th>\n",
              "      <td>Gayle</td>\n",
              "      <td>40.0</td>\n",
              "      <td>100.0</td>\n",
              "      <td>4528000.0</td>\n",
              "    </tr>\n",
              "  </tbody>\n",
              "</table>\n",
              "</div>"
            ],
            "text/plain": [
              "      Name   Age  Weight     Salary\n",
              "0    James  36.0    75.0  5428000.0\n",
              "1  Villers  38.0    74.0  3428000.0\n",
              "2    VKole  31.0    70.0  8428000.0\n",
              "3    Smith  34.0    80.0  4428000.0\n",
              "4    Gayle  40.0   100.0  4528000.0"
            ]
          },
          "execution_count": 3,
          "metadata": {},
          "output_type": "execute_result"
        }
      ],
      "source": [
        "df.head()"
      ]
    },
    {
      "cell_type": "markdown",
      "metadata": {
        "id": "tLPnNeGYucP6"
      },
      "source": [
        ".head() outputs the first five rows of your DataFrame by default, but we could also pass a number as well. df.head(10) would output the top ten rows.\n"
      ]
    },
    {
      "cell_type": "code",
      "execution_count": 4,
      "metadata": {
        "id": "blmNbn3Ou9vb"
      },
      "outputs": [
        {
          "data": {
            "text/html": [
              "<div>\n",
              "<style scoped>\n",
              "    .dataframe tbody tr th:only-of-type {\n",
              "        vertical-align: middle;\n",
              "    }\n",
              "\n",
              "    .dataframe tbody tr th {\n",
              "        vertical-align: top;\n",
              "    }\n",
              "\n",
              "    .dataframe thead th {\n",
              "        text-align: right;\n",
              "    }\n",
              "</style>\n",
              "<table border=\"1\" class=\"dataframe\">\n",
              "  <thead>\n",
              "    <tr style=\"text-align: right;\">\n",
              "      <th></th>\n",
              "      <th>Name</th>\n",
              "      <th>Age</th>\n",
              "      <th>Weight</th>\n",
              "      <th>Salary</th>\n",
              "    </tr>\n",
              "  </thead>\n",
              "  <tbody>\n",
              "    <tr>\n",
              "      <th>0</th>\n",
              "      <td>James</td>\n",
              "      <td>36.0</td>\n",
              "      <td>75.0</td>\n",
              "      <td>5428000.0</td>\n",
              "    </tr>\n",
              "    <tr>\n",
              "      <th>1</th>\n",
              "      <td>Villers</td>\n",
              "      <td>38.0</td>\n",
              "      <td>74.0</td>\n",
              "      <td>3428000.0</td>\n",
              "    </tr>\n",
              "    <tr>\n",
              "      <th>2</th>\n",
              "      <td>VKole</td>\n",
              "      <td>31.0</td>\n",
              "      <td>70.0</td>\n",
              "      <td>8428000.0</td>\n",
              "    </tr>\n",
              "    <tr>\n",
              "      <th>3</th>\n",
              "      <td>Smith</td>\n",
              "      <td>34.0</td>\n",
              "      <td>80.0</td>\n",
              "      <td>4428000.0</td>\n",
              "    </tr>\n",
              "    <tr>\n",
              "      <th>4</th>\n",
              "      <td>Gayle</td>\n",
              "      <td>40.0</td>\n",
              "      <td>100.0</td>\n",
              "      <td>4528000.0</td>\n",
              "    </tr>\n",
              "    <tr>\n",
              "      <th>5</th>\n",
              "      <td>Adam</td>\n",
              "      <td>40.0</td>\n",
              "      <td>NaN</td>\n",
              "      <td>4528000.0</td>\n",
              "    </tr>\n",
              "    <tr>\n",
              "      <th>6</th>\n",
              "      <td>Rooter</td>\n",
              "      <td>33.0</td>\n",
              "      <td>72.0</td>\n",
              "      <td>7028000.0</td>\n",
              "    </tr>\n",
              "    <tr>\n",
              "      <th>7</th>\n",
              "      <td>Peterson</td>\n",
              "      <td>42.0</td>\n",
              "      <td>85.0</td>\n",
              "      <td>2528000.0</td>\n",
              "    </tr>\n",
              "    <tr>\n",
              "      <th>8</th>\n",
              "      <td>lynda</td>\n",
              "      <td>42.0</td>\n",
              "      <td>85.0</td>\n",
              "      <td>NaN</td>\n",
              "    </tr>\n",
              "    <tr>\n",
              "      <th>9</th>\n",
              "      <td>NaN</td>\n",
              "      <td>42.0</td>\n",
              "      <td>85.0</td>\n",
              "      <td>NaN</td>\n",
              "    </tr>\n",
              "  </tbody>\n",
              "</table>\n",
              "</div>"
            ],
            "text/plain": [
              "       Name   Age  Weight     Salary\n",
              "0     James  36.0    75.0  5428000.0\n",
              "1   Villers  38.0    74.0  3428000.0\n",
              "2     VKole  31.0    70.0  8428000.0\n",
              "3     Smith  34.0    80.0  4428000.0\n",
              "4     Gayle  40.0   100.0  4528000.0\n",
              "5      Adam  40.0     NaN  4528000.0\n",
              "6    Rooter  33.0    72.0  7028000.0\n",
              "7  Peterson  42.0    85.0  2528000.0\n",
              "8     lynda  42.0    85.0        NaN\n",
              "9       NaN  42.0    85.0        NaN"
            ]
          },
          "execution_count": 4,
          "metadata": {},
          "output_type": "execute_result"
        }
      ],
      "source": [
        "\n",
        "df.head(10)"
      ]
    },
    {
      "cell_type": "markdown",
      "metadata": {
        "id": "eTH47R-cu52r"
      },
      "source": [
        "\n",
        "To see the last five rows, use df.tail(), which also accepts a number and prints the bottom two rows in this case.\n",
        "\n"
      ]
    },
    {
      "cell_type": "code",
      "execution_count": 5,
      "metadata": {
        "colab": {
          "base_uri": "https://localhost:8080/",
          "height": 112
        },
        "id": "6k7We2FEvBkz",
        "outputId": "cecd8a0e-7579-49d5-ef07-372193ef693f"
      },
      "outputs": [
        {
          "data": {
            "text/html": [
              "<div>\n",
              "<style scoped>\n",
              "    .dataframe tbody tr th:only-of-type {\n",
              "        vertical-align: middle;\n",
              "    }\n",
              "\n",
              "    .dataframe tbody tr th {\n",
              "        vertical-align: top;\n",
              "    }\n",
              "\n",
              "    .dataframe thead th {\n",
              "        text-align: right;\n",
              "    }\n",
              "</style>\n",
              "<table border=\"1\" class=\"dataframe\">\n",
              "  <thead>\n",
              "    <tr style=\"text-align: right;\">\n",
              "      <th></th>\n",
              "      <th>Name</th>\n",
              "      <th>Age</th>\n",
              "      <th>Weight</th>\n",
              "      <th>Salary</th>\n",
              "    </tr>\n",
              "  </thead>\n",
              "  <tbody>\n",
              "    <tr>\n",
              "      <th>13</th>\n",
              "      <td>John</td>\n",
              "      <td>41.0</td>\n",
              "      <td>85.0</td>\n",
              "      <td>1528000.0</td>\n",
              "    </tr>\n",
              "    <tr>\n",
              "      <th>14</th>\n",
              "      <td>Ali</td>\n",
              "      <td>26.0</td>\n",
              "      <td>69.0</td>\n",
              "      <td>NaN</td>\n",
              "    </tr>\n",
              "  </tbody>\n",
              "</table>\n",
              "</div>"
            ],
            "text/plain": [
              "    Name   Age  Weight     Salary\n",
              "13  John  41.0    85.0  1528000.0\n",
              "14   Ali  26.0    69.0        NaN"
            ]
          },
          "execution_count": 5,
          "metadata": {},
          "output_type": "execute_result"
        }
      ],
      "source": [
        "df.tail(2)"
      ]
    },
    {
      "cell_type": "markdown",
      "metadata": {
        "id": "NPOMih5ovKOb"
      },
      "source": [
        "**Getting Information About your Data**\n",
        "\n",
        ".info() should be one of the very first commands you run after loading your data:\n",
        "\n",
        "\n"
      ]
    },
    {
      "cell_type": "code",
      "execution_count": 6,
      "metadata": {
        "colab": {
          "base_uri": "https://localhost:8080/"
        },
        "id": "iinLkB4CvMtE",
        "outputId": "5c66b67a-bf27-4e74-d248-1f32fe20b207"
      },
      "outputs": [
        {
          "name": "stdout",
          "output_type": "stream",
          "text": [
            "<class 'pandas.core.frame.DataFrame'>\n",
            "RangeIndex: 15 entries, 0 to 14\n",
            "Data columns (total 4 columns):\n",
            " #   Column  Non-Null Count  Dtype  \n",
            "---  ------  --------------  -----  \n",
            " 0   Name    14 non-null     object \n",
            " 1   Age     12 non-null     float64\n",
            " 2   Weight  14 non-null     float64\n",
            " 3   Salary  12 non-null     float64\n",
            "dtypes: float64(3), object(1)\n",
            "memory usage: 612.0+ bytes\n"
          ]
        }
      ],
      "source": [
        "df.info()"
      ]
    },
    {
      "cell_type": "markdown",
      "metadata": {
        "id": "RfKs8Y-RvOgj"
      },
      "source": [
        "**.info()** provides the essential details about your dataset such as the number of rows and columns, the number of non-null values, what type of data is in each column, and how much memory your DataFrame is using.\n",
        "\n",
        "Another fast and useful attribute is .shape, which returns just a tuple of (rows, columns):\n",
        "\n",
        "\n",
        "\n",
        "\n",
        "\n",
        "\n",
        "\n"
      ]
    },
    {
      "cell_type": "markdown",
      "metadata": {
        "id": "Nn89OA5q0ggN"
      },
      "source": [
        "### **Example: Creating visualiztion for the CSV file**\n",
        "\n",
        " Now, plot a line graph from a DataFrame df where the columns are named 'Age' and 'Salary.'"
      ]
    },
    {
      "cell_type": "code",
      "execution_count": 7,
      "metadata": {
        "colab": {
          "base_uri": "https://localhost:8080/",
          "height": 564
        },
        "id": "1ZfNl-8AzD9j",
        "outputId": "2693991a-a818-4a42-9ee3-dab2afbb48f9"
      },
      "outputs": [
        {
          "data": {
            "image/png": "[encoded data removed]",
            "text/plain": [
              "<Figure size 1000x600 with 1 Axes>"
            ]
          },
          "metadata": {},
          "output_type": "display_data"
        }
      ],
      "source": [
        "from matplotlib import pyplot as plt\n",
        "\n",
        "# Assuming your CSV file has columns named 'Age' and 'Salary'\n",
        "# If your column names are different, replace them accordingly\n",
        "\n",
        "# Sort DataFrame by 'age' if necessary, it is optional step.\n",
        "df = df.sort_values(by='Age')\n",
        "\n",
        "# Plot the data\n",
        "plt.figure(figsize=(10, 6))  # Set the figure size\n",
        "plt.plot(df['Age'], df['Salary'], marker='o', linestyle='-')  # Line plot with markers\n",
        "plt.title('Line Graph of Salary by Age')  # Add title\n",
        "plt.xlabel('Age')  # Add x-axis label\n",
        "plt.ylabel('Salary')  # Add y-axis label\n",
        "plt.grid(True)  # Add grid\n",
        "plt.show()"
      ]
    }
  ],
  "metadata": {
    "colab": {
      "provenance": []
    },
    "kernelspec": {
      "display_name": "Python 3",
      "name": "python3"
    },
    "language_info": {
      "codemirror_mode": {
        "name": "ipython",
        "version": 3
      },
      "file_extension": ".py",
      "mimetype": "text/x-python",
      "name": "python",
      "nbconvert_exporter": "python",
      "pygments_lexer": "ipython3",
      "version": "3.12.0"
    }
  },
  "nbformat": 4,
  "nbformat_minor": 0
}
