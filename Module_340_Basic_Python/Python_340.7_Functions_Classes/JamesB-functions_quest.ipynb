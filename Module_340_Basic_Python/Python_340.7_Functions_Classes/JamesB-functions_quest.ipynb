{
 "cells": [
  {
   "cell_type": "code",
   "execution_count": null,
   "metadata": {},
   "outputs": [],
   "source": [
    "# The Mighty Calculator\n",
    "def add_numbers(a, b):\n",
    "    return a + b\n",
    "\n",
    "def subtract_numbers(a, b):\n",
    "    return a - b\n",
    "\n",
    "def multiply_numbers(a, b):\n",
    "    return a * b\n",
    "\n",
    "def divide_numbers(a, b):\n",
    "    if b != 0:\n",
    "        return a / b\n",
    "    else:\n",
    "        return \"Error: Division by zero!\"\n",
    "\n",
    "result = add_numbers(5, 3)\n",
    "print(\"The sum is:\", result)\n",
    "\n",
    "result = subtract_numbers(10, 4)\n",
    "print(\"The difference is:\", result)\n",
    "\n",
    "result = multiply_numbers(6, 2)\n",
    "print(\"The product is:\", result)\n",
    "\n",
    "result = divide_numbers(15, 0)\n",
    "print(\"The quotient is:\", result)"
   ]
  },
  {
   "cell_type": "markdown",
   "metadata": {},
   "source": [
    "## The Quest for Fibonacci: \n",
    "- Write a iterative function to calculate the Fibonacci sequence. Prompt the user to enter a number and display the corresponding Fibonacci number."
   ]
  },
  {
   "cell_type": "code",
   "execution_count": null,
   "metadata": {},
   "outputs": [
    {
     "name": "stdout",
     "output_type": "stream",
     "text": [
      "5702887\n"
     ]
    }
   ],
   "source": [
    "# Iterative Fibonacci Sequence \n",
    "# is a sequence in which each element is the sum of the two elements that precede it\n",
    "# Prompt the user to enter a number and display the corresponding Fibonacci number\n",
    "\n",
    "# User input\n",
    "num_input = int(input(\"Enter a number: \"))\n",
    "\n",
    "def fibonacci(n):\n",
    "    # default list to start\n",
    "    num_list = [0, 1]\n",
    "    # use to point to the index before the iterator 'num' in for loop\n",
    "    pointer = 0\n",
    "    # iterate over a range given by user\n",
    "    for num in range(1, n):\n",
    "        # sum of two elements\n",
    "        sum_of_value = num_list[num] + num_list[pointer] \n",
    "        # append the sum of the two elements above to 'num_list'\n",
    "        num_list.append(sum_of_value)\n",
    "        # increment the pointer to keep up with the 'num' iterator/variable\n",
    "        pointer += 1\n",
    "    # return the value of the user's number entered from the 'num_list'\n",
    "    return num_list[n]\n",
    "\n",
    "print(fibonacci(num_input))"
   ]
  },
  {
   "cell_type": "markdown",
   "metadata": {},
   "source": [
    "## The Quest for Fibonacci: \n",
    "- Write a recursive function to calculate the Fibonacci sequence. Prompt the user to enter a number and display the corresponding Fibonacci number."
   ]
  },
  {
   "cell_type": "code",
   "execution_count": null,
   "metadata": {},
   "outputs": [
    {
     "name": "stdout",
     "output_type": "stream",
     "text": [
      "21\n"
     ]
    }
   ],
   "source": [
    "# Recursive Fibonacci Sequence \n",
    "# is a sequence in which each element is the sum of the two elements that precede it\n",
    "# Prompt the user to enter a number and display the corresponding Fibonacci number\n",
    "\n",
    "# User input\n",
    "num_input = int(input(\"Enter a number: \"))\n",
    "\n",
    "def fibonacci(n):\n",
    "    # base case\n",
    "    if n <= 0:\n",
    "        return n\n",
    "    else:\n",
    "        answr = fibonacci(n - 1) + fibonacci(n - 2)\n",
    "        return answr\n",
    "    \n",
    "print(fibonacci(num_input))\n"
   ]
  },
  {
   "cell_type": "markdown",
   "metadata": {},
   "source": [
    "## The Cryptic Decoder: \n",
    "- Design a function that decodes a message encrypted using a simple substitution cipher. Use a dictionary to map each encrypted letter to its corresponding plaintext value."
   ]
  },
  {
   "cell_type": "code",
   "execution_count": 17,
   "metadata": {},
   "outputs": [
    {
     "name": "stdout",
     "output_type": "stream",
     "text": [
      "Decrypted Caesar Cipher: ({'i': 'h', 'b': 'a', 'w': 'v', 'f': 'e', 'g': 'f', 'v': 'u', 'o': 'n'}, 'In plaintext: ', 'havefun')\n"
     ]
    }
   ],
   "source": [
    "# Caesar Cypher\n",
    "def decode(encrypted_msg, rotate):\n",
    "    \n",
    "    cipher_dict = {}  # dictionary to map each encrypted letter to it's plaintext value\n",
    "    plaintext = \"\"  # store the decrypted text as it's built into a string\n",
    "    for char in encrypted_msg:\n",
    "        \n",
    "        if char.isalpha():\n",
    "            # determines starting ASCII value for lowercase ('a') or uppercase ('A') letters & sets the base for rotate calculation\n",
    "            start = ord(\"a\") if char.islower() else ord(\"A\")\n",
    "            # ord(char) gets ASCII value of current character\n",
    "            # ord(char) - start calculates character's position relative to 'a' or 'A' (0-25)\n",
    "            # ord(char) - start - rotate reverses the rotate by subtracting the rotate value\n",
    "            # % 26 ensures that the result wraps around the alphabet (e.g., if the rotateed value is negative, it wraps to the end of the alphabet)\n",
    "            # + start adds the starting ASCII value back to get the ASCII value of the decrypted character\n",
    "            # chr(...) converts the ASCII value back to a character\n",
    "            rotate_char = chr((ord(char) - start - rotate) % 26 + start)\n",
    "        elif char.isdigit():\n",
    "            # reverses the rotate for digits & ensures the result wraps around the digits (0-9)\n",
    "            rotate_char = str((int(char) - rotate) % 10)\n",
    "        else:\n",
    "            rotate_char = char\n",
    "        cipher_dict[char] = rotate_char\n",
    "        plaintext += rotate_char\n",
    "    \n",
    "    return cipher_dict, \"In plaintext: \", plaintext\n",
    "\n",
    "\n",
    "enc_msg = \"ibwfgvo\"\n",
    "key = 1\n",
    "plaintext_msg = decode(enc_msg, key)\n",
    "print(f\"Decrypted Caesar Cipher: {plaintext_msg}\")"
   ]
  },
  {
   "cell_type": "markdown",
   "metadata": {},
   "source": [
    "## The Magical Validator: \n",
    "- Create a function to validate email addresses. Prompt the user to enter an email address and determine if it is valid based on specific criteria."
   ]
  },
  {
   "cell_type": "code",
   "execution_count": 22,
   "metadata": {},
   "outputs": [
    {
     "name": "stdout",
     "output_type": "stream",
     "text": [
      "True\n",
      "False\n",
      "False\n"
     ]
    }
   ],
   "source": [
    "import re\n",
    "\n",
    "def validate_email(email):\n",
    "    return bool(re.search(r\"\\w+\\.\\w+@[a-zA-Z]+.com\", email))\n",
    "\n",
    "\n",
    "sample = \"john.doe@gmail.com\"\n",
    "sample2 = \"johndoe@gmail.com\"\n",
    "sample3 = \"john.doe@3mail.com\"\n",
    "print(validate_email(sample))\n",
    "print(validate_email(sample2))\n",
    "print(validate_email(sample3))"
   ]
  }
 ],
 "metadata": {
  "kernelspec": {
   "display_name": "Python 3",
   "language": "python",
   "name": "python3"
  },
  "language_info": {
   "codemirror_mode": {
    "name": "ipython",
    "version": 3
   },
   "file_extension": ".py",
   "mimetype": "text/x-python",
   "name": "python",
   "nbconvert_exporter": "python",
   "pygments_lexer": "ipython3",
   "version": "3.12.0"
  }
 },
 "nbformat": 4,
 "nbformat_minor": 2
}
