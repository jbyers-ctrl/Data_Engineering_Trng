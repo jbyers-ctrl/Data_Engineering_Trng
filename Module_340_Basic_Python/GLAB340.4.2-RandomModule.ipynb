{
 "cells": [
  {
   "cell_type": "markdown",
   "metadata": {},
   "source": [
    "## Example 1: Generate Random Floats\n",
    "\n",
    "- The random.random() method returns a random float number between 0.0 and 1.0. The function does not need any arguments."
   ]
  },
  {
   "cell_type": "code",
   "execution_count": 1,
   "metadata": {},
   "outputs": [
    {
     "name": "stdout",
     "output_type": "stream",
     "text": [
      "0.004682662208081556\n"
     ]
    }
   ],
   "source": [
    "import random\n",
    "\n",
    "print(random.random())"
   ]
  },
  {
   "cell_type": "markdown",
   "metadata": {},
   "source": [
    "## Example 2: Generate Random Integers\n",
    "\n",
    "- The random.randint() method returns a random integer between the specified integers."
   ]
  },
  {
   "cell_type": "code",
   "execution_count": 2,
   "metadata": {},
   "outputs": [
    {
     "name": "stdout",
     "output_type": "stream",
     "text": [
      "100\n",
      "27\n",
      "121\n",
      "1623\n"
     ]
    }
   ],
   "source": [
    "print(random.randint(1, 100))\n",
    "print(random.randint(25, 50))\n",
    "print(random.randint(100, 200))\n",
    "print(random.randint(1500, 1700))"
   ]
  },
  {
   "cell_type": "markdown",
   "metadata": {},
   "source": [
    "## Example 3: Generate Random Numbers Within Range\n",
    "- The random.randrange() method returns a randomly selected element from the range created by the start, stop and step arguments. \n",
    "- The value of start is 0 by default. Similarly, the value of step is 1 by default."
   ]
  },
  {
   "cell_type": "code",
   "execution_count": 3,
   "metadata": {},
   "outputs": [
    {
     "name": "stdout",
     "output_type": "stream",
     "text": [
      "5\n",
      "5\n",
      "50\n",
      "1050\n",
      "595\n"
     ]
    }
   ],
   "source": [
    "print(random.randrange(1, 10)) \n",
    "print(random.randrange(1, 10, 2))\n",
    "print(random.randrange(0, 101, 10))\n",
    "print(random.randrange(1000, 1200, 50))\n",
    "print(random.randrange(550, 600, 5))"
   ]
  },
  {
   "cell_type": "markdown",
   "metadata": {},
   "source": [
    "## Example 4: Select Random Elements\n",
    "- The random.choice() method returns a randomly selected element from a non-empty sequence. \n",
    "- An empty sequence as an argument raises an IndexError."
   ]
  },
  {
   "cell_type": "code",
   "execution_count": 8,
   "metadata": {},
   "outputs": [
    {
     "name": "stdout",
     "output_type": "stream",
     "text": [
      "m\n",
      "65\n",
      "65\n",
      "G\n",
      "[67, 65, 43]\n",
      "[65, 43]\n",
      "['love']\n"
     ]
    }
   ],
   "source": [
    "print(random.choice('computer'))  \n",
    "print(random.choice([12,23,45,67,65,43]))\n",
    "print(random.choice((12,23,45,67,65,43)))\n",
    "print(random.choice('I love DATA ENGINEERING!'))  \n",
    "print(random.choice([[12,23,45],[67,65,43]]))\n",
    "print(random.choice([[12,23],[45,67],[65,43]]))\n",
    "print(random.choice([['love'],['DATA'],['ENGINEERING!']]))\n"
   ]
  },
  {
   "cell_type": "markdown",
   "metadata": {},
   "source": [
    "## Example 5: Select Random Items from Data Set\n",
    "- The random.sample() function chooses a sample/multiple items from a Python list, set, or dictionary. It returns a list of unique items chosen randomly from the list, sequence, or set.\n",
    "\n",
    "### Syntax\n",
    "#### random.sample(population, k)\n",
    "- population: It can be any sequence, such as a list, set, or string, from which you want to select a k-length number.\n",
    "- k: It is the number of random items you want to select from the sequence. k must be less than the size of the specified list."
   ]
  },
  {
   "cell_type": "markdown",
   "metadata": {},
   "source": [
    "## Example 5.1: Select multiple items from a list without repetition.\n",
    "- In this example, we will choose three random items from a list[]."
   ]
  },
  {
   "cell_type": "code",
   "execution_count": 21,
   "metadata": {},
   "outputs": [
    {
     "name": "stdout",
     "output_type": "stream",
     "text": [
      "[100, 80, 20, 40]\n",
      "[[85, 93], [35, 53]]\n",
      "['for', 'DATA']\n"
     ]
    }
   ],
   "source": [
    "aList = [20, 40, 80, 100, 120]\n",
    "b_list = [[12,23],[45,67],[65,43],[15,27],[35,53],[75,77],[85,93]]\n",
    "c_list = 'love','DATA','ENGINEERING!','for','real!'\n",
    "# c_list = 'I love DATA ENGINEERING!'\n",
    "sampled_list = random.sample(aList, 4)\n",
    "sampled_list_b = random.sample(b_list, 2)\n",
    "sampled_list_c = random.sample(c_list, 2)\n",
    "print(sampled_list)\n",
    "print(sampled_list_b)\n",
    "print(sampled_list_c)"
   ]
  },
  {
   "cell_type": "markdown",
   "metadata": {},
   "source": [
    "## Example 5.2: Generate the sampled list of random integers\n",
    "- You can use random.randint() and random.randrange() to generate the random numbers, but it can repeat the numbers. To create a list of unique random numbers, we need to use the sample() method.\n",
    "- Wrap a range() function inside a sample() to create a list of random numbers without duplicates. The range() function generates the sequence of random numbers.\n",
    "- Let’s see a random sample generator to generate five sample numbers from 1 to 100.\n"
   ]
  },
  {
   "cell_type": "code",
   "execution_count": 30,
   "metadata": {},
   "outputs": [
    {
     "name": "stdout",
     "output_type": "stream",
     "text": [
      "[39, 55, 46, 95, 40]\n",
      "[160, 118, 108, 172, 152, 194, 126, 106, 146, 182]\n",
      "[826, 451, 650, 551, 219, 812, 499, 203, 429, 469, 995, 613, 825, 326, 854]\n"
     ]
    }
   ],
   "source": [
    "# create list of 5 random numbers\n",
    "num_list = random.sample(range(100), 5)\n",
    "num_list2 = random.sample(range(100, 200, 2), 10)\n",
    "num_list3 = random.sample(range(100, 1000), 15)\n",
    "print(num_list)\n",
    "print(num_list2)\n",
    "print(num_list3)"
   ]
  }
 ],
 "metadata": {
  "kernelspec": {
   "display_name": "Python 3",
   "language": "python",
   "name": "python3"
  },
  "language_info": {
   "codemirror_mode": {
    "name": "ipython",
    "version": 3
   },
   "file_extension": ".py",
   "mimetype": "text/x-python",
   "name": "python",
   "nbconvert_exporter": "python",
   "pygments_lexer": "ipython3",
   "version": "3.12.0"
  }
 },
 "nbformat": 4,
 "nbformat_minor": 2
}
