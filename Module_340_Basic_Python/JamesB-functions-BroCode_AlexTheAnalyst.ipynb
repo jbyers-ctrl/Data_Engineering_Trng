{
 "cells": [
  {
   "cell_type": "markdown",
   "metadata": {},
   "source": [
    "## Functions - Bro Code"
   ]
  },
  {
   "cell_type": "code",
   "execution_count": null,
   "metadata": {},
   "outputs": [],
   "source": [
    "# functions are blocks of reusable code\n",
    "\n",
    "def happy_birthday():\n",
    "    print(\"Happy birthday to you!\")\n",
    "    print(\"Happy birthday to you!\")\n",
    "    print(\"Happy birthday to you!\")\n",
    "    print(\"How old are you?\")\n",
    "    print(\"How old are you?\")\n",
    "\n",
    "\n",
    "happy_birthday()\n",
    "happy_birthday()\n",
    "happy_birthday()\n",
    "happy_birthday()\n",
    "happy_birthday()"
   ]
  },
  {
   "cell_type": "code",
   "execution_count": null,
   "metadata": {},
   "outputs": [],
   "source": [
    "# function with parameter\n",
    "def happy_birthday(f_name):\n",
    "    print(f\"Happy birthday to {f_name}!\")\n",
    "    print(f\"Happy birthday to {f_name}!\")\n",
    "    print(f\"Happy birthday to {f_name}!\")\n",
    "    print(f\"How old are {f_name}?\")\n",
    "    print(f\"How old are {f_name}?\")\n",
    "\n",
    "\n",
    "happy_birthday(\"James\")\n",
    "happy_birthday(\"Halle\")\n"
   ]
  },
  {
   "cell_type": "code",
   "execution_count": null,
   "metadata": {},
   "outputs": [],
   "source": [
    "# function with multiple params\n",
    "def happy_birthday(f_name, age):\n",
    "    print(f\"Happy birthday to {f_name}!\")\n",
    "    print(f\"Happy birthday to {f_name}!\")\n",
    "    print(f\"Happy birthday to {f_name}!\")\n",
    "    print(f\"You are {age}?\")\n",
    "    print(f\"You are {age}?\")\n",
    "\n",
    "\n",
    "happy_birthday(\"James\", 22)\n",
    "happy_birthday(\"Halle\", 32)"
   ]
  },
  {
   "cell_type": "code",
   "execution_count": 6,
   "metadata": {},
   "outputs": [
    {
     "name": "stdout",
     "output_type": "stream",
     "text": [
      "Hello James\n",
      "Your bill of $42.56 is due: 01/01\n"
     ]
    }
   ],
   "source": [
    "\n",
    "def display_invoices(username, amount, due_date):\n",
    "    print(f\"Hello {username}\")\n",
    "    print(f\"Your bill of ${amount:.2f} is due: {due_date}\")\n",
    "\n",
    "\n",
    "display_invoices(\"James\", 42.558787, \"01/01\")"
   ]
  },
  {
   "cell_type": "code",
   "execution_count": 8,
   "metadata": {},
   "outputs": [
    {
     "name": "stdout",
     "output_type": "stream",
     "text": [
      "3\n",
      "-1\n",
      "2\n",
      "0.5\n"
     ]
    }
   ],
   "source": [
    "# The \"return\" statement is used to end a function and send a reult back to the caller\n",
    "\n",
    "def add(x, y):\n",
    "    z = x + y\n",
    "    return z\n",
    "def sub(x, y):\n",
    "    z = x - y\n",
    "    return z\n",
    "def mult(x, y):\n",
    "    z = x * y\n",
    "    return z\n",
    "def div(x, y):\n",
    "    z = x / y\n",
    "    return z\n",
    "\n",
    "print(add(1,2))\n",
    "print(sub(1,2))\n",
    "print(mult(1,2))\n",
    "print(div(1,2))"
   ]
  },
  {
   "cell_type": "code",
   "execution_count": null,
   "metadata": {},
   "outputs": [
    {
     "name": "stdout",
     "output_type": "stream",
     "text": [
      "James Byers\n"
     ]
    }
   ],
   "source": [
    "# Save the returned data in a variable\n",
    "def create_name(first, last):\n",
    "    first = first.capitalize()\n",
    "    last = last.capitalize()\n",
    "    return first + \" \" + last\n",
    "\n",
    "full_name = create_name(\"james\", \"byers\")\n",
    "print(full_name)"
   ]
  },
  {
   "cell_type": "markdown",
   "metadata": {},
   "source": [
    "## Functions - Alex the Analyst"
   ]
  },
  {
   "cell_type": "code",
   "execution_count": 10,
   "metadata": {},
   "outputs": [
    {
     "name": "stdout",
     "output_type": "stream",
     "text": [
      "We did it\n"
     ]
    }
   ],
   "source": [
    "def first_func():\n",
    "    print(\"We did it\")\n",
    "\n",
    "first_func()"
   ]
  },
  {
   "cell_type": "code",
   "execution_count": 11,
   "metadata": {},
   "outputs": [
    {
     "name": "stdout",
     "output_type": "stream",
     "text": [
      "25\n"
     ]
    }
   ],
   "source": [
    "def num_squared(num):\n",
    "    print(num**2)\n",
    "\n",
    "num_squared(5)"
   ]
  },
  {
   "cell_type": "code",
   "execution_count": 12,
   "metadata": {},
   "outputs": [
    {
     "name": "stdout",
     "output_type": "stream",
     "text": [
      "125\n"
     ]
    }
   ],
   "source": [
    "# Make code dynamic with variables\n",
    "def num_squared(num, power):\n",
    "    print(num**power)\n",
    "\n",
    "num_squared(5,3)"
   ]
  },
  {
   "cell_type": "code",
   "execution_count": null,
   "metadata": {},
   "outputs": [
    {
     "name": "stdout",
     "output_type": "stream",
     "text": [
      "30\n",
      "30\n"
     ]
    }
   ],
   "source": [
    "# args (*) - if you don't know how many arguments you want to pass through\n",
    "args_tup = (5,6,1,2,8)\n",
    "def num_args(*args): # arbitrary number of arguments\n",
    "    print(args[0]*args[1])\n",
    "\n",
    "num_args(5,6,1,2,8) # no '*' required\n",
    "num_args(*args_tup) # the '*' is required | IndexError without the '*'"
   ]
  },
  {
   "cell_type": "code",
   "execution_count": null,
   "metadata": {},
   "outputs": [],
   "source": [
    "# keyword args - \n",
    "def num_squared(num, power):\n",
    "    print(num**power)\n",
    "\n",
    "num_squared(power = 5, num = 3) # gives more control, order doesn't matter"
   ]
  },
  {
   "cell_type": "code",
   "execution_count": 15,
   "metadata": {},
   "outputs": [
    {
     "name": "stdout",
     "output_type": "stream",
     "text": [
      "My number is: 2309\n"
     ]
    }
   ],
   "source": [
    "def num_kwargs(**num): # arbitrary number of arguments\n",
    "    print(\"My number is: \" + num[\"integer\"])\n",
    "\n",
    "num_kwargs(integer = '2309')\n"
   ]
  }
 ],
 "metadata": {
  "kernelspec": {
   "display_name": "Python 3",
   "language": "python",
   "name": "python3"
  },
  "language_info": {
   "codemirror_mode": {
    "name": "ipython",
    "version": 3
   },
   "file_extension": ".py",
   "mimetype": "text/x-python",
   "name": "python",
   "nbconvert_exporter": "python",
   "pygments_lexer": "ipython3",
   "version": "3.12.0"
  }
 },
 "nbformat": 4,
 "nbformat_minor": 2
}
