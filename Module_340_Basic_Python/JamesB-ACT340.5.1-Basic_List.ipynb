{
 "cells": [
  {
   "cell_type": "code",
   "execution_count": 19,
   "metadata": {},
   "outputs": [
    {
     "name": "stdout",
     "output_type": "stream",
     "text": [
      "['apple', 'orange', 12, ['peanut', 'butter', 'jelly', 'time']]\n",
      "4\n",
      "4\n",
      "<class 'int'>\n",
      "I have 12 orange's\n",
      "I have  12 orange\n",
      "pea\n",
      "jelly\n",
      "I like jelly on my toast\n"
     ]
    }
   ],
   "source": [
    "new_list= ['apple', 'orange', 12, ['peanut', 'butter', 'jelly', 'time']]\n",
    "\n",
    "print(new_list)\n",
    "print(len(new_list))\n",
    "print(len(new_list[3]))\n",
    "print(type(new_list[2]))\n",
    "num = new_list[2]\n",
    "obj = new_list[1]\n",
    "\n",
    "print(f\"I have {num} {obj}'s\")\n",
    "\n",
    "print(\"I have \", new_list[2], new_list[1])\n",
    "\n",
    "#i like jelly on my toast\n",
    "# newlist  has 4 elements\n",
    "# element 3 of new list is a list\n",
    "\n",
    "# Access elements\n",
    "jell = new_list[3][2]\n",
    "butter = new_list[3][1]\n",
    "\n",
    "# Indexing and slicing\n",
    "butter = new_list[3][0][:3]\n",
    "\n",
    "print(butter)\n",
    "print(jell)\n",
    "print(f\"I like {jell} on my toast\")"
   ]
  },
  {
   "cell_type": "code",
   "execution_count": 20,
   "metadata": {},
   "outputs": [
    {
     "name": "stdout",
     "output_type": "stream",
     "text": [
      "jelly\n",
      "time\n"
     ]
    }
   ],
   "source": [
    "# Loop through a slice of the listb\n",
    "for item in new_list[3][2:]:\n",
    "    print(item)"
   ]
  },
  {
   "cell_type": "code",
   "execution_count": 21,
   "metadata": {},
   "outputs": [
    {
     "name": "stdout",
     "output_type": "stream",
     "text": [
      "['apple', 'orange', 12, 'Replaced the list within a list with this text']\n",
      "['apple', 'orange', 12, 'Replaced the list within a list with this text', ['peanut', 'butter', 'jelly', 'time']]\n",
      "['apple', 'orange', 24, 12, 'Replaced the list within a list with this text', ['peanut', 'butter', 'jelly', 'time']]\n"
     ]
    }
   ],
   "source": [
    "# Modify the list\n",
    "new_list[3] = \"Replaced the list within a list with this text\"\n",
    "print(new_list)\n",
    "# Add element to the list\n",
    "new_list.append(['peanut', 'butter', 'jelly', 'time'])\n",
    "print(new_list)\n",
    "# Add element at any position using insert()\n",
    "new_list.insert(2, 24)\n",
    "print(new_list)"
   ]
  },
  {
   "cell_type": "code",
   "execution_count": 22,
   "metadata": {},
   "outputs": [
    {
     "name": "stdout",
     "output_type": "stream",
     "text": [
      "['apple', 'orange', 24, 'Replaced the list within a list with this text', ['peanut', 'butter', 'jelly', 'time']]\n",
      "['apple', 'orange', 24, 'Replaced the list within a list with this text']\n",
      "['apple', 'orange', 'Replaced the list within a list with this text']\n"
     ]
    }
   ],
   "source": [
    "# If you know the position of the element, Remove using the index\n",
    "del new_list[3]\n",
    "print(new_list)\n",
    "# Store the deleted item in a variable\n",
    "popped_item = new_list.pop(4)\n",
    "print(new_list)\n",
    "# Remove an element by it's value\n",
    "new_list.remove(24)\n",
    "print(new_list)"
   ]
  },
  {
   "cell_type": "code",
   "execution_count": 24,
   "metadata": {},
   "outputs": [
    {
     "name": "stdout",
     "output_type": "stream",
     "text": [
      "['flute', 'guitar', 'piano', 'trumpet']\n",
      "['trumpet', 'piano', 'guitar', 'flute']\n"
     ]
    }
   ],
   "source": [
    "instruments= ['piano', 'flute', 'guitar', 'trumpet']\n",
    "\n",
    "# Changes the order of a list permenately in alphabetical order\n",
    "instruments.sort()\n",
    "print(instruments)\n",
    "# Reverse it\n",
    "instruments.sort(reverse=True)\n",
    "print(instruments)"
   ]
  },
  {
   "cell_type": "code",
   "execution_count": null,
   "metadata": {},
   "outputs": [],
   "source": [
    "instruments= [\"Piano\", 'flute', 'guitar', 'Guitar', 'trumpet']\n",
    "mixed_list= ['piano', '1', 'trumpet', '5']\n",
    "\n",
    "example_sorted_function = sorted(instruments)\n",
    "print(example_sorted_function)\n",
    "print(instruments)"
   ]
  },
  {
   "cell_type": "code",
   "execution_count": 25,
   "metadata": {},
   "outputs": [
    {
     "name": "stdout",
     "output_type": "stream",
     "text": [
      "['Australian Shepherd', 'Beagle', 'Bernese Mountain Dog', 'Boxer', 'Bulldog', 'Cavalier King Charles Spaniel', 'Dachshund', 'Doberman Pinscher', 'French Bulldog', 'German Shepherd', 'German Shorthaired Pointer', 'Golden Retriever', 'Great Dane', 'Labrador Retriever', 'Pembroke Welsh Corgi', 'Poodle', 'Rottweiler', 'Shih Tzu', 'Siberian Husky', 'Yorkshire Terrier']\n"
     ]
    }
   ],
   "source": [
    "dog_breeds = [\n",
    "    \"Labrador Retriever\",\n",
    "    \"German Shepherd\",\n",
    "    \"Golden Retriever\",\n",
    "    \"French Bulldog\",\n",
    "    \"Bulldog\",\n",
    "    \"Poodle\",\n",
    "    \"Beagle\",\n",
    "    \"Rottweiler\",\n",
    "    \"German Shorthaired Pointer\",\n",
    "    \"Dachshund\",\n",
    "    \"Pembroke Welsh Corgi\",\n",
    "    \"Australian Shepherd\",\n",
    "    \"Yorkshire Terrier\",\n",
    "    \"Boxer\",\n",
    "    \"Great Dane\",\n",
    "    \"Siberian Husky\",\n",
    "    \"Doberman Pinscher\",\n",
    "    \"Bernese Mountain Dog\",\n",
    "    \"Shih Tzu\",\n",
    "    \"Cavalier King Charles Spaniel\",\n",
    "]\n",
    "print(sorted(dog_breeds))"
   ]
  },
  {
   "cell_type": "code",
   "execution_count": 31,
   "metadata": {},
   "outputs": [
    {
     "name": "stdout",
     "output_type": "stream",
     "text": [
      "True\n",
      "2708533412672\n",
      "2708533412672\n",
      "True\n",
      "2708533412672\n",
      "2708533719872\n"
     ]
    }
   ],
   "source": [
    "dog_breeds_2 = dog_breeds\n",
    "print(dog_breeds_2==dog_breeds) # True\n",
    "print(id(dog_breeds)) \n",
    "print(id(dog_breeds_2))\n",
    "copy_of_breeds = dog_breeds.copy() # Copied_list is now a separate object with the same contents\n",
    "print(copy_of_breeds==dog_breeds) # True\n",
    "print(id(dog_breeds)) \n",
    "print(id(copy_of_breeds)) "
   ]
  },
  {
   "cell_type": "code",
   "execution_count": 5,
   "metadata": {},
   "outputs": [
    {
     "name": "stdout",
     "output_type": "stream",
     "text": [
      "3\n"
     ]
    }
   ],
   "source": [
    "print(len({1,2,3,2}))"
   ]
  },
  {
   "cell_type": "code",
   "execution_count": null,
   "metadata": {},
   "outputs": [
    {
     "name": "stdout",
     "output_type": "stream",
     "text": [
      "False\n"
     ]
    }
   ],
   "source": []
  }
 ],
 "metadata": {
  "kernelspec": {
   "display_name": "Python 3",
   "language": "python",
   "name": "python3"
  },
  "language_info": {
   "codemirror_mode": {
    "name": "ipython",
    "version": 3
   },
   "file_extension": ".py",
   "mimetype": "text/x-python",
   "name": "python",
   "nbconvert_exporter": "python",
   "pygments_lexer": "ipython3",
   "version": "3.12.0"
  }
 },
 "nbformat": 4,
 "nbformat_minor": 2
}
