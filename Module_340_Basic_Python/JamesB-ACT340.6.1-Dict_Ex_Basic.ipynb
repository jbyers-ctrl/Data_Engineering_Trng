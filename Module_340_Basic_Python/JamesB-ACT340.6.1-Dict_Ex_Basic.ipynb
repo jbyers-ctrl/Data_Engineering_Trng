{
 "cells": [
  {
   "cell_type": "markdown",
   "metadata": {},
   "source": [
    "## Problem 1\n",
    "- Use the following states and capitals to create dictionary objects.\n",
    "\n",
    "    - Los Angeles, California\n",
    "\n",
    "    - Albany, New York\n",
    "\n",
    "    - Honolulu, Hawaii\n",
    "\n",
    "    - Juneau, Alaska\n",
    "\n",
    "    - Austin, Texas\n",
    "\n",
    "- Create a Dictionary object with the {} bracket notation where the States are the Keys and the Capitals are the values.\n",
    "- Create a Dictionary object with built-in dict() function where the States are the Keys and the Capitals are the values.\n",
    "- Use the type() method to check the object type of each object\n",
    "- Print each object to see all the key:value pairs in the dictionary"
   ]
  },
  {
   "cell_type": "code",
   "execution_count": 10,
   "metadata": {},
   "outputs": [
    {
     "name": "stdout",
     "output_type": "stream",
     "text": [
      "California : Los Angeles\n",
      "New York : Albany\n",
      "Hawaii : Honolulu\n",
      "Alaska : Juneau\n",
      "Texas : Austin\n"
     ]
    }
   ],
   "source": [
    "states = ['California', 'New York', 'Hawaii', 'Alaska', 'Texas']\n",
    "capitals = ['Los Angeles', 'Albany', 'Honolulu', 'Juneau', 'Austin']\n",
    "\n",
    "state_caps = dict(zip(states, capitals))\n",
    "for k, v in state_caps.items():\n",
    "    print(k,\":\", v)"
   ]
  },
  {
   "cell_type": "markdown",
   "metadata": {},
   "source": [
    "### Accessing Keys and Values in a Dictionary"
   ]
  },
  {
   "cell_type": "code",
   "execution_count": 11,
   "metadata": {},
   "outputs": [
    {
     "name": "stdout",
     "output_type": "stream",
     "text": [
      "Los Angeles\n",
      "Albany\n",
      "Honolulu\n"
     ]
    }
   ],
   "source": [
    "print(state_caps['California'])\n",
    "print(state_caps['New York'])\n",
    "print(state_caps['Hawaii'])"
   ]
  },
  {
   "cell_type": "markdown",
   "metadata": {},
   "source": [
    "Adding an entry to an existing dict"
   ]
  },
  {
   "cell_type": "code",
   "execution_count": 12,
   "metadata": {},
   "outputs": [
    {
     "data": {
      "text/plain": [
       "{'California': 'Los Angeles',\n",
       " 'New York': 'Albany',\n",
       " 'Hawaii': 'Honolulu',\n",
       " 'Alaska': 'Juneau',\n",
       " 'Texas': 'Austin',\n",
       " 'South Carolina': 'Columbia'}"
      ]
     },
     "execution_count": 12,
     "metadata": {},
     "output_type": "execute_result"
    }
   ],
   "source": [
    "state_caps['South Carolina'] = \"Columbia\"\n",
    "state_caps"
   ]
  },
  {
   "cell_type": "markdown",
   "metadata": {},
   "source": [
    "Updating an entry"
   ]
  },
  {
   "cell_type": "code",
   "execution_count": 13,
   "metadata": {},
   "outputs": [
    {
     "data": {
      "text/plain": [
       "{'California': 'Los Angeles',\n",
       " 'New York': 'Albany',\n",
       " 'Hawaii': 'No Capital',\n",
       " 'Alaska': 'Juneau',\n",
       " 'Texas': 'Austin',\n",
       " 'South Carolina': 'Columbia'}"
      ]
     },
     "execution_count": 13,
     "metadata": {},
     "output_type": "execute_result"
    }
   ],
   "source": [
    "state_caps['Hawaii'] = 'No Capital'\n",
    "state_caps"
   ]
  },
  {
   "cell_type": "markdown",
   "metadata": {},
   "source": [
    "Delete an entry"
   ]
  },
  {
   "cell_type": "code",
   "execution_count": 14,
   "metadata": {},
   "outputs": [
    {
     "data": {
      "text/plain": [
       "{'California': 'Los Angeles',\n",
       " 'New York': 'Albany',\n",
       " 'Alaska': 'Juneau',\n",
       " 'Texas': 'Austin',\n",
       " 'South Carolina': 'Columbia'}"
      ]
     },
     "execution_count": 14,
     "metadata": {},
     "output_type": "execute_result"
    }
   ],
   "source": [
    "del state_caps['Hawaii']\n",
    "state_caps"
   ]
  },
  {
   "cell_type": "markdown",
   "metadata": {},
   "source": [
    "## Problem 2\n",
    "\n",
    "Use a dictionary object from Problem 1 to complete the following:\n",
    "\n",
    "- Retrieve the value for the key 'California'\n",
    "- Add the State: Capital pair for Florida to the dictionary\n",
    "- Update the capital of California to 'Sacremento'\n",
    "- Delete Alaska from the Dictionary"
   ]
  },
  {
   "cell_type": "markdown",
   "metadata": {},
   "source": [
    "Dictionary Methods"
   ]
  },
  {
   "cell_type": "code",
   "execution_count": 15,
   "metadata": {},
   "outputs": [
    {
     "data": {
      "text/plain": [
       "{'fruits': ['apples', 'blueberries', 'strawberries'],\n",
       " 'vegetables': ['broccoli', 'cauliflower'],\n",
       " 'meat': 'chicken'}"
      ]
     },
     "execution_count": 15,
     "metadata": {},
     "output_type": "execute_result"
    }
   ],
   "source": [
    "grocery_list= {'fruits': ['apples', 'blueberries', 'strawberries'],\n",
    "               'vegetables': ['broccoli', 'cauliflower'], 'meat': 'chicken'}\n",
    "\n",
    "grocery_list"
   ]
  },
  {
   "cell_type": "markdown",
   "metadata": {},
   "source": [
    ".get()"
   ]
  },
  {
   "cell_type": "code",
   "execution_count": 17,
   "metadata": {},
   "outputs": [
    {
     "name": "stdout",
     "output_type": "stream",
     "text": [
      "['apples', 'blueberries', 'strawberries']\n",
      "None\n",
      "whatever you want\n"
     ]
    }
   ],
   "source": [
    "print(grocery_list.get('fruits'))\n",
    "print(grocery_list.get('dairy')) # Returns None by default\n",
    "print(grocery_list.get('dairy', 'whatever you want')) # Returns whatever you want as a 2nd argument"
   ]
  },
  {
   "cell_type": "markdown",
   "metadata": {},
   "source": [
    ".items()"
   ]
  },
  {
   "cell_type": "code",
   "execution_count": 19,
   "metadata": {},
   "outputs": [
    {
     "name": "stdout",
     "output_type": "stream",
     "text": [
      "[('fruits', ['apples', 'blueberries', 'strawberries']), ('vegetables', ['broccoli', 'cauliflower']), ('meat', 'chicken')]\n",
      "vegetables\n",
      "['broccoli', 'cauliflower']\n",
      "broccoli\n"
     ]
    }
   ],
   "source": [
    "grocery_list.items()\n",
    "print(list(grocery_list.items()))\n",
    "print(list(grocery_list.items())[1][0])\n",
    "print(list(grocery_list.items())[1][1])\n",
    "print(list(grocery_list.items())[1][1][0])"
   ]
  },
  {
   "cell_type": "markdown",
   "metadata": {},
   "source": [
    ".keys()"
   ]
  },
  {
   "cell_type": "code",
   "execution_count": 21,
   "metadata": {},
   "outputs": [
    {
     "name": "stdout",
     "output_type": "stream",
     "text": [
      "dict_keys(['fruits', 'vegetables', 'meat'])\n",
      "['fruits', 'vegetables', 'meat']\n",
      "dict_keys(['California', 'New York', 'Alaska', 'Texas', 'South Carolina'])\n",
      "['California', 'New York', 'Alaska', 'Texas', 'South Carolina']\n"
     ]
    }
   ],
   "source": [
    "print(grocery_list.keys()) # returns a a view object of all the keys in a dictionary\n",
    "print(list(grocery_list.keys())) # turn it into a list object to fully utilize the method\n",
    "print(state_caps.keys()) # returns a a view object of all the keys in a dictionary\n",
    "print(list(state_caps.keys())) # turn it into a list object to fully utilize the method"
   ]
  },
  {
   "cell_type": "markdown",
   "metadata": {},
   "source": [
    ".values()"
   ]
  },
  {
   "cell_type": "code",
   "execution_count": 23,
   "metadata": {},
   "outputs": [
    {
     "name": "stdout",
     "output_type": "stream",
     "text": [
      "dict_values([['apples', 'blueberries', 'strawberries'], ['broccoli', 'cauliflower'], 'chicken'])\n",
      "[['apples', 'blueberries', 'strawberries'], ['broccoli', 'cauliflower'], 'chicken']\n",
      "dict_values(['Los Angeles', 'Albany', 'Juneau', 'Austin', 'Columbia'])\n",
      "['Los Angeles', 'Albany', 'Juneau', 'Austin', 'Columbia']\n"
     ]
    }
   ],
   "source": [
    "print(grocery_list.values()) # returns the values of the dictionary\n",
    "print(list(grocery_list.values())) # returns the values of the dictionary, as a list\n",
    "print(state_caps.values()) # returns a a view object of all the values in a dictionary\n",
    "print(list(state_caps.values())) # turn it into a list object to fully utilize the method"
   ]
  },
  {
   "cell_type": "markdown",
   "metadata": {},
   "source": [
    ".pop()"
   ]
  },
  {
   "cell_type": "code",
   "execution_count": null,
   "metadata": {},
   "outputs": [
    {
     "name": "stdout",
     "output_type": "stream",
     "text": [
      "chicken\n",
      "{'fruits': ['apples', 'blueberries', 'strawberries'], 'vegetables': ['broccoli', 'cauliflower']}\n"
     ]
    }
   ],
   "source": [
    "print(grocery_list.pop('meat')) # remove the element from the dictionary by dict key & return the value related to the removed key\n",
    "grocery_list"
   ]
  },
  {
   "cell_type": "markdown",
   "metadata": {},
   "source": [
    ".popitem()"
   ]
  },
  {
   "cell_type": "code",
   "execution_count": null,
   "metadata": {},
   "outputs": [
    {
     "name": "stdout",
     "output_type": "stream",
     "text": [
      "('vegetables', ['broccoli', 'cauliflower'])\n"
     ]
    },
    {
     "data": {
      "text/plain": [
       "{'fruits': ['apples', 'blueberries', 'strawberries']}"
      ]
     },
     "execution_count": 25,
     "metadata": {},
     "output_type": "execute_result"
    }
   ],
   "source": [
    "print(grocery_list.popitem()) # removes the last key-value pair added to a dictionary & returns it as a tuple\n",
    "grocery_list"
   ]
  },
  {
   "cell_type": "markdown",
   "metadata": {},
   "source": [
    "### Looping trhough a Dictionary\n",
    "A python dictionary can be empty, contain just a few key:value pairs, or millions of pairs. An efficient way to access large amounts of data within a Python Dictionary is using a 'for loop'. We can loop through all of the key:value pairs, through its keys, or through its values.\n",
    "\n",
    "We will use the dictionary below for the examples in this section. Each key is the name of a person and each value is their favorite video game."
   ]
  },
  {
   "cell_type": "code",
   "execution_count": 27,
   "metadata": {},
   "outputs": [],
   "source": [
    "fav_vgame= {'Andrea': 'Stardew Valley',\n",
    "            'Bill': 'Super Smash Bros',\n",
    "            'Tom': 'God of War',\n",
    "            'Jose': 'Hogwarts Legacy',\n",
    "            'Mina': 'Pokemon Gold'}"
   ]
  },
  {
   "cell_type": "code",
   "execution_count": 28,
   "metadata": {},
   "outputs": [
    {
     "name": "stdout",
     "output_type": "stream",
     "text": [
      "Andrea\n",
      "Bill\n",
      "Tom\n",
      "Jose\n",
      "Mina\n",
      "andrea\n",
      "bill\n",
      "tom\n",
      "jose\n",
      "mina\n"
     ]
    }
   ],
   "source": [
    "for key in fav_vgame:\n",
    "  print(key)\n",
    "\n",
    "for key in fav_vgame.keys():\n",
    "  print(key.lower())"
   ]
  },
  {
   "cell_type": "code",
   "execution_count": 29,
   "metadata": {},
   "outputs": [
    {
     "name": "stdout",
     "output_type": "stream",
     "text": [
      "Andrea\n",
      "Bill\n",
      "Jose\n",
      "Mina\n",
      "Tom\n"
     ]
    }
   ],
   "source": [
    "for key in sorted(fav_vgame):\n",
    "  print(key)"
   ]
  },
  {
   "cell_type": "code",
   "execution_count": 30,
   "metadata": {},
   "outputs": [
    {
     "name": "stdout",
     "output_type": "stream",
     "text": [
      "Stardew Valley\n",
      "Super Smash Bros\n",
      "God of War\n",
      "Hogwarts Legacy\n",
      "Pokemon Gold\n"
     ]
    }
   ],
   "source": [
    "for values in fav_vgame.values():\n",
    "  print(values)"
   ]
  },
  {
   "cell_type": "code",
   "execution_count": 31,
   "metadata": {},
   "outputs": [
    {
     "name": "stdout",
     "output_type": "stream",
     "text": [
      "\n",
      "Key: Andrea\n",
      "Value: Stardew Valley\n",
      "\n",
      "Key: Bill\n",
      "Value: Super Smash Bros\n",
      "\n",
      "Key: Tom\n",
      "Value: God of War\n",
      "\n",
      "Key: Jose\n",
      "Value: Hogwarts Legacy\n",
      "\n",
      "Key: Mina\n",
      "Value: Pokemon Gold\n"
     ]
    }
   ],
   "source": [
    "for key, value in fav_vgame.items():\n",
    "  print(f\"\\nKey: {key}\") #the key inside the curly brackets comes from our key iterator in the for loop\n",
    "  print(f\"Value: {value}\") #the value inside the curly brackets comes from our value iterator in the for loop"
   ]
  },
  {
   "cell_type": "markdown",
   "metadata": {},
   "source": [
    "## Problem 3\n",
    "\n",
    "Use the dictionary methods and for loop examples above to complete the following task:\n",
    "\n",
    "- Create a dictionary object called 'playlist' with a minimum of 6 key:value pairs.\n",
    "    - Each Key in the dictionary should be an artist name\n",
    "    - Each Value should be a corresponding song by that artist\n",
    "- Use a for loop to create a print statement that prints all the artists in the playlist\n",
    "- Use a for loop to create a print statment that prints all the songs in the playlist\n",
    "- Use a for loop to create a print statement that says: \"(Song Name) by (Artist) is in the current playlist.\"\n",
    "- Remove the last Key:Value pair from the Dictionary\n",
    "- Add the song \"Anti-Hero\" by Taylor Swift to your playlist.\n",
    "- Overwrite one of your songs to have REMIX in front of the song title\n",
    "- Define & call a function that will print all the artists and songs from the object you pass into it."
   ]
  },
  {
   "cell_type": "code",
   "execution_count": 33,
   "metadata": {},
   "outputs": [],
   "source": [
    "playlist = {\"Beyoncé\": \"Halo\",\n",
    "    \"Usher\": \"Yeah!\",\n",
    "    \"Alicia Keys\": \"Fallin'\",\n",
    "    \"The Weeknd\": \"Blinding Lights\",\n",
    "    \"Mary J. Blige\": \"Family Affair\",\n",
    "    \"Chris Brown\": \"With You\"}"
   ]
  },
  {
   "cell_type": "code",
   "execution_count": 34,
   "metadata": {},
   "outputs": [
    {
     "name": "stdout",
     "output_type": "stream",
     "text": [
      "Beyoncé\n",
      "Usher\n",
      "Alicia Keys\n",
      "The Weeknd\n",
      "Mary J. Blige\n",
      "Chris Brown\n"
     ]
    }
   ],
   "source": [
    "# all artists\n",
    "for key in playlist:\n",
    "    print(key)"
   ]
  },
  {
   "cell_type": "code",
   "execution_count": 35,
   "metadata": {},
   "outputs": [
    {
     "name": "stdout",
     "output_type": "stream",
     "text": [
      "Halo\n",
      "Yeah!\n",
      "Fallin'\n",
      "Blinding Lights\n",
      "Family Affair\n",
      "With You\n"
     ]
    }
   ],
   "source": [
    "# all songs\n",
    "for value in playlist.values():\n",
    "    print(value)"
   ]
  },
  {
   "cell_type": "code",
   "execution_count": 36,
   "metadata": {},
   "outputs": [
    {
     "name": "stdout",
     "output_type": "stream",
     "text": [
      "Halo by Beyoncé is in the current playlist.\n",
      "Yeah! by Usher is in the current playlist.\n",
      "Fallin' by Alicia Keys is in the current playlist.\n",
      "Blinding Lights by The Weeknd is in the current playlist.\n",
      "Family Affair by Mary J. Blige is in the current playlist.\n",
      "With You by Chris Brown is in the current playlist.\n"
     ]
    }
   ],
   "source": [
    "# print statement\n",
    "for k, v in playlist.items():\n",
    "    print(f\"{v} by {k} is in the current playlist.\")"
   ]
  },
  {
   "cell_type": "code",
   "execution_count": 37,
   "metadata": {},
   "outputs": [
    {
     "data": {
      "text/plain": [
       "{'Beyoncé': 'Halo',\n",
       " 'Usher': 'Yeah!',\n",
       " 'Alicia Keys': \"Fallin'\",\n",
       " 'The Weeknd': 'Blinding Lights',\n",
       " 'Mary J. Blige': 'Family Affair'}"
      ]
     },
     "execution_count": 37,
     "metadata": {},
     "output_type": "execute_result"
    }
   ],
   "source": [
    "# remove the last k:v pair\n",
    "playlist.popitem()\n",
    "playlist"
   ]
  },
  {
   "cell_type": "code",
   "execution_count": 38,
   "metadata": {},
   "outputs": [
    {
     "data": {
      "text/plain": [
       "{'Beyoncé': 'Halo',\n",
       " 'Usher': 'Yeah!',\n",
       " 'Alicia Keys': \"Fallin'\",\n",
       " 'The Weeknd': 'Blinding Lights',\n",
       " 'Mary J. Blige': 'Family Affair',\n",
       " 'Taylor Swift': 'Anti-Hero'}"
      ]
     },
     "execution_count": 38,
     "metadata": {},
     "output_type": "execute_result"
    }
   ],
   "source": [
    "playlist[\"Taylor Swift\"] = \"Anti-Hero\"\n",
    "playlist"
   ]
  },
  {
   "cell_type": "code",
   "execution_count": 39,
   "metadata": {},
   "outputs": [
    {
     "data": {
      "text/plain": [
       "{'Beyoncé': 'Halo',\n",
       " 'Usher': \"REMIX 'Yeah!'\",\n",
       " 'Alicia Keys': \"Fallin'\",\n",
       " 'The Weeknd': 'Blinding Lights',\n",
       " 'Mary J. Blige': 'Family Affair',\n",
       " 'Taylor Swift': 'Anti-Hero'}"
      ]
     },
     "execution_count": 39,
     "metadata": {},
     "output_type": "execute_result"
    }
   ],
   "source": [
    "playlist[\"Usher\"] = \"REMIX 'Yeah!'\"\n",
    "playlist"
   ]
  },
  {
   "cell_type": "code",
   "execution_count": 42,
   "metadata": {},
   "outputs": [
    {
     "name": "stdout",
     "output_type": "stream",
     "text": [
      "Halo by Beyoncé\n",
      "REMIX 'Yeah!' by Usher\n",
      "Fallin' by Alicia Keys\n",
      "Blinding Lights by The Weeknd\n",
      "Family Affair by Mary J. Blige\n",
      "Anti-Hero by Taylor Swift\n",
      "None\n"
     ]
    }
   ],
   "source": [
    "def playlist_funct(play_list):\n",
    "    for artist, song in play_list.items():\n",
    "        print(f\"{song} by {artist}\")\n",
    "    \n",
    "\n",
    "print(playlist_funct(playlist))"
   ]
  }
 ],
 "metadata": {
  "kernelspec": {
   "display_name": "Python 3",
   "language": "python",
   "name": "python3"
  },
  "language_info": {
   "codemirror_mode": {
    "name": "ipython",
    "version": 3
   },
   "file_extension": ".py",
   "mimetype": "text/x-python",
   "name": "python",
   "nbconvert_exporter": "python",
   "pygments_lexer": "ipython3",
   "version": "3.12.0"
  }
 },
 "nbformat": 4,
 "nbformat_minor": 2
}
