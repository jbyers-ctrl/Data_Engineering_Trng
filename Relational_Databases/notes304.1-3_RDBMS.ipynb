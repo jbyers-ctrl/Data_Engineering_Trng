{
 "cells": [
  {
   "cell_type": "markdown",
   "id": "c6408acc",
   "metadata": {},
   "source": [
    "# Lesson 304.1 Intro to RDBMS, Data Modeling and Normalization\n",
    "## Learning Objectives\n",
    "- Describe the DBMS and RDBMs concepts.\n",
    "- Describe the different relationships in RDBMS.\n",
    "- Define database standards.\n",
    "- Describe the Data Modeling concept, including ERD. \n",
    "- Describe the normalization and ACID database properties.\n",
    "- Define SQL.\n"
   ]
  },
  {
   "cell_type": "markdown",
   "id": "9b48be2d",
   "metadata": {},
   "source": [
    "## Knowledge Check\n",
    "1. What is DBMS?\n",
    "1. What is RDBMS?\n",
    "1. What is Normalization?\n",
    "1. What is data redundancy?\n",
    "1. What is ERD, and why do we need it?\n"
   ]
  },
  {
   "cell_type": "markdown",
   "id": "adb3262f",
   "metadata": {},
   "source": [
    "## Summary\n",
    "- The Relational Database Management System represents the database as a collection of relations (tables). Attribute, Tables, Tuple, Relation Schema, Degree, Cardinality, Column, and Relation instance, are some important components of Relational Database Modeling. \n",
    "- Data Integrity constraints are referred to as conditions, which must be present for a valid Relation approach in DBMS.\n",
    "- Domain constraints can be violated if an attribute value is not appearing in the corresponding domain, or if it is not of the appropriate data type.\n",
    "- Insert, Select, Modify, and Delete are the operations performed in Relational Database Model Diagram constraints.\n",
    "- The relational database is only concerned with data and not with a structure, which can improve the performance of the model.\n",
    "- Advantages of the Relational Data Model Diagram in DBMS are simplicity, structural independence, ease of use, query capability, data independence, scalability, etc.\n",
    "- Few relational databases have limits on field lengths, which cannot be exceeded.\n",
    "- SQL is a language that is used to manage data that is held in a relational database management system. It uses tables to manipulate and retrieve information from databases for analysis.\n"
   ]
  },
  {
   "cell_type": "markdown",
   "id": "ceef8395",
   "metadata": {},
   "source": [
    "***"
   ]
  },
  {
   "cell_type": "markdown",
   "id": "7906e7a4",
   "metadata": {},
   "source": [
    "# Lesson 304.2 Intro to SQL Language\n",
    "## Learning Objectives:\n",
    "- Describe the SQL language and MySQL.\n",
    "- Demonstrate how to install and configure MySQL.\n",
    "- Download and import data into MySQL.\n",
    "- Describe DQL, DML, DCL and TCL.\n",
    "- Utilize DQL, DML, DCL and TCL.\n"
   ]
  },
  {
   "cell_type": "markdown",
   "id": "44f396bc",
   "metadata": {},
   "source": [
    "## Knowledge Check\n",
    "1. What is SQL? What is the full form of SQL?\n",
    "1. What is MySQL? \n",
    "1. What are the sublanguages of SQL?\n",
    "1. What does DML stand for?\n",
    "1. Can you INSERT data from one table into another table? If so, how?\n",
    "1. The SQL statement that queries or reads data from a table is __________ .\n",
    "    - USE\n",
    "    - SELECT\n",
    "    - READ\n",
    "    - QUERY\n",
    "1. What happens if you do not have a WHERE clause in an UPDATE statement?\n",
    "1. What is DCL? Provide an explanation of some of the commands.\n",
    "1. What is TCL? Provide an explanation of some of the commands.\n",
    "1. Which SQL statement is used to return only different values?\n",
    "    - SELECT DISTINCT\n",
    "    - SELECT UNIQUE\n",
    "    - SELECT DIFF\n",
    "    - SELECT DIFFERENT\n",
    "\n",
    "1. Which SQL statement is used to update data in a database?\n",
    "    - MODIFY\n",
    "    - ALTER\n",
    "    - SAVE\n",
    "    - UPDATE\n"
   ]
  },
  {
   "cell_type": "markdown",
   "id": "7d30a9db",
   "metadata": {},
   "source": [
    "## Summary\n",
    "- Structured Query Language (SQL) is a programming language designed to get information out of and into a relational database. Queries are constructed from a command language that lets you select, insert, update, and locate data. SQL is both an American National Standards Institute (ANSI) and an International Standards Organization (ISO) standard although many databases support SQL with proprietary extensions.\n",
    "\n",
    "- The SQL commands are mainly categorized as follows: \n",
    "    1. DDL – Data Definition Language.\n",
    "    1. DQl – Data Query Language.\n",
    "    1. DML – Data Manipulation Language.\n",
    "    1. DCL – Data Control Language.\n"
   ]
  },
  {
   "cell_type": "markdown",
   "id": "ccad1ea6",
   "metadata": {},
   "source": [
    "***"
   ]
  },
  {
   "cell_type": "markdown",
   "id": "ef8c0b67",
   "metadata": {},
   "source": [
    "# Lesson 304.3 Data Definition Language and Data Integrity\n",
    "## Learning Objectives:\n",
    "- Describe Data Definition Language.\n",
    "    - helps you to define the database structure and schema (tables, table fields, table constraints, and data integrity).\n",
    "    - The DDL statements are CREATE, ALTER, and DROP.\n",
    "- Demonstrate how to create a database in SQL.\n",
    "- Demonstrate how to create tables in a database.\n",
    "- Identify the Data Integrity and Data Types.\n",
    "- Describe Data Integrity and Data Integrity Constraints.\n"
   ]
  },
  {
   "cell_type": "markdown",
   "id": "029b2539",
   "metadata": {},
   "source": [
    "### Knowledge Check\n",
    "1. What are Referential Integrity constraints in MySQL?\n",
    "1. What is a Primary Key constraint in MySQL ?\n",
    "1. What is a Unique Key constraint in MySQL?\n",
    "1. What qualities maximize the value of a database?\n",
    "1. What is the difference between a Primary Key constraint and a Unique Key constraint?\n",
    "1. What is a Composite Key?\n"
   ]
  },
  {
   "cell_type": "markdown",
   "id": "4798da09",
   "metadata": {},
   "source": [
    "## Summary\n",
    "- Constraints can be specified when a table is created with the CREATE TABLE statement, or you can use the ALTER TABLE statement to create constraints even after the table is created.\n",
    "Integrity constraints are used to ensure the accuracy and consistency of the data in a relational database. There are four categories of data integrity constraints enforced by a database: 1) domain, 2) entity, 3) referential, and 4) user-defined.\n",
    "- Some of the most commonly used constraints available in SQL include: \n",
    "    - NOT NULL Constraint − Ensures that a column cannot have a NULL value.\n",
    "    - DEFAULT Constraint − Provides a default value for a column when none is specified.\n",
    "    - UNIQUE Constraint − Ensures that all values in a column are different.\n",
    "    - PRIMARY Key − Uniquely identifies each row/record in a database table.\n",
    "    - FOREIGN Key − Uniquely identifies a row/record in any of the given database tables.\n",
    "    - CHECK Constraint − Ensures that all of the values in a column satisfy certain conditions.\n",
    "    - INDEX − Used to create and retrieve data from the database very quickly.\n",
    "- The SQL CREATE DATABASE statement is used to create a new SQL database, and the SQL CREATE TABLE statement is used to create a new table. SQL Data Types are attributes that specify the type of data of any object.\n"
   ]
  },
  {
   "cell_type": "markdown",
   "id": "844f8406",
   "metadata": {},
   "source": [
    "***"
   ]
  },
  {
   "cell_type": "markdown",
   "id": "f2869d40",
   "metadata": {},
   "source": [
    "# Lesson 304.4 SQL Clauses\n",
    "## Learning Objectives:\n",
    "- Describe the Order By, Group By, Having, and Limit clauses. \n",
    "- Explain the Like and Between Operators.\n",
    "- Demonstrate the Order By, Group By, Having, and Limit clauses.\n"
   ]
  },
  {
   "cell_type": "markdown",
   "id": "1a2af22d",
   "metadata": {},
   "source": [
    "## Knowledge Check\n",
    "- How does the ORDER BY Clause work in SQL?\n",
    "- When do we use a HAVING clause?\n",
    "- Which is the default order of Sort in the ORDER BY Clause?\n",
    "- What is the meaning of the GROUP BY Clause in Mysql?\n",
    "- What SQL clause is used to restrict the rows returned by a query?\n",
    "- What is the difference between the percent sign (%) and the underscore (_) for pattern matching (e.g. in the LIKE operator)?\n"
   ]
  },
  {
   "cell_type": "markdown",
   "id": "2334b6a3",
   "metadata": {},
   "source": [
    "## Summary\n",
    "- The MySQL ORDER BY clause is used to sort the records in a result set. The MySQL WHERE clause is used to filter the results from a SELECT, INSERT, UPDATE, or DELETE statement.\n",
    "- The MySQL GROUP BY clause is used in a SELECT statement to collect data across multiple records and group the results by one or more columns.\n",
    "- The MySQL HAVING clause is used in combination with the GROUP BY clause to restrict the groups of returned rows to only those whose condition is TRUE.\n",
    "- The MySQL LIMIT clause is used to retrieve records from one or more tables in MySQL and limit the number of records returned based on a limit value.\n",
    "- The MySQL BETWEEN Condition is used to retrieve values within a range in a SELECT, INSERT, UPDATE, or DELETE statement.\n",
    "- The MySQL LIKE condition allows wildcards to be used in the WHERE clause of a SELECT, INSERT, UPDATE, or DELETE statement. This allows you to perform pattern matching.\n",
    "- MySQL system clauses are keywords or statements to handle information. It helps to operate a group of the data and apply it to required conditions. The clauses apply conditions or select patterns to get information. MySQL clauses are not used to insert new data. You retrieve data using several clauses. The table uses either single or multiple clauses.\n"
   ]
  }
 ],
 "metadata": {
  "kernelspec": {
   "display_name": ".zulu",
   "language": "python",
   "name": "python3"
  },
  "language_info": {
   "codemirror_mode": {
    "name": "ipython",
    "version": 3
   },
   "file_extension": ".py",
   "mimetype": "text/x-python",
   "name": "python",
   "nbconvert_exporter": "python",
   "pygments_lexer": "ipython3",
   "version": "3.10.12"
  }
 },
 "nbformat": 4,
 "nbformat_minor": 5
}
