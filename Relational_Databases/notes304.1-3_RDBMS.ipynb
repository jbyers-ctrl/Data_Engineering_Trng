{
 "cells": [
  {
   "cell_type": "markdown",
   "id": "c6408acc",
   "metadata": {},
   "source": [
    "# Lesson 304.1 Intro to RDBMS, Data Modeling and Normalization\n",
    "## Learning Objectives\n",
    "- Describe the DBMS and RDBMs concepts.\n",
    "- Describe the different relationships in RDBMS.\n",
    "- Define database standards.\n",
    "- Describe the Data Modeling concept, including ERD. \n",
    "- Describe the normalization and ACID database properties.\n",
    "- Define SQL.\n"
   ]
  },
  {
   "cell_type": "markdown",
   "id": "9b48be2d",
   "metadata": {},
   "source": [
    "## Knowledge Check\n",
    "1. What is DBMS?\n",
    "1. What is RDBMS?\n",
    "1. What is Normalization?\n",
    "1. What is data redundancy?\n",
    "1. What is ERD, and why do we need it?\n"
   ]
  },
  {
   "cell_type": "markdown",
   "id": "adb3262f",
   "metadata": {},
   "source": [
    "## Summary\n",
    "- The Relational Database Management System represents the database as a collection of relations (tables). Attribute, Tables, Tuple, Relation Schema, Degree, Cardinality, Column, and Relation instance, are some important components of Relational Database Modeling. \n",
    "- Data Integrity constraints are referred to as conditions, which must be present for a valid Relation approach in DBMS.\n",
    "- Domain constraints can be violated if an attribute value is not appearing in the corresponding domain, or if it is not of the appropriate data type.\n",
    "- Insert, Select, Modify, and Delete are the operations performed in Relational Database Model Diagram constraints.\n",
    "- The relational database is only concerned with data and not with a structure, which can improve the performance of the model.\n",
    "- Advantages of the Relational Data Model Diagram in DBMS are simplicity, structural independence, ease of use, query capability, data independence, scalability, etc.\n",
    "- Few relational databases have limits on field lengths, which cannot be exceeded.\n",
    "- SQL is a language that is used to manage data that is held in a relational database management system. It uses tables to manipulate and retrieve information from databases for analysis.\n"
   ]
  },
  {
   "cell_type": "markdown",
   "id": "ceef8395",
   "metadata": {},
   "source": [
    "***"
   ]
  },
  {
   "cell_type": "markdown",
   "id": "7906e7a4",
   "metadata": {},
   "source": [
    "# Lesson 304.2 Intro to SQL Language\n",
    "## Learning Objectives:\n",
    "- Describe the SQL language and MySQL.\n",
    "- Demonstrate how to install and configure MySQL.\n",
    "- Download and import data into MySQL.\n",
    "- Describe DQL, DML, DCL and TCL.\n",
    "- Utilize DQL, DML, DCL and TCL.\n"
   ]
  },
  {
   "cell_type": "markdown",
   "id": "44f396bc",
   "metadata": {},
   "source": [
    "## Knowledge Check\n",
    "1. What is SQL? What is the full form of SQL?\n",
    "1. What is MySQL? \n",
    "1. What are the sublanguages of SQL?\n",
    "1. What does DML stand for?\n",
    "1. Can you INSERT data from one table into another table? If so, how?\n",
    "1. The SQL statement that queries or reads data from a table is __________ .\n",
    "    - USE\n",
    "    - SELECT\n",
    "    - READ\n",
    "    - QUERY\n",
    "1. What happens if you do not have a WHERE clause in an UPDATE statement?\n",
    "1. What is DCL? Provide an explanation of some of the commands.\n",
    "1. What is TCL? Provide an explanation of some of the commands.\n",
    "1. Which SQL statement is used to return only different values?\n",
    "    - SELECT DISTINCT\n",
    "    - SELECT UNIQUE\n",
    "    - SELECT DIFF\n",
    "    - SELECT DIFFERENT\n",
    "\n",
    "1. Which SQL statement is used to update data in a database?\n",
    "    - MODIFY\n",
    "    - ALTER\n",
    "    - SAVE\n",
    "    - UPDATE\n"
   ]
  },
  {
   "cell_type": "markdown",
   "id": "7d30a9db",
   "metadata": {},
   "source": [
    "## Summary\n",
    "- Structured Query Language (SQL) is a programming language designed to get information out of and into a relational database. Queries are constructed from a command language that lets you select, insert, update, and locate data. SQL is both an American National Standards Institute (ANSI) and an International Standards Organization (ISO) standard although many databases support SQL with proprietary extensions.\n",
    "\n",
    "- The SQL commands are mainly categorized as follows: \n",
    "    1. DDL – Data Definition Language.\n",
    "    1. DQl – Data Query Language.\n",
    "    1. DML – Data Manipulation Language.\n",
    "    1. DCL – Data Control Language.\n"
   ]
  }
 ],
 "metadata": {
  "kernelspec": {
   "display_name": ".zulu",
   "language": "python",
   "name": "python3"
  },
  "language_info": {
   "codemirror_mode": {
    "name": "ipython",
    "version": 3
   },
   "file_extension": ".py",
   "mimetype": "text/x-python",
   "name": "python",
   "nbconvert_exporter": "python",
   "pygments_lexer": "ipython3",
   "version": "3.10.12"
  }
 },
 "nbformat": 4,
 "nbformat_minor": 5
}
