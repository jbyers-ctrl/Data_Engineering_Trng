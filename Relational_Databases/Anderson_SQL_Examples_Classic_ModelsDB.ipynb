{
 "cells": [
  {
   "cell_type": "markdown",
   "id": "1a18f05c",
   "metadata": {},
   "source": [
    "### SQL Examples With Classic Models Database. These queries and questions cover a range of SQL concepts, including `JOIN`s, `GROUP BY`, `ORDER BY`, aggregate functions, and `CASE` statements:"
   ]
  },
  {
   "cell_type": "markdown",
   "id": "f751547f",
   "metadata": {},
   "source": [
    "1. Category Based Queries \n",
    "Question: List the product lines and the number of products in each product line. Sort the output by the number of products in descending order."
   ]
  },
  {
   "cell_type": "code",
   "execution_count": null,
   "id": "31d2f059",
   "metadata": {
    "vscode": {
     "languageId": "sql"
    }
   },
   "outputs": [],
   "source": [
    "SELECT pp.productLine, COUNT(p.productCode) AS total\n",
    "FROM productlines pp\n",
    "JOIN products p ON pp.productLine = p.productLine\n",
    "GROUP BY pp.productLine\n",
    "ORDER BY total DESC;"
   ]
  },
  {
   "cell_type": "markdown",
   "id": "61f35366",
   "metadata": {},
   "source": [
    "2. Specific Month Orders  \n",
    "Question: List the order date and the number of orders placed in October of each year. Sort the output by order date in ascending order."
   ]
  },
  {
   "cell_type": "code",
   "execution_count": null,
   "id": "de76617b",
   "metadata": {
    "vscode": {
     "languageId": "sql"
    }
   },
   "outputs": [],
   "source": []
  },
  {
   "cell_type": "markdown",
   "id": "a5a93685",
   "metadata": {},
   "source": [
    "3. Customer Orders by Sales Rep  \n",
    "Question: List the sales rep's first name, last name, and the number of customers they are responsible for. Sort the output by the number of customers in descending order."
   ]
  },
  {
   "cell_type": "code",
   "execution_count": null,
   "id": "f081e6bf",
   "metadata": {
    "vscode": {
     "languageId": "sql"
    }
   },
   "outputs": [],
   "source": []
  },
  {
   "cell_type": "markdown",
   "id": "2e1319f1",
   "metadata": {},
   "source": [
    "4. Payment Average  \n",
    "Question: List the customer name and their average payment amount. Sort the output by average payment amount in descending order."
   ]
  },
  {
   "cell_type": "code",
   "execution_count": null,
   "id": "ef8d3e69",
   "metadata": {
    "vscode": {
     "languageId": "sql"
    }
   },
   "outputs": [],
   "source": []
  },
  {
   "cell_type": "markdown",
   "id": "7f8c26b2",
   "metadata": {},
   "source": [
    "5. Product Popularity \n",
    "Question: List the product name and the total quantity ordered for each product. Sort the output by the total quantity ordered in descending order."
   ]
  },
  {
   "cell_type": "code",
   "execution_count": null,
   "id": "44fbe876",
   "metadata": {
    "vscode": {
     "languageId": "sql"
    }
   },
   "outputs": [],
   "source": []
  },
  {
   "cell_type": "markdown",
   "id": "543116ee",
   "metadata": {},
   "source": [
    "6. Employee Absence \n",
    "Question: List employees who have not made any sales (i.e., they are not listed as `salesRepEmployeeNumber` for any customer)."
   ]
  },
  {
   "cell_type": "code",
   "execution_count": null,
   "id": "27b88de0",
   "metadata": {
    "vscode": {
     "languageId": "sql"
    }
   },
   "outputs": [],
   "source": []
  },
  {
   "cell_type": "markdown",
   "id": "bd36d558",
   "metadata": {},
   "source": [
    "7. Customer Orders Over Time  \n",
    "Question: List the year and the total number of orders placed in each year. Sort the output by year in ascending order."
   ]
  },
  {
   "cell_type": "code",
   "execution_count": null,
   "id": "21d0183b",
   "metadata": {
    "vscode": {
     "languageId": "sql"
    }
   },
   "outputs": [],
   "source": []
  },
  {
   "cell_type": "markdown",
   "id": "109aa5e0",
   "metadata": {},
   "source": [
    "8. Highest Average Order Amount  \n",
    "Question: Find the order with the highest total amount."
   ]
  },
  {
   "cell_type": "code",
   "execution_count": null,
   "id": "c0670f0b",
   "metadata": {
    "vscode": {
     "languageId": "sql"
    }
   },
   "outputs": [],
   "source": []
  },
  {
   "cell_type": "markdown",
   "id": "6f339abe",
   "metadata": {},
   "source": [
    "9. Order Average Amount \n",
    "Question: List the order number and the total amount for each order. Sort the output by the total amount in descending order."
   ]
  },
  {
   "cell_type": "code",
   "execution_count": null,
   "id": "b5359da9",
   "metadata": {
    "vscode": {
     "languageId": "sql"
    }
   },
   "outputs": [],
   "source": []
  }
 ],
 "metadata": {
  "kernelspec": {
   "display_name": "default",
   "language": "python",
   "name": "python3"
  },
  "language_info": {
   "name": "python",
   "version": "3.10.12"
  }
 },
 "nbformat": 4,
 "nbformat_minor": 5
}
