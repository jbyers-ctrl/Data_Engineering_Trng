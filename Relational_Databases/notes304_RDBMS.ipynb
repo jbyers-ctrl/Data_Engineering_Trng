{
 "cells": [
  {
   "cell_type": "markdown",
   "id": "c6408acc",
   "metadata": {},
   "source": [
    "# Lesson 304.1 Intro to RDBMS, Data Modeling and Normalization\n",
    "## Learning Objectives\n",
    "- Describe the DBMS and RDBMs concepts.\n",
    "    - `database management system (DBMS)` is system software for creating and managing databases. The DBMS provides users and programmers with a systematic way to create, retrieve, update, and manage data.\n",
    "        - manages three important things: \n",
    "            - The `data`.\n",
    "            - The `database engine` that allows data to be accessed, locked, and modified. \n",
    "            - The `database schema`, which defines the database’s logical structure.\n",
    "        - The above foundational elements help provide concurrency, security, data integrity, and uniformity to administration procedures. \n",
    "        - The DBMS is most useful for providing a centralized view of data that can be accessed by multiple users from multiple locations in a controlled manner.\n",
    "    - `Relational Database Management System (RDBMS)`\n",
    "        - A relational model represents data in the form of a table. A table is a two-dimensional array containing rows and columns, and each row contains data related to an entity such as a student. Each column contains the data related to a single attribute of the entity such as a student name. \n",
    "        - One of the reasons behind the success of the relational model is its `simplicity`. It is `easy to understand` the data and `easy to manipulate`.\n",
    "        - RDBMS is the basis for SQL and for all modern database systems such as MS SQL Server, IBM DB2, Oracle, MySQL, and Microsoft Access.\n",
    "- Describe the different relationships in RDBMS.\n",
    "    - Table: A table is also considered a convenient `representation of relations`. But a table can have duplicate rows of data while `a true relation cannot have duplicate data`. A table is the simplest form of data storage and includes:\n",
    "        - `Table Name:` Each table is given a name, which is used to refer to the table.\n",
    "        - `Row:` A single row in the table is called as `tuple`. Each row `represents the data of a single entity`. \n",
    "        - `Attribute/Column:` A column stores an attribute of the entity. For example, if the details of students are stored, the student name is an attribute, and the course is another attribute, and so on. Each column in the table is given a name. This name is used to refer to the value in the column. \n",
    "        - `Primary Key:` The primary key can be defined as a `set of columns used to uniquely identify rows` of a table.\n",
    "        - `Composite Key:` A `primary key, having two or more attributes` is called a composite key, which is a combination of two or more columns.\n",
    "        - `Relation Schema:` A relation schema `describes the structure of the relation` with the name of the relation (name of table) and its attributes names and types.\n",
    "- Define database standards.\n",
    "- Describe the Data Modeling concept, including ERD. \n",
    "- Describe the normalization and ACID database properties.\n",
    "- Define SQL.\n",
    "    - a domain-specific language used in programming, and designed for managing data held in an RDBMS. It is particularly useful in handling structured data (i.e., data incorporating relations among entities and variables).\n",
    "    - SQL provides statements for a variety of tasks, including:\n",
    "        - Querying data.\n",
    "        - Inserting, updating, and deleting rows in a table.\n",
    "        - Creating, replacing and altering table properties using (DML)\n",
    "        - Controlling access to the database and its objects.\n",
    "        - Guaranteeing database consistency and integrity.\n",
    "\n"
   ]
  },
  {
   "cell_type": "markdown",
   "id": "9b48be2d",
   "metadata": {},
   "source": [
    "## Knowledge Check\n",
    "1. What is DBMS?\n",
    "1. What is RDBMS?\n",
    "1. What is Normalization?\n",
    "1. What is data redundancy?\n",
    "1. What is ERD, and why do we need it?\n"
   ]
  },
  {
   "cell_type": "markdown",
   "id": "adb3262f",
   "metadata": {},
   "source": [
    "## Summary\n",
    "- The Relational Database Management System represents the database as a collection of relations (tables). Attribute, Tables, Tuple, Relation Schema, Degree, Cardinality, Column, and Relation instance, are some important components of Relational Database Modeling. \n",
    "- Data Integrity constraints are referred to as conditions, which must be present for a valid Relation approach in DBMS.\n",
    "- Domain constraints can be violated if an attribute value is not appearing in the corresponding domain, or if it is not of the appropriate data type.\n",
    "- Insert, Select, Modify, and Delete are the operations performed in Relational Database Model Diagram constraints.\n",
    "- The relational database is only concerned with data and not with a structure, which can improve the performance of the model.\n",
    "- Advantages of the Relational Data Model Diagram in DBMS are simplicity, structural independence, ease of use, query capability, data independence, scalability, etc.\n",
    "- Few relational databases have limits on field lengths, which cannot be exceeded.\n",
    "- SQL is a language that is used to manage data that is held in a relational database management system. It uses tables to manipulate and retrieve information from databases for analysis.\n"
   ]
  },
  {
   "cell_type": "markdown",
   "id": "ceef8395",
   "metadata": {},
   "source": [
    "***"
   ]
  },
  {
   "cell_type": "markdown",
   "id": "7906e7a4",
   "metadata": {},
   "source": [
    "# Lesson 304.2 Intro to SQL Language\n",
    "## Learning Objectives:\n",
    "- Describe the SQL language and MySQL.\n",
    "- Demonstrate how to install and configure MySQL.\n",
    "- Download and import data into MySQL.\n",
    "- Describe DQL, DML, DCL and TCL.\n",
    "- Utilize DQL, DML, DCL and TCL.\n"
   ]
  },
  {
   "cell_type": "markdown",
   "id": "1f5c2389",
   "metadata": {},
   "source": [
    "### SELECT Statement Syntax\n",
    "- SELECT Statement with “DQL” clause ordering:\n",
    "    - `SELECT [ALL | DISTINCT | DISTINCTROW | Columns | Expressions ] clause specifies columns. to retrieve.`\n",
    "    - `FROM clause specifies table(s) from which to retrieve.` \n",
    "    - `WHERE clause filters rows to retrieve.`\n",
    "    - `GROUP BY clause specifies how to group results.`\n",
    "    - `HAVING clause selects among groups.`\n",
    "    - `ORDER BY clause specifies the row ordering.`\n",
    "    - `LIMIT clause specifies the limits of the retrieve records.`"
   ]
  },
  {
   "cell_type": "markdown",
   "id": "44f396bc",
   "metadata": {},
   "source": [
    "## Knowledge Check\n",
    "1. What is SQL? What is the full form of SQL?\n",
    "1. What is MySQL? \n",
    "1. What are the sublanguages of SQL?\n",
    "1. What does DML stand for?\n",
    "1. Can you INSERT data from one table into another table? If so, how?\n",
    "1. The SQL statement that queries or reads data from a table is __________ .\n",
    "    - USE\n",
    "    - SELECT\n",
    "    - READ\n",
    "    - QUERY\n",
    "1. What happens if you do not have a WHERE clause in an UPDATE statement?\n",
    "1. What is DCL? Provide an explanation of some of the commands.\n",
    "1. What is TCL? Provide an explanation of some of the commands.\n",
    "1. Which SQL statement is used to return only different values?\n",
    "    - SELECT DISTINCT\n",
    "    - SELECT UNIQUE\n",
    "    - SELECT DIFF\n",
    "    - SELECT DIFFERENT\n",
    "\n",
    "1. Which SQL statement is used to update data in a database?\n",
    "    - MODIFY\n",
    "    - ALTER\n",
    "    - SAVE\n",
    "    - UPDATE\n"
   ]
  },
  {
   "cell_type": "markdown",
   "id": "7d30a9db",
   "metadata": {},
   "source": [
    "## Summary\n",
    "- Structured Query Language (SQL) is a programming language designed to get information out of and into a relational database. Queries are constructed from a command language that lets you select, insert, update, and locate data. SQL is both an American National Standards Institute (ANSI) and an International Standards Organization (ISO) standard although many databases support SQL with proprietary extensions.\n",
    "\n",
    "- The SQL commands are mainly categorized as follows: \n",
    "    1. DDL – Data Definition Language.\n",
    "    1. DQl – Data Query Language.\n",
    "    1. DML – Data Manipulation Language.\n",
    "    1. DCL – Data Control Language.\n"
   ]
  },
  {
   "cell_type": "markdown",
   "id": "ccad1ea6",
   "metadata": {},
   "source": [
    "***"
   ]
  },
  {
   "cell_type": "markdown",
   "id": "ef8c0b67",
   "metadata": {},
   "source": [
    "# Lesson 304.3 Data Definition Language and Data Integrity\n",
    "## Learning Objectives:\n",
    "- Describe Data Definition Language.\n",
    "    - helps you to define the database structure and schema (tables, table fields, table constraints, and data integrity).\n",
    "    - The DDL statements are CREATE, ALTER, and DROP.\n",
    "- Demonstrate how to create a database in SQL.\n",
    "- Demonstrate how to create tables in a database.\n",
    "- Identify the Data Integrity and Data Types.\n",
    "- Describe Data Integrity and Data Integrity Constraints.\n"
   ]
  },
  {
   "cell_type": "markdown",
   "id": "029b2539",
   "metadata": {},
   "source": [
    "### Knowledge Check\n",
    "1. What are Referential Integrity constraints in MySQL?\n",
    "1. What is a Primary Key constraint in MySQL ?\n",
    "1. What is a Unique Key constraint in MySQL?\n",
    "1. What qualities maximize the value of a database?\n",
    "1. What is the difference between a Primary Key constraint and a Unique Key constraint?\n",
    "1. What is a Composite Key?\n"
   ]
  },
  {
   "cell_type": "markdown",
   "id": "4798da09",
   "metadata": {},
   "source": [
    "## Summary\n",
    "- Constraints can be specified when a table is created with the CREATE TABLE statement, or you can use the ALTER TABLE statement to create constraints even after the table is created.\n",
    "Integrity constraints are used to ensure the accuracy and consistency of the data in a relational database. There are four categories of data integrity constraints enforced by a database: 1) domain, 2) entity, 3) referential, and 4) user-defined.\n",
    "- Some of the most commonly used constraints available in SQL include: \n",
    "    - NOT NULL Constraint − Ensures that a column cannot have a NULL value.\n",
    "    - DEFAULT Constraint − Provides a default value for a column when none is specified.\n",
    "    - UNIQUE Constraint − Ensures that all values in a column are different.\n",
    "    - PRIMARY Key − Uniquely identifies each row/record in a database table.\n",
    "    - FOREIGN Key − Uniquely identifies a row/record in any of the given database tables.\n",
    "    - CHECK Constraint − Ensures that all of the values in a column satisfy certain conditions.\n",
    "    - INDEX − Used to create and retrieve data from the database very quickly.\n",
    "- The SQL CREATE DATABASE statement is used to create a new SQL database, and the SQL CREATE TABLE statement is used to create a new table. SQL Data Types are attributes that specify the type of data of any object.\n"
   ]
  },
  {
   "cell_type": "markdown",
   "id": "844f8406",
   "metadata": {},
   "source": [
    "***"
   ]
  },
  {
   "cell_type": "markdown",
   "id": "f2869d40",
   "metadata": {},
   "source": [
    "# Lesson 304.4 SQL Clauses\n",
    "## Learning Objectives:\n",
    "- Describe the Order By, Group By, Having, and Limit clauses. \n",
    "    - Order By - Used to sort records in result set\n",
    "        - Syntax: `SELECT expressions FROM table WHERE conditions ORDER BY column1 [ASC|DESC], column2 [ASC|DESC];`\n",
    "        - Example: `SELECT contactLastname, contactFirstname FROM customers ORDER BY contactLastname DESC;`\n",
    "        - Can also use ORDER BY Clause to sort by `relative position` in the result set, where the first field is 1, & the next field is 2 etc\n",
    "    - Group By - Groups a set of rows into a set of summary rows by values of columns and returns one row for each group.\n",
    "        - Often used w/ aggregate functions such as `SUM(), AVG(), MAX(), MIN(), COUNT()` etc. Behaves like DISTINCT when used w/out aggregate functions\n",
    "        - Syntax: `SELECT c1, c2,..., cn, aggregate_function(ci) FROM table WHERE where_conditions GROUP BY c1 , c2,...,cn;`\n",
    "        - Example: `SELECT orderNumber, SUM(quantityOrdered * priceEach) AS total FROM orderdetails GROUP BY orderNumber;`\n",
    "    - Having - Used in the SELECT statement to specify filter conditions for a group of rows or aggregates.\n",
    "        - Often used w/ GROUP BY to filter groups based on specified condition. Behaves like WHERE clause if GROUP BY is omitted.\n",
    "        - Cannot use aggregate functions within the WHERE clause.\n",
    "        - Syntax: `SELECT select_list FROM table_name WHERE search_condition GROUP BY group_by_expression HAVING group_condition;`\n",
    "        - Example: `SELECT ordernumber, SUM(quantityOrdered) AS itemsCount, SUM(priceeach*quantityOrdered) AS total FROM orderdetails GROUP BY ordernumber HAVING total > 20000;`\n",
    "        - Example: `SELECT ordernumber, SUM(quantityOrdered) AS itemsCount, SUM(priceeach*quantityOrdered) AS total FROM orderdetails GROUP BY ordernumber HAVING  total > 1000 AND itemsCount > 600;`\n",
    "        - Supports subqueries\n",
    "            - Example: `Select customerNumber, avg(amount)  as avgAmount from payments p1 group by customerNumber having avg(amount) > (Select avg(amount) from payments p2) order by 2 desc;`\n",
    "    - Limit - used in the SELECT statement to constrain the number of rows to return. Accepts one or two arguments, must be zero or positive int\n",
    "        - Should always be used with ORDER BY clause\n",
    "        - Syntax: `SELECT  COLUMN_NAME   FROM  table_name LIMIT [offset, row_count];`\n",
    "            - Offset specifies the offset of the first row to return. The offset of the first row is 0, not 1.\n",
    "            - Row_count specifies the maximum number of rows to return.\n",
    "        - Example: `SELECT customerNumber, customerName, creditLimit FROM customers ORDER BY creditLimit DESC LIMIT 5, 2;`\n",
    "- Explain the Like and Between Operators.\n",
    "    - Like - Used in the WHERE clause with SELECT , DELETE, and UPDATE statements to filter data based on patterns or searches for a specified pattern in a column.\n",
    "        - Two wildcards used in conjunction with the LIKE operator:\n",
    "            - The percent sign ` % ` represents zero, one, or multiple characters. `s%` matches any string starts with the character “s” (e.g., sun or six).\n",
    "            - The underscore ` _ `  wildcard matches any single character. `se_` matches any string that starts with “se” and is followed by any character (e.g., see or sea).\n",
    "        - Example: `SELECT * FROM Customers WHERE CustomerName LIKE  'a%';`\n",
    "    - Between - Selects values (numbers, text, or dates) w/in a given range (Inclusive: begin and end values included).\n",
    "        - Syntax: `SELECT column_name(s) FROM table_name WHERE column_name BETWEEN value1 AND value2;`\n",
    "        - Example: `SELECT   productCode, productName, buyPrice FROM products WHERE  buyPrice BETWEEN 90 AND 100;`\n",
    "        - Example: `SELECT   productCode, productName, buyPrice FROM products WHERE  buyPrice NOT BETWEEN 20 AND 100;`\n",
    "- Demonstrate the Order By, Group By, Having, and Limit clauses.\n"
   ]
  },
  {
   "cell_type": "markdown",
   "id": "044ac455",
   "metadata": {},
   "source": [
    "### Overview of ORDER BY Clause\n",
    "#### Written Order\n",
    "- `SELECT (Return Expressions)  [required]`\n",
    "- `FROM (specify tables)\t\t\t[required]`\n",
    "- `WHERE (Row Filter)\t\t       [optional]`\n",
    "- `GROUP BY\t                  [optional]`\n",
    "- `HAVING\t(Group Filter)\t       [optional]`\n",
    "- `ORDER BY  \t                  [optional]`\n",
    "### Execution Process Order\n",
    "- `FROM/JOIN` --> `WHERE` --> `GROUP BY` --> `SELECT` --> `DISTINCT` --> `ORDER BY` --> `LIMIT`\n"
   ]
  },
  {
   "cell_type": "markdown",
   "id": "1a2af22d",
   "metadata": {},
   "source": [
    "## Knowledge Check\n",
    "- How does the ORDER BY Clause work in SQL?\n",
    "- When do we use a HAVING clause?\n",
    "- Which is the default order of Sort in the ORDER BY Clause?\n",
    "- What is the meaning of the GROUP BY Clause in Mysql?\n",
    "- What SQL clause is used to restrict the rows returned by a query?\n",
    "- What is the difference between the percent sign (%) and the underscore (_) for pattern matching (e.g. in the LIKE operator)?\n"
   ]
  },
  {
   "cell_type": "markdown",
   "id": "2334b6a3",
   "metadata": {},
   "source": [
    "## Summary\n",
    "- The MySQL ORDER BY clause is used to sort the records in a result set. The MySQL WHERE clause is used to filter the results from a SELECT, INSERT, UPDATE, or DELETE statement.\n",
    "- The MySQL GROUP BY clause is used in a SELECT statement to collect data across multiple records and group the results by one or more columns.\n",
    "- The MySQL HAVING clause is used in combination with the GROUP BY clause to restrict the groups of returned rows to only those whose condition is TRUE.\n",
    "- The MySQL LIMIT clause is used to retrieve records from one or more tables in MySQL and limit the number of records returned based on a limit value.\n",
    "- The MySQL BETWEEN Condition is used to retrieve values within a range in a SELECT, INSERT, UPDATE, or DELETE statement.\n",
    "- The MySQL LIKE condition allows wildcards to be used in the WHERE clause of a SELECT, INSERT, UPDATE, or DELETE statement. This allows you to perform pattern matching.\n",
    "- MySQL system clauses are keywords or statements to handle information. It helps to operate a group of the data and apply it to required conditions. The clauses apply conditions or select patterns to get information. MySQL clauses are not used to insert new data. You retrieve data using several clauses. The table uses either single or multiple clauses.\n"
   ]
  },
  {
   "cell_type": "markdown",
   "id": "1e5b3833",
   "metadata": {},
   "source": [
    "***"
   ]
  },
  {
   "cell_type": "markdown",
   "id": "b1f5fc14",
   "metadata": {},
   "source": [
    "# Lesson 304.5 Aggregate Functions and Operators\n",
    "\n"
   ]
  },
  {
   "cell_type": "markdown",
   "id": "da1db3c2",
   "metadata": {},
   "source": [
    "## Section 1 Aggregate Function \n",
    "## Learning Objective:\n",
    "- Describe aggregate functions.\n",
    "- Demonstrate aggregate functions.\n"
   ]
  },
  {
   "cell_type": "markdown",
   "id": "1bff2a43",
   "metadata": {},
   "source": [
    "## Section 2 SQL Operators\n",
    "## Learning Objective:\n",
    "- Describe SQL operators, including Logical Operators, Arithmetic Operators, Comparison Operators.\n",
    "- Explain common SQL operators.\n"
   ]
  },
  {
   "attachments": {
    "Common_Date_Format_Strings.png": {
     "image/png": "[encoded data removed]"
    },
    "Common_Date_Specifiers.png": {
     "image/png": "[encoded data removed]"
    }
   },
   "cell_type": "markdown",
   "id": "2c27de61",
   "metadata": {},
   "source": [
    "![Common_Date_Specifiers.png](attachment:Common_Date_Specifiers.png)\n",
    "\n",
    "![Common_Date_Format_Strings.png](attachment:Common_Date_Format_Strings.png)"
   ]
  },
  {
   "cell_type": "markdown",
   "id": "3d1eec09",
   "metadata": {},
   "source": [
    "***"
   ]
  },
  {
   "cell_type": "markdown",
   "id": "25d7f8d1",
   "metadata": {},
   "source": [
    "# Lesson 304.6 SQL JOIN Tables\n",
    "## Learning Objectives:\n",
    "- Describe the JOIN Predicate.\n",
    "- Demonstrate the inner JOIN, left JOIN, right JOIN, self JOIN, cross JOIN, and Union."
   ]
  },
  {
   "cell_type": "markdown",
   "id": "7032d21c",
   "metadata": {},
   "source": [
    "#### Overview of Joining Tables\n",
    "- JOIN predicate is used to combine rows from two or more tables, based on a related column between them. Used in the FROM clause and combines data of multiple tables based on common columns(primary key and foreign key) and constraints to produce a combined result set."
   ]
  },
  {
   "cell_type": "markdown",
   "id": "5b173821",
   "metadata": {},
   "source": [
    "#### General JOIN Syntax"
   ]
  },
  {
   "cell_type": "code",
   "execution_count": null,
   "id": "419f4cc1",
   "metadata": {
    "vscode": {
     "languageId": "sql"
    }
   },
   "outputs": [],
   "source": [
    "Select <column-names> \n",
    "FROM <left table> [join type] JOIN <right table> ON <join predicate>"
   ]
  },
  {
   "cell_type": "markdown",
   "id": "5d44764e",
   "metadata": {},
   "source": [
    "The join predicate is a boolean expression specifying criteria for matching rows between two or more tables. Most often, the predicate is based on key relationships, but other boolean expressions can be used."
   ]
  },
  {
   "cell_type": "markdown",
   "id": "16c11ad9",
   "metadata": {},
   "source": [
    "#### Overview of INNER JOIN Clause\n",
    "- joins two or more tables based on a condition, which is known as a join predicate.\n",
    "- rows from the left and right tables will appear in the output, if and only if they both satisfy the join predicate.\n",
    "- includes only matching rows from both tables.\n",
    "\n",
    "Syntax of INNER JOIN"
   ]
  },
  {
   "cell_type": "code",
   "execution_count": null,
   "id": "20e427b2",
   "metadata": {
    "vscode": {
     "languageId": "sql"
    }
   },
   "outputs": [],
   "source": [
    "SELECT a.value, b.value \n",
    "FROM TableA a \n",
    "JOIN TableB b ON a.id=b.id;\n",
    "\n",
    "-- basic syntax of the “INNER JOIN” clause that joins tables: table_1 and table_2\n",
    "SELECT column_list\n",
    "FROM table_1\n",
    "INNER JOIN table_2 ON join_condition;\n",
    "\n",
    "/*INNER JOIN clause compares each row from the first table with every row from the second table.\n",
    "When the join predicate is based on equality between two columns with the same name, SQL gives us a shortcut. You can use the USING clause instead as \n",
    "shown below:*/\n",
    "SELECT column_list\n",
    "FROM table_1\n",
    "INNER JOIN table_2 USING (column_name); -- This query & the one above will give the same result"
   ]
  },
  {
   "cell_type": "markdown",
   "id": "858b914c",
   "metadata": {},
   "source": [
    "Example 1:\n",
    "- If you want to get the product code and product name from the products table, or the text description of product lines from the productlines table, you need to select data from both tables and match rows by comparing the productline column from the products table with the productline column from the productlines table, as shown in the following query."
   ]
  },
  {
   "cell_type": "code",
   "execution_count": null,
   "id": "aeca23b6",
   "metadata": {
    "vscode": {
     "languageId": "sql"
    }
   },
   "outputs": [],
   "source": [
    "SELECT  T1.productCode,  T1.productName,  T2.textDescription\n",
    "FROM  products T1\n",
    "INNER JOIN productlines T2 ON T1.productline = T2.productline;"
   ]
  },
  {
   "cell_type": "markdown",
   "id": "1981056a",
   "metadata": {},
   "source": [
    "Example 2: INNER JOIN with GROUP BY Clause\n",
    "- We can get the order number, order status, and total sales from the orders and orderdetails tables using the INNER JOIN clause with the GROUP BY clause, as shown in the query below:"
   ]
  },
  {
   "cell_type": "code",
   "execution_count": null,
   "id": "161b0084",
   "metadata": {
    "vscode": {
     "languageId": "sql"
    }
   },
   "outputs": [],
   "source": [
    "SELECT  T1.orderNumber,  STATUS, SUM(quantityOrdered * priceEach) total\n",
    "FROM orders AS T1\n",
    "INNER JOIN orderdetails AS T2 ON T1.orderNumber = T2.orderNumber\n",
    "GROUP BY T1.orderNumber;\n",
    "\n",
    "-- with the \"USING\" keyword\n",
    "SELECT  T1.orderNumber,  STATUS, SUM(quantityOrdered * priceEach) total\n",
    "FROM orders AS T1\n",
    "INNER JOIN orderdetails AS T2 USING(orderNumber)\n",
    "GROUP BY T1.orderNumber;"
   ]
  },
  {
   "cell_type": "markdown",
   "id": "668e57f8",
   "metadata": {},
   "source": [
    "Example 3: INNER JOIN – Join Three Tables\n",
    "- Consider the products, orders and orderdetails tables. The query below is using two INNER JOIN clauses to join three tables: orders, orderdetails, and products."
   ]
  },
  {
   "cell_type": "code",
   "execution_count": null,
   "id": "8bf73064",
   "metadata": {
    "vscode": {
     "languageId": "sql"
    }
   },
   "outputs": [],
   "source": [
    "SELECT orderNumber, orderDate, orderLineNumber, productName, quantityOrdered,  priceEach\n",
    "FROM orders\n",
    "INNER JOIN orderdetails USING (orderNumber)\n",
    "INNER JOIN products USING (productCode)\n",
    "ORDER BY orderNumber, orderLineNumber;\n"
   ]
  },
  {
   "cell_type": "markdown",
   "id": "a00f5bee",
   "metadata": {},
   "source": [
    "Example 4: INNER JOIN With GROUP BY and Having Clause\n",
    "- The following query finds sales orders whose value total is greater than $60K."
   ]
  },
  {
   "cell_type": "code",
   "execution_count": null,
   "id": "b6032d26",
   "metadata": {
    "vscode": {
     "languageId": "sql"
    }
   },
   "outputs": [],
   "source": [
    "SELECT orderNumber, SUM(priceEach * quantityOrdered) AS total\n",
    "FROM orderdetails\n",
    "INNER JOIN orders USING (orderNumber)\n",
    "GROUP BY orderNumber HAVING SUM(priceEach * quantityOrdered) > 60000;"
   ]
  },
  {
   "cell_type": "markdown",
   "id": "87317045",
   "metadata": {},
   "source": [
    "- INNER JOIN is also called a NATURAL JOIN. We could also write the previous query without INNER  or using a keyword.\n",
    "- For a Natural JOIN, the JOIN predicate is formed “naturally” based on fields from both tables with matching names. Tables A and B both have an “id” field; therefore, the Natural JOIN forms the predicate based on the equality of A.id and B.id.\n",
    "    - `SELECT a.value, b.value FROM A a NATURAL JOIN B b;`"
   ]
  },
  {
   "cell_type": "markdown",
   "id": "433bd819",
   "metadata": {},
   "source": [
    "### Overview LEFT JOIN Clause\n",
    "- all rows from the left table are guaranteed to be represented in the result set whether or not a row from the right table is found to satisfy the predicate.\n",
    "- When no matching row from the right table is found, those fields will be NULL\n",
    "- `SELECT a.value, b.value FROM TableA a LEFT JOIN TableB b ON a.id=b.id;`"
   ]
  },
  {
   "cell_type": "markdown",
   "id": "625b038b",
   "metadata": {},
   "source": [
    "### Syntax"
   ]
  },
  {
   "cell_type": "code",
   "execution_count": null,
   "id": "f531432a",
   "metadata": {
    "vscode": {
     "languageId": "sql"
    }
   },
   "outputs": [],
   "source": [
    "SELECT column_name(s)\n",
    "FROM table1\n",
    "LEFT JOIN table2\n",
    "ON table1.column_name = table2.column_name;\n",
    "\n",
    "-- use the USING keyword syntax\n",
    "SELECT columns\n",
    "FROM table1\n",
    "LEFT JOIN table2\n",
    "USING(column_name);"
   ]
  },
  {
   "cell_type": "markdown",
   "id": "ce950708",
   "metadata": {},
   "source": [
    "### Example 1 LEFT JOIN Clause - Join Two Tables\n",
    "- Each order in the orders table must belong to a customer in the customers table.\n",
    "- Each customer in the customers table can have zero or more orders in the orders table.\n",
    "- To find all customers regardless of their order status, you can use the LEFT JOIN clause"
   ]
  },
  {
   "cell_type": "code",
   "execution_count": null,
   "id": "8fff3f44",
   "metadata": {
    "vscode": {
     "languageId": "sql"
    }
   },
   "outputs": [],
   "source": [
    "SELECT  c.customerNumber,  c.customerName, o.orderNumber, o.status\n",
    "FROM customers c\n",
    "LEFT JOIN orders o ON c.customerNumber = o.customerNumber;"
   ]
  },
  {
   "cell_type": "markdown",
   "id": "3b438aa7",
   "metadata": {},
   "source": [
    "### Example 2: LEFT JOIN Clause - Find Unmatched Rows\n",
    "- The LEFT JOIN clause is very useful when you want to find the rows in the left table that do not match with the rows in the right table. To find the unmatched rows between two tables, you add a WHERE clause to the SELECT statement to select only rows whose column values in the right table contain the NULL values.\n",
    "- For example, to find all customers who have not ordered any products, you can use the following query\n"
   ]
  },
  {
   "cell_type": "code",
   "execution_count": null,
   "id": "036a2581",
   "metadata": {
    "vscode": {
     "languageId": "sql"
    }
   },
   "outputs": [],
   "source": [
    "SELECT c.customerNumber, c.customerName, orderNumber, o.STATUS\n",
    "FROM customers c\n",
    "LEFT JOIN orders o ON c.customerNumber = o.customerNumber\n",
    "WHERE orderNumber IS NULL;"
   ]
  },
  {
   "cell_type": "markdown",
   "id": "6686440e",
   "metadata": {},
   "source": [
    "### Example 3: LEFT JOIN Clause - Find Unmatched Rows\n",
    "- The below query uses two LEFT JOIN clauses to join the three tables: employees, customers, and payments."
   ]
  },
  {
   "cell_type": "code",
   "execution_count": null,
   "id": "2866e4bd",
   "metadata": {
    "vscode": {
     "languageId": "sql"
    }
   },
   "outputs": [],
   "source": [
    "SELECT lastName, firstName, customerName, checkNumber, amount\n",
    "FROM employees\n",
    "LEFT JOIN customers ON \n",
    "    employeeNumber = salesRepEmployeeNumber\n",
    "LEFT JOIN payments ON \n",
    "    payments.customerNumber = customers.customerNumber\n",
    "ORDER BY customerName,  checkNumber;\n"
   ]
  },
  {
   "cell_type": "markdown",
   "id": "986da2d2",
   "metadata": {},
   "source": [
    "### Overview of RIGHT JOIN Clause\n",
    "- RIGHT JOIN is similar to LEFT JOIN, except that the treatment of the joined tables is reversed.\n",
    "- In a RIGHT JOIN, all rows from the right table are guaranteed to be represented in the result set, whether or not a row from the left table is found to satisfy the predicate.  `SEE LEFT JOIN SYNTAX AND EXAMPLES`\n",
    "- When no matching row from the left table is found, those fields will be NULL\n",
    "- `SELECT a.value, b.value FROM TableA a RIGHT JOIN TableB b ON a.id=b.id;`"
   ]
  },
  {
   "cell_type": "markdown",
   "id": "560ef765",
   "metadata": {},
   "source": [
    "### Overview of CROSS JOIN Clause\n",
    "- CROSS JOIN is an unfiltered join – it uses a no join predicate. The output of a CROSS JOIN is a cartesian product – every possible combination of rows are in the left and right tables.\n",
    "- CROSS JOIN produces a result set, which is the number of rows in the first table multiplied by the number of rows in the second table.\n",
    "- CROSS JOIN on very large tables can generate a huge result set.\n",
    "- CROSS JOIN clause does not have a join predicate. In other words, it does not have the ON or USING keyword.\n",
    "- If you add a WHERE clause in case table t1 and t2 have a relationship, the CROSS JOIN works like the INNER JOIN clause as shown in the following query"
   ]
  },
  {
   "cell_type": "code",
   "execution_count": null,
   "id": "2a5d18ae",
   "metadata": {
    "vscode": {
     "languageId": "sql"
    }
   },
   "outputs": [],
   "source": [
    "-- Join two tables\n",
    "SELECT * \n",
    "FROM t1\n",
    "CROSS JOIN t2;\n",
    "\n",
    "-- Works like INNER JOIN with WHERE clause\n",
    "SELECT * \n",
    "FROM t1\n",
    "CROSS JOIN t2\n",
    "WHERE t1.id = t2.id;\n"
   ]
  },
  {
   "cell_type": "markdown",
   "id": "df582bcf",
   "metadata": {},
   "source": [
    "### Overview of SELF JOIN\n",
    "- There is no SELF JOIN keyword, just write an ordinary join where both tables involved in the join are the same table\n",
    "- A SELF JOIN allows you to join a table to itself. It helps to query hierarchical data or compare rows within the same table.\n",
    "- Some tables define a foreign key to their own primary key. A common scenario is an employee table, where each row includes a foreign key to the employee’s manager, who is also an employee.\n",
    "- `Note: SELF JOINS require the use of a table alias to distinguish the field names.`"
   ]
  },
  {
   "cell_type": "markdown",
   "id": "a4c36f13",
   "metadata": {},
   "source": [
    "### Example 1: SELF JOIN\n",
    "- You can use the SELF JOIN to determine who reports to whom; to do so, we can use the INNER JOIN\n",
    "- In the example below, we referenced the employees table twice; once as e for the employees and the other as m for the managers. The JOIN predicate matches the employee and manager relationship using the values in the m.employeeNumber = e.reportsTo."
   ]
  },
  {
   "cell_type": "code",
   "execution_count": null,
   "id": "7093a336",
   "metadata": {
    "vscode": {
     "languageId": "sql"
    }
   },
   "outputs": [],
   "source": [
    "SELECT m.employeeNumber AS ManagerID, m.lastName AS Manager,  e.lastName AS 'employee', e.employeeNumber AS EmployeeID\n",
    "FROM  employees e\n",
    "INNER JOIN employees m ON m.employeeNumber = e.reportsTo\n",
    "ORDER BY m.employeeNumber;\n"
   ]
  },
  {
   "cell_type": "markdown",
   "id": "8035e1d5",
   "metadata": {},
   "source": [
    "Note: in the previous image that the employees column does not include Murphy; this is because of the INNER JOIN effect. If you replace the INNER JOIN clause by the LEFT JOIN clause as shown in the following query, you will get the result set that includes Murphy in the employee column:"
   ]
  },
  {
   "cell_type": "code",
   "execution_count": null,
   "id": "4f40d8e8",
   "metadata": {
    "vscode": {
     "languageId": "sql"
    }
   },
   "outputs": [],
   "source": [
    "SELECT   m.employeeNumber as ManagerID,   m.lastName manager,  e.lastName employee, e.employeeNumber as EmployeeID\n",
    "FROM employees e\n",
    "LEFT JOIN employees m \n",
    "ON m.employeeNumber = e.reportsTo\n",
    "ORDER BY manager;\n"
   ]
  },
  {
   "cell_type": "markdown",
   "id": "23c0cf1f",
   "metadata": {},
   "source": [
    "### Example 2: SELF JOIN - Compare Successive Rows\n",
    "- By using the SELF JOIN, you can display a list of customers who are located in the same city by joining the customers table to itself.\n",
    "- In the example below, the table customer is joined to itself using the following JOIN conditions:\n",
    "    - `c1.city = c2.city`  makes sure that both customers have the same city.\n",
    "    - `c.customerName > c2.customerName` ensures that no same customer is included."
   ]
  },
  {
   "cell_type": "code",
   "execution_count": null,
   "id": "3e0afd79",
   "metadata": {
    "vscode": {
     "languageId": "sql"
    }
   },
   "outputs": [],
   "source": [
    "SELECT c1.city, c1.customerName, c2.customerName\n",
    "FROM customers c1\n",
    "INNER JOIN customers c2 \n",
    "  ON c1.city = c2.city -- makes sure that both customers have the same city\n",
    "  AND c1.customername > c2.customerName -- ensures that no same customer is included\n",
    "ORDER BY c1.city;\n"
   ]
  },
  {
   "cell_type": "markdown",
   "id": "ca58577a",
   "metadata": {},
   "source": [
    "### Overview of FULL JOIN Clause\n",
    "- The FULL JOIN Clause combines the effects of left and right JOINS – all rows of both left and right tables are guaranteed to appear in the result set, regardless of whether the JOIN predicate is satisfied or not.\n",
    "- When any row from either table fails to satisfy the JOIN condition, NULL values will appear in the output\n",
    "- Notice: MySQL `does not support FULL JOIN`, but the same result is achieved using `UNION` operator.\n"
   ]
  },
  {
   "cell_type": "markdown",
   "id": "24eef694",
   "metadata": {},
   "source": [
    "### Overview of Union Operator\n",
    "- UNION operator allows you to combine two or more result sets of queries into a single result set. The following illustrates the syntax of the UNION operator\n"
   ]
  },
  {
   "cell_type": "markdown",
   "id": "8c8396f5",
   "metadata": {},
   "source": [
    "Syntax:"
   ]
  },
  {
   "cell_type": "code",
   "execution_count": null,
   "id": "b444a09d",
   "metadata": {
    "vscode": {
     "languageId": "sql"
    }
   },
   "outputs": [],
   "source": [
    "SELECT column_list\n",
    " UNION [DISTINCT | ALL]\n",
    "SELECT column_list\n",
    " UNION [DISTINCT | ALL]\n",
    "SELECT column_list\n"
   ]
  },
  {
   "cell_type": "markdown",
   "id": "6d24d3a6",
   "metadata": {},
   "source": [
    "### UNION Operator vs. JOIN Clause\n",
    "- A JOIN combines a result set horizontally;  whereas a UNION appends a result set vertically. The following illustration shows the difference between UNION and JOIN"
   ]
  },
  {
   "cell_type": "markdown",
   "id": "2251abc0",
   "metadata": {},
   "source": [
    "### Example: UNION Operator\n",
    "- Suppose you want to combine the first name and last name of employees and customers into a single result set. To do this, you can use the UNION operator"
   ]
  },
  {
   "cell_type": "code",
   "execution_count": null,
   "id": "377e547a",
   "metadata": {
    "vscode": {
     "languageId": "sql"
    }
   },
   "outputs": [],
   "source": [
    "SELECT firstName, lastName\n",
    "FROM employees \n",
    "UNION \n",
    "SELECT contactFirstName, contactLastName\n",
    "FROM customers;\n"
   ]
  },
  {
   "cell_type": "markdown",
   "id": "ffdbbfbf",
   "metadata": {},
   "source": [
    "### Joining Without JOIN\n",
    "- Joins can be achieved without the JOIN keyword by using the WHERE clause to define the join predicate.\n",
    "- `SELECT a.value, b.value FROM A a, B b WHERE a.id=b.id;`\n",
    "- This style of joining is called “Theta Style.” A Theta Style is a JOIN that links tables based on a relationship other than equality between two columns. A Theta Style could use any operator other than the “equal” operator. \n",
    "- The JOIN keyword offers distinct advantages over Theta Style join\n",
    "    - The left and right tables are clear\n",
    "    - Left, right, and full joins are possible.\n",
    "    - “Using” keyword syntax is possible."
   ]
  },
  {
   "cell_type": "markdown",
   "id": "9d51ba2f",
   "metadata": {},
   "source": [
    "### Check Your Knowledge\n",
    "- What Are SQL JOINs?\n",
    "- What are the different types of JOINS in SQL?\n",
    "- How can you join a table to itself?"
   ]
  },
  {
   "cell_type": "markdown",
   "id": "968003c8",
   "metadata": {},
   "source": [
    "## Summary\n",
    "- In this presentation, we discussed JOIN queries, which allow us to walk through the relationships between two or more tables in the FROM clause. JOINS are queries that combine the data of multiple tables based on their common columns and constraints to produce a combined result set:\n",
    "    - A JOIN implemented without any other modifiers is by default an INNER JOIN. \n",
    "    - A Right JOIN returns all records from the right table, and the matched records from the left table; while a Left JOIN returns all records from the left table and the matched records from the right table\n",
    "    - An INNER JOIN returns records that have matching values in both tables.\n",
    "    - A CROSS JOIN produces a result set, which is the number of rows in the first table, multiplied by the number of rows in the second table.\n",
    "    - A SELF JOIN returns a table that is joined with itself.\n",
    "    - A JOIN implemented without the JOIN keyword is called Theta Style.\n"
   ]
  }
 ],
 "metadata": {
  "kernelspec": {
   "display_name": "default",
   "language": "python",
   "name": "python3"
  },
  "language_info": {
   "codemirror_mode": {
    "name": "ipython",
    "version": 3
   },
   "file_extension": ".py",
   "mimetype": "text/x-python",
   "name": "python",
   "nbconvert_exporter": "python",
   "pygments_lexer": "ipython3",
   "version": "3.10.12"
  }
 },
 "nbformat": 4,
 "nbformat_minor": 5
}
