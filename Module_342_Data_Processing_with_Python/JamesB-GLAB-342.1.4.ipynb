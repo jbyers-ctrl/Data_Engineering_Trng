{
 "cells": [
  {
   "cell_type": "markdown",
   "id": "e1b57af8",
   "metadata": {},
   "source": [
    "## Modifying a XML Document\n",
    "### Objective:\n",
    "- demonstrate how to change and modifi the XML document, By the end of this lab, learners will be able to modify XML by using Python"
   ]
  },
  {
   "cell_type": "code",
   "execution_count": 14,
   "id": "55523ed8",
   "metadata": {},
   "outputs": [
    {
     "name": "stdout",
     "output_type": "stream",
     "text": [
      "{'favorite': 'True', 'title': 'Indiana Jones: The raiders of the lost Ark'}\n",
      "{'favorite': 'True', 'title': 'THE KARATE KID'}\n",
      "{'favorite': 'False', 'title': 'Back 2 the Future'}\n",
      "{'favorite': 'False', 'title': 'X-Men'}\n",
      "{'favorite': 'True', 'title': 'Batman Returns'}\n",
      "{'favorite': 'False', 'title': 'Reservoir Dogs'}\n",
      "{'favorite': 'False', 'title': 'ALIEN'}\n",
      "{'favorite': 'True', 'title': \"Ferris Bueller's Day Off\"}\n",
      "{'favorite': 'FALSE', 'title': 'American Psycho'}\n"
     ]
    }
   ],
   "source": [
    "import xml.etree.ElementTree as ET\n",
    "\n",
    "xml_file = \"./Data/movie.xml\"\n",
    "# Parse XML file\n",
    "xml_tree = ET.parse(xml_file)\n",
    "\n",
    "# Get root element\n",
    "xml_root = xml_tree.getroot()\n",
    "\n",
    "for movie in xml_root.iter('movie'):\n",
    "    print(movie.attrib)"
   ]
  },
  {
   "cell_type": "code",
   "execution_count": null,
   "id": "c7652769",
   "metadata": {},
   "outputs": [
    {
     "name": "stdout",
     "output_type": "stream",
     "text": [
      "<Element 'movie' at 0x0000019F8BDDC3B0>\n",
      "-----------Before------\n",
      "{'favorite': 'False', 'title': 'Back 2 the Future'}\n",
      "-----------After------\n",
      "{'favorite': 'False', 'title': 'Back to the Future'}\n"
     ]
    }
   ],
   "source": [
    "b2tf = xml_root.find(\"./genre/decade/movie[@title='Back 2 the Future']\") # sets the value of the \"movie\" attribute to \"b2tf\"\n",
    "print(b2tf)\n",
    "print(\"-----------Before------\")\n",
    "for movie in xml_root.findall(\"./genre/decade/movie[@title='Back 2 the Future']\"):\n",
    "   print(movie.attrib)\n",
    "\n",
    "print(\"-----------After------\")\n",
    "b2tf.attrib[\"title\"] = \"Back to the Future\" # \"attrib\" property is used to access the attributes of an element\n",
    "print(b2tf.attrib)"
   ]
  },
  {
   "cell_type": "code",
   "execution_count": null,
   "id": "e42176b4",
   "metadata": {},
   "outputs": [],
   "source": [
    "# Write changes to permanently fix in document\n",
    "tree = ET.parse(xml_file)\n",
    "root = tree.getroot()\n",
    "element = root.find(\"./genre/decade/movie[@title='Back 2 the Future']\")\n",
    "element.attrib[\"title\"] = \"Back to the Future\"\n",
    "tree.write(\"./Data/movie_new.xml\")"
   ]
  },
  {
   "cell_type": "code",
   "execution_count": 19,
   "id": "299ef13b",
   "metadata": {},
   "outputs": [
    {
     "name": "stdout",
     "output_type": "stream",
     "text": [
      "{'favorite': 'True', 'title': 'Indiana Jones: The raiders of the lost Ark'}\n",
      "{'favorite': 'True', 'title': 'THE KARATE KID'}\n",
      "{'favorite': 'False', 'title': 'Back to the Future'}\n",
      "{'favorite': 'False', 'title': 'X-Men'}\n",
      "{'favorite': 'True', 'title': 'Batman Returns'}\n",
      "{'favorite': 'False', 'title': 'Reservoir Dogs'}\n",
      "{'favorite': 'False', 'title': 'ALIEN'}\n",
      "{'favorite': 'True', 'title': \"Ferris Bueller's Day Off\"}\n",
      "{'favorite': 'FALSE', 'title': 'American Psycho'}\n"
     ]
    }
   ],
   "source": [
    "# Parse XML file\n",
    "xml_tree = ET.parse(\"./Data/movie_new.xml\")\n",
    "\n",
    "# Get root element\n",
    "xml_root = xml_tree.getroot()\n",
    "\n",
    "for movie in xml_root.iter('movie'):\n",
    "    print(movie.attrib)"
   ]
  },
  {
   "cell_type": "code",
   "execution_count": null,
   "id": "b4bc89d7",
   "metadata": {},
   "outputs": [],
   "source": []
  }
 ],
 "metadata": {
  "kernelspec": {
   "display_name": "Python 3",
   "language": "python",
   "name": "python3"
  },
  "language_info": {
   "codemirror_mode": {
    "name": "ipython",
    "version": 3
   },
   "file_extension": ".py",
   "mimetype": "text/x-python",
   "name": "python",
   "nbconvert_exporter": "python",
   "pygments_lexer": "ipython3",
   "version": "3.12.0"
  }
 },
 "nbformat": 4,
 "nbformat_minor": 5
}
