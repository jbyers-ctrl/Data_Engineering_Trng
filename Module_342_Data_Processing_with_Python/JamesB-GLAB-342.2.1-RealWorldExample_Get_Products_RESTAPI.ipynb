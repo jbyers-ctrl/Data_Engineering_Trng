{
 "cells": [
  {
   "cell_type": "markdown",
   "id": "51ce1235",
   "metadata": {},
   "source": [
    "## Real World Example - Get Products from RestAPI\n",
    "### Lab Objective:\n",
    "- In this lab, you will demonstrate how to use Rest API using Python. You will learn how to fetch products from an API endpoint, save the data to a JSON file, and search for specific products using the API.\n",
    "\n",
    "- Key Skills:\n",
    "\n",
    "    - Using the requests module in Python to send HTTP requests. Sending requests to a REST API endpoint. Searching for products using API parameters. Saving API response data to a JSON file.\n",
    "\n",
    "#### Learning Objective:\n",
    "- By the end of this lab, learners will be able to:\n",
    "\n",
    "    - Use requests module in Python.\n",
    "    - Send request to REST API endpoint.\n",
    "    - Search products from REST API endpoint.\n",
    "    - Save data from REST API endpoint to Json file.\n",
    "- Lab Activities:\n",
    "    - *Fetching and Saving Product Data: *You will use the requests module to send a GET request to the https://dummyjson.com/products API endpoint. The response data, containing product information, will be saved into a JSON file named \"products_information.json\".\n",
    "\n",
    "    - Searching for Products: You will learn how to search for products using the API's search functionality. By modifying the API endpoint URL to include a search query (e.g., https://dummyjson.com/products/search?q=Oil), you can retrieve products related to a specific keyword. The results will be displayed in the Colab output.\n",
    "\n",
    "- The requests is Pre-installed: Google Colab environments come with many common Python libraries pre-installed, and requests is very frequently among them. So, in many cases, you can simply import and use it without needing to install it.\n",
    "\n",
    "- If you do need to upgrade requests, you can use either:\n",
    "\n",
    "- !pip install requests\n",
    "\n",
    "- %pip install requests\n",
    "\n",
    "- Example: Get all products and save them to Json file\n",
    "    - The endpoint Api is: https://dummyjson.com/products\n",
    "\n",
    "    - The following example use the requests module to sends an HTTP GET request to the https://dummyjson.com/products API endpoint. The response data, containing product information, will be saved into a JSON file named \"products_information.json\" with an indentation of 4 spaces."
   ]
  },
  {
   "cell_type": "code",
   "execution_count": null,
   "id": "4ec44a47",
   "metadata": {},
   "outputs": [
    {
     "name": "stdout",
     "output_type": "stream",
     "text": [
      "Data has been written to './Data/products_information.json'.\n"
     ]
    }
   ],
   "source": [
    "import requests\n",
    "import json\n",
    "import csv\n",
    "\n",
    "def fetch_and_save_json_data(api_url, file_path):\n",
    "    try:\n",
    "        # Make an HTTP GET request to the API\n",
    "        response = requests.get(api_url)\n",
    "\n",
    "        # Check if the request was successful (status code 200)\n",
    "        if response.status_code == 200:\n",
    "            # Parse the JSON data from the response\n",
    "            data = response.json()\n",
    "\n",
    "            # Write the JSON data to the file\n",
    "            with open(file_path, \"w\") as json_file:\n",
    "                json.dump(data, json_file, indent=4)\n",
    "\n",
    "            print(f\"Data has been written to '{file_path}'.\")\n",
    "        else:\n",
    "            print(f\"Failed to retrieve data. Status code: {response.status_code}\")\n",
    "    except requests.exceptions.RequestException as e:\n",
    "        print(f\"An error occurred during the request: {e}\")\n",
    "    except json.JSONDecodeError as e:\n",
    "        print(f\"An error occurred while parsing the JSON response: {e}\")\n",
    "    except FileNotFoundError as e:\n",
    "        print(f\"An error occurred while writing to the file: {e}\")\n",
    "    except Exception as e:\n",
    "        print(f\"An unexpected error occurred: {e}\")\n",
    "\n",
    "# Define the API endpoint URL and file path\n",
    "api_url_products = \"https://dummyjson.com/products\"\n",
    "file_path = \"./Data/products_information.json\"\n",
    "# note: do not forget to change the file path in the above line\n",
    "\n",
    "# Call the function to fetch and save JSON data\n",
    "fetch_and_save_json_data(api_url_products, file_path)"
   ]
  },
  {
   "cell_type": "markdown",
   "id": "7017a41c",
   "metadata": {},
   "source": [
    "#### Explanation of the above example:\n",
    "\n",
    "- Created a function called fetch_and_save_json_data() that takes the API URL and file path as arguments. This function encapsulates the entire process of fetching data and saving it to a file.\n",
    "\n",
    "- Inside the function:\n",
    "\n",
    "    - Use a try block to handle potential exceptions and errors during the process.\n",
    "\n",
    "    - Send an HTTP GET request to the specified API endpoint using requests.get(api_url). This retrieves the data from the API.\n",
    "\n",
    "    - Check if the request was successful by examining the status code (response.status_code). If it's 200, the request was successful.\n",
    "\n",
    "    - If the request is successful:\n",
    "\n",
    "        - Parse the JSON data from the response using response.json(). Open the specified file in write mode (\"w\") using a context manager with open(file_path, \"w\").\n",
    "        - Use json.dump(data, json_file, indent=4) to write the JSON data to the file with an indentation of 4 spaces. Print a success message indicating that the data has been written to the file. If the request is not successful (status code other than 200), print an error message indicating the failure.\n",
    "    - Use except blocks to catch and handle different types of exceptions:\n",
    "\n",
    "        - requests.exceptions.RequestException - for handling exceptions related to the HTTP request itself, like network issues or timeouts.\n",
    "        - json.JSONDecodeError - for handling errors that occur while parsing the JSON response.\n",
    "        - FileNotFoundError - for handling errors related to writing the JSON data to the file.\n",
    "        - A generic Exception block to catch unexpected errors."
   ]
  },
  {
   "cell_type": "code",
   "execution_count": null,
   "id": "3606b35c",
   "metadata": {},
   "outputs": [
    {
     "name": "stdout",
     "output_type": "stream",
     "text": [
      "Apple\n",
      "Beef Steak\n",
      "Cat Food\n",
      "Chicken Meat\n",
      "Cooking Oil\n",
      "Cucumber\n",
      "Dog Food\n",
      "Eggs\n",
      "Fish Steak\n",
      "Green Bell Pepper\n",
      "Green Chili Pepper\n",
      "Honey Jar\n",
      "Ice Cream\n",
      "Juice\n",
      "Kiwi\n"
     ]
    }
   ],
   "source": [
    "api_url = \"https://dummyjson.com/products\" # save url to a variable\n",
    "response = requests.get(api_url) # save response to request to variable\n",
    "data = response.json()['products'] # convert response to json, access the list of products\n",
    "for item in data: # iterate over list to find groceries category and print the title\n",
    "    if item['category'] == 'groceries':\n",
    "        print(item['title'])"
   ]
  },
  {
   "cell_type": "code",
   "execution_count": null,
   "id": "d7186b00",
   "metadata": {},
   "outputs": [
    {
     "name": "stdout",
     "output_type": "stream",
     "text": [
      "Data has been written to './Data/products_information_2.txt'.\n"
     ]
    }
   ],
   "source": [
    "def fetch_and_save_txt_data(api_url, file_path):\n",
    "    try:\n",
    "        # Make an HTTP GET request to the API\n",
    "        response = requests.get(api_url)\n",
    "\n",
    "        # Check if the request was successful (status code 200)\n",
    "        if response.status_code == 200:\n",
    "            # Parse the JSON data from the response\n",
    "            data = response.json()['products'] # convert response to json, access the list of products\n",
    "\n",
    "            # Write the JSON data to the file\n",
    "            with open(file_path, \"w\") as txt_file:                \n",
    "                for item in data: # iterate over list to find groceries category and print the title\n",
    "                    if item['category'] == 'groceries':\n",
    "                        # print(item['title'])\n",
    "                        txt_file.write(\"%s\\n\" % item['title']) # string formatting operation, \"%s\" is placeholder for the value of \"item['title']\"\n",
    "\n",
    "            print(f\"Data has been written to '{file_path}'.\")\n",
    "        else:\n",
    "            print(f\"Failed to retrieve data. Status code: {response.status_code}\")\n",
    "    except requests.exceptions.RequestException as e:\n",
    "        print(f\"An error occurred during the request: {e}\")\n",
    "    except json.JSONDecodeError as e:\n",
    "        print(f\"An error occurred while parsing the JSON response: {e}\")\n",
    "    except FileNotFoundError as e:\n",
    "        print(f\"An error occurred while writing to the file: {e}\")\n",
    "    except Exception as e:\n",
    "        print(f\"An unexpected error occurred: {e}\")\n",
    "\n",
    "# Define the API endpoint URL and file path\n",
    "api_url_products = \"https://dummyjson.com/products\"\n",
    "file_path = \"./Data/products_information_2.txt\"\n",
    "# note: do not forget to change the file path in the above line\n",
    "\n",
    "# Call the function to fetch and save JSON data\n",
    "fetch_and_save_txt_data(api_url_products, file_path)"
   ]
  },
  {
   "cell_type": "markdown",
   "id": "340ee22b",
   "metadata": {},
   "source": [
    "### Example: Searching for Products from API endpoint\n",
    "- The endpoint Api is: https://dummyjson.com/products/search?q=Oil\n",
    "\n",
    "- We can search product by any keyword, lets search products by \"Oil\" keyword\n",
    "\n",
    "- The following example sends an HTTP GET request to the https://dummyjson.com/products/search?q=Oil API endpoint, we will retrieve products related to a Oil keyword."
   ]
  },
  {
   "cell_type": "code",
   "execution_count": 36,
   "id": "cbf17f6b",
   "metadata": {},
   "outputs": [
    {
     "name": "stdout",
     "output_type": "stream",
     "text": [
      "{'products': [{'id': 20, 'title': 'Cooking Oil', 'description': 'Versatile cooking oil suitable for frying, sautéing, and various culinary applications.', 'category': 'groceries', 'price': 4.99, 'discountPercentage': 18.89, 'rating': 4.01, 'stock': 22, 'tags': ['cooking essentials'], 'sku': 'Q6ZP1UY8', 'weight': 8, 'dimensions': {'width': 8.18, 'height': 27.45, 'depth': 27.88}, 'warrantyInformation': 'Lifetime warranty', 'shippingInformation': 'Ships in 1 month', 'availabilityStatus': 'In Stock', 'reviews': [{'rating': 5, 'comment': 'Would buy again!', 'date': '2024-05-23T08:56:21.620Z', 'reviewerName': 'Mason Parker', 'reviewerEmail': 'mason.parker@x.dummyjson.com'}, {'rating': 3, 'comment': 'Poor quality!', 'date': '2024-05-23T08:56:21.620Z', 'reviewerName': 'Jonathan Pierce', 'reviewerEmail': 'jonathan.pierce@x.dummyjson.com'}, {'rating': 5, 'comment': 'Would buy again!', 'date': '2024-05-23T08:56:21.620Z', 'reviewerName': 'Alexander Hernandez', 'reviewerEmail': 'alexander.hernandez@x.dummyjson.com'}], 'returnPolicy': '60 days return policy', 'minimumOrderQuantity': 2, 'meta': {'createdAt': '2024-05-23T08:56:21.620Z', 'updatedAt': '2024-05-23T08:56:21.620Z', 'barcode': '6707669443381', 'qrCode': 'https://assets.dummyjson.com/public/qr-code.png'}, 'images': ['https://cdn.dummyjson.com/products/images/groceries/Cooking%20Oil/1.png'], 'thumbnail': 'https://cdn.dummyjson.com/products/images/groceries/Cooking%20Oil/thumbnail.png'}, {'id': 55, 'title': 'Egg Slicer', 'description': \"The Egg Slicer is a convenient tool for slicing boiled eggs evenly. It's perfect for salads, sandwiches, and other dishes where sliced eggs are desired.\", 'category': 'kitchen-accessories', 'price': 6.99, 'discountPercentage': 9.6, 'rating': 2.91, 'stock': 30, 'tags': ['kitchen tools', 'slicers'], 'sku': 'WG4L41YK', 'weight': 5, 'dimensions': {'width': 17.18, 'height': 11.58, 'depth': 11.79}, 'warrantyInformation': '5 year warranty', 'shippingInformation': 'Ships in 1 week', 'availabilityStatus': 'In Stock', 'reviews': [{'rating': 5, 'comment': 'Excellent quality!', 'date': '2024-05-23T08:56:21.621Z', 'reviewerName': 'Ava Taylor', 'reviewerEmail': 'ava.taylor@x.dummyjson.com'}, {'rating': 1, 'comment': 'Very unhappy with my purchase!', 'date': '2024-05-23T08:56:21.621Z', 'reviewerName': 'Nicholas Edwards', 'reviewerEmail': 'nicholas.edwards@x.dummyjson.com'}, {'rating': 5, 'comment': 'Great product!', 'date': '2024-05-23T08:56:21.621Z', 'reviewerName': 'David Martinez', 'reviewerEmail': 'david.martinez@x.dummyjson.com'}], 'returnPolicy': '60 days return policy', 'minimumOrderQuantity': 23, 'meta': {'createdAt': '2024-05-23T08:56:21.621Z', 'updatedAt': '2024-05-23T08:56:21.621Z', 'barcode': '1537527680664', 'qrCode': 'https://assets.dummyjson.com/public/qr-code.png'}, 'images': ['https://cdn.dummyjson.com/products/images/kitchen-accessories/Egg%20Slicer/1.png'], 'thumbnail': 'https://cdn.dummyjson.com/products/images/kitchen-accessories/Egg%20Slicer/thumbnail.png'}, {'id': 71, 'title': 'Silver Pot With Glass Cap', 'description': 'The Silver Pot with Glass Cap is a stylish and functional cookware item for boiling, simmering, and preparing delicious meals. Its glass cap allows you to monitor cooking progress.', 'category': 'kitchen-accessories', 'price': 39.99, 'discountPercentage': 4.57, 'rating': 3.86, 'stock': 37, 'tags': ['cookware', 'pots'], 'sku': 'BSFNUA3V', 'weight': 9, 'dimensions': {'width': 9.58, 'height': 25.84, 'depth': 26.13}, 'warrantyInformation': 'Lifetime warranty', 'shippingInformation': 'Ships in 1 week', 'availabilityStatus': 'In Stock', 'reviews': [{'rating': 5, 'comment': 'Highly impressed!', 'date': '2024-05-23T08:56:21.622Z', 'reviewerName': 'Addison Wright', 'reviewerEmail': 'addison.wright@x.dummyjson.com'}, {'rating': 3, 'comment': 'Not worth the price!', 'date': '2024-05-23T08:56:21.622Z', 'reviewerName': 'Ava Taylor', 'reviewerEmail': 'ava.taylor@x.dummyjson.com'}, {'rating': 4, 'comment': 'Excellent quality!', 'date': '2024-05-23T08:56:21.622Z', 'reviewerName': 'Avery Scott', 'reviewerEmail': 'avery.scott@x.dummyjson.com'}], 'returnPolicy': '7 days return policy', 'minimumOrderQuantity': 19, 'meta': {'createdAt': '2024-05-23T08:56:21.622Z', 'updatedAt': '2024-05-23T08:56:21.622Z', 'barcode': '6630860592730', 'qrCode': 'https://assets.dummyjson.com/public/qr-code.png'}, 'images': ['https://cdn.dummyjson.com/products/images/kitchen-accessories/Silver%20Pot%20With%20Glass%20Cap/1.png'], 'thumbnail': 'https://cdn.dummyjson.com/products/images/kitchen-accessories/Silver%20Pot%20With%20Glass%20Cap/thumbnail.png'}], 'total': 3, 'skip': 0, 'limit': 3}\n"
     ]
    }
   ],
   "source": [
    "def fetch_and_print_json_data(api_url):\n",
    "    try:\n",
    "        # Make an HTTP GET request to the API\n",
    "        response = requests.get(api_url)\n",
    "\n",
    "        # Check if the request was successful (status code 200)\n",
    "        if response.status_code == 200:\n",
    "            # Parse the JSON data from the response\n",
    "            json_data = response.json()\n",
    "\n",
    "            # Print the retrieved JSON data\n",
    "            print(json_data)\n",
    "        else:\n",
    "            print(f\"Failed to retrieve data. Status code: {response.status_code}\")\n",
    "    except requests.exceptions.RequestException as e:\n",
    "        print(f\"An error occurred during the request: {e}\")\n",
    "    except json.JSONDecodeError as e:\n",
    "        print(f\"An error occurred while parsing the JSON response: {e}\")\n",
    "    except Exception as e:\n",
    "        print(f\"An unexpected error occurred: {e}\")\n",
    "\n",
    "# Define the API endpoint URL\n",
    "api_url = \"https://dummyjson.com/products/search?q=Oil\"\n",
    "\n",
    "# Call the function to fetch and print JSON data\n",
    "fetch_and_print_json_data(api_url)"
   ]
  },
  {
   "cell_type": "code",
   "execution_count": null,
   "id": "b746c4b7",
   "metadata": {},
   "outputs": [
    {
     "name": "stdout",
     "output_type": "stream",
     "text": [
      "{'products': [{'id': 19, 'title': 'Chicken Meat', 'description': 'Fresh and tender chicken meat, suitable for various culinary preparations.', 'category': 'groceries', 'price': 9.99, 'discountPercentage': 10.46, 'rating': 4.61, 'stock': 69, 'tags': ['meat'], 'sku': 'G5YEHW7B', 'weight': 7, 'dimensions': {'width': 15.96, 'height': 29.24, 'depth': 26.25}, 'warrantyInformation': 'Lifetime warranty', 'shippingInformation': 'Ships in 1 month', 'availabilityStatus': 'In Stock', 'reviews': [{'rating': 5, 'comment': 'Very satisfied!', 'date': '2024-05-23T08:56:21.620Z', 'reviewerName': 'Sophia Jones', 'reviewerEmail': 'sophia.jones@x.dummyjson.com'}, {'rating': 5, 'comment': 'Great value for money!', 'date': '2024-05-23T08:56:21.620Z', 'reviewerName': 'Maya Reed', 'reviewerEmail': 'maya.reed@x.dummyjson.com'}, {'rating': 4, 'comment': 'Highly recommended!', 'date': '2024-05-23T08:56:21.620Z', 'reviewerName': 'Harper Turner', 'reviewerEmail': 'harper.turner@x.dummyjson.com'}], 'returnPolicy': '7 days return policy', 'minimumOrderQuantity': 46, 'meta': {'createdAt': '2024-05-23T08:56:21.620Z', 'updatedAt': '2024-05-23T08:56:21.620Z', 'barcode': '0966223559510', 'qrCode': 'https://assets.dummyjson.com/public/qr-code.png'}, 'images': ['https://cdn.dummyjson.com/products/images/groceries/Chicken%20Meat/1.png', 'https://cdn.dummyjson.com/products/images/groceries/Chicken%20Meat/2.png'], 'thumbnail': 'https://cdn.dummyjson.com/products/images/groceries/Chicken%20Meat/thumbnail.png'}], 'total': 1, 'skip': 0, 'limit': 1}\n"
     ]
    }
   ],
   "source": [
    "def fetch_and_print_json_data(api_url):\n",
    "    try:\n",
    "        # Make an HTTP GET request to the API\n",
    "        response = requests.get(api_url)\n",
    "\n",
    "        # Check if the request was successful (status code 200)\n",
    "        if response.status_code == 200:\n",
    "            # Parse the JSON data from the response\n",
    "            json_data = response.json()\n",
    "\n",
    "            # Print the retrieved JSON data\n",
    "            print(json_data)\n",
    "        else:\n",
    "            print(f\"Failed to retrieve data. Status code: {response.status_code}\")\n",
    "    except requests.exceptions.RequestException as e:\n",
    "        print(f\"An error occurred during the request: {e}\")\n",
    "    except json.JSONDecodeError as e:\n",
    "        print(f\"An error occurred while parsing the JSON response: {e}\")\n",
    "    except Exception as e:\n",
    "        print(f\"An unexpected error occurred: {e}\")\n",
    "\n",
    "# Define the API endpoint URL\n",
    "api_url = \"https://dummyjson.com/products/search?q=meat\" # not case sensitive, find meat upper or lower case\n",
    "\n",
    "# Call the function to fetch and print JSON data\n",
    "fetch_and_print_json_data(api_url)"
   ]
  },
  {
   "cell_type": "markdown",
   "id": "fbd28085",
   "metadata": {},
   "source": [
    "### Explanation of the above example:\n",
    "\n",
    "- A function named fetch_and_print_json_data that takes the API URL as an argument was created. This function encapsulates the entire process of fetching and printing JSON data.\n",
    "\n",
    "- Inside the function:\n",
    "\n",
    "    - Use a try block to handle potential exceptions and errors during the process.\n",
    "\n",
    "    - Send an HTTP GET request to the specified API endpoint using requests.get(api_url). This retrieves the data from the API.\n",
    "\n",
    "    - Check if the request was successful by examining the status code (response.status_code). If it is 200, the request was successful.\n",
    "\n",
    "- If the request is successful:\n",
    "\n",
    "    - Parse the JSON data from the response using response.json().\n",
    "\n",
    "    - Print the retrieved JSON data.\n",
    "\n",
    "    - If the request is not successful (status code other than 200), print an error message indicating the failure.\n",
    "\n",
    "    - Use except blocks to catch and handle different types of exceptions:\n",
    "\n",
    "    - requests.exceptions.RequestException: Handles exceptions related to the HTTP request itself (e.g., network issues). json.JSONDecodeError: Handles errors that occur while parsing the JSON response. A generic Exception block to catch any unexpected errors. After defining the function, specify the API URL where you want to fetch JSON data:\n",
    "\n",
    "    - api_url is set to \"https://dummyjson.com/products/search?q=Oil\". Call the fetch_and_print_json_data function with the API URL as an argument to initiate the process of fetching and printing the data.\n",
    "\n",
    "- The function encapsulates the entire process, making it easy to fetch and print JSON data from different API endpoints by calling the function with the desired URL."
   ]
  }
 ],
 "metadata": {
  "kernelspec": {
   "display_name": "Python 3",
   "language": "python",
   "name": "python3"
  },
  "language_info": {
   "codemirror_mode": {
    "name": "ipython",
    "version": 3
   },
   "file_extension": ".py",
   "mimetype": "text/x-python",
   "name": "python",
   "nbconvert_exporter": "python",
   "pygments_lexer": "ipython3",
   "version": "3.12.0"
  }
 },
 "nbformat": 4,
 "nbformat_minor": 5
}
