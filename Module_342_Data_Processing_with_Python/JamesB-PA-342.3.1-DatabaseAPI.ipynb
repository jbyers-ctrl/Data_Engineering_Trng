{
 "cells": [
  {
   "cell_type": "markdown",
   "id": "754e880e",
   "metadata": {},
   "source": [
    "### Objective:\n",
    "In this assignment, you will practice the Python Database API. \n",
    "\n",
    "The outcomes include:\n",
    "\n",
    "Creating a database named \"RegistrationDB\" using Python.\n",
    "Developing Python methods to interact with the database:\n",
    "Creating a \"user\" table.\n",
    "Inserting initial user data.\n",
    "Retrieving all users' data.\n",
    "Retrieving data for a specific user by name.\n",
    "Validating user credentials.\n",
    "Updating user information.\n",
    "Testing the implemented methods within the program.\n",
    "Verifying database changes manually.\n",
    "\n",
    "\n"
   ]
  },
  {
   "cell_type": "markdown",
   "id": "aabd7be7",
   "metadata": {},
   "source": [
    "1. Creating Database: \n",
    "    - Create a Python Program to create a Database, named RegistrationDB."
   ]
  },
  {
   "cell_type": "code",
   "execution_count": 1,
   "id": "62a901a1",
   "metadata": {},
   "outputs": [],
   "source": [
    "import mysql.connector as dbconnect\n",
    "from mysql.connector import Error"
   ]
  },
  {
   "cell_type": "code",
   "execution_count": null,
   "id": "e7532867",
   "metadata": {},
   "outputs": [],
   "source": [
    "\n",
    "def create_database(db_name):\n",
    "\n",
    "    try:\n",
    "\n",
    "        conn = dbconnect.connect(host='localhost', user='root', password='password')\n",
    "\n",
    "        if conn.is_connected(): # Verify DB connection is established\n",
    "            print('Successfully Connected to MySQL database')\n",
    "\n",
    "            # SQLQuery = 'create database %s' %(db_name,) # old style of parameterizing queries\n",
    "            SQLQuery = f'create database {db_name}'  # new style of parameterizing queries\n",
    "            cursor = conn.cursor()\n",
    "            cursor.execute(SQLQuery)\n",
    "\n",
    "    except Error as e:\n",
    "        print(\"Error while connecting to Database\", e)\n",
    "\n",
    "    finally:\n",
    "            \n",
    "            if conn.is_connected():\n",
    "                cursor.close()\n",
    "                conn.close()\n",
    "            print(\"Database connection is closed\")\n",
    "\n",
    "\n",
    "dbName = 'registrationdb'\n",
    "create_database(dbName)"
   ]
  },
  {
   "cell_type": "code",
   "execution_count": null,
   "id": "cd98deba",
   "metadata": {},
   "outputs": [],
   "source": [
    "def drop_database(db_name):\n",
    "\n",
    "    try:\n",
    "        \n",
    "        conn = dbconnect.connect(host='localhost', user='root', password='password')\n",
    "\n",
    "        if conn.is_connected(): # Verify DB connection is established\n",
    "            print('Successfully Connected to MySQL database')\n",
    "\n",
    "            # SQLQuery = 'DROP DATABASE %s' %(db_name,) # old style of parameterizing queries\n",
    "            SQLQuery = f'DROP DATABASE {db_name}' # new style of parameterizing queries\n",
    "            cursor = conn.cursor()\n",
    "            cursor.execute(SQLQuery)\n",
    "            print(f\"Dropped {db_name} database.\")\n",
    "\n",
    "    except Error as e:\n",
    "        print(\"Error while connecting to Database\", e)\n",
    "\n",
    "    finally:\n",
    "            \n",
    "            if conn.is_connected():\n",
    "                cursor.close()\n",
    "                conn.close()\n",
    "            print(\"Database connection is closed\")\n",
    "\n",
    "dbName2 = 'registrationdb'\n",
    "drop_database(dbName2)"
   ]
  },
  {
   "cell_type": "markdown",
   "id": "efb8f174",
   "metadata": {},
   "source": [
    "2. Creating Method:\n",
    "    - Create a file named usertable_manipulation.py. Create a Python program with the following methods: \n",
    "        - generate_user_table()\n",
    "        - get_all_users()\n",
    "        - get_user_by_name(name)\n",
    "        - validate_user(email, password)\n",
    "        - update_user(email, name, password)"
   ]
  },
  {
   "cell_type": "markdown",
   "id": "2df2d3f9",
   "metadata": {},
   "source": [
    "3. generate_user_table() Method:\n",
    "    - ➢ Establish a connection to the RegistrationDB.\n",
    "    - ➢ Create a user table with the following fields/columns:\n",
    "        - email varchar(100)\n",
    "        - name varchar(50)\n",
    "        - password varchar(30)\n",
    "    - ➢ Insert the following values into the table:\n",
    "        - 'ywbaek@perscholas.org', 'young', 'letsgomets'\n",
    "        - 'mcordon@perscholas.org', 'marcial', 'perscholas'\n",
    "        - 'mhaseeb@perscholas.org', 'haseeb', 'platform'"
   ]
  },
  {
   "cell_type": "code",
   "execution_count": null,
   "id": "8157213f",
   "metadata": {},
   "outputs": [
    {
     "name": "stdout",
     "output_type": "stream",
     "text": [
      "Error while connecting to Database 2003 (HY000): Can't connect to MySQL server on 'localhost:3306' (111)\n"
     ]
    },
    {
     "ename": "UnboundLocalError",
     "evalue": "local variable 'conn' referenced before assignment",
     "output_type": "error",
     "traceback": [
      "\u001b[0;31m---------------------------------------------------------------------------\u001b[0m",
      "\u001b[0;31mUnboundLocalError\u001b[0m                         Traceback (most recent call last)",
      "Cell \u001b[0;32mIn[2], line 36\u001b[0m\n\u001b[1;32m     32\u001b[0m             \u001b[38;5;28;01mif\u001b[39;00m \u001b[38;5;129;01mnot\u001b[39;00m conn\u001b[38;5;241m.\u001b[39mis_connected():\n\u001b[1;32m     33\u001b[0m                 \u001b[38;5;28mprint\u001b[39m(\u001b[38;5;124m\"\u001b[39m\u001b[38;5;124mDatabase connection is closed\u001b[39m\u001b[38;5;124m\"\u001b[39m)\n\u001b[0;32m---> 36\u001b[0m \u001b[43mgenerate_user_table\u001b[49m\u001b[43m(\u001b[49m\u001b[43m)\u001b[49m\n",
      "Cell \u001b[0;32mIn[2], line 29\u001b[0m, in \u001b[0;36mgenerate_user_table\u001b[0;34m()\u001b[0m\n\u001b[1;32m     27\u001b[0m     \u001b[38;5;28mprint\u001b[39m(\u001b[38;5;124m\"\u001b[39m\u001b[38;5;124mError while connecting to Database\u001b[39m\u001b[38;5;124m\"\u001b[39m, e)\n\u001b[1;32m     28\u001b[0m \u001b[38;5;28;01mfinally\u001b[39;00m:\n\u001b[0;32m---> 29\u001b[0m         \u001b[38;5;28;01mif\u001b[39;00m \u001b[43mconn\u001b[49m\u001b[38;5;241m.\u001b[39mis_connected():\n\u001b[1;32m     30\u001b[0m             cursor\u001b[38;5;241m.\u001b[39mclose()\n\u001b[1;32m     31\u001b[0m             conn\u001b[38;5;241m.\u001b[39mclose()\n",
      "\u001b[0;31mUnboundLocalError\u001b[0m: local variable 'conn' referenced before assignment"
     ]
    }
   ],
   "source": [
    "def generate_user_table():\n",
    "\n",
    "    try:\n",
    "\n",
    "        conn = dbconnect.connect(host='localhost', database='classicmodels', user='root', password='password')\n",
    "\n",
    "        if conn.is_connected(): # Verify DB connection is established\n",
    "            print('Successfully Connected to MySQL database')\n",
    "\n",
    "            SQLQuery = \"CREATE TABLE IF NOT EXISTS user (email varchar(100), name varchar(50), password varchar(30))\" \n",
    "            cursor = conn.cursor()            \n",
    "            cursor.execute(SQLQuery)\n",
    "            print(f\"Created table\")\n",
    "            print(\"Installing fields/columns\")\n",
    "            \n",
    "            # insert query adds values to columns/fields\n",
    "            insert_query = \"\"\"INSERT INTO user (email, name, password) \n",
    "            VALUES (%s, %s, %s)\"\"\"\n",
    "\n",
    "            data = [('ywbaek@perscholas.org', 'young', 'letsgomets'),\n",
    "                 ('mcordon@perscholas.org', 'marcial', 'perscholas'),\n",
    "                 ('mhaseeb@perscholas.org', 'haseeb', 'platform')]\n",
    "            cursor.executemany(insert_query, data)\n",
    "            conn.commit()\n",
    "            print(\"Values installed\")\n",
    "    except Error as e:\n",
    "        print(\"Error while connecting to Database\", e)\n",
    "    finally:\n",
    "            if conn.is_connected():\n",
    "                cursor.close()\n",
    "                conn.close()\n",
    "            if not conn.is_connected():\n",
    "                print(\"Database connection is closed\")\n",
    "\n",
    "\n",
    "generate_user_table()"
   ]
  },
  {
   "cell_type": "code",
   "execution_count": 6,
   "id": "d98fd3cb",
   "metadata": {},
   "outputs": [
    {
     "name": "stdout",
     "output_type": "stream",
     "text": [
      "Successfully Connected to MySQL database\n",
      "Dropped table.\n",
      "Database connection is closed\n"
     ]
    }
   ],
   "source": [
    "def drop_user_table():\n",
    "    try:\n",
    "        conn = dbconnect.connect(host='localhost', database='registrationdb', user='root', password='password')\n",
    "        if conn.is_connected(): # Verify DB connection is established\n",
    "            print('Successfully Connected to MySQL database')\n",
    "            cursor = conn.cursor()            \n",
    "            SQLQuery = f'DROP TABLE user' \n",
    "            cursor.execute(SQLQuery)\n",
    "            print(f\"Dropped table.\")\n",
    "    except Error as e:\n",
    "        print(\"Error while connecting to Database\", e)\n",
    "    finally:\n",
    "            if conn.is_connected():\n",
    "                cursor.close()\n",
    "                conn.close()\n",
    "            if not conn.is_connected():\n",
    "                print(\"Database connection is closed\")\n",
    "\n",
    "\n",
    "drop_user_table()"
   ]
  },
  {
   "cell_type": "markdown",
   "id": "907cb5b8",
   "metadata": {},
   "source": [
    "4. get_all_users() Method:\n",
    "    - ➢ Establish a connection to the RegistrationDB.\n",
    "    - ➢ Print out the email, name, and password of all users."
   ]
  },
  {
   "cell_type": "code",
   "execution_count": 8,
   "id": "e0c6f039",
   "metadata": {},
   "outputs": [
    {
     "name": "stdout",
     "output_type": "stream",
     "text": [
      "Successfully Connected to MySQL database\n",
      "('ywbaek@perscholas.org', 'young', 'letsgomets')\n",
      "('mcordon@perscholas.org', 'marcial', 'perscholas')\n",
      "('mhaseeb@perscholas.org', 'haseeb', 'platform')\n",
      "Database connection is closed\n"
     ]
    }
   ],
   "source": [
    "def get_all_users():\n",
    "    try:\n",
    "        conn = dbconnect.connect(host='localhost', database='registrationdb', user='root', password='password')\n",
    "        if conn.is_connected(): # Verify DB connection is established\n",
    "            print('Successfully Connected to MySQL database')\n",
    "            cursor = conn.cursor()            \n",
    "            SQLQuery = f'SELECT * FROM user' \n",
    "            cursor.execute(SQLQuery)\n",
    "\n",
    "            # Extract all records using 'fetchall()' to read query result\n",
    "            items = cursor.fetchall()\n",
    "            for item in items:\n",
    "                print(item)\n",
    "    except Error as e:\n",
    "        print(\"Error while connecting to Database\", e)\n",
    "    finally:\n",
    "            if conn.is_connected():\n",
    "                cursor.close()\n",
    "                conn.close()\n",
    "            if not conn.is_connected():\n",
    "                print(\"Database connection is closed\")\n",
    "\n",
    "\n",
    "get_all_users()"
   ]
  },
  {
   "cell_type": "markdown",
   "id": "d1bea767",
   "metadata": {},
   "source": [
    "5. get_user_by_name(name) Method:\n",
    "    - ➢ Establish a connection to the RegistrationDB.\n",
    "    - ➢ Print out the email and password of the user with the given name."
   ]
  },
  {
   "cell_type": "code",
   "execution_count": 24,
   "id": "7f61e278",
   "metadata": {},
   "outputs": [
    {
     "name": "stdout",
     "output_type": "stream",
     "text": [
      "Successfully Connected to MySQL database\n",
      "[('ywbaek@perscholas.org', 'letsgomets')] \n",
      "\n",
      "Young's email is ywbaek@perscholas.org and password is letsgomets\n",
      "Database connection is closed\n"
     ]
    }
   ],
   "source": [
    "def get_user_by_name(name):\n",
    "    try:\n",
    "        conn = dbconnect.connect(host='localhost', database='registrationdb', user='root', password='password')\n",
    "        if conn.is_connected(): # Verify DB connection is established\n",
    "            print('Successfully Connected to MySQL database')\n",
    "            cursor = conn.cursor()            \n",
    "            SQLQuery = f\"SELECT email, password FROM user WHERE name = '{name}'\" \n",
    "            cursor.execute(SQLQuery)\n",
    "\n",
    "            # Extract name using 'fetchall()' to read query result\n",
    "            user_name = cursor.fetchall()\n",
    "            print(user_name, \"\\n\")\n",
    "            # for user in user_name:\n",
    "            #     print(user)\n",
    "            for user in user_name:\n",
    "                print(f\"{name.title()}'s email is {user[0]} and password is {user[1]}\")\n",
    "    except Error as e:\n",
    "        print(\"Error while connecting to Database\", e)\n",
    "    finally:\n",
    "            if conn.is_connected():\n",
    "                cursor.close()\n",
    "                conn.close()\n",
    "            if not conn.is_connected():\n",
    "                print(\"Database connection is closed\")\n",
    "\n",
    "\n",
    "get_user_by_name('young')"
   ]
  },
  {
   "cell_type": "markdown",
   "id": "be709203",
   "metadata": {},
   "source": [
    "6. validate_user(email, password) Method:\n",
    "    - ➢ Establish a connection to the RegistrationDB.\n",
    "    - ➢ Return True if a user exists with the given email and password. Return False otherwise."
   ]
  },
  {
   "cell_type": "code",
   "execution_count": null,
   "id": "613a78ee",
   "metadata": {},
   "outputs": [
    {
     "name": "stdout",
     "output_type": "stream",
     "text": [
      "Successfully Connected to MySQL database\n",
      "False\n",
      "[] \n",
      "\n",
      "Database connection is closed\n"
     ]
    }
   ],
   "source": [
    "def validate_user(email, password):\n",
    "    try:\n",
    "        conn = dbconnect.connect(host='localhost', database='registrationdb', user='root', password='password')\n",
    "        \n",
    "        if conn.is_connected(): # Verify DB connection is established\n",
    "            print('Successfully Connected to MySQL database')\n",
    "            \n",
    "            SQLQuery = f\"SELECT name FROM user WHERE email = '{email}' AND password = '{password}'\" \n",
    "            cursor = conn.cursor()            \n",
    "            cursor.execute(SQLQuery)\n",
    "\n",
    "            # Extract user using 'fetchall()' to read query result\n",
    "            user = cursor.fetchall()\n",
    "\n",
    "            # control flow to return true if tuple is not empty and false if tuple is empty\n",
    "            if user:\n",
    "                 print(True)\n",
    "            else:\n",
    "                 print(False)\n",
    "                        \n",
    "    except Error as e:\n",
    "        print(\"Error while connecting to Database\", e)\n",
    "    finally:\n",
    "            if conn.is_connected():\n",
    "                cursor.close()\n",
    "                conn.close()\n",
    "            if not conn.is_connected():\n",
    "                print(\"Database connection is closed\")\n",
    "\n",
    "u_email = \"ywbaek@perscholas.org\"\n",
    "u_password = \"letsgomets\"\n",
    "t_email = \"test@gmail.com\"\n",
    "t_password = \"testpassword\"\n",
    "validate_user(t_email, t_password)                "
   ]
  },
  {
   "cell_type": "markdown",
   "id": "99e33b5d",
   "metadata": {},
   "source": [
    "7. update_user(email, name, password) method:\n",
    "\n",
    "    - ➢ Establish a connection to the RegistrationDB.\n",
    "    - ➢ For the user with the given email, set the values of name and password to the given name and password.\n",
    "    - ➢ Return True if successful, False otherwise.\n",
    "    - ➢ Test the functions by running them in the program.\n",
    "    - ➢ Check the database manually to see if the changes are applied correctly."
   ]
  },
  {
   "cell_type": "code",
   "execution_count": null,
   "id": "82b6b40e",
   "metadata": {},
   "outputs": [
    {
     "name": "stdout",
     "output_type": "stream",
     "text": [
      "Successfully Connected to MySQL database\n",
      "True\n",
      "Database connection is closed\n"
     ]
    }
   ],
   "source": [
    "def update_user(email, name, password):\n",
    "    try:\n",
    "        conn = dbconnect.connect(host='localhost', database='registrationdb', user='root', password='password')\n",
    "        \n",
    "        if conn.is_connected(): # Verify DB connection is established\n",
    "            print('Successfully Connected to MySQL database')\n",
    "            \n",
    "            SQLQuery = f\"UPDATE user SET name = '{name}', password = '{password}' WHERE email = '{email}'\" \n",
    "            cursor = conn.cursor()            \n",
    "            cursor.execute(SQLQuery)\n",
    "            conn.commit()\n",
    "\n",
    "            check_query = f\"SELECT name, password FROM user WHERE email = '{email}'\"\n",
    "            cursor.execute(check_query)\n",
    "            # Extract user using 'fetchall()' to read query result\n",
    "            user = cursor.fetchall()\n",
    "\n",
    "            # control flow to return true if tuple is not empty and false if tuple is empty\n",
    "            for u in user:\n",
    "                # check to make sure the updated name & password match given params/args\n",
    "                if u[0] == name and u[1] == password:\n",
    "                    print(True)\n",
    "                else:\n",
    "                    print(False)\n",
    "                        \n",
    "    except Error as e:\n",
    "        print(\"Error while connecting to Database\", e)\n",
    "    finally:\n",
    "            if conn.is_connected():\n",
    "                cursor.close()\n",
    "                conn.close()\n",
    "            if not conn.is_connected():\n",
    "                print(\"Database connection is closed\")\n",
    "\n",
    "u_email = \"ywbaek@perscholas.org\"\n",
    "u_name = \"changed_young\"\n",
    "u_password = \"changed_letsgomets\"\n",
    "update_user(u_email, u_name, u_password)"
   ]
  },
  {
   "cell_type": "markdown",
   "id": "84fbbb13",
   "metadata": {},
   "source": [
    "## TEST CELLS BELOW"
   ]
  },
  {
   "cell_type": "code",
   "execution_count": null,
   "id": "612590db",
   "metadata": {},
   "outputs": [],
   "source": [
    "try:\n",
    "        myconnection = dbconnect.connect(host='localhost', user='root', password='password')\n",
    "        if myconnection.is_connected(): # Verify DB connection is established\n",
    "            print('Successfully Connected to MySQL database')\n",
    "            cursor = myconnection.cursor()\n",
    "            SQLQuery = 'DROP DATABASE registrationdb'\n",
    "            cursor.execute(SQLQuery)\n",
    "            print(f\"Dropped registrationdb database.\")\n",
    "except Error as e:\n",
    "    print(\"Error while connecting to Database\", e)\n",
    "finally:\n",
    "        if myconnection.is_connected():\n",
    "            cursor.close()\n",
    "            myconnection.close()\n",
    "        print(\"Database connection is closed\")"
   ]
  },
  {
   "cell_type": "code",
   "execution_count": null,
   "id": "8fc0c1fc",
   "metadata": {},
   "outputs": [],
   "source": [
    "data = (\n",
    "                 ('ywbaek@perscholas.org', 'young', 'letsgomets'),\n",
    "                 ('mcordon@perscholas.org', 'marcial', 'perscholas'),\n",
    "                 ('mhaseeb@perscholas.org', 'haseeb', 'platform')\n",
    "            )"
   ]
  }
 ],
 "metadata": {
  "kernelspec": {
   "display_name": "default",
   "language": "python",
   "name": "python3"
  },
  "language_info": {
   "codemirror_mode": {
    "name": "ipython",
    "version": 3
   },
   "file_extension": ".py",
   "mimetype": "text/x-python",
   "name": "python",
   "nbconvert_exporter": "python",
   "pygments_lexer": "ipython3",
   "version": "3.10.12"
  }
 },
 "nbformat": 4,
 "nbformat_minor": 5
}
