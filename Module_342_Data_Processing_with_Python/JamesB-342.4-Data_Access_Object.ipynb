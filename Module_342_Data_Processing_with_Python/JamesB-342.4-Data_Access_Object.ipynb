{
 "cells": [
  {
   "cell_type": "markdown",
   "id": "b173e10a",
   "metadata": {},
   "source": [
    "## Applying DAO Pattern and OOP"
   ]
  },
  {
   "cell_type": "markdown",
   "id": "cebb6805",
   "metadata": {},
   "source": [
    "### Step 1: Defining ConnectioniDAO Class\n",
    "In this example, we will use “usersdb” database. If you do not have that database, you must create database by the name of “usersdb” in MySQL."
   ]
  },
  {
   "cell_type": "code",
   "execution_count": 10,
   "id": "e1fc0708",
   "metadata": {},
   "outputs": [],
   "source": [
    "import mysql.connector as dbconnect\n",
    "from mysql.connector import Error\n",
    "\n",
    "class ConnectionDAO:\n",
    "\tcon = None\n",
    "\tcur = None\n",
    "\t@classmethod\n",
    "\tdef connect(cls):\n",
    "\t\tcls.con= dbconnect.connect(host='localhost',database='usersdb',user='root',                                             password='password',port='3306')\n",
    "\t\tcls.cur = cls.con.cursor()\n",
    "\t@classmethod\n",
    "\tdef close(cls):\n",
    "\t\tif not cls.con:\n",
    "\t\t\tcls.con.close()"
   ]
  },
  {
   "cell_type": "markdown",
   "id": "4759cef2",
   "metadata": {},
   "source": [
    "### Step 2: Defining Queries class"
   ]
  },
  {
   "cell_type": "code",
   "execution_count": 11,
   "id": "9336ddaf",
   "metadata": {},
   "outputs": [],
   "source": [
    "class Queries:\n",
    "\tcreate_user_t = \"CREATE TABLE user (email VARCHAR (100),name VARCHAR (50),password VARCHAR (30))\"\n",
    "\tinsert_users = \"INSERT INTO user(email, name, password) values('Tony@perscholas.org','haseeb','letsgomets'), ('John@perscholas.org','John','iwillnottellyou')\""
   ]
  },
  {
   "cell_type": "markdown",
   "id": "b75d71cb",
   "metadata": {},
   "source": [
    "### Step 3: Defining UserDAO class and Main() function"
   ]
  },
  {
   "cell_type": "code",
   "execution_count": null,
   "id": "95970fd5",
   "metadata": {},
   "outputs": [
    {
     "name": "stdout",
     "output_type": "stream",
     "text": [
      "Connection closed.\n",
      "Connection closed.\n"
     ]
    }
   ],
   "source": [
    "class UserDAO (ConnectionDAO):\n",
    "\tdef generate_data(self):\n",
    "\t\ttry:\n",
    "\t\t\tUserDAO.connect()\n",
    "\t\t\tUserDAO.cur.execute(Queries.create_user_t)\n",
    "\t\t\tUserDAO.con.commit()\n",
    "\t\t\tUserDAO.con.close()\n",
    "\t\t\tif UserDAO.con.is_connected():\n",
    "\t\t\t\tprint(\"Still connected to the Database!\")\n",
    "\t\t\telse:\n",
    "\t\t\t\tprint(\"Connection closed.\")\n",
    "\t\texcept Error as e:\n",
    "\t\t\tprint(\"Error while connecting to Database\", e)\n",
    "\t\n",
    "\tdef generate_user_table(self):\n",
    "\t\ttry:\n",
    "\t\t\tUserDAO.connect()\n",
    "\t\t\tUserDAO.cur.execute(Queries.insert_users)\n",
    "\t\t\tUserDAO.con.commit()\n",
    "\t\t\tUserDAO.con.close()\n",
    "\t\t\tif UserDAO.con.is_connected():\n",
    "\t\t\t\tprint(\"Still connected to the Database!\")\n",
    "\t\t\telse:\n",
    "\t\t\t\tprint(\"Connection closed.\")\n",
    "\t\texcept Error as e:\n",
    "\t\t\tprint(\"Error while connecting to Database\", e)\n",
    "\n",
    "\tdef get_all_users():\n",
    "\t\tpass\n",
    "\n",
    "\tdef get_user_by_name(name):\n",
    "\t\tpass\n",
    "\n",
    "\tdef validate_user(email, password):\n",
    "\t\tpass\n",
    "\n",
    "\tdef update_user(email, name, password):\n",
    "\t\tpass\n"
   ]
  },
  {
   "cell_type": "code",
   "execution_count": null,
   "id": "52b761ed",
   "metadata": {},
   "outputs": [],
   "source": [
    "# invoke the classes\n",
    "def main():\n",
    "\tu = UserDAO()\n",
    "\tu.generate_data()\n",
    "\tu.generate_user_table()\n",
    "\t\n",
    "main()"
   ]
  }
 ],
 "metadata": {
  "kernelspec": {
   "display_name": "default",
   "language": "python",
   "name": "python3"
  },
  "language_info": {
   "codemirror_mode": {
    "name": "ipython",
    "version": 3
   },
   "file_extension": ".py",
   "mimetype": "text/x-python",
   "name": "python",
   "nbconvert_exporter": "python",
   "pygments_lexer": "ipython3",
   "version": "3.10.12"
  }
 },
 "nbformat": 4,
 "nbformat_minor": 5
}
