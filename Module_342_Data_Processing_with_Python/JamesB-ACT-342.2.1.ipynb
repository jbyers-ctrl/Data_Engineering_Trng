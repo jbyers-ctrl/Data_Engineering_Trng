{
 "cells": [
  {
   "cell_type": "markdown",
   "id": "0dc3fe25",
   "metadata": {},
   "source": [
    "## Advanced Python - Cumulative Lab 1\n",
    "### Accessing a Paginated API Endpoint to Explore Data\n",
    "- Objective:\n",
    "- This lab aims to reinforce data manipulation and API interaction concepts using the Star Wars API. You'll work with paginated data, practice data extraction, and perform analysis on character attributes. In this lab, we will combine concepts that we have learned throughout the class so far. Some of those concepts include:\n",
    "\n",
    "    - Importing Libraries: You'll import necessary libraries like requests and json to handle API requests and JSON data.\n",
    "\n",
    "    - Looping and Data Structures: You'll employ loops to iterate through paginated API responses and extract data from nested lists and dictionaries.\n",
    "\n",
    "    - API Interaction: You'll make requests to the Star Wars API endpoint and handle the responses.\n",
    "\n",
    "    - Function Definition: You'll define functions to perform specific tasks, enhancing code reusability and modularity.\n",
    "\n",
    "    - JSON Data Handling: You'll work with JSON data extracted from API responses, accessing and utilizing character attributes.\n",
    "\n",
    "    - Exception Handling: You'll implement error handling to manage potential API request or data processing issues.\n",
    "\n",
    "\n",
    "- Data Source: The lab utilizes the Star Wars API.\n",
    "\n",
    "    - Starwar Api end point: \n",
    "\n",
    "    - The full documentation can be found here: https://swapi.tech/documentation"
   ]
  },
  {
   "cell_type": "markdown",
   "id": "0048a263",
   "metadata": {},
   "source": [
    "### Task 1:\n",
    "- Import all of the required packages to complete this assignment."
   ]
  },
  {
   "cell_type": "code",
   "execution_count": 2,
   "id": "040988f8",
   "metadata": {},
   "outputs": [],
   "source": [
    "import requests\n",
    "import json"
   ]
  },
  {
   "cell_type": "markdown",
   "id": "adf6ac54",
   "metadata": {},
   "source": [
    "### Task 2:\n",
    "- Make your request to the API Endpoint and use a FOR LOOP if necessary to access multiple pages.\n",
    "\n",
    "- Save all of the responses in one Python Object."
   ]
  },
  {
   "cell_type": "code",
   "execution_count": null,
   "id": "c811f285",
   "metadata": {},
   "outputs": [
    {
     "name": "stdout",
     "output_type": "stream",
     "text": [
      "Accessed page with 10 items. Next page: https://www.swapi.tech/api/people?page=2&limit=10\n",
      "Accessed page with 10 items. Next page: https://www.swapi.tech/api/people?page=3&limit=10\n",
      "Accessed page with 10 items. Next page: https://www.swapi.tech/api/people?page=4&limit=10\n",
      "Accessed page with 10 items. Next page: https://www.swapi.tech/api/people?page=5&limit=10\n",
      "Accessed page with 10 items. Next page: https://www.swapi.tech/api/people?page=6&limit=10\n",
      "Accessed page with 10 items. Next page: https://www.swapi.tech/api/people?page=7&limit=10\n",
      "Accessed page with 10 items. Next page: https://www.swapi.tech/api/people?page=8&limit=10\n",
      "Accessed page with 10 items. Next page: https://www.swapi.tech/api/people?page=9&limit=10\n",
      "Accessed page with 2 items. Next page: None\n",
      "Successfully accessed a total of 82 items\n",
      "\n",
      "Here's the list of characters: \n",
      "\n",
      "[{'uid': '1', 'name': 'Luke Skywalker', 'url': 'https://www.swapi.tech/api/people/1'}, {'uid': '2', 'name': 'C-3PO', 'url': 'https://www.swapi.tech/api/people/2'}, {'uid': '3', 'name': 'R2-D2', 'url': 'https://www.swapi.tech/api/people/3'}, {'uid': '4', 'name': 'Darth Vader', 'url': 'https://www.swapi.tech/api/people/4'}, {'uid': '5', 'name': 'Leia Organa', 'url': 'https://www.swapi.tech/api/people/5'}, {'uid': '6', 'name': 'Owen Lars', 'url': 'https://www.swapi.tech/api/people/6'}, {'uid': '7', 'name': 'Beru Whitesun lars', 'url': 'https://www.swapi.tech/api/people/7'}, {'uid': '8', 'name': 'R5-D4', 'url': 'https://www.swapi.tech/api/people/8'}, {'uid': '9', 'name': 'Biggs Darklighter', 'url': 'https://www.swapi.tech/api/people/9'}, {'uid': '10', 'name': 'Obi-Wan Kenobi', 'url': 'https://www.swapi.tech/api/people/10'}, {'uid': '11', 'name': 'Anakin Skywalker', 'url': 'https://www.swapi.tech/api/people/11'}, {'uid': '12', 'name': 'Wilhuff Tarkin', 'url': 'https://www.swapi.tech/api/people/12'}, {'uid': '13', 'name': 'Chewbacca', 'url': 'https://www.swapi.tech/api/people/13'}, {'uid': '14', 'name': 'Han Solo', 'url': 'https://www.swapi.tech/api/people/14'}, {'uid': '15', 'name': 'Greedo', 'url': 'https://www.swapi.tech/api/people/15'}, {'uid': '16', 'name': 'Jabba Desilijic Tiure', 'url': 'https://www.swapi.tech/api/people/16'}, {'uid': '18', 'name': 'Wedge Antilles', 'url': 'https://www.swapi.tech/api/people/18'}, {'uid': '19', 'name': 'Jek Tono Porkins', 'url': 'https://www.swapi.tech/api/people/19'}, {'uid': '20', 'name': 'Yoda', 'url': 'https://www.swapi.tech/api/people/20'}, {'uid': '21', 'name': 'Palpatine', 'url': 'https://www.swapi.tech/api/people/21'}, {'uid': '22', 'name': 'Boba Fett', 'url': 'https://www.swapi.tech/api/people/22'}, {'uid': '23', 'name': 'IG-88', 'url': 'https://www.swapi.tech/api/people/23'}, {'uid': '24', 'name': 'Bossk', 'url': 'https://www.swapi.tech/api/people/24'}, {'uid': '25', 'name': 'Lando Calrissian', 'url': 'https://www.swapi.tech/api/people/25'}, {'uid': '26', 'name': 'Lobot', 'url': 'https://www.swapi.tech/api/people/26'}, {'uid': '27', 'name': 'Ackbar', 'url': 'https://www.swapi.tech/api/people/27'}, {'uid': '28', 'name': 'Mon Mothma', 'url': 'https://www.swapi.tech/api/people/28'}, {'uid': '29', 'name': 'Arvel Crynyd', 'url': 'https://www.swapi.tech/api/people/29'}, {'uid': '30', 'name': 'Wicket Systri Warrick', 'url': 'https://www.swapi.tech/api/people/30'}, {'uid': '31', 'name': 'Nien Nunb', 'url': 'https://www.swapi.tech/api/people/31'}, {'uid': '32', 'name': 'Qui-Gon Jinn', 'url': 'https://www.swapi.tech/api/people/32'}, {'uid': '33', 'name': 'Nute Gunray', 'url': 'https://www.swapi.tech/api/people/33'}, {'uid': '34', 'name': 'Finis Valorum', 'url': 'https://www.swapi.tech/api/people/34'}, {'uid': '35', 'name': 'Padmé Amidala', 'url': 'https://www.swapi.tech/api/people/35'}, {'uid': '36', 'name': 'Jar Jar Binks', 'url': 'https://www.swapi.tech/api/people/36'}, {'uid': '37', 'name': 'Roos Tarpals', 'url': 'https://www.swapi.tech/api/people/37'}, {'uid': '38', 'name': 'Rugor Nass', 'url': 'https://www.swapi.tech/api/people/38'}, {'uid': '39', 'name': 'Ric Olié', 'url': 'https://www.swapi.tech/api/people/39'}, {'uid': '40', 'name': 'Watto', 'url': 'https://www.swapi.tech/api/people/40'}, {'uid': '41', 'name': 'Sebulba', 'url': 'https://www.swapi.tech/api/people/41'}, {'uid': '42', 'name': 'Quarsh Panaka', 'url': 'https://www.swapi.tech/api/people/42'}, {'uid': '43', 'name': 'Shmi Skywalker', 'url': 'https://www.swapi.tech/api/people/43'}, {'uid': '44', 'name': 'Darth Maul', 'url': 'https://www.swapi.tech/api/people/44'}, {'uid': '45', 'name': 'Bib Fortuna', 'url': 'https://www.swapi.tech/api/people/45'}, {'uid': '46', 'name': 'Ayla Secura', 'url': 'https://www.swapi.tech/api/people/46'}, {'uid': '47', 'name': 'Ratts Tyerel', 'url': 'https://www.swapi.tech/api/people/47'}, {'uid': '48', 'name': 'Dud Bolt', 'url': 'https://www.swapi.tech/api/people/48'}, {'uid': '49', 'name': 'Gasgano', 'url': 'https://www.swapi.tech/api/people/49'}, {'uid': '50', 'name': 'Ben Quadinaros', 'url': 'https://www.swapi.tech/api/people/50'}, {'uid': '51', 'name': 'Mace Windu', 'url': 'https://www.swapi.tech/api/people/51'}, {'uid': '52', 'name': 'Ki-Adi-Mundi', 'url': 'https://www.swapi.tech/api/people/52'}, {'uid': '53', 'name': 'Kit Fisto', 'url': 'https://www.swapi.tech/api/people/53'}, {'uid': '54', 'name': 'Eeth Koth', 'url': 'https://www.swapi.tech/api/people/54'}, {'uid': '55', 'name': 'Adi Gallia', 'url': 'https://www.swapi.tech/api/people/55'}, {'uid': '56', 'name': 'Saesee Tiin', 'url': 'https://www.swapi.tech/api/people/56'}, {'uid': '57', 'name': 'Yarael Poof', 'url': 'https://www.swapi.tech/api/people/57'}, {'uid': '58', 'name': 'Plo Koon', 'url': 'https://www.swapi.tech/api/people/58'}, {'uid': '59', 'name': 'Mas Amedda', 'url': 'https://www.swapi.tech/api/people/59'}, {'uid': '60', 'name': 'Gregar Typho', 'url': 'https://www.swapi.tech/api/people/60'}, {'uid': '61', 'name': 'Cordé', 'url': 'https://www.swapi.tech/api/people/61'}, {'uid': '62', 'name': 'Cliegg Lars', 'url': 'https://www.swapi.tech/api/people/62'}, {'uid': '63', 'name': 'Poggle the Lesser', 'url': 'https://www.swapi.tech/api/people/63'}, {'uid': '64', 'name': 'Luminara Unduli', 'url': 'https://www.swapi.tech/api/people/64'}, {'uid': '65', 'name': 'Barriss Offee', 'url': 'https://www.swapi.tech/api/people/65'}, {'uid': '66', 'name': 'Dormé', 'url': 'https://www.swapi.tech/api/people/66'}, {'uid': '67', 'name': 'Dooku', 'url': 'https://www.swapi.tech/api/people/67'}, {'uid': '68', 'name': 'Bail Prestor Organa', 'url': 'https://www.swapi.tech/api/people/68'}, {'uid': '69', 'name': 'Jango Fett', 'url': 'https://www.swapi.tech/api/people/69'}, {'uid': '70', 'name': 'Zam Wesell', 'url': 'https://www.swapi.tech/api/people/70'}, {'uid': '71', 'name': 'Dexter Jettster', 'url': 'https://www.swapi.tech/api/people/71'}, {'uid': '72', 'name': 'Lama Su', 'url': 'https://www.swapi.tech/api/people/72'}, {'uid': '73', 'name': 'Taun We', 'url': 'https://www.swapi.tech/api/people/73'}, {'uid': '74', 'name': 'Jocasta Nu', 'url': 'https://www.swapi.tech/api/people/74'}, {'uid': '75', 'name': 'R4-P17', 'url': 'https://www.swapi.tech/api/people/75'}, {'uid': '76', 'name': 'Wat Tambor', 'url': 'https://www.swapi.tech/api/people/76'}, {'uid': '77', 'name': 'San Hill', 'url': 'https://www.swapi.tech/api/people/77'}, {'uid': '78', 'name': 'Shaak Ti', 'url': 'https://www.swapi.tech/api/people/78'}, {'uid': '79', 'name': 'Grievous', 'url': 'https://www.swapi.tech/api/people/79'}, {'uid': '80', 'name': 'Tarfful', 'url': 'https://www.swapi.tech/api/people/80'}, {'uid': '81', 'name': 'Raymus Antilles', 'url': 'https://www.swapi.tech/api/people/81'}, {'uid': '82', 'name': 'Sly Moore', 'url': 'https://www.swapi.tech/api/people/82'}, {'uid': '83', 'name': 'Tion Medon', 'url': 'https://www.swapi.tech/api/people/83'}]\n"
     ]
    }
   ],
   "source": [
    "swapi_url = \"https://www.swapi.tech/api/people/\"\n",
    "next_page = swapi_url\n",
    "all_characters = []\n",
    "\n",
    "while next_page:\n",
    "    try:\n",
    "        response = requests.get(next_page)\n",
    "        response.raise_for_status()\n",
    "\n",
    "        data = response.json() # saved as Python Object in variable 'data'\n",
    "        all_characters.extend(data.get(\"results\", [])) # add items from 'results' list to all_characters list\n",
    "\n",
    "        next_page = data.get(\"next\")\n",
    "        print(f\"Accessed page with {len(data.get(\"results\", []))} items. Next page: {next_page}\")\n",
    "    except requests.exceptions.RequestException as e:\n",
    "        print(f\"Error accessing page: {e}\")\n",
    "        break\n",
    "\n",
    "print(f\"Successfully accessed a total of {len(all_characters)} items\\n\")\n",
    "print(\"Here's the list of characters: \\n\")\n",
    "print(all_characters) # entire response saved in one Python object (list)\n"
   ]
  },
  {
   "cell_type": "markdown",
   "id": "6e2ba7f1",
   "metadata": {},
   "source": [
    "### Task 3:\n",
    "- Create a new Python object that holds on the 'result' key for each Character dictionary."
   ]
  },
  {
   "cell_type": "code",
   "execution_count": null,
   "id": "4c8da49b",
   "metadata": {},
   "outputs": [
    {
     "name": "stdout",
     "output_type": "stream",
     "text": [
      "Accessed page with 10 items. Next page: https://www.swapi.tech/api/people?page=2&limit=10\n",
      "Accessed page with 10 items. Next page: https://www.swapi.tech/api/people?page=3&limit=10\n",
      "Accessed page with 10 items. Next page: https://www.swapi.tech/api/people?page=4&limit=10\n",
      "Accessed page with 10 items. Next page: https://www.swapi.tech/api/people?page=5&limit=10\n",
      "Accessed page with 10 items. Next page: https://www.swapi.tech/api/people?page=6&limit=10\n",
      "Accessed page with 10 items. Next page: https://www.swapi.tech/api/people?page=7&limit=10\n",
      "Accessed page with 10 items. Next page: https://www.swapi.tech/api/people?page=8&limit=10\n",
      "Accessed page with 10 items. Next page: https://www.swapi.tech/api/people?page=9&limit=10\n",
      "Accessed page with 2 items. Next page: None\n",
      "Successfully accessed a total of 82 items\n",
      "\n",
      "Here's the list of characters: \n",
      "\n",
      "[{'result': {'uid': '1', 'name': 'Luke Skywalker', 'url': 'https://www.swapi.tech/api/people/1'}}, {'result': {'uid': '2', 'name': 'C-3PO', 'url': 'https://www.swapi.tech/api/people/2'}}, {'result': {'uid': '3', 'name': 'R2-D2', 'url': 'https://www.swapi.tech/api/people/3'}}, {'result': {'uid': '4', 'name': 'Darth Vader', 'url': 'https://www.swapi.tech/api/people/4'}}, {'result': {'uid': '5', 'name': 'Leia Organa', 'url': 'https://www.swapi.tech/api/people/5'}}, {'result': {'uid': '6', 'name': 'Owen Lars', 'url': 'https://www.swapi.tech/api/people/6'}}, {'result': {'uid': '7', 'name': 'Beru Whitesun lars', 'url': 'https://www.swapi.tech/api/people/7'}}, {'result': {'uid': '8', 'name': 'R5-D4', 'url': 'https://www.swapi.tech/api/people/8'}}, {'result': {'uid': '9', 'name': 'Biggs Darklighter', 'url': 'https://www.swapi.tech/api/people/9'}}, {'result': {'uid': '10', 'name': 'Obi-Wan Kenobi', 'url': 'https://www.swapi.tech/api/people/10'}}, {'result': {'uid': '11', 'name': 'Anakin Skywalker', 'url': 'https://www.swapi.tech/api/people/11'}}, {'result': {'uid': '12', 'name': 'Wilhuff Tarkin', 'url': 'https://www.swapi.tech/api/people/12'}}, {'result': {'uid': '13', 'name': 'Chewbacca', 'url': 'https://www.swapi.tech/api/people/13'}}, {'result': {'uid': '14', 'name': 'Han Solo', 'url': 'https://www.swapi.tech/api/people/14'}}, {'result': {'uid': '15', 'name': 'Greedo', 'url': 'https://www.swapi.tech/api/people/15'}}, {'result': {'uid': '16', 'name': 'Jabba Desilijic Tiure', 'url': 'https://www.swapi.tech/api/people/16'}}, {'result': {'uid': '18', 'name': 'Wedge Antilles', 'url': 'https://www.swapi.tech/api/people/18'}}, {'result': {'uid': '19', 'name': 'Jek Tono Porkins', 'url': 'https://www.swapi.tech/api/people/19'}}, {'result': {'uid': '20', 'name': 'Yoda', 'url': 'https://www.swapi.tech/api/people/20'}}, {'result': {'uid': '21', 'name': 'Palpatine', 'url': 'https://www.swapi.tech/api/people/21'}}, {'result': {'uid': '22', 'name': 'Boba Fett', 'url': 'https://www.swapi.tech/api/people/22'}}, {'result': {'uid': '23', 'name': 'IG-88', 'url': 'https://www.swapi.tech/api/people/23'}}, {'result': {'uid': '24', 'name': 'Bossk', 'url': 'https://www.swapi.tech/api/people/24'}}, {'result': {'uid': '25', 'name': 'Lando Calrissian', 'url': 'https://www.swapi.tech/api/people/25'}}, {'result': {'uid': '26', 'name': 'Lobot', 'url': 'https://www.swapi.tech/api/people/26'}}, {'result': {'uid': '27', 'name': 'Ackbar', 'url': 'https://www.swapi.tech/api/people/27'}}, {'result': {'uid': '28', 'name': 'Mon Mothma', 'url': 'https://www.swapi.tech/api/people/28'}}, {'result': {'uid': '29', 'name': 'Arvel Crynyd', 'url': 'https://www.swapi.tech/api/people/29'}}, {'result': {'uid': '30', 'name': 'Wicket Systri Warrick', 'url': 'https://www.swapi.tech/api/people/30'}}, {'result': {'uid': '31', 'name': 'Nien Nunb', 'url': 'https://www.swapi.tech/api/people/31'}}, {'result': {'uid': '32', 'name': 'Qui-Gon Jinn', 'url': 'https://www.swapi.tech/api/people/32'}}, {'result': {'uid': '33', 'name': 'Nute Gunray', 'url': 'https://www.swapi.tech/api/people/33'}}, {'result': {'uid': '34', 'name': 'Finis Valorum', 'url': 'https://www.swapi.tech/api/people/34'}}, {'result': {'uid': '35', 'name': 'Padmé Amidala', 'url': 'https://www.swapi.tech/api/people/35'}}, {'result': {'uid': '36', 'name': 'Jar Jar Binks', 'url': 'https://www.swapi.tech/api/people/36'}}, {'result': {'uid': '37', 'name': 'Roos Tarpals', 'url': 'https://www.swapi.tech/api/people/37'}}, {'result': {'uid': '38', 'name': 'Rugor Nass', 'url': 'https://www.swapi.tech/api/people/38'}}, {'result': {'uid': '39', 'name': 'Ric Olié', 'url': 'https://www.swapi.tech/api/people/39'}}, {'result': {'uid': '40', 'name': 'Watto', 'url': 'https://www.swapi.tech/api/people/40'}}, {'result': {'uid': '41', 'name': 'Sebulba', 'url': 'https://www.swapi.tech/api/people/41'}}, {'result': {'uid': '42', 'name': 'Quarsh Panaka', 'url': 'https://www.swapi.tech/api/people/42'}}, {'result': {'uid': '43', 'name': 'Shmi Skywalker', 'url': 'https://www.swapi.tech/api/people/43'}}, {'result': {'uid': '44', 'name': 'Darth Maul', 'url': 'https://www.swapi.tech/api/people/44'}}, {'result': {'uid': '45', 'name': 'Bib Fortuna', 'url': 'https://www.swapi.tech/api/people/45'}}, {'result': {'uid': '46', 'name': 'Ayla Secura', 'url': 'https://www.swapi.tech/api/people/46'}}, {'result': {'uid': '47', 'name': 'Ratts Tyerel', 'url': 'https://www.swapi.tech/api/people/47'}}, {'result': {'uid': '48', 'name': 'Dud Bolt', 'url': 'https://www.swapi.tech/api/people/48'}}, {'result': {'uid': '49', 'name': 'Gasgano', 'url': 'https://www.swapi.tech/api/people/49'}}, {'result': {'uid': '50', 'name': 'Ben Quadinaros', 'url': 'https://www.swapi.tech/api/people/50'}}, {'result': {'uid': '51', 'name': 'Mace Windu', 'url': 'https://www.swapi.tech/api/people/51'}}, {'result': {'uid': '52', 'name': 'Ki-Adi-Mundi', 'url': 'https://www.swapi.tech/api/people/52'}}, {'result': {'uid': '53', 'name': 'Kit Fisto', 'url': 'https://www.swapi.tech/api/people/53'}}, {'result': {'uid': '54', 'name': 'Eeth Koth', 'url': 'https://www.swapi.tech/api/people/54'}}, {'result': {'uid': '55', 'name': 'Adi Gallia', 'url': 'https://www.swapi.tech/api/people/55'}}, {'result': {'uid': '56', 'name': 'Saesee Tiin', 'url': 'https://www.swapi.tech/api/people/56'}}, {'result': {'uid': '57', 'name': 'Yarael Poof', 'url': 'https://www.swapi.tech/api/people/57'}}, {'result': {'uid': '58', 'name': 'Plo Koon', 'url': 'https://www.swapi.tech/api/people/58'}}, {'result': {'uid': '59', 'name': 'Mas Amedda', 'url': 'https://www.swapi.tech/api/people/59'}}, {'result': {'uid': '60', 'name': 'Gregar Typho', 'url': 'https://www.swapi.tech/api/people/60'}}, {'result': {'uid': '61', 'name': 'Cordé', 'url': 'https://www.swapi.tech/api/people/61'}}, {'result': {'uid': '62', 'name': 'Cliegg Lars', 'url': 'https://www.swapi.tech/api/people/62'}}, {'result': {'uid': '63', 'name': 'Poggle the Lesser', 'url': 'https://www.swapi.tech/api/people/63'}}, {'result': {'uid': '64', 'name': 'Luminara Unduli', 'url': 'https://www.swapi.tech/api/people/64'}}, {'result': {'uid': '65', 'name': 'Barriss Offee', 'url': 'https://www.swapi.tech/api/people/65'}}, {'result': {'uid': '66', 'name': 'Dormé', 'url': 'https://www.swapi.tech/api/people/66'}}, {'result': {'uid': '67', 'name': 'Dooku', 'url': 'https://www.swapi.tech/api/people/67'}}, {'result': {'uid': '68', 'name': 'Bail Prestor Organa', 'url': 'https://www.swapi.tech/api/people/68'}}, {'result': {'uid': '69', 'name': 'Jango Fett', 'url': 'https://www.swapi.tech/api/people/69'}}, {'result': {'uid': '70', 'name': 'Zam Wesell', 'url': 'https://www.swapi.tech/api/people/70'}}, {'result': {'uid': '71', 'name': 'Dexter Jettster', 'url': 'https://www.swapi.tech/api/people/71'}}, {'result': {'uid': '72', 'name': 'Lama Su', 'url': 'https://www.swapi.tech/api/people/72'}}, {'result': {'uid': '73', 'name': 'Taun We', 'url': 'https://www.swapi.tech/api/people/73'}}, {'result': {'uid': '74', 'name': 'Jocasta Nu', 'url': 'https://www.swapi.tech/api/people/74'}}, {'result': {'uid': '75', 'name': 'R4-P17', 'url': 'https://www.swapi.tech/api/people/75'}}, {'result': {'uid': '76', 'name': 'Wat Tambor', 'url': 'https://www.swapi.tech/api/people/76'}}, {'result': {'uid': '77', 'name': 'San Hill', 'url': 'https://www.swapi.tech/api/people/77'}}, {'result': {'uid': '78', 'name': 'Shaak Ti', 'url': 'https://www.swapi.tech/api/people/78'}}, {'result': {'uid': '79', 'name': 'Grievous', 'url': 'https://www.swapi.tech/api/people/79'}}, {'result': {'uid': '80', 'name': 'Tarfful', 'url': 'https://www.swapi.tech/api/people/80'}}, {'result': {'uid': '81', 'name': 'Raymus Antilles', 'url': 'https://www.swapi.tech/api/people/81'}}, {'result': {'uid': '82', 'name': 'Sly Moore', 'url': 'https://www.swapi.tech/api/people/82'}}, {'result': {'uid': '83', 'name': 'Tion Medon', 'url': 'https://www.swapi.tech/api/people/83'}}]\n"
     ]
    }
   ],
   "source": [
    "swapi_url = \"https://www.swapi.tech/api/people/\"\n",
    "next_page = swapi_url\n",
    "all_characters = []\n",
    "list_of_char_dicts = []\n",
    "\n",
    "while next_page:\n",
    "    try:\n",
    "        response = requests.get(next_page)\n",
    "        response.raise_for_status()\n",
    "\n",
    "        data = response.json() # saved as Python Object in variable 'data'\n",
    "        all_characters.extend(data.get(\"results\", [])) # add items from 'results' list to all_characters list\n",
    "\n",
    "        next_page = data.get(\"next\")\n",
    "        print(f\"Accessed page with {len(data.get(\"results\", []))} items. Next page: {next_page}\")\n",
    "    except requests.exceptions.RequestException as e:\n",
    "        print(f\"Error accessing page: {e}\")\n",
    "        break\n",
    "\n",
    "print(f\"Successfully accessed a total of {len(all_characters)} items\\n\")\n",
    "print(\"Here's the list of characters: \\n\")\n",
    "for item in all_characters: # access items from previous list\n",
    "    character_dict = {} # empty dictionary for each iteration/item\n",
    "    character_dict[\"result\"] = item # create result key for each item\n",
    "    list_of_char_dicts.append(character_dict) # store in a list\n",
    "print(list_of_char_dicts) # dictionaries with result as the key stored in a list\n",
    "\n"
   ]
  },
  {
   "cell_type": "markdown",
   "id": "de9d198c",
   "metadata": {},
   "source": [
    "### Task 4:\n",
    "- Define a function that returns a list of all of the character names.\n",
    "\n",
    "- Call the function."
   ]
  },
  {
   "cell_type": "code",
   "execution_count": null,
   "id": "8020bd19",
   "metadata": {},
   "outputs": [
    {
     "name": "stdout",
     "output_type": "stream",
     "text": [
      "Accessed page with 10 items. Next page: https://www.swapi.tech/api/people?page=2&limit=10\n",
      "Accessed page with 10 items. Next page: https://www.swapi.tech/api/people?page=3&limit=10\n",
      "Accessed page with 10 items. Next page: https://www.swapi.tech/api/people?page=4&limit=10\n",
      "Accessed page with 10 items. Next page: https://www.swapi.tech/api/people?page=5&limit=10\n",
      "Accessed page with 10 items. Next page: https://www.swapi.tech/api/people?page=6&limit=10\n",
      "Accessed page with 10 items. Next page: https://www.swapi.tech/api/people?page=7&limit=10\n",
      "Accessed page with 10 items. Next page: https://www.swapi.tech/api/people?page=8&limit=10\n",
      "Accessed page with 10 items. Next page: https://www.swapi.tech/api/people?page=9&limit=10\n",
      "Accessed page with 2 items. Next page: None\n",
      "Successfully accessed a total of 82 items\n",
      "\n",
      "Here's the list of characters: \n",
      "\n",
      "['Luke Skywalker', 'C-3PO', 'R2-D2', 'Darth Vader', 'Leia Organa', 'Owen Lars', 'Beru Whitesun lars', 'R5-D4', 'Biggs Darklighter', 'Obi-Wan Kenobi', 'Anakin Skywalker', 'Wilhuff Tarkin', 'Chewbacca', 'Han Solo', 'Greedo', 'Jabba Desilijic Tiure', 'Wedge Antilles', 'Jek Tono Porkins', 'Yoda', 'Palpatine', 'Boba Fett', 'IG-88', 'Bossk', 'Lando Calrissian', 'Lobot', 'Ackbar', 'Mon Mothma', 'Arvel Crynyd', 'Wicket Systri Warrick', 'Nien Nunb', 'Qui-Gon Jinn', 'Nute Gunray', 'Finis Valorum', 'Padmé Amidala', 'Jar Jar Binks', 'Roos Tarpals', 'Rugor Nass', 'Ric Olié', 'Watto', 'Sebulba', 'Quarsh Panaka', 'Shmi Skywalker', 'Darth Maul', 'Bib Fortuna', 'Ayla Secura', 'Ratts Tyerel', 'Dud Bolt', 'Gasgano', 'Ben Quadinaros', 'Mace Windu', 'Ki-Adi-Mundi', 'Kit Fisto', 'Eeth Koth', 'Adi Gallia', 'Saesee Tiin', 'Yarael Poof', 'Plo Koon', 'Mas Amedda', 'Gregar Typho', 'Cordé', 'Cliegg Lars', 'Poggle the Lesser', 'Luminara Unduli', 'Barriss Offee', 'Dormé', 'Dooku', 'Bail Prestor Organa', 'Jango Fett', 'Zam Wesell', 'Dexter Jettster', 'Lama Su', 'Taun We', 'Jocasta Nu', 'R4-P17', 'Wat Tambor', 'San Hill', 'Shaak Ti', 'Grievous', 'Tarfful', 'Raymus Antilles', 'Sly Moore', 'Tion Medon']\n"
     ]
    }
   ],
   "source": [
    "def character_list(url):\n",
    "    next_page = url\n",
    "    all_characters = []\n",
    "    list_of_char_names = []\n",
    "\n",
    "    while next_page:\n",
    "        try:\n",
    "            response = requests.get(next_page)\n",
    "            response.raise_for_status()\n",
    "\n",
    "            data = response.json() # saved as Python Object in variable 'data'\n",
    "            all_characters.extend(data.get(\"results\", [])) # add items from 'results' list to all_characters list\n",
    "\n",
    "            next_page = data.get(\"next\")\n",
    "            print(f\"Accessed page with {len(data.get(\"results\", []))} items. Next page: {next_page}\")\n",
    "        except requests.exceptions.RequestException as e:\n",
    "            print(f\"Error accessing page: {e}\")\n",
    "            break\n",
    "\n",
    "    print(f\"Successfully accessed a total of {len(all_characters)} items\\n\")\n",
    "    print(\"Here's the list of character names: \\n\")\n",
    "    for item in all_characters: # access items from previous list\n",
    "        character_dict = {} # empty dictionary for each iteration/item\n",
    "        character_dict[\"result\"] = item # create result key for each item\n",
    "        list_of_char_names.append(character_dict[\"result\"][\"name\"]) # store names of characters in a list\n",
    "    print(list_of_char_names) # character names stored in a list\n",
    "\n",
    "    \n",
    "character_url = \"https://www.swapi.tech/api/people/\"\n",
    "character_list(character_url)"
   ]
  },
  {
   "cell_type": "markdown",
   "id": "b894b6a7",
   "metadata": {},
   "source": [
    "### Task 5: Sort Starships Alphabetically\n",
    "- After collecting all starships:\n",
    "\n",
    "    - Sort the list by their name in ascending order.\n",
    "    - Display the sorted names."
   ]
  },
  {
   "cell_type": "code",
   "execution_count": 4,
   "id": "d1c05ef1",
   "metadata": {},
   "outputs": [
    {
     "name": "stdout",
     "output_type": "stream",
     "text": [
      "Accessed page with 10 items. Next page: https://www.swapi.tech/api/starships?page=2&limit=10\n",
      "Accessed page with 10 items. Next page: https://www.swapi.tech/api/starships?page=3&limit=10\n",
      "Accessed page with 10 items. Next page: https://www.swapi.tech/api/starships?page=4&limit=10\n",
      "Accessed page with 6 items. Next page: None\n",
      "Successfully accessed a total of 36 items\n",
      "\n",
      "Here's the list of starships: \n",
      "\n",
      "[{'uid': '2', 'name': 'CR90 corvette', 'url': 'https://www.swapi.tech/api/starships/2'}, {'uid': '3', 'name': 'Star Destroyer', 'url': 'https://www.swapi.tech/api/starships/3'}, {'uid': '5', 'name': 'Sentinel-class landing craft', 'url': 'https://www.swapi.tech/api/starships/5'}, {'uid': '9', 'name': 'Death Star', 'url': 'https://www.swapi.tech/api/starships/9'}, {'uid': '11', 'name': 'Y-wing', 'url': 'https://www.swapi.tech/api/starships/11'}, {'uid': '10', 'name': 'Millennium Falcon', 'url': 'https://www.swapi.tech/api/starships/10'}, {'uid': '13', 'name': 'TIE Advanced x1', 'url': 'https://www.swapi.tech/api/starships/13'}, {'uid': '15', 'name': 'Executor', 'url': 'https://www.swapi.tech/api/starships/15'}, {'uid': '12', 'name': 'X-wing', 'url': 'https://www.swapi.tech/api/starships/12'}, {'uid': '17', 'name': 'Rebel transport', 'url': 'https://www.swapi.tech/api/starships/17'}, {'uid': '21', 'name': 'Slave 1', 'url': 'https://www.swapi.tech/api/starships/21'}, {'uid': '22', 'name': 'Imperial shuttle', 'url': 'https://www.swapi.tech/api/starships/22'}, {'uid': '23', 'name': 'EF76 Nebulon-B escort frigate', 'url': 'https://www.swapi.tech/api/starships/23'}, {'uid': '28', 'name': 'A-wing', 'url': 'https://www.swapi.tech/api/starships/28'}, {'uid': '27', 'name': 'Calamari Cruiser', 'url': 'https://www.swapi.tech/api/starships/27'}, {'uid': '29', 'name': 'B-wing', 'url': 'https://www.swapi.tech/api/starships/29'}, {'uid': '31', 'name': 'Republic Cruiser', 'url': 'https://www.swapi.tech/api/starships/31'}, {'uid': '32', 'name': 'Droid control ship', 'url': 'https://www.swapi.tech/api/starships/32'}, {'uid': '39', 'name': 'Naboo fighter', 'url': 'https://www.swapi.tech/api/starships/39'}, {'uid': '40', 'name': 'Naboo Royal Starship', 'url': 'https://www.swapi.tech/api/starships/40'}, {'uid': '43', 'name': 'J-type diplomatic barge', 'url': 'https://www.swapi.tech/api/starships/43'}, {'uid': '41', 'name': 'Scimitar', 'url': 'https://www.swapi.tech/api/starships/41'}, {'uid': '47', 'name': 'AA-9 Coruscant freighter', 'url': 'https://www.swapi.tech/api/starships/47'}, {'uid': '48', 'name': 'Jedi starfighter', 'url': 'https://www.swapi.tech/api/starships/48'}, {'uid': '52', 'name': 'Republic Assault ship', 'url': 'https://www.swapi.tech/api/starships/52'}, {'uid': '49', 'name': 'H-type Nubian yacht', 'url': 'https://www.swapi.tech/api/starships/49'}, {'uid': '59', 'name': 'Trade Federation cruiser', 'url': 'https://www.swapi.tech/api/starships/59'}, {'uid': '58', 'name': 'Solar Sailer', 'url': 'https://www.swapi.tech/api/starships/58'}, {'uid': '61', 'name': 'Theta-class T-2c shuttle', 'url': 'https://www.swapi.tech/api/starships/61'}, {'uid': '63', 'name': 'Republic attack cruiser', 'url': 'https://www.swapi.tech/api/starships/63'}, {'uid': '64', 'name': 'Naboo star skiff', 'url': 'https://www.swapi.tech/api/starships/64'}, {'uid': '65', 'name': 'Jedi Interceptor', 'url': 'https://www.swapi.tech/api/starships/65'}, {'uid': '66', 'name': 'arc-170', 'url': 'https://www.swapi.tech/api/starships/66'}, {'uid': '68', 'name': 'Banking clan frigte', 'url': 'https://www.swapi.tech/api/starships/68'}, {'uid': '74', 'name': 'Belbullab-22 starfighter', 'url': 'https://www.swapi.tech/api/starships/74'}, {'uid': '75', 'name': 'V-wing', 'url': 'https://www.swapi.tech/api/starships/75'}]\n"
     ]
    }
   ],
   "source": [
    "swapi_url = \"https://www.swapi.tech/api/starships/\"\n",
    "next_page = swapi_url\n",
    "all_starships = []\n",
    "list_of_char_dicts = []\n",
    "\n",
    "while next_page:\n",
    "    try:\n",
    "        response = requests.get(next_page)\n",
    "        response.raise_for_status()\n",
    "\n",
    "        data = response.json() # saved as Python Object in variable 'data'\n",
    "        all_starships.extend(data.get(\"results\", [])) # add items from 'results' list to all_starships list\n",
    "\n",
    "        next_page = data.get(\"next\")\n",
    "        print(f\"Accessed page with {len(data.get('results', []))} items. Next page: {next_page}\")\n",
    "    except requests.exceptions.RequestException as e:\n",
    "        print(f\"Error accessing page: {e}\")\n",
    "        break\n",
    "\n",
    "print(f\"Successfully accessed a total of {len(all_starships)} items\\n\")\n",
    "print(\"Here's the list of starships: \\n\")\n",
    "print(all_starships) # dictionaries with result as the key stored in a list"
   ]
  },
  {
   "cell_type": "code",
   "execution_count": 5,
   "id": "db876859",
   "metadata": {},
   "outputs": [
    {
     "name": "stdout",
     "output_type": "stream",
     "text": [
      "['CR90 corvette', 'Star Destroyer', 'Sentinel-class landing craft', 'Death Star', 'Y-wing', 'Millennium Falcon', 'TIE Advanced x1', 'Executor', 'X-wing', 'Rebel transport', 'Slave 1', 'Imperial shuttle', 'EF76 Nebulon-B escort frigate', 'A-wing', 'Calamari Cruiser', 'B-wing', 'Republic Cruiser', 'Droid control ship', 'Naboo fighter', 'Naboo Royal Starship', 'J-type diplomatic barge', 'Scimitar', 'AA-9 Coruscant freighter', 'Jedi starfighter', 'Republic Assault ship', 'H-type Nubian yacht', 'Trade Federation cruiser', 'Solar Sailer', 'Theta-class T-2c shuttle', 'Republic attack cruiser', 'Naboo star skiff', 'Jedi Interceptor', 'arc-170', 'Banking clan frigte', 'Belbullab-22 starfighter', 'V-wing']\n",
      "Sorted list below:\n",
      "['A-wing', 'AA-9 Coruscant freighter', 'B-wing', 'Banking clan frigte', 'Belbullab-22 starfighter', 'CR90 corvette', 'Calamari Cruiser', 'Death Star', 'Droid control ship', 'EF76 Nebulon-B escort frigate', 'Executor', 'H-type Nubian yacht', 'Imperial shuttle', 'J-type diplomatic barge', 'Jedi Interceptor', 'Jedi starfighter', 'Millennium Falcon', 'Naboo Royal Starship', 'Naboo fighter', 'Naboo star skiff', 'Rebel transport', 'Republic Assault ship', 'Republic Cruiser', 'Republic attack cruiser', 'Scimitar', 'Sentinel-class landing craft', 'Slave 1', 'Solar Sailer', 'Star Destroyer', 'TIE Advanced x1', 'Theta-class T-2c shuttle', 'Trade Federation cruiser', 'V-wing', 'X-wing', 'Y-wing', 'arc-170']\n"
     ]
    }
   ],
   "source": [
    "original_list = [] # store list of starship names\n",
    "\n",
    "for item in all_starships:\n",
    "    original_list.append(item['name'])\n",
    "\n",
    "sorted_list = sorted(original_list) # list of starship names alphabetically\n",
    "print(original_list)\n",
    "print(\"Sorted list below:\")\n",
    "print(sorted_list)"
   ]
  },
  {
   "cell_type": "markdown",
   "id": "1a79abad",
   "metadata": {},
   "source": [
    "### Task 6: Search Starship by Name\n",
    "- Create a function search_starship(name: str) that:\n",
    "\n",
    "    - Searches through the list of starships.\n",
    "    - Returns the full object where the name matches the search term (case-insensitive)."
   ]
  },
  {
   "cell_type": "code",
   "execution_count": null,
   "id": "7b8e3490",
   "metadata": {},
   "outputs": [
    {
     "name": "stdout",
     "output_type": "stream",
     "text": [
      "{'message': 'ok', 'result': [{'properties': {'created': '2025-04-30T17:55:23.011Z', 'edited': '2025-04-30T17:55:23.011Z', 'consumables': '3 years', 'name': 'Death Star', 'cargo_capacity': '1000000000000', 'passengers': '843,342', 'max_atmosphering_speed': 'n/a', 'crew': '342,953', 'length': '120000', 'model': 'DS-1 Orbital Battle Station', 'cost_in_credits': '1000000000000', 'manufacturer': 'Imperial Department of Military Research, Sienar Fleet Systems', 'pilots': [], 'MGLT': '10', 'starship_class': 'Deep Space Mobile Battlestation', 'hyperdrive_rating': '4.0', 'films': ['https://www.swapi.tech/api/films/1'], 'url': 'https://www.swapi.tech/api/starships/9'}, '_id': '5f63a34fee9fd7000499be21', 'description': 'A Starship', 'uid': '9', '__v': 2}], 'apiVersion': '1.0', 'timestamp': '2025-04-30T18:42:03.986Z', 'support': {'contact': 'admin@swapi.tech', 'donate': 'https://www.paypal.com/donate/?business=2HGAUVTWGR5T2&no_recurring=0&item_name=Support+Swapi+and+keep+the+galaxy%27s+data+free%21+Your+donation+fuels+open-source+innovation+and+helps+us+grow.+Thank+you%21+%F0%9F%9A%80&currency_code=USD', 'partnerDiscounts': {'saberMasters': {'link': 'https://www.swapi.tech/partner-discount/sabermasters-swapi', 'details': 'Use this link to automatically get $10 off your purchase!'}, 'heartMath': {'link': 'https://www.heartmath.com/ryanc', 'details': 'Looking for some Jedi-like inner peace? Take 10% off your heart-brain coherence tools from the HeartMath Institute!'}}}, 'social': {'discord': 'https://discord.gg/zWvA6GPeNG', 'reddit': 'https://www.reddit.com/r/SwapiOfficial/', 'github': 'https://github.com/semperry/swapi/blob/main/CONTRIBUTORS.md'}}\n",
      "Successfully accessed death star\n",
      "\n"
     ]
    }
   ],
   "source": [
    "def search_starship(name:str):\n",
    "    swapi_url = \"https://www.swapi.tech/api/starships/\"\n",
    "    payload = {\"name\":name} # argument to pass into the get request\n",
    "    try:\n",
    "        response = requests.get(swapi_url, params=payload)\n",
    "        response.raise_for_status()\n",
    "\n",
    "        data = response.json() # saved as Python Object in variable 'data'\n",
    "        print(data)\n",
    "    except requests.exceptions.RequestException as e:\n",
    "        print(f\"Error accessing page: {e}\")        \n",
    "\n",
    "    print(f\"Successfully accessed {name}\\n\")\n",
    "\n",
    "\n",
    "search_starship(\"death star\")"
   ]
  },
  {
   "cell_type": "markdown",
   "id": "2ef8a5b1",
   "metadata": {},
   "source": [
    "### Task 7: Calculate Average Length of Starships\n",
    "- Fetch detailed starship information.\n",
    "\n",
    "    - Calculate and print the average length (length field) of all starships."
   ]
  },
  {
   "cell_type": "code",
   "execution_count": null,
   "id": "548dd288",
   "metadata": {},
   "outputs": [
    {
     "name": "stdout",
     "output_type": "stream",
     "text": [
      "[150, 1600, 38, 120000, 14, 34.37, 9.2, 19000, 12.5, 90, 21.5, 20, 300, 9.6, 1200, 16.9, 115, 3170, 11, 76, 39, 26.5, 390, 8, 752, 47.9, 1088, 15.2, 18.5, 1137, 29.2, 5.47, 14.5, 825, 6.71, 7.9]\n"
     ]
    }
   ],
   "source": [
    "len_list = [] # store the length of all starships\n",
    "\n",
    "# iterate previous list 'all_starships'\n",
    "for item in all_starships:\n",
    "    resp = requests.get(item['url']) # access only the url attribute\n",
    "    data = resp.json()['result']['properties']['length'] # access only the length attribute\n",
    "    data_int = data.replace(\",\", \"\") # remove comma from 'item'\n",
    "\n",
    "    # convert 'item' to float or integers\n",
    "    if \".\" in data_int:\n",
    "        data_int = float(data_int)\n",
    "        len_list.append(data_int)\n",
    "    else:\n",
    "        data_int = int(data_int)\n",
    "        len_list.append(data_int)\n",
    "\n",
    "print(len_list)\n",
    "# print(url_list) # list of starship urls\n",
    "# print(len(url_list)) # output 36\n"
   ]
  },
  {
   "cell_type": "code",
   "execution_count": null,
   "id": "9856e6ee",
   "metadata": {},
   "outputs": [
    {
     "data": {
      "text/plain": [
       "4174.970833333334"
      ]
     },
     "execution_count": 15,
     "metadata": {},
     "output_type": "execute_result"
    }
   ],
   "source": [
    "avg_length = sum(len_list) / len(len_list) # calculate avg length\n",
    "avg_length\n"
   ]
  },
  {
   "cell_type": "markdown",
   "id": "a6921fe4",
   "metadata": {},
   "source": [
    "***\n",
    "### For trial and error purposes"
   ]
  },
  {
   "cell_type": "code",
   "execution_count": 12,
   "id": "63eef23e",
   "metadata": {},
   "outputs": [
    {
     "data": {
      "text/plain": [
       "{'message': 'ok',\n",
       " 'result': {'properties': {'created': '2025-04-30T17:55:23.011Z',\n",
       "   'edited': '2025-04-30T17:55:23.011Z',\n",
       "   'consumables': '3 years',\n",
       "   'name': 'Death Star',\n",
       "   'cargo_capacity': '1000000000000',\n",
       "   'passengers': '843,342',\n",
       "   'max_atmosphering_speed': 'n/a',\n",
       "   'crew': '342,953',\n",
       "   'length': '120000',\n",
       "   'model': 'DS-1 Orbital Battle Station',\n",
       "   'cost_in_credits': '1000000000000',\n",
       "   'manufacturer': 'Imperial Department of Military Research, Sienar Fleet Systems',\n",
       "   'pilots': [],\n",
       "   'MGLT': '10',\n",
       "   'starship_class': 'Deep Space Mobile Battlestation',\n",
       "   'hyperdrive_rating': '4.0',\n",
       "   'films': ['https://www.swapi.tech/api/films/1'],\n",
       "   'url': 'https://www.swapi.tech/api/starships/9'},\n",
       "  '_id': '5f63a34fee9fd7000499be21',\n",
       "  'description': 'A Starship',\n",
       "  'uid': '9',\n",
       "  '__v': 2},\n",
       " 'apiVersion': '1.0',\n",
       " 'timestamp': '2025-04-30T19:06:43.581Z',\n",
       " 'support': {'contact': 'admin@swapi.tech',\n",
       "  'donate': 'https://www.paypal.com/donate/?business=2HGAUVTWGR5T2&no_recurring=0&item_name=Support+Swapi+and+keep+the+galaxy%27s+data+free%21+Your+donation+fuels+open-source+innovation+and+helps+us+grow.+Thank+you%21+%F0%9F%9A%80&currency_code=USD',\n",
       "  'partnerDiscounts': {'saberMasters': {'link': 'https://www.swapi.tech/partner-discount/sabermasters-swapi',\n",
       "    'details': 'Use this link to automatically get $10 off your purchase!'},\n",
       "   'heartMath': {'link': 'https://www.heartmath.com/ryanc',\n",
       "    'details': 'Looking for some Jedi-like inner peace? Take 10% off your heart-brain coherence tools from the HeartMath Institute!'}}},\n",
       " 'social': {'discord': 'https://discord.gg/zWvA6GPeNG',\n",
       "  'reddit': 'https://www.reddit.com/r/SwapiOfficial/',\n",
       "  'github': 'https://github.com/semperry/swapi/blob/main/CONTRIBUTORS.md'}}"
      ]
     },
     "execution_count": 12,
     "metadata": {},
     "output_type": "execute_result"
    }
   ],
   "source": [
    "swapi_url = \"https://www.swapi.tech/api/starships/9/\"\n",
    "response = requests.get(swapi_url)\n",
    "data = response.json()\n",
    "data"
   ]
  },
  {
   "cell_type": "code",
   "execution_count": 13,
   "id": "a390722e",
   "metadata": {},
   "outputs": [
    {
     "data": {
      "text/plain": [
       "{'message': 'ok',\n",
       " 'total_records': 36,\n",
       " 'total_pages': 4,\n",
       " 'previous': None,\n",
       " 'next': 'https://www.swapi.tech/api/starships?page=2&limit=10',\n",
       " 'results': [{'uid': '2',\n",
       "   'name': 'CR90 corvette',\n",
       "   'url': 'https://www.swapi.tech/api/starships/2'},\n",
       "  {'uid': '3',\n",
       "   'name': 'Star Destroyer',\n",
       "   'url': 'https://www.swapi.tech/api/starships/3'},\n",
       "  {'uid': '5',\n",
       "   'name': 'Sentinel-class landing craft',\n",
       "   'url': 'https://www.swapi.tech/api/starships/5'},\n",
       "  {'uid': '9',\n",
       "   'name': 'Death Star',\n",
       "   'url': 'https://www.swapi.tech/api/starships/9'},\n",
       "  {'uid': '11',\n",
       "   'name': 'Y-wing',\n",
       "   'url': 'https://www.swapi.tech/api/starships/11'},\n",
       "  {'uid': '10',\n",
       "   'name': 'Millennium Falcon',\n",
       "   'url': 'https://www.swapi.tech/api/starships/10'},\n",
       "  {'uid': '13',\n",
       "   'name': 'TIE Advanced x1',\n",
       "   'url': 'https://www.swapi.tech/api/starships/13'},\n",
       "  {'uid': '15',\n",
       "   'name': 'Executor',\n",
       "   'url': 'https://www.swapi.tech/api/starships/15'},\n",
       "  {'uid': '12',\n",
       "   'name': 'X-wing',\n",
       "   'url': 'https://www.swapi.tech/api/starships/12'},\n",
       "  {'uid': '17',\n",
       "   'name': 'Rebel transport',\n",
       "   'url': 'https://www.swapi.tech/api/starships/17'}],\n",
       " 'apiVersion': '1.0',\n",
       " 'timestamp': '2025-04-30T19:07:39.379Z',\n",
       " 'support': {'contact': 'admin@swapi.tech',\n",
       "  'donate': 'https://www.paypal.com/donate/?business=2HGAUVTWGR5T2&no_recurring=0&item_name=Support+Swapi+and+keep+the+galaxy%27s+data+free%21+Your+donation+fuels+open-source+innovation+and+helps+us+grow.+Thank+you%21+%F0%9F%9A%80&currency_code=USD',\n",
       "  'partnerDiscounts': {'saberMasters': {'link': 'https://www.swapi.tech/partner-discount/sabermasters-swapi',\n",
       "    'details': 'Use this link to automatically get $10 off your purchase!'},\n",
       "   'heartMath': {'link': 'https://www.heartmath.com/ryanc',\n",
       "    'details': 'Looking for some Jedi-like inner peace? Take 10% off your heart-brain coherence tools from the HeartMath Institute!'}}},\n",
       " 'social': {'discord': 'https://discord.gg/zWvA6GPeNG',\n",
       "  'reddit': 'https://www.reddit.com/r/SwapiOfficial/',\n",
       "  'github': 'https://github.com/semperry/swapi/blob/main/CONTRIBUTORS.md'}}"
      ]
     },
     "execution_count": 13,
     "metadata": {},
     "output_type": "execute_result"
    }
   ],
   "source": [
    "swapi_url = \"https://www.swapi.tech/api/starships/\"\n",
    "response = requests.get(swapi_url)\n",
    "data = response.json()\n",
    "data"
   ]
  },
  {
   "cell_type": "code",
   "execution_count": 12,
   "id": "c71393e5",
   "metadata": {},
   "outputs": [
    {
     "name": "stdout",
     "output_type": "stream",
     "text": [
      "[150, 1600, 38, 120000, 14, 34.37, 9.2, 19000, 12.5, 90, 21.5]\n",
      "140969.57\n"
     ]
    }
   ],
   "source": [
    "sample = ['150', '1600', '38', '120000', '14', '34.37', '9.2', '19000', '12.5', '90', '21.5']\n",
    "sample_2 = []\n",
    "for item in sample:\n",
    "    if \".\" in item:\n",
    "        item = float(item)\n",
    "        sample_2.append(item)\n",
    "    else:\n",
    "        item = int(item)\n",
    "        sample_2.append(item)\n",
    "print(sample_2)\n",
    "print(sum(sample_2))\n"
   ]
  }
 ],
 "metadata": {
  "kernelspec": {
   "display_name": "default",
   "language": "python",
   "name": "python3"
  },
  "language_info": {
   "codemirror_mode": {
    "name": "ipython",
    "version": 3
   },
   "file_extension": ".py",
   "mimetype": "text/x-python",
   "name": "python",
   "nbconvert_exporter": "python",
   "pygments_lexer": "ipython3",
   "version": "3.10.12"
  }
 },
 "nbformat": 4,
 "nbformat_minor": 5
}
