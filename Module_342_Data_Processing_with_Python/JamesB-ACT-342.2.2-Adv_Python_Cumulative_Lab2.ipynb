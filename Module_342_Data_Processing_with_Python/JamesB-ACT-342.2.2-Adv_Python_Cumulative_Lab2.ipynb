{
 "cells": [
  {
   "cell_type": "markdown",
   "id": "ce355a64",
   "metadata": {},
   "source": [
    "### Accessing a Paginated API Endpoint to Explore Data- Part 2\n",
    "- In this lab we will combine concepts that we have learned throughout the class so far. Some of those concepts are:\n",
    "\n",
    "    - Importing Libraries\n",
    "    - Looping through nested lists and Dictionaries\n",
    "    - Make a request to an API Endpoint\n",
    "    - Define functions based on a given set of conditions\n",
    "    - Handling Exception Errors\n",
    "\n",
    "- To complete this lab we will be using data from a Star Wars API. The full documentation can be found here: https://swapi.tech/documentation#intro\n",
    "\n",
    "- We will be focusing on the \"Starship \" Resource for this lab."
   ]
  },
  {
   "cell_type": "markdown",
   "id": "38a66f5c",
   "metadata": {},
   "source": [
    "### Task 1: Import all of the required packages to complete this assignment"
   ]
  },
  {
   "cell_type": "code",
   "execution_count": 1,
   "id": "a03a247e",
   "metadata": {},
   "outputs": [],
   "source": [
    "import requests\n",
    "import json"
   ]
  },
  {
   "cell_type": "markdown",
   "id": "d2c773aa",
   "metadata": {},
   "source": [
    "### Task 2:\n",
    "\n",
    "- Make your request to the API Endpoint and use a WHILE LOOP if neccessary to access multiple pages.\n",
    "- Saves only necessary fields (name, uid, url) into a new Python object (list of dictionaries)."
   ]
  },
  {
   "cell_type": "code",
   "execution_count": 2,
   "id": "3584facc",
   "metadata": {},
   "outputs": [
    {
     "name": "stdout",
     "output_type": "stream",
     "text": [
      "Here's the list of starships: \n",
      "\n",
      "[{'uid': '2', 'name': 'CR90 corvette', 'url': 'https://www.swapi.tech/api/starships/2'}, {'uid': '3', 'name': 'Star Destroyer', 'url': 'https://www.swapi.tech/api/starships/3'}, {'uid': '5', 'name': 'Sentinel-class landing craft', 'url': 'https://www.swapi.tech/api/starships/5'}, {'uid': '9', 'name': 'Death Star', 'url': 'https://www.swapi.tech/api/starships/9'}, {'uid': '11', 'name': 'Y-wing', 'url': 'https://www.swapi.tech/api/starships/11'}, {'uid': '10', 'name': 'Millennium Falcon', 'url': 'https://www.swapi.tech/api/starships/10'}, {'uid': '13', 'name': 'TIE Advanced x1', 'url': 'https://www.swapi.tech/api/starships/13'}, {'uid': '15', 'name': 'Executor', 'url': 'https://www.swapi.tech/api/starships/15'}, {'uid': '12', 'name': 'X-wing', 'url': 'https://www.swapi.tech/api/starships/12'}, {'uid': '17', 'name': 'Rebel transport', 'url': 'https://www.swapi.tech/api/starships/17'}, {'uid': '21', 'name': 'Slave 1', 'url': 'https://www.swapi.tech/api/starships/21'}, {'uid': '22', 'name': 'Imperial shuttle', 'url': 'https://www.swapi.tech/api/starships/22'}, {'uid': '23', 'name': 'EF76 Nebulon-B escort frigate', 'url': 'https://www.swapi.tech/api/starships/23'}, {'uid': '28', 'name': 'A-wing', 'url': 'https://www.swapi.tech/api/starships/28'}, {'uid': '27', 'name': 'Calamari Cruiser', 'url': 'https://www.swapi.tech/api/starships/27'}, {'uid': '29', 'name': 'B-wing', 'url': 'https://www.swapi.tech/api/starships/29'}, {'uid': '31', 'name': 'Republic Cruiser', 'url': 'https://www.swapi.tech/api/starships/31'}, {'uid': '32', 'name': 'Droid control ship', 'url': 'https://www.swapi.tech/api/starships/32'}, {'uid': '39', 'name': 'Naboo fighter', 'url': 'https://www.swapi.tech/api/starships/39'}, {'uid': '40', 'name': 'Naboo Royal Starship', 'url': 'https://www.swapi.tech/api/starships/40'}, {'uid': '43', 'name': 'J-type diplomatic barge', 'url': 'https://www.swapi.tech/api/starships/43'}, {'uid': '41', 'name': 'Scimitar', 'url': 'https://www.swapi.tech/api/starships/41'}, {'uid': '47', 'name': 'AA-9 Coruscant freighter', 'url': 'https://www.swapi.tech/api/starships/47'}, {'uid': '48', 'name': 'Jedi starfighter', 'url': 'https://www.swapi.tech/api/starships/48'}, {'uid': '52', 'name': 'Republic Assault ship', 'url': 'https://www.swapi.tech/api/starships/52'}, {'uid': '49', 'name': 'H-type Nubian yacht', 'url': 'https://www.swapi.tech/api/starships/49'}, {'uid': '59', 'name': 'Trade Federation cruiser', 'url': 'https://www.swapi.tech/api/starships/59'}, {'uid': '58', 'name': 'Solar Sailer', 'url': 'https://www.swapi.tech/api/starships/58'}, {'uid': '61', 'name': 'Theta-class T-2c shuttle', 'url': 'https://www.swapi.tech/api/starships/61'}, {'uid': '63', 'name': 'Republic attack cruiser', 'url': 'https://www.swapi.tech/api/starships/63'}, {'uid': '64', 'name': 'Naboo star skiff', 'url': 'https://www.swapi.tech/api/starships/64'}, {'uid': '65', 'name': 'Jedi Interceptor', 'url': 'https://www.swapi.tech/api/starships/65'}, {'uid': '66', 'name': 'arc-170', 'url': 'https://www.swapi.tech/api/starships/66'}, {'uid': '68', 'name': 'Banking clan frigte', 'url': 'https://www.swapi.tech/api/starships/68'}, {'uid': '74', 'name': 'Belbullab-22 starfighter', 'url': 'https://www.swapi.tech/api/starships/74'}, {'uid': '75', 'name': 'V-wing', 'url': 'https://www.swapi.tech/api/starships/75'}]\n"
     ]
    }
   ],
   "source": [
    "swapi_url = \"https://www.swapi.tech/api/starships/\"\n",
    "next_page = swapi_url\n",
    "all_starships = []\n",
    "\n",
    "while next_page:\n",
    "    try:\n",
    "        response = requests.get(next_page)\n",
    "        response.raise_for_status()\n",
    "\n",
    "        data = response.json() # saved as Python Object in variable 'data'\n",
    "        all_starships.extend(data.get(\"results\", [])) # add items from 'results' list to all_starships list\n",
    "\n",
    "        next_page = data.get(\"next\")\n",
    "        # print(f\"Accessed page with {len(data.get(\"results\", []))} items. Next page: {next_page}\")\n",
    "    except requests.exceptions.RequestException as e:\n",
    "        print(f\"Error accessing page: {e}\")\n",
    "        break\n",
    "\n",
    "# print(f\"Successfully accessed a total of {len(all_starships)} items\\n\")\n",
    "print(\"Here's the list of starships: \\n\")\n",
    "print(all_starships) # entire response saved in one Python object (list)"
   ]
  },
  {
   "cell_type": "markdown",
   "id": "00651afe",
   "metadata": {},
   "source": [
    "### Task 3:\n",
    "\n",
    "- Define and call a function that returns all of the models of starships."
   ]
  },
  {
   "cell_type": "code",
   "execution_count": null,
   "id": "6d8a1227",
   "metadata": {},
   "outputs": [
    {
     "name": "stdout",
     "output_type": "stream",
     "text": [
      "Here's the list of starship models: \n",
      "\n",
      "['CR90 corvette', 'Imperial I-class Star Destroyer', 'Sentinel-class landing craft', 'DS-1 Orbital Battle Station', 'BTL Y-wing', 'YT-1300 light freighter', 'Twin Ion Engine Advanced x1', 'Executor-class star dreadnought', 'T-65 X-wing', 'GR-75 medium transport', 'Firespray-31-class patrol and attack', 'Lambda-class T-4a shuttle', 'EF76 Nebulon-B escort frigate', 'RZ-1 A-wing Interceptor', 'MC80 Liberty type Star Cruiser', 'A/SF-01 B-wing starfighter', 'Consular-class cruiser', 'Lucrehulk-class Droid Control Ship', 'N-1 starfighter', 'J-type 327 Nubian royal starship', 'J-type diplomatic barge', 'Star Courier', 'Botajef AA-9 Freighter-Liner', 'Delta-7 Aethersprite-class interceptor', 'Acclamator I-class assault ship', 'H-type Nubian yacht', 'Providence-class carrier/destroyer', 'Punworcca 116-class interstellar sloop', 'Theta-class T-2c shuttle', 'Senator-class Star Destroyer', 'J-type star skiff', 'Eta-2 Actis-class light interceptor', 'Aggressive Reconnaissance-170 starfighte', 'Munificent-class star frigate', 'Belbullab-22 starfighter', 'Alpha-3 Nimbus-class V-wing starfighter']\n"
     ]
    },
    {
     "data": {
      "text/plain": [
       "['CR90 corvette',\n",
       " 'Imperial I-class Star Destroyer',\n",
       " 'Sentinel-class landing craft',\n",
       " 'DS-1 Orbital Battle Station',\n",
       " 'BTL Y-wing',\n",
       " 'YT-1300 light freighter',\n",
       " 'Twin Ion Engine Advanced x1',\n",
       " 'Executor-class star dreadnought',\n",
       " 'T-65 X-wing',\n",
       " 'GR-75 medium transport',\n",
       " 'Firespray-31-class patrol and attack',\n",
       " 'Lambda-class T-4a shuttle',\n",
       " 'EF76 Nebulon-B escort frigate',\n",
       " 'RZ-1 A-wing Interceptor',\n",
       " 'MC80 Liberty type Star Cruiser',\n",
       " 'A/SF-01 B-wing starfighter',\n",
       " 'Consular-class cruiser',\n",
       " 'Lucrehulk-class Droid Control Ship',\n",
       " 'N-1 starfighter',\n",
       " 'J-type 327 Nubian royal starship',\n",
       " 'J-type diplomatic barge',\n",
       " 'Star Courier',\n",
       " 'Botajef AA-9 Freighter-Liner',\n",
       " 'Delta-7 Aethersprite-class interceptor',\n",
       " 'Acclamator I-class assault ship',\n",
       " 'H-type Nubian yacht',\n",
       " 'Providence-class carrier/destroyer',\n",
       " 'Punworcca 116-class interstellar sloop',\n",
       " 'Theta-class T-2c shuttle',\n",
       " 'Senator-class Star Destroyer',\n",
       " 'J-type star skiff',\n",
       " 'Eta-2 Actis-class light interceptor',\n",
       " 'Aggressive Reconnaissance-170 starfighte',\n",
       " 'Munificent-class star frigate',\n",
       " 'Belbullab-22 starfighter',\n",
       " 'Alpha-3 Nimbus-class V-wing starfighter']"
      ]
     },
     "execution_count": 10,
     "metadata": {},
     "output_type": "execute_result"
    }
   ],
   "source": [
    "def model_starships(url):\n",
    "    \n",
    "    next_page = url\n",
    "    all_models = []\n",
    "\n",
    "    while next_page:\n",
    "        try:\n",
    "            response = requests.get(next_page) # get all starship resources\n",
    "            response.raise_for_status()\n",
    "\n",
    "            data = response.json() # save as Python Object (dict) in variable 'data'\n",
    "            # loop through 'results' key\n",
    "            for item in data['results']:\n",
    "                resp = requests.get(item['url']) # access url value\n",
    "                links = resp.json()['result'] # save 'result' key as Python object\n",
    "                all_models.append(links['properties']['model']) # append 'model' to list\n",
    "            \n",
    "            next_page = data.get(\"next\")            \n",
    "        except requests.exceptions.RequestException as e:\n",
    "            print(f\"Error accessing page: {e}\")\n",
    "            break\n",
    "\n",
    "    print(\"Here's the list of starship models: \\n\")\n",
    "    # entire response saved in one Python object (list)    \n",
    "    return all_models\n",
    "\n",
    "swapi_url = \"https://www.swapi.tech/api/starships/\"\n",
    "model_starships(swapi_url)"
   ]
  },
  {
   "cell_type": "markdown",
   "id": "41736e13",
   "metadata": {},
   "source": [
    "### Task 4:\n",
    "\n",
    "- Define and execute a function to identify the starship with the highest cargo capacity."
   ]
  },
  {
   "cell_type": "code",
   "execution_count": 18,
   "id": "d5237d6a",
   "metadata": {},
   "outputs": [
    {
     "name": "stdout",
     "output_type": "stream",
     "text": [
      "The Starship with the highest capacity is: \n",
      "\n"
     ]
    },
    {
     "data": {
      "text/plain": [
       "'Death Star with a capacity of 1000000000000'"
      ]
     },
     "execution_count": 18,
     "metadata": {},
     "output_type": "execute_result"
    }
   ],
   "source": [
    "def highest_cargo_capacity(url):\n",
    "    \n",
    "    next_page = url\n",
    "    star_max_cargo = ''\n",
    "    max_capacity = 0\n",
    "\n",
    "    while next_page:\n",
    "        try:\n",
    "            response = requests.get(next_page) # get all starship resources\n",
    "            response.raise_for_status()\n",
    "\n",
    "            data = response.json() # save as Python Object (dict) in variable 'data'\n",
    "            # loop through 'results' key\n",
    "            for item in data['results']:\n",
    "                resp = requests.get(item['url']) # access url value\n",
    "                starship = resp.json()['result']['properties']['name']\n",
    "                capacity = resp.json()['result']['properties']['cargo_capacity'] # save 'result' key as Python object\n",
    "                \n",
    "                if capacity == 'unknown':\n",
    "                    continue\n",
    "                else:\n",
    "                    capacity = int(capacity)\n",
    "                    if capacity > max_capacity:\n",
    "                        max_capacity = capacity\n",
    "                        star_max_cargo = starship\n",
    "            \n",
    "            next_page = data.get(\"next\")            \n",
    "        except requests.exceptions.RequestException as e:\n",
    "            print(f\"Error accessing page: {e}\")\n",
    "            break\n",
    "\n",
    "    print(\"The Starship with the highest capacity is: \\n\")\n",
    "    # entire response saved in one Python object (list)    \n",
    "    return f\"{star_max_cargo} with a capacity of {max_capacity}\"\n",
    "\n",
    "swapi_url = \"https://www.swapi.tech/api/starships/\"\n",
    "highest_cargo_capacity(swapi_url)"
   ]
  },
  {
   "cell_type": "markdown",
   "id": "0923ba63",
   "metadata": {},
   "source": [
    "### Task 5:\n",
    "\n",
    "- Create a function that takes the name of a starship as input and returns its crew size and passenger capacity.\n",
    "\n",
    "- Ensure the function handles both valid inputs and edge cases gracefully.\n",
    "\n",
    "(Hint: Results do not include crew and passengers directly — you must first fetch the detailed url.)\n",
    "\n",
    "- Demonstrate the function by calling it with at least two different test cases.\n",
    "- ✅ Test Cases:\n",
    "\n",
    "    - Test Case 1: Search for \"Millennium Falcon\"\n",
    "\n",
    "    - Test Case 2: Search for \"X-wing\""
   ]
  },
  {
   "cell_type": "code",
   "execution_count": 32,
   "id": "132b4f10",
   "metadata": {},
   "outputs": [
    {
     "name": "stdout",
     "output_type": "stream",
     "text": [
      "The Millennium Falcon holds a crew of 4 and 6 passengers\n",
      "The X-wing holds a crew of 1 and 0 passengers\n"
     ]
    }
   ],
   "source": [
    "def crew_passenger_cap(starship_name):\n",
    "    swapi_url = \"https://www.swapi.tech/api/starships/\"\n",
    "    params = {\"name\": starship_name}\n",
    "    \n",
    "    try:\n",
    "        response = requests.get(swapi_url, params=params) # get all starship resources\n",
    "        response.raise_for_status()\n",
    "\n",
    "        data = response.json() # save as Python Object (dict) in variable 'data'\n",
    "        for item in data['result']:\n",
    "            crew = item['properties']['crew']\n",
    "            passengers = item['properties']['passengers']\n",
    "            return f\"The {starship_name} holds a crew of {crew} and {passengers} passengers\"\n",
    "                 \n",
    "    except requests.exceptions.RequestException as e:\n",
    "        print(f\"Error accessing page: {e}\")        \n",
    "    \n",
    "search_1 = \"Millennium Falcon\"\n",
    "search_2 = \"X-wing\"\n",
    "\n",
    "print(crew_passenger_cap(search_1))\n",
    "print(crew_passenger_cap(search_2))"
   ]
  },
  {
   "cell_type": "markdown",
   "id": "c2aa8e69",
   "metadata": {},
   "source": [
    "***\n",
    "### Test Purposes"
   ]
  },
  {
   "cell_type": "code",
   "execution_count": 15,
   "id": "5c400028",
   "metadata": {},
   "outputs": [
    {
     "name": "stdout",
     "output_type": "stream",
     "text": [
      "['3000000', '36000000', '180000', '1000000000000', '110', '100000', '150', '250000000', '110', '19000000', '70000', '80000', '6000000', '40', 'unknown', '45', 'unknown', '4000000000', '65', 'unknown', 'unknown', '2500000', 'unknown', '60', '11250000', 'unknown', '50000000', '240', '50000', '20000000', 'unknown', '60', '110', '40000000', '140', '60']\n"
     ]
    }
   ],
   "source": [
    "swapi_url = \"https://www.swapi.tech/api/starships/\"\n",
    "next_page = swapi_url\n",
    "star_max_cargo = ''\n",
    "max_capacity = 0\n",
    "cap_list = []\n",
    "while next_page:\n",
    "    try:\n",
    "        response = requests.get(next_page) # get all starship resources\n",
    "        response.raise_for_status()\n",
    "\n",
    "        data = response.json() # save as Python Object (dict) in variable 'data'\n",
    "        # loop through 'results' key\n",
    "        for item in data['results']:\n",
    "            resp = requests.get(item['url']) # access url value\n",
    "            starship = resp.json()['result']['properties']['name']\n",
    "            capacity = resp.json()['result']['properties']['cargo_capacity']\n",
    "            cap_list.append(capacity)\n",
    "        next_page = data.get(\"next\")\n",
    "        \n",
    "    except requests.exceptions.RequestException as e:\n",
    "        print(f\"Error accessing page: {e}\")\n",
    "        break\n",
    "print(cap_list)"
   ]
  },
  {
   "cell_type": "code",
   "execution_count": 27,
   "id": "4f5655f0",
   "metadata": {},
   "outputs": [
    {
     "name": "stdout",
     "output_type": "stream",
     "text": [
      "{'message': 'ok', 'result': [{'properties': {'created': '2025-04-30T17:55:23.011Z', 'edited': '2025-04-30T17:55:23.011Z', 'consumables': '2 months', 'name': 'Millennium Falcon', 'cargo_capacity': '100000', 'passengers': '6', 'max_atmosphering_speed': '1050', 'crew': '4', 'length': '34.37', 'model': 'YT-1300 light freighter', 'cost_in_credits': '100000', 'manufacturer': 'Corellian Engineering Corporation', 'pilots': ['https://www.swapi.tech/api/people/13', 'https://www.swapi.tech/api/people/14', 'https://www.swapi.tech/api/people/25', 'https://www.swapi.tech/api/people/31'], 'MGLT': '75', 'starship_class': 'Light freighter', 'hyperdrive_rating': '0.5', 'films': ['https://www.swapi.tech/api/films/1', 'https://www.swapi.tech/api/films/2', 'https://www.swapi.tech/api/films/3'], 'url': 'https://www.swapi.tech/api/starships/10'}, '_id': '5f63a34fee9fd7000499be23', 'description': 'A Starship', 'uid': '10', '__v': 2}], 'apiVersion': '1.0', 'timestamp': '2025-05-01T04:43:14.375Z', 'support': {'contact': 'admin@swapi.tech', 'donate': 'https://www.paypal.com/donate/?business=2HGAUVTWGR5T2&no_recurring=0&item_name=Support+Swapi+and+keep+the+galaxy%27s+data+free%21+Your+donation+fuels+open-source+innovation+and+helps+us+grow.+Thank+you%21+%F0%9F%9A%80&currency_code=USD', 'partnerDiscounts': {'saberMasters': {'link': 'https://www.swapi.tech/partner-discount/sabermasters-swapi', 'details': 'Use this link to automatically get $10 off your purchase!'}, 'heartMath': {'link': 'https://www.heartmath.com/ryanc', 'details': 'Looking for some Jedi-like inner peace? Take 10% off your heart-brain coherence tools from the HeartMath Institute!'}}}, 'social': {'discord': 'https://discord.gg/zWvA6GPeNG', 'reddit': 'https://www.reddit.com/r/SwapiOfficial/', 'github': 'https://github.com/semperry/swapi/blob/main/CONTRIBUTORS.md'}}\n"
     ]
    }
   ],
   "source": [
    "starship_name = \"Millennium Falcon\"\n",
    "swapi_url = \"https://www.swapi.tech/api/starships/\"\n",
    "params = {\"name\": starship_name}\n",
    "\n",
    "\n",
    "\n",
    "response = requests.get(swapi_url, params=params) # get all starship resources\n",
    "response.raise_for_status()\n",
    "\n",
    "data2 = response.json() # save as Python Object (dict) in variable 'data2'\n",
    "print(data2)"
   ]
  }
 ],
 "metadata": {
  "kernelspec": {
   "display_name": "default",
   "language": "python",
   "name": "python3"
  },
  "language_info": {
   "codemirror_mode": {
    "name": "ipython",
    "version": 3
   },
   "file_extension": ".py",
   "mimetype": "text/x-python",
   "name": "python",
   "nbconvert_exporter": "python",
   "pygments_lexer": "ipython3",
   "version": "3.10.12"
  }
 },
 "nbformat": 4,
 "nbformat_minor": 5
}
