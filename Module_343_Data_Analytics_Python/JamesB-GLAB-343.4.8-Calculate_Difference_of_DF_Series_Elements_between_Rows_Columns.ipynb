{
  "cells": [
    {
      "cell_type": "markdown",
      "metadata": {
        "id": "ucZP74YoPsI7"
      },
      "source": [
        "# **Guided Lab 343.4.8 - How to Calculates the Difference of a DataFrame or Series elements between rows/columns.**"
      ]
    },
    {
      "cell_type": "markdown",
      "metadata": {
        "id": "sXmkcx7dONsu"
      },
      "source": [
        "## **Learning Objective:**\n",
        "\n",
        "In this lab, you will learn how to use the Pandas **diff()** function to calculate the difference between rows and between columns.\n",
        "\n",
        "By the end of this lab, learners wil be able to use **diff()** function for finding the difference between two Dataframe or Series.\n",
        "\n",
        "\n"
      ]
    },
    {
      "cell_type": "markdown",
      "metadata": {
        "id": "GG7bxAbQHC1r"
      },
      "source": [
        "## **Introduction:**\n",
        "Pandas diff() function returns the difference between rows or columns on your DataFrame. You have the option to select how many rows/columns you'd like to difference via the 'periods' parameter.\n",
        "\n",
        "- Pandas diff() function will difference your rows or columns. This means calculating the change in your row(s)/column(s) over a set number of periods. Or simply, pandas diff() will subtract 1 cell value from another cell value within the same index.\n",
        "\n",
        "- The diff() is very helpful when calculating rates of change. For example: you have temperature readings per day, calculating the difference will tell you how the temperatures have changed Day-Over-Day.\n",
        "\n",
        "- You can also think of this as taking the derivative (rate of change) of the data. This is also helpful when working with time series data and calculating Week-Over-Week.\n",
        "\n"
      ]
    },
    {
      "cell_type": "markdown",
      "metadata": {
        "id": "BypdstveHWd6"
      },
      "source": [
        "## Syntax: `pandas.DataFrame.diff(self, periods=1, axis=0)`"
      ]
    },
    {
      "cell_type": "markdown",
      "metadata": {
        "id": "orkcZkRcHVUT"
      },
      "source": [
        "**Diff Parameters:**\n",
        "\n",
        "**Periods:** (Default=1): You can select how many periods you’d like to difference by via the periods parameter. An easier way to think about this is, ‘how many rows would you like to difference from each cell?’ In the picture above, our periods=1 so we take the difference from each neighboring cell above.\n",
        "\n",
        "**Axis:**(Default=0): We usually talk about differencing rows (Axis=0), but pandas also allows you to difference columns (Axis=1)."
      ]
    },
    {
      "cell_type": "markdown",
      "metadata": {
        "id": "bBFN7qXyIDx7"
      },
      "source": [
        "In this lab, we will run through three type of examples:\n",
        "\n",
        "- Default differencing\n",
        "\n",
        "- Two Period Differencing\n",
        "\n",
        "- Column Differencing\n",
        "\n",
        "\n",
        "First, let's create our DataFrame"
      ]
    },
    {
      "cell_type": "code",
      "execution_count": 1,
      "metadata": {},
      "outputs": [],
      "source": [
        "import numpy as np\n",
        "import pandas as pd"
      ]
    },
    {
      "cell_type": "code",
      "execution_count": 11,
      "metadata": {
        "colab": {
          "base_uri": "https://localhost:8080/",
          "height": 269
        },
        "id": "FFrtFzcDGbUc",
        "outputId": "4feb2ff1-2bfe-4907-c1ed-53979382cc0c"
      },
      "outputs": [
        {
          "data": {
            "text/html": [
              "<div>\n",
              "<style scoped>\n",
              "    .dataframe tbody tr th:only-of-type {\n",
              "        vertical-align: middle;\n",
              "    }\n",
              "\n",
              "    .dataframe tbody tr th {\n",
              "        vertical-align: top;\n",
              "    }\n",
              "\n",
              "    .dataframe thead th {\n",
              "        text-align: right;\n",
              "    }\n",
              "</style>\n",
              "<table border=\"1\" class=\"dataframe\">\n",
              "  <thead>\n",
              "    <tr style=\"text-align: right;\">\n",
              "      <th></th>\n",
              "      <th>San Francisco</th>\n",
              "      <th>San Diego</th>\n",
              "      <th>Los Angeles</th>\n",
              "    </tr>\n",
              "  </thead>\n",
              "  <tbody>\n",
              "    <tr>\n",
              "      <th>Mon</th>\n",
              "      <td>75.0</td>\n",
              "      <td>69.0</td>\n",
              "      <td>76.0</td>\n",
              "    </tr>\n",
              "    <tr>\n",
              "      <th>Tues</th>\n",
              "      <td>85.0</td>\n",
              "      <td>68.0</td>\n",
              "      <td>68.0</td>\n",
              "    </tr>\n",
              "    <tr>\n",
              "      <th>Wed</th>\n",
              "      <td>86.0</td>\n",
              "      <td>78.0</td>\n",
              "      <td>65.0</td>\n",
              "    </tr>\n",
              "    <tr>\n",
              "      <th>Thurs</th>\n",
              "      <td>75.0</td>\n",
              "      <td>65.0</td>\n",
              "      <td>65.0</td>\n",
              "    </tr>\n",
              "    <tr>\n",
              "      <th>Fri</th>\n",
              "      <td>72.0</td>\n",
              "      <td>51.0</td>\n",
              "      <td>53.0</td>\n",
              "    </tr>\n",
              "    <tr>\n",
              "      <th>Sat</th>\n",
              "      <td>64.0</td>\n",
              "      <td>60.0</td>\n",
              "      <td>73.0</td>\n",
              "    </tr>\n",
              "    <tr>\n",
              "      <th>Sun</th>\n",
              "      <td>61.0</td>\n",
              "      <td>56.0</td>\n",
              "      <td>85.0</td>\n",
              "    </tr>\n",
              "  </tbody>\n",
              "</table>\n",
              "</div>"
            ],
            "text/plain": [
              "       San Francisco  San Diego  Los Angeles\n",
              "Mon             75.0       69.0         76.0\n",
              "Tues            85.0       68.0         68.0\n",
              "Wed             86.0       78.0         65.0\n",
              "Thurs           75.0       65.0         65.0\n",
              "Fri             72.0       51.0         53.0\n",
              "Sat             64.0       60.0         73.0\n",
              "Sun             61.0       56.0         85.0"
            ]
          },
          "execution_count": 11,
          "metadata": {},
          "output_type": "execute_result"
        }
      ],
      "source": [
        "np.random.seed(seed=42)\n",
        "df = pd.DataFrame(data=np.random.normal(loc=70, scale=10, size=(7,3)),\n",
        "           columns=('San Francisco', 'San Diego', 'Los Angeles'),\n",
        "            index=['Mon', 'Tues', 'Wed', 'Thurs', 'Fri', 'Sat', 'Sun']\n",
        "                 )\n",
        "df = df.round()\n",
        "df"
      ]
    },
    {
      "cell_type": "markdown",
      "metadata": {
        "id": "18_4n4QjIgQL"
      },
      "source": [
        "## **Example 1: Default differencing**\n",
        "By default, Pandas will difference by 1 row. Let's see how this looks for our cities.\n",
        "\n",
        "**Notice:** Your first row in your resulting diff DataFrame will generally be **NaN**. This is because there is no other observation to difference it with. If you had periods=2, then there would be 2 NaNs."
      ]
    },
    {
      "cell_type": "code",
      "execution_count": 12,
      "metadata": {
        "colab": {
          "base_uri": "https://localhost:8080/",
          "height": 269
        },
        "id": "JSHypn2UJSEk",
        "outputId": "82e66e18-becf-4b2f-d14d-417cdd895a29"
      },
      "outputs": [
        {
          "data": {
            "text/html": [
              "<div>\n",
              "<style scoped>\n",
              "    .dataframe tbody tr th:only-of-type {\n",
              "        vertical-align: middle;\n",
              "    }\n",
              "\n",
              "    .dataframe tbody tr th {\n",
              "        vertical-align: top;\n",
              "    }\n",
              "\n",
              "    .dataframe thead th {\n",
              "        text-align: right;\n",
              "    }\n",
              "</style>\n",
              "<table border=\"1\" class=\"dataframe\">\n",
              "  <thead>\n",
              "    <tr style=\"text-align: right;\">\n",
              "      <th></th>\n",
              "      <th>San Francisco</th>\n",
              "      <th>San Diego</th>\n",
              "      <th>Los Angeles</th>\n",
              "    </tr>\n",
              "  </thead>\n",
              "  <tbody>\n",
              "    <tr>\n",
              "      <th>Mon</th>\n",
              "      <td>NaN</td>\n",
              "      <td>NaN</td>\n",
              "      <td>NaN</td>\n",
              "    </tr>\n",
              "    <tr>\n",
              "      <th>Tues</th>\n",
              "      <td>10.0</td>\n",
              "      <td>-1.0</td>\n",
              "      <td>-8.0</td>\n",
              "    </tr>\n",
              "    <tr>\n",
              "      <th>Wed</th>\n",
              "      <td>1.0</td>\n",
              "      <td>10.0</td>\n",
              "      <td>-3.0</td>\n",
              "    </tr>\n",
              "    <tr>\n",
              "      <th>Thurs</th>\n",
              "      <td>-11.0</td>\n",
              "      <td>-13.0</td>\n",
              "      <td>0.0</td>\n",
              "    </tr>\n",
              "    <tr>\n",
              "      <th>Fri</th>\n",
              "      <td>-3.0</td>\n",
              "      <td>-14.0</td>\n",
              "      <td>-12.0</td>\n",
              "    </tr>\n",
              "    <tr>\n",
              "      <th>Sat</th>\n",
              "      <td>-8.0</td>\n",
              "      <td>9.0</td>\n",
              "      <td>20.0</td>\n",
              "    </tr>\n",
              "    <tr>\n",
              "      <th>Sun</th>\n",
              "      <td>-3.0</td>\n",
              "      <td>-4.0</td>\n",
              "      <td>12.0</td>\n",
              "    </tr>\n",
              "  </tbody>\n",
              "</table>\n",
              "</div>"
            ],
            "text/plain": [
              "       San Francisco  San Diego  Los Angeles\n",
              "Mon              NaN        NaN          NaN\n",
              "Tues            10.0       -1.0         -8.0\n",
              "Wed              1.0       10.0         -3.0\n",
              "Thurs          -11.0      -13.0          0.0\n",
              "Fri             -3.0      -14.0        -12.0\n",
              "Sat             -8.0        9.0         20.0\n",
              "Sun             -3.0       -4.0         12.0"
            ]
          },
          "execution_count": 12,
          "metadata": {},
          "output_type": "execute_result"
        }
      ],
      "source": [
        "df.diff()"
      ]
    },
    {
      "cell_type": "markdown",
      "metadata": {
        "id": "I95YYvkUJcy7"
      },
      "source": [
        "## **Example 2: Two Period Differencing**\n",
        "Say instead of differencing your data by 1 period, you wanted to do it by 2 periods. To do this, set your periods=2."
      ]
    },
    {
      "cell_type": "code",
      "execution_count": 13,
      "metadata": {
        "colab": {
          "base_uri": "https://localhost:8080/",
          "height": 269
        },
        "id": "zyytWH7FJi37",
        "outputId": "83976b9e-f74d-4c5a-a9b5-4fc5b82164a7"
      },
      "outputs": [
        {
          "data": {
            "text/html": [
              "<div>\n",
              "<style scoped>\n",
              "    .dataframe tbody tr th:only-of-type {\n",
              "        vertical-align: middle;\n",
              "    }\n",
              "\n",
              "    .dataframe tbody tr th {\n",
              "        vertical-align: top;\n",
              "    }\n",
              "\n",
              "    .dataframe thead th {\n",
              "        text-align: right;\n",
              "    }\n",
              "</style>\n",
              "<table border=\"1\" class=\"dataframe\">\n",
              "  <thead>\n",
              "    <tr style=\"text-align: right;\">\n",
              "      <th></th>\n",
              "      <th>San Francisco</th>\n",
              "      <th>San Diego</th>\n",
              "      <th>Los Angeles</th>\n",
              "    </tr>\n",
              "  </thead>\n",
              "  <tbody>\n",
              "    <tr>\n",
              "      <th>Mon</th>\n",
              "      <td>NaN</td>\n",
              "      <td>NaN</td>\n",
              "      <td>NaN</td>\n",
              "    </tr>\n",
              "    <tr>\n",
              "      <th>Tues</th>\n",
              "      <td>NaN</td>\n",
              "      <td>NaN</td>\n",
              "      <td>NaN</td>\n",
              "    </tr>\n",
              "    <tr>\n",
              "      <th>Wed</th>\n",
              "      <td>11.0</td>\n",
              "      <td>9.0</td>\n",
              "      <td>-11.0</td>\n",
              "    </tr>\n",
              "    <tr>\n",
              "      <th>Thurs</th>\n",
              "      <td>-10.0</td>\n",
              "      <td>-3.0</td>\n",
              "      <td>-3.0</td>\n",
              "    </tr>\n",
              "    <tr>\n",
              "      <th>Fri</th>\n",
              "      <td>-14.0</td>\n",
              "      <td>-27.0</td>\n",
              "      <td>-12.0</td>\n",
              "    </tr>\n",
              "    <tr>\n",
              "      <th>Sat</th>\n",
              "      <td>-11.0</td>\n",
              "      <td>-5.0</td>\n",
              "      <td>8.0</td>\n",
              "    </tr>\n",
              "    <tr>\n",
              "      <th>Sun</th>\n",
              "      <td>-11.0</td>\n",
              "      <td>5.0</td>\n",
              "      <td>32.0</td>\n",
              "    </tr>\n",
              "  </tbody>\n",
              "</table>\n",
              "</div>"
            ],
            "text/plain": [
              "       San Francisco  San Diego  Los Angeles\n",
              "Mon              NaN        NaN          NaN\n",
              "Tues             NaN        NaN          NaN\n",
              "Wed             11.0        9.0        -11.0\n",
              "Thurs          -10.0       -3.0         -3.0\n",
              "Fri            -14.0      -27.0        -12.0\n",
              "Sat            -11.0       -5.0          8.0\n",
              "Sun            -11.0        5.0         32.0"
            ]
          },
          "execution_count": 13,
          "metadata": {},
          "output_type": "execute_result"
        }
      ],
      "source": [
        "df.diff(periods=2)"
      ]
    },
    {
      "cell_type": "markdown",
      "metadata": {
        "id": "SdwXETf_Jlf8"
      },
      "source": [
        "## **Example 3: Column Differencing**\n",
        "Did you know you can also do column differencing? This would be helpful if your column represent dates or other items you'd like to compare.\n",
        "\n",
        "To do this, set axis=1"
      ]
    },
    {
      "cell_type": "code",
      "execution_count": 14,
      "metadata": {
        "colab": {
          "base_uri": "https://localhost:8080/",
          "height": 269
        },
        "id": "hphVGwC2JvrL",
        "outputId": "9954ed4e-302d-4e06-9424-ec5beb7d04a0"
      },
      "outputs": [
        {
          "data": {
            "text/html": [
              "<div>\n",
              "<style scoped>\n",
              "    .dataframe tbody tr th:only-of-type {\n",
              "        vertical-align: middle;\n",
              "    }\n",
              "\n",
              "    .dataframe tbody tr th {\n",
              "        vertical-align: top;\n",
              "    }\n",
              "\n",
              "    .dataframe thead th {\n",
              "        text-align: right;\n",
              "    }\n",
              "</style>\n",
              "<table border=\"1\" class=\"dataframe\">\n",
              "  <thead>\n",
              "    <tr style=\"text-align: right;\">\n",
              "      <th></th>\n",
              "      <th>San Francisco</th>\n",
              "      <th>San Diego</th>\n",
              "      <th>Los Angeles</th>\n",
              "    </tr>\n",
              "  </thead>\n",
              "  <tbody>\n",
              "    <tr>\n",
              "      <th>Mon</th>\n",
              "      <td>NaN</td>\n",
              "      <td>-6.0</td>\n",
              "      <td>7.0</td>\n",
              "    </tr>\n",
              "    <tr>\n",
              "      <th>Tues</th>\n",
              "      <td>NaN</td>\n",
              "      <td>-17.0</td>\n",
              "      <td>0.0</td>\n",
              "    </tr>\n",
              "    <tr>\n",
              "      <th>Wed</th>\n",
              "      <td>NaN</td>\n",
              "      <td>-8.0</td>\n",
              "      <td>-13.0</td>\n",
              "    </tr>\n",
              "    <tr>\n",
              "      <th>Thurs</th>\n",
              "      <td>NaN</td>\n",
              "      <td>-10.0</td>\n",
              "      <td>0.0</td>\n",
              "    </tr>\n",
              "    <tr>\n",
              "      <th>Fri</th>\n",
              "      <td>NaN</td>\n",
              "      <td>-21.0</td>\n",
              "      <td>2.0</td>\n",
              "    </tr>\n",
              "    <tr>\n",
              "      <th>Sat</th>\n",
              "      <td>NaN</td>\n",
              "      <td>-4.0</td>\n",
              "      <td>13.0</td>\n",
              "    </tr>\n",
              "    <tr>\n",
              "      <th>Sun</th>\n",
              "      <td>NaN</td>\n",
              "      <td>-5.0</td>\n",
              "      <td>29.0</td>\n",
              "    </tr>\n",
              "  </tbody>\n",
              "</table>\n",
              "</div>"
            ],
            "text/plain": [
              "       San Francisco  San Diego  Los Angeles\n",
              "Mon              NaN       -6.0          7.0\n",
              "Tues             NaN      -17.0          0.0\n",
              "Wed              NaN       -8.0        -13.0\n",
              "Thurs            NaN      -10.0          0.0\n",
              "Fri              NaN      -21.0          2.0\n",
              "Sat              NaN       -4.0         13.0\n",
              "Sun              NaN       -5.0         29.0"
            ]
          },
          "execution_count": 14,
          "metadata": {},
          "output_type": "execute_result"
        }
      ],
      "source": [
        "df.diff(periods=1, axis=1)"
      ]
    },
    {
      "cell_type": "markdown",
      "metadata": {
        "id": "3d4AgF_aQMI7"
      },
      "source": [
        "## **Example 4: Find Difference Between Each Previous Row**"
      ]
    },
    {
      "cell_type": "markdown",
      "metadata": {
        "id": "KlnFB7ebQVUz"
      },
      "source": [
        "Suppose we have the following pandas DataFrame:"
      ]
    },
    {
      "cell_type": "code",
      "execution_count": 15,
      "metadata": {
        "colab": {
          "base_uri": "https://localhost:8080/",
          "height": 300
        },
        "id": "3oFTsAwjQT-b",
        "outputId": "6c32dfa7-4a3c-489d-860c-232e8c8ebec3"
      },
      "outputs": [
        {
          "data": {
            "text/html": [
              "<div>\n",
              "<style scoped>\n",
              "    .dataframe tbody tr th:only-of-type {\n",
              "        vertical-align: middle;\n",
              "    }\n",
              "\n",
              "    .dataframe tbody tr th {\n",
              "        vertical-align: top;\n",
              "    }\n",
              "\n",
              "    .dataframe thead th {\n",
              "        text-align: right;\n",
              "    }\n",
              "</style>\n",
              "<table border=\"1\" class=\"dataframe\">\n",
              "  <thead>\n",
              "    <tr style=\"text-align: right;\">\n",
              "      <th></th>\n",
              "      <th>period</th>\n",
              "      <th>sales</th>\n",
              "      <th>returns</th>\n",
              "    </tr>\n",
              "  </thead>\n",
              "  <tbody>\n",
              "    <tr>\n",
              "      <th>0</th>\n",
              "      <td>1</td>\n",
              "      <td>12</td>\n",
              "      <td>2</td>\n",
              "    </tr>\n",
              "    <tr>\n",
              "      <th>1</th>\n",
              "      <td>2</td>\n",
              "      <td>14</td>\n",
              "      <td>2</td>\n",
              "    </tr>\n",
              "    <tr>\n",
              "      <th>2</th>\n",
              "      <td>3</td>\n",
              "      <td>15</td>\n",
              "      <td>3</td>\n",
              "    </tr>\n",
              "    <tr>\n",
              "      <th>3</th>\n",
              "      <td>4</td>\n",
              "      <td>15</td>\n",
              "      <td>3</td>\n",
              "    </tr>\n",
              "    <tr>\n",
              "      <th>4</th>\n",
              "      <td>5</td>\n",
              "      <td>18</td>\n",
              "      <td>5</td>\n",
              "    </tr>\n",
              "    <tr>\n",
              "      <th>5</th>\n",
              "      <td>6</td>\n",
              "      <td>20</td>\n",
              "      <td>4</td>\n",
              "    </tr>\n",
              "    <tr>\n",
              "      <th>6</th>\n",
              "      <td>7</td>\n",
              "      <td>19</td>\n",
              "      <td>4</td>\n",
              "    </tr>\n",
              "    <tr>\n",
              "      <th>7</th>\n",
              "      <td>8</td>\n",
              "      <td>24</td>\n",
              "      <td>6</td>\n",
              "    </tr>\n",
              "  </tbody>\n",
              "</table>\n",
              "</div>"
            ],
            "text/plain": [
              "   period  sales  returns\n",
              "0       1     12        2\n",
              "1       2     14        2\n",
              "2       3     15        3\n",
              "3       4     15        3\n",
              "4       5     18        5\n",
              "5       6     20        4\n",
              "6       7     19        4\n",
              "7       8     24        6"
            ]
          },
          "execution_count": 15,
          "metadata": {},
          "output_type": "execute_result"
        }
      ],
      "source": [
        "#create DataFrame\n",
        "df_2 = pd.DataFrame({'period': [1, 2, 3, 4, 5, 6, 7, 8],\n",
        "                   'sales': [12, 14, 15, 15, 18, 20, 19, 24],\n",
        "                   'returns': [2, 2, 3, 3, 5, 4, 4, 6]})\n",
        "\n",
        "#view DataFrame\n",
        "df_2\n"
      ]
    },
    {
      "cell_type": "markdown",
      "metadata": {
        "id": "dYRfk-nOQZQ7"
      },
      "source": [
        "The following code shows how to find the difference between every current row in a DataFrame and the previous row:"
      ]
    },
    {
      "cell_type": "code",
      "execution_count": 16,
      "metadata": {
        "colab": {
          "base_uri": "https://localhost:8080/",
          "height": 300
        },
        "id": "Ag5yXZq4QjdL",
        "outputId": "690763b8-6022-4330-e2a5-47e7c3050f30"
      },
      "outputs": [
        {
          "data": {
            "text/html": [
              "<div>\n",
              "<style scoped>\n",
              "    .dataframe tbody tr th:only-of-type {\n",
              "        vertical-align: middle;\n",
              "    }\n",
              "\n",
              "    .dataframe tbody tr th {\n",
              "        vertical-align: top;\n",
              "    }\n",
              "\n",
              "    .dataframe thead th {\n",
              "        text-align: right;\n",
              "    }\n",
              "</style>\n",
              "<table border=\"1\" class=\"dataframe\">\n",
              "  <thead>\n",
              "    <tr style=\"text-align: right;\">\n",
              "      <th></th>\n",
              "      <th>period</th>\n",
              "      <th>sales</th>\n",
              "      <th>returns</th>\n",
              "      <th>sales_diff</th>\n",
              "    </tr>\n",
              "  </thead>\n",
              "  <tbody>\n",
              "    <tr>\n",
              "      <th>0</th>\n",
              "      <td>1</td>\n",
              "      <td>12</td>\n",
              "      <td>2</td>\n",
              "      <td>NaN</td>\n",
              "    </tr>\n",
              "    <tr>\n",
              "      <th>1</th>\n",
              "      <td>2</td>\n",
              "      <td>14</td>\n",
              "      <td>2</td>\n",
              "      <td>2.0</td>\n",
              "    </tr>\n",
              "    <tr>\n",
              "      <th>2</th>\n",
              "      <td>3</td>\n",
              "      <td>15</td>\n",
              "      <td>3</td>\n",
              "      <td>1.0</td>\n",
              "    </tr>\n",
              "    <tr>\n",
              "      <th>3</th>\n",
              "      <td>4</td>\n",
              "      <td>15</td>\n",
              "      <td>3</td>\n",
              "      <td>0.0</td>\n",
              "    </tr>\n",
              "    <tr>\n",
              "      <th>4</th>\n",
              "      <td>5</td>\n",
              "      <td>18</td>\n",
              "      <td>5</td>\n",
              "      <td>3.0</td>\n",
              "    </tr>\n",
              "    <tr>\n",
              "      <th>5</th>\n",
              "      <td>6</td>\n",
              "      <td>20</td>\n",
              "      <td>4</td>\n",
              "      <td>2.0</td>\n",
              "    </tr>\n",
              "    <tr>\n",
              "      <th>6</th>\n",
              "      <td>7</td>\n",
              "      <td>19</td>\n",
              "      <td>4</td>\n",
              "      <td>-1.0</td>\n",
              "    </tr>\n",
              "    <tr>\n",
              "      <th>7</th>\n",
              "      <td>8</td>\n",
              "      <td>24</td>\n",
              "      <td>6</td>\n",
              "      <td>5.0</td>\n",
              "    </tr>\n",
              "  </tbody>\n",
              "</table>\n",
              "</div>"
            ],
            "text/plain": [
              "   period  sales  returns  sales_diff\n",
              "0       1     12        2         NaN\n",
              "1       2     14        2         2.0\n",
              "2       3     15        3         1.0\n",
              "3       4     15        3         0.0\n",
              "4       5     18        5         3.0\n",
              "5       6     20        4         2.0\n",
              "6       7     19        4        -1.0\n",
              "7       8     24        6         5.0"
            ]
          },
          "execution_count": 16,
          "metadata": {},
          "output_type": "execute_result"
        }
      ],
      "source": [
        "#add new column to represent sales differences between each row\n",
        "df_2['sales_diff'] = df_2['sales'].diff()\n",
        "\n",
        "#view DataFrame\n",
        "df_2"
      ]
    },
    {
      "cell_type": "markdown",
      "metadata": {
        "id": "yaU-Xt0rQn_z"
      },
      "source": [
        "Note that we can also find the difference between several rows prior. For example, the following code shows how to find the difference between each current row and the row that occurred three rows earlier:"
      ]
    },
    {
      "cell_type": "code",
      "execution_count": 17,
      "metadata": {
        "colab": {
          "base_uri": "https://localhost:8080/",
          "height": 300
        },
        "id": "VOnMdOxgQtcj",
        "outputId": "7b5a8579-5efb-48b4-d879-30f3a9bb7191"
      },
      "outputs": [
        {
          "data": {
            "text/html": [
              "<div>\n",
              "<style scoped>\n",
              "    .dataframe tbody tr th:only-of-type {\n",
              "        vertical-align: middle;\n",
              "    }\n",
              "\n",
              "    .dataframe tbody tr th {\n",
              "        vertical-align: top;\n",
              "    }\n",
              "\n",
              "    .dataframe thead th {\n",
              "        text-align: right;\n",
              "    }\n",
              "</style>\n",
              "<table border=\"1\" class=\"dataframe\">\n",
              "  <thead>\n",
              "    <tr style=\"text-align: right;\">\n",
              "      <th></th>\n",
              "      <th>period</th>\n",
              "      <th>sales</th>\n",
              "      <th>returns</th>\n",
              "      <th>sales_diff</th>\n",
              "    </tr>\n",
              "  </thead>\n",
              "  <tbody>\n",
              "    <tr>\n",
              "      <th>0</th>\n",
              "      <td>1</td>\n",
              "      <td>12</td>\n",
              "      <td>2</td>\n",
              "      <td>NaN</td>\n",
              "    </tr>\n",
              "    <tr>\n",
              "      <th>1</th>\n",
              "      <td>2</td>\n",
              "      <td>14</td>\n",
              "      <td>2</td>\n",
              "      <td>NaN</td>\n",
              "    </tr>\n",
              "    <tr>\n",
              "      <th>2</th>\n",
              "      <td>3</td>\n",
              "      <td>15</td>\n",
              "      <td>3</td>\n",
              "      <td>NaN</td>\n",
              "    </tr>\n",
              "    <tr>\n",
              "      <th>3</th>\n",
              "      <td>4</td>\n",
              "      <td>15</td>\n",
              "      <td>3</td>\n",
              "      <td>3.0</td>\n",
              "    </tr>\n",
              "    <tr>\n",
              "      <th>4</th>\n",
              "      <td>5</td>\n",
              "      <td>18</td>\n",
              "      <td>5</td>\n",
              "      <td>4.0</td>\n",
              "    </tr>\n",
              "    <tr>\n",
              "      <th>5</th>\n",
              "      <td>6</td>\n",
              "      <td>20</td>\n",
              "      <td>4</td>\n",
              "      <td>5.0</td>\n",
              "    </tr>\n",
              "    <tr>\n",
              "      <th>6</th>\n",
              "      <td>7</td>\n",
              "      <td>19</td>\n",
              "      <td>4</td>\n",
              "      <td>4.0</td>\n",
              "    </tr>\n",
              "    <tr>\n",
              "      <th>7</th>\n",
              "      <td>8</td>\n",
              "      <td>24</td>\n",
              "      <td>6</td>\n",
              "      <td>6.0</td>\n",
              "    </tr>\n",
              "  </tbody>\n",
              "</table>\n",
              "</div>"
            ],
            "text/plain": [
              "   period  sales  returns  sales_diff\n",
              "0       1     12        2         NaN\n",
              "1       2     14        2         NaN\n",
              "2       3     15        3         NaN\n",
              "3       4     15        3         3.0\n",
              "4       5     18        5         4.0\n",
              "5       6     20        4         5.0\n",
              "6       7     19        4         4.0\n",
              "7       8     24        6         6.0"
            ]
          },
          "execution_count": 17,
          "metadata": {},
          "output_type": "execute_result"
        }
      ],
      "source": [
        "#add new column to represent sales differences between current row and 3 rows earlier\n",
        "df_2['sales_diff'] = df_2['sales'].diff(periods=3)\n",
        "\n",
        "#view DataFrame\n",
        "df_2"
      ]
    },
    {
      "cell_type": "markdown",
      "metadata": {
        "id": "dr5hW2vZQ1vj"
      },
      "source": [
        "## **Example 5: Find Difference Based on Condition**\n",
        "\n",
        "We can also filter the DataFrame to show rows where the difference between the current row and the previous row is less than or greater than some value.\n",
        "\n",
        "For example, the following code returns only the rows where the value in the current row is less than the value in the previous row:"
      ]
    },
    {
      "cell_type": "code",
      "execution_count": 19,
      "metadata": {
        "colab": {
          "base_uri": "https://localhost:8080/",
          "height": 112
        },
        "id": "jyl0-8Z_Q7Pz",
        "outputId": "df0f0213-c5fe-44b4-aa00-5ebccd0facaa"
      },
      "outputs": [
        {
          "data": {
            "text/html": [
              "<div>\n",
              "<style scoped>\n",
              "    .dataframe tbody tr th:only-of-type {\n",
              "        vertical-align: middle;\n",
              "    }\n",
              "\n",
              "    .dataframe tbody tr th {\n",
              "        vertical-align: top;\n",
              "    }\n",
              "\n",
              "    .dataframe thead th {\n",
              "        text-align: right;\n",
              "    }\n",
              "</style>\n",
              "<table border=\"1\" class=\"dataframe\">\n",
              "  <thead>\n",
              "    <tr style=\"text-align: right;\">\n",
              "      <th></th>\n",
              "      <th>period</th>\n",
              "      <th>sales</th>\n",
              "      <th>returns</th>\n",
              "      <th>sales_diff</th>\n",
              "    </tr>\n",
              "  </thead>\n",
              "  <tbody>\n",
              "    <tr>\n",
              "      <th>3</th>\n",
              "      <td>4</td>\n",
              "      <td>13</td>\n",
              "      <td>3</td>\n",
              "      <td>-2.0</td>\n",
              "    </tr>\n",
              "    <tr>\n",
              "      <th>6</th>\n",
              "      <td>7</td>\n",
              "      <td>19</td>\n",
              "      <td>4</td>\n",
              "      <td>-1.0</td>\n",
              "    </tr>\n",
              "  </tbody>\n",
              "</table>\n",
              "</div>"
            ],
            "text/plain": [
              "   period  sales  returns  sales_diff\n",
              "3       4     13        3        -2.0\n",
              "6       7     19        4        -1.0"
            ]
          },
          "execution_count": 19,
          "metadata": {},
          "output_type": "execute_result"
        }
      ],
      "source": [
        "#create DataFrame\n",
        "df_3 = pd.DataFrame({'period': [1, 2, 3, 4, 5, 6, 7, 8],\n",
        "                   'sales': [12, 14, 15, 13, 18, 20, 19, 24],\n",
        "                   'returns': [2, 2, 3, 3, 5, 4, 4, 6]})\n",
        "\n",
        "#find difference between each current row and the previous row\n",
        "df_3['sales_diff'] = df_3['sales'].diff()\n",
        "\n",
        "#filter for rows where difference is less than zero\n",
        "df_3 = df_3[df_3['sales_diff'] < 0]\n",
        "\n",
        "#view DataFrame\n",
        "df_3\n"
      ]
    }
  ],
  "metadata": {
    "colab": {
      "provenance": []
    },
    "kernelspec": {
      "display_name": "Python 3",
      "name": "python3"
    },
    "language_info": {
      "codemirror_mode": {
        "name": "ipython",
        "version": 3
      },
      "file_extension": ".py",
      "mimetype": "text/x-python",
      "name": "python",
      "nbconvert_exporter": "python",
      "pygments_lexer": "ipython3",
      "version": "3.12.0"
    }
  },
  "nbformat": 4,
  "nbformat_minor": 0
}
