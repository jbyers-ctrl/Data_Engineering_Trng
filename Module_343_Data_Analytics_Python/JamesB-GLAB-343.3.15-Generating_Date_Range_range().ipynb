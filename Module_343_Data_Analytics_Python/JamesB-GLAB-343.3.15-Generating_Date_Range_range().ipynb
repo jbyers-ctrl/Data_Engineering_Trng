{
  "cells": [
    {
      "cell_type": "markdown",
      "metadata": {
        "id": "r869Prqz-dNq"
      },
      "source": [
        "# **Guided Lab 343.3.15 - Generating a date range using date_range() function**"
      ]
    },
    {
      "cell_type": "markdown",
      "metadata": {
        "id": "AbSt06EAQGY0"
      },
      "source": [
        "# **Lab Overview:**\n",
        " - In this lab, we will demonstrate several ways of generating a date range using **date_range()** function.  It covers various ways to define the date range, including:\n",
        "\n",
        "- **Specifying start and end dates:** This is the most basic way, generating dates between two given points.\n",
        "- **Using periods:** Instead of an end date, you can specify the number of periods (dates) to generate.\n",
        "- **Exploring frequencies:** The freq parameter allows for flexible date generation, such as daily, weekly, business days, or even custom intervals like every 6 minutes.\n",
        "\n",
        "\n",
        "# **Lab Objective:**\n",
        " By the end of this lab, you should be able to:\n",
        "\n",
        "- Generate date ranges in Python using date_range().\n",
        "- Utilize different frequency options for various scenarios.\n",
        "- Apply this knowledge to real-world data analysis tasks, like working with time series data."
      ]
    },
    {
      "cell_type": "markdown",
      "metadata": {
        "id": "Yxt2biJo--aD"
      },
      "source": [
        "**Syntax**\n",
        "\n",
        "```\n",
        "pandas.date_range(start=your_start_time,\n",
        "                  end=your_end_time,\n",
        "                 freq=your_time_intervals,\n",
        "                 periods=None,\n",
        "                 tz=None,\n",
        "                 normalize=False,\n",
        "                 name=None,\n",
        "                 closed=None)\n",
        "```\n",
        "\n"
      ]
    },
    {
      "cell_type": "markdown",
      "metadata": {
        "id": "VcHQTc5I_jxh"
      },
      "source": [
        "**Parameters:**\n",
        "\n",
        "- **start:** The start date of the date range. Can be a string, datetime, or\n",
        "Timestamp object. If not specified, it defaults to None.\n",
        "- **end:** The end date of the date range. Can be a string, datetime, or Timestamp object If not specified, it defaults to None.\n",
        "- **periods:** The number of periods to generate. If start and end are not provided, periods must be specified. The date range will be generated using equally spaced intervals between the start and end.\n",
        "- **freq:** The frequency of the date range. It can be a string or a DateOffset object, specifying the intervals between dates. Common values include ‘D’ for daily, ‘W’ for weekly, ‘M’ for monthly, ‘Y’ for yearly, 'h' for hourly, 'min' for minutes, 's' for seconds etc.\n",
        "- **tz:** The time zone to be used for the date range.\n",
        "- **normalize:** If True, the date range will be normalized to midnight. If False, the date range will include the exactly specified time.\n",
        "- **name:** A name to assign to the generated DatetimeIndex.\n",
        "- **closed:** Specify which side of the date range interval should be closed (left, right, both, or neither)."
      ]
    },
    {
      "cell_type": "markdown",
      "metadata": {
        "id": "dWEz-b5WAIPi"
      },
      "source": [
        "## **Example 1: By specifying the start and end**\n",
        "\n",
        "Let's generate a range of dates from start to end with a by-default freq.\n",
        "\n",
        "\n"
      ]
    },
    {
      "cell_type": "code",
      "execution_count": 1,
      "metadata": {},
      "outputs": [],
      "source": [
        "import pandas as pd\n",
        "import numpy as np"
      ]
    },
    {
      "cell_type": "code",
      "execution_count": 2,
      "metadata": {
        "id": "iAEmqYEiAKa6"
      },
      "outputs": [
        {
          "data": {
            "text/plain": [
              "DatetimeIndex(['2023-07-01', '2023-07-02', '2023-07-03', '2023-07-04',\n",
              "               '2023-07-05', '2023-07-06', '2023-07-07', '2023-07-08',\n",
              "               '2023-07-09', '2023-07-10',\n",
              "               ...\n",
              "               '2025-07-22', '2025-07-23', '2025-07-24', '2025-07-25',\n",
              "               '2025-07-26', '2025-07-27', '2025-07-28', '2025-07-29',\n",
              "               '2025-07-30', '2025-07-31'],\n",
              "              dtype='datetime64[ns]', length=762, freq='D')"
            ]
          },
          "execution_count": 2,
          "metadata": {},
          "output_type": "execute_result"
        }
      ],
      "source": [
        "dateRange = pd.date_range(start = \"07-01-2023\", end = \"07-31-2025\")\n",
        "dateRange\n"
      ]
    },
    {
      "cell_type": "markdown",
      "metadata": {
        "id": "13rJhV99N3Zz"
      },
      "source": [
        "## **Example 2: Creating a date range with periods**\n",
        "\n",
        "The following example will generate a pandas DateTimeIndex containing 10 dates evenly spaced between January 1, 2023, and July 31, 2025."
      ]
    },
    {
      "cell_type": "code",
      "execution_count": 7,
      "metadata": {
        "id": "ua72DD6JNWEk"
      },
      "outputs": [
        {
          "name": "stdout",
          "output_type": "stream",
          "text": [
            "DatetimeIndex(['2023-01-01 00:00:00', '2023-04-15 16:00:00',\n",
            "               '2023-07-29 08:00:00', '2023-11-11 00:00:00',\n",
            "               '2024-02-23 16:00:00', '2024-06-07 08:00:00',\n",
            "               '2024-09-20 00:00:00', '2025-01-02 16:00:00',\n",
            "               '2025-04-17 08:00:00', '2025-07-31 00:00:00'],\n",
            "              dtype='datetime64[ns]', freq=None)\n",
            "\n",
            "DatetimeIndex(['2023-01-01', '2023-11-11', '2024-09-20', '2025-07-31'], dtype='datetime64[ns]', freq=None)\n"
          ]
        }
      ],
      "source": [
        "print(pd.date_range(start='01-01-2023', end='07-31-2025', periods=10))\n",
        "print()\n",
        "print(pd.date_range(start='01-01-2023', end='07-31-2025', periods=4))"
      ]
    },
    {
      "cell_type": "markdown",
      "metadata": {
        "id": "s7eaIWArCXtD"
      },
      "source": [
        "# **Exploring different frequencies**"
      ]
    },
    {
      "cell_type": "markdown",
      "metadata": {
        "id": "9QnuovJiCmQ6"
      },
      "source": [
        "Let's get creative and explore different frequency options. There are a ton of cool ones to use. Pandas actually gives you a ton of flexibility for business use cases as well."
      ]
    },
    {
      "cell_type": "markdown",
      "metadata": {
        "id": "mT9BlyCGApZb"
      },
      "source": [
        "### **Example 2.1: By specifying start, end, and freq**\n",
        "In this example, we will generate a range of dates from start to end with a specified freq(date range in 6 minute intervals).\n",
        "\n",
        "Let's say you did not want to split your date range by day, but rather by 6 minutes.\n",
        "\n",
        "To do this you need to specify your 'freq' parameter and tell pandas to split your start/end times every 6 minutes.\n",
        "\n",
        ":"
      ]
    },
    {
      "cell_type": "code",
      "execution_count": 10,
      "metadata": {
        "id": "NQca1JWhA1tB"
      },
      "outputs": [
        {
          "name": "stdout",
          "output_type": "stream",
          "text": [
            "DatetimeIndex(['2023-01-01 00:00:00', '2023-01-01 00:06:00',\n",
            "               '2023-01-01 00:12:00', '2023-01-01 00:18:00',\n",
            "               '2023-01-01 00:24:00', '2023-01-01 00:30:00',\n",
            "               '2023-01-01 00:36:00', '2023-01-01 00:42:00',\n",
            "               '2023-01-01 00:48:00', '2023-01-01 00:54:00',\n",
            "               ...\n",
            "               '2025-07-30 23:06:00', '2025-07-30 23:12:00',\n",
            "               '2025-07-30 23:18:00', '2025-07-30 23:24:00',\n",
            "               '2025-07-30 23:30:00', '2025-07-30 23:36:00',\n",
            "               '2025-07-30 23:42:00', '2025-07-30 23:48:00',\n",
            "               '2025-07-30 23:54:00', '2025-07-31 00:00:00'],\n",
            "              dtype='datetime64[ns]', length=226081, freq='6min')\n",
            "\n",
            "DatetimeIndex(['2023-01-01 00:00:00', '2023-01-01 00:06:00',\n",
            "               '2023-01-01 00:12:00', '2023-01-01 00:18:00',\n",
            "               '2023-01-01 00:24:00', '2023-01-01 00:30:00',\n",
            "               '2023-01-01 00:36:00', '2023-01-01 00:42:00',\n",
            "               '2023-01-01 00:48:00', '2023-01-01 00:54:00',\n",
            "               ...\n",
            "               '2025-07-30 23:06:00', '2025-07-30 23:12:00',\n",
            "               '2025-07-30 23:18:00', '2025-07-30 23:24:00',\n",
            "               '2025-07-30 23:30:00', '2025-07-30 23:36:00',\n",
            "               '2025-07-30 23:42:00', '2025-07-30 23:48:00',\n",
            "               '2025-07-30 23:54:00', '2025-07-31 00:00:00'],\n",
            "              dtype='datetime64[ns]', length=226081, freq='6min')\n"
          ]
        },
        {
          "name": "stderr",
          "output_type": "stream",
          "text": [
            "C:\\Users\\james.byers\\AppData\\Local\\Temp\\ipykernel_6752\\2800723267.py:4: FutureWarning: 'T' is deprecated and will be removed in a future version, please use 'min' instead.\n",
            "  dateRange_T = pd.date_range(start = \"01-01-2023\", end = \"07-31-2025\", freq =\"6T\")\n"
          ]
        }
      ],
      "source": [
        "# 'T' is deprecated and will be removed in a future version, usin 'min' instead\n",
        "\n",
        "# using 'T'\n",
        "dateRange_T = pd.date_range(start = \"01-01-2023\", end = \"07-31-2025\", freq =\"6T\")\n",
        "# using 'min'\n",
        "dateRange_min = pd.date_range(start = \"01-01-2023\", end = \"07-31-2025\", freq =\"6min\")\n",
        "\n",
        "print(dateRange_T)\n",
        "print()\n",
        "print(dateRange_min)"
      ]
    },
    {
      "cell_type": "markdown",
      "metadata": {
        "id": "iBFf9D3gBiaD"
      },
      "source": [
        "**Notice here we specified '6T' for my frequency. 'T' is the offset code for minutes. '6T' means 6-minutes. For a full list of frequency offsets check out the [pandas documentation](https://pandas.pydata.org/pandas-docs/stable/user_guide/timeseries.html#offset-aliases).**"
      ]
    },
    {
      "cell_type": "markdown",
      "metadata": {
        "id": "Bqyt8msUCvL6"
      },
      "source": [
        "### **Example 2.2: Business Day 'B':**\n",
        "**Notice how the weekends are taken out of the date range below**"
      ]
    },
    {
      "cell_type": "code",
      "execution_count": null,
      "metadata": {
        "id": "4PH7_IENC28a"
      },
      "outputs": [
        {
          "data": {
            "text/plain": [
              "DatetimeIndex(['2023-01-02', '2023-01-03', '2023-01-04', '2023-01-05',\n",
              "               '2023-01-06', '2023-01-09', '2023-01-10', '2023-01-11',\n",
              "               '2023-01-12', '2023-01-13',\n",
              "               ...\n",
              "               '2025-07-18', '2025-07-21', '2025-07-22', '2025-07-23',\n",
              "               '2025-07-24', '2025-07-25', '2025-07-28', '2025-07-29',\n",
              "               '2025-07-30', '2025-07-31'],\n",
              "              dtype='datetime64[ns]', length=674, freq='B')"
            ]
          },
          "execution_count": 11,
          "metadata": {},
          "output_type": "execute_result"
        }
      ],
      "source": [
        "pd.date_range(start = \"01-01-2023\", end = \"07-31-2025\", freq='B') # Weekdays only"
      ]
    },
    {
      "cell_type": "markdown",
      "metadata": {
        "id": "HoY6bDB5DCiD"
      },
      "source": [
        "### **Example 2.3: Weekly 'W' - Cutting your date range into weeks**"
      ]
    },
    {
      "cell_type": "code",
      "execution_count": 12,
      "metadata": {
        "id": "xr68F_ZmDM_q"
      },
      "outputs": [
        {
          "data": {
            "text/plain": [
              "DatetimeIndex(['2023-01-01', '2023-01-08', '2023-01-15', '2023-01-22',\n",
              "               '2023-01-29', '2023-02-05', '2023-02-12', '2023-02-19',\n",
              "               '2023-02-26', '2023-03-05',\n",
              "               ...\n",
              "               '2025-05-25', '2025-06-01', '2025-06-08', '2025-06-15',\n",
              "               '2025-06-22', '2025-06-29', '2025-07-06', '2025-07-13',\n",
              "               '2025-07-20', '2025-07-27'],\n",
              "              dtype='datetime64[ns]', length=135, freq='W-SUN')"
            ]
          },
          "execution_count": 12,
          "metadata": {},
          "output_type": "execute_result"
        }
      ],
      "source": [
        "pd.date_range(start = \"01-01-2023\", end = \"07-31-2025\", freq='W')"
      ]
    },
    {
      "cell_type": "markdown",
      "metadata": {
        "id": "iNIEnpLPL85z"
      },
      "source": [
        "### **Example 2.4: By specifying start, periods, and freq**"
      ]
    },
    {
      "cell_type": "markdown",
      "metadata": {
        "id": "5FqFh-PaB1xS"
      },
      "source": [
        "The following example will generate a range of dates from the start with a fixed number of periods and with the specified freq."
      ]
    },
    {
      "cell_type": "code",
      "execution_count": 14,
      "metadata": {
        "id": "HqztQuJ9BzPq"
      },
      "outputs": [
        {
          "name": "stdout",
          "output_type": "stream",
          "text": [
            "DatetimeIndex(['2023-01-31', '2023-03-31', '2023-05-31', '2023-07-31',\n",
            "               '2023-09-30', '2023-11-30'],\n",
            "              dtype='datetime64[ns]', freq='2ME')\n",
            "\n",
            "DatetimeIndex(['2023-01-31', '2023-03-31', '2023-05-31', '2023-07-31',\n",
            "               '2023-09-30', '2023-11-30'],\n",
            "              dtype='datetime64[ns]', freq='2ME')\n"
          ]
        },
        {
          "name": "stderr",
          "output_type": "stream",
          "text": [
            "C:\\Users\\james.byers\\AppData\\Local\\Temp\\ipykernel_6752\\2993363123.py:2: FutureWarning: 'M' is deprecated and will be removed in a future version, please use 'ME' instead.\n",
            "  dateRange = pd.date_range(start =\"01-01-2023\", periods=6, freq =\"2M\")\n"
          ]
        }
      ],
      "source": [
        "# 'M' is deprecated and will be removed in a future version\n",
        "dateRange = pd.date_range(start =\"01-01-2023\", periods=6, freq =\"2M\")\n",
        "print(dateRange)\n",
        "print()\n",
        "# Use 'ME' instead\n",
        "dateRange_ME = pd.date_range(start =\"01-01-2023\", periods=6, freq =\"2ME\")\n",
        "print(dateRange_ME)"
      ]
    },
    {
      "cell_type": "markdown",
      "metadata": {
        "id": "JBfWRsL1MrLR"
      },
      "source": [
        "## **Example 3: By specifying start, periods and tz**\n",
        "This will generate a range of dates from the start with a fixed number of periods and with the specified timezone tz."
      ]
    },
    {
      "cell_type": "code",
      "execution_count": 15,
      "metadata": {
        "id": "n-KYgixAMpCs"
      },
      "outputs": [
        {
          "name": "stdout",
          "output_type": "stream",
          "text": [
            "DatetimeIndex(['2023-01-01 00:00:00+09:00', '2023-01-02 00:00:00+09:00',\n",
            "               '2023-01-03 00:00:00+09:00', '2023-01-04 00:00:00+09:00',\n",
            "               '2023-01-05 00:00:00+09:00', '2023-01-06 00:00:00+09:00'],\n",
            "              dtype='datetime64[ns, Asia/Tokyo]', freq='D')\n"
          ]
        }
      ],
      "source": [
        "dateRange = pd.date_range(start =\"01-01-2023\", periods=6, tz=\"Asia/Tokyo\")\n",
        "print(dateRange)"
      ]
    },
    {
      "cell_type": "markdown",
      "metadata": {
        "id": "91xoxRcoPuMK"
      },
      "source": [
        "# **Real - World Example - Representing stock prices over a specified period.**"
      ]
    },
    {
      "cell_type": "markdown",
      "metadata": {
        "id": "Dd-hKPHEPW3C"
      },
      "source": [
        "DataFrame representing stock prices over a specific period. You can use date_range() to generate a range of dates and build a DataFrame with random stock prices for each date."
      ]
    },
    {
      "cell_type": "code",
      "execution_count": 16,
      "metadata": {
        "id": "TITi9cb2PWLr"
      },
      "outputs": [
        {
          "name": "stdout",
          "output_type": "stream",
          "text": [
            "         Date  StockPrice\n",
            "0  2023-01-01      102.48\n",
            "1  2023-01-02       99.31\n",
            "2  2023-01-03      103.24\n",
            "3  2023-01-04      107.62\n",
            "4  2023-01-05       98.83\n",
            "5  2023-01-06       98.83\n",
            "6  2023-01-07      107.90\n",
            "7  2023-01-08      103.84\n",
            "8  2023-01-09       97.65\n",
            "9  2023-01-10      102.71\n",
            "10 2023-01-11       97.68\n",
            "11 2023-01-12       97.67\n",
            "12 2023-01-13      101.21\n",
            "13 2023-01-14       90.43\n",
            "14 2023-01-15       91.38\n",
            "15 2023-01-16       97.19\n",
            "16 2023-01-17       94.94\n",
            "17 2023-01-18      101.57\n",
            "18 2023-01-19       95.46\n",
            "19 2023-01-20       92.94\n",
            "20 2023-01-21      107.33\n",
            "21 2023-01-22       98.87\n",
            "22 2023-01-23      100.34\n",
            "23 2023-01-24       92.88\n",
            "24 2023-01-25       97.28\n",
            "25 2023-01-26      100.55\n",
            "26 2023-01-27       94.25\n",
            "27 2023-01-28      101.88\n",
            "28 2023-01-29       97.00\n",
            "29 2023-01-30       98.54\n"
          ]
        }
      ],
      "source": [
        "# Set a specific start date and number of periods (days)\n",
        "start_date = '2023-01-01'\n",
        "num_days = 30\n",
        "\n",
        "# Generate a date range\n",
        "date_range = pd.date_range(start=start_date, periods=num_days, freq='D')\n",
        "\n",
        "# Simulate stock prices for each date\n",
        "np.random.seed(42)\n",
        "stock_prices = np.random.normal(loc=100, scale=5, size=num_days).round(2)\n",
        "\n",
        "# Create a DataFrame\n",
        "stock_df = pd.DataFrame({'Date': date_range, 'StockPrice': stock_prices})\n",
        "\n",
        "# Display the DataFrame\n",
        "print(stock_df)\n"
      ]
    },
    {
      "cell_type": "markdown",
      "metadata": {
        "id": "l1qGKXciPgnS"
      },
      "source": [
        "In the above example:\n",
        "\n",
        "- We set a start date of '2023-01-01' and generate a date range for 30 days using pd.date_range() with a daily frequency ('D').\n",
        "- We use NumPy to simulate random stock prices for each date. The prices are generated from a normal distribution with a mean of 100 and a standard deviation of 5.\n",
        "- We create a DataFrame (stock_df) with two columns: 'Date' and 'StockPrice'.\n",
        "Finally, we display the resulting DataFrame."
      ]
    }
  ],
  "metadata": {
    "colab": {
      "provenance": []
    },
    "kernelspec": {
      "display_name": "Python 3",
      "name": "python3"
    },
    "language_info": {
      "codemirror_mode": {
        "name": "ipython",
        "version": 3
      },
      "file_extension": ".py",
      "mimetype": "text/x-python",
      "name": "python",
      "nbconvert_exporter": "python",
      "pygments_lexer": "ipython3",
      "version": "3.12.0"
    }
  },
  "nbformat": 4,
  "nbformat_minor": 0
}
