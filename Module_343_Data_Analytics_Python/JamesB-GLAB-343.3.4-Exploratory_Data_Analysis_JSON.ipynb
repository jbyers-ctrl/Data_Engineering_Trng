{
  "cells": [
    {
      "cell_type": "markdown",
      "metadata": {
        "id": "jEHLLWlEIlOd"
      },
      "source": [
        "# **<font color='#0969DA'>Guided Lab 343.3.4 - Exploratory Data Analysis on json data - Basic insights from the Data</font>**\n",
        "---"
      ]
    },
    {
      "cell_type": "markdown",
      "metadata": {
        "id": "JB-l9QHm9mOa"
      },
      "source": [
        "## **Lab Overview:**\n",
        "\n",
        "This lab focuses on performing Exploratory Data Analysis (EDA) on a JSON dataset using Python and the Pandas library. The lab aims to guide you through the following key concepts:\n",
        "\n",
        "1. **Data Type Inspection:** Understanding the importance of checking data types for potential mismatches and compatibility with Python methods. This is demonstrated using the `dtypes` attribute of Pandas DataFrames.\n",
        "\n",
        "2. **Descriptive Statistics:** Calculating and interpreting basic statistical measures such as mean, standard deviation, minimum, maximum, and quartiles using the `describe()` method.\n",
        "\n",
        "3. **Concise Summary:** Obtaining a comprehensive overview of the dataset, including column names, data types, memory usage, and non-null values, using the `info()` method.\n",
        "\n",
        "4. **Data Selection:** Extracting specific records or subsets of the data using the `head()`, `tail()`, `at`, and `iat` functions, enabling efficient exploration of large datasets.\n",
        "\n",
        "5. **Data Shape and Size:** Determining the number of rows and columns using the `shape` attribute and exploring alternative methods like `axes` and `len` to access this information.\n",
        "\n",
        "**Learning Outcomes:**\n",
        "\n",
        "By the end of this lab, you should be able to:\n",
        "\n",
        "* Confidently load and manipulate JSON data in Python using Pandas.\n",
        "* Utilize various Pandas functions to perform basic EDA tasks.\n",
        "* Interpret descriptive statistics and summaries to gain insights into data.\n",
        "* Efficiently extract and analyze specific subsets of data.\n",
        "* Understand the structure and dimensions of a dataset.\n",
        "\n",
        "**Dataset:**\n",
        "\n",
        "The lab utilizes a JSON dataset named ['cars.json'](https://drive.google.com/file/d/1CXAK8gbuLtc2NNOXVUgmja8fDg0TrNZm/view) as the primary data source for analysis and demonstration.\n"
      ]
    },
    {
      "cell_type": "markdown",
      "metadata": {
        "id": "kcNHdyo0Jhmc"
      },
      "source": [
        "### **<font color='#0969DA'>How to check Data types in Pandas**\n",
        "\n"
      ]
    },
    {
      "cell_type": "markdown",
      "metadata": {
        "id": "4owsDFRMKOyc"
      },
      "source": [
        "- In pandas, we use **dtypes** attribute to check data types.\n",
        "- Why check data types?\n",
        " - potential info and type mismatch.\n",
        " - compatibility with python methods.\n",
        "---\n",
        "# **Begin**\n",
        "\n",
        "The lab follows a step-by-step approach, starting with loading the JSON data into a Pandas DataFrame. It then proceeds with exploring the data's characteristics, calculating statistics, selecting specific records, and understanding the dataset's structure."
      ]
    },
    {
      "cell_type": "code",
      "execution_count": 1,
      "metadata": {},
      "outputs": [],
      "source": [
        "import pandas as pd"
      ]
    },
    {
      "cell_type": "code",
      "execution_count": 2,
      "metadata": {
        "id": "05O0jYw5L6zk"
      },
      "outputs": [
        {
          "name": "stdout",
          "output_type": "stream",
          "text": [
            "Car              object\n",
            "MPG             float64\n",
            "Cylinders         int64\n",
            "Displacement    float64\n",
            "Horsepower        int64\n",
            "Weight            int64\n",
            "Acceleration    float64\n",
            "Model             int64\n",
            "Origin           object\n",
            "quantity          int64\n",
            "city             object\n",
            "dtype: object\n"
          ]
        }
      ],
      "source": [
        "# Read JSON file\n",
        "df_cars = pd.read_json('./Data/cars.json')\n",
        "print(df_cars.dtypes) # check the underlying data types"
      ]
    },
    {
      "cell_type": "markdown",
      "metadata": {
        "id": "qHDWado0MDX8"
      },
      "source": [
        "## **<font color='#0969DA'>Determining Descriptive Statistics**"
      ]
    },
    {
      "cell_type": "markdown",
      "metadata": {
        "id": "TeYU3vsNIt-F"
      },
      "source": [
        "- Pandas provides many statistical methods for DataFrames. You can get basic statistics summary for the numerical columns of a Pandas DataFrame with **describe()** method.\n",
        "\n",
        "Visit this link for all descriptive related methods.\n",
        "https://pandas.pydata.org/pandas-docs/stable/reference/frame.html#computations-descriptive-stats\n",
        "\n",
        "- Example: Consider the **cars.json** dataset"
      ]
    },
    {
      "cell_type": "code",
      "execution_count": 6,
      "metadata": {
        "id": "J2mC7fhNIimz"
      },
      "outputs": [
        {
          "data": {
            "text/html": [
              "<div>\n",
              "<style scoped>\n",
              "    .dataframe tbody tr th:only-of-type {\n",
              "        vertical-align: middle;\n",
              "    }\n",
              "\n",
              "    .dataframe tbody tr th {\n",
              "        vertical-align: top;\n",
              "    }\n",
              "\n",
              "    .dataframe thead th {\n",
              "        text-align: right;\n",
              "    }\n",
              "</style>\n",
              "<table border=\"1\" class=\"dataframe\">\n",
              "  <thead>\n",
              "    <tr style=\"text-align: right;\">\n",
              "      <th></th>\n",
              "      <th>MPG</th>\n",
              "      <th>Cylinders</th>\n",
              "      <th>Displacement</th>\n",
              "      <th>Horsepower</th>\n",
              "      <th>Weight</th>\n",
              "      <th>Acceleration</th>\n",
              "      <th>Model</th>\n",
              "      <th>quantity</th>\n",
              "    </tr>\n",
              "  </thead>\n",
              "  <tbody>\n",
              "    <tr>\n",
              "      <th>count</th>\n",
              "      <td>161.000000</td>\n",
              "      <td>161.000000</td>\n",
              "      <td>161.000000</td>\n",
              "      <td>161.000000</td>\n",
              "      <td>161.000000</td>\n",
              "      <td>161.000000</td>\n",
              "      <td>161.000000</td>\n",
              "      <td>161.000000</td>\n",
              "    </tr>\n",
              "    <tr>\n",
              "      <th>mean</th>\n",
              "      <td>23.801863</td>\n",
              "      <td>5.347826</td>\n",
              "      <td>185.232919</td>\n",
              "      <td>100.664596</td>\n",
              "      <td>2915.093168</td>\n",
              "      <td>15.509938</td>\n",
              "      <td>76.260870</td>\n",
              "      <td>224.875776</td>\n",
              "    </tr>\n",
              "    <tr>\n",
              "      <th>std</th>\n",
              "      <td>8.810125</td>\n",
              "      <td>1.761607</td>\n",
              "      <td>105.394809</td>\n",
              "      <td>41.079640</td>\n",
              "      <td>890.293883</td>\n",
              "      <td>2.515780</td>\n",
              "      <td>3.818576</td>\n",
              "      <td>127.741084</td>\n",
              "    </tr>\n",
              "    <tr>\n",
              "      <th>min</th>\n",
              "      <td>0.000000</td>\n",
              "      <td>3.000000</td>\n",
              "      <td>68.000000</td>\n",
              "      <td>0.000000</td>\n",
              "      <td>1613.000000</td>\n",
              "      <td>8.000000</td>\n",
              "      <td>70.000000</td>\n",
              "      <td>5.000000</td>\n",
              "    </tr>\n",
              "    <tr>\n",
              "      <th>25%</th>\n",
              "      <td>17.000000</td>\n",
              "      <td>4.000000</td>\n",
              "      <td>98.000000</td>\n",
              "      <td>72.000000</td>\n",
              "      <td>2130.000000</td>\n",
              "      <td>14.000000</td>\n",
              "      <td>73.000000</td>\n",
              "      <td>112.000000</td>\n",
              "    </tr>\n",
              "    <tr>\n",
              "      <th>50%</th>\n",
              "      <td>24.000000</td>\n",
              "      <td>4.000000</td>\n",
              "      <td>140.000000</td>\n",
              "      <td>88.000000</td>\n",
              "      <td>2625.000000</td>\n",
              "      <td>15.500000</td>\n",
              "      <td>76.000000</td>\n",
              "      <td>227.000000</td>\n",
              "    </tr>\n",
              "    <tr>\n",
              "      <th>75%</th>\n",
              "      <td>31.000000</td>\n",
              "      <td>8.000000</td>\n",
              "      <td>302.000000</td>\n",
              "      <td>130.000000</td>\n",
              "      <td>3620.000000</td>\n",
              "      <td>17.100000</td>\n",
              "      <td>80.000000</td>\n",
              "      <td>337.000000</td>\n",
              "    </tr>\n",
              "    <tr>\n",
              "      <th>max</th>\n",
              "      <td>46.600000</td>\n",
              "      <td>8.000000</td>\n",
              "      <td>440.000000</td>\n",
              "      <td>215.000000</td>\n",
              "      <td>4955.000000</td>\n",
              "      <td>22.100000</td>\n",
              "      <td>82.000000</td>\n",
              "      <td>439.000000</td>\n",
              "    </tr>\n",
              "  </tbody>\n",
              "</table>\n",
              "</div>"
            ],
            "text/plain": [
              "              MPG   Cylinders  Displacement  Horsepower       Weight  \\\n",
              "count  161.000000  161.000000    161.000000  161.000000   161.000000   \n",
              "mean    23.801863    5.347826    185.232919  100.664596  2915.093168   \n",
              "std      8.810125    1.761607    105.394809   41.079640   890.293883   \n",
              "min      0.000000    3.000000     68.000000    0.000000  1613.000000   \n",
              "25%     17.000000    4.000000     98.000000   72.000000  2130.000000   \n",
              "50%     24.000000    4.000000    140.000000   88.000000  2625.000000   \n",
              "75%     31.000000    8.000000    302.000000  130.000000  3620.000000   \n",
              "max     46.600000    8.000000    440.000000  215.000000  4955.000000   \n",
              "\n",
              "       Acceleration       Model    quantity  \n",
              "count    161.000000  161.000000  161.000000  \n",
              "mean      15.509938   76.260870  224.875776  \n",
              "std        2.515780    3.818576  127.741084  \n",
              "min        8.000000   70.000000    5.000000  \n",
              "25%       14.000000   73.000000  112.000000  \n",
              "50%       15.500000   76.000000  227.000000  \n",
              "75%       17.100000   80.000000  337.000000  \n",
              "max       22.100000   82.000000  439.000000  "
            ]
          },
          "execution_count": 6,
          "metadata": {},
          "output_type": "execute_result"
        }
      ],
      "source": [
        "\n",
        "df_cars = pd.read_json('./Data/cars.json')\n",
        "df_cars.describe()"
      ]
    },
    {
      "cell_type": "markdown",
      "metadata": {
        "id": "fCgWmbghNeez"
      },
      "source": [
        "in the above result, describe() returns a new DataFrame with the number of rows indicated by count, as well as the mean, standard deviation, minimum, maximum, and quartiles of the columns.\n",
        "\n",
        "---\n",
        "\n"
      ]
    },
    {
      "cell_type": "markdown",
      "metadata": {
        "id": "zdkVbvK8MXBd"
      },
      "source": [
        "## **<font color='#0969DA'>Determine Basic Concise summary</font>**\n",
        "\n",
        "Pandas provides many statistical methods for DataFrames. You can get basic concise summary for the Pandas DataFrame with **info()** method.\n",
        "\n",
        "In other words, info function gives metadata of panda DataFrame, Which includes,\n",
        "\n",
        "- Number of rows and its range of index\n",
        "- Total number of columns\n",
        "- List of columns\n",
        "- Count of the total number of non-null values in the column\n",
        "- Data type of column\n",
        "- Count of columns in each data type\n",
        "- Memory usage by the DataFrame\n",
        "\n",
        "Reference: https://pandas.pydata.org/pandas-docs/stable/reference/api/pandas.DataFrame.info.html"
      ]
    },
    {
      "cell_type": "markdown",
      "metadata": {
        "id": "0S9nNk3Jg6Lz"
      },
      "source": [
        "# **<font color='#0969DA'>DataFrame Count</font>**\n",
        "\n",
        "df.count():\n",
        "DataFrame Count will return the number of Non-NA values within each column. I don’t love this one because 1) it’s slower and 2) you need to do extra data work after you call .count().\n",
        "\n",
        "Be careful, if you have NAs in your dataset, it can get confusing. The count() will skip these by default."
      ]
    },
    {
      "cell_type": "code",
      "execution_count": 7,
      "metadata": {
        "id": "R7wnuIRKNPSV"
      },
      "outputs": [
        {
          "name": "stdout",
          "output_type": "stream",
          "text": [
            "<class 'pandas.core.frame.DataFrame'>\n",
            "RangeIndex: 161 entries, 0 to 160\n",
            "Data columns (total 11 columns):\n",
            " #   Column        Non-Null Count  Dtype  \n",
            "---  ------        --------------  -----  \n",
            " 0   Car           161 non-null    object \n",
            " 1   MPG           161 non-null    float64\n",
            " 2   Cylinders     161 non-null    int64  \n",
            " 3   Displacement  161 non-null    float64\n",
            " 4   Horsepower    161 non-null    int64  \n",
            " 5   Weight        161 non-null    int64  \n",
            " 6   Acceleration  161 non-null    float64\n",
            " 7   Model         161 non-null    int64  \n",
            " 8   Origin        161 non-null    object \n",
            " 9   quantity      161 non-null    int64  \n",
            " 10  city          161 non-null    object \n",
            "dtypes: float64(3), int64(5), object(3)\n",
            "memory usage: 14.0+ KB\n"
          ]
        }
      ],
      "source": [
        "df_cars.info()"
      ]
    },
    {
      "cell_type": "markdown",
      "metadata": {
        "id": "D6-x1ujQNRme"
      },
      "source": [
        "In the above result, the information contains the number of columns, column labels, column data types, memory usage, range index, and the number of cells in each column (non-null values).\n",
        "\n",
        "---\n",
        "\n"
      ]
    },
    {
      "cell_type": "markdown",
      "metadata": {
        "id": "fVDAGxTINox-"
      },
      "source": [
        "## **<font color='#0969DA'>Select few records</font>**"
      ]
    },
    {
      "cell_type": "markdown",
      "metadata": {
        "id": "rv14CovGNsBk"
      },
      "source": [
        "The **head()** and  **tail()** functions use to select top and bottom rows of the Pandas DataFrame respectively. It is beneficial when we have massive datasets, and it is not possible to see the entire dataset at once.\n",
        "\n",
        "**Example: Consider the cars.json dataset**"
      ]
    },
    {
      "cell_type": "markdown",
      "metadata": {
        "id": "DXa0aQXSN2Sc"
      },
      "source": [
        "You can use **head(2)** function, only the first 2 rows of the DataFrame are displayed."
      ]
    },
    {
      "cell_type": "code",
      "execution_count": null,
      "metadata": {
        "id": "-OKJ-9g2N4RX"
      },
      "outputs": [
        {
          "name": "stdout",
          "output_type": "stream",
          "text": [
            "                   Car   MPG  Cylinders  Displacement  Horsepower  Weight  \\\n",
            "0       Chevrolet Vega  25.0          4         140.0          75    2542   \n",
            "1  Chevrolet Vega (sw)  22.0          4         140.0          72    2408   \n",
            "\n",
            "   Acceleration  Model Origin  quantity    city  \n",
            "0          17.0     74     US       177      NJ  \n",
            "1          19.0     71     US        91  DALLAS  \n",
            "                            Car   MPG  Cylinders  Displacement  Horsepower  \\\n",
            "0                Chevrolet Vega  25.0          4         140.0          75   \n",
            "1           Chevrolet Vega (sw)  22.0          4         140.0          72   \n",
            "2           Chevrolet Vega 2300  28.0          4         140.0          90   \n",
            "3               Chevrolet Woody  24.5          4          98.0          60   \n",
            "4    Chevrolete Chevelle Malibu  16.0          6         250.0         105   \n",
            "..                          ...   ...        ...           ...         ...   \n",
            "152          Mercedes Benz 300d  25.4          5         183.0          77   \n",
            "153          Mercedes-Benz 240d  30.0          4         146.0          67   \n",
            "154          Mercedes-Benz 280s  16.5          6         168.0         120   \n",
            "155          Mercury Capri 2000  23.0          4         122.0          86   \n",
            "156            Mercury Capri v6  21.0          6         155.0         107   \n",
            "\n",
            "     Weight  Acceleration  Model  Origin  quantity     city  \n",
            "0      2542          17.0     74      US       177       NJ  \n",
            "1      2408          19.0     71      US        91   DALLAS  \n",
            "2      2264          15.5     71      US        74    TEXAS  \n",
            "3      2164          22.1     76      US       241       OH  \n",
            "4      3897          18.5     75      US       206  NewYork  \n",
            "..      ...           ...    ...     ...       ...      ...  \n",
            "152    3530          20.1     79  Europe       342       NJ  \n",
            "153    3250          21.8     80  Europe       373   DALLAS  \n",
            "154    3820          16.7     76  Europe       256    TEXAS  \n",
            "155    2220          14.0     71      US        94       OH  \n",
            "156    2472          14.0     73      US       158  NewYork  \n",
            "\n",
            "[157 rows x 11 columns]\n"
          ]
        }
      ],
      "source": [
        "print(df_cars.head(2))\n",
        "print(df_cars.head(-4)) # All rows minus the last 4"
      ]
    },
    {
      "cell_type": "markdown",
      "metadata": {
        "id": "ChzQXvlvOFuE"
      },
      "source": [
        "\n",
        "\n",
        "---\n",
        "\n"
      ]
    },
    {
      "cell_type": "markdown",
      "metadata": {
        "id": "vobWPuMPN-v0"
      },
      "source": [
        "You can use **tail(2)** function, only the last 2 rows of the DataFrame are displayed."
      ]
    },
    {
      "cell_type": "code",
      "execution_count": null,
      "metadata": {
        "id": "tXIkPcGAN9Ts"
      },
      "outputs": [
        {
          "name": "stdout",
          "output_type": "stream",
          "text": [
            "                 Car   MPG  Cylinders  Displacement  Horsepower  Weight  \\\n",
            "159   Mercury Lynx l  36.0          4          98.0          70    2125   \n",
            "160  Mercury Marquis  11.0          8         429.0         208    4633   \n",
            "\n",
            "     Acceleration  Model Origin  quantity   city  \n",
            "159          17.3     82     US       425  TEXAS  \n",
            "160          11.0     72     US       112     OH  \n",
            "                         Car   MPG  Cylinders  Displacement  Horsepower  \\\n",
            "20             Datsun 280-ZX  32.7          6         168.0         132   \n",
            "21                Datsun 310  37.2          4          86.0          65   \n",
            "22             Datsun 310 GX  38.0          4          91.0          67   \n",
            "23                Datsun 510  27.2          4         119.0          97   \n",
            "24           Datsun 510 (sw)  28.0          4          97.0          92   \n",
            "..                       ...   ...        ...           ...         ...   \n",
            "156         Mercury Capri v6  21.0          6         155.0         107   \n",
            "157  Mercury Cougar Brougham  15.0          8         302.0         130   \n",
            "158    Mercury Grand Marquis  16.5          8         351.0         138   \n",
            "159           Mercury Lynx l  36.0          4          98.0          70   \n",
            "160          Mercury Marquis  11.0          8         429.0         208   \n",
            "\n",
            "     Weight  Acceleration  Model Origin  quantity     city  \n",
            "20     2910          11.4     80  Japan       378       OH  \n",
            "21     2019          16.4     80  Japan       357  NewYork  \n",
            "22     1995          16.2     82  Japan       431       NJ  \n",
            "23     2300          14.7     78  Japan       313   DALLAS  \n",
            "24     2288          17.0     72  Japan       126    TEXAS  \n",
            "..      ...           ...    ...    ...       ...      ...  \n",
            "156    2472          14.0     73     US       158  NewYork  \n",
            "157    4295          14.9     77     US        27       NJ  \n",
            "158    3955          13.2     79     US       332   DALLAS  \n",
            "159    2125          17.3     82     US       425    TEXAS  \n",
            "160    4633          11.0     72     US       112       OH  \n",
            "\n",
            "[141 rows x 11 columns]\n"
          ]
        }
      ],
      "source": [
        "print(df_cars.tail(2))\n",
        "print(df_cars.tail(-20)) # Start at row 20"
      ]
    },
    {
      "cell_type": "markdown",
      "metadata": {
        "id": "wYDOUelNOYQc"
      },
      "source": [
        "\n",
        "\n",
        "---\n",
        "\n"
      ]
    },
    {
      "cell_type": "markdown",
      "metadata": {
        "id": "yjFKFvjAOQo8"
      },
      "source": [
        "## **<font color='#0969DA'>Select Specific records</font>**"
      ]
    },
    {
      "cell_type": "markdown",
      "metadata": {
        "id": "EghsmG6NOZ8X"
      },
      "source": [
        " Also, **at** and **iat** properties to access a specific element in the DataFrame.\n",
        "\n",
        "Example: Using **at** property:\n",
        "\n",
        "**Consider the cars.json dataset**\n",
        "\n"
      ]
    },
    {
      "cell_type": "code",
      "execution_count": 15,
      "metadata": {
        "id": "ZKkDfjUuOfHU"
      },
      "outputs": [
        {
          "name": "stdout",
          "output_type": "stream",
          "text": [
            "15.0\n",
            "32.7\n"
          ]
        }
      ],
      "source": [
        "print(df_cars.at[157, 'MPG'])\n",
        "print(df_cars.at[20, 'MPG'])\n"
      ]
    },
    {
      "cell_type": "markdown",
      "metadata": {
        "id": "4-feWu31O0LW"
      },
      "source": [
        "**DataFrame.iat:** We want to access a specific element from a very large DataFrame, but we do not know its column label or row index. We can still access such an element using its column and row positions. For that, we can use iat property of python pandas.\n",
        "\n",
        "**Example: Using iat property:**\n",
        "In this example, we will access the 157 row and the 1st column."
      ]
    },
    {
      "cell_type": "code",
      "execution_count": 16,
      "metadata": {
        "id": "h5t-KYTMPp5j"
      },
      "outputs": [
        {
          "data": {
            "text/plain": [
              "np.float64(15.0)"
            ]
          },
          "execution_count": 16,
          "metadata": {},
          "output_type": "execute_result"
        }
      ],
      "source": [
        "df_cars.iat[157, 1]"
      ]
    },
    {
      "cell_type": "markdown",
      "metadata": {
        "id": "OmB7sK71Rcsj"
      },
      "source": [
        "\n",
        "\n",
        "---\n",
        "\n"
      ]
    },
    {
      "cell_type": "markdown",
      "metadata": {
        "id": "41JUku32sRw0"
      },
      "source": [
        "# **<font color='#0969DA'>DataFrame Shape</font>**\n",
        "## **Find number of rows and columns**\n",
        "The number of rows and columns of a DataFrame can be identified using the .**shape ** attribute of the Panda DataFrame. It returns a tuple (row, column) and can be indexed to get only rows, and only columns count as output.\n",
        "\n",
        "\n",
        "**- df.shape[0] - To count rows**\n",
        "\n",
        "**- df.shape[1] - To count columns**"
      ]
    },
    {
      "cell_type": "code",
      "execution_count": 17,
      "metadata": {
        "id": "MTA4XIq4RQ8l"
      },
      "outputs": [
        {
          "name": "stdout",
          "output_type": "stream",
          "text": [
            "(161, 11)\n",
            "161\n",
            "11\n"
          ]
        }
      ],
      "source": [
        "\n",
        "print(df_cars.shape) # Get the number of rows and columns\n",
        "print(df_cars.shape[0]) # Get the number of rows only\n",
        "print(df_cars.shape[1]) # Get the number of columns only"
      ]
    },
    {
      "cell_type": "code",
      "execution_count": 3,
      "metadata": {
        "id": "ZOAd8F2d51Fh"
      },
      "outputs": [
        {
          "name": "stdout",
          "output_type": "stream",
          "text": [
            "Index(['Name', 'Age', 'Marks'], dtype='object')\n",
            "Name\n",
            "Name\n",
            "['Name', 'Age', 'Marks']\n"
          ]
        }
      ],
      "source": [
        "# Create DataFrame from dict\n",
        "student_dict = {'Name': ['Joe', 'Nat', 'Harry'], 'Age': [20, 21, 19], 'Marks': [85.10, 77.80, 91.54]}\n",
        "\n",
        "student_df = pd.DataFrame(student_dict)\n",
        "\n",
        "list_Index = student_df.columns    # get col index\n",
        "print(list_Index)\n",
        "label = student_df.columns[0]  # 1st col label\n",
        "print(label)\n",
        "print(student_df.columns[0])\n",
        "Get_As_List = student_df.columns.tolist() # get as a list\n",
        "print(Get_As_List)"
      ]
    },
    {
      "cell_type": "markdown",
      "metadata": {
        "id": "WhW10XediIb5"
      },
      "source": [
        "\n",
        "\n",
        "---\n",
        "\n",
        "# **<font color='#0969DA'>DataFrame Axes Length**</font>\n",
        "\n",
        "**len(df.axes[0]):** Next up is our most verbose option – DataFrame Axes Length.\n",
        "\n",
        "This axes attribute will return your row axis, then you must count the length of it.\n",
        "\n",
        "Let’s break this one down. **df.axes** will return a tuple of your two axes for rows and columns. [0] will pull the first item (rows) from the tuple. Then finally **len()** will find the length, or how many items, you have in your axis which is your row count.\n",
        "\n",
        " Let's look through it step by step.\n",
        "\n",
        "- Return both axis (rows/columns)\n",
        "\n",
        "- Pull our the rows\n",
        "\n",
        "- Count the length"
      ]
    },
    {
      "cell_type": "code",
      "execution_count": 19,
      "metadata": {
        "id": "Cuk5x7EIh38q"
      },
      "outputs": [
        {
          "data": {
            "text/plain": [
              "[RangeIndex(start=0, stop=161, step=1),\n",
              " Index(['Car', 'MPG', 'Cylinders', 'Displacement', 'Horsepower', 'Weight',\n",
              "        'Acceleration', 'Model', 'Origin', 'quantity', 'city'],\n",
              "       dtype='object')]"
            ]
          },
          "execution_count": 19,
          "metadata": {},
          "output_type": "execute_result"
        }
      ],
      "source": [
        "df_cars.axes"
      ]
    },
    {
      "cell_type": "code",
      "execution_count": 20,
      "metadata": {
        "id": "n7_Dvffuh-1K"
      },
      "outputs": [
        {
          "data": {
            "text/plain": [
              "RangeIndex(start=0, stop=161, step=1)"
            ]
          },
          "execution_count": 20,
          "metadata": {},
          "output_type": "execute_result"
        }
      ],
      "source": [
        "df_cars.axes[0]"
      ]
    },
    {
      "cell_type": "code",
      "execution_count": 6,
      "metadata": {},
      "outputs": [
        {
          "data": {
            "text/plain": [
              "Index(['Car', 'MPG', 'Cylinders', 'Displacement', 'Horsepower', 'Weight',\n",
              "       'Acceleration', 'Model', 'Origin', 'quantity', 'city'],\n",
              "      dtype='object')"
            ]
          },
          "execution_count": 6,
          "metadata": {},
          "output_type": "execute_result"
        }
      ],
      "source": [
        "df_cars.axes[1]"
      ]
    },
    {
      "cell_type": "code",
      "execution_count": 11,
      "metadata": {},
      "outputs": [
        {
          "data": {
            "text/plain": [
              "'MPG'"
            ]
          },
          "execution_count": 11,
          "metadata": {},
          "output_type": "execute_result"
        }
      ],
      "source": [
        "df_cars.axes[1][1]"
      ]
    },
    {
      "cell_type": "code",
      "execution_count": 21,
      "metadata": {
        "id": "5v9ePT_RiECS"
      },
      "outputs": [
        {
          "data": {
            "text/plain": [
              "161"
            ]
          },
          "execution_count": 21,
          "metadata": {},
          "output_type": "execute_result"
        }
      ],
      "source": [
        "len(df_cars.axes[0])"
      ]
    },
    {
      "cell_type": "code",
      "execution_count": 4,
      "metadata": {},
      "outputs": [
        {
          "data": {
            "text/plain": [
              "11"
            ]
          },
          "execution_count": 4,
          "metadata": {},
          "output_type": "execute_result"
        }
      ],
      "source": [
        "len(df_cars.axes[1])"
      ]
    },
    {
      "cell_type": "markdown",
      "metadata": {
        "id": "KIJ_6G85cErR"
      },
      "source": [
        "## **Submission**\n",
        "- Submit your completed lab using the Start Assignment button on the assignment page in Canvas.\n",
        "- Your submission can be include:\n",
        "  - if you are using notebook then, all tasks should be written and submitted in a single notebook file, for example: (**your_name_labname.ipynb**).\n",
        "  - if you are using python script file, all tasks should be written and submitted in a single python script file for example: **(your_name_labname.py)**.\n",
        "- Add appropriate comments and any additional instructions if required.\n"
      ]
    }
  ],
  "metadata": {
    "colab": {
      "provenance": []
    },
    "kernelspec": {
      "display_name": ".data",
      "language": "python",
      "name": "python3"
    },
    "language_info": {
      "codemirror_mode": {
        "name": "ipython",
        "version": 3
      },
      "file_extension": ".py",
      "mimetype": "text/x-python",
      "name": "python",
      "nbconvert_exporter": "python",
      "pygments_lexer": "ipython3",
      "version": "3.10.0"
    }
  },
  "nbformat": 4,
  "nbformat_minor": 0
}
