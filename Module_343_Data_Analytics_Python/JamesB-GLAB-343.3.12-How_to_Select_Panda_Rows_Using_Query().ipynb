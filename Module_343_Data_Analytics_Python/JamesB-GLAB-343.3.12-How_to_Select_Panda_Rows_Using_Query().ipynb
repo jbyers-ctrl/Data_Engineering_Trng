{
  "cells": [
    {
      "cell_type": "markdown",
      "metadata": {
        "id": "TPqP0uMlkLGV"
      },
      "source": [
        "# **Guided Lab - 343.3.12 - How to Select Panda Rows using query()**"
      ]
    },
    {
      "cell_type": "markdown",
      "metadata": {
        "id": "u0QEiqraIs0K"
      },
      "source": [
        "# **Lab Objective:**\n",
        "\n",
        "In this lab, we will demonstrate various techniques for querying Pandas DataFrame rows. We will cover:\n",
        "\n",
        "- Selecting rows based on single or multiple conditions.\n",
        "- Querying with a list of values (checking if a column value exists within a list of string values).\n",
        "- Utilizing the `query()` function to efficiently access specific records from a Pandas DataFrame.\n",
        "\n",
        "# **Learning Objective:**\n",
        "\n",
        "By the end of this lab, Learner will be able to utilize **query()** function to retrieve desired data from Pandas DataFrame.\n",
        "\n",
        "## **Introduction**\n",
        "\n",
        "The `query()` function, a powerful tool for selecting rows from a DataFrame based on specific criteria. The `query()` function enhances data exploration and manipulation, allowing for precise data retrieval and analysis. Throughout this lab, you will gain hands-on experience with `query()` and understand its syntax and applications in data analysis.\n",
        "\n",
        "\n"
      ]
    },
    {
      "cell_type": "markdown",
      "metadata": {
        "id": "AO7fLFRKCMJv"
      },
      "source": [
        "**Following is the syntax of query() method.**\n",
        "\n",
        "```\n",
        "DataFrame.query(expr, inplace=False)\n",
        "\n",
        "- expr: expression takes conditions to query rows\n",
        "- inplace: Defaults to False. When set to True, it updates the referring DataFrame and query() method returns None.\n",
        "\n",
        "```\n",
        "\n"
      ]
    },
    {
      "cell_type": "markdown",
      "metadata": {
        "id": "73YNcPmHBjJr"
      },
      "source": [
        "### **let’s create a pandas DataFrame from Dictionary.**\n",
        "\n",
        "Remember when you query DataFrame Rows using query() fucntion, it always returns a new DataFrame with selected rows, in order to update existing df you have to use **`inplace=True`**. I hope this article helps you learn Pandas."
      ]
    },
    {
      "cell_type": "code",
      "execution_count": 1,
      "metadata": {},
      "outputs": [],
      "source": [
        "# importing pandas library\n",
        "import pandas as pd"
      ]
    },
    {
      "cell_type": "code",
      "execution_count": 13,
      "metadata": {
        "id": "68aHzomXA2D0"
      },
      "outputs": [
        {
          "name": "stdout",
          "output_type": "stream",
          "text": [
            " ------data frame before slicing-----\n"
          ]
        },
        {
          "data": {
            "text/html": [
              "<div>\n",
              "<style scoped>\n",
              "    .dataframe tbody tr th:only-of-type {\n",
              "        vertical-align: middle;\n",
              "    }\n",
              "\n",
              "    .dataframe tbody tr th {\n",
              "        vertical-align: top;\n",
              "    }\n",
              "\n",
              "    .dataframe thead th {\n",
              "        text-align: right;\n",
              "    }\n",
              "</style>\n",
              "<table border=\"1\" class=\"dataframe\">\n",
              "  <thead>\n",
              "    <tr style=\"text-align: right;\">\n",
              "      <th></th>\n",
              "      <th>Name</th>\n",
              "      <th>Age</th>\n",
              "      <th>Weight</th>\n",
              "      <th>Salary</th>\n",
              "    </tr>\n",
              "  </thead>\n",
              "  <tbody>\n",
              "    <tr>\n",
              "      <th>1</th>\n",
              "      <td>James</td>\n",
              "      <td>36</td>\n",
              "      <td>75</td>\n",
              "      <td>5428000</td>\n",
              "    </tr>\n",
              "    <tr>\n",
              "      <th>2</th>\n",
              "      <td>Villers</td>\n",
              "      <td>38</td>\n",
              "      <td>74</td>\n",
              "      <td>3428000</td>\n",
              "    </tr>\n",
              "    <tr>\n",
              "      <th>3</th>\n",
              "      <td>VKole</td>\n",
              "      <td>31</td>\n",
              "      <td>70</td>\n",
              "      <td>8428000</td>\n",
              "    </tr>\n",
              "    <tr>\n",
              "      <th>4</th>\n",
              "      <td>Smith</td>\n",
              "      <td>34</td>\n",
              "      <td>80</td>\n",
              "      <td>4428000</td>\n",
              "    </tr>\n",
              "    <tr>\n",
              "      <th>5</th>\n",
              "      <td>Gayle</td>\n",
              "      <td>40</td>\n",
              "      <td>100</td>\n",
              "      <td>4528000</td>\n",
              "    </tr>\n",
              "    <tr>\n",
              "      <th>6</th>\n",
              "      <td>Rooter</td>\n",
              "      <td>33</td>\n",
              "      <td>72</td>\n",
              "      <td>7028000</td>\n",
              "    </tr>\n",
              "    <tr>\n",
              "      <th>7</th>\n",
              "      <td>Peterson</td>\n",
              "      <td>42</td>\n",
              "      <td>85</td>\n",
              "      <td>2528000</td>\n",
              "    </tr>\n",
              "    <tr>\n",
              "      <th>8</th>\n",
              "      <td>John</td>\n",
              "      <td>41</td>\n",
              "      <td>85</td>\n",
              "      <td>1528000</td>\n",
              "    </tr>\n",
              "    <tr>\n",
              "      <th>9</th>\n",
              "      <td>Rome</td>\n",
              "      <td>45</td>\n",
              "      <td>85</td>\n",
              "      <td>152890</td>\n",
              "    </tr>\n",
              "    <tr>\n",
              "      <th>10</th>\n",
              "      <td>Dave</td>\n",
              "      <td>55</td>\n",
              "      <td>85</td>\n",
              "      <td>152890</td>\n",
              "    </tr>\n",
              "    <tr>\n",
              "      <th>11</th>\n",
              "      <td>Smith</td>\n",
              "      <td>44</td>\n",
              "      <td>60</td>\n",
              "      <td>1428000</td>\n",
              "    </tr>\n",
              "  </tbody>\n",
              "</table>\n",
              "</div>"
            ],
            "text/plain": [
              "        Name  Age  Weight   Salary\n",
              "1      James   36      75  5428000\n",
              "2    Villers   38      74  3428000\n",
              "3      VKole   31      70  8428000\n",
              "4      Smith   34      80  4428000\n",
              "5      Gayle   40     100  4528000\n",
              "6     Rooter   33      72  7028000\n",
              "7   Peterson   42      85  2528000\n",
              "8       John   41      85  1528000\n",
              "9       Rome   45      85   152890\n",
              "10      Dave   55      85   152890\n",
              "11     Smith   44      60  1428000"
            ]
          },
          "execution_count": 13,
          "metadata": {},
          "output_type": "execute_result"
        }
      ],
      "source": [
        "# Initializing the nested list with Data set\n",
        "employee_list = [['James', 36, 75, 5428000],\n",
        "               ['Villers', 38, 74, 3428000],\n",
        "               ['VKole', 31, 70, 8428000],\n",
        "               ['Smith', 34, 80, 4428000],\n",
        "               ['Gayle', 40, 100, 4528000],\n",
        "               ['Rooter', 33, 72, 7028000],\n",
        "               ['Peterson', 42, 85, 2528000],\n",
        "               ['John', 41, 85, 1528000],\n",
        "               ['Rome', 45, 85, 152890],\n",
        "               ['Dave', 55, 85, 152890],\n",
        "                ['Smith', 44, 60, 1428000]\n",
        "\n",
        "]\n",
        "\n",
        "# creating a pandas dataframe\n",
        "idx = pd.RangeIndex(1,12)\n",
        "df = pd.DataFrame(employee_list, columns=['Name', 'Age', 'Weight', 'Salary'], index = idx)\n",
        "\n",
        "print(' ------data frame before slicing-----')\n",
        "df"
      ]
    },
    {
      "cell_type": "markdown",
      "metadata": {
        "id": "YDYJ1o7BC10p"
      },
      "source": [
        "### **DataFrame.query() takes condition in expression to select rows from a DataFrame. This expression can have one or multiple conditions.**\n",
        "\n",
        "- The following example we can consider as a categorical variable matches a single value."
      ]
    },
    {
      "cell_type": "code",
      "execution_count": 4,
      "metadata": {
        "id": "n6c61uibBWEO"
      },
      "outputs": [
        {
          "data": {
            "text/html": [
              "<div>\n",
              "<style scoped>\n",
              "    .dataframe tbody tr th:only-of-type {\n",
              "        vertical-align: middle;\n",
              "    }\n",
              "\n",
              "    .dataframe tbody tr th {\n",
              "        vertical-align: top;\n",
              "    }\n",
              "\n",
              "    .dataframe thead th {\n",
              "        text-align: right;\n",
              "    }\n",
              "</style>\n",
              "<table border=\"1\" class=\"dataframe\">\n",
              "  <thead>\n",
              "    <tr style=\"text-align: right;\">\n",
              "      <th></th>\n",
              "      <th>Name</th>\n",
              "      <th>Age</th>\n",
              "      <th>Weight</th>\n",
              "      <th>Salary</th>\n",
              "    </tr>\n",
              "  </thead>\n",
              "  <tbody>\n",
              "    <tr>\n",
              "      <th>5</th>\n",
              "      <td>Gayle</td>\n",
              "      <td>40</td>\n",
              "      <td>100</td>\n",
              "      <td>4528000</td>\n",
              "    </tr>\n",
              "  </tbody>\n",
              "</table>\n",
              "</div>"
            ],
            "text/plain": [
              "    Name  Age  Weight   Salary\n",
              "5  Gayle   40     100  4528000"
            ]
          },
          "execution_count": 4,
          "metadata": {},
          "output_type": "execute_result"
        }
      ],
      "source": [
        "df2=df.query(\"Name == 'Gayle'\")\n",
        "df2"
      ]
    },
    {
      "cell_type": "markdown",
      "metadata": {
        "id": "Thj7QgdpDDjA"
      },
      "source": [
        "### **In case you wanted to use a variable in the expression, use @, as shown in the below code example.**"
      ]
    },
    {
      "cell_type": "code",
      "execution_count": 10,
      "metadata": {
        "colab": {
          "base_uri": "https://localhost:8080/"
        },
        "id": "DJNSByJ2BZu6",
        "outputId": "e07f8383-902e-403a-e764-0ce7b011dc28"
      },
      "outputs": [
        {
          "data": {
            "text/html": [
              "<div>\n",
              "<style scoped>\n",
              "    .dataframe tbody tr th:only-of-type {\n",
              "        vertical-align: middle;\n",
              "    }\n",
              "\n",
              "    .dataframe tbody tr th {\n",
              "        vertical-align: top;\n",
              "    }\n",
              "\n",
              "    .dataframe thead th {\n",
              "        text-align: right;\n",
              "    }\n",
              "</style>\n",
              "<table border=\"1\" class=\"dataframe\">\n",
              "  <thead>\n",
              "    <tr style=\"text-align: right;\">\n",
              "      <th></th>\n",
              "      <th>Name</th>\n",
              "      <th>Age</th>\n",
              "      <th>Weight</th>\n",
              "      <th>Salary</th>\n",
              "    </tr>\n",
              "  </thead>\n",
              "  <tbody>\n",
              "    <tr>\n",
              "      <th>5</th>\n",
              "      <td>Gayle</td>\n",
              "      <td>40</td>\n",
              "      <td>100</td>\n",
              "      <td>4528000</td>\n",
              "    </tr>\n",
              "  </tbody>\n",
              "</table>\n",
              "</div>"
            ],
            "text/plain": [
              "    Name  Age  Weight   Salary\n",
              "5  Gayle   40     100  4528000"
            ]
          },
          "execution_count": 10,
          "metadata": {},
          "output_type": "execute_result"
        }
      ],
      "source": [
        "# Using variable\n",
        "value='Gayle'\n",
        "df2 = df.query(\"Name == @value\")\n",
        "df2"
      ]
    },
    {
      "cell_type": "markdown",
      "metadata": {
        "id": "a0Kun8mQDolx"
      },
      "source": [
        "### **If you notice the above examples return a new DataFrame after filtering the rows. if you wanted to update the existing DataFrame use inplace=True**"
      ]
    },
    {
      "cell_type": "code",
      "execution_count": 11,
      "metadata": {
        "id": "bsprnCxxCCIT"
      },
      "outputs": [
        {
          "name": "stdout",
          "output_type": "stream",
          "text": [
            "None\n",
            "    Name  Age  Weight   Salary\n",
            "5  Gayle   40     100  4528000\n"
          ]
        }
      ],
      "source": [
        "# Inplace\n",
        "print(df.query(\"Name == 'Gayle'\", inplace=True))\n",
        "print(df)"
      ]
    },
    {
      "cell_type": "markdown",
      "metadata": {
        "id": "6XLcDH20Eit5"
      },
      "source": [
        "### **Filter records: We can use conditional operators and comparision operators**"
      ]
    },
    {
      "cell_type": "code",
      "execution_count": 14,
      "metadata": {
        "id": "HeW7UZ7TCPMM"
      },
      "outputs": [
        {
          "name": "stdout",
          "output_type": "stream",
          "text": [
            "        Name  Age  Weight   Salary\n",
            "1      James   36      75  5428000\n",
            "2    Villers   38      74  3428000\n",
            "4      Smith   34      80  4428000\n",
            "5      Gayle   40     100  4528000\n",
            "6     Rooter   33      72  7028000\n",
            "7   Peterson   42      85  2528000\n",
            "8       John   41      85  1528000\n",
            "9       Rome   45      85   152890\n",
            "10      Dave   55      85   152890\n",
            "11     Smith   44      60  1428000\n"
          ]
        }
      ],
      "source": [
        "print(df.query(\"Name != 'VKole'\"))\n"
      ]
    },
    {
      "cell_type": "code",
      "execution_count": 15,
      "metadata": {
        "id": "XoG0Nl-IDPVx"
      },
      "outputs": [
        {
          "data": {
            "text/html": [
              "<div>\n",
              "<style scoped>\n",
              "    .dataframe tbody tr th:only-of-type {\n",
              "        vertical-align: middle;\n",
              "    }\n",
              "\n",
              "    .dataframe tbody tr th {\n",
              "        vertical-align: top;\n",
              "    }\n",
              "\n",
              "    .dataframe thead th {\n",
              "        text-align: right;\n",
              "    }\n",
              "</style>\n",
              "<table border=\"1\" class=\"dataframe\">\n",
              "  <thead>\n",
              "    <tr style=\"text-align: right;\">\n",
              "      <th></th>\n",
              "      <th>Name</th>\n",
              "      <th>Age</th>\n",
              "      <th>Weight</th>\n",
              "      <th>Salary</th>\n",
              "    </tr>\n",
              "  </thead>\n",
              "  <tbody>\n",
              "    <tr>\n",
              "      <th>1</th>\n",
              "      <td>James</td>\n",
              "      <td>36</td>\n",
              "      <td>75</td>\n",
              "      <td>5428000</td>\n",
              "    </tr>\n",
              "    <tr>\n",
              "      <th>3</th>\n",
              "      <td>VKole</td>\n",
              "      <td>31</td>\n",
              "      <td>70</td>\n",
              "      <td>8428000</td>\n",
              "    </tr>\n",
              "    <tr>\n",
              "      <th>5</th>\n",
              "      <td>Gayle</td>\n",
              "      <td>40</td>\n",
              "      <td>100</td>\n",
              "      <td>4528000</td>\n",
              "    </tr>\n",
              "    <tr>\n",
              "      <th>6</th>\n",
              "      <td>Rooter</td>\n",
              "      <td>33</td>\n",
              "      <td>72</td>\n",
              "      <td>7028000</td>\n",
              "    </tr>\n",
              "  </tbody>\n",
              "</table>\n",
              "</div>"
            ],
            "text/plain": [
              "     Name  Age  Weight   Salary\n",
              "1   James   36      75  5428000\n",
              "3   VKole   31      70  8428000\n",
              "5   Gayle   40     100  4528000\n",
              "6  Rooter   33      72  7028000"
            ]
          },
          "execution_count": 15,
          "metadata": {},
          "output_type": "execute_result"
        }
      ],
      "source": [
        "df.query(\"Salary >= 4528000\")\n"
      ]
    },
    {
      "cell_type": "code",
      "execution_count": 16,
      "metadata": {
        "id": "bDrZZbREDSK8"
      },
      "outputs": [
        {
          "data": {
            "text/html": [
              "<div>\n",
              "<style scoped>\n",
              "    .dataframe tbody tr th:only-of-type {\n",
              "        vertical-align: middle;\n",
              "    }\n",
              "\n",
              "    .dataframe tbody tr th {\n",
              "        vertical-align: top;\n",
              "    }\n",
              "\n",
              "    .dataframe thead th {\n",
              "        text-align: right;\n",
              "    }\n",
              "</style>\n",
              "<table border=\"1\" class=\"dataframe\">\n",
              "  <thead>\n",
              "    <tr style=\"text-align: right;\">\n",
              "      <th></th>\n",
              "      <th>Name</th>\n",
              "      <th>Age</th>\n",
              "      <th>Weight</th>\n",
              "      <th>Salary</th>\n",
              "    </tr>\n",
              "  </thead>\n",
              "  <tbody>\n",
              "    <tr>\n",
              "      <th>3</th>\n",
              "      <td>VKole</td>\n",
              "      <td>31</td>\n",
              "      <td>70</td>\n",
              "      <td>8428000</td>\n",
              "    </tr>\n",
              "    <tr>\n",
              "      <th>6</th>\n",
              "      <td>Rooter</td>\n",
              "      <td>33</td>\n",
              "      <td>72</td>\n",
              "      <td>7028000</td>\n",
              "    </tr>\n",
              "  </tbody>\n",
              "</table>\n",
              "</div>"
            ],
            "text/plain": [
              "     Name  Age  Weight   Salary\n",
              "3   VKole   31      70  8428000\n",
              "6  Rooter   33      72  7028000"
            ]
          },
          "execution_count": 16,
          "metadata": {},
          "output_type": "execute_result"
        }
      ],
      "source": [
        "df.query(\"Salary >= 6528000 and Salary >= 2528000\")"
      ]
    },
    {
      "cell_type": "code",
      "execution_count": 17,
      "metadata": {},
      "outputs": [
        {
          "data": {
            "text/html": [
              "<div>\n",
              "<style scoped>\n",
              "    .dataframe tbody tr th:only-of-type {\n",
              "        vertical-align: middle;\n",
              "    }\n",
              "\n",
              "    .dataframe tbody tr th {\n",
              "        vertical-align: top;\n",
              "    }\n",
              "\n",
              "    .dataframe thead th {\n",
              "        text-align: right;\n",
              "    }\n",
              "</style>\n",
              "<table border=\"1\" class=\"dataframe\">\n",
              "  <thead>\n",
              "    <tr style=\"text-align: right;\">\n",
              "      <th></th>\n",
              "      <th>Name</th>\n",
              "      <th>Age</th>\n",
              "      <th>Weight</th>\n",
              "      <th>Salary</th>\n",
              "    </tr>\n",
              "  </thead>\n",
              "  <tbody>\n",
              "    <tr>\n",
              "      <th>1</th>\n",
              "      <td>James</td>\n",
              "      <td>36</td>\n",
              "      <td>75</td>\n",
              "      <td>5428000</td>\n",
              "    </tr>\n",
              "    <tr>\n",
              "      <th>2</th>\n",
              "      <td>Villers</td>\n",
              "      <td>38</td>\n",
              "      <td>74</td>\n",
              "      <td>3428000</td>\n",
              "    </tr>\n",
              "    <tr>\n",
              "      <th>4</th>\n",
              "      <td>Smith</td>\n",
              "      <td>34</td>\n",
              "      <td>80</td>\n",
              "      <td>4428000</td>\n",
              "    </tr>\n",
              "    <tr>\n",
              "      <th>5</th>\n",
              "      <td>Gayle</td>\n",
              "      <td>40</td>\n",
              "      <td>100</td>\n",
              "      <td>4528000</td>\n",
              "    </tr>\n",
              "    <tr>\n",
              "      <th>7</th>\n",
              "      <td>Peterson</td>\n",
              "      <td>42</td>\n",
              "      <td>85</td>\n",
              "      <td>2528000</td>\n",
              "    </tr>\n",
              "  </tbody>\n",
              "</table>\n",
              "</div>"
            ],
            "text/plain": [
              "       Name  Age  Weight   Salary\n",
              "1     James   36      75  5428000\n",
              "2   Villers   38      74  3428000\n",
              "4     Smith   34      80  4428000\n",
              "5     Gayle   40     100  4528000\n",
              "7  Peterson   42      85  2528000"
            ]
          },
          "execution_count": 17,
          "metadata": {},
          "output_type": "execute_result"
        }
      ],
      "source": [
        "df.query(\"Salary <= 6528000 and Salary >= 2528000\")"
      ]
    },
    {
      "cell_type": "markdown",
      "metadata": {
        "id": "rmb4rEgNFAr5"
      },
      "source": [
        "### **We can use the 'in' operator with query()**\n",
        "\n",
        "- The following example, we can consider if a categorical variable is in a list of items.\n",
        "\n",
        "\n"
      ]
    },
    {
      "cell_type": "code",
      "execution_count": null,
      "metadata": {
        "id": "ETIm1CpnCsKG"
      },
      "outputs": [
        {
          "name": "stdout",
          "output_type": "stream",
          "text": [
            "     Name  Age  Weight   Salary\n",
            "1   James   36      75  5428000\n",
            "4   Smith   34      80  4428000\n",
            "11  Smith   44      60  1428000\n"
          ]
        }
      ],
      "source": [
        "print(df.query(\"Name in ('James','Smith')\"))\n"
      ]
    },
    {
      "cell_type": "markdown",
      "metadata": {
        "id": "hGCv8n6uFp-B"
      },
      "source": [
        "### **We can use string methods with query()**\n",
        "\n",
        "For conditions requiring partial string matches, the string method (str.xxx()) can be used. Although exact matches can be achieved with == or in, string methods provide more flexibility.\n",
        "\n",
        "Pandas: Extract rows that contain specific strings from a DataFrame\n",
        "- Here are some useful methods:\n",
        "\n",
        "    - str.contains(): Checks if a specific string is contained.\n",
        "\n",
        "    - str.endswith(): Checks if a string ends with a specific string.\n",
        "\n",
        "    - str.startswith(): Checks if a string starts with a specific string.\n",
        "\n",
        "    - str.match(): Checks if a string matches a regular expression pattern.\n"
      ]
    },
    {
      "cell_type": "markdown",
      "metadata": {
        "id": "m08HFjZyHATI"
      },
      "source": [
        "let’s create a pandas DataFrame from Dictionary again."
      ]
    },
    {
      "cell_type": "code",
      "execution_count": 19,
      "metadata": {
        "id": "jAyPodesG-nf"
      },
      "outputs": [
        {
          "name": "stdout",
          "output_type": "stream",
          "text": [
            " ------data frame before slicing-----\n"
          ]
        },
        {
          "data": {
            "text/html": [
              "<div>\n",
              "<style scoped>\n",
              "    .dataframe tbody tr th:only-of-type {\n",
              "        vertical-align: middle;\n",
              "    }\n",
              "\n",
              "    .dataframe tbody tr th {\n",
              "        vertical-align: top;\n",
              "    }\n",
              "\n",
              "    .dataframe thead th {\n",
              "        text-align: right;\n",
              "    }\n",
              "</style>\n",
              "<table border=\"1\" class=\"dataframe\">\n",
              "  <thead>\n",
              "    <tr style=\"text-align: right;\">\n",
              "      <th></th>\n",
              "      <th>Name</th>\n",
              "      <th>Age</th>\n",
              "      <th>Weight</th>\n",
              "      <th>Salary</th>\n",
              "    </tr>\n",
              "  </thead>\n",
              "  <tbody>\n",
              "    <tr>\n",
              "      <th>1</th>\n",
              "      <td>James</td>\n",
              "      <td>36</td>\n",
              "      <td>75</td>\n",
              "      <td>5428000</td>\n",
              "    </tr>\n",
              "    <tr>\n",
              "      <th>2</th>\n",
              "      <td>Villers</td>\n",
              "      <td>38</td>\n",
              "      <td>74</td>\n",
              "      <td>3428000</td>\n",
              "    </tr>\n",
              "    <tr>\n",
              "      <th>3</th>\n",
              "      <td>VKole</td>\n",
              "      <td>31</td>\n",
              "      <td>70</td>\n",
              "      <td>8428000</td>\n",
              "    </tr>\n",
              "    <tr>\n",
              "      <th>4</th>\n",
              "      <td>Smith</td>\n",
              "      <td>34</td>\n",
              "      <td>80</td>\n",
              "      <td>4428000</td>\n",
              "    </tr>\n",
              "    <tr>\n",
              "      <th>5</th>\n",
              "      <td>Gayle</td>\n",
              "      <td>40</td>\n",
              "      <td>100</td>\n",
              "      <td>4528000</td>\n",
              "    </tr>\n",
              "    <tr>\n",
              "      <th>6</th>\n",
              "      <td>Rooter</td>\n",
              "      <td>33</td>\n",
              "      <td>72</td>\n",
              "      <td>7028000</td>\n",
              "    </tr>\n",
              "    <tr>\n",
              "      <th>7</th>\n",
              "      <td>Peterson</td>\n",
              "      <td>42</td>\n",
              "      <td>85</td>\n",
              "      <td>2528000</td>\n",
              "    </tr>\n",
              "    <tr>\n",
              "      <th>8</th>\n",
              "      <td>John</td>\n",
              "      <td>41</td>\n",
              "      <td>85</td>\n",
              "      <td>1528000</td>\n",
              "    </tr>\n",
              "    <tr>\n",
              "      <th>9</th>\n",
              "      <td>Rome</td>\n",
              "      <td>45</td>\n",
              "      <td>85</td>\n",
              "      <td>152890</td>\n",
              "    </tr>\n",
              "    <tr>\n",
              "      <th>10</th>\n",
              "      <td>Dave</td>\n",
              "      <td>55</td>\n",
              "      <td>85</td>\n",
              "      <td>152890</td>\n",
              "    </tr>\n",
              "    <tr>\n",
              "      <th>11</th>\n",
              "      <td>Smith</td>\n",
              "      <td>44</td>\n",
              "      <td>60</td>\n",
              "      <td>1428000</td>\n",
              "    </tr>\n",
              "  </tbody>\n",
              "</table>\n",
              "</div>"
            ],
            "text/plain": [
              "        Name  Age  Weight   Salary\n",
              "1      James   36      75  5428000\n",
              "2    Villers   38      74  3428000\n",
              "3      VKole   31      70  8428000\n",
              "4      Smith   34      80  4428000\n",
              "5      Gayle   40     100  4528000\n",
              "6     Rooter   33      72  7028000\n",
              "7   Peterson   42      85  2528000\n",
              "8       John   41      85  1528000\n",
              "9       Rome   45      85   152890\n",
              "10      Dave   55      85   152890\n",
              "11     Smith   44      60  1428000"
            ]
          },
          "execution_count": 19,
          "metadata": {},
          "output_type": "execute_result"
        }
      ],
      "source": [
        "# Initializing the nested list with Data set\n",
        "employee_list = [['James', 36, 75, 5428000],\n",
        "               ['Villers', 38, 74, 3428000],\n",
        "               ['VKole', 31, 70, 8428000],\n",
        "               ['Smith', 34, 80, 4428000],\n",
        "               ['Gayle', 40, 100, 4528000],\n",
        "               ['Rooter', 33, 72, 7028000],\n",
        "               ['Peterson', 42, 85, 2528000],\n",
        "               ['John', 41, 85, 1528000],\n",
        "               ['Rome', 45, 85, 152890],\n",
        "               ['Dave', 55, 85, 152890],\n",
        "                ['Smith', 44, 60, 1428000]\n",
        "\n",
        "]\n",
        "\n",
        "# creating a pandas dataframe\n",
        "idx = pd.RangeIndex(1,12)\n",
        "df = pd.DataFrame(employee_list, columns=['Name', 'Age', 'Weight', 'Salary'], index = idx)\n",
        "\n",
        "print(' ------data frame before slicing-----')\n",
        "df"
      ]
    },
    {
      "cell_type": "code",
      "execution_count": 20,
      "metadata": {
        "id": "gHy7IpBvGe5h"
      },
      "outputs": [
        {
          "name": "stdout",
          "output_type": "stream",
          "text": [
            "      Name  Age  Weight   Salary\n",
            "1    James   36      75  5428000\n",
            "2  Villers   38      74  3428000\n"
          ]
        }
      ],
      "source": [
        "print(df.query('Name.str.endswith(\"s\")'))"
      ]
    },
    {
      "cell_type": "code",
      "execution_count": 21,
      "metadata": {
        "id": "i160DfEhG3Eq"
      },
      "outputs": [
        {
          "name": "stdout",
          "output_type": "stream",
          "text": [
            "      Name  Age  Weight   Salary\n",
            "2  Villers   38      74  3428000\n",
            "3    VKole   31      70  8428000\n",
            "5    Gayle   40     100  4528000\n"
          ]
        }
      ],
      "source": [
        "print(df.query('Name.str.contains(\"le\")'))"
      ]
    },
    {
      "cell_type": "markdown",
      "metadata": {
        "id": "0qxU-DsAHtBe"
      },
      "source": [
        "### Non-string type columns can be converted to strings with **astype()**, allowing string methods to be applied. This conversion can also be executed within query()."
      ]
    },
    {
      "cell_type": "code",
      "execution_count": 22,
      "metadata": {
        "id": "QUprRAEzHyZ5"
      },
      "outputs": [
        {
          "name": "stdout",
          "output_type": "stream",
          "text": [
            "    Name  Age  Weight  Salary\n",
            "9   Rome   45      85  152890\n",
            "10  Dave   55      85  152890\n"
          ]
        }
      ],
      "source": [
        "print(df.query('Age.astype(\"str\").str.endswith(\"5\")'))"
      ]
    },
    {
      "cell_type": "code",
      "execution_count": 24,
      "metadata": {},
      "outputs": [
        {
          "name": "stdout",
          "output_type": "stream",
          "text": [
            "      Name  Age  Weight   Salary\n",
            "1    James   36      75  5428000\n",
            "2  Villers   38      74  3428000\n",
            "3    VKole   31      70  8428000\n",
            "4    Smith   34      80  4428000\n",
            "6   Rooter   33      72  7028000\n"
          ]
        }
      ],
      "source": [
        "print(df.query('Age.astype(\"str\").str.startswith(\"3\")'))"
      ]
    }
  ],
  "metadata": {
    "colab": {
      "provenance": []
    },
    "kernelspec": {
      "display_name": "Python 3",
      "name": "python3"
    },
    "language_info": {
      "codemirror_mode": {
        "name": "ipython",
        "version": 3
      },
      "file_extension": ".py",
      "mimetype": "text/x-python",
      "name": "python",
      "nbconvert_exporter": "python",
      "pygments_lexer": "ipython3",
      "version": "3.12.0"
    }
  },
  "nbformat": 4,
  "nbformat_minor": 0
}
