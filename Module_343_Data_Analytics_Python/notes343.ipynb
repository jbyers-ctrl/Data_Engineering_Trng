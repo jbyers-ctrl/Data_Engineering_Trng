{
 "cells": [
  {
   "cell_type": "markdown",
   "id": "6548b1c3",
   "metadata": {},
   "source": [
    "### 343.1 Intro to Data Analytics & Statistics\n",
    "#### Learning Objectives\n",
    "- Describe fundamental concepts in Data Analytics (DA) & statistics, including descriptive & inferential statistics\n",
    "- Explain what DA is & key steps in DA process\n",
    "    - DA Process:\n",
    "        - Identifying the question\n",
    "        - Collecting raw data\n",
    "        - Cleaning data\n",
    "        - Analyzing data\n",
    "        - Interpreting results\n",
    "- Define statistical methods to analyze data, including measures of central tendency, dispersion, & hypothesis testing\n",
    "- Summarize four steps of DA\n",
    "    - Descriptive analytics: tells what happened\n",
    "    - Diagnostic analytics: tells why something happened\n",
    "    - Predictive analytics: tells what will likely happen in the future\n",
    "    - Prescriptive analytics: tells how to act or make it happen\n",
    "- Explain how DA can be applied to drive business decisions & strategy\n",
    "    - Understand past performance & informs decision-making for future actions\n",
    "    - Validate course of action before committing to it, saving valuable time & resources\n",
    "    - Identify opportunities for growth, anticipate potential risks, & gain insights into customer behavior patterns\n",
    "- Explain Linear Regression\n",
    "- Recognize role of DEs & DAs\n",
    "    - Primary responsibility is to transform raw data into actionable insights\n",
    "        - identify goals\n",
    "        - prioritize needs\n",
    "        - shape strategies\n",
    "        - build databases & dashboards\n",
    "        - ensure data quality\n",
    "        - use best practices\n",
    "        - maintain relevant documentation\n",
    "    - DE - collaborate closely with other departments to extract meaningful info from data\n",
    "    - DA - identify specific problem to be solved or question that requires an answer\n",
    "    - Steps to obtain insights & solutions\n",
    "        - Define the question\n",
    "        - Collect the data\n",
    "        - Clean the data\n",
    "        - Analyze the data\n",
    "        - Create visualizations\n",
    "        - Share findings\n",
    "- Describe Statistical terms\n",
    "- Explain Statistical types & benefits\n",
    "    - Exploratory Data Analysis (EDA) - focuses on discovering new features in data\n",
    "    - Confirmatory Data Analysis (CDA) - focuses on confirming or falsifying existing hypotheses\n",
    "- Identify Data Wrangling concept (also known as data munging)\n",
    "    - an iterative four step process that involves data exploration (Discovery), transformation, validation, & making it available for credible & meaningful analysis (Publishing)\n",
    "- Define Linear Relationships\n",
    "- Discuss Correlation concept"
   ]
  },
  {
   "cell_type": "markdown",
   "id": "586c6ea4",
   "metadata": {},
   "source": [
    "- DA is the process of gathering, systematically examining, cleansing, transforming, analyzing, mining, & interpreting data to discover meaningful patterns, insights, & trends\n",
    "    - Analysis - detailed examination of elements or structure of something (inferences based on historical data)\n",
    "    - Analytics - the systematic computational anlaysis of data or statistics (predicting future performance)\n",
    "- Major approaches:\n",
    "    - Data Mining - the analysis of large quantities of data to extract previously unknown, interesting patterns of data, unusual data, & it's dependencies\n",
    "    - BI\n",
    "    - Statistical Analysis\n",
    "    - Predictive Analytics\n",
    "    - Text Analytics\n",
    "    "
   ]
  },
  {
   "cell_type": "markdown",
   "id": "ac9312af",
   "metadata": {},
   "source": [
    "### Summary\n",
    "- DA is a process of obtaining large, unstructured data from various sources, and converting that data into info that is useful for:\n",
    "    - Answering questions\n",
    "    - Testing hypotheses\n",
    "    - Making decisions\n",
    "    - Disproving theories\n",
    "- There are four primary types of DA:\n",
    "    - Descriptive Analytics, which helps decode \"what happened\"\n",
    "    - Diagnostic Analytics, which helps us understand \"why it happened\"\n",
    "    - Predictive Analytics, which analyzes historical data & trends to suggest \"what will happen next\"\n",
    "    - Prescriptive Analytics, which prescribes \"what should be done next\""
   ]
  },
  {
   "cell_type": "markdown",
   "id": "ba879bf4",
   "metadata": {},
   "source": [
    "***\n",
    "### Intro to Statistics Analysis & Basic Statistics for DA"
   ]
  }
 ],
 "metadata": {
  "kernelspec": {
   "display_name": "default",
   "language": "python",
   "name": "python3"
  },
  "language_info": {
   "name": "python",
   "version": "3.10.12"
  }
 },
 "nbformat": 4,
 "nbformat_minor": 5
}
