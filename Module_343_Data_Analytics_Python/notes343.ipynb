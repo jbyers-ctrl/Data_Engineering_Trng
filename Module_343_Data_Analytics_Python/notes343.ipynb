{
 "cells": [
  {
   "cell_type": "markdown",
   "id": "6548b1c3",
   "metadata": {},
   "source": [
    "### 343.1 Intro to Data Analytics & Statistics\n",
    "#### Learning Objectives\n",
    "- Describe fundamental concepts in Data Analytics (DA) & statistics, including descriptive & inferential statistics\n",
    "- Explain what DA is & key steps in DA process\n",
    "    - DA Process:\n",
    "        - Identifying the question\n",
    "        - Collecting raw data\n",
    "        - Cleaning data\n",
    "        - Analyzing data\n",
    "        - Interpreting results\n",
    "- Define statistical methods to analyze data, including measures of central tendency, dispersion, & hypothesis testing\n",
    "- Summarize four steps of DA\n",
    "    - Descriptive analytics: tells what happened\n",
    "    - Diagnostic analytics: tells why something happened\n",
    "    - Predictive analytics: tells what will likely happen in the future\n",
    "    - Prescriptive analytics: tells how to act or make it happen\n",
    "- Explain how DA can be applied to drive business decisions & strategy\n",
    "    - Understand past performance & informs decision-making for future actions\n",
    "    - Validate course of action before committing to it, saving valuable time & resources\n",
    "    - Identify opportunities for growth, anticipate potential risks, & gain insights into customer behavior patterns\n",
    "- Explain Linear Regression\n",
    "- Recognize role of DEs & DAs\n",
    "    - Primary responsibility is to transform raw data into actionable insights\n",
    "        - identify goals\n",
    "        - prioritize needs\n",
    "        - shape strategies\n",
    "        - build databases & dashboards\n",
    "        - ensure data quality\n",
    "        - use best practices\n",
    "        - maintain relevant documentation\n",
    "    - DE - collaborate closely with other departments to extract meaningful info from data\n",
    "    - DA - identify specific problem to be solved or question that requires an answer\n",
    "    - Steps to obtain insights & solutions\n",
    "        - Define the question\n",
    "        - Collect the data\n",
    "        - Clean the data\n",
    "        - Analyze the data\n",
    "        - Create visualizations\n",
    "        - Share findings\n",
    "- Describe Statistical terms\n",
    "- Explain Statistical types & benefits\n",
    "    - Exploratory Data Analysis (EDA) - focuses on discovering new features in data\n",
    "    - Confirmatory Data Analysis (CDA) - focuses on confirming or falsifying existing hypotheses\n",
    "- Identify Data Wrangling concept (also known as data munging)\n",
    "    - an iterative four step process that involves data exploration (Discovery), transformation, validation, & making it available for credible & meaningful analysis (Publishing)\n",
    "- Define Linear Relationships\n",
    "- Discuss Correlation concept"
   ]
  },
  {
   "cell_type": "markdown",
   "id": "586c6ea4",
   "metadata": {},
   "source": [
    "- DA is the process of gathering, systematically examining, cleansing, transforming, analyzing, mining, & interpreting data to discover meaningful patterns, insights, & trends\n",
    "    - Analysis - detailed examination of elements or structure of something (inferences based on historical data)\n",
    "    - Analytics - the systematic computational anlaysis of data or statistics (predicting future performance)\n",
    "- Major approaches:\n",
    "    - Data Mining - the analysis of large quantities of data to extract previously unknown, interesting patterns of data, unusual data, & it's dependencies\n",
    "    - BI\n",
    "    - Statistical Analysis\n",
    "    - Predictive Analytics\n",
    "    - Text Analytics\n",
    "    "
   ]
  },
  {
   "cell_type": "markdown",
   "id": "ac9312af",
   "metadata": {},
   "source": [
    "### Summary\n",
    "- DA is a process of obtaining large, unstructured data from various sources, and converting that data into info that is useful for:\n",
    "    - Answering questions\n",
    "    - Testing hypotheses\n",
    "    - Making decisions\n",
    "    - Disproving theories\n",
    "- There are four primary types of DA:\n",
    "    - Descriptive Analytics, which helps decode \"what happened\"\n",
    "    - Diagnostic Analytics, which helps us understand \"why it happened\"\n",
    "    - Predictive Analytics, which analyzes historical data & trends to suggest \"what will happen next\"\n",
    "    - Prescriptive Analytics, which prescribes \"what should be done next\""
   ]
  },
  {
   "cell_type": "markdown",
   "id": "ba879bf4",
   "metadata": {},
   "source": [
    "***\n",
    "### Intro to Statistics Analysis & Basic Statistics for DA\n",
    "- Statistics - a branch of mathematics that deals with the collection, analysis, interpretation, and presentation of numerical or quantitative data\n",
    "    - Examples include:\n",
    "        - Calculations - average income, average age, highest-paid professions\n",
    "        - Clinical Trials - analyze data from production of vaccines to ensure safety & efficacy\n",
    "        - Economic & Finance - analyze market trends, consumer behavior, & preferences, enabling businesses to make informed decisions\n",
    "        - Climate Studies - anaylyze climate data, model environmental changes, & assess impact of human activities on environment\n",
    "        - Machine Learning & Artificial Intelligence - statistical methods form the foundation of many machine learning algorithms used in data analysis, pattern recognition, & predictive modeling\n",
    "    - Why learn / benefits of statistics\n",
    "        - ensure data is interpreted correctly, apparent relationships are really significant or meaningful\n",
    "        - assist in gaining insight into business operations\n",
    "        - data preprocessing & feature engineering\n",
    "        - visualizing numbers to understand patterns & trends existing in quatitative data\n",
    "        - serve as a base for several ML algorithms such as logistic regression\n",
    "    - Statistical Analysis is the application of statistical methods to a sample of data in order to develop an understanding of what it represents\n",
    "        - Sample: a representative selection drawn from a total population\n",
    "        - Population: a discrete group (people or things) that can be identified by at least one common characteristic for purposes of data collection & analysis\n",
    "            - Example: population may be all people in a state that have a drivers license; and a sample of this population that is a part or a subset of the population could be men drivers over the age of 50\n",
    "    - Types:\n",
    "        - Descriptive - summarizing info about the sample / describes the characteristics of data\n",
    "            - Example: Population, Frequency of variable\n",
    "        - Inferential - making inferences or generalizations about the broader population / studies the sample of the same data\n",
    "            - Example: Grade, Percentile"
   ]
  },
  {
   "cell_type": "markdown",
   "id": "41230c58",
   "metadata": {},
   "source": [
    "### Summary\n",
    "- Statistical Analysis\n",
    "    - Statistics is the study of collection, analysis, interpretation, presentation, & organization of data\n",
    "    - In data analysis, two main statistical methodologies are used:\n",
    "        - Descriptive Statistics - data from the entire population or a sample is summarized with numerical descriptors such as:\n",
    "            - Mean, Standard Deviation for Continuous Data\n",
    "            - Frequency, Percentage for Categorical Data\n",
    "        - Inferential Statistics - uses patterns in the sample data to draw inferences about the represented population or accounting for randomness\n",
    "            - answering yes/no questions about the data (hypothesis testing)\n",
    "            - estimating numerical characteristics of the data (estimation)\n",
    "            - describing associations within the data (correlation)\n",
    "            - modeling relationships with the data (regression analysis)\n",
    "    - Statistics, combined with Data Mining help in better decision-making\n",
    "        - Providing measures & methodologies necessary for data mining\n",
    "        - Identifying patterns that help identify differences between random noise & significant findings\n",
    "    - Inferential Statistics is a powerful tool for making predictions or inferences about populations based on sample data\n",
    "        - Regression is the statistical method used to determine the strength & the relation between the independent & dependent variables\n",
    "            - Multiple Linear Regression is an extension of Simple Linear Regression, where multiple independent variables are used to predict the dependent variable"
   ]
  },
  {
   "cell_type": "markdown",
   "id": "3cf1c805",
   "metadata": {},
   "source": [
    "***\n",
    "## 343.2 - Numpy\n",
    "- Ways to Create NumPy Array / created or initialized using various functions:\n",
    "    - np.array() - takes a sequence (list, tuple, range) as its argument\n",
    "    - np.zeros()\n",
    "    - np.ones()\n",
    "    - np.arange() - returns an ndarray, args(start, stop, step, dtype)\n",
    "    - np.linespace()\n",
    "    - np.eye()\n",
    "    - np.random()"
   ]
  },
  {
   "cell_type": "code",
   "execution_count": 1,
   "id": "f8c71753",
   "metadata": {},
   "outputs": [],
   "source": [
    "import numpy as np"
   ]
  },
  {
   "cell_type": "code",
   "execution_count": null,
   "id": "55cbedba",
   "metadata": {},
   "outputs": [
    {
     "name": "stdout",
     "output_type": "stream",
     "text": [
      "[1 2 3 4 5]\n",
      "<built-in function array>\n"
     ]
    }
   ],
   "source": [
    "# Creating a one-dimensional array w/ 5 elements\n",
    "a = np.array([1, 2, 3, 4, 5])\n",
    "print(a)\n",
    "print(np.array) # output: <built-in function array>"
   ]
  },
  {
   "cell_type": "markdown",
   "id": "54e75f16",
   "metadata": {},
   "source": [
    "### Using arange()"
   ]
  },
  {
   "cell_type": "code",
   "execution_count": 7,
   "id": "8acac48f",
   "metadata": {},
   "outputs": [
    {
     "name": "stdout",
     "output_type": "stream",
     "text": [
      "[ 1  2  3  4  5  6  7  8  9 10 11 12 13 14 15 16 17 18 19 20 21 22 23 24\n",
      " 25 26 27 28 29]\n",
      "[10 12 14 16 18]\n",
      "[-3  1  5  9]\n",
      "[-3.  1.  5.  9.]\n"
     ]
    }
   ],
   "source": [
    "my_array = np.arange(1, 30)\n",
    "print(my_array)\n",
    "\n",
    "# Parameters: start at 10, stop at 18, step by 2\n",
    "x = np.arange(10, 20, 2)\n",
    "print(x)\n",
    "\n",
    "y = np.arange(-3, 10, 4, dtype=int)\n",
    "y2 = np.arange(-3, 10, 4, dtype=float)\n",
    "print(y)\n",
    "print(y2)"
   ]
  },
  {
   "cell_type": "markdown",
   "id": "16886a60",
   "metadata": {},
   "source": [
    "### Array Attributes\n",
    "- ndim - number of dimensions of the array\n",
    "- shape - shape of array, tuple of integers indicating size of array in each dimension\n",
    "- size - total number of elements of array\n",
    "- dtype - object describing the type of elements in array: int32, int16, float64, etc"
   ]
  },
  {
   "cell_type": "code",
   "execution_count": 9,
   "id": "e78199bb",
   "metadata": {},
   "outputs": [
    {
     "name": "stdout",
     "output_type": "stream",
     "text": [
      "1\n",
      "(5,)\n",
      "5\n",
      "int64\n"
     ]
    }
   ],
   "source": [
    "print(a.ndim)\n",
    "print(a.shape)\n",
    "print(a.size)\n",
    "print(a.dtype)"
   ]
  },
  {
   "cell_type": "markdown",
   "id": "6424b94b",
   "metadata": {},
   "source": [
    "### dtype - Data Type Objects\n",
    "- Refers to an object that specifies the type of data stored in an array. Defines how data is stored in memory\n",
    "- It describes the following aspects of data:\n",
    "    - Type of data (integer, float, Python object, etc)\n",
    "    - Size of data (number of bytes)\n",
    "    - Byte order of data (little-endian or big-endian)\n",
    "    - If data type is sub-array, what is its shape & data type?"
   ]
  },
  {
   "cell_type": "code",
   "execution_count": null,
   "id": "77db8a3b",
   "metadata": {},
   "outputs": [],
   "source": [
    "# Creates data type object for integer with 8 bits of precision\n",
    "# dtype = np.dtype(np.int8)"
   ]
  },
  {
   "cell_type": "markdown",
   "id": "e3eee831",
   "metadata": {},
   "source": [
    "### Common Data Types\n",
    "- int: Integer types (int8, int16, int32, int64)\n",
    "- uint: Unsigned integer (uint8, uint16, uint32, uint64)\n",
    "- float: Floating-point types (float16, float32, float64)\n",
    "- complex: Complex types (complex64, complex128)\n",
    "- bool: Boolean type (bool)\n",
    "- object: Object type (generic Python object)"
   ]
  },
  {
   "cell_type": "code",
   "execution_count": 10,
   "id": "34fc9c25",
   "metadata": {},
   "outputs": [
    {
     "name": "stdout",
     "output_type": "stream",
     "text": [
      "int32\n",
      "float64\n",
      "complex128\n"
     ]
    }
   ],
   "source": [
    "# Creating array with different data types\n",
    "arr_int32 = np.array([1, 2, 3], dtype=np.int32)\n",
    "arr_float64 = np.array([1.0, 2.0, 3.0], dtype=np.float64)\n",
    "arr_complex = np.array([1 + 2j, 3 + 4j], dtype=np.complex128)\n",
    "\n",
    "# Checking dtype attribute\n",
    "print(arr_int32.dtype)\n",
    "print(arr_float64.dtype)\n",
    "print(arr_complex.dtype)"
   ]
  },
  {
   "cell_type": "markdown",
   "id": "ef6891bf",
   "metadata": {},
   "source": [
    "### Multi-dimensional Array\n",
    "- by passing a nested list or tuple as argument"
   ]
  },
  {
   "cell_type": "code",
   "execution_count": 22,
   "id": "e126b2cd",
   "metadata": {},
   "outputs": [
    {
     "name": "stdout",
     "output_type": "stream",
     "text": [
      "6\n",
      "[[1 2 3]\n",
      " [4 5 6]]\n",
      "3 rows & 2 cols:\n",
      " [[1 2]\n",
      " [3 4]\n",
      " [5 6]]\n"
     ]
    }
   ],
   "source": [
    "# Creating a 2-dimensional array with 2 rows and 3 columns\n",
    "md_array = np.array([[1, 2, 3], [4, 5, 6]])\n",
    "print(md_array[1, 2])\n",
    "print(md_array[:])\n",
    "\n",
    "# Creating a 2-dimensional array with 3 rows and 2 columns\n",
    "md_array2 = np.array([[1, 2], [3, 4], [5, 6]])\n",
    "print(f\"3 rows & 2 cols:\\n {md_array2}\")"
   ]
  },
  {
   "cell_type": "markdown",
   "id": "49c427c7",
   "metadata": {},
   "source": [
    "### Random Numbers\n",
    "- Useful for generating random data for visualization\n",
    "- Have to import random from numpy\n",
    "- Most commonly used functions:\n",
    "    - `np.random.rand()`: Generates random #s uniformly distributed between 0 and 1\n",
    "    - `np.random.randn()`: Generates random #s from a standard normal distribution with mean 0 and standard deviation 1\n",
    "    - `np.random.randint()`: Generates random integers between specified range\n",
    "    - `np.random.choice()`: Generates random samples from a given sequence\n",
    "    - `np.random.shuffle()`: Shuffles a sequence in place"
   ]
  },
  {
   "cell_type": "markdown",
   "id": "05abd5eb",
   "metadata": {},
   "source": [
    "### Most Common Numpy Operations:\n",
    "- Indexing and slicing\n",
    "- Arithmetic operations\n",
    "- Aggregate functions\n",
    "- Broadcasting\n",
    "- Reshaping and Transposing\n",
    "- Linear Algebra operations\n",
    "- Boolean operations\n",
    "- Sorting\n",
    "- Masking"
   ]
  },
  {
   "cell_type": "code",
   "execution_count": 28,
   "id": "1e519b24",
   "metadata": {},
   "outputs": [
    {
     "name": "stdout",
     "output_type": "stream",
     "text": [
      "[1 6 8 9 5]\n",
      "8\n",
      "[6 8 9]\n",
      "[1 6 7 9 5]\n",
      "[1 6 8 9 5]\n",
      "[1 2 3 4 5]\n"
     ]
    }
   ],
   "source": [
    "# Indexing: Access a specific element in array\n",
    "print(a) # output: [1 2 3 4 5]\n",
    "# Return element at index 2\n",
    "element = a[2]\n",
    "print(element)\n",
    "\n",
    "# Slicing: Access a range of elements in array\n",
    "a_alice = a[1:4]\n",
    "print(a_alice)\n",
    "\n",
    "# Modifying elements using indexing\n",
    "a[2] = 7\n",
    "print(a) # output: [1 2 7 4 5]\n",
    "\n",
    "# Modifying elements using slicing\n",
    "a[1:4] = np.array([6, 8, 9])\n",
    "print(a) # output: [1 6 8 9 5]\n",
    "\n",
    "# Modify back to original [1 2 3 4 5]\n",
    "a[1:4] = np.array([2, 3, 4])\n",
    "print(a)"
   ]
  },
  {
   "cell_type": "markdown",
   "id": "2504ba6e",
   "metadata": {},
   "source": [
    "### Arithmetic Operations\n",
    "- Element-wise arithmetic operations with scalar values (1 and 2)"
   ]
  },
  {
   "cell_type": "code",
   "execution_count": 29,
   "id": "c8fbbccd",
   "metadata": {},
   "outputs": [
    {
     "name": "stdout",
     "output_type": "stream",
     "text": [
      "[2 3 4 5 6]\n",
      "[ 2  4  6  8 10]\n",
      "[0.5 1.  1.5 2.  2.5]\n"
     ]
    }
   ],
   "source": [
    "# Element-wise sum with scalar 1\n",
    "sum_a = a + 1\n",
    "\n",
    "# Element-wise product with scalar 2\n",
    "prod_a = a * 2\n",
    "\n",
    "# Element-wise division with scalar 1\n",
    "div_a = a / 2\n",
    "\n",
    "print(sum_a)\n",
    "print(prod_a)\n",
    "print(div_a)"
   ]
  },
  {
   "cell_type": "code",
   "execution_count": 30,
   "id": "9d1ac147",
   "metadata": {},
   "outputs": [
    {
     "name": "stdout",
     "output_type": "stream",
     "text": [
      "15,3.0,1,5\n"
     ]
    }
   ],
   "source": [
    "# Sum of all elements\n",
    "a_sum = np.sum(a)\n",
    "\n",
    "# Mean of all elements\n",
    "a_mean = np.mean(a)\n",
    "\n",
    "# Min value\n",
    "a_min = np.min(a)\n",
    "\n",
    "# Max value\n",
    "a_max = np.max(a)\n",
    "\n",
    "print(a_sum, a_mean, a_min, a_max, sep=',')"
   ]
  },
  {
   "cell_type": "markdown",
   "id": "5c12fb5d",
   "metadata": {},
   "source": [
    "### Broadcasting\n",
    "- Multiply each element in array by 2, doubling values in array"
   ]
  },
  {
   "cell_type": "code",
   "execution_count": 31,
   "id": "5efcd903",
   "metadata": {},
   "outputs": [
    {
     "name": "stdout",
     "output_type": "stream",
     "text": [
      "[[ 2  4  6]\n",
      " [ 8 10 12]]\n"
     ]
    }
   ],
   "source": [
    "# Create 2D array\n",
    "two_d_array = np.array([[1, 2, 3], [4, 5, 6]])\n",
    "\n",
    "# Multiply array by scalar value\n",
    "result = two_d_array * 2\n",
    "print(result)"
   ]
  },
  {
   "cell_type": "markdown",
   "id": "9dddfdd1",
   "metadata": {},
   "source": [
    "### Reshaping and Transposing\n",
    "- T attribute to transpose matrix, swapping rows & columns\n",
    "- Use reshape function to reshape transposed matrix"
   ]
  },
  {
   "cell_type": "code",
   "execution_count": 34,
   "id": "978b3d53",
   "metadata": {},
   "outputs": [
    {
     "name": "stdout",
     "output_type": "stream",
     "text": [
      "[[1 2 3]\n",
      " [4 5 6]]\n",
      "Original Matrix: \n",
      " [[1 2 3]\n",
      " [4 5 6]]\n",
      "Transposed Matrix: \n",
      " [[1 4]\n",
      " [2 5]\n",
      " [3 6]]\n",
      "Reshaped Matrix: \n",
      " [[1 4]\n",
      " [2 5]\n",
      " [3 6]]\n"
     ]
    }
   ],
   "source": [
    "print(two_d_array) # output: [[1 2 3],[4 5 6]]\n",
    "# Transpose matrix using .T attribute\n",
    "transposed_matrix = two_d_array.T\n",
    "\n",
    "# Reshape transposed matrix into 3x2 matrix\n",
    "reshaped_matrix = transposed_matrix.reshape(3, 2)\n",
    "\n",
    "print(\"Original Matrix: \\n\", two_d_array)\n",
    "print(\"Transposed Matrix: \\n\", transposed_matrix)\n",
    "print(\"Reshaped Matrix: \\n\", reshaped_matrix)"
   ]
  },
  {
   "cell_type": "markdown",
   "id": "6ba46eee",
   "metadata": {},
   "source": [
    "### Linear Algebra Operations\n",
    "- Common operations:\n",
    "    - Vector (one dimension) Addition\n",
    "    - Matrix (two dimension) Addition\n",
    "    - Vector (one dimension) Dot Product\n",
    "    - Matrix (two dimension) Multiplication\n",
    "    - Transpose of a Matrix"
   ]
  },
  {
   "cell_type": "code",
   "execution_count": 39,
   "id": "b901a9fb",
   "metadata": {},
   "outputs": [
    {
     "name": "stdout",
     "output_type": "stream",
     "text": [
      "[5 7 9]\n",
      "[[ 6  8]\n",
      " [10 12]]\n",
      "Dot function:\n",
      " 32\n",
      "Matrix Dot Product:\n",
      " [[19 22]\n",
      " [43 50]]\n",
      "Transpose Matrix:\n",
      " [[1 3]\n",
      " [2 4]]\n"
     ]
    }
   ],
   "source": [
    "# Vector addition\n",
    "c = np.array([1, 2, 3])\n",
    "d = np.array([4, 5, 6])\n",
    "e = c + d\n",
    "print(e)\n",
    "\n",
    "# Matrix addition\n",
    "C = np.array([[1, 2], [3, 4]])\n",
    "D = np.array([[5, 6], [7, 8]])\n",
    "E = C + D\n",
    "print(E)\n",
    "\n",
    "# Vector Dot Product - np.dot() function: sum of the products of corresponding elements\n",
    "e_dot = np.dot(c, d)\n",
    "print(\"Dot function:\\n\", e_dot)\n",
    "\n",
    "# Matrix Multiplication - multiply corresponding elemens of two matrices and summing the results\n",
    "E_dot = np.dot(C, D)\n",
    "print(\"Matrix Dot Product:\\n\", E_dot)\n",
    "\n",
    "# Transpose Matrix - swapping its rows and columns\n",
    "E_transpose = np.transpose(C)\n",
    "print(\"Transpose Matrix:\\n\", E_transpose)\n"
   ]
  },
  {
   "cell_type": "markdown",
   "id": "4e4d4dad",
   "metadata": {},
   "source": [
    "### Boolean Operations\n",
    "- Element-Wise comparison\n",
    "- Logical AND\n",
    "- Logical OR\n",
    "- Logical NOT\n",
    "- Array-Wise comparison"
   ]
  },
  {
   "cell_type": "code",
   "execution_count": 46,
   "id": "663b8d12",
   "metadata": {},
   "outputs": [
    {
     "name": "stdout",
     "output_type": "stream",
     "text": [
      "[False  True  True False  True]\n",
      "[ True False False False]\n",
      "[ True  True  True False]\n",
      "[False  True False  True]\n",
      "False\n"
     ]
    }
   ],
   "source": [
    "# Compare each element of one array with the corresponding element of other array using == operator\n",
    "cw = np.array([1, 2, 3, 4, 5])\n",
    "dw = np.array([2, 2, 3, 3, 5])\n",
    "ew = cw == dw\n",
    "print(ew)\n",
    "\n",
    "# Logical AND\n",
    "a_logical = np.array([True, True, False, False])\n",
    "b_logical = np.array([True, False, True, False])\n",
    "c_logical = np.logical_and(a_logical, b_logical)\n",
    "print(c_logical)\n",
    "\n",
    "# Logical OR\n",
    "d_logical = np.logical_or(a_logical, b_logical)\n",
    "print(d_logical)\n",
    "\n",
    "# Logical NOT\n",
    "not_log = np.logical_not(b_logical)\n",
    "print(not_log)\n",
    "\n",
    "# Array-Wise - check if two arrays are element-wise equal\n",
    "aw = np.array_equal(cw, dw)\n",
    "print(aw)\n"
   ]
  },
  {
   "cell_type": "markdown",
   "id": "9dc032fa",
   "metadata": {},
   "source": [
    "### Sorting"
   ]
  },
  {
   "cell_type": "code",
   "execution_count": 47,
   "id": "4c748c58",
   "metadata": {},
   "outputs": [
    {
     "name": "stdout",
     "output_type": "stream",
     "text": [
      "[1 1 2 3 3 4 5 5 6 9]\n"
     ]
    }
   ],
   "source": [
    "a_sort = np.array([3, 1, 4, 1, 5, 9, 2, 6, 5, 3])\n",
    "b_sort = np.sort(a_sort)\n",
    "print(b_sort)"
   ]
  },
  {
   "cell_type": "markdown",
   "id": "f20ed06d",
   "metadata": {},
   "source": [
    "### Masking\n",
    "- Boolean mask compares each element in the array with a condition. The result is a boolean array with True values, where the condition is satisfied and False values, where it is not. Use mask to select only elements where the mask is True, and store in a new variable"
   ]
  },
  {
   "cell_type": "code",
   "execution_count": null,
   "id": "5c82a413",
   "metadata": {},
   "outputs": [
    {
     "name": "stdout",
     "output_type": "stream",
     "text": [
      "[4 5 9 6 5]\n"
     ]
    }
   ],
   "source": [
    "mask = a_sort > 3 # a_sort = [3, 1, 4, 1, 5, 9, 2, 6, 5, 3]\n",
    "b_mask = a_sort[mask]\n",
    "print(b_mask)"
   ]
  },
  {
   "cell_type": "markdown",
   "id": "9f5d63d4",
   "metadata": {},
   "source": [
    "### Searching and Counting\n",
    "- Check if a value is present in an array\n",
    "- argmin() and argmax() - find index of min and max values in array"
   ]
  },
  {
   "cell_type": "code",
   "execution_count": null,
   "id": "39c931a5",
   "metadata": {},
   "outputs": [
    {
     "name": "stdout",
     "output_type": "stream",
     "text": [
      "Is 3 in the array?\n",
      "True\n",
      "The index of the min value:\n",
      " 1\n",
      "The index of the max value:\n",
      " 5\n"
     ]
    }
   ],
   "source": [
    "# Searching\n",
    "search_arr = np.array([33, 2, 3, 56, 58, 96, 4, 6, 9])\n",
    "x = 3\n",
    "print(\"Is 3 in the array?\")\n",
    "print(3 in search_arr)\n",
    "print(\"The index of the min value:\\n\", np.argmin(search_arr))\n",
    "print(\"The index of the max value:\\n\", np.argmax(search_arr))"
   ]
  },
  {
   "cell_type": "code",
   "execution_count": 54,
   "id": "92b0cf04",
   "metadata": {},
   "outputs": [
    {
     "name": "stdout",
     "output_type": "stream",
     "text": [
      "1D Array:\n",
      " [0 5 0 8 0 3 7 0]\n",
      "Number of non-zero elements:\n",
      " 4\n",
      "2D Array:\n",
      "[[0 2 0 4]\n",
      " [5 0 0 8]\n",
      " [0 0 3 0]]\n",
      "Number of non-zero elements:\n",
      " 5\n",
      "Unique elements in 1D:\n",
      " [0 3 5 7 8]\n",
      "Unique elements in 2D:\n",
      " [0 2 3 4 5 8]\n"
     ]
    }
   ],
   "source": [
    "# Count non-zero elements in 1D array\n",
    "arr_1d = np.array([0, 5, 0, 8, 0, 3, 7, 0])\n",
    "nonzero_count_1d = np.count_nonzero(arr_1d)\n",
    "\n",
    "print(\"1D Array:\\n\", arr_1d)\n",
    "print(\"Number of non-zero elements:\\n\", nonzero_count_1d)\n",
    "\n",
    "# Count non-zero elements in 2D array\n",
    "arr_2d = np.array([[0, 2, 0, 4], [5, 0, 0, 8], [0, 0, 3, 0]])\n",
    "nonzero_count_2d = np.count_nonzero(arr_2d)\n",
    "print(\"2D Array:\")\n",
    "print(arr_2d)\n",
    "print(\"Number of non-zero elements:\\n\", nonzero_count_2d)\n",
    "\n",
    "# Unique Element or Value in 1D array\n",
    "unique_elements_1d = np.unique(arr_1d)\n",
    "print(\"Unique elements in 1D:\\n\", unique_elements_1d)\n",
    "\n",
    "# Unique Element or Value in 2D array\n",
    "unique_elements_2d = np.unique(arr_2d)\n",
    "print(\"Unique elements in 2D:\\n\", unique_elements_2d)\n"
   ]
  },
  {
   "cell_type": "markdown",
   "id": "dfaf399d",
   "metadata": {},
   "source": [
    "### Manipulation Functions\n",
    "- Helps peform changes in array elements\n",
    "- reshap() - change dimensions of array without hampering array values\n",
    "- concatenate() - joins two arrays of same shapes either row-wise or column-wise"
   ]
  },
  {
   "cell_type": "code",
   "execution_count": 55,
   "id": "09d8ac9a",
   "metadata": {},
   "outputs": [
    {
     "name": "stdout",
     "output_type": "stream",
     "text": [
      "Elements of an array1:\n",
      " [0 1 2 3]\n",
      "Elements of an array2:\n",
      " [4 5 6 7]\n",
      "Reshaped array with 2x2 dimensions:\n",
      " [[0 1]\n",
      " [2 3]]\n",
      "Reshaped array with 2x2 dimensions res2:\n",
      " [[4 5]\n",
      " [6 7]]\n",
      "Concatenation two arrays:\n",
      "\n",
      "[0 1 2 3 4 5 6 7]\n"
     ]
    }
   ],
   "source": [
    "arr1 = np.arange(4)\n",
    "print(\"Elements of an array1:\\n\", arr1)\n",
    "arr2 = np.arange(4, 8)\n",
    "print(\"Elements of an array2:\\n\", arr2)\n",
    "res1 = arr1.reshape(2, 2)\n",
    "print(\"Reshaped array with 2x2 dimensions:\\n\", res1)\n",
    "res2 = arr2.reshape(2, 2)\n",
    "print(\"Reshaped array with 2x2 dimensions res2:\\n\", res2)\n",
    "print(\"Concatenation two arrays:\\n\")\n",
    "concat = np.concatenate((arr1, arr2), axis=0)\n",
    "print(concat)"
   ]
  }
 ],
 "metadata": {
  "kernelspec": {
   "display_name": "default",
   "language": "python",
   "name": "python3"
  },
  "language_info": {
   "codemirror_mode": {
    "name": "ipython",
    "version": 3
   },
   "file_extension": ".py",
   "mimetype": "text/x-python",
   "name": "python",
   "nbconvert_exporter": "python",
   "pygments_lexer": "ipython3",
   "version": "3.10.12"
  }
 },
 "nbformat": 4,
 "nbformat_minor": 5
}
