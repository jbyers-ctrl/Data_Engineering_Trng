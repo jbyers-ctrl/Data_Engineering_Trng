{
 "cells": [
  {
   "cell_type": "markdown",
   "id": "c51e8886",
   "metadata": {},
   "source": [
    "# **Guided Lab - 343.2.1 - NumPy Random module - Random Number Generation**"
   ]
  },
  {
   "cell_type": "code",
   "execution_count": null,
   "id": "cadb1e49",
   "metadata": {},
   "outputs": [
    {
     "name": "stdout",
     "output_type": "stream",
     "text": [
      "Mean Temperature: 27.138709677419353\n",
      "Median Temperature: 26.7\n",
      "Standard Deviation: 3.221668313492935\n",
      "Fahrenheit temp:\n",
      " [72.14 73.58 76.1  78.44 74.48 80.06 82.22 84.56 86.9  76.46 74.12 71.78\n",
      " 77.54 79.52 83.66 85.64 88.16 90.32 87.26 85.1  82.04 79.88 75.02 72.5\n",
      " 75.38 78.26 81.14 85.28 87.8  91.58 89.42]\n",
      "List of hot days above 30 C:\n",
      " [30.5 31.2 32.4 30.7 31.  33.1 31.9]\n",
      "Number of Hot Days: 7\n",
      "Cooling Degree Days: 221.3\n"
     ]
    }
   ],
   "source": [
    "# Suppose you have a year's worth of daily temperature data in Celsius\n",
    "temperature_data = np.array([22.3, 23.1, 24.5, 25.8, 23.6, 26.7, 27.9, 29.2, 30.5, 24.7, 23.4, 22.1, 25.3, 26.4, 28.7, 29.8, 31.2, 32.4, 30.7, 29.5, 27.8, 26.6, 23.9, 22.5, 24.1, 25.7, 27.3, 29.6, 31.0, 33.1, 31.9])\n",
    "\n",
    "\n",
    "# Calculate the mean, median, and standard deviation\n",
    "mean_temperature = np.mean(temperature_data)\n",
    "median_temperature = np.median(temperature_data)\n",
    "std_deviation_temperature = np.std(temperature_data)\n",
    "\n",
    "\n",
    "print(\"Mean Temperature:\", mean_temperature)\n",
    "print(\"Median Temperature:\", median_temperature)\n",
    "print(\"Standard Deviation:\", std_deviation_temperature)\n",
    "\n",
    "\n",
    "# Convert temperatures to Fahrenheit\n",
    "temperature_data_fahrenheit = (temperature_data * 9/5) + 32\n",
    "print(\"Fahrenheit temp:\\n\", temperature_data_fahrenheit)\n",
    "\n",
    "\n",
    "# Find days with temperatures above a certain threshold (e.g., 30°C)\n",
    "hot_days = temperature_data[temperature_data > 30]\n",
    "print(\"List of hot days above 30 C:\\n\", hot_days)\n",
    "\n",
    "\n",
    "# Count the number of hot days\n",
    "num_hot_days = len(hot_days)\n",
    "print(\"Number of Hot Days:\", num_hot_days)\n",
    "\n",
    "\n",
    "# Calculate the total cooling degree days for the year\n",
    "# Cooling degree days represent the cumulative amount of cooling required to maintain a comfortable indoor temperature.\n",
    "# In this example, we'll consider a base temperature of 20°C.\n",
    "base_temperature = 20\n",
    "cooling_degree_days = np.sum(np.maximum(temperature_data - base_temperature, 0))\n",
    "\n",
    "\n",
    "print(\"Cooling Degree Days:\", cooling_degree_days)"
   ]
  },
  {
   "cell_type": "markdown",
   "id": "7f4570e3",
   "metadata": {},
   "source": [
    "## **Lab Overview:**\n",
    "\n",
    "In this lab, we will explore the functionality of several important random number generation functions provided by the NumPy library in Python. These functions include `np.random.choice()` for generating random samples from `arrays`, `np.random.shuffle() for shuffling the contents of arrays, and `np.random.randn()` for generating random numbers from a standard normal distribution. Through hands-on exercises, participants will gain a understanding of how to use these functions effectively in various scenarios.\n",
    "\n",
    "## **Lab Objective:**\n",
    "\n",
    "By the end of this lab, participants will:\n",
    "\n",
    "- Describe the purpose and the usage of key random number generation functions provided by NumPy, including np.random.choice(), np.random.shuffle(), and np.random.randn().\n",
    "- Demonstrate how to generate random samples from arrays, shuffle array contents, and generate random numbers from a standard normal distribution.\n"
   ]
  },
  {
   "cell_type": "markdown",
   "id": "4685e502",
   "metadata": {},
   "source": [
    "## **Introduction**\n",
    "The syntax of `np.random.randn()` typically involves passing the desired dimensions of the array as arguments. For example:\n",
    "\n",
    "```np.random.randn() - generates a single random number```\n",
    "\n",
    "```np.random.randn(n) - generates an array of n random numbers.```\n",
    "\n",
    "``` np.random.randn(m, n) - generates a 2D array with m rows and n columns of random numbers.```\n",
    "\n",
    "Note: These random numbers are will be drawn from a standard normal distribution, where the mean is 0 and the standard deviation is 1.\n",
    "\n",
    "\n",
    "\n",
    "\n"
   ]
  },
  {
   "cell_type": "markdown",
   "id": "cacddba9",
   "metadata": {},
   "source": [
    "## **Example 1: Generates a single random number.**\n",
    "\n",
    "in this example we will generate a single random number by using the random() function. The random() function returns a random number within the range of 0 to 1.0."
   ]
  },
  {
   "cell_type": "code",
   "execution_count": null,
   "id": "e86813b5",
   "metadata": {},
   "outputs": [
    {
     "name": "stdout",
     "output_type": "stream",
     "text": [
      "Random number sampled from a standard normal distribution: [0.10108953 0.24906625 0.79648364 0.58939269 0.99779708 0.57535609\n",
      " 0.58763224 0.29679178 0.42867092 0.92937507]\n",
      "\n",
      "Random number sampled from a standard normal distribution:\n",
      " [1 2 0 0 3 1 2] 42\n",
      "Random number sampled from a standard normal distribution:\n",
      " [[1 1 2 1]\n",
      " [0 4 0 0]\n",
      " [4 1 0 2]]\n"
     ]
    }
   ],
   "source": [
    "import numpy as np\n",
    "from numpy import random\n",
    "\n",
    "# 10 random floats between 0 and 1\n",
    "data = random.rand(10) \n",
    "print(\"Random number sampled from a standard normal distribution:\",data)\n",
    "print()\n",
    "\n",
    "# 7 random integers between 0 and 5, returns one integer without arguments, size specifies the shape of an array\n",
    "data2 = random.randint(5, size=(7)) \n",
    "print(\"Random number sampled from a standard normal distribution:\\n\",data2, 42)\n",
    "\n",
    "data3 = random.randint(5, size=(3, 4)) \n",
    "print(\"Random number sampled from a standard normal distribution:\\n\",data3)"
   ]
  },
  {
   "cell_type": "markdown",
   "id": "58759e4a",
   "metadata": {},
   "source": [
    "## **Example 2: Generates an array of n random numbers.**\n",
    "In this example, we generate an array of n random numbers by using the `np.random.randn(n)` function. The function returns an array of n random numbers with mean 0 and standard deviation 1.\n"
   ]
  },
  {
   "cell_type": "code",
   "execution_count": null,
   "id": "8fb126b4",
   "metadata": {},
   "outputs": [
    {
     "name": "stdout",
     "output_type": "stream",
     "text": [
      "Array of 5 random numbers sampled from a standard normal distribution:\n",
      "[ 1.74597212 -0.04976857 -0.81894081 -0.71959882  0.36540445]\n"
     ]
    }
   ],
   "source": [
    "n = 5\n",
    "random_numbers = random.randn(n)\n",
    "print(\"Array of\", n, \"random numbers sampled from a standard normal distribution:\")\n",
    "print(random_numbers)\n"
   ]
  },
  {
   "cell_type": "markdown",
   "id": "378e4f7c",
   "metadata": {},
   "source": [
    "## **Example 3: Generates a 2D array with m rows and n columns of random numbers.**\n",
    "\n",
    "In this example, we will generate a 2D array with 3 rows and 4 columns of random numbers. The result will be a 3x4 2D array with random numbers ranging from 0 to 99.    "
   ]
  },
  {
   "cell_type": "code",
   "execution_count": null,
   "id": "34fc754e",
   "metadata": {},
   "outputs": [
    {
     "name": "stdout",
     "output_type": "stream",
     "text": [
      "2D array of random numbers sampled from a standard normal distribution ( 3 rows x 2 columns):\n",
      "[[-0.76477598  0.19917108]\n",
      " [-0.99037421  0.98610926]\n",
      " [ 0.25248891  0.12892551]]\n",
      "2D array of random numbers sampled from a standard normal distribution ( 4 rows x 2 columns):\n",
      " [[0.29538017 0.86670919]\n",
      " [0.21590136 0.02381745]\n",
      " [0.58687493 1.24131465]\n",
      " [0.06618132 0.78091248]]\n"
     ]
    }
   ],
   "source": [
    "m = 3\n",
    "n = 2\n",
    "random_numbers_2d = random.randn(m, n)\n",
    "print(\"2D array of random numbers sampled from a standard normal distribution (\", m, \"rows x\", n, \"columns):\")\n",
    "print(random_numbers_2d)\n",
    "\n",
    "m1 = 4\n",
    "n1 = 2\n",
    "random_numbers2_2d = random.randn(m1, n1)\n",
    "print(\"2D array of random numbers sampled from a standard normal distribution (\", m1, \"rows x\", n1, \"columns):\\n\", random_numbers2_2d)"
   ]
  },
  {
   "cell_type": "markdown",
   "id": "28d57903",
   "metadata": {},
   "source": [
    "## **Example 4: Generates a random sample from a given 1-D array.**\n",
    "In this example, we will generate a random sample from a given 1-D array. We will use the numpy.random.choice() function to do this."
   ]
  },
  {
   "cell_type": "code",
   "execution_count": null,
   "id": "d4d8872e",
   "metadata": {},
   "outputs": [
    {
     "name": "stdout",
     "output_type": "stream",
     "text": [
      "Randomly sampled element: c\n",
      "Randomly sampled element: ['b' 'b' 'b' 'b' 'd' 'd' 'd' 'd' 'd' 'd']\n"
     ]
    }
   ],
   "source": [
    "from numpy import random\n",
    "\n",
    "# Define an array of elements\n",
    "elements = ['a', 'b', 'c', 'd', 'e']\n",
    "\n",
    "# Generate a random sample from the array\n",
    "random_sample = random.choice(elements)\n",
    "print(\"Randomly sampled element:\", random_sample)\n",
    "\n",
    "# The probability is set by a number between 0 and 1, where 0 means that the value will never occur and 1 means that the value will always occur.\n",
    "# The probability of 'b' and 'd' are .5 and .4, use size to specify the array shape\n",
    "random_sample_2 = random.choice(elements, p=[0.0, 0.5, 0.0, 0.4, 0.1], size=(10))\n",
    "print(\"Randomly sampled element:\", random_sample_2)\n"
   ]
  },
  {
   "cell_type": "markdown",
   "id": "4de64e15",
   "metadata": {},
   "source": [
    "## **Example 5: Shuffles the contents of an array in place.**\n",
    "In this example, we will shuffle the contents of an array. We will use the np.random.shuffle() function."
   ]
  },
  {
   "cell_type": "code",
   "execution_count": null,
   "id": "dd668ca7",
   "metadata": {},
   "outputs": [
    {
     "name": "stdout",
     "output_type": "stream",
     "text": [
      "Shuffled array: ['e', 'c', 'a', 'd', 'b']\n"
     ]
    }
   ],
   "source": [
    "# Define an array of elements\n",
    "elements = ['a', 'b', 'c', 'd', 'e']\n",
    "\n",
    "# Shuffle the array in place\n",
    "random.shuffle(elements)\n",
    "print(\"Shuffled array:\", elements)\n"
   ]
  },
  {
   "cell_type": "markdown",
   "id": "2f28c9cc",
   "metadata": {},
   "source": [
    "## **Example 6: Real world example -Restauran**t Menu Randomizer\n",
    "\n",
    "Suppose you're designing a digital menu for a restaurant, and you want to create a feature that suggests a random dish to the user when they're undecided about what to order. You can use the random module to implement this feature."
   ]
  },
  {
   "cell_type": "code",
   "execution_count": null,
   "id": "0abc8b5b",
   "metadata": {},
   "outputs": [
    {
     "name": "stdout",
     "output_type": "stream",
     "text": [
      "Welcome to the Restaurant Menu Randomizer!\n",
      "\n",
      "If you're undecided about what to order, let us help you decide.\n",
      "\n"
     ]
    },
    {
     "name": "stdout",
     "output_type": "stream",
     "text": [
      "Randomly suggested dish: Sushi Platter \n",
      "\n",
      "Randomly suggested dish: Pad Thai \n",
      "\n",
      "Randomly suggested dish: Grilled Salmon \n",
      "\n",
      "Randomly suggested dish: Margherita Pizza \n",
      "\n",
      "\n",
      "Thank you for using the Restaurant Menu Randomizer. Enjoy your meal!\n"
     ]
    }
   ],
   "source": [
    "# Define a list of dishes on the menu\n",
    "menu = [\n",
    "    \"Spaghetti Carbonara\",\n",
    "    \"Chicken Alfredo\",\n",
    "    \"Margherita Pizza\",\n",
    "    \"Cheeseburger\",\n",
    "    \"Caesar Salad\",\n",
    "    \"Fish and Chips\",\n",
    "    \"Pad Thai\",\n",
    "    \"Sushi Platter\",\n",
    "    \"Vegetable Stir-Fry\",\n",
    "    \"Grilled Salmon\"\n",
    "]\n",
    "\n",
    "# Function to suggest a random dish\n",
    "def suggest_dish():\n",
    "    random_dish = random.choice(menu)\n",
    "    return random_dish\n",
    "\n",
    "# Main program\n",
    "print(\"Welcome to the Restaurant Menu Randomizer!\\n\")\n",
    "print(\"If you're undecided about what to order, let us help you decide.\\n\")\n",
    "\n",
    "while True:\n",
    "    user_input = input(\"Press enter to get a random dish suggestion (or type 'quit' to exit): \\n\")\n",
    "\n",
    "    if user_input.lower() == 'quit':\n",
    "        print(\"Thank you for using the Restaurant Menu Randomizer. Enjoy your meal!\")\n",
    "        break\n",
    "\n",
    "    suggested_dish = suggest_dish()\n",
    "    print(\"Randomly suggested dish:\", suggested_dish, \"\\n\")\n"
   ]
  },
  {
   "cell_type": "markdown",
   "id": "7c410688",
   "metadata": {},
   "source": [
    "***"
   ]
  },
  {
   "cell_type": "markdown",
   "id": "3bb1135f",
   "metadata": {},
   "source": [
    "# **Guided Lab - 343.2.2 - NumPy and Mathematical Calculation**"
   ]
  },
  {
   "cell_type": "markdown",
   "id": "ac0b3ffc",
   "metadata": {},
   "source": [
    "## **Objectives**\n",
    "By the end of this lab, Learners will be able to:\n",
    "- Describe the basics of NumPy.\n",
    "- Manipulate data using NumPy arrays.\n",
    "- Perform element-wise mathematical operations on arrays.\n",
    "- Use NumPy functions for statistical and mathematical calculations.\n",
    "- Slice and index NumPy arrays for data extraction.\n",
    "- Apply common data science tasks using NumPy.\n",
    "\n",
    "## **Introduction**\n",
    "NumPy (Numerical Python) is a fundamental library for numerical computing in Python. It provides support for multidimensional arrays, mathematical functions, and a wide range of operations on arrays. In this guided lab, you will dive into the world of NumPy and learn how to efficiently manipulate arrays, perform mathematical operations, and solve common data science tasks using this powerful library."
   ]
  },
  {
   "cell_type": "markdown",
   "id": "435cd28a",
   "metadata": {},
   "source": [
    "## **Instructions**\n",
    "\n",
    "**Example 1: Import NumPy**\n",
    "\n",
    "Open a Python environment (e.g., Jupyter Notebook).\n",
    "Import the NumPy library using **`import numpy as np.`**"
   ]
  },
  {
   "cell_type": "code",
   "execution_count": null,
   "id": "0f8042e1",
   "metadata": {},
   "outputs": [],
   "source": [
    "import numpy as np"
   ]
  },
  {
   "cell_type": "markdown",
   "id": "193a3562",
   "metadata": {},
   "source": [
    "**Example 2: Creating NumPy Arrays**\n",
    "\n",
    "\n",
    "*   Create a 1D NumPy array from a Python list.\n",
    "*   Create a 2D NumPy array from a nested Python list.\n",
    "* Explore the attributes of NumPy arrays such as shape, size, and data type.\n",
    "\n",
    "\n",
    "\n",
    "\n"
   ]
  },
  {
   "cell_type": "code",
   "execution_count": null,
   "id": "b177e986",
   "metadata": {},
   "outputs": [
    {
     "name": "stdout",
     "output_type": "stream",
     "text": [
      "1D NumPy Array:\n",
      "Array: [1 2 3 4 5]\n",
      "Shape: (5,)\n",
      "Size: 5\n",
      "Data Type: int64\n",
      "\n",
      "2D NumPy Array:\n",
      "Array:\n",
      "[[1 2 3]\n",
      " [4 5 6]\n",
      " [7 8 9]]\n",
      "Shape: (3, 3)\n",
      "Size: 9\n",
      "Data Type: int64\n"
     ]
    }
   ],
   "source": [
    "# Create a 1D NumPy array from a Python list\n",
    "python_list_1d = [1, 2, 3, 4, 5]\n",
    "numpy_array_1d = np.array(python_list_1d)\n",
    "\n",
    "# Create a 2D NumPy array from a nested Python list\n",
    "python_list_2d = [[1, 2, 3], [4, 5, 6], [7, 8, 9]]\n",
    "numpy_array_2d = np.array(python_list_2d)\n",
    "\n",
    "# Explore the attributes of NumPy arrays\n",
    "shape_1d = numpy_array_1d.shape\n",
    "shape_2d = numpy_array_2d.shape\n",
    "\n",
    "size_1d = numpy_array_1d.size\n",
    "size_2d = numpy_array_2d.size\n",
    "\n",
    "data_type_1d = numpy_array_1d.dtype\n",
    "data_type_2d = numpy_array_2d.dtype\n",
    "\n",
    "print(\"1D NumPy Array:\")\n",
    "print(\"Array:\", numpy_array_1d)\n",
    "print(\"Shape:\", shape_1d)\n",
    "print(\"Size:\", size_1d)\n",
    "print(\"Data Type:\", data_type_1d)\n",
    "\n",
    "print(\"\\n2D NumPy Array:\")\n",
    "print(\"Array:\")\n",
    "print(numpy_array_2d)\n",
    "print(\"Shape:\", shape_2d)\n",
    "print(\"Size:\", size_2d)\n",
    "print(\"Data Type:\", data_type_2d)\n"
   ]
  },
  {
   "cell_type": "markdown",
   "id": "e030a31e",
   "metadata": {},
   "source": [
    "**Example 3: Statistical and Mathematical Functions**\n",
    "- Perform element-wise addition, subtraction, multiplication, and division on arrays.\n",
    "- Apply basic mathematical functions (e.g., np.sin(), np.exp()) to arrays.\n"
   ]
  },
  {
   "cell_type": "code",
   "execution_count": null,
   "id": "b49016d9",
   "metadata": {},
   "outputs": [
    {
     "name": "stdout",
     "output_type": "stream",
     "text": [
      "\n",
      "Element-wise Operations on 1D Array:\n",
      "Original Array: [1 2 3 4 5]\n",
      "Addition Result: [11 12 13 14 15]\n",
      "Subtraction Result: [-1  0  1  2  3]\n",
      "Multiplication Result: [ 3  6  9 12 15]\n",
      "Division Result: [0.5 1.  1.5 2.  2.5]\n",
      "\n",
      "Mathematical Functions Applied to 1D Array:\n",
      "Original Array: [1 2 3 4 5]\n",
      "sin Result: [ 0.84147098  0.90929743  0.14112001 -0.7568025  -0.95892427]\n",
      "exp Result: [  2.71828183   7.3890561   20.08553692  54.59815003 148.4131591 ]\n"
     ]
    }
   ],
   "source": [
    "# Perform element-wise operations on arrays\n",
    "addition_result = numpy_array_1d + 10  # Adds 10 to each element/value in the array\n",
    "subtraction_result = numpy_array_1d - 2  # Subtracts 2 from each element/value in the array\n",
    "multiplication_result = numpy_array_1d * 3  # Multiplies each element/value in the array by 3\n",
    "division_result = numpy_array_1d / 2  # Divides each element/value in the array by 2\n",
    "\n",
    "print(\"\\nElement-wise Operations on 1D Array:\")\n",
    "print(\"Original Array:\", numpy_array_1d)\n",
    "print(\"Addition Result:\", addition_result)\n",
    "print(\"Subtraction Result:\", subtraction_result)\n",
    "print(\"Multiplication Result:\", multiplication_result)\n",
    "print(\"Division Result:\", division_result)\n",
    "\n",
    "# Apply basic mathematical functions to arrays\n",
    "sin_result = np.sin(numpy_array_1d)  # The sine is one of the fundamental functions of trigonometry (the mathematical study of triangles)\n",
    "exp_result = np.exp(numpy_array_1d)  # Calculate the exponential of all elements in the input array\n",
    "\n",
    "print(\"\\nMathematical Functions Applied to 1D Array:\")\n",
    "print(\"Original Array:\", numpy_array_1d)\n",
    "print(\"sin Result:\", sin_result)\n",
    "print(\"exp Result:\", exp_result)"
   ]
  },
  {
   "cell_type": "markdown",
   "id": "ade4495a",
   "metadata": {},
   "source": [
    "**Example 4: Statistical and Mathematical Functions**\n",
    "- Calculate the mean, median, and standard deviation of an array.\n",
    "- Find the minimum and maximum values in an array."
   ]
  },
  {
   "cell_type": "code",
   "execution_count": null,
   "id": "176a6a8c",
   "metadata": {},
   "outputs": [
    {
     "name": "stdout",
     "output_type": "stream",
     "text": [
      "\n",
      "Mathematical Functions Applied to 1D Array:\n",
      "Original Array: [1 2 3 4 5]\n",
      "sin Result: [ 0.84147098  0.90929743  0.14112001 -0.7568025  -0.95892427]\n",
      "exp Result: [  2.71828183   7.3890561   20.08553692  54.59815003 148.4131591 ]\n",
      "\n",
      "Statistics on 1D Array:\n",
      "Mean: 3.0\n",
      "Median: 3.0\n",
      "Standard Deviation: 1.4142135623730951\n",
      "Minimum Value: 1\n",
      "Maximum Value: 5\n"
     ]
    }
   ],
   "source": [
    "# Apply basic mathematical functions to arrays\n",
    "sin_result = np.sin(numpy_array_1d)\n",
    "exp_result = np.exp(numpy_array_1d)\n",
    "\n",
    "print(\"\\nMathematical Functions Applied to 1D Array:\")\n",
    "print(\"Original Array:\", numpy_array_1d)\n",
    "print(\"sin Result:\", sin_result)\n",
    "print(\"exp Result:\", exp_result)\n",
    "\n",
    "# Calculate statistics on the 1D array\n",
    "mean_value = np.mean(numpy_array_1d)\n",
    "median_value = np.median(numpy_array_1d)\n",
    "std_deviation = np.std(numpy_array_1d)\n",
    "min_value = np.min(numpy_array_1d)\n",
    "max_value = np.max(numpy_array_1d)\n",
    "\n",
    "print(\"\\nStatistics on 1D Array:\")\n",
    "print(\"Mean:\", mean_value)\n",
    "print(\"Median:\", median_value)\n",
    "print(\"Standard Deviation:\", std_deviation)\n",
    "print(\"Minimum Value:\", min_value)\n",
    "print(\"Maximum Value:\", max_value)"
   ]
  },
  {
   "cell_type": "markdown",
   "id": "e6bc1d9e",
   "metadata": {},
   "source": [
    "**Example 5: Slicing and Indexing**\n",
    "- Slice arrays to extract specific elements or sub-arrays.\n",
    "- Use boolean indexing to filter elements based on conditions.\n",
    "- Combine slicing and indexing techniques to manipulate arrays effectively.\n"
   ]
  },
  {
   "cell_type": "code",
   "execution_count": null,
   "id": "2f1c9c1f",
   "metadata": {},
   "outputs": [
    {
     "name": "stdout",
     "output_type": "stream",
     "text": [
      "\n",
      "Sliced Array:\n",
      "[2 3 4]\n",
      "\n",
      "Boolean Indexing:\n",
      "Original Array: [1 2 3 4 5]\n",
      "Index Condition: [False False False  True  True]\n",
      "Filtered Elements: [4 5]\n",
      "\n",
      "Combined Slicing and Indexing:\n",
      "Original Array: [1 2 3 4 5]\n",
      "Filtered Elements: [4]\n"
     ]
    }
   ],
   "source": [
    "# Slicing and Indexing\n",
    "sliced_array = numpy_array_1d[1:4]  # Slice elements from index 1 to 3\n",
    "index_condition = numpy_array_1d > 3  # Create a boolean index condition\n",
    "\n",
    "print(\"\\nSliced Array:\")\n",
    "print(sliced_array)\n",
    "\n",
    "print(\"\\nBoolean Indexing:\")\n",
    "print(\"Original Array:\", numpy_array_1d)\n",
    "print(\"Index Condition:\", index_condition)\n",
    "print(\"Filtered Elements:\", numpy_array_1d[index_condition])\n",
    "\n",
    "# Combining Slicing and Indexing\n",
    "combined_result = numpy_array_1d[1:4][numpy_array_1d[1:4] > 3]\n",
    "\n",
    "print(\"\\nCombined Slicing and Indexing:\")\n",
    "print(\"Original Array:\", numpy_array_1d)\n",
    "print(\"Filtered Elements:\", combined_result)\n"
   ]
  },
  {
   "cell_type": "markdown",
   "id": "5b8c5de4",
   "metadata": {},
   "source": [
    "**Example 6:  Real-world example of using NumPy**\n",
    "\n",
    "Let's consider a real-world example of using NumPy for data manipulation in the context of analyzing temperature data from a weather station.\n",
    "\n",
    "You have a dataset with daily temperature records for a year, and you want to perform various operations and calculations on this data.\n",
    "\n",
    "In the following example, we will use NumPy to:\n",
    "- Calculate the mean, median, and standard deviation of the daily temperature data.\n",
    "\n",
    "- Convert the temperatures from Celsius to Fahrenheit.\n",
    "- Identify hot days with temperatures above 30°C.\n",
    "- Count the number of hot days.\n",
    "- Calculate cooling degree days, a measure of cooling requirements based on a specified base temperature.\n",
    "\n",
    "These operations demonstrate how NumPy can simplify data manipulation and analysis, making it a powerful tool for working with real-world data in various scientific and engineering fields, including meteorology and climate science.\n"
   ]
  },
  {
   "cell_type": "markdown",
   "id": "dab4be9e",
   "metadata": {},
   "source": [
    "***"
   ]
  },
  {
   "cell_type": "markdown",
   "id": "ecfb87c0",
   "metadata": {},
   "source": [
    "# PA 343.2.1 NumPy\n",
    "## Task 1: Data Type Objects\n",
    "1. Create a NumPy array using np.array() function and specify the data type as 'int32.' Print the array and its data type.\n",
    "1. Create another NumPy array using np.array() with the data type as 'float64.' Print the array and its data type."
   ]
  },
  {
   "cell_type": "code",
   "execution_count": null,
   "id": "5308a4cd",
   "metadata": {},
   "outputs": [],
   "source": [
    "import numpy as np"
   ]
  },
  {
   "cell_type": "code",
   "execution_count": null,
   "id": "f5e9b3bc",
   "metadata": {},
   "outputs": [
    {
     "name": "stdout",
     "output_type": "stream",
     "text": [
      "[1 2 3 4 5 6 7]\n",
      "int32\n"
     ]
    }
   ],
   "source": [
    "arr = np.array([1, 2, 3, 4, 5, 6, 7], dtype='int32')\n",
    "print(arr)\n",
    "print(arr.dtype)"
   ]
  },
  {
   "cell_type": "markdown",
   "id": "41b07e3f",
   "metadata": {},
   "source": [
    "## Task 2: One-Dimensional and Multi-Dimensional Arrays\n",
    "1. Create a one-dimensional NumPy array containing the integers from 1 to 5. Print the array.\n",
    "1. Create a two-dimensional NumPy array (matrix) with the following values:"
   ]
  },
  {
   "cell_type": "code",
   "execution_count": null,
   "id": "230c9e68",
   "metadata": {},
   "outputs": [
    {
     "name": "stdout",
     "output_type": "stream",
     "text": [
      "[1 2 3 4 5]\n",
      "[[ 6  7  8  9]\n",
      " [10 11 12 13]]\n"
     ]
    }
   ],
   "source": [
    "arr_1d = np.array([1, 2, 3, 4, 5])\n",
    "print(arr_1d)\n",
    "\n",
    "arr_2d = np.array([[6, 7, 8, 9], [10, 11, 12, 13]])\n",
    "print(arr_2d)"
   ]
  },
  {
   "cell_type": "markdown",
   "id": "f66cc7fd",
   "metadata": {},
   "source": [
    "## Task 3: NumPy Operations\n",
    "1. Create two NumPy arrays arr1 and arr2 with any values of your choice. Perform element-wise addition, subtraction, multiplication, and division between these arrays and print the results.\n",
    "1. Calculate the dot product between arr1 and arr2. Print the result.\n",
    "1. Use NumPy to calculate the mean, median, and standard deviation of arr1."
   ]
  },
  {
   "cell_type": "code",
   "execution_count": null,
   "id": "29966cae",
   "metadata": {},
   "outputs": [
    {
     "name": "stdout",
     "output_type": "stream",
     "text": [
      "Addition: \n",
      " [ 4  6  8 10] \n",
      "Subtraction:\n",
      " [1 3 5 7] \n",
      "Multiplication:\n",
      " [20 40 60 80] \n",
      "Division:\n",
      " [1. 2. 3. 4.]\n",
      "\n",
      "Dot product:\n",
      " 280\n",
      "\n",
      "Mean:\n",
      " 5.0 \n",
      "Median:\n",
      " 5.0 \n",
      "Standard Deviation:\n",
      " 2.23606797749979\n",
      "\n",
      "Addition: \n",
      " [12 14 16 18] \n",
      "Subtraction:\n",
      " [ 9 11 13 15] \n",
      "Multiplication:\n",
      " [100 120 140 160] \n",
      "Division:\n",
      " [5. 6. 7. 8.]\n",
      "\n",
      "Dot product:\n",
      " 280\n",
      "\n",
      "Mean:\n",
      " 13.0 \n",
      "Median:\n",
      " 13.0 \n",
      "Standard Deviation:\n",
      " 2.23606797749979\n"
     ]
    }
   ],
   "source": [
    "arr1 = np.array([2, 4, 6, 8])\n",
    "arr2 = np.array([10, 12, 14, 16])\n",
    "\n",
    "add_arr1 = arr1 + 2\n",
    "sub_arr1 = arr1 - 1\n",
    "mult_arr1 = arr1 * 10\n",
    "div_arr1 = arr1 / 2\n",
    "dot_arr1 = np.dot(arr1, arr2)\n",
    "mean_arr1 = np.mean(arr1)\n",
    "median_arr1 = np.median(arr1)\n",
    "std_arr1 = np.std(arr1)\n",
    "\n",
    "print(\"Addition: \\n\", add_arr1, \"\\nSubtraction:\\n\", sub_arr1, \"\\nMultiplication:\\n\", mult_arr1, \"\\nDivision:\\n\", div_arr1)\n",
    "print(\"\\nDot product:\\n\", dot_arr1)\n",
    "print(\"\\nMean:\\n\", mean_arr1, \"\\nMedian:\\n\", median_arr1, \"\\nStandard Deviation:\\n\", std_arr1)\n",
    "\n",
    "add_arr2 = arr2 + 2\n",
    "sub_arr2 = arr2 - 1\n",
    "mult_arr2 = arr2 * 10\n",
    "div_arr2 = arr2 / 2\n",
    "dot_arr2 = np.dot(arr1, arr2)\n",
    "mean_arr2 = np.mean(arr2)\n",
    "median_arr2 = np.median(arr2)\n",
    "std_arr2 = np.std(arr2)\n",
    "\n",
    "print(\"\\nAddition: \\n\", add_arr2, \"\\nSubtraction:\\n\", sub_arr2, \"\\nMultiplication:\\n\", mult_arr2, \"\\nDivision:\\n\", div_arr2)\n",
    "print(\"\\nDot product:\\n\", dot_arr2)\n",
    "print(\"\\nMean:\\n\", mean_arr2, \"\\nMedian:\\n\", median_arr2, \"\\nStandard Deviation:\\n\", std_arr2)"
   ]
  },
  {
   "cell_type": "markdown",
   "id": "7b3358b0",
   "metadata": {},
   "source": [
    "***"
   ]
  },
  {
   "cell_type": "markdown",
   "id": "346c25ab",
   "metadata": {},
   "source": [
    "# **Guided Lab - 343.3.1 - Panda Series**\n",
    "\n",
    "\n",
    "\n",
    "**Lab Objective and Overview:**\n",
    "\n",
    "- In this lab, we will demonstrate the Panda Series data structure. The lab guides you through creating and manipulating Series using various methods. The Series is a fundamental component in data analysis with Pandas, offering a one-dimensional labeled array capable of holding various data types.\n",
    "\n",
    "- Each example provides a clear demonstration of a specific concept.\n",
    "\n",
    "**Key Topics**\n",
    "\n",
    "- **Series Creation:** Learn how to create Series using dictionaries, scalar values, and NumPy arrays.\n",
    "\n",
    "- **Indexing:** Understand how to select specific elements in a Series using labels.\n",
    "\n",
    "- **Handling Missing Data:** Work with NaN (Not a Number) values that represent missing data.\n",
    "\n",
    "**Learning Objective:**\n",
    "\n",
    "By the end of this lab, you will be able to:\n",
    "- Describe the concept of a Pandas Series.\n",
    "- Create a Series from a dictionary, scalar value, and ndarray.\n",
    "- Access and manipulate elements within a Series.\n",
    " - Utilize the Panda Series data structure.\n",
    "\n",
    "**Introduction:**\n",
    "\n",
    "Series is a one-dimensional labeled array capable of holding any data type (integers, strings, floating point numbers, Python objects, etc.). The axis labels are collectively referred to as the index. The basic method to create a Series is to call:\n",
    "\n",
    "### **`newSeries = pd.Series (data,index)`**\n",
    "\n",
    "Here, data can be many different things:\n",
    "\n",
    "- a Python dict.\n",
    "\n",
    "- an ndarray.\n",
    "- a scalar value (like 5).\n",
    "\n",
    "The passed index is a list of axis labels. Thus, this separates into a few cases depending on what data is:\n",
    "\n",
    "---\n",
    "## **Begin:**\n"
   ]
  },
  {
   "cell_type": "markdown",
   "id": "108fca5f",
   "metadata": {},
   "source": [
    "## **Example 1: Creating Panda Series from Dictionary**\n",
    "\n",
    "Series can be instantiated from dicts:\n",
    "\n",
    "### **Example: 1.1**\n",
    "\n",
    "\n"
   ]
  },
  {
   "cell_type": "code",
   "execution_count": null,
   "id": "8f8f41fa",
   "metadata": {},
   "outputs": [],
   "source": [
    "import pandas as pd"
   ]
  },
  {
   "cell_type": "code",
   "execution_count": null,
   "id": "96ed2ea6",
   "metadata": {},
   "outputs": [
    {
     "name": "stdout",
     "output_type": "stream",
     "text": [
      "b      1\n",
      "a      0\n",
      "c      2\n",
      "d    100\n",
      "dtype: int64\n",
      "\n",
      "a    0\n",
      "c    2\n",
      "dtype: int64\n"
     ]
    }
   ],
   "source": [
    "# Keys of the dictionary become the labels\n",
    "d = {\"b\": 1, \"a\": 0, \"c\": 2, \"d\":100}\n",
    "print(pd.Series(d))\n",
    "print()\n",
    "# Use index to select specific items in the dictionary\n",
    "e = pd.Series(d, index = ['a', 'c'])\n",
    "print(e)"
   ]
  },
  {
   "cell_type": "markdown",
   "id": "f82d7051",
   "metadata": {},
   "source": [
    "### **Example: 1.2**\n",
    "\n",
    "\n"
   ]
  },
  {
   "cell_type": "code",
   "execution_count": null,
   "id": "db84a38a",
   "metadata": {},
   "outputs": [
    {
     "data": {
      "text/plain": [
       "a    0.0\n",
       "b    1.0\n",
       "c    2.0\n",
       "dtype: float64"
      ]
     },
     "metadata": {},
     "output_type": "display_data"
    }
   ],
   "source": [
    "d = {\"a\": 0.0, \"b\": 1.0, \"c\": 2.0}\n",
    "pd.Series(d)"
   ]
  },
  {
   "cell_type": "markdown",
   "id": "cd0dea07",
   "metadata": {},
   "source": [
    "### **Example: 1.3**\n",
    "\n",
    "If an index is passed, the values in data corresponding to the labels in the index will be pulled out.\n",
    "\n",
    "\n",
    "\n"
   ]
  },
  {
   "cell_type": "code",
   "execution_count": null,
   "id": "140cfa87",
   "metadata": {},
   "outputs": [
    {
     "data": {
      "text/plain": [
       "b      1\n",
       "c      2\n",
       "d    100\n",
       "a      0\n",
       "dtype: int64"
      ]
     },
     "metadata": {},
     "output_type": "display_data"
    }
   ],
   "source": [
    "pd.Series(d, index=[\"b\", \"c\", \"d\", \"a\"])"
   ]
  },
  {
   "cell_type": "markdown",
   "id": "891c118d",
   "metadata": {},
   "source": [
    "**Note:** NaN (not a number) is the standard missing data marker used in pandas."
   ]
  },
  {
   "cell_type": "markdown",
   "id": "f67384c9",
   "metadata": {},
   "source": [
    "## **Example 2: Key/Value Objects as Series**\n",
    "\n",
    "**Example 2.1**\n",
    "\n",
    "Note: The keys of the dictionary become the labels.\n"
   ]
  },
  {
   "cell_type": "code",
   "execution_count": null,
   "id": "311561df",
   "metadata": {},
   "outputs": [
    {
     "name": "stdout",
     "output_type": "stream",
     "text": [
      "day1    420\n",
      "day2    380\n",
      "day3    390\n",
      "dtype: int64\n"
     ]
    }
   ],
   "source": [
    "calories = {\"day1\": 420, \"day2\": 380, \"day3\": 390}\n",
    "\n",
    "myvar = pd.Series(calories)\n",
    "\n",
    "print(myvar)"
   ]
  },
  {
   "cell_type": "markdown",
   "id": "604b09fc",
   "metadata": {},
   "source": [
    "**Example 2.2**\n",
    "\n",
    "To select only some of the items in the dictionary, use the index argument and specify only the items you want to include in the Series.\n",
    "\n",
    "\n",
    "Create a Series using only data from \"day1\" and \"day2\":\n"
   ]
  },
  {
   "cell_type": "code",
   "execution_count": null,
   "id": "dd3ec42f",
   "metadata": {},
   "outputs": [
    {
     "name": "stdout",
     "output_type": "stream",
     "text": [
      "day1    420\n",
      "day2    380\n",
      "dtype: int64\n",
      "day3    390\n",
      "dtype: int64\n"
     ]
    }
   ],
   "source": [
    "calories = {\"day1\": 420, \"day2\": 380, \"day3\": 390}\n",
    "myvar = pd.Series(calories, index = [\"day1\", \"day2\"])\n",
    "myvar2 = pd.Series(calories, index = [\"day3\"])\n",
    "print(myvar)\n",
    "print(myvar2)"
   ]
  },
  {
   "cell_type": "markdown",
   "id": "6cb33104",
   "metadata": {},
   "source": [
    "**Example 3:  Creating Panda Series from Scalar Value**\n",
    "\n",
    "If data is a scalar value, an index must be provided. The value will be repeated to match the length of the index.\n",
    "\n",
    "\n"
   ]
  },
  {
   "cell_type": "code",
   "execution_count": null,
   "id": "72d3b38d",
   "metadata": {},
   "outputs": [
    {
     "data": {
      "text/plain": [
       "a    5.0\n",
       "b    5.0\n",
       "c    5.0\n",
       "d    5.0\n",
       "e    5.0\n",
       "dtype: float64"
      ]
     },
     "metadata": {},
     "output_type": "display_data"
    }
   ],
   "source": [
    "pd.Series(5.0, index=[\"a\", \"b\", \"c\", \"d\", \"e\"])"
   ]
  },
  {
   "cell_type": "markdown",
   "id": "9592712f",
   "metadata": {},
   "source": [
    "***"
   ]
  },
  {
   "cell_type": "markdown",
   "id": "3957604a",
   "metadata": {},
   "source": [
    "# **Guided Lab - 343.3.2 - Creating a Pandas DataFrame**\n"
   ]
  },
  {
   "cell_type": "markdown",
   "id": "6ac1812e",
   "metadata": {},
   "source": [
    "**Lab Objective:**\n",
    "\n",
    "In this lab, we will demonstrate how to create a Pandas Dataframe, a fundamental data structure in data analysis with Python.\n",
    "\n",
    "**Importance:** Mastering DataFrame creation is crucial for data manipulation, analysis, and visualization in Python. It's the foundation for working with data in Pandas.\n",
    "\n",
    "**Learning Objective:**\n",
    "\n",
    " By the end of this lab, you will be able to create DataFrames using various methods, including dictionaries, lists, and NumPy arrays.\n",
    "\n",
    "**Instructions:**\n",
    "\n",
    "You can start by importing pandas along with NumPy, which you will use throughout the following examples:\n",
    "```\n",
    "import numpy as np\n",
    "import pandas as pd\n",
    "\n",
    "That’s it. Now you’re ready to create some DataFrames.\n"
   ]
  },
  {
   "cell_type": "markdown",
   "id": "b3f67ef2",
   "metadata": {},
   "source": [
    "**Example 1: Creating a Pandas DataFrame from Dictionaries**\n",
    "\n",
    "We can create a Pandas DataFrame with a Python dictionary:\n"
   ]
  },
  {
   "cell_type": "code",
   "execution_count": null,
   "id": "644bc83f",
   "metadata": {},
   "outputs": [],
   "source": [
    "import numpy as np\n",
    "import pandas as pd"
   ]
  },
  {
   "cell_type": "code",
   "execution_count": null,
   "id": "18f48a0c",
   "metadata": {},
   "outputs": [
    {
     "name": "stdout",
     "output_type": "stream",
     "text": [
      "   x  y    z\n",
      "0  1  2  100\n",
      "1  2  4  100\n",
      "2  3  8  100\n"
     ]
    }
   ],
   "source": [
    "# Create Python dictionary\n",
    "d = {'x': [1, 2, 3], 'y': [2, 4, 8], 'z': 100}\n",
    "\n",
    "# Create DataFrame from a dictionary\n",
    "df_d = pd.DataFrame(d)\n",
    "print(df_d)"
   ]
  },
  {
   "cell_type": "markdown",
   "id": "09190ab4",
   "metadata": {},
   "source": [
    "The keys of the dictionary are the DataFrame’s column labels, and the dictionary values are the data values in the corresponding DataFrame columns.\n",
    "\n",
    "The values can be contained in a tuple, list, one-dimensional NumPy array, Pandas Series object, or one of several other data types. You can also provide a single value that will be copied along the entire column.\n",
    "\n",
    "It’s possible to control the order of the columns with the columns parameter and row labels with index as shown in the below example:\n",
    "\n",
    "\n",
    "\n"
   ]
  },
  {
   "cell_type": "code",
   "execution_count": null,
   "id": "032ec4e1",
   "metadata": {},
   "outputs": [
    {
     "name": "stdout",
     "output_type": "stream",
     "text": [
      "       z  y  x\n",
      "100  100  2  1\n",
      "200  100  4  2\n",
      "300  100  8  3\n"
     ]
    }
   ],
   "source": [
    "df_d2 = pd.DataFrame(d, index=[100, 200, 300], columns=['z', 'y', 'x'])\n",
    "print(df_d2)"
   ]
  },
  {
   "cell_type": "markdown",
   "id": "a007ba37",
   "metadata": {},
   "source": [
    "**Example 2.1: Creating a Pandas DataFrame from lists using zip() function**\n",
    "\n",
    "We can also use the **`zip()`** function to zip together multiple lists to create a DataFrame with more columns.\n"
   ]
  },
  {
   "cell_type": "code",
   "execution_count": null,
   "id": "53d18003",
   "metadata": {},
   "outputs": [
    {
     "data": {
      "text/html": [
       "<div>\n",
       "<style scoped>\n",
       "    .dataframe tbody tr th:only-of-type {\n",
       "        vertical-align: middle;\n",
       "    }\n",
       "\n",
       "    .dataframe tbody tr th {\n",
       "        vertical-align: top;\n",
       "    }\n",
       "\n",
       "    .dataframe thead th {\n",
       "        text-align: right;\n",
       "    }\n",
       "</style>\n",
       "<table border=\"1\" class=\"dataframe\">\n",
       "  <thead>\n",
       "    <tr style=\"text-align: right;\">\n",
       "      <th></th>\n",
       "      <th>Patient ID</th>\n",
       "      <th>Name</th>\n",
       "      <th>DoB</th>\n",
       "    </tr>\n",
       "  </thead>\n",
       "  <tbody>\n",
       "    <tr>\n",
       "      <th>0</th>\n",
       "      <td>101</td>\n",
       "      <td>alice</td>\n",
       "      <td>2023-01-01</td>\n",
       "    </tr>\n",
       "    <tr>\n",
       "      <th>1</th>\n",
       "      <td>23</td>\n",
       "      <td>bob</td>\n",
       "      <td>2023-01-02</td>\n",
       "    </tr>\n",
       "    <tr>\n",
       "      <th>2</th>\n",
       "      <td>48</td>\n",
       "      <td>charlie</td>\n",
       "      <td>3/10/2020 143045</td>\n",
       "    </tr>\n",
       "    <tr>\n",
       "      <th>3</th>\n",
       "      <td>49</td>\n",
       "      <td>Eric</td>\n",
       "      <td>13th of October, 2023</td>\n",
       "    </tr>\n",
       "  </tbody>\n",
       "</table>\n",
       "</div>"
      ],
      "text/plain": [
       "   Patient ID     Name                    DoB\n",
       "0         101    alice             2023-01-01\n",
       "1          23      bob             2023-01-02\n",
       "2          48  charlie       3/10/2020 143045\n",
       "3          49     Eric  13th of October, 2023"
      ]
     },
     "metadata": {},
     "output_type": "display_data"
    }
   ],
   "source": [
    "# create a list of patientID, name, and date of birth and assign it to a variable\n",
    "patientID = [101,23,48,49]\n",
    "name =       ['alice','bob','charlie','Eric']\n",
    "# create a list of dates\n",
    "date_of_birth = ['2023-01-01', '2023-01-02', '3/10/2020 143045', '13th of October, 2023']\n",
    "# Create a DataFrame using zip and pd.DataFrame\n",
    "myDF = pd.DataFrame(zip(patientID, name,date_of_birth), columns=['Patient ID', 'Name', 'DoB'])\n",
    "myDF\n",
    "\n"
   ]
  },
  {
   "cell_type": "markdown",
   "id": "005ebf91",
   "metadata": {},
   "source": [
    "**Explanation:**\n",
    "- `zip(patientID, name, date_of_birth):` The zip() function combines the elements from the three lists into tuples. Each tuple represents a row of data, associating a patient ID, name, and date of birth.\n",
    "- `pd.DataFrame(...):` This creates a Pandas DataFrame using the output of zip() as the data source.\n",
    "- `columns=['patientID', 'name', 'date_of_birth']:` This argument sets the column names for the DataFrame."
   ]
  },
  {
   "cell_type": "markdown",
   "id": "b8e67428",
   "metadata": {},
   "source": [
    "**Example 2.2: Creating a Pandas DataFrame from List using Dictionary**\n",
    "\n",
    "- Another way to create a Pandas DataFrame is to use a **list** of **dictionaries**:\n",
    "- To use lists in a dictionary to create a Pandas DataFrame, we Create a dictionary of lists and then Pass the dictionary to the pd.DataFrame() constructor. Optionally, we can specify the column names for the DataFrame by passing a list of strings to the columns parameter of the pd.DataFrame() constructor.\n",
    "\n",
    "\n"
   ]
  },
  {
   "cell_type": "code",
   "execution_count": null,
   "id": "e515a8b4",
   "metadata": {},
   "outputs": [
    {
     "data": {
      "text/html": [
       "<div>\n",
       "<style scoped>\n",
       "    .dataframe tbody tr th:only-of-type {\n",
       "        vertical-align: middle;\n",
       "    }\n",
       "\n",
       "    .dataframe tbody tr th {\n",
       "        vertical-align: top;\n",
       "    }\n",
       "\n",
       "    .dataframe thead th {\n",
       "        text-align: right;\n",
       "    }\n",
       "</style>\n",
       "<table border=\"1\" class=\"dataframe\">\n",
       "  <thead>\n",
       "    <tr style=\"text-align: right;\">\n",
       "      <th></th>\n",
       "      <th>x</th>\n",
       "      <th>y</th>\n",
       "      <th>z</th>\n",
       "    </tr>\n",
       "  </thead>\n",
       "  <tbody>\n",
       "    <tr>\n",
       "      <th>0</th>\n",
       "      <td>1</td>\n",
       "      <td>2</td>\n",
       "      <td>100</td>\n",
       "    </tr>\n",
       "    <tr>\n",
       "      <th>1</th>\n",
       "      <td>2</td>\n",
       "      <td>4</td>\n",
       "      <td>100</td>\n",
       "    </tr>\n",
       "    <tr>\n",
       "      <th>2</th>\n",
       "      <td>3</td>\n",
       "      <td>8</td>\n",
       "      <td>100</td>\n",
       "    </tr>\n",
       "  </tbody>\n",
       "</table>\n",
       "</div>"
      ],
      "text/plain": [
       "   x  y    z\n",
       "0  1  2  100\n",
       "1  2  4  100\n",
       "2  3  8  100"
      ]
     },
     "metadata": {},
     "output_type": "display_data"
    }
   ],
   "source": [
    "\n",
    "l = [{'x': 1, 'y': 2, 'z': 100},\n",
    "     {'x': 2, 'y': 4, 'z': 100},\n",
    "     {'x': 3, 'y': 8, 'z': 100}]\n",
    "\n",
    "pd.DataFrame(l)"
   ]
  },
  {
   "cell_type": "markdown",
   "id": "279d1459",
   "metadata": {},
   "source": [
    "Again, the dictionary keys are the column labels, and the dictionary values are the data values in the DataFrame.\n",
    "\n",
    "You can also use a **nested list,** or a **list of lists**, as the data values. If you do, then it is wise to explicitly specify the labels of columns, rows, or both when you create the DataFrame.\n"
   ]
  },
  {
   "cell_type": "code",
   "execution_count": null,
   "id": "892f49d2",
   "metadata": {},
   "outputs": [
    {
     "data": {
      "text/html": [
       "<div>\n",
       "<style scoped>\n",
       "    .dataframe tbody tr th:only-of-type {\n",
       "        vertical-align: middle;\n",
       "    }\n",
       "\n",
       "    .dataframe tbody tr th {\n",
       "        vertical-align: top;\n",
       "    }\n",
       "\n",
       "    .dataframe thead th {\n",
       "        text-align: right;\n",
       "    }\n",
       "</style>\n",
       "<table border=\"1\" class=\"dataframe\">\n",
       "  <thead>\n",
       "    <tr style=\"text-align: right;\">\n",
       "      <th></th>\n",
       "      <th>x</th>\n",
       "      <th>y</th>\n",
       "      <th>z</th>\n",
       "    </tr>\n",
       "  </thead>\n",
       "  <tbody>\n",
       "    <tr>\n",
       "      <th>0</th>\n",
       "      <td>1</td>\n",
       "      <td>2</td>\n",
       "      <td>100</td>\n",
       "    </tr>\n",
       "    <tr>\n",
       "      <th>1</th>\n",
       "      <td>2</td>\n",
       "      <td>4</td>\n",
       "      <td>100</td>\n",
       "    </tr>\n",
       "    <tr>\n",
       "      <th>2</th>\n",
       "      <td>3</td>\n",
       "      <td>8</td>\n",
       "      <td>100</td>\n",
       "    </tr>\n",
       "  </tbody>\n",
       "</table>\n",
       "</div>"
      ],
      "text/plain": [
       "   x  y    z\n",
       "0  1  2  100\n",
       "1  2  4  100\n",
       "2  3  8  100"
      ]
     },
     "metadata": {},
     "output_type": "display_data"
    }
   ],
   "source": [
    "l = [[1, 2, 100],\n",
    "     [2, 4, 100],\n",
    "     [3, 8, 100]]\n",
    "\n",
    "pd.DataFrame(l, columns=['x', 'y', 'z'])\n",
    "\n"
   ]
  },
  {
   "cell_type": "markdown",
   "id": "57bff55b",
   "metadata": {},
   "source": [
    "That is how you can use a nested list to create a Pandas DataFrame. You can also use a list of tuples in the same way. To do so, just replace the nested lists in the example above with tuples.\n"
   ]
  },
  {
   "cell_type": "markdown",
   "id": "616c8f7d",
   "metadata": {},
   "source": [
    "**Example 2.3: Creating Pandas using Lists**"
   ]
  },
  {
   "cell_type": "code",
   "execution_count": null,
   "id": "a9da6c81",
   "metadata": {},
   "outputs": [
    {
     "name": "stdout",
     "output_type": "stream",
     "text": [
      "  stocks  prices\n",
      "0    IBM  115.00\n",
      "1  APPLE  119.14\n",
      "2  TWTTR   19.77\n",
      "3     GE   25.99\n",
      "4   MSFT   26.00\n",
      "Tuples:\n",
      "  stocks  prices\n",
      "0    IBM  115.00\n",
      "1  APPLE  119.14\n",
      "2  TWTTR   19.77\n",
      "3     GE   25.99\n",
      "4   MSFT   26.00\n"
     ]
    }
   ],
   "source": [
    "stocks = [\"IBM\", \"APPLE\", \"TWTTR\", \"GE\", \"MSFT\"]\n",
    "prices = [115.00, 119.14, 19.77, 25.99, 26]\n",
    "\n",
    "print(pd.DataFrame(zip(stocks, prices), columns=['stocks', 'prices']))\n",
    "\n",
    "# Using Tuples\n",
    "stocks1 = (\"IBM\", \"APPLE\", \"TWTTR\", \"GE\", \"MSFT\")\n",
    "prices1 = (115.00, 119.14, 19.77, 25.99, 26)\n",
    "print(\"Tuples:\")\n",
    "print(pd.DataFrame(zip(stocks1, prices1), columns=['stocks', 'prices']))\n"
   ]
  },
  {
   "cell_type": "markdown",
   "id": "fe405165",
   "metadata": {},
   "source": [
    "**Example 3: Creating a pandas DataFrame from NumPy Arrays**\n",
    "\n",
    "You can pass a two-dimensional NumPy array to the DataFrame constructor the same way you do with a list:"
   ]
  },
  {
   "cell_type": "code",
   "execution_count": null,
   "id": "f0be1632",
   "metadata": {},
   "outputs": [
    {
     "data": {
      "text/html": [
       "<div>\n",
       "<style scoped>\n",
       "    .dataframe tbody tr th:only-of-type {\n",
       "        vertical-align: middle;\n",
       "    }\n",
       "\n",
       "    .dataframe tbody tr th {\n",
       "        vertical-align: top;\n",
       "    }\n",
       "\n",
       "    .dataframe thead th {\n",
       "        text-align: right;\n",
       "    }\n",
       "</style>\n",
       "<table border=\"1\" class=\"dataframe\">\n",
       "  <thead>\n",
       "    <tr style=\"text-align: right;\">\n",
       "      <th></th>\n",
       "      <th>x</th>\n",
       "      <th>y</th>\n",
       "      <th>z</th>\n",
       "    </tr>\n",
       "  </thead>\n",
       "  <tbody>\n",
       "    <tr>\n",
       "      <th>0</th>\n",
       "      <td>1</td>\n",
       "      <td>2</td>\n",
       "      <td>100</td>\n",
       "    </tr>\n",
       "    <tr>\n",
       "      <th>1</th>\n",
       "      <td>2</td>\n",
       "      <td>4</td>\n",
       "      <td>100</td>\n",
       "    </tr>\n",
       "    <tr>\n",
       "      <th>2</th>\n",
       "      <td>3</td>\n",
       "      <td>8</td>\n",
       "      <td>100</td>\n",
       "    </tr>\n",
       "  </tbody>\n",
       "</table>\n",
       "</div>"
      ],
      "text/plain": [
       "   x  y    z\n",
       "0  1  2  100\n",
       "1  2  4  100\n",
       "2  3  8  100"
      ]
     },
     "metadata": {},
     "output_type": "display_data"
    }
   ],
   "source": [
    "# This following line creates a NumPy array named arr.\n",
    "arr = np.array([[1, 2, 100],[2, 4, 100],[3, 8, 100]])\n",
    "# This following line creates a Pandas DataFrame named df\n",
    "df = pd.DataFrame(arr, columns=['x', 'y', 'z'], copy=True)\n",
    "df\n"
   ]
  },
  {
   "cell_type": "markdown",
   "id": "1f505289",
   "metadata": {},
   "source": [
    "Although this example looks almost the same as the nested list implementation above, it has one advantage. You can specify the optional parameter copy.\n",
    "\n",
    "When a ***copy*** is set to ***False*** (its default setting), the data from the NumPy array is not copied. This means that the original data from the array is assigned to the Pandas DataFrame. If you modify the array, your DataFrame will change too:\n",
    "\n",
    "\n"
   ]
  },
  {
   "cell_type": "code",
   "execution_count": null,
   "id": "c05e3dea",
   "metadata": {},
   "outputs": [
    {
     "name": "stdout",
     "output_type": "stream",
     "text": [
      "   x  y    z\n",
      "0  1  2  100\n",
      "1  2  4  100\n",
      "2  3  8  100 \n",
      "\n",
      "[[1000    2  100]\n",
      " [   2    4  100]\n",
      " [   3    8  100]]\n"
     ]
    }
   ],
   "source": [
    "arr[0, 0] = 1000\n",
    "print(df, \"\\n\")\n",
    "\n",
    "print(arr)\n"
   ]
  },
  {
   "cell_type": "markdown",
   "id": "5691937e",
   "metadata": {},
   "source": [
    "Note: Not copying data values can save you a significant amount of time and processing power when working with large datasets.\n",
    "\n",
    "\n",
    "If this behavior is not what you want, you should specify copy=True in the DataFrame constructor. That way, df will be created with a copy of the values from arr instead of the actual values.\n"
   ]
  },
  {
   "cell_type": "markdown",
   "id": "924bb13d",
   "metadata": {},
   "source": [
    "***"
   ]
  },
  {
   "cell_type": "markdown",
   "id": "63d362ea",
   "metadata": {},
   "source": [
    "# **Guided LAB - 343.3.3 - Reading HTML tables with Pandas**"
   ]
  },
  {
   "cell_type": "markdown",
   "id": "205adb33",
   "metadata": {},
   "source": [
    "## **Learning Objective:**\n",
    "\n",
    "- In this lab, we will demonstrate how to use pandas `read_html()` function to read several  HTML tables from Wikipedia webpage.\n",
    "\n",
    "- By the end of this lab, learner will be able to:\n",
    " - Use the read_html() function to extract tables from HTML.\n",
    " - Select specific tables using the match parameter.\n",
    " - Convert HTML tables into pandas DataFrames for further analysis."
   ]
  },
  {
   "cell_type": "markdown",
   "id": "162e2499",
   "metadata": {},
   "source": [
    "## **Introduction:**\n",
    "\n",
    "You can use the **read_html()** function to scrape HTML tables directly from a website and convert them into DataFrames.\n",
    "\n",
    "The **read_html()** function takes a string that contains a URL or a file path leading to an HTML file, extracts all the tables contained within that HTML page, and returns a list of DataFrames."
   ]
  },
  {
   "cell_type": "markdown",
   "id": "74fc4d70",
   "metadata": {},
   "source": [
    "## **Example: 1**\n",
    "For the first example, we will try to parse this table from the Politics section on the Minnesota wiki page."
   ]
  },
  {
   "cell_type": "code",
   "execution_count": null,
   "id": "36a4b240",
   "metadata": {},
   "outputs": [],
   "source": [
    "import pandas as pd\n",
    "import numpy as np"
   ]
  },
  {
   "cell_type": "code",
   "execution_count": null,
   "id": "f5111676",
   "metadata": {},
   "outputs": [],
   "source": [
    "html_string = 'https://en.wikipedia.org/wiki/Minnesota'\n",
    "table_MN = pd.read_html(html_string)"
   ]
  },
  {
   "cell_type": "code",
   "execution_count": null,
   "id": "1a8f476f",
   "metadata": {},
   "outputs": [],
   "source": [
    "print(table_MN)"
   ]
  },
  {
   "cell_type": "code",
   "execution_count": null,
   "id": "80b7748d",
   "metadata": {},
   "outputs": [
    {
     "name": "stdout",
     "output_type": "stream",
     "text": [
      "0            Minneapolis\n",
      "1             Saint Paul\n",
      "2              Rochester\n",
      "3                 Duluth\n",
      "4              St. Cloud\n",
      "5                Mankato\n",
      "6    International Falls\n",
      "Name: Location, dtype: object\n"
     ]
    }
   ],
   "source": [
    "# Access third table on page, Location column\n",
    "print(table_MN[2]['Location'])"
   ]
  },
  {
   "cell_type": "code",
   "execution_count": null,
   "id": "6029e6af",
   "metadata": {},
   "outputs": [
    {
     "name": "stdout",
     "output_type": "stream",
     "text": [
      "Total tables: 30\n"
     ]
    }
   ],
   "source": [
    "print(f'Total tables: {len(table_MN)}')"
   ]
  },
  {
   "cell_type": "markdown",
   "id": "ecb8b057",
   "metadata": {},
   "source": [
    "- There are 29 tables, it can be challenging to find the one you need. To make the table selection easier, use the **match** parameter to select a subset of tables.\n",
    "\n",
    "- We need only table that contains the word **“United States presidential election results for Minnesota”**\n"
   ]
  },
  {
   "cell_type": "code",
   "execution_count": null,
   "id": "bdfcb226",
   "metadata": {},
   "outputs": [
    {
     "name": "stdout",
     "output_type": "stream",
     "text": [
      "Total tables: 1\n"
     ]
    },
    {
     "data": {
      "text/plain": [
       "[    Year Republican         Democratic         Third party(ies)        \n",
       "     Year        No.       %        No.       %              No.       %\n",
       " 0   2024    1519032  46.68%    1656979  50.92%            77909   2.39%\n",
       " 1   2020    1484065  45.28%    1717077  52.40%            76029   2.32%\n",
       " 2   2016    1323232  44.93%    1367825  46.44%           254176   8.63%\n",
       " 3   2012    1320225  44.96%    1546167  52.65%            70169   2.39%\n",
       " 4   2008    1275409  43.82%    1573354  54.06%            61606   2.12%\n",
       " 5   2004    1346695  47.61%    1445014  51.09%            36678   1.30%\n",
       " 6   2000    1109659  45.50%    1168266  47.91%           160760   6.59%\n",
       " 7   1996     766476  34.96%    1120438  51.10%           305726  13.94%\n",
       " 8   1992     747841  31.85%    1020997  43.48%           579110  24.66%\n",
       " 9   1988     962337  45.90%    1109471  52.91%            24982   1.19%\n",
       " 10  1984    1032603  49.54%    1036364  49.72%            15482   0.74%\n",
       " 11  1980     873241  42.56%     954174  46.50%           224538  10.94%\n",
       " 12  1976     819395  42.02%    1070440  54.90%            60096   3.08%\n",
       " 13  1972     898269  51.58%     802346  46.07%            41037   2.36%\n",
       " 14  1968     658643  41.46%     857738  54.00%            72129   4.54%\n",
       " 15  1964     559624  36.00%     991117  63.76%             3721   0.24%\n",
       " 16  1960     757915  49.16%     779933  50.58%             4039   0.26%\n",
       " 17  1956     719302  53.68%     617525  46.08%             3178   0.24%\n",
       " 18  1952     763211  55.33%     608458  44.11%             7814   0.57%\n",
       " 19  1948     483617  39.89%     692966  57.16%            35643   2.94%\n",
       " 20  1944     527416  46.86%     589864  52.41%             8249   0.73%\n",
       " 21  1940     596274  47.66%     644196  51.49%            10718   0.86%\n",
       " 22  1936     350461  31.01%     698811  61.84%            80703   7.14%\n",
       " 23  1932     363959  36.29%     600806  59.91%            38078   3.80%\n",
       " 24  1928     560977  57.77%     396451  40.83%            13548   1.40%\n",
       " 25  1924     420759  51.18%      55913   6.80%           345474  42.02%\n",
       " 26  1920     519421  70.59%     142994  19.43%            73423   9.98%\n",
       " 27  1916     179544  46.35%     179152  46.25%            28668   7.40%\n",
       " 28  1912      64334  19.25%     106426  31.84%           163459  48.91%\n",
       " 29  1908     195843  59.11%     109401  33.02%            26060   7.87%\n",
       " 30  1904     216651  73.98%      55187  18.84%            21022   7.18%\n",
       " 31  1900     190461  60.21%     112901  35.69%            12949   4.09%\n",
       " 32  1896     193503  56.62%     139735  40.89%             8524   2.49%\n",
       " 33  1892     122823  45.96%     100920  37.76%            43495  16.28%\n",
       " 34  1888     142492  54.12%     104385  39.65%            16408   6.23%\n",
       " 35  1884     111685  58.78%      70065  36.87%             8267   4.35%\n",
       " 36  1880      93902  62.28%      53315  35.36%             3553   2.36%\n",
       " 37  1876      72955  58.80%      48587  39.16%             2533   2.04%\n",
       " 38  1872      55708  61.27%      35211  38.73%                0   0.00%\n",
       " 39  1868      43722  60.88%      28096  39.12%                0   0.00%\n",
       " 40  1864      25055  59.06%      17367  40.94%                0   0.00%\n",
       " 41  1860      22069  63.53%      11920  34.31%              748   2.15%]"
      ]
     },
     "metadata": {},
     "output_type": "display_data"
    }
   ],
   "source": [
    "table_MN = pd.read_html('https://en.wikipedia.org/wiki/Minnesota', match='United States presidential election results for Minnesota')\n",
    "print(f'Total tables: {len(table_MN)}')\n",
    "table_MN"
   ]
  },
  {
   "cell_type": "markdown",
   "id": "700d15db",
   "metadata": {},
   "source": [
    "***"
   ]
  },
  {
   "cell_type": "markdown",
   "id": "83dc289b",
   "metadata": {},
   "source": [
    "# **<font color='#0969DA'>Guided Lab 343.3.4 - Exploratory Data Analysis on json data - Basic insights from the Data</font>**\n",
    "---"
   ]
  },
  {
   "cell_type": "markdown",
   "id": "ff236d4b",
   "metadata": {},
   "source": [
    "## **Lab Overview:**\n",
    "\n",
    "This lab focuses on performing Exploratory Data Analysis (EDA) on a JSON dataset using Python and the Pandas library. The lab aims to guide you through the following key concepts:\n",
    "\n",
    "1. **Data Type Inspection:** Understanding the importance of checking data types for potential mismatches and compatibility with Python methods. This is demonstrated using the `dtypes` attribute of Pandas DataFrames.\n",
    "\n",
    "2. **Descriptive Statistics:** Calculating and interpreting basic statistical measures such as mean, standard deviation, minimum, maximum, and quartiles using the `describe()` method.\n",
    "\n",
    "3. **Concise Summary:** Obtaining a comprehensive overview of the dataset, including column names, data types, memory usage, and non-null values, using the `info()` method.\n",
    "\n",
    "4. **Data Selection:** Extracting specific records or subsets of the data using the `head()`, `tail()`, `at`, and `iat` functions, enabling efficient exploration of large datasets.\n",
    "\n",
    "5. **Data Shape and Size:** Determining the number of rows and columns using the `shape` attribute and exploring alternative methods like `axes` and `len` to access this information.\n",
    "\n",
    "**Learning Outcomes:**\n",
    "\n",
    "By the end of this lab, you should be able to:\n",
    "\n",
    "* Confidently load and manipulate JSON data in Python using Pandas.\n",
    "* Utilize various Pandas functions to perform basic EDA tasks.\n",
    "* Interpret descriptive statistics and summaries to gain insights into data.\n",
    "* Efficiently extract and analyze specific subsets of data.\n",
    "* Understand the structure and dimensions of a dataset.\n",
    "\n",
    "**Dataset:**\n",
    "\n",
    "The lab utilizes a JSON dataset named ['cars.json'](https://drive.google.com/file/d/1CXAK8gbuLtc2NNOXVUgmja8fDg0TrNZm/view) as the primary data source for analysis and demonstration.\n"
   ]
  },
  {
   "cell_type": "markdown",
   "id": "62922ba3",
   "metadata": {},
   "source": [
    "### **<font color='#0969DA'>How to check Data types in Pandas**\n",
    "\n"
   ]
  },
  {
   "cell_type": "markdown",
   "id": "e7e746b4",
   "metadata": {},
   "source": [
    "- In pandas, we use **dtypes** attribute to check data types.\n",
    "- Why check data types?\n",
    " - potential info and type mismatch.\n",
    " - compatibility with python methods.\n",
    "---\n",
    "# **Begin**\n",
    "\n",
    "The lab follows a step-by-step approach, starting with loading the JSON data into a Pandas DataFrame. It then proceeds with exploring the data's characteristics, calculating statistics, selecting specific records, and understanding the dataset's structure."
   ]
  },
  {
   "cell_type": "code",
   "execution_count": null,
   "id": "1a4a04f3",
   "metadata": {},
   "outputs": [],
   "source": [
    "import pandas as pd"
   ]
  },
  {
   "cell_type": "code",
   "execution_count": null,
   "id": "891c5ad4",
   "metadata": {},
   "outputs": [
    {
     "name": "stdout",
     "output_type": "stream",
     "text": [
      "Car              object\n",
      "MPG             float64\n",
      "Cylinders         int64\n",
      "Displacement    float64\n",
      "Horsepower        int64\n",
      "Weight            int64\n",
      "Acceleration    float64\n",
      "Model             int64\n",
      "Origin           object\n",
      "quantity          int64\n",
      "city             object\n",
      "dtype: object\n"
     ]
    }
   ],
   "source": [
    "# Read JSON file\n",
    "df_cars = pd.read_json('./Data/cars.json')\n",
    "print(df_cars.dtypes) # check the underlying data types"
   ]
  },
  {
   "cell_type": "markdown",
   "id": "6f38b0fc",
   "metadata": {},
   "source": [
    "## **<font color='#0969DA'>Determining Descriptive Statistics**"
   ]
  },
  {
   "cell_type": "markdown",
   "id": "344917e2",
   "metadata": {},
   "source": [
    "- Pandas provides many statistical methods for DataFrames. You can get basic statistics summary for the numerical columns of a Pandas DataFrame with **describe()** method.\n",
    "\n",
    "Visit this link for all descriptive related methods.\n",
    "https://pandas.pydata.org/pandas-docs/stable/reference/frame.html#computations-descriptive-stats\n",
    "\n",
    "- Example: Consider the **cars.json** dataset"
   ]
  },
  {
   "cell_type": "code",
   "execution_count": null,
   "id": "fd556019",
   "metadata": {},
   "outputs": [
    {
     "data": {
      "text/html": [
       "<div>\n",
       "<style scoped>\n",
       "    .dataframe tbody tr th:only-of-type {\n",
       "        vertical-align: middle;\n",
       "    }\n",
       "\n",
       "    .dataframe tbody tr th {\n",
       "        vertical-align: top;\n",
       "    }\n",
       "\n",
       "    .dataframe thead th {\n",
       "        text-align: right;\n",
       "    }\n",
       "</style>\n",
       "<table border=\"1\" class=\"dataframe\">\n",
       "  <thead>\n",
       "    <tr style=\"text-align: right;\">\n",
       "      <th></th>\n",
       "      <th>MPG</th>\n",
       "      <th>Cylinders</th>\n",
       "      <th>Displacement</th>\n",
       "      <th>Horsepower</th>\n",
       "      <th>Weight</th>\n",
       "      <th>Acceleration</th>\n",
       "      <th>Model</th>\n",
       "      <th>quantity</th>\n",
       "    </tr>\n",
       "  </thead>\n",
       "  <tbody>\n",
       "    <tr>\n",
       "      <th>count</th>\n",
       "      <td>161.000000</td>\n",
       "      <td>161.000000</td>\n",
       "      <td>161.000000</td>\n",
       "      <td>161.000000</td>\n",
       "      <td>161.000000</td>\n",
       "      <td>161.000000</td>\n",
       "      <td>161.000000</td>\n",
       "      <td>161.000000</td>\n",
       "    </tr>\n",
       "    <tr>\n",
       "      <th>mean</th>\n",
       "      <td>23.801863</td>\n",
       "      <td>5.347826</td>\n",
       "      <td>185.232919</td>\n",
       "      <td>100.664596</td>\n",
       "      <td>2915.093168</td>\n",
       "      <td>15.509938</td>\n",
       "      <td>76.260870</td>\n",
       "      <td>224.875776</td>\n",
       "    </tr>\n",
       "    <tr>\n",
       "      <th>std</th>\n",
       "      <td>8.810125</td>\n",
       "      <td>1.761607</td>\n",
       "      <td>105.394809</td>\n",
       "      <td>41.079640</td>\n",
       "      <td>890.293883</td>\n",
       "      <td>2.515780</td>\n",
       "      <td>3.818576</td>\n",
       "      <td>127.741084</td>\n",
       "    </tr>\n",
       "    <tr>\n",
       "      <th>min</th>\n",
       "      <td>0.000000</td>\n",
       "      <td>3.000000</td>\n",
       "      <td>68.000000</td>\n",
       "      <td>0.000000</td>\n",
       "      <td>1613.000000</td>\n",
       "      <td>8.000000</td>\n",
       "      <td>70.000000</td>\n",
       "      <td>5.000000</td>\n",
       "    </tr>\n",
       "    <tr>\n",
       "      <th>25%</th>\n",
       "      <td>17.000000</td>\n",
       "      <td>4.000000</td>\n",
       "      <td>98.000000</td>\n",
       "      <td>72.000000</td>\n",
       "      <td>2130.000000</td>\n",
       "      <td>14.000000</td>\n",
       "      <td>73.000000</td>\n",
       "      <td>112.000000</td>\n",
       "    </tr>\n",
       "    <tr>\n",
       "      <th>50%</th>\n",
       "      <td>24.000000</td>\n",
       "      <td>4.000000</td>\n",
       "      <td>140.000000</td>\n",
       "      <td>88.000000</td>\n",
       "      <td>2625.000000</td>\n",
       "      <td>15.500000</td>\n",
       "      <td>76.000000</td>\n",
       "      <td>227.000000</td>\n",
       "    </tr>\n",
       "    <tr>\n",
       "      <th>75%</th>\n",
       "      <td>31.000000</td>\n",
       "      <td>8.000000</td>\n",
       "      <td>302.000000</td>\n",
       "      <td>130.000000</td>\n",
       "      <td>3620.000000</td>\n",
       "      <td>17.100000</td>\n",
       "      <td>80.000000</td>\n",
       "      <td>337.000000</td>\n",
       "    </tr>\n",
       "    <tr>\n",
       "      <th>max</th>\n",
       "      <td>46.600000</td>\n",
       "      <td>8.000000</td>\n",
       "      <td>440.000000</td>\n",
       "      <td>215.000000</td>\n",
       "      <td>4955.000000</td>\n",
       "      <td>22.100000</td>\n",
       "      <td>82.000000</td>\n",
       "      <td>439.000000</td>\n",
       "    </tr>\n",
       "  </tbody>\n",
       "</table>\n",
       "</div>"
      ],
      "text/plain": [
       "              MPG   Cylinders  Displacement  Horsepower       Weight  \\\n",
       "count  161.000000  161.000000    161.000000  161.000000   161.000000   \n",
       "mean    23.801863    5.347826    185.232919  100.664596  2915.093168   \n",
       "std      8.810125    1.761607    105.394809   41.079640   890.293883   \n",
       "min      0.000000    3.000000     68.000000    0.000000  1613.000000   \n",
       "25%     17.000000    4.000000     98.000000   72.000000  2130.000000   \n",
       "50%     24.000000    4.000000    140.000000   88.000000  2625.000000   \n",
       "75%     31.000000    8.000000    302.000000  130.000000  3620.000000   \n",
       "max     46.600000    8.000000    440.000000  215.000000  4955.000000   \n",
       "\n",
       "       Acceleration       Model    quantity  \n",
       "count    161.000000  161.000000  161.000000  \n",
       "mean      15.509938   76.260870  224.875776  \n",
       "std        2.515780    3.818576  127.741084  \n",
       "min        8.000000   70.000000    5.000000  \n",
       "25%       14.000000   73.000000  112.000000  \n",
       "50%       15.500000   76.000000  227.000000  \n",
       "75%       17.100000   80.000000  337.000000  \n",
       "max       22.100000   82.000000  439.000000  "
      ]
     },
     "metadata": {},
     "output_type": "display_data"
    }
   ],
   "source": [
    "\n",
    "df_cars = pd.read_json('./Data/cars.json')\n",
    "df_cars.describe()"
   ]
  },
  {
   "cell_type": "markdown",
   "id": "c990a7b5",
   "metadata": {},
   "source": [
    "in the above result, describe() returns a new DataFrame with the number of rows indicated by count, as well as the mean, standard deviation, minimum, maximum, and quartiles of the columns.\n",
    "\n",
    "---\n",
    "\n"
   ]
  },
  {
   "cell_type": "markdown",
   "id": "927b9034",
   "metadata": {},
   "source": [
    "## **<font color='#0969DA'>Determine Basic Concise summary</font>**\n",
    "\n",
    "Pandas provides many statistical methods for DataFrames. You can get basic concise summary for the Pandas DataFrame with **info()** method.\n",
    "\n",
    "In other words, info function gives metadata of panda DataFrame, Which includes,\n",
    "\n",
    "- Number of rows and its range of index\n",
    "- Total number of columns\n",
    "- List of columns\n",
    "- Count of the total number of non-null values in the column\n",
    "- Data type of column\n",
    "- Count of columns in each data type\n",
    "- Memory usage by the DataFrame\n",
    "\n",
    "Reference: https://pandas.pydata.org/pandas-docs/stable/reference/api/pandas.DataFrame.info.html"
   ]
  },
  {
   "cell_type": "markdown",
   "id": "3dffebd4",
   "metadata": {},
   "source": [
    "# **<font color='#0969DA'>DataFrame Count</font>**\n",
    "\n",
    "df.count():\n",
    "DataFrame Count will return the number of Non-NA values within each column. I don’t love this one because 1) it’s slower and 2) you need to do extra data work after you call .count().\n",
    "\n",
    "Be careful, if you have NAs in your dataset, it can get confusing. The count() will skip these by default."
   ]
  },
  {
   "cell_type": "code",
   "execution_count": null,
   "id": "bceb5f19",
   "metadata": {},
   "outputs": [
    {
     "name": "stdout",
     "output_type": "stream",
     "text": [
      "<class 'pandas.core.frame.DataFrame'>\n",
      "RangeIndex: 161 entries, 0 to 160\n",
      "Data columns (total 11 columns):\n",
      " #   Column        Non-Null Count  Dtype  \n",
      "---  ------        --------------  -----  \n",
      " 0   Car           161 non-null    object \n",
      " 1   MPG           161 non-null    float64\n",
      " 2   Cylinders     161 non-null    int64  \n",
      " 3   Displacement  161 non-null    float64\n",
      " 4   Horsepower    161 non-null    int64  \n",
      " 5   Weight        161 non-null    int64  \n",
      " 6   Acceleration  161 non-null    float64\n",
      " 7   Model         161 non-null    int64  \n",
      " 8   Origin        161 non-null    object \n",
      " 9   quantity      161 non-null    int64  \n",
      " 10  city          161 non-null    object \n",
      "dtypes: float64(3), int64(5), object(3)\n",
      "memory usage: 14.0+ KB\n"
     ]
    }
   ],
   "source": [
    "df_cars.info()"
   ]
  },
  {
   "cell_type": "markdown",
   "id": "e0e519fa",
   "metadata": {},
   "source": [
    "In the above result, the information contains the number of columns, column labels, column data types, memory usage, range index, and the number of cells in each column (non-null values).\n",
    "\n",
    "---\n",
    "\n"
   ]
  },
  {
   "cell_type": "markdown",
   "id": "bfa5c42c",
   "metadata": {},
   "source": [
    "## **<font color='#0969DA'>Select few records</font>**"
   ]
  },
  {
   "cell_type": "markdown",
   "id": "aceab6a6",
   "metadata": {},
   "source": [
    "The **head()** and  **tail()** functions use to select top and bottom rows of the Pandas DataFrame respectively. It is beneficial when we have massive datasets, and it is not possible to see the entire dataset at once.\n",
    "\n",
    "**Example: Consider the cars.json dataset**"
   ]
  },
  {
   "cell_type": "markdown",
   "id": "c468c79c",
   "metadata": {},
   "source": [
    "You can use **head(2)** function, only the first 2 rows of the DataFrame are displayed."
   ]
  },
  {
   "cell_type": "code",
   "execution_count": null,
   "id": "317e5ed7",
   "metadata": {},
   "outputs": [
    {
     "name": "stdout",
     "output_type": "stream",
     "text": [
      "                   Car   MPG  Cylinders  Displacement  Horsepower  Weight  \\\n",
      "0       Chevrolet Vega  25.0          4         140.0          75    2542   \n",
      "1  Chevrolet Vega (sw)  22.0          4         140.0          72    2408   \n",
      "\n",
      "   Acceleration  Model Origin  quantity    city  \n",
      "0          17.0     74     US       177      NJ  \n",
      "1          19.0     71     US        91  DALLAS  \n",
      "                            Car   MPG  Cylinders  Displacement  Horsepower  \\\n",
      "0                Chevrolet Vega  25.0          4         140.0          75   \n",
      "1           Chevrolet Vega (sw)  22.0          4         140.0          72   \n",
      "2           Chevrolet Vega 2300  28.0          4         140.0          90   \n",
      "3               Chevrolet Woody  24.5          4          98.0          60   \n",
      "4    Chevrolete Chevelle Malibu  16.0          6         250.0         105   \n",
      "..                          ...   ...        ...           ...         ...   \n",
      "152          Mercedes Benz 300d  25.4          5         183.0          77   \n",
      "153          Mercedes-Benz 240d  30.0          4         146.0          67   \n",
      "154          Mercedes-Benz 280s  16.5          6         168.0         120   \n",
      "155          Mercury Capri 2000  23.0          4         122.0          86   \n",
      "156            Mercury Capri v6  21.0          6         155.0         107   \n",
      "\n",
      "     Weight  Acceleration  Model  Origin  quantity     city  \n",
      "0      2542          17.0     74      US       177       NJ  \n",
      "1      2408          19.0     71      US        91   DALLAS  \n",
      "2      2264          15.5     71      US        74    TEXAS  \n",
      "3      2164          22.1     76      US       241       OH  \n",
      "4      3897          18.5     75      US       206  NewYork  \n",
      "..      ...           ...    ...     ...       ...      ...  \n",
      "152    3530          20.1     79  Europe       342       NJ  \n",
      "153    3250          21.8     80  Europe       373   DALLAS  \n",
      "154    3820          16.7     76  Europe       256    TEXAS  \n",
      "155    2220          14.0     71      US        94       OH  \n",
      "156    2472          14.0     73      US       158  NewYork  \n",
      "\n",
      "[157 rows x 11 columns]\n"
     ]
    }
   ],
   "source": [
    "print(df_cars.head(2))\n",
    "print(df_cars.head(-4)) # All rows minus the last 4"
   ]
  },
  {
   "cell_type": "markdown",
   "id": "0a41ccab",
   "metadata": {},
   "source": [
    "\n",
    "\n",
    "---\n",
    "\n"
   ]
  },
  {
   "cell_type": "markdown",
   "id": "26c891e8",
   "metadata": {},
   "source": [
    "You can use **tail(2)** function, only the last 2 rows of the DataFrame are displayed."
   ]
  },
  {
   "cell_type": "code",
   "execution_count": null,
   "id": "04d96ca1",
   "metadata": {},
   "outputs": [
    {
     "name": "stdout",
     "output_type": "stream",
     "text": [
      "                 Car   MPG  Cylinders  Displacement  Horsepower  Weight  \\\n",
      "159   Mercury Lynx l  36.0          4          98.0          70    2125   \n",
      "160  Mercury Marquis  11.0          8         429.0         208    4633   \n",
      "\n",
      "     Acceleration  Model Origin  quantity   city  \n",
      "159          17.3     82     US       425  TEXAS  \n",
      "160          11.0     72     US       112     OH  \n",
      "                         Car   MPG  Cylinders  Displacement  Horsepower  \\\n",
      "20             Datsun 280-ZX  32.7          6         168.0         132   \n",
      "21                Datsun 310  37.2          4          86.0          65   \n",
      "22             Datsun 310 GX  38.0          4          91.0          67   \n",
      "23                Datsun 510  27.2          4         119.0          97   \n",
      "24           Datsun 510 (sw)  28.0          4          97.0          92   \n",
      "..                       ...   ...        ...           ...         ...   \n",
      "156         Mercury Capri v6  21.0          6         155.0         107   \n",
      "157  Mercury Cougar Brougham  15.0          8         302.0         130   \n",
      "158    Mercury Grand Marquis  16.5          8         351.0         138   \n",
      "159           Mercury Lynx l  36.0          4          98.0          70   \n",
      "160          Mercury Marquis  11.0          8         429.0         208   \n",
      "\n",
      "     Weight  Acceleration  Model Origin  quantity     city  \n",
      "20     2910          11.4     80  Japan       378       OH  \n",
      "21     2019          16.4     80  Japan       357  NewYork  \n",
      "22     1995          16.2     82  Japan       431       NJ  \n",
      "23     2300          14.7     78  Japan       313   DALLAS  \n",
      "24     2288          17.0     72  Japan       126    TEXAS  \n",
      "..      ...           ...    ...    ...       ...      ...  \n",
      "156    2472          14.0     73     US       158  NewYork  \n",
      "157    4295          14.9     77     US        27       NJ  \n",
      "158    3955          13.2     79     US       332   DALLAS  \n",
      "159    2125          17.3     82     US       425    TEXAS  \n",
      "160    4633          11.0     72     US       112       OH  \n",
      "\n",
      "[141 rows x 11 columns]\n"
     ]
    }
   ],
   "source": [
    "print(df_cars.tail(2))\n",
    "print(df_cars.tail(-20)) # Start at row 20"
   ]
  },
  {
   "cell_type": "markdown",
   "id": "616001f6",
   "metadata": {},
   "source": [
    "\n",
    "\n",
    "---\n",
    "\n"
   ]
  },
  {
   "cell_type": "markdown",
   "id": "febf9b54",
   "metadata": {},
   "source": [
    "## **<font color='#0969DA'>Select Specific records</font>**"
   ]
  },
  {
   "cell_type": "markdown",
   "id": "817d800f",
   "metadata": {},
   "source": [
    " Also, **at** and **iat** properties to access a specific element in the DataFrame.\n",
    "\n",
    "Example: Using **at** property:\n",
    "\n",
    "**Consider the cars.json dataset**\n",
    "\n"
   ]
  },
  {
   "cell_type": "code",
   "execution_count": null,
   "id": "e3258185",
   "metadata": {},
   "outputs": [
    {
     "name": "stdout",
     "output_type": "stream",
     "text": [
      "15.0\n",
      "32.7\n"
     ]
    }
   ],
   "source": [
    "print(df_cars.at[157, 'MPG'])\n",
    "print(df_cars.at[20, 'MPG'])\n"
   ]
  },
  {
   "cell_type": "markdown",
   "id": "77f61a8a",
   "metadata": {},
   "source": [
    "**DataFrame.iat:** We want to access a specific element from a very large DataFrame, but we do not know its column label or row index. We can still access such an element using its column and row positions. For that, we can use iat property of python pandas.\n",
    "\n",
    "**Example: Using iat property:**\n",
    "In this example, we will access the 157 row and the 1st column."
   ]
  },
  {
   "cell_type": "code",
   "execution_count": null,
   "id": "cb12496f",
   "metadata": {},
   "outputs": [
    {
     "data": {
      "text/plain": [
       "np.float64(15.0)"
      ]
     },
     "metadata": {},
     "output_type": "display_data"
    }
   ],
   "source": [
    "df_cars.iat[157, 1]"
   ]
  },
  {
   "cell_type": "markdown",
   "id": "97b1492f",
   "metadata": {},
   "source": [
    "\n",
    "\n",
    "---\n",
    "\n"
   ]
  },
  {
   "cell_type": "markdown",
   "id": "84581432",
   "metadata": {},
   "source": [
    "# **<font color='#0969DA'>DataFrame Shape</font>**\n",
    "## **Find number of rows and columns**\n",
    "The number of rows and columns of a DataFrame can be identified using the .**shape ** attribute of the Panda DataFrame. It returns a tuple (row, column) and can be indexed to get only rows, and only columns count as output.\n",
    "\n",
    "\n",
    "**- df.shape[0] - To count rows**\n",
    "\n",
    "**- df.shape[1] - To count columns**"
   ]
  },
  {
   "cell_type": "code",
   "execution_count": null,
   "id": "597bdb6d",
   "metadata": {},
   "outputs": [
    {
     "name": "stdout",
     "output_type": "stream",
     "text": [
      "(161, 11)\n",
      "161\n",
      "11\n"
     ]
    }
   ],
   "source": [
    "\n",
    "print(df_cars.shape) # Get the number of rows and columns\n",
    "print(df_cars.shape[0]) # Get the number of rows only\n",
    "print(df_cars.shape[1]) # Get the number of columns only"
   ]
  },
  {
   "cell_type": "code",
   "execution_count": null,
   "id": "d9377fc4",
   "metadata": {},
   "outputs": [
    {
     "name": "stdout",
     "output_type": "stream",
     "text": [
      "Index(['Name', 'Age', 'Marks'], dtype='object')\n",
      "Name\n",
      "['Name', 'Age', 'Marks']\n"
     ]
    }
   ],
   "source": [
    "# Create DataFrame from dict\n",
    "student_dict = {'Name': ['Joe', 'Nat', 'Harry'], 'Age': [20, 21, 19], 'Marks': [85.10, 77.80, 91.54]}\n",
    "\n",
    "student_df = pd.DataFrame(student_dict)\n",
    "\n",
    "list_Index = student_df.columns    # get col index\n",
    "print(list_Index)\n",
    "label = student_df.columns[0]  # 1st col label\n",
    "print(student_df.columns[0])\n",
    "Get_As_List = student_df.columns.tolist() # get as a list\n",
    "print(Get_As_List)"
   ]
  },
  {
   "cell_type": "markdown",
   "id": "348b9ab6",
   "metadata": {},
   "source": [
    "\n",
    "\n",
    "---\n",
    "\n",
    "# **<font color='#0969DA'>DataFrame Axes Length**</font>\n",
    "\n",
    "**len(df.axes[0]):** Next up is our most verbose option – DataFrame Axes Length.\n",
    "\n",
    "This axes attribute will return your row axis, then you must count the length of it.\n",
    "\n",
    "Let’s break this one down. **df.axes** will return a tuple of your two axes for rows and columns. [0] will pull the first item (rows) from the tuple. Then finally **len()** will find the length, or how many items, you have in your axis which is your row count.\n",
    "\n",
    " Let's look through it step by step.\n",
    "\n",
    "- Return both axis (rows/columns)\n",
    "\n",
    "- Pull our the rows\n",
    "\n",
    "- Count the length"
   ]
  },
  {
   "cell_type": "code",
   "execution_count": null,
   "id": "1fa1cf1b",
   "metadata": {},
   "outputs": [
    {
     "data": {
      "text/plain": [
       "[RangeIndex(start=0, stop=161, step=1),\n",
       " Index(['Car', 'MPG', 'Cylinders', 'Displacement', 'Horsepower', 'Weight',\n",
       "        'Acceleration', 'Model', 'Origin', 'quantity', 'city'],\n",
       "       dtype='object')]"
      ]
     },
     "metadata": {},
     "output_type": "display_data"
    }
   ],
   "source": [
    "df_cars.axes"
   ]
  },
  {
   "cell_type": "code",
   "execution_count": null,
   "id": "4037480e",
   "metadata": {},
   "outputs": [
    {
     "data": {
      "text/plain": [
       "RangeIndex(start=0, stop=161, step=1)"
      ]
     },
     "metadata": {},
     "output_type": "display_data"
    }
   ],
   "source": [
    "df_cars.axes[0]"
   ]
  },
  {
   "cell_type": "code",
   "execution_count": null,
   "id": "cb51ec00",
   "metadata": {},
   "outputs": [
    {
     "data": {
      "text/plain": [
       "161"
      ]
     },
     "metadata": {},
     "output_type": "display_data"
    }
   ],
   "source": [
    "len(df_cars.axes[0])"
   ]
  },
  {
   "cell_type": "markdown",
   "id": "cc1bd63c",
   "metadata": {},
   "source": [
    "***"
   ]
  },
  {
   "cell_type": "markdown",
   "id": "a34575a3",
   "metadata": {},
   "source": [
    "# **Guided LAB 343.3.5 - Exploratory Data Analysis on CSV data - Basic insights from the Data**\n",
    "---\n"
   ]
  },
  {
   "cell_type": "markdown",
   "id": "45eb591f",
   "metadata": {},
   "source": [
    "## **Lab Overview**\n",
    "\n",
    "This lab focuses on introducing fundamental data analysis techniques using Python's Pandas library. We'll primarily work with a CSV file containing employee data, exploring various methods to load, manipulate, and gain insights from it.\n",
    "\n",
    "In this lab, we will demonstrate how to read a CSV file with or without a header, skip rows, skip columns, set columns to index, and many more with examples. And we will perform Exploratory Data Analysis EDA on a CSV file.\n",
    "\n",
    "**Key Activities:**\n",
    "\n",
    "1. **Data Loading and Initial Exploration:**  We'll begin by importing the Pandas library and utilizing the `read_csv()` function to load the employee dataset into a Pandas DataFrame. We'll then use methods like `head()`, `tail()`, and `info()` to get an initial overview of the data's structure and content.\n",
    "2. **Data Handling Techniques:** We will delve into practical data handling strategies, such as skipping rows or selecting specific columns during the data loading process using parameters like `skiprows` and `usecols` with `read_csv()`.\n",
    "3. **Basic Exploratory Data Analysis (EDA):** We'll perform basic EDA to understand the dataset's characteristics. This includes examining data types, identifying potential missing values, and assessing the overall shape and size of the DataFrame.\n",
    "\n",
    "**Learning Outcomes:**\n",
    "\n",
    "By the end of this lab, you will be proficient in:\n",
    "\n",
    "* Importing and utilizing the Pandas library in Google Colab.\n",
    "* Loading CSV data into a Pandas DataFrame.\n",
    "* Applying data manipulation techniques to extract desired information.\n",
    "* Performing basic EDA to gain insights from datasets."
   ]
  },
  {
   "cell_type": "markdown",
   "id": "0aef5319",
   "metadata": {},
   "source": [
    "## **Introduction:**\n",
    "Use the pandas read_csv() function to read a CSV file (comma-separated) into a Python pandas DataFrame. which supports options to read any delimited file.\n",
    "\n",
    "## **Dataset:**\n",
    "In this lab we will utilize the dummy employee dataset.\n",
    "\n",
    "[Click here to download employee dataset (employee.csv)](https://drive.google.com/file/d/14RV1xKIRzWS166LtGqnPC1Wg7eTlI_y1/view?usp=drive_link)\n",
    "\n",
    "---\n",
    "\n",
    "# **Begin**\n",
    "\n"
   ]
  },
  {
   "cell_type": "markdown",
   "id": "87a37af2",
   "metadata": {},
   "source": [
    "**Example 1: Reading Data from CSVs**\n",
    "\n",
    "Note: if you get error, use the line below:\n",
    "`df = pd.read_csv('employee.csv', on_bad_lines='skip')`\n",
    "\n"
   ]
  },
  {
   "cell_type": "code",
   "execution_count": null,
   "id": "cc0048e7",
   "metadata": {},
   "outputs": [],
   "source": [
    "import pandas as pd"
   ]
  },
  {
   "cell_type": "code",
   "execution_count": null,
   "id": "38443786",
   "metadata": {},
   "outputs": [
    {
     "data": {
      "text/html": [
       "<div>\n",
       "<style scoped>\n",
       "    .dataframe tbody tr th:only-of-type {\n",
       "        vertical-align: middle;\n",
       "    }\n",
       "\n",
       "    .dataframe tbody tr th {\n",
       "        vertical-align: top;\n",
       "    }\n",
       "\n",
       "    .dataframe thead th {\n",
       "        text-align: right;\n",
       "    }\n",
       "</style>\n",
       "<table border=\"1\" class=\"dataframe\">\n",
       "  <thead>\n",
       "    <tr style=\"text-align: right;\">\n",
       "      <th></th>\n",
       "      <th>Name</th>\n",
       "      <th>Age</th>\n",
       "      <th>Weight</th>\n",
       "      <th>Salary</th>\n",
       "    </tr>\n",
       "  </thead>\n",
       "  <tbody>\n",
       "    <tr>\n",
       "      <th>0</th>\n",
       "      <td>James</td>\n",
       "      <td>36.0</td>\n",
       "      <td>75.0</td>\n",
       "      <td>5428000.0</td>\n",
       "    </tr>\n",
       "    <tr>\n",
       "      <th>1</th>\n",
       "      <td>Villers</td>\n",
       "      <td>38.0</td>\n",
       "      <td>74.0</td>\n",
       "      <td>3428000.0</td>\n",
       "    </tr>\n",
       "    <tr>\n",
       "      <th>2</th>\n",
       "      <td>VKole</td>\n",
       "      <td>31.0</td>\n",
       "      <td>70.0</td>\n",
       "      <td>8428000.0</td>\n",
       "    </tr>\n",
       "    <tr>\n",
       "      <th>3</th>\n",
       "      <td>Smith</td>\n",
       "      <td>34.0</td>\n",
       "      <td>80.0</td>\n",
       "      <td>4428000.0</td>\n",
       "    </tr>\n",
       "    <tr>\n",
       "      <th>4</th>\n",
       "      <td>Gayle</td>\n",
       "      <td>40.0</td>\n",
       "      <td>100.0</td>\n",
       "      <td>4528000.0</td>\n",
       "    </tr>\n",
       "    <tr>\n",
       "      <th>5</th>\n",
       "      <td>Adam</td>\n",
       "      <td>40.0</td>\n",
       "      <td>NaN</td>\n",
       "      <td>4528000.0</td>\n",
       "    </tr>\n",
       "    <tr>\n",
       "      <th>6</th>\n",
       "      <td>Rooter</td>\n",
       "      <td>33.0</td>\n",
       "      <td>72.0</td>\n",
       "      <td>7028000.0</td>\n",
       "    </tr>\n",
       "    <tr>\n",
       "      <th>7</th>\n",
       "      <td>Peterson</td>\n",
       "      <td>42.0</td>\n",
       "      <td>85.0</td>\n",
       "      <td>2528000.0</td>\n",
       "    </tr>\n",
       "    <tr>\n",
       "      <th>8</th>\n",
       "      <td>lynda</td>\n",
       "      <td>42.0</td>\n",
       "      <td>85.0</td>\n",
       "      <td>NaN</td>\n",
       "    </tr>\n",
       "    <tr>\n",
       "      <th>9</th>\n",
       "      <td>NaN</td>\n",
       "      <td>42.0</td>\n",
       "      <td>85.0</td>\n",
       "      <td>NaN</td>\n",
       "    </tr>\n",
       "    <tr>\n",
       "      <th>10</th>\n",
       "      <td>Jenny</td>\n",
       "      <td>NaN</td>\n",
       "      <td>100.0</td>\n",
       "      <td>25632.0</td>\n",
       "    </tr>\n",
       "    <tr>\n",
       "      <th>11</th>\n",
       "      <td>Kenn</td>\n",
       "      <td>NaN</td>\n",
       "      <td>110.0</td>\n",
       "      <td>25632.0</td>\n",
       "    </tr>\n",
       "    <tr>\n",
       "      <th>12</th>\n",
       "      <td>Aly</td>\n",
       "      <td>NaN</td>\n",
       "      <td>90.0</td>\n",
       "      <td>25582.0</td>\n",
       "    </tr>\n",
       "    <tr>\n",
       "      <th>13</th>\n",
       "      <td>John</td>\n",
       "      <td>41.0</td>\n",
       "      <td>85.0</td>\n",
       "      <td>1528000.0</td>\n",
       "    </tr>\n",
       "    <tr>\n",
       "      <th>14</th>\n",
       "      <td>Ali</td>\n",
       "      <td>26.0</td>\n",
       "      <td>69.0</td>\n",
       "      <td>NaN</td>\n",
       "    </tr>\n",
       "  </tbody>\n",
       "</table>\n",
       "</div>"
      ],
      "text/plain": [
       "        Name   Age  Weight     Salary\n",
       "0      James  36.0    75.0  5428000.0\n",
       "1    Villers  38.0    74.0  3428000.0\n",
       "2      VKole  31.0    70.0  8428000.0\n",
       "3      Smith  34.0    80.0  4428000.0\n",
       "4      Gayle  40.0   100.0  4528000.0\n",
       "5       Adam  40.0     NaN  4528000.0\n",
       "6     Rooter  33.0    72.0  7028000.0\n",
       "7   Peterson  42.0    85.0  2528000.0\n",
       "8      lynda  42.0    85.0        NaN\n",
       "9        NaN  42.0    85.0        NaN\n",
       "10     Jenny   NaN   100.0    25632.0\n",
       "11      Kenn   NaN   110.0    25632.0\n",
       "12       Aly   NaN    90.0    25582.0\n",
       "13      John  41.0    85.0  1528000.0\n",
       "14       Ali  26.0    69.0        NaN"
      ]
     },
     "metadata": {},
     "output_type": "display_data"
    }
   ],
   "source": [
    "# Check to make sure the absolute/relative file path is correct\n",
    "df = pd.read_csv('./Data/employee.csv')\n",
    "df\n"
   ]
  },
  {
   "cell_type": "markdown",
   "id": "9c94c9a5",
   "metadata": {},
   "source": [
    "Note: Use the sep or delimiter argument to specify the separator of the columns. By default, it uses a comma.\n"
   ]
  },
  {
   "cell_type": "markdown",
   "id": "d3c3b748",
   "metadata": {},
   "source": [
    "**Example 2: Viewing or Explore your Data**\n",
    "\n",
    "\n",
    "The first thing to do when opening a new dataset is to print out a few rows to keep as a visual reference. We accomplish this with .head():\n",
    "\n",
    "\n",
    "\n"
   ]
  },
  {
   "cell_type": "code",
   "execution_count": null,
   "id": "14fbde64",
   "metadata": {},
   "outputs": [
    {
     "data": {
      "text/html": [
       "<div>\n",
       "<style scoped>\n",
       "    .dataframe tbody tr th:only-of-type {\n",
       "        vertical-align: middle;\n",
       "    }\n",
       "\n",
       "    .dataframe tbody tr th {\n",
       "        vertical-align: top;\n",
       "    }\n",
       "\n",
       "    .dataframe thead th {\n",
       "        text-align: right;\n",
       "    }\n",
       "</style>\n",
       "<table border=\"1\" class=\"dataframe\">\n",
       "  <thead>\n",
       "    <tr style=\"text-align: right;\">\n",
       "      <th></th>\n",
       "      <th>Name</th>\n",
       "      <th>Age</th>\n",
       "      <th>Weight</th>\n",
       "      <th>Salary</th>\n",
       "    </tr>\n",
       "  </thead>\n",
       "  <tbody>\n",
       "    <tr>\n",
       "      <th>0</th>\n",
       "      <td>James</td>\n",
       "      <td>36.0</td>\n",
       "      <td>75.0</td>\n",
       "      <td>5428000.0</td>\n",
       "    </tr>\n",
       "    <tr>\n",
       "      <th>1</th>\n",
       "      <td>Villers</td>\n",
       "      <td>38.0</td>\n",
       "      <td>74.0</td>\n",
       "      <td>3428000.0</td>\n",
       "    </tr>\n",
       "    <tr>\n",
       "      <th>2</th>\n",
       "      <td>VKole</td>\n",
       "      <td>31.0</td>\n",
       "      <td>70.0</td>\n",
       "      <td>8428000.0</td>\n",
       "    </tr>\n",
       "    <tr>\n",
       "      <th>3</th>\n",
       "      <td>Smith</td>\n",
       "      <td>34.0</td>\n",
       "      <td>80.0</td>\n",
       "      <td>4428000.0</td>\n",
       "    </tr>\n",
       "    <tr>\n",
       "      <th>4</th>\n",
       "      <td>Gayle</td>\n",
       "      <td>40.0</td>\n",
       "      <td>100.0</td>\n",
       "      <td>4528000.0</td>\n",
       "    </tr>\n",
       "  </tbody>\n",
       "</table>\n",
       "</div>"
      ],
      "text/plain": [
       "      Name   Age  Weight     Salary\n",
       "0    James  36.0    75.0  5428000.0\n",
       "1  Villers  38.0    74.0  3428000.0\n",
       "2    VKole  31.0    70.0  8428000.0\n",
       "3    Smith  34.0    80.0  4428000.0\n",
       "4    Gayle  40.0   100.0  4528000.0"
      ]
     },
     "metadata": {},
     "output_type": "display_data"
    }
   ],
   "source": [
    "df.head() # Show first 5 rows"
   ]
  },
  {
   "cell_type": "markdown",
   "id": "e87e1219",
   "metadata": {},
   "source": [
    ".head() outputs the first five rows of your DataFrame by default, but we could also pass a number as well. df.head(10) would output the top ten rows.\n"
   ]
  },
  {
   "cell_type": "code",
   "execution_count": null,
   "id": "39e7d8f7",
   "metadata": {},
   "outputs": [
    {
     "data": {
      "text/html": [
       "<div>\n",
       "<style scoped>\n",
       "    .dataframe tbody tr th:only-of-type {\n",
       "        vertical-align: middle;\n",
       "    }\n",
       "\n",
       "    .dataframe tbody tr th {\n",
       "        vertical-align: top;\n",
       "    }\n",
       "\n",
       "    .dataframe thead th {\n",
       "        text-align: right;\n",
       "    }\n",
       "</style>\n",
       "<table border=\"1\" class=\"dataframe\">\n",
       "  <thead>\n",
       "    <tr style=\"text-align: right;\">\n",
       "      <th></th>\n",
       "      <th>Name</th>\n",
       "      <th>Age</th>\n",
       "      <th>Weight</th>\n",
       "      <th>Salary</th>\n",
       "    </tr>\n",
       "  </thead>\n",
       "  <tbody>\n",
       "    <tr>\n",
       "      <th>0</th>\n",
       "      <td>James</td>\n",
       "      <td>36.0</td>\n",
       "      <td>75.0</td>\n",
       "      <td>5428000.0</td>\n",
       "    </tr>\n",
       "    <tr>\n",
       "      <th>1</th>\n",
       "      <td>Villers</td>\n",
       "      <td>38.0</td>\n",
       "      <td>74.0</td>\n",
       "      <td>3428000.0</td>\n",
       "    </tr>\n",
       "    <tr>\n",
       "      <th>2</th>\n",
       "      <td>VKole</td>\n",
       "      <td>31.0</td>\n",
       "      <td>70.0</td>\n",
       "      <td>8428000.0</td>\n",
       "    </tr>\n",
       "    <tr>\n",
       "      <th>3</th>\n",
       "      <td>Smith</td>\n",
       "      <td>34.0</td>\n",
       "      <td>80.0</td>\n",
       "      <td>4428000.0</td>\n",
       "    </tr>\n",
       "    <tr>\n",
       "      <th>4</th>\n",
       "      <td>Gayle</td>\n",
       "      <td>40.0</td>\n",
       "      <td>100.0</td>\n",
       "      <td>4528000.0</td>\n",
       "    </tr>\n",
       "    <tr>\n",
       "      <th>5</th>\n",
       "      <td>Adam</td>\n",
       "      <td>40.0</td>\n",
       "      <td>NaN</td>\n",
       "      <td>4528000.0</td>\n",
       "    </tr>\n",
       "    <tr>\n",
       "      <th>6</th>\n",
       "      <td>Rooter</td>\n",
       "      <td>33.0</td>\n",
       "      <td>72.0</td>\n",
       "      <td>7028000.0</td>\n",
       "    </tr>\n",
       "    <tr>\n",
       "      <th>7</th>\n",
       "      <td>Peterson</td>\n",
       "      <td>42.0</td>\n",
       "      <td>85.0</td>\n",
       "      <td>2528000.0</td>\n",
       "    </tr>\n",
       "    <tr>\n",
       "      <th>8</th>\n",
       "      <td>lynda</td>\n",
       "      <td>42.0</td>\n",
       "      <td>85.0</td>\n",
       "      <td>NaN</td>\n",
       "    </tr>\n",
       "    <tr>\n",
       "      <th>9</th>\n",
       "      <td>NaN</td>\n",
       "      <td>42.0</td>\n",
       "      <td>85.0</td>\n",
       "      <td>NaN</td>\n",
       "    </tr>\n",
       "  </tbody>\n",
       "</table>\n",
       "</div>"
      ],
      "text/plain": [
       "       Name   Age  Weight     Salary\n",
       "0     James  36.0    75.0  5428000.0\n",
       "1   Villers  38.0    74.0  3428000.0\n",
       "2     VKole  31.0    70.0  8428000.0\n",
       "3     Smith  34.0    80.0  4428000.0\n",
       "4     Gayle  40.0   100.0  4528000.0\n",
       "5      Adam  40.0     NaN  4528000.0\n",
       "6    Rooter  33.0    72.0  7028000.0\n",
       "7  Peterson  42.0    85.0  2528000.0\n",
       "8     lynda  42.0    85.0        NaN\n",
       "9       NaN  42.0    85.0        NaN"
      ]
     },
     "metadata": {},
     "output_type": "display_data"
    }
   ],
   "source": [
    "\n",
    "df.head(10)"
   ]
  },
  {
   "cell_type": "markdown",
   "id": "74d43728",
   "metadata": {},
   "source": [
    "\n",
    "To see the last five rows, use df.tail(), which also accepts a number and prints the bottom two rows in this case.\n",
    "\n"
   ]
  },
  {
   "cell_type": "code",
   "execution_count": null,
   "id": "5c6040bd",
   "metadata": {},
   "outputs": [
    {
     "data": {
      "text/html": [
       "<div>\n",
       "<style scoped>\n",
       "    .dataframe tbody tr th:only-of-type {\n",
       "        vertical-align: middle;\n",
       "    }\n",
       "\n",
       "    .dataframe tbody tr th {\n",
       "        vertical-align: top;\n",
       "    }\n",
       "\n",
       "    .dataframe thead th {\n",
       "        text-align: right;\n",
       "    }\n",
       "</style>\n",
       "<table border=\"1\" class=\"dataframe\">\n",
       "  <thead>\n",
       "    <tr style=\"text-align: right;\">\n",
       "      <th></th>\n",
       "      <th>Name</th>\n",
       "      <th>Age</th>\n",
       "      <th>Weight</th>\n",
       "      <th>Salary</th>\n",
       "    </tr>\n",
       "  </thead>\n",
       "  <tbody>\n",
       "    <tr>\n",
       "      <th>13</th>\n",
       "      <td>John</td>\n",
       "      <td>41.0</td>\n",
       "      <td>85.0</td>\n",
       "      <td>1528000.0</td>\n",
       "    </tr>\n",
       "    <tr>\n",
       "      <th>14</th>\n",
       "      <td>Ali</td>\n",
       "      <td>26.0</td>\n",
       "      <td>69.0</td>\n",
       "      <td>NaN</td>\n",
       "    </tr>\n",
       "  </tbody>\n",
       "</table>\n",
       "</div>"
      ],
      "text/plain": [
       "    Name   Age  Weight     Salary\n",
       "13  John  41.0    85.0  1528000.0\n",
       "14   Ali  26.0    69.0        NaN"
      ]
     },
     "metadata": {},
     "output_type": "display_data"
    }
   ],
   "source": [
    "df.tail(2)"
   ]
  },
  {
   "cell_type": "markdown",
   "id": "570a4692",
   "metadata": {},
   "source": [
    "**Example 3: Getting Information About your Data**\n",
    "\n",
    ".info() should be one of the very first commands you run after loading your data:\n",
    "\n",
    "\n"
   ]
  },
  {
   "cell_type": "code",
   "execution_count": null,
   "id": "fafbcb2f",
   "metadata": {},
   "outputs": [
    {
     "name": "stdout",
     "output_type": "stream",
     "text": [
      "<class 'pandas.core.frame.DataFrame'>\n",
      "RangeIndex: 15 entries, 0 to 14\n",
      "Data columns (total 4 columns):\n",
      " #   Column  Non-Null Count  Dtype  \n",
      "---  ------  --------------  -----  \n",
      " 0   Name    14 non-null     object \n",
      " 1   Age     12 non-null     float64\n",
      " 2   Weight  14 non-null     float64\n",
      " 3   Salary  12 non-null     float64\n",
      "dtypes: float64(3), object(1)\n",
      "memory usage: 612.0+ bytes\n"
     ]
    }
   ],
   "source": [
    "\n",
    "df.info()"
   ]
  },
  {
   "cell_type": "markdown",
   "id": "ce8b8e70",
   "metadata": {},
   "source": [
    "**.info()** provides the essential details about your dataset such as the number of rows and columns, the number of non-null values, what type of data is in each column, and how much memory your DataFrame is using.\n",
    "\n",
    "Another fast and useful attribute is .shape, which returns just a tuple of (rows, columns):\n",
    "\n",
    "\n",
    "\n",
    "\n",
    "\n",
    "\n",
    "\n"
   ]
  },
  {
   "cell_type": "code",
   "execution_count": null,
   "id": "8e673a01",
   "metadata": {},
   "outputs": [
    {
     "data": {
      "text/plain": [
       "(15, 4)"
      ]
     },
     "metadata": {},
     "output_type": "display_data"
    }
   ],
   "source": [
    "df.shape\n"
   ]
  },
  {
   "cell_type": "markdown",
   "id": "5b4cebb0",
   "metadata": {},
   "source": [
    "Note that .shape has no parentheses and is a simple tuple format (rows, columns). So, we have 15 rows and 4 columns in our employeeDataFrame."
   ]
  },
  {
   "cell_type": "markdown",
   "id": "f81f3940",
   "metadata": {},
   "source": [
    "**Example 4: Skip Rows**\n",
    "\n",
    "Sometimes, you may need to skip the first row or skip the footer rows. To do this, use skiprows and skipfooter params, respectively.\n",
    "\n",
    "\n",
    "   \n"
   ]
  },
  {
   "cell_type": "code",
   "execution_count": null,
   "id": "0dc356e5",
   "metadata": {},
   "outputs": [
    {
     "name": "stdout",
     "output_type": "stream",
     "text": [
      "           0     1      2          3\n",
      "0      Gayle  40.0  100.0  4528000.0\n",
      "1       Adam  40.0    NaN  4528000.0\n",
      "2     Rooter  33.0   72.0  7028000.0\n",
      "3   Peterson  42.0   85.0  2528000.0\n",
      "4      lynda  42.0   85.0        NaN\n",
      "5        NaN  42.0   85.0        NaN\n",
      "6      Jenny   NaN  100.0    25632.0\n",
      "7       Kenn   NaN  110.0    25632.0\n",
      "8        Aly   NaN   90.0    25582.0\n",
      "9       John  41.0   85.0  1528000.0\n",
      "10       Ali  26.0   69.0        NaN\n",
      "\n",
      "       name   age  weight     salary\n",
      "0      Adam  40.0     NaN  4528000.0\n",
      "1    Rooter  33.0    72.0  7028000.0\n",
      "2  Peterson  42.0    85.0  2528000.0\n",
      "3     lynda  42.0    85.0        NaN\n",
      "4       NaN  42.0    85.0        NaN\n",
      "5     Jenny   NaN   100.0    25632.0\n",
      "6      Kenn   NaN   110.0    25632.0\n",
      "7       Aly   NaN    90.0    25582.0\n",
      "8      John  41.0    85.0  1528000.0\n",
      "9       Ali  26.0    69.0        NaN\n"
     ]
    }
   ],
   "source": [
    "\n",
    "# Skip first 5 rows including headers\n",
    "df_skip5 = pd.read_csv('./Data/employee.csv', header=None, skiprows=5)\n",
    "\n",
    "# Skip first 5 rows after headers\n",
    "df_skip5_exclude = pd.read_csv('./Data/employee.csv', header=0, names=['name', 'age', 'weight', 'salary'], skiprows=5)\n",
    "print(df_skip5)\n",
    "print()\n",
    "print(df_skip5_exclude)"
   ]
  },
  {
   "cell_type": "markdown",
   "id": "5d7fd78b",
   "metadata": {},
   "source": [
    "**Example 5: Load Only Selected Columns**\n",
    "\n",
    "There are two common ways to use this argument:\n",
    "\n",
    "**Method 1:** Use usecols with Column Names\n",
    "\n",
    "Syntax:\n",
    "`df = pd.read_csv('my_data.csv', usecols=['column name one', 'column name two'])`\n",
    "\n",
    "**Method 2:** Use usecols with Column Positions\n",
    "\n",
    "Syntax:\n",
    "`df = pd.read_csv('my_data.csv', usecols=[0, 2])`\n",
    "\n",
    "\n",
    "\n",
    "\n"
   ]
  },
  {
   "cell_type": "code",
   "execution_count": null,
   "id": "778bbf3c",
   "metadata": {},
   "outputs": [
    {
     "data": {
      "text/html": [
       "<div>\n",
       "<style scoped>\n",
       "    .dataframe tbody tr th:only-of-type {\n",
       "        vertical-align: middle;\n",
       "    }\n",
       "\n",
       "    .dataframe tbody tr th {\n",
       "        vertical-align: top;\n",
       "    }\n",
       "\n",
       "    .dataframe thead th {\n",
       "        text-align: right;\n",
       "    }\n",
       "</style>\n",
       "<table border=\"1\" class=\"dataframe\">\n",
       "  <thead>\n",
       "    <tr style=\"text-align: right;\">\n",
       "      <th></th>\n",
       "      <th>Name</th>\n",
       "      <th>Salary</th>\n",
       "    </tr>\n",
       "  </thead>\n",
       "  <tbody>\n",
       "    <tr>\n",
       "      <th>0</th>\n",
       "      <td>James</td>\n",
       "      <td>5428000.0</td>\n",
       "    </tr>\n",
       "    <tr>\n",
       "      <th>1</th>\n",
       "      <td>Villers</td>\n",
       "      <td>3428000.0</td>\n",
       "    </tr>\n",
       "    <tr>\n",
       "      <th>2</th>\n",
       "      <td>VKole</td>\n",
       "      <td>8428000.0</td>\n",
       "    </tr>\n",
       "    <tr>\n",
       "      <th>3</th>\n",
       "      <td>Smith</td>\n",
       "      <td>4428000.0</td>\n",
       "    </tr>\n",
       "    <tr>\n",
       "      <th>4</th>\n",
       "      <td>Gayle</td>\n",
       "      <td>4528000.0</td>\n",
       "    </tr>\n",
       "    <tr>\n",
       "      <th>5</th>\n",
       "      <td>Adam</td>\n",
       "      <td>4528000.0</td>\n",
       "    </tr>\n",
       "    <tr>\n",
       "      <th>6</th>\n",
       "      <td>Rooter</td>\n",
       "      <td>7028000.0</td>\n",
       "    </tr>\n",
       "    <tr>\n",
       "      <th>7</th>\n",
       "      <td>Peterson</td>\n",
       "      <td>2528000.0</td>\n",
       "    </tr>\n",
       "    <tr>\n",
       "      <th>8</th>\n",
       "      <td>lynda</td>\n",
       "      <td>NaN</td>\n",
       "    </tr>\n",
       "    <tr>\n",
       "      <th>9</th>\n",
       "      <td>NaN</td>\n",
       "      <td>NaN</td>\n",
       "    </tr>\n",
       "    <tr>\n",
       "      <th>10</th>\n",
       "      <td>Jenny</td>\n",
       "      <td>25632.0</td>\n",
       "    </tr>\n",
       "    <tr>\n",
       "      <th>11</th>\n",
       "      <td>Kenn</td>\n",
       "      <td>25632.0</td>\n",
       "    </tr>\n",
       "    <tr>\n",
       "      <th>12</th>\n",
       "      <td>Aly</td>\n",
       "      <td>25582.0</td>\n",
       "    </tr>\n",
       "    <tr>\n",
       "      <th>13</th>\n",
       "      <td>John</td>\n",
       "      <td>1528000.0</td>\n",
       "    </tr>\n",
       "    <tr>\n",
       "      <th>14</th>\n",
       "      <td>Ali</td>\n",
       "      <td>NaN</td>\n",
       "    </tr>\n",
       "  </tbody>\n",
       "</table>\n",
       "</div>"
      ],
      "text/plain": [
       "        Name     Salary\n",
       "0      James  5428000.0\n",
       "1    Villers  3428000.0\n",
       "2      VKole  8428000.0\n",
       "3      Smith  4428000.0\n",
       "4      Gayle  4528000.0\n",
       "5       Adam  4528000.0\n",
       "6     Rooter  7028000.0\n",
       "7   Peterson  2528000.0\n",
       "8      lynda        NaN\n",
       "9        NaN        NaN\n",
       "10     Jenny    25632.0\n",
       "11      Kenn    25632.0\n",
       "12       Aly    25582.0\n",
       "13      John  1528000.0\n",
       "14       Ali        NaN"
      ]
     },
     "metadata": {},
     "output_type": "display_data"
    }
   ],
   "source": [
    "pd.read_csv('./Data/employee.csv', usecols=['Name', 'Salary'])"
   ]
  },
  {
   "cell_type": "code",
   "execution_count": null,
   "id": "338e6cfa",
   "metadata": {},
   "outputs": [
    {
     "data": {
      "text/html": [
       "<div>\n",
       "<style scoped>\n",
       "    .dataframe tbody tr th:only-of-type {\n",
       "        vertical-align: middle;\n",
       "    }\n",
       "\n",
       "    .dataframe tbody tr th {\n",
       "        vertical-align: top;\n",
       "    }\n",
       "\n",
       "    .dataframe thead th {\n",
       "        text-align: right;\n",
       "    }\n",
       "</style>\n",
       "<table border=\"1\" class=\"dataframe\">\n",
       "  <thead>\n",
       "    <tr style=\"text-align: right;\">\n",
       "      <th></th>\n",
       "      <th>Name</th>\n",
       "      <th>Salary</th>\n",
       "    </tr>\n",
       "  </thead>\n",
       "  <tbody>\n",
       "    <tr>\n",
       "      <th>0</th>\n",
       "      <td>James</td>\n",
       "      <td>5428000.0</td>\n",
       "    </tr>\n",
       "    <tr>\n",
       "      <th>1</th>\n",
       "      <td>Villers</td>\n",
       "      <td>3428000.0</td>\n",
       "    </tr>\n",
       "    <tr>\n",
       "      <th>2</th>\n",
       "      <td>VKole</td>\n",
       "      <td>8428000.0</td>\n",
       "    </tr>\n",
       "    <tr>\n",
       "      <th>3</th>\n",
       "      <td>Smith</td>\n",
       "      <td>4428000.0</td>\n",
       "    </tr>\n",
       "    <tr>\n",
       "      <th>4</th>\n",
       "      <td>Gayle</td>\n",
       "      <td>4528000.0</td>\n",
       "    </tr>\n",
       "    <tr>\n",
       "      <th>5</th>\n",
       "      <td>Adam</td>\n",
       "      <td>4528000.0</td>\n",
       "    </tr>\n",
       "    <tr>\n",
       "      <th>6</th>\n",
       "      <td>Rooter</td>\n",
       "      <td>7028000.0</td>\n",
       "    </tr>\n",
       "    <tr>\n",
       "      <th>7</th>\n",
       "      <td>Peterson</td>\n",
       "      <td>2528000.0</td>\n",
       "    </tr>\n",
       "    <tr>\n",
       "      <th>8</th>\n",
       "      <td>lynda</td>\n",
       "      <td>NaN</td>\n",
       "    </tr>\n",
       "    <tr>\n",
       "      <th>9</th>\n",
       "      <td>NaN</td>\n",
       "      <td>NaN</td>\n",
       "    </tr>\n",
       "    <tr>\n",
       "      <th>10</th>\n",
       "      <td>Jenny</td>\n",
       "      <td>25632.0</td>\n",
       "    </tr>\n",
       "    <tr>\n",
       "      <th>11</th>\n",
       "      <td>Kenn</td>\n",
       "      <td>25632.0</td>\n",
       "    </tr>\n",
       "    <tr>\n",
       "      <th>12</th>\n",
       "      <td>Aly</td>\n",
       "      <td>25582.0</td>\n",
       "    </tr>\n",
       "    <tr>\n",
       "      <th>13</th>\n",
       "      <td>John</td>\n",
       "      <td>1528000.0</td>\n",
       "    </tr>\n",
       "    <tr>\n",
       "      <th>14</th>\n",
       "      <td>Ali</td>\n",
       "      <td>NaN</td>\n",
       "    </tr>\n",
       "  </tbody>\n",
       "</table>\n",
       "</div>"
      ],
      "text/plain": [
       "        Name     Salary\n",
       "0      James  5428000.0\n",
       "1    Villers  3428000.0\n",
       "2      VKole  8428000.0\n",
       "3      Smith  4428000.0\n",
       "4      Gayle  4528000.0\n",
       "5       Adam  4528000.0\n",
       "6     Rooter  7028000.0\n",
       "7   Peterson  2528000.0\n",
       "8      lynda        NaN\n",
       "9        NaN        NaN\n",
       "10     Jenny    25632.0\n",
       "11      Kenn    25632.0\n",
       "12       Aly    25582.0\n",
       "13      John  1528000.0\n",
       "14       Ali        NaN"
      ]
     },
     "metadata": {},
     "output_type": "display_data"
    }
   ],
   "source": [
    "pd.read_csv('./Data/employee.csv', usecols =[0,3])\n"
   ]
  },
  {
   "cell_type": "markdown",
   "id": "10505876",
   "metadata": {},
   "source": [
    "***"
   ]
  },
  {
   "cell_type": "markdown",
   "id": "919cfc3a",
   "metadata": {},
   "source": [
    "# **Guided Lab 343.3.6 - Selecting Columns in Pandas DataFrames**\n",
    "\n",
    "---\n",
    "\n"
   ]
  },
  {
   "cell_type": "markdown",
   "id": "a18bf10d",
   "metadata": {},
   "source": [
    "## **Learning Objective:**\n",
    "This lab focuses on accessing and selecting specific columns from Pandas DataFrames, a fundamental skill in data manipulation and analysis.\n",
    "\n",
    "By the end this lab, learners will be able to Select any specified column or columns from Pandas Dataframe.\n",
    "\n",
    "**Introduction:**\n",
    "\n",
    "Pandas DataFrames provide flexible ways to select columns, including:\n",
    "\n",
    "1. **Column Attribute:** Use square brackets `[]` with the column name for single column selection or a list of column names for multiple columns.\n",
    "2. **Column Index Number:** Access columns using their index number within the DataFrame.\n",
    "\n",
    "**Lab Activities:**\n",
    "\n",
    "1. **Import Dataset:** Begin by importing the `cars.json` dataset into a Pandas DataFrame named `df_cars`.\n",
    "2. **Select Single Column:** Extract the 'Car' column to demonstrate single column selection.\n",
    "3. **Select Multiple Columns:** Select 'Car', 'Model', and 'quantity' columns to illustrate multiple column selection.\n",
    "4. **Select by Column Index:** Practice selecting columns using their index number.\n",
    "5. **Continue Learning:** This lab serves as an introduction. Further exploration of column selection techniques will be covered later in the module.\n",
    "\n"
   ]
  },
  {
   "cell_type": "markdown",
   "id": "a0ed01ff",
   "metadata": {},
   "source": [
    "## **Introduction:**\n",
    "**Selecting columns by using column attribute**\n",
    "\n",
    "- To select a single column, use square brackets [ ] with the column name of the column of interest.\n",
    "\n",
    "- To select multiple columns, use a list of column names within the selection brackets [ ].\n",
    "\n",
    "**Syntax:**\n",
    "\n",
    "```\n",
    "# select column to Series\n",
    "s = df['colName']\n",
    "\n",
    "# select column to dataframe\n",
    "df = df[['colName']]\n",
    "\n",
    "# select two or more column\n",
    "df = df[['ColOne','colTwo']]  \n",
    "\n",
    "# select column by column index number\n",
    "s = df[df.columns[0]]  \n",
    "\n",
    "# select columns by column index numbers\n",
    "df = df.columns[[0, 3, 4]]\n",
    "```\n",
    "\n"
   ]
  },
  {
   "cell_type": "markdown",
   "id": "460d7fd4",
   "metadata": {},
   "source": [
    "\n",
    "\n",
    "---\n",
    "\n",
    "## **Dataset:**\n",
    "\n",
    "The lab utilizes the [`cars.json`](https://drive.google.com/file/d/1CXAK8gbuLtc2NNOXVUgmja8fDg0TrNZm/view) dataset, providing a practical context for applying column selection methods.\n",
    "\n",
    " Let import cars dataset in Panda dataframe."
   ]
  },
  {
   "cell_type": "code",
   "execution_count": null,
   "id": "a594d357",
   "metadata": {},
   "outputs": [],
   "source": [
    "import pandas as pd"
   ]
  },
  {
   "cell_type": "code",
   "execution_count": null,
   "id": "be7e21a7",
   "metadata": {},
   "outputs": [
    {
     "data": {
      "text/html": [
       "<div>\n",
       "<style scoped>\n",
       "    .dataframe tbody tr th:only-of-type {\n",
       "        vertical-align: middle;\n",
       "    }\n",
       "\n",
       "    .dataframe tbody tr th {\n",
       "        vertical-align: top;\n",
       "    }\n",
       "\n",
       "    .dataframe thead th {\n",
       "        text-align: right;\n",
       "    }\n",
       "</style>\n",
       "<table border=\"1\" class=\"dataframe\">\n",
       "  <thead>\n",
       "    <tr style=\"text-align: right;\">\n",
       "      <th></th>\n",
       "      <th>Car</th>\n",
       "      <th>MPG</th>\n",
       "      <th>Cylinders</th>\n",
       "      <th>Displacement</th>\n",
       "      <th>Horsepower</th>\n",
       "      <th>Weight</th>\n",
       "      <th>Acceleration</th>\n",
       "      <th>Model</th>\n",
       "      <th>Origin</th>\n",
       "      <th>quantity</th>\n",
       "      <th>city</th>\n",
       "    </tr>\n",
       "  </thead>\n",
       "  <tbody>\n",
       "    <tr>\n",
       "      <th>0</th>\n",
       "      <td>Chevrolet Vega</td>\n",
       "      <td>25.0</td>\n",
       "      <td>4</td>\n",
       "      <td>140.0</td>\n",
       "      <td>75</td>\n",
       "      <td>2542</td>\n",
       "      <td>17.0</td>\n",
       "      <td>74</td>\n",
       "      <td>US</td>\n",
       "      <td>177</td>\n",
       "      <td>NJ</td>\n",
       "    </tr>\n",
       "    <tr>\n",
       "      <th>1</th>\n",
       "      <td>Chevrolet Vega (sw)</td>\n",
       "      <td>22.0</td>\n",
       "      <td>4</td>\n",
       "      <td>140.0</td>\n",
       "      <td>72</td>\n",
       "      <td>2408</td>\n",
       "      <td>19.0</td>\n",
       "      <td>71</td>\n",
       "      <td>US</td>\n",
       "      <td>91</td>\n",
       "      <td>DALLAS</td>\n",
       "    </tr>\n",
       "    <tr>\n",
       "      <th>2</th>\n",
       "      <td>Chevrolet Vega 2300</td>\n",
       "      <td>28.0</td>\n",
       "      <td>4</td>\n",
       "      <td>140.0</td>\n",
       "      <td>90</td>\n",
       "      <td>2264</td>\n",
       "      <td>15.5</td>\n",
       "      <td>71</td>\n",
       "      <td>US</td>\n",
       "      <td>74</td>\n",
       "      <td>TEXAS</td>\n",
       "    </tr>\n",
       "    <tr>\n",
       "      <th>3</th>\n",
       "      <td>Chevrolet Woody</td>\n",
       "      <td>24.5</td>\n",
       "      <td>4</td>\n",
       "      <td>98.0</td>\n",
       "      <td>60</td>\n",
       "      <td>2164</td>\n",
       "      <td>22.1</td>\n",
       "      <td>76</td>\n",
       "      <td>US</td>\n",
       "      <td>241</td>\n",
       "      <td>OH</td>\n",
       "    </tr>\n",
       "    <tr>\n",
       "      <th>4</th>\n",
       "      <td>Chevrolete Chevelle Malibu</td>\n",
       "      <td>16.0</td>\n",
       "      <td>6</td>\n",
       "      <td>250.0</td>\n",
       "      <td>105</td>\n",
       "      <td>3897</td>\n",
       "      <td>18.5</td>\n",
       "      <td>75</td>\n",
       "      <td>US</td>\n",
       "      <td>206</td>\n",
       "      <td>NewYork</td>\n",
       "    </tr>\n",
       "    <tr>\n",
       "      <th>...</th>\n",
       "      <td>...</td>\n",
       "      <td>...</td>\n",
       "      <td>...</td>\n",
       "      <td>...</td>\n",
       "      <td>...</td>\n",
       "      <td>...</td>\n",
       "      <td>...</td>\n",
       "      <td>...</td>\n",
       "      <td>...</td>\n",
       "      <td>...</td>\n",
       "      <td>...</td>\n",
       "    </tr>\n",
       "    <tr>\n",
       "      <th>156</th>\n",
       "      <td>Mercury Capri v6</td>\n",
       "      <td>21.0</td>\n",
       "      <td>6</td>\n",
       "      <td>155.0</td>\n",
       "      <td>107</td>\n",
       "      <td>2472</td>\n",
       "      <td>14.0</td>\n",
       "      <td>73</td>\n",
       "      <td>US</td>\n",
       "      <td>158</td>\n",
       "      <td>NewYork</td>\n",
       "    </tr>\n",
       "    <tr>\n",
       "      <th>157</th>\n",
       "      <td>Mercury Cougar Brougham</td>\n",
       "      <td>15.0</td>\n",
       "      <td>8</td>\n",
       "      <td>302.0</td>\n",
       "      <td>130</td>\n",
       "      <td>4295</td>\n",
       "      <td>14.9</td>\n",
       "      <td>77</td>\n",
       "      <td>US</td>\n",
       "      <td>27</td>\n",
       "      <td>NJ</td>\n",
       "    </tr>\n",
       "    <tr>\n",
       "      <th>158</th>\n",
       "      <td>Mercury Grand Marquis</td>\n",
       "      <td>16.5</td>\n",
       "      <td>8</td>\n",
       "      <td>351.0</td>\n",
       "      <td>138</td>\n",
       "      <td>3955</td>\n",
       "      <td>13.2</td>\n",
       "      <td>79</td>\n",
       "      <td>US</td>\n",
       "      <td>332</td>\n",
       "      <td>DALLAS</td>\n",
       "    </tr>\n",
       "    <tr>\n",
       "      <th>159</th>\n",
       "      <td>Mercury Lynx l</td>\n",
       "      <td>36.0</td>\n",
       "      <td>4</td>\n",
       "      <td>98.0</td>\n",
       "      <td>70</td>\n",
       "      <td>2125</td>\n",
       "      <td>17.3</td>\n",
       "      <td>82</td>\n",
       "      <td>US</td>\n",
       "      <td>425</td>\n",
       "      <td>TEXAS</td>\n",
       "    </tr>\n",
       "    <tr>\n",
       "      <th>160</th>\n",
       "      <td>Mercury Marquis</td>\n",
       "      <td>11.0</td>\n",
       "      <td>8</td>\n",
       "      <td>429.0</td>\n",
       "      <td>208</td>\n",
       "      <td>4633</td>\n",
       "      <td>11.0</td>\n",
       "      <td>72</td>\n",
       "      <td>US</td>\n",
       "      <td>112</td>\n",
       "      <td>OH</td>\n",
       "    </tr>\n",
       "  </tbody>\n",
       "</table>\n",
       "<p>161 rows × 11 columns</p>\n",
       "</div>"
      ],
      "text/plain": [
       "                            Car   MPG  Cylinders  Displacement  Horsepower  \\\n",
       "0                Chevrolet Vega  25.0          4         140.0          75   \n",
       "1           Chevrolet Vega (sw)  22.0          4         140.0          72   \n",
       "2           Chevrolet Vega 2300  28.0          4         140.0          90   \n",
       "3               Chevrolet Woody  24.5          4          98.0          60   \n",
       "4    Chevrolete Chevelle Malibu  16.0          6         250.0         105   \n",
       "..                          ...   ...        ...           ...         ...   \n",
       "156            Mercury Capri v6  21.0          6         155.0         107   \n",
       "157     Mercury Cougar Brougham  15.0          8         302.0         130   \n",
       "158       Mercury Grand Marquis  16.5          8         351.0         138   \n",
       "159              Mercury Lynx l  36.0          4          98.0          70   \n",
       "160             Mercury Marquis  11.0          8         429.0         208   \n",
       "\n",
       "     Weight  Acceleration  Model Origin  quantity     city  \n",
       "0      2542          17.0     74     US       177       NJ  \n",
       "1      2408          19.0     71     US        91   DALLAS  \n",
       "2      2264          15.5     71     US        74    TEXAS  \n",
       "3      2164          22.1     76     US       241       OH  \n",
       "4      3897          18.5     75     US       206  NewYork  \n",
       "..      ...           ...    ...    ...       ...      ...  \n",
       "156    2472          14.0     73     US       158  NewYork  \n",
       "157    4295          14.9     77     US        27       NJ  \n",
       "158    3955          13.2     79     US       332   DALLAS  \n",
       "159    2125          17.3     82     US       425    TEXAS  \n",
       "160    4633          11.0     72     US       112       OH  \n",
       "\n",
       "[161 rows x 11 columns]"
      ]
     },
     "metadata": {},
     "output_type": "display_data"
    }
   ],
   "source": [
    "\n",
    "df_cars = pd.read_json('./Data/cars.json')\n",
    "df_cars\n"
   ]
  },
  {
   "cell_type": "markdown",
   "id": "c95e0bff",
   "metadata": {},
   "source": [
    "## **Example - Select One Column:**\n",
    "\n",
    "Suppose we are interested in the Name of the cars."
   ]
  },
  {
   "cell_type": "code",
   "execution_count": null,
   "id": "717963d0",
   "metadata": {},
   "outputs": [
    {
     "data": {
      "text/plain": [
       "0                  Chevrolet Vega\n",
       "1             Chevrolet Vega (sw)\n",
       "2             Chevrolet Vega 2300\n",
       "3                 Chevrolet Woody\n",
       "4      Chevrolete Chevelle Malibu\n",
       "                  ...            \n",
       "156              Mercury Capri v6\n",
       "157       Mercury Cougar Brougham\n",
       "158         Mercury Grand Marquis\n",
       "159                Mercury Lynx l\n",
       "160               Mercury Marquis\n",
       "Name: Car, Length: 161, dtype: object"
      ]
     },
     "metadata": {},
     "output_type": "display_data"
    }
   ],
   "source": [
    "df_cars['Car']"
   ]
  },
  {
   "cell_type": "code",
   "execution_count": null,
   "id": "ab957d50",
   "metadata": {},
   "outputs": [
    {
     "data": {
      "text/plain": [
       "0                Chevrolet Vega\n",
       "1           Chevrolet Vega (sw)\n",
       "2           Chevrolet Vega 2300\n",
       "3               Chevrolet Woody\n",
       "4    Chevrolete Chevelle Malibu\n",
       "5                     Chevy C20\n",
       "6                    Chevy S-10\n",
       "7              Chrysler Cordoba\n",
       "8    Chrysler Lebaron Medallion\n",
       "9        Chrysler Lebaron Salon\n",
       "Name: Car, dtype: object"
      ]
     },
     "metadata": {},
     "output_type": "display_data"
    }
   ],
   "source": [
    "df_cars['Car'].head(10)"
   ]
  },
  {
   "cell_type": "markdown",
   "id": "860c0ec5",
   "metadata": {},
   "source": [
    "\n",
    "\n",
    "---\n",
    "\n"
   ]
  },
  {
   "cell_type": "markdown",
   "id": "5d55d29e",
   "metadata": {},
   "source": [
    "## **Example: Select multiple Columns**\n",
    "\n",
    "Suppose, we are interested in the cars name, Model of the cars, and quantity"
   ]
  },
  {
   "cell_type": "code",
   "execution_count": null,
   "id": "90f5f2e6",
   "metadata": {},
   "outputs": [
    {
     "name": "stdout",
     "output_type": "stream",
     "text": [
      "                   Car  Model  quantity\n",
      "0       Chevrolet Vega     74       177\n",
      "1  Chevrolet Vega (sw)     71        91\n",
      "2  Chevrolet Vega 2300     71        74\n",
      "3      Chevrolet Woody     76       241\n",
      "\n",
      "   Horsepower  Weight\n",
      "0          75    2542\n",
      "1          72    2408\n",
      "2          90    2264\n",
      "3          60    2164\n"
     ]
    }
   ],
   "source": [
    "print(df_cars[['Car','Model', 'quantity']].head(4))\n",
    "print()\n",
    "print(df_cars[['Horsepower','Weight']].head(4))\n"
   ]
  },
  {
   "cell_type": "markdown",
   "id": "2eca5298",
   "metadata": {},
   "source": [
    "## **Example: Select single column by column index number**"
   ]
  },
  {
   "cell_type": "code",
   "execution_count": null,
   "id": "650ea7f9",
   "metadata": {},
   "outputs": [
    {
     "name": "stdout",
     "output_type": "stream",
     "text": [
      "Column 1:\n",
      "0                Chevrolet Vega\n",
      "1           Chevrolet Vega (sw)\n",
      "2           Chevrolet Vega 2300\n",
      "3               Chevrolet Woody\n",
      "4    Chevrolete Chevelle Malibu\n",
      "Name: Car, dtype: object \n",
      "\n",
      "Column 3:\n",
      "0    4\n",
      "1    4\n",
      "2    4\n",
      "3    4\n",
      "4    6\n",
      "Name: Cylinders, dtype: int64 \n",
      "\n"
     ]
    }
   ],
   "source": [
    "print(\"Column 1:\")\n",
    "print(df_cars[df_cars.columns[0]].head(5), '\\n')\n",
    "\n",
    "print(\"Column 3:\")\n",
    "print(df_cars[df_cars.columns[2]].head(5), '\\n')\n"
   ]
  },
  {
   "cell_type": "markdown",
   "id": "f8051e4e",
   "metadata": {},
   "source": [
    "## **Example: Select Multiple columns by column index number**"
   ]
  },
  {
   "cell_type": "code",
   "execution_count": null,
   "id": "b3e8d040",
   "metadata": {},
   "outputs": [
    {
     "name": "stdout",
     "output_type": "stream",
     "text": [
      "                   Car   MPG  quantity\n",
      "0       Chevrolet Vega  25.0       177\n",
      "1  Chevrolet Vega (sw)  22.0        91\n",
      "\n",
      "   Model  Displacement  Weight\n",
      "0     74         140.0    2542\n",
      "1     71         140.0    2408\n"
     ]
    }
   ],
   "source": [
    "print(df_cars[df_cars.columns[[0,1,9]]].head(2))\n",
    "print()\n",
    "print(df_cars[df_cars.columns[[7, 3, 5]]].head(2))"
   ]
  },
  {
   "cell_type": "markdown",
   "id": "75251cc1",
   "metadata": {},
   "source": [
    "\n",
    "\n",
    "---\n",
    "\n"
   ]
  },
  {
   "cell_type": "markdown",
   "id": "16c5c5c4",
   "metadata": {},
   "source": [
    "# **Guided Lab 343.3.7 - Count the occurrences of unique values from column**"
   ]
  },
  {
   "cell_type": "markdown",
   "id": "28c3462a",
   "metadata": {},
   "source": [
    "## **Learning Objective:**\n",
    "In this lab, you will demonstrate how to count the occurrences of unique values from column on Pandas DataFrame, we will use value_count() function for that.\n",
    "\n",
    "By the end of this lab, learners will be able to:\n",
    "- Use value_count() function to count the occurrences of unique values from column on Pandas DataFrame.\n",
    "- Analyze the quick summary of the unique values and their frequencies, making it a valuable tool in data exploration and analysis.\n",
    "\n",
    "\n",
    "\n",
    "\n",
    "\n"
   ]
  },
  {
   "cell_type": "markdown",
   "id": "1b176522",
   "metadata": {},
   "source": [
    "## **Introduction**:\n",
    "The **`value_counts()`** function in pandas is used to count the occurrences of unique values in a Series (a single column of a DataFrame). It returns a pandas Series with the unique values as the index and the counts of each unique value as the corresponding values in the Series.\n",
    "\n",
    "Here are some common use cases for value_counts():"
   ]
  },
  {
   "cell_type": "markdown",
   "id": "2cc6c1cb",
   "metadata": {},
   "source": [
    "# **Example 1: Frequency Analysis:**\n",
    "\n",
    "To understand the distribution of values in a categorical variable.\n",
    "Example: Count the number of occurrences of each category in a column representing product categories, customer segments, etc."
   ]
  },
  {
   "cell_type": "code",
   "execution_count": null,
   "id": "f2bf06c4",
   "metadata": {},
   "outputs": [],
   "source": [
    "# import pandas library to the codespace\n",
    "import pandas as pd"
   ]
  },
  {
   "cell_type": "code",
   "execution_count": null,
   "id": "52c88593",
   "metadata": {},
   "outputs": [
    {
     "name": "stdout",
     "output_type": "stream",
     "text": [
      "Category\n",
      "Electronics    2\n",
      "Clothing       2\n",
      "Books          2\n",
      "Name: count, dtype: int64\n"
     ]
    }
   ],
   "source": [
    "# Sample DataFrame\n",
    "data = {'Category': ['Electronics', 'Clothing', 'Electronics', 'Books', 'Books', 'Clothing']}\n",
    "df = pd.DataFrame(data)\n",
    "\n",
    "# Count the occurrences of each category\n",
    "category_counts = df['Category'].value_counts()\n",
    "print(category_counts)"
   ]
  },
  {
   "cell_type": "markdown",
   "id": "983a4130",
   "metadata": {},
   "source": [
    "## **Example 2: Frequency Analysis:**\n",
    "The example below shows the frequency of items in the column ‘Brand’ and prints the item that occurs more than once in the same column."
   ]
  },
  {
   "cell_type": "code",
   "execution_count": null,
   "id": "a448734a",
   "metadata": {},
   "outputs": [
    {
     "name": "stdout",
     "output_type": "stream",
     "text": [
      "           Devices     Brand  Sales  Profit  Pices left\n",
      "0           Laptop    Lenovo   1000     500        5000\n",
      "1           iPhone     Apple   2000    1000        4000\n",
      "2              LED   Samsung   4000    1000        4000\n",
      "3              LCD   Samsung   2000    1500        5000\n",
      "4      Smart-Phone   Samsung   1000    1000        5000\n",
      "5  Washing-Machine  Whirpool   4000    1500        1000\n",
      "Print Frequency:\n",
      " Brand\n",
      "Samsung     3\n",
      "Lenovo      1\n",
      "Apple       1\n",
      "Whirpool    1\n",
      "Name: count, dtype: int64\n",
      "Frequent Products:\n",
      " Samsung\n"
     ]
    },
    {
     "data": {
      "text/plain": [
       "Brand\n",
       "Samsung     3\n",
       "Lenovo      1\n",
       "Apple       1\n",
       "Whirpool    1\n",
       "Name: count, dtype: int64"
      ]
     },
     "metadata": {},
     "output_type": "display_data"
    },
    {
     "name": "stdout",
     "output_type": "stream",
     "text": [
      " This item appears more than once: Samsung\n"
     ]
    }
   ],
   "source": [
    "# Create the data source\n",
    "sales_data = {\"Devices\":['Laptop','iPhone','LED','LCD','Smart-Phone','Washing-Machine'],\n",
    "           'Brand':['Lenovo','Apple','Samsung','Samsung','Samsung','Whirpool'],\n",
    "           'Sales':[1000,2000,4000,2000,1000,4000],\n",
    "           'Profit':[500,1000,1000,1500,1000,1500],\n",
    "           'Pices left':[5000,4000,4000,5000,5000,1000]}\n",
    "# create the pandas dataframe\n",
    "df = pd.DataFrame(sales_data)\n",
    "print(df)\n",
    "# Frequency of items in the column brand\n",
    "Frequency = (df.Brand.value_counts())\n",
    "print(\"Print Frequency:\\n\", Frequency)\n",
    "# print the product that occurs more than once\n",
    "Frequent_product = Frequency[Frequency > 1].index[0]\n",
    "print(\"Frequent Products:\\n\", Frequent_product)\n",
    "# display the items along with their frequency\n",
    "display(Frequency)\n",
    "# print the item that occurs more than once\n",
    "print(\" This item appears more than once:\",Frequent_product)"
   ]
  },
  {
   "cell_type": "markdown",
   "id": "8a9f0f06",
   "metadata": {},
   "source": [
    "## **Example 3: Checking Missing Values:**\n",
    "\n",
    "To quickly identify missing values in a column.\n",
    "Example: Count the occurrences of each value in a column and check for any values that stand out, such as 0 or -1."
   ]
  },
  {
   "cell_type": "code",
   "execution_count": null,
   "id": "bacab206",
   "metadata": {},
   "outputs": [
    {
     "name": "stdout",
     "output_type": "stream",
     "text": [
      "Score\n",
      "85.0    2\n",
      "NaN     2\n",
      "92.0    1\n",
      "88.0    1\n",
      "75.0    1\n",
      "90.0    1\n",
      "Name: count, dtype: int64\n"
     ]
    }
   ],
   "source": [
    "# Sample DataFrame with missing values\n",
    "data = {'Score': [85, 92, 88, 75, None, 90, None, 85]}\n",
    "df = pd.DataFrame(data)\n",
    "\n",
    "# Count the occurrences of each value in the 'Score' column\n",
    "# dropna=True Don’t include counts of rows containing NA values\n",
    "score_counts = df['Score'].value_counts(dropna=False) # dropna=False include counts of rows containing NA values\n",
    "print(score_counts)\n"
   ]
  },
  {
   "cell_type": "markdown",
   "id": "2b2bbc27",
   "metadata": {},
   "source": [
    "## **Example 4: Checking Data Quality:**\n",
    "\n",
    "To quickly identify potential issues with data quality.\n",
    "Example: Identify unexpected or outlier values in a numerical column"
   ]
  },
  {
   "cell_type": "code",
   "execution_count": null,
   "id": "63ee53ea",
   "metadata": {},
   "outputs": [
    {
     "name": "stdout",
     "output_type": "stream",
     "text": [
      "Age\n",
      "25    6\n",
      "30    3\n",
      "35    1\n",
      "40    1\n",
      "45    1\n",
      "Name: count, dtype: int64\n",
      "Percentage:\n",
      "Age\n",
      "25    0.500000\n",
      "30    0.250000\n",
      "35    0.083333\n",
      "40    0.083333\n",
      "45    0.083333\n",
      "Name: proportion, dtype: float64\n"
     ]
    }
   ],
   "source": [
    "# Sample DataFrame\n",
    "data = {'Age': [25, 30, 25, 35, 25, 40, 25, 30, 45, 25, 30, 25]}\n",
    "df = pd.DataFrame(data)\n",
    "\n",
    "# Count the occurrences of each age\n",
    "age_counts = df['Age'].value_counts()\n",
    "age_counts2 = df['Age'].value_counts(normalize=True) # normaliz=True returns proportion(percentages)\n",
    "print(age_counts)\n",
    "print('Percentage:')\n",
    "print(age_counts2)\n"
   ]
  },
  {
   "cell_type": "markdown",
   "id": "f1e4935b",
   "metadata": {},
   "source": [
    "***"
   ]
  },
  {
   "cell_type": "markdown",
   "id": "2b000e0a",
   "metadata": {},
   "source": [
    "# **Guided Lab - 343.3.8 - How to Convert Pandas Column to List**"
   ]
  },
  {
   "cell_type": "markdown",
   "id": "59e87559",
   "metadata": {},
   "source": [
    "## **Learning Objective:**\n",
    "In this Lab, will learn and demonstrate how to convert a Pandas column from a DataFrame to a list using the **.tolist()** method on the specific column.\n",
    "\n",
    "Upon completing this lab, you should be able to:\n",
    "\n",
    "- Extract a specific column from a Pandas DataFrame.\n",
    "- Convert a Pandas Series (column) into a Python list using various methods.\n",
    "- Describe the relationship between Pandas Series, NumPy arrays, and Python lists.\n",
    "- Access columns using both column names and index positions.\n",
    "Extract the DataFrame's index as a list."
   ]
  },
  {
   "cell_type": "markdown",
   "id": "a3fa949a",
   "metadata": {},
   "source": [
    "You can get or convert the pandas DataFrame column to the list using Series.values.tolist(), since each column in DataFrame is represented as a Series internally, you can use this function after getting a column you wanted to convert as a Series. You can get a column as a Series by using **df.column_name** or  **df['column_name']**."
   ]
  },
  {
   "cell_type": "markdown",
   "id": "140d109a",
   "metadata": {},
   "source": [
    "## **Dataset**\n",
    "\n",
    "In this lab, we will use [cars.json](https://drive.google.com/file/d/1CXAK8gbuLtc2NNOXVUgmja8fDg0TrNZm/view) dataset, Let import cars dataset in Panda dataframe.\n",
    "\n",
    "## **Instructions:**"
   ]
  },
  {
   "cell_type": "code",
   "execution_count": null,
   "id": "c99db981",
   "metadata": {},
   "outputs": [],
   "source": [
    "import pandas as pd"
   ]
  },
  {
   "cell_type": "code",
   "execution_count": null,
   "id": "dedacfd8",
   "metadata": {},
   "outputs": [
    {
     "data": {
      "text/html": [
       "<div>\n",
       "<style scoped>\n",
       "    .dataframe tbody tr th:only-of-type {\n",
       "        vertical-align: middle;\n",
       "    }\n",
       "\n",
       "    .dataframe tbody tr th {\n",
       "        vertical-align: top;\n",
       "    }\n",
       "\n",
       "    .dataframe thead th {\n",
       "        text-align: right;\n",
       "    }\n",
       "</style>\n",
       "<table border=\"1\" class=\"dataframe\">\n",
       "  <thead>\n",
       "    <tr style=\"text-align: right;\">\n",
       "      <th></th>\n",
       "      <th>Car</th>\n",
       "      <th>MPG</th>\n",
       "      <th>Cylinders</th>\n",
       "      <th>Displacement</th>\n",
       "      <th>Horsepower</th>\n",
       "      <th>Weight</th>\n",
       "      <th>Acceleration</th>\n",
       "      <th>Model</th>\n",
       "      <th>Origin</th>\n",
       "      <th>quantity</th>\n",
       "      <th>city</th>\n",
       "    </tr>\n",
       "  </thead>\n",
       "  <tbody>\n",
       "    <tr>\n",
       "      <th>0</th>\n",
       "      <td>Chevrolet Vega</td>\n",
       "      <td>25.0</td>\n",
       "      <td>4</td>\n",
       "      <td>140.0</td>\n",
       "      <td>75</td>\n",
       "      <td>2542</td>\n",
       "      <td>17.0</td>\n",
       "      <td>74</td>\n",
       "      <td>US</td>\n",
       "      <td>177</td>\n",
       "      <td>NJ</td>\n",
       "    </tr>\n",
       "    <tr>\n",
       "      <th>1</th>\n",
       "      <td>Chevrolet Vega (sw)</td>\n",
       "      <td>22.0</td>\n",
       "      <td>4</td>\n",
       "      <td>140.0</td>\n",
       "      <td>72</td>\n",
       "      <td>2408</td>\n",
       "      <td>19.0</td>\n",
       "      <td>71</td>\n",
       "      <td>US</td>\n",
       "      <td>91</td>\n",
       "      <td>DALLAS</td>\n",
       "    </tr>\n",
       "    <tr>\n",
       "      <th>2</th>\n",
       "      <td>Chevrolet Vega 2300</td>\n",
       "      <td>28.0</td>\n",
       "      <td>4</td>\n",
       "      <td>140.0</td>\n",
       "      <td>90</td>\n",
       "      <td>2264</td>\n",
       "      <td>15.5</td>\n",
       "      <td>71</td>\n",
       "      <td>US</td>\n",
       "      <td>74</td>\n",
       "      <td>TEXAS</td>\n",
       "    </tr>\n",
       "    <tr>\n",
       "      <th>3</th>\n",
       "      <td>Chevrolet Woody</td>\n",
       "      <td>24.5</td>\n",
       "      <td>4</td>\n",
       "      <td>98.0</td>\n",
       "      <td>60</td>\n",
       "      <td>2164</td>\n",
       "      <td>22.1</td>\n",
       "      <td>76</td>\n",
       "      <td>US</td>\n",
       "      <td>241</td>\n",
       "      <td>OH</td>\n",
       "    </tr>\n",
       "  </tbody>\n",
       "</table>\n",
       "</div>"
      ],
      "text/plain": [
       "                   Car   MPG  Cylinders  Displacement  Horsepower  Weight  \\\n",
       "0       Chevrolet Vega  25.0          4         140.0          75    2542   \n",
       "1  Chevrolet Vega (sw)  22.0          4         140.0          72    2408   \n",
       "2  Chevrolet Vega 2300  28.0          4         140.0          90    2264   \n",
       "3      Chevrolet Woody  24.5          4          98.0          60    2164   \n",
       "\n",
       "   Acceleration  Model Origin  quantity    city  \n",
       "0          17.0     74     US       177      NJ  \n",
       "1          19.0     71     US        91  DALLAS  \n",
       "2          15.5     71     US        74   TEXAS  \n",
       "3          22.1     76     US       241      OH  "
      ]
     },
     "metadata": {},
     "output_type": "display_data"
    }
   ],
   "source": [
    "# do not forget to change the path of the file\n",
    "df_cars = pd.read_json('./Data/cars.json')\n",
    "df_cars.head(4)"
   ]
  },
  {
   "cell_type": "markdown",
   "id": "ea45d1f2",
   "metadata": {},
   "source": [
    "### **Examples 1: Converting Pandas column to list using Series.values.tolist()**"
   ]
  },
  {
   "cell_type": "code",
   "execution_count": null,
   "id": "fadb7497",
   "metadata": {},
   "outputs": [
    {
     "name": "stdout",
     "output_type": "stream",
     "text": [
      "['Chevrolet Vega', 'Chevrolet Vega (sw)', 'Chevrolet Vega 2300', 'Chevrolet Woody', 'Chevrolete Chevelle Malibu', 'Chevy C20', 'Chevy S-10', 'Chrysler Cordoba', 'Chrysler Lebaron Medallion', 'Chrysler Lebaron Salon', 'Chrysler Lebaron Town @ Country (sw)', 'Chrysler New Yorker Brougham', 'Chrysler Newport Royal', 'Citroen DS-21 Pallas', 'Datsun 1200', 'Datsun 200SX', 'Datsun 200-SX', 'Datsun 210', 'Datsun 210', 'Datsun 210 MPG', 'Datsun 280-ZX', 'Datsun 310', 'Datsun 310 GX', 'Datsun 510', 'Datsun 510 (sw)', 'Datsun 510 Hatchback', 'Datsun 610', 'Datsun 710', 'Datsun 710', 'Datsun 810', 'Datsun 810 Maxima', 'Datsun B210', 'Datsun B-210', 'Datsun B210 GX', 'Datsun F-10 Hatchback', 'Datsun PL510', 'Datsun PL510', 'Dodge Aries SE', 'Dodge Aries Wagon (sw)', 'Dodge Aspen', 'Dodge Aspen', 'Dodge Aspen 6', 'Dodge Aspen SE', 'Dodge Challenger SE', 'Dodge Charger 2.2', 'Dodge Colt', 'Dodge Colt', 'Dodge Colt', 'Dodge Colt (sw)', 'Dodge Colt Hardtop', 'Dodge Colt Hatchback Custom', 'Dodge Colt m/m', 'Dodge Coronet Brougham', 'Dodge Coronet Custom', 'Dodge Coronet Custom (sw)', 'Dodge D100', 'Dodge D200', 'Dodge Dart Custom', 'Dodge Diplomat', 'Dodge Magnum XE', 'Dodge Monaco (sw)', 'Dodge Monaco Brougham', 'Dodge Omni', 'Dodge Rampage', 'Dodge St. Regis', 'Fiat 124 Sport Coupe', 'Fiat 124 TC', 'Fiat 124B', 'Fiat 128', 'Fiat 128', 'Fiat 131', 'Fiat Strada Custom', 'Fiat x1.9', 'Ford Country', 'Ford Country Squire (sw)', 'Ford Country Squire (sw)', 'Ford Escort 2H', 'Ford Escort 4W', 'Ford F108', 'Ford F250', 'Ford Fairmont', 'Ford Fairmont (auto)', 'Ford Fairmont (man)', 'Ford Fairmont 4', 'Ford Fairmont Futura', 'Ford Fiesta', 'Ford Futura', 'Ford Galaxie 500', 'Ford Galaxie 500', 'Ford Galaxie 500', 'Ford Gran Torino', 'Ford Gran Torino', 'Ford Gran Torino', 'Ford Gran Torino (sw)', 'Ford Gran Torino (sw)', 'Ford Grenada', 'Ford Grenada ghia', 'Ford Grenada gl', 'Ford Grenada l', 'Ford LTD', 'Ford LTD', 'Ford LTD Landau', 'Ford Maverick', 'Ford Maverick', 'Ford Maverick', 'Ford Maverick', 'Ford Maverick', 'Ford Mustang', 'Ford Mustang Boss 302', 'Ford Mustang Cobra', 'Ford Mustang GL', 'Ford Mustang II', 'Ford Mustang II 2+2', 'Ford Pinto', 'Ford Pinto', 'Ford Pinto', 'Ford Pinto', 'Ford Pinto', 'Ford Pinto', 'Ford Pinto (sw)', 'Ford Pinto Runabout', 'Ford Ranger', 'Ford Thunderbird', 'Ford Torino', 'Ford Torino (sw)', 'Ford Torino 500', 'Hi 1200D', 'Honda Accord', 'Honda Accord', 'Honda Accord CVCC', 'Honda Accord LX', 'Honda Civic', 'Honda Civic', 'Honda Civic', 'Honda Civic (auto)', 'Honda Civic 1300', 'Honda Civic 1500 gl', 'Honda Civic CVCC', 'Honda Civic CVCC', 'Honda Prelude', 'Mazda 626', 'Mazda 626', 'Mazda GLC', 'Mazda GLC 4', 'Mazda GLC Custom', 'Mazda GLC Custom l', 'Mazda GLC Deluxe', 'Mazda GLC Deluxe', 'Mazda RX2 Coupe', 'Mazda RX3', 'Mazda RX-4', 'Mazda RX-7 GS', 'Mercedes Benz 300d', 'Mercedes-Benz 240d', 'Mercedes-Benz 280s', 'Mercury Capri 2000', 'Mercury Capri v6', 'Mercury Cougar Brougham', 'Mercury Grand Marquis', 'Mercury Lynx l', 'Mercury Marquis']\n",
      "[74, 71, 71, 76, 75, 70, 82, 77, 82, 81, 79, 73, 72, 70, 71, 81, 78, 79, 80, 81, 80, 80, 82, 78, 72, 80, 73, 74, 75, 77, 81, 74, 76, 78, 77, 70, 71, 82, 81, 78, 80, 79, 76, 70, 82, 74, 76, 80, 72, 72, 79, 77, 76, 73, 74, 76, 70, 73, 78, 78, 71, 77, 78, 82, 79, 73, 74, 71, 73, 74, 76, 79, 74, 73, 71, 79, 81, 81, 76, 70, 80, 78, 78, 79, 82, 78, 78, 70, 71, 72, 73, 74, 76, 72, 74, 77, 76, 81, 82, 73, 75, 79, 70, 73, 74, 75, 76, 71, 70, 80, 82, 75, 77, 71, 73, 74, 75, 75, 76, 72, 72, 82, 77, 70, 70, 71, 70, 80, 82, 77, 78, 74, 76, 82, 82, 81, 80, 75, 78, 81, 80, 81, 80, 81, 82, 82, 78, 79, 72, 73, 77, 80, 79, 80, 76, 71, 73, 77, 79, 82, 72]\n"
     ]
    }
   ],
   "source": [
    "# Example 1: Using Series.values.tolist()\n",
    "# in the below example, we are getting the column 'Car' of the dataframe\n",
    "col_car_list = df_cars.Car.values.tolist()\n",
    "print(col_car_list)\n",
    "\n",
    "# getting the column 'Model' of the dataframe\n",
    "col_model_list = df_cars.Model.values.tolist()\n",
    "print(col_model_list)\n"
   ]
  },
  {
   "cell_type": "markdown",
   "id": "19476fc7",
   "metadata": {},
   "source": [
    "**Alternatively, you can also write the statement using.**"
   ]
  },
  {
   "cell_type": "code",
   "execution_count": null,
   "id": "09dfeae1",
   "metadata": {},
   "outputs": [],
   "source": [
    "# in the below example, we are getting the index of the dataframe\n",
    "df_cars[\"Car\"].values.tolist()"
   ]
  },
  {
   "cell_type": "markdown",
   "id": "056ac6b6",
   "metadata": {},
   "source": [
    "Below is an explanation of each section of the statement.\n",
    "\n",
    "- df_cars['Courses'] returns a Series object of a specified column.\n",
    "\n",
    "- df_cars['Courses'].values returns an array with column values and this has a helper function .tolist() to convert to a list."
   ]
  },
  {
   "cell_type": "markdown",
   "id": "24ee1064",
   "metadata": {},
   "source": [
    "# **Example 2: Converting Pandas column to list using list() Function**\n",
    "\n",
    "list() function will return the list with the values of the specified column of DataFrame."
   ]
  },
  {
   "cell_type": "code",
   "execution_count": null,
   "id": "bf1cf25e",
   "metadata": {},
   "outputs": [
    {
     "name": "stdout",
     "output_type": "stream",
     "text": [
      "['Chevrolet Vega', 'Chevrolet Vega (sw)']\n",
      "[74, 71]\n"
     ]
    }
   ],
   "source": [
    "print(list(df_cars[\"Car\"].head(2)))\n",
    "print(list(df_cars[\"Model\"].head(2)))"
   ]
  },
  {
   "cell_type": "markdown",
   "id": "6a8931a7",
   "metadata": {},
   "source": [
    "# **Example 3: Convert Pandas column to Numpy array**\n",
    "\n",
    "Sometimes you may be required to convert the Pandas column to Numpy Array you can do so by using the **to_numpy()** function."
   ]
  },
  {
   "cell_type": "code",
   "execution_count": null,
   "id": "afd4dae0",
   "metadata": {},
   "outputs": [
    {
     "name": "stdout",
     "output_type": "stream",
     "text": [
      "['Chevrolet Vega' 'Chevrolet Vega (sw)' 'Chevrolet Vega 2300'\n",
      " 'Chevrolet Woody']\n",
      "Get the array from specified column:\n",
      "\n",
      "<class 'numpy.ndarray'>\n"
     ]
    }
   ],
   "source": [
    "\n",
    "col_list = df_cars['Car'].head(4).to_numpy()\n",
    "print(col_list)\n",
    "print(\"Get the array from specified column:\\n\")\n",
    "print(type(col_list))\n",
    "\n"
   ]
  },
  {
   "cell_type": "markdown",
   "id": "29e3fb38",
   "metadata": {},
   "source": [
    "# **Example 4: Converting Pandas column to list using by Column Index**\n",
    "\n",
    "If you have a column index and want to get the column values of an index, first you have to get the column name by index and then use the approaches explained above to convert it to a list.\n",
    "\n",
    "From the below example **`df.columns[0]`** returns the column name for an index 0, which is Car.\n"
   ]
  },
  {
   "cell_type": "code",
   "execution_count": null,
   "id": "4c405cbc",
   "metadata": {},
   "outputs": [
    {
     "name": "stdout",
     "output_type": "stream",
     "text": [
      "['Chevrolet Vega', 'Chevrolet Vega (sw)', 'Chevrolet Vega 2300', 'Chevrolet Woody']\n",
      "<class 'list'>\n"
     ]
    }
   ],
   "source": [
    "# in the below example, we are getting the column names of the dataframe\n",
    "col_list = df_cars[df_cars.columns[0]].head(4).values.tolist()\n",
    "print(col_list)\n",
    "print(type(col_list))\n",
    "\n"
   ]
  },
  {
   "cell_type": "markdown",
   "id": "d728e948",
   "metadata": {},
   "source": [
    "# **Example 5: Convert Index Column to List**\n"
   ]
  },
  {
   "cell_type": "code",
   "execution_count": null,
   "id": "f73ef258",
   "metadata": {},
   "outputs": [
    {
     "name": "stdout",
     "output_type": "stream",
     "text": [
      "[0, 1, 2, 3, 4]\n",
      "5\n"
     ]
    }
   ],
   "source": [
    "# in the below example, we are getting the index of the dataframe\n",
    "index_list = df_cars.head().index.tolist()\n",
    "print(index_list)\n",
    "print(len(index_list))"
   ]
  },
  {
   "cell_type": "markdown",
   "id": "527501ff",
   "metadata": {},
   "source": [
    "***"
   ]
  },
  {
   "cell_type": "markdown",
   "id": "6ac12955",
   "metadata": {},
   "source": [
    "# **Guided Lab - 343.3.9 - Adding new column to existing DataFrame in Pandas**\n",
    "\n",
    "\n",
    "## **Lab Objective:**\n",
    "- In this lab, we will cover how to add/append multiple columns and add a constant value, deriving new columns from an existing column to the Pandas DataFrame.\n",
    "\n",
    "- By the end of this lab, learners will be able to add new columns to Panda Dataframe using several approaches.\n",
    "\n",
    "## **Introduction:**\n",
    "In Pandas, a DataFrame represents a two-dimensional, heterogenous, tabular data structure with labeled rows and columns (axes). In simple words, it contains three components ― data, rows, columns.\n",
    "\n",
    "Let's discuss how to add new columns to the existing DataFrame in Pandas. There are multiple ways we can do this task.\n",
    "\n",
    "## **Instructions**\n"
   ]
  },
  {
   "cell_type": "markdown",
   "id": "e468b68e",
   "metadata": {},
   "source": [
    "## **Method #1: By Dictionary and declaring a new list as a column.**\n",
    "\n",
    "**Example 1.1:**\n",
    "\n",
    "Note that the length of your list should match the length of the index column; otherwise, it will show an error.\n",
    "import pandas as pd\n",
    "  \n",
    "\n",
    "\n"
   ]
  },
  {
   "cell_type": "code",
   "execution_count": null,
   "id": "b917dad2",
   "metadata": {},
   "outputs": [],
   "source": [
    "import pandas as pd"
   ]
  },
  {
   "cell_type": "code",
   "execution_count": null,
   "id": "a8650ab1",
   "metadata": {},
   "outputs": [
    {
     "name": "stdout",
     "output_type": "stream",
     "text": [
      "------before -------\n",
      "     Name  Height Qualification  Score 1  Score 2\n",
      "0    Jane     5.1           Msc       56       50\n",
      "1  Princi     6.2            MA       86       96\n",
      "2   James     5.1           Msc       77       60\n",
      "3    Fadi     5.2           Msc       45       30\n",
      "------after adding column -------\n",
      "     Name  Height Qualification  Score 1  Score 2 Address\n",
      "0    Jane     5.1           Msc       56       50     NYC\n",
      "1  Princi     6.2            MA       86       96      NJ\n",
      "2   James     5.1           Msc       77       60      CA\n",
      "3    Fadi     5.2           Msc       45       30      PA\n",
      "------add another column-------\n",
      "     Name  Height Qualification  Score 1  Score 2 Address Gender\n",
      "0    Jane     5.1           Msc       56       50     NYC      F\n",
      "1  Princi     6.2            MA       86       96      NJ      F\n",
      "2   James     5.1           Msc       77       60      CA      M\n",
      "3    Fadi     5.2           Msc       45       30      PA      F\n"
     ]
    }
   ],
   "source": [
    "# Define a dictionary containing Students data and their respective details\n",
    "data = {'Name': ['Jane', 'Princi', 'James', 'Fadi'],\n",
    "        'Height': [5.1, 6.2, 5.1, 5.2],\n",
    "        'Qualification': ['Msc', 'MA', 'Msc', 'Msc'],\n",
    "        'Score 1' : [56,86,77,45],\n",
    "        'Score 2' : [50,96,60,30]}\n",
    "\n",
    "# Convert the dictionary into DataFrame\n",
    "df = pd.DataFrame(data)\n",
    "print(\"------before -------\")\n",
    "print(df)\n",
    "\n",
    "\n",
    "# Declare a list that is to be converted into a column\n",
    "address = ['NYC', 'NJ', 'CA', 'PA']\n",
    "\n",
    "# Using 'Address' as the column name\n",
    "# and equating it to the list\n",
    "df['Address'] = address\n",
    "print(\"------after adding column -------\")\n",
    "# Observe the result\n",
    "print(df)\n",
    "\n",
    "# Declare list to convert to a column\n",
    "gender = ['F', 'F', 'M', 'F']\n",
    "\n",
    "# Use 'Gender' as column name & add to df\n",
    "df['Gender'] = gender\n",
    "print(\"------add another column-------\")\n",
    "print(df)"
   ]
  },
  {
   "cell_type": "markdown",
   "id": "a9f0b1f6",
   "metadata": {},
   "source": [
    "**Example: 1.2**\n",
    "\n",
    "- You can apply basic arithmetic operations such as addition, subtraction, multiplication, and division to Pandas DataFrame objects the same way you would with NumPy arrays:\n",
    "\n",
    "- The below example adds a new column based on a calculation of the existing column.\n",
    "\n",
    "\n",
    "\n"
   ]
  },
  {
   "cell_type": "code",
   "execution_count": null,
   "id": "eb784f59",
   "metadata": {},
   "outputs": [
    {
     "name": "stdout",
     "output_type": "stream",
     "text": [
      "------before -------\n",
      "     Name  Height Qualification  Score 1  Score 2\n",
      "0    Jane     5.1           Msc       56       50\n",
      "1  Princi     6.2            MA       86       96\n",
      "2   James     5.1           Msc       77       60\n",
      "3    Fadi     5.2           Msc       45       30\n",
      "------after adding column -------\n",
      "     Name  Height Qualification  Score 1  Score 2  Total_Score\n",
      "0    Jane     5.1           Msc       56       50          106\n",
      "1  Princi     6.2            MA       86       96          182\n",
      "2   James     5.1           Msc       77       60          137\n",
      "3    Fadi     5.2           Msc       45       30           75\n"
     ]
    }
   ],
   "source": [
    "# defining a dictionary containing Students data and their respective details\n",
    "data = {'Name': ['Jane', 'Princi', 'James', 'Fadi'],\n",
    "        'Height': [5.1, 6.2, 5.1, 5.2],\n",
    "        'Qualification': ['Msc', 'MA', 'Msc', 'Msc'],\n",
    "       'Score 1' : [56,86,77,45],\n",
    "           'Score 2' : [50,96,60,30]}\n",
    "\n",
    "# Convert the dictionary into DataFrame\n",
    "df = pd.DataFrame(data)\n",
    "print(\"------before -------\")\n",
    "print(df)\n",
    "print(\"------after adding column -------\")\n",
    "df['Total_Score'] = df['Score 1'] +  df['Score 2'] # add columns & store/add in another column\n",
    "\n",
    "print(df)"
   ]
  },
  {
   "cell_type": "markdown",
   "id": "aeca7327",
   "metadata": {},
   "source": [
    "**Example: 1.3**"
   ]
  },
  {
   "cell_type": "code",
   "execution_count": null,
   "id": "a23d3de1",
   "metadata": {},
   "outputs": [
    {
     "name": "stdout",
     "output_type": "stream",
     "text": [
      "------before -------\n",
      "     Name  Height Qualification  Score 1  Score 2\n",
      "0    Jane     5.1           Msc       56       50\n",
      "1  Princi     6.2            MA       86       96\n",
      "2   James     5.1           Msc       77       60\n",
      "3    Fadi     5.2           Msc       45       30\n",
      "------after adding column -------\n",
      "     Name  Height Qualification  Score 1  Score 2  Total_Score  \\\n",
      "0    Jane     5.1           Msc       56       50          106   \n",
      "1  Princi     6.2            MA       86       96          182   \n",
      "2   James     5.1           Msc       77       60          137   \n",
      "3    Fadi     5.2           Msc       45       30           75   \n",
      "\n",
      "   Total_Score_average  \n",
      "0                 53.0  \n",
      "1                 91.0  \n",
      "2                 68.5  \n",
      "3                 37.5  \n"
     ]
    },
    {
     "data": {
      "text/html": [
       "<div>\n",
       "<style scoped>\n",
       "    .dataframe tbody tr th:only-of-type {\n",
       "        vertical-align: middle;\n",
       "    }\n",
       "\n",
       "    .dataframe tbody tr th {\n",
       "        vertical-align: top;\n",
       "    }\n",
       "\n",
       "    .dataframe thead th {\n",
       "        text-align: right;\n",
       "    }\n",
       "</style>\n",
       "<table border=\"1\" class=\"dataframe\">\n",
       "  <thead>\n",
       "    <tr style=\"text-align: right;\">\n",
       "      <th></th>\n",
       "      <th>Name</th>\n",
       "      <th>Height</th>\n",
       "      <th>Qualification</th>\n",
       "      <th>Score 1</th>\n",
       "      <th>Score 2</th>\n",
       "      <th>Total_Score</th>\n",
       "      <th>Total_Score_average</th>\n",
       "    </tr>\n",
       "  </thead>\n",
       "  <tbody>\n",
       "    <tr>\n",
       "      <th>0</th>\n",
       "      <td>Jane</td>\n",
       "      <td>5.1</td>\n",
       "      <td>Msc</td>\n",
       "      <td>56</td>\n",
       "      <td>50</td>\n",
       "      <td>106</td>\n",
       "      <td>53.0</td>\n",
       "    </tr>\n",
       "    <tr>\n",
       "      <th>1</th>\n",
       "      <td>Princi</td>\n",
       "      <td>6.2</td>\n",
       "      <td>MA</td>\n",
       "      <td>86</td>\n",
       "      <td>96</td>\n",
       "      <td>182</td>\n",
       "      <td>91.0</td>\n",
       "    </tr>\n",
       "    <tr>\n",
       "      <th>2</th>\n",
       "      <td>James</td>\n",
       "      <td>5.1</td>\n",
       "      <td>Msc</td>\n",
       "      <td>77</td>\n",
       "      <td>60</td>\n",
       "      <td>137</td>\n",
       "      <td>68.5</td>\n",
       "    </tr>\n",
       "    <tr>\n",
       "      <th>3</th>\n",
       "      <td>Fadi</td>\n",
       "      <td>5.2</td>\n",
       "      <td>Msc</td>\n",
       "      <td>45</td>\n",
       "      <td>30</td>\n",
       "      <td>75</td>\n",
       "      <td>37.5</td>\n",
       "    </tr>\n",
       "  </tbody>\n",
       "</table>\n",
       "</div>"
      ],
      "text/plain": [
       "     Name  Height Qualification  Score 1  Score 2  Total_Score  \\\n",
       "0    Jane     5.1           Msc       56       50          106   \n",
       "1  Princi     6.2            MA       86       96          182   \n",
       "2   James     5.1           Msc       77       60          137   \n",
       "3    Fadi     5.2           Msc       45       30           75   \n",
       "\n",
       "   Total_Score_average  \n",
       "0                 53.0  \n",
       "1                 91.0  \n",
       "2                 68.5  \n",
       "3                 37.5  "
      ]
     },
     "metadata": {},
     "output_type": "display_data"
    }
   ],
   "source": [
    "data = {'Name': ['Jane', 'Princi', 'James', 'Fadi'],\n",
    "        'Height': [5.1, 6.2, 5.1, 5.2],\n",
    "        'Qualification': ['Msc', 'MA', 'Msc', 'Msc'],\n",
    "       'Score 1' : [56,86,77,45],\n",
    "           'Score 2' : [50,96,60,30]}\n",
    "\n",
    "# Convert the dictionary into DataFrame\n",
    "df = pd.DataFrame(data)\n",
    "print(\"------before -------\")\n",
    "print(df)\n",
    "print(\"------after adding column -------\")\n",
    "#\n",
    "df['Total_Score'] = df['Score 1'] +  df['Score 2']\n",
    "df['Total_Score_average'] = df['Total_Score']/ 2\n",
    "print(df)\n",
    "df\n"
   ]
  },
  {
   "cell_type": "markdown",
   "id": "58ee5749",
   "metadata": {},
   "source": [
    "**Example: 1.4**\n",
    "\n",
    "In the below example, we will rearrange columns and skip the height column.\n",
    "\n"
   ]
  },
  {
   "cell_type": "code",
   "execution_count": null,
   "id": "d2363a4e",
   "metadata": {},
   "outputs": [
    {
     "name": "stdout",
     "output_type": "stream",
     "text": [
      "------before -------\n",
      "   Score 1  Score 2    Name Qualification\n",
      "0       56       50    Jane           Msc\n",
      "1       86       96  Princi            MA\n",
      "2       77       60   James           Msc\n",
      "3       45       30    Fadi           Msc\n",
      "------after adding column -------\n",
      "   Score 1  Score 2    Name Qualification  Total_Score\n",
      "0       56       50    Jane           Msc          106\n",
      "1       86       96  Princi            MA          182\n",
      "2       77       60   James           Msc          137\n",
      "3       45       30    Fadi           Msc           75\n"
     ]
    }
   ],
   "source": [
    "data = {'Name': ['Jane', 'Princi', 'James', 'Fadi'],\n",
    "        'Height': [5.1, 6.2, 5.1, 5.2],\n",
    "        'Qualification': ['Msc', 'MA', 'Msc', 'Msc'],\n",
    "       'Score 1' : [56,86,77,45],\n",
    "       'Score 2' : [50,96,60,30]\n",
    "       }\n",
    "\n",
    "# Convert the dictionary into DataFrame / skipping 'Height' column\n",
    "df = pd.DataFrame(data,columns = ['Score 1','Score 2','Name', 'Qualification'  ])\n",
    "print(\"------before -------\")\n",
    "print(df)\n",
    "print(\"------after adding column -------\")\n",
    "\n",
    "df['Total_Score'] = df['Score 1'] +  df['Score 2']\n",
    "print(df)\n"
   ]
  },
  {
   "cell_type": "markdown",
   "id": "792be5ca",
   "metadata": {},
   "source": [
    "Example 1.5\n"
   ]
  },
  {
   "cell_type": "code",
   "execution_count": null,
   "id": "6dbacc96",
   "metadata": {},
   "outputs": [
    {
     "name": "stdout",
     "output_type": "stream",
     "text": [
      "Data frame before calculating percentage\n",
      "\n",
      "     Name  Univ_Marks\n",
      "0   Rohan         455\n",
      "1  Elvish         250\n",
      "2    John         495\n",
      "3     Sai         400\n",
      "4    Eric         350\n",
      "5    Adam         450\n",
      "\n",
      "Data frame with Percentage Column\n",
      "\n",
      "     Name  Univ_Marks  Percentage\n",
      "0   Rohan         455        91.0\n",
      "1  Elvish         250        50.0\n",
      "2    John         495        99.0\n",
      "3     Sai         400        80.0\n",
      "4    Eric         350        70.0\n",
      "5    Adam         450        90.0\n"
     ]
    }
   ],
   "source": [
    "# creating and initializing a list\n",
    "values = [['Rohan', 455], ['Elvish', 250], ['John', 495],\n",
    "          ['Sai', 400], ['Eric', 350], ['Adam', 450]]\n",
    "\n",
    "# creating a pandas dataframe\n",
    "df = pd.DataFrame(values, columns=['Name', 'Univ_Marks'])\n",
    "\n",
    "# displaying the data frame\n",
    "\n",
    "print('Data frame before calculating percentage\\n')\n",
    "print(df)\n",
    "print('\\nData frame with Percentage Column\\n')\n",
    "\n",
    "# Creating new column Percentage derived from Univ_Marks\n",
    "df[\"Percentage\"] = df[\"Univ_Marks\"]/500*100\n",
    "\n",
    "# displaying the data frame\n",
    "print(df)"
   ]
  },
  {
   "cell_type": "markdown",
   "id": "09d840ea",
   "metadata": {},
   "source": [
    "## **Method #2: By using DataFrame.insert() function**\n",
    "\n",
    "It gives the freedom to add a column at any position we like, and not just at the end. It also provides different options for inserting the column values.\n",
    "\n",
    "**Example 2.1**\n",
    "\n",
    "\n"
   ]
  },
  {
   "cell_type": "code",
   "execution_count": null,
   "id": "5e2a2273",
   "metadata": {},
   "outputs": [
    {
     "name": "stdout",
     "output_type": "stream",
     "text": [
      "------before -------\n",
      "     Name  Height Qualification  Score 1  Score 2\n",
      "0    Jane     5.1           Msc       56       50\n",
      "1  Princi     6.2            MA       86       96\n",
      "2   James     5.1           Msc       77       60\n",
      "3    Fadi     5.2           Msc       45       30\n",
      "------after adding column -------\n",
      "     Name  Height  Age Qualification  Score 1  Score 2\n",
      "0    Jane     5.1   21           Msc       56       50\n",
      "1  Princi     6.2   23            MA       86       96\n",
      "2   James     5.1   24           Msc       77       60\n",
      "3    Fadi     5.2   21           Msc       45       30\n"
     ]
    }
   ],
   "source": [
    "# Define a dictionary containing Students data\n",
    "data = {'Name': ['Jane', 'Princi', 'James', 'Fadi'],\n",
    "        'Height': [5.1, 6.2, 5.1, 5.2],\n",
    "        'Qualification': ['Msc', 'MA', 'Msc', 'Msc'],\n",
    "       'Score 1' : [56,86,77,45],\n",
    "           'Score 2' : [50,96,60,30]}\n",
    "\n",
    "# Convert the dictionary into DataFrame\n",
    "df = pd.DataFrame(data)\n",
    "print(\"------before -------\")\n",
    "print(df)\n",
    "\n",
    "# Using DataFrame.insert() adding age column\n",
    "#     index,   col, value/content,  allow duplicates\n",
    "df.insert(2, \"Age\", [21, 23, 24, 21], True)\n",
    "print(\"------after adding column -------\")\n",
    "# Observe the result\n",
    "print(df)"
   ]
  },
  {
   "cell_type": "markdown",
   "id": "5afe2fbf",
   "metadata": {},
   "source": [
    "## **Method #3: Using Dataframe.assign() function**\n",
    "\n",
    "**Example 3.1**\n",
    "\n",
    "This method will create a new dataframe with a new column added to the old dataframe.\n",
    "\n",
    "**Returns a new object with all original columns in addition to new ones. Existing columns that are re-assigned will be overwritten**"
   ]
  },
  {
   "cell_type": "code",
   "execution_count": null,
   "id": "f0c5e54e",
   "metadata": {},
   "outputs": [
    {
     "name": "stdout",
     "output_type": "stream",
     "text": [
      "------before -------\n",
      "     Name  Height Qualification  Score 1  Score 2\n",
      "0    Jane     5.1           Msc       56       50\n",
      "1  Princi     6.2            MA       86       96\n",
      "2   James     5.1           Msc       77       60\n",
      "3    Fadi     5.2           Msc       45       30\n",
      "------after adding column -------\n",
      "     Name  Height Qualification  Score 1  Score 2 address\n",
      "0    Jane     5.1           Msc       56       50     NYC\n",
      "1  Princi     6.2            MA       86       96      NJ\n",
      "2   James     5.1           Msc       77       60      CA\n",
      "3    Fadi     5.2           Msc       45       30      PA\n"
     ]
    }
   ],
   "source": [
    "# Define a dictionary containing Students data\n",
    "data = {'Name': ['Jane', 'Princi', 'James', 'Fadi'],\n",
    "        'Height': [5.1, 6.2, 5.1, 5.2],\n",
    "        'Qualification': ['Msc', 'MA', 'Msc', 'Msc'],\n",
    "       'Score 1' : [56,86,77,45],\n",
    "           'Score 2' : [50,96,60,30]}\n",
    "\n",
    "print(\"------before -------\")\n",
    "\n",
    "# Convert the dictionary into DataFrame\n",
    "df = pd.DataFrame(data)\n",
    "print(df)\n",
    "print(\"------after adding column -------\")\n",
    "# using DataFrame.assign() method adding 'Address' as the column name and adding it to the list\n",
    "df = df.assign(address = ['NYC', 'NJ', 'CA', 'PA'])\n",
    "\n",
    "# Observe the result\n",
    "print(df)"
   ]
  },
  {
   "cell_type": "code",
   "execution_count": null,
   "id": "9403c9e3",
   "metadata": {},
   "outputs": [
    {
     "name": "stdout",
     "output_type": "stream",
     "text": [
      "                temp_c\n",
      "South Carolina    17.0\n",
      "Florida           25.0\n",
      "\n",
      "Assigning column w/ Lambda:\n",
      "                temp_c  temp_f\n",
      "South Carolina    17.0    62.6\n",
      "Florida           25.0    77.0\n"
     ]
    }
   ],
   "source": [
    "df_temp = pd.DataFrame({'temp_c': [17.0, 25.0]},\n",
    "                        index=['South Carolina', 'Florida'])\n",
    "print(df_temp)\n",
    "print('\\nAssigning column w/ Lambda:')\n",
    "# value is a callable, evaluated on df using lambda\n",
    "print(df_temp.assign(temp_f = lambda x: x.temp_c * 9 / 5 + 32))"
   ]
  },
  {
   "cell_type": "markdown",
   "id": "a9c1cec1",
   "metadata": {},
   "source": [
    "***"
   ]
  }
 ],
 "metadata": {
  "language_info": {
   "name": "python"
  }
 },
 "nbformat": 4,
 "nbformat_minor": 5
}
