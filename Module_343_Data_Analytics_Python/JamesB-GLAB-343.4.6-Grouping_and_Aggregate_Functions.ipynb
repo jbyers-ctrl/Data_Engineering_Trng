{
  "cells": [
    {
      "cell_type": "markdown",
      "metadata": {
        "id": "lTKJOk7d9yzP"
      },
      "source": [
        "# **Guided LAB - 343.4.6 - Pandas Grouping and Aggregate Functions**\n",
        "\n",
        "---\n",
        "\n"
      ]
    },
    {
      "cell_type": "markdown",
      "metadata": {
        "id": "1fFJCYylwIk1"
      },
      "source": [
        "## **Lab Overview:**\n",
        "\n",
        "In this lab, we will demonstrate how to group by a single column, multiple columns by using aggregations.\n",
        "\n",
        "## ** Learning Objective**\n",
        "By the end of this lab, learners will be able to:-\n",
        "- Utilize the groupBy() function.\n",
        "- Combine aggregate functions with groupby() function for data manipulation.\n",
        "\n",
        "## **Dataset**\n",
        "**In this lab we will student_scores.csv dataset,[ Click here to download dataset.](https://drive.google.com/file/d/1GxvbD5kV6-zzrbDS3uXUlPtm14sSZkBc/view?usp=sharing)**"
      ]
    },
    {
      "cell_type": "markdown",
      "metadata": {
        "id": "REUh4aGI9Caz"
      },
      "source": [
        "## **Introduction:**\n",
        "\n",
        "Similar to the SQL GROUP BY clause pandas DataFrame.groupby() function is used to collect identical data into groups and perform aggregate functions on the grouped data. Group by operation involves splitting the data, applying some functions, and finally aggregating the results.\n",
        "\n",
        "In pandas, you can use groupby() with the combination of sum(), aggregate() and many more methods."
      ]
    },
    {
      "cell_type": "markdown",
      "metadata": {
        "id": "rYzFGmdnwBH1"
      },
      "source": [
        "**Syntax of groupby() function**\n",
        "\n",
        "```\n",
        "pandas.groupby(by=column or index, axis=0, level=None, as_index=True, sort=True, group_keys=True,  observed=False, dropna=True)\n",
        "```\n",
        "\n",
        "- by – List of column names or index label to group by\n",
        "- axis – Default to 0. It takes 0 or ‘index’, 1 or ‘columns’\n",
        "- level – Used with MultiIndex.\n",
        "- as_index – sql style grouped output.\n",
        "- sort – Default to True. Specify whether to sort after group\n",
        "- group_keys – add group keys or not\n",
        "- observed – This only applies if any of the groupers are Categorical\n",
        "- dropna – Default false. True, and if group keys contain NA values, NA values together with row/column will be dropped. If False, NA values will also be treated as the key in groups.\n"
      ]
    },
    {
      "cell_type": "markdown",
      "metadata": {
        "id": "TKN0K3hn_ytZ"
      },
      "source": [
        "# **Instruction:**\n",
        "In order to explain several examples of how to perform group by, first, let’s import student_score.csv file for dataset into Pandas"
      ]
    },
    {
      "cell_type": "code",
      "execution_count": 14,
      "metadata": {},
      "outputs": [],
      "source": [
        "import pandas as pd\n",
        "import numpy as np"
      ]
    },
    {
      "cell_type": "code",
      "execution_count": null,
      "metadata": {
        "id": "AhFpuyUcvkR4"
      },
      "outputs": [
        {
          "data": {
            "text/html": [
              "<div>\n",
              "<style scoped>\n",
              "    .dataframe tbody tr th:only-of-type {\n",
              "        vertical-align: middle;\n",
              "    }\n",
              "\n",
              "    .dataframe tbody tr th {\n",
              "        vertical-align: top;\n",
              "    }\n",
              "\n",
              "    .dataframe thead th {\n",
              "        text-align: right;\n",
              "    }\n",
              "</style>\n",
              "<table border=\"1\" class=\"dataframe\">\n",
              "  <thead>\n",
              "    <tr style=\"text-align: right;\">\n",
              "      <th></th>\n",
              "      <th>id</th>\n",
              "      <th>first_name</th>\n",
              "      <th>last_name</th>\n",
              "      <th>birth</th>\n",
              "      <th>gender</th>\n",
              "      <th>class</th>\n",
              "      <th>Subject</th>\n",
              "      <th>score</th>\n",
              "    </tr>\n",
              "  </thead>\n",
              "  <tbody>\n",
              "    <tr>\n",
              "      <th>0</th>\n",
              "      <td>10001</td>\n",
              "      <td>John</td>\n",
              "      <td>Doe</td>\n",
              "      <td>2000-01-01</td>\n",
              "      <td>M</td>\n",
              "      <td>A</td>\n",
              "      <td>Calculus</td>\n",
              "      <td>63</td>\n",
              "    </tr>\n",
              "    <tr>\n",
              "      <th>1</th>\n",
              "      <td>10001</td>\n",
              "      <td>John</td>\n",
              "      <td>Doe</td>\n",
              "      <td>2000-01-01</td>\n",
              "      <td>M</td>\n",
              "      <td>A</td>\n",
              "      <td>Geometry</td>\n",
              "      <td>65</td>\n",
              "    </tr>\n",
              "    <tr>\n",
              "      <th>2</th>\n",
              "      <td>10001</td>\n",
              "      <td>John</td>\n",
              "      <td>Doe</td>\n",
              "      <td>2000-01-01</td>\n",
              "      <td>M</td>\n",
              "      <td>A</td>\n",
              "      <td>Statistics</td>\n",
              "      <td>63</td>\n",
              "    </tr>\n",
              "    <tr>\n",
              "      <th>3</th>\n",
              "      <td>10002</td>\n",
              "      <td>Jane</td>\n",
              "      <td>Smith</td>\n",
              "      <td>2000-01-02</td>\n",
              "      <td>F</td>\n",
              "      <td>B</td>\n",
              "      <td>Calculus</td>\n",
              "      <td>63</td>\n",
              "    </tr>\n",
              "    <tr>\n",
              "      <th>4</th>\n",
              "      <td>10002</td>\n",
              "      <td>Jane</td>\n",
              "      <td>Smith</td>\n",
              "      <td>2000-01-02</td>\n",
              "      <td>F</td>\n",
              "      <td>B</td>\n",
              "      <td>Geometry</td>\n",
              "      <td>64</td>\n",
              "    </tr>\n",
              "    <tr>\n",
              "      <th>5</th>\n",
              "      <td>10002</td>\n",
              "      <td>Jane</td>\n",
              "      <td>Smith</td>\n",
              "      <td>2000-01-02</td>\n",
              "      <td>F</td>\n",
              "      <td>B</td>\n",
              "      <td>Statistics</td>\n",
              "      <td>94</td>\n",
              "    </tr>\n",
              "    <tr>\n",
              "      <th>6</th>\n",
              "      <td>10003</td>\n",
              "      <td>Sarah</td>\n",
              "      <td>Thomas</td>\n",
              "      <td>2000-01-03</td>\n",
              "      <td>M</td>\n",
              "      <td>B</td>\n",
              "      <td>Calculus</td>\n",
              "      <td>96</td>\n",
              "    </tr>\n",
              "    <tr>\n",
              "      <th>7</th>\n",
              "      <td>10003</td>\n",
              "      <td>Sarah</td>\n",
              "      <td>Thomas</td>\n",
              "      <td>2000-01-03</td>\n",
              "      <td>M</td>\n",
              "      <td>B</td>\n",
              "      <td>Geometry</td>\n",
              "      <td>73</td>\n",
              "    </tr>\n",
              "    <tr>\n",
              "      <th>8</th>\n",
              "      <td>10003</td>\n",
              "      <td>Sarah</td>\n",
              "      <td>Thomas</td>\n",
              "      <td>2000-01-03</td>\n",
              "      <td>M</td>\n",
              "      <td>B</td>\n",
              "      <td>Statistics</td>\n",
              "      <td>61</td>\n",
              "    </tr>\n",
              "    <tr>\n",
              "      <th>9</th>\n",
              "      <td>10004</td>\n",
              "      <td>Frank</td>\n",
              "      <td>Brown</td>\n",
              "      <td>2000-01-04</td>\n",
              "      <td>M</td>\n",
              "      <td>A</td>\n",
              "      <td>Calculus</td>\n",
              "      <td>88</td>\n",
              "    </tr>\n",
              "    <tr>\n",
              "      <th>10</th>\n",
              "      <td>10004</td>\n",
              "      <td>Frank</td>\n",
              "      <td>Brown</td>\n",
              "      <td>2000-01-04</td>\n",
              "      <td>M</td>\n",
              "      <td>A</td>\n",
              "      <td>Geometry</td>\n",
              "      <td>73</td>\n",
              "    </tr>\n",
              "    <tr>\n",
              "      <th>11</th>\n",
              "      <td>10004</td>\n",
              "      <td>Frank</td>\n",
              "      <td>Brown</td>\n",
              "      <td>2000-01-04</td>\n",
              "      <td>M</td>\n",
              "      <td>A</td>\n",
              "      <td>Statistics</td>\n",
              "      <td>86</td>\n",
              "    </tr>\n",
              "    <tr>\n",
              "      <th>12</th>\n",
              "      <td>10005</td>\n",
              "      <td>Mike</td>\n",
              "      <td>Davis</td>\n",
              "      <td>2000-01-05</td>\n",
              "      <td>F</td>\n",
              "      <td>C</td>\n",
              "      <td>Calculus</td>\n",
              "      <td>94</td>\n",
              "    </tr>\n",
              "    <tr>\n",
              "      <th>13</th>\n",
              "      <td>10005</td>\n",
              "      <td>Mike</td>\n",
              "      <td>Davis</td>\n",
              "      <td>2000-01-05</td>\n",
              "      <td>F</td>\n",
              "      <td>C</td>\n",
              "      <td>Geometry</td>\n",
              "      <td>78</td>\n",
              "    </tr>\n",
              "    <tr>\n",
              "      <th>14</th>\n",
              "      <td>10005</td>\n",
              "      <td>Mike</td>\n",
              "      <td>Davis</td>\n",
              "      <td>2000-01-05</td>\n",
              "      <td>F</td>\n",
              "      <td>C</td>\n",
              "      <td>Statistics</td>\n",
              "      <td>90</td>\n",
              "    </tr>\n",
              "    <tr>\n",
              "      <th>15</th>\n",
              "      <td>10006</td>\n",
              "      <td>Jennifer</td>\n",
              "      <td>Wilson</td>\n",
              "      <td>2000-01-06</td>\n",
              "      <td>M</td>\n",
              "      <td>C</td>\n",
              "      <td>Calculus</td>\n",
              "      <td>90</td>\n",
              "    </tr>\n",
              "    <tr>\n",
              "      <th>16</th>\n",
              "      <td>10006</td>\n",
              "      <td>Jennifer</td>\n",
              "      <td>Wilson</td>\n",
              "      <td>2000-01-06</td>\n",
              "      <td>M</td>\n",
              "      <td>C</td>\n",
              "      <td>Geometry</td>\n",
              "      <td>78</td>\n",
              "    </tr>\n",
              "    <tr>\n",
              "      <th>17</th>\n",
              "      <td>10006</td>\n",
              "      <td>Jennifer</td>\n",
              "      <td>Wilson</td>\n",
              "      <td>2000-01-06</td>\n",
              "      <td>M</td>\n",
              "      <td>C</td>\n",
              "      <td>Statistics</td>\n",
              "      <td>68</td>\n",
              "    </tr>\n",
              "    <tr>\n",
              "      <th>18</th>\n",
              "      <td>10007</td>\n",
              "      <td>Jessica</td>\n",
              "      <td>Garcia</td>\n",
              "      <td>2000-01-07</td>\n",
              "      <td>F</td>\n",
              "      <td>B</td>\n",
              "      <td>Calculus</td>\n",
              "      <td>70</td>\n",
              "    </tr>\n",
              "    <tr>\n",
              "      <th>19</th>\n",
              "      <td>10007</td>\n",
              "      <td>Jessica</td>\n",
              "      <td>Garcia</td>\n",
              "      <td>2000-01-07</td>\n",
              "      <td>F</td>\n",
              "      <td>B</td>\n",
              "      <td>Geometry</td>\n",
              "      <td>83</td>\n",
              "    </tr>\n",
              "    <tr>\n",
              "      <th>20</th>\n",
              "      <td>10007</td>\n",
              "      <td>Jessica</td>\n",
              "      <td>Garcia</td>\n",
              "      <td>2000-01-07</td>\n",
              "      <td>F</td>\n",
              "      <td>B</td>\n",
              "      <td>Statistics</td>\n",
              "      <td>80</td>\n",
              "    </tr>\n",
              "    <tr>\n",
              "      <th>21</th>\n",
              "      <td>10008</td>\n",
              "      <td>Fred</td>\n",
              "      <td>Clark</td>\n",
              "      <td>2000-01-08</td>\n",
              "      <td>F</td>\n",
              "      <td>C</td>\n",
              "      <td>Calculus</td>\n",
              "      <td>66</td>\n",
              "    </tr>\n",
              "    <tr>\n",
              "      <th>22</th>\n",
              "      <td>10008</td>\n",
              "      <td>Fred</td>\n",
              "      <td>Clark</td>\n",
              "      <td>2000-01-08</td>\n",
              "      <td>F</td>\n",
              "      <td>C</td>\n",
              "      <td>Geometry</td>\n",
              "      <td>71</td>\n",
              "    </tr>\n",
              "    <tr>\n",
              "      <th>23</th>\n",
              "      <td>10008</td>\n",
              "      <td>Fred</td>\n",
              "      <td>Clark</td>\n",
              "      <td>2000-01-08</td>\n",
              "      <td>F</td>\n",
              "      <td>C</td>\n",
              "      <td>Statistics</td>\n",
              "      <td>94</td>\n",
              "    </tr>\n",
              "    <tr>\n",
              "      <th>24</th>\n",
              "      <td>10009</td>\n",
              "      <td>Bob</td>\n",
              "      <td>Lopez</td>\n",
              "      <td>2000-01-09</td>\n",
              "      <td>F</td>\n",
              "      <td>B</td>\n",
              "      <td>Calculus</td>\n",
              "      <td>91</td>\n",
              "    </tr>\n",
              "    <tr>\n",
              "      <th>25</th>\n",
              "      <td>10009</td>\n",
              "      <td>Bob</td>\n",
              "      <td>Lopez</td>\n",
              "      <td>2000-01-09</td>\n",
              "      <td>F</td>\n",
              "      <td>B</td>\n",
              "      <td>Geometry</td>\n",
              "      <td>81</td>\n",
              "    </tr>\n",
              "    <tr>\n",
              "      <th>26</th>\n",
              "      <td>10009</td>\n",
              "      <td>Bob</td>\n",
              "      <td>Lopez</td>\n",
              "      <td>2000-01-09</td>\n",
              "      <td>F</td>\n",
              "      <td>B</td>\n",
              "      <td>Statistics</td>\n",
              "      <td>75</td>\n",
              "    </tr>\n",
              "  </tbody>\n",
              "</table>\n",
              "</div>"
            ],
            "text/plain": [
              "       id first_name last_name       birth gender class     Subject  score\n",
              "0   10001       John       Doe  2000-01-01      M     A    Calculus     63\n",
              "1   10001       John       Doe  2000-01-01      M     A    Geometry     65\n",
              "2   10001       John       Doe  2000-01-01      M     A  Statistics     63\n",
              "3   10002       Jane     Smith  2000-01-02      F     B    Calculus     63\n",
              "4   10002       Jane     Smith  2000-01-02      F     B    Geometry     64\n",
              "5   10002       Jane     Smith  2000-01-02      F     B  Statistics     94\n",
              "6   10003      Sarah    Thomas  2000-01-03      M     B    Calculus     96\n",
              "7   10003      Sarah    Thomas  2000-01-03      M     B    Geometry     73\n",
              "8   10003      Sarah    Thomas  2000-01-03      M     B  Statistics     61\n",
              "9   10004      Frank     Brown  2000-01-04      M     A    Calculus     88\n",
              "10  10004      Frank     Brown  2000-01-04      M     A    Geometry     73\n",
              "11  10004      Frank     Brown  2000-01-04      M     A  Statistics     86\n",
              "12  10005       Mike     Davis  2000-01-05      F     C    Calculus     94\n",
              "13  10005       Mike     Davis  2000-01-05      F     C    Geometry     78\n",
              "14  10005       Mike     Davis  2000-01-05      F     C  Statistics     90\n",
              "15  10006   Jennifer    Wilson  2000-01-06      M     C    Calculus     90\n",
              "16  10006   Jennifer    Wilson  2000-01-06      M     C    Geometry     78\n",
              "17  10006   Jennifer    Wilson  2000-01-06      M     C  Statistics     68\n",
              "18  10007    Jessica    Garcia  2000-01-07      F     B    Calculus     70\n",
              "19  10007    Jessica    Garcia  2000-01-07      F     B    Geometry     83\n",
              "20  10007    Jessica    Garcia  2000-01-07      F     B  Statistics     80\n",
              "21  10008       Fred     Clark  2000-01-08      F     C    Calculus     66\n",
              "22  10008       Fred     Clark  2000-01-08      F     C    Geometry     71\n",
              "23  10008       Fred     Clark  2000-01-08      F     C  Statistics     94\n",
              "24  10009        Bob     Lopez  2000-01-09      F     B    Calculus     91\n",
              "25  10009        Bob     Lopez  2000-01-09      F     B    Geometry     81\n",
              "26  10009        Bob     Lopez  2000-01-09      F     B  Statistics     75"
            ]
          },
          "execution_count": 2,
          "metadata": {},
          "output_type": "execute_result"
        }
      ],
      "source": [
        "df = pd.read_csv(\"./Data/student_scores.csv\", header=0)\n",
        "df"
      ]
    },
    {
      "cell_type": "code",
      "execution_count": 3,
      "metadata": {
        "id": "rG6qye5u5ls_"
      },
      "outputs": [
        {
          "data": {
            "text/plain": [
              "(27, 8)"
            ]
          },
          "execution_count": 3,
          "metadata": {},
          "output_type": "execute_result"
        }
      ],
      "source": [
        "df.shape"
      ]
    },
    {
      "cell_type": "code",
      "execution_count": 4,
      "metadata": {
        "id": "u0Fr54vq5qdW"
      },
      "outputs": [
        {
          "data": {
            "text/html": [
              "<div>\n",
              "<style scoped>\n",
              "    .dataframe tbody tr th:only-of-type {\n",
              "        vertical-align: middle;\n",
              "    }\n",
              "\n",
              "    .dataframe tbody tr th {\n",
              "        vertical-align: top;\n",
              "    }\n",
              "\n",
              "    .dataframe thead th {\n",
              "        text-align: right;\n",
              "    }\n",
              "</style>\n",
              "<table border=\"1\" class=\"dataframe\">\n",
              "  <thead>\n",
              "    <tr style=\"text-align: right;\">\n",
              "      <th></th>\n",
              "      <th>id</th>\n",
              "      <th>score</th>\n",
              "    </tr>\n",
              "  </thead>\n",
              "  <tbody>\n",
              "    <tr>\n",
              "      <th>count</th>\n",
              "      <td>27.000000</td>\n",
              "      <td>27.000000</td>\n",
              "    </tr>\n",
              "    <tr>\n",
              "      <th>mean</th>\n",
              "      <td>10005.000000</td>\n",
              "      <td>77.703704</td>\n",
              "    </tr>\n",
              "    <tr>\n",
              "      <th>std</th>\n",
              "      <td>2.631174</td>\n",
              "      <td>11.591823</td>\n",
              "    </tr>\n",
              "    <tr>\n",
              "      <th>min</th>\n",
              "      <td>10001.000000</td>\n",
              "      <td>61.000000</td>\n",
              "    </tr>\n",
              "    <tr>\n",
              "      <th>25%</th>\n",
              "      <td>10003.000000</td>\n",
              "      <td>67.000000</td>\n",
              "    </tr>\n",
              "    <tr>\n",
              "      <th>50%</th>\n",
              "      <td>10005.000000</td>\n",
              "      <td>78.000000</td>\n",
              "    </tr>\n",
              "    <tr>\n",
              "      <th>75%</th>\n",
              "      <td>10007.000000</td>\n",
              "      <td>89.000000</td>\n",
              "    </tr>\n",
              "    <tr>\n",
              "      <th>max</th>\n",
              "      <td>10009.000000</td>\n",
              "      <td>96.000000</td>\n",
              "    </tr>\n",
              "  </tbody>\n",
              "</table>\n",
              "</div>"
            ],
            "text/plain": [
              "                 id      score\n",
              "count     27.000000  27.000000\n",
              "mean   10005.000000  77.703704\n",
              "std        2.631174  11.591823\n",
              "min    10001.000000  61.000000\n",
              "25%    10003.000000  67.000000\n",
              "50%    10005.000000  78.000000\n",
              "75%    10007.000000  89.000000\n",
              "max    10009.000000  96.000000"
            ]
          },
          "execution_count": 4,
          "metadata": {},
          "output_type": "execute_result"
        }
      ],
      "source": [
        "df.describe()"
      ]
    },
    {
      "cell_type": "code",
      "execution_count": 5,
      "metadata": {
        "id": "rclWz_sW50H2"
      },
      "outputs": [
        {
          "data": {
            "text/plain": [
              "<bound method DataFrame.info of        id first_name last_name       birth gender class     Subject  score\n",
              "0   10001       John       Doe  2000-01-01      M     A    Calculus     63\n",
              "1   10001       John       Doe  2000-01-01      M     A    Geometry     65\n",
              "2   10001       John       Doe  2000-01-01      M     A  Statistics     63\n",
              "3   10002       Jane     Smith  2000-01-02      F     B    Calculus     63\n",
              "4   10002       Jane     Smith  2000-01-02      F     B    Geometry     64\n",
              "5   10002       Jane     Smith  2000-01-02      F     B  Statistics     94\n",
              "6   10003      Sarah    Thomas  2000-01-03      M     B    Calculus     96\n",
              "7   10003      Sarah    Thomas  2000-01-03      M     B    Geometry     73\n",
              "8   10003      Sarah    Thomas  2000-01-03      M     B  Statistics     61\n",
              "9   10004      Frank     Brown  2000-01-04      M     A    Calculus     88\n",
              "10  10004      Frank     Brown  2000-01-04      M     A    Geometry     73\n",
              "11  10004      Frank     Brown  2000-01-04      M     A  Statistics     86\n",
              "12  10005       Mike     Davis  2000-01-05      F     C    Calculus     94\n",
              "13  10005       Mike     Davis  2000-01-05      F     C    Geometry     78\n",
              "14  10005       Mike     Davis  2000-01-05      F     C  Statistics     90\n",
              "15  10006   Jennifer    Wilson  2000-01-06      M     C    Calculus     90\n",
              "16  10006   Jennifer    Wilson  2000-01-06      M     C    Geometry     78\n",
              "17  10006   Jennifer    Wilson  2000-01-06      M     C  Statistics     68\n",
              "18  10007    Jessica    Garcia  2000-01-07      F     B    Calculus     70\n",
              "19  10007    Jessica    Garcia  2000-01-07      F     B    Geometry     83\n",
              "20  10007    Jessica    Garcia  2000-01-07      F     B  Statistics     80\n",
              "21  10008       Fred     Clark  2000-01-08      F     C    Calculus     66\n",
              "22  10008       Fred     Clark  2000-01-08      F     C    Geometry     71\n",
              "23  10008       Fred     Clark  2000-01-08      F     C  Statistics     94\n",
              "24  10009        Bob     Lopez  2000-01-09      F     B    Calculus     91\n",
              "25  10009        Bob     Lopez  2000-01-09      F     B    Geometry     81\n",
              "26  10009        Bob     Lopez  2000-01-09      F     B  Statistics     75>"
            ]
          },
          "execution_count": 5,
          "metadata": {},
          "output_type": "execute_result"
        }
      ],
      "source": [
        "df.info"
      ]
    },
    {
      "cell_type": "markdown",
      "metadata": {
        "id": "xbF2QRN2xLvG"
      },
      "source": [
        "# **Split Data into Groups**\n",
        "\n",
        "- The **by** parameter can accept one column or multiple columns.\n",
        "- Pandas object can be split into a group in many ways. A **groups** attribute is used to list group data.\n",
        "\n",
        "\n"
      ]
    },
    {
      "cell_type": "markdown",
      "metadata": {
        "id": "_LP-sEVY0bOY"
      },
      "source": [
        "### **Example: Groupby using single column – It makes the group by using a single column.**"
      ]
    },
    {
      "cell_type": "code",
      "execution_count": 6,
      "metadata": {
        "id": "5zlaXBfHv28n"
      },
      "outputs": [
        {
          "data": {
            "text/plain": [
              "{'Bob': [24, 25, 26], 'Frank': [9, 10, 11], 'Fred': [21, 22, 23], 'Jane': [3, 4, 5], 'Jennifer': [15, 16, 17], 'Jessica': [18, 19, 20], 'John': [0, 1, 2], 'Mike': [12, 13, 14], 'Sarah': [6, 7, 8]}"
            ]
          },
          "execution_count": 6,
          "metadata": {},
          "output_type": "execute_result"
        }
      ],
      "source": [
        "item_group = df.groupby('first_name')\n",
        "item_group.groups"
      ]
    },
    {
      "cell_type": "markdown",
      "metadata": {
        "id": "Doojea4hz7Xl"
      },
      "source": [
        "### **Example: Groupby using multiple columns – It forms the group by using multiple columns.**"
      ]
    },
    {
      "cell_type": "code",
      "execution_count": 7,
      "metadata": {
        "id": "l00J6MNAxgZX"
      },
      "outputs": [
        {
          "data": {
            "text/plain": [
              "{('Bob', 'Lopez'): [24, 25, 26], ('Frank', 'Brown'): [9, 10, 11], ('Fred', 'Clark'): [21, 22, 23], ('Jane', 'Smith'): [3, 4, 5], ('Jennifer', 'Wilson'): [15, 16, 17], ('Jessica', 'Garcia'): [18, 19, 20], ('John', 'Doe'): [0, 1, 2], ('Mike', 'Davis'): [12, 13, 14], ('Sarah', 'Thomas'): [6, 7, 8]}"
            ]
          },
          "execution_count": 7,
          "metadata": {},
          "output_type": "execute_result"
        }
      ],
      "source": [
        "Groupby_MultipleColumns = df.groupby([\"first_name\", \"last_name\"])\n",
        "Groupby_MultipleColumns.groups"
      ]
    },
    {
      "cell_type": "markdown",
      "metadata": {
        "id": "---uT1qS1JFN"
      },
      "source": [
        "### **Example: Iterating through Groups**\n",
        "You can also print the group elements by iterating through groups using for loop."
      ]
    },
    {
      "cell_type": "code",
      "execution_count": 9,
      "metadata": {
        "id": "y3NYXI0k1DY_"
      },
      "outputs": [
        {
          "name": "stdout",
          "output_type": "stream",
          "text": [
            "Bob:\n",
            "       id first_name last_name       birth gender class     Subject  score\n",
            "24  10009        Bob     Lopez  2000-01-09      F     B    Calculus     91\n",
            "25  10009        Bob     Lopez  2000-01-09      F     B    Geometry     81\n",
            "26  10009        Bob     Lopez  2000-01-09      F     B  Statistics     75 \n",
            "\n",
            "Frank:\n",
            "       id first_name last_name       birth gender class     Subject  score\n",
            "9   10004      Frank     Brown  2000-01-04      M     A    Calculus     88\n",
            "10  10004      Frank     Brown  2000-01-04      M     A    Geometry     73\n",
            "11  10004      Frank     Brown  2000-01-04      M     A  Statistics     86 \n",
            "\n",
            "Fred:\n",
            "       id first_name last_name       birth gender class     Subject  score\n",
            "21  10008       Fred     Clark  2000-01-08      F     C    Calculus     66\n",
            "22  10008       Fred     Clark  2000-01-08      F     C    Geometry     71\n",
            "23  10008       Fred     Clark  2000-01-08      F     C  Statistics     94 \n",
            "\n",
            "Jane:\n",
            "      id first_name last_name       birth gender class     Subject  score\n",
            "3  10002       Jane     Smith  2000-01-02      F     B    Calculus     63\n",
            "4  10002       Jane     Smith  2000-01-02      F     B    Geometry     64\n",
            "5  10002       Jane     Smith  2000-01-02      F     B  Statistics     94 \n",
            "\n",
            "Jennifer:\n",
            "       id first_name last_name       birth gender class     Subject  score\n",
            "15  10006   Jennifer    Wilson  2000-01-06      M     C    Calculus     90\n",
            "16  10006   Jennifer    Wilson  2000-01-06      M     C    Geometry     78\n",
            "17  10006   Jennifer    Wilson  2000-01-06      M     C  Statistics     68 \n",
            "\n",
            "Jessica:\n",
            "       id first_name last_name       birth gender class     Subject  score\n",
            "18  10007    Jessica    Garcia  2000-01-07      F     B    Calculus     70\n",
            "19  10007    Jessica    Garcia  2000-01-07      F     B    Geometry     83\n",
            "20  10007    Jessica    Garcia  2000-01-07      F     B  Statistics     80 \n",
            "\n",
            "John:\n",
            "      id first_name last_name       birth gender class     Subject  score\n",
            "0  10001       John       Doe  2000-01-01      M     A    Calculus     63\n",
            "1  10001       John       Doe  2000-01-01      M     A    Geometry     65\n",
            "2  10001       John       Doe  2000-01-01      M     A  Statistics     63 \n",
            "\n",
            "Mike:\n",
            "       id first_name last_name       birth gender class     Subject  score\n",
            "12  10005       Mike     Davis  2000-01-05      F     C    Calculus     94\n",
            "13  10005       Mike     Davis  2000-01-05      F     C    Geometry     78\n",
            "14  10005       Mike     Davis  2000-01-05      F     C  Statistics     90 \n",
            "\n",
            "Sarah:\n",
            "      id first_name last_name       birth gender class     Subject  score\n",
            "6  10003      Sarah    Thomas  2000-01-03      M     B    Calculus     96\n",
            "7  10003      Sarah    Thomas  2000-01-03      M     B    Geometry     73\n",
            "8  10003      Sarah    Thomas  2000-01-03      M     B  Statistics     61 \n",
            "\n"
          ]
        }
      ],
      "source": [
        "for name, group in item_group:\n",
        "    print('{}:'.format(name))\n",
        "    print(group, '\\n')"
      ]
    },
    {
      "cell_type": "markdown",
      "metadata": {
        "id": "m9n_9Z6R1ZNl"
      },
      "source": [
        "### **Example: Selecting a Group**\n",
        "The **get_group()** method is used to select a particular group."
      ]
    },
    {
      "cell_type": "code",
      "execution_count": 10,
      "metadata": {
        "id": "W5Zll3-m1h1-"
      },
      "outputs": [
        {
          "data": {
            "text/html": [
              "<div>\n",
              "<style scoped>\n",
              "    .dataframe tbody tr th:only-of-type {\n",
              "        vertical-align: middle;\n",
              "    }\n",
              "\n",
              "    .dataframe tbody tr th {\n",
              "        vertical-align: top;\n",
              "    }\n",
              "\n",
              "    .dataframe thead th {\n",
              "        text-align: right;\n",
              "    }\n",
              "</style>\n",
              "<table border=\"1\" class=\"dataframe\">\n",
              "  <thead>\n",
              "    <tr style=\"text-align: right;\">\n",
              "      <th></th>\n",
              "      <th>id</th>\n",
              "      <th>first_name</th>\n",
              "      <th>last_name</th>\n",
              "      <th>birth</th>\n",
              "      <th>gender</th>\n",
              "      <th>class</th>\n",
              "      <th>Subject</th>\n",
              "      <th>score</th>\n",
              "    </tr>\n",
              "  </thead>\n",
              "  <tbody>\n",
              "    <tr>\n",
              "      <th>0</th>\n",
              "      <td>10001</td>\n",
              "      <td>John</td>\n",
              "      <td>Doe</td>\n",
              "      <td>2000-01-01</td>\n",
              "      <td>M</td>\n",
              "      <td>A</td>\n",
              "      <td>Calculus</td>\n",
              "      <td>63</td>\n",
              "    </tr>\n",
              "    <tr>\n",
              "      <th>3</th>\n",
              "      <td>10002</td>\n",
              "      <td>Jane</td>\n",
              "      <td>Smith</td>\n",
              "      <td>2000-01-02</td>\n",
              "      <td>F</td>\n",
              "      <td>B</td>\n",
              "      <td>Calculus</td>\n",
              "      <td>63</td>\n",
              "    </tr>\n",
              "    <tr>\n",
              "      <th>6</th>\n",
              "      <td>10003</td>\n",
              "      <td>Sarah</td>\n",
              "      <td>Thomas</td>\n",
              "      <td>2000-01-03</td>\n",
              "      <td>M</td>\n",
              "      <td>B</td>\n",
              "      <td>Calculus</td>\n",
              "      <td>96</td>\n",
              "    </tr>\n",
              "    <tr>\n",
              "      <th>9</th>\n",
              "      <td>10004</td>\n",
              "      <td>Frank</td>\n",
              "      <td>Brown</td>\n",
              "      <td>2000-01-04</td>\n",
              "      <td>M</td>\n",
              "      <td>A</td>\n",
              "      <td>Calculus</td>\n",
              "      <td>88</td>\n",
              "    </tr>\n",
              "    <tr>\n",
              "      <th>12</th>\n",
              "      <td>10005</td>\n",
              "      <td>Mike</td>\n",
              "      <td>Davis</td>\n",
              "      <td>2000-01-05</td>\n",
              "      <td>F</td>\n",
              "      <td>C</td>\n",
              "      <td>Calculus</td>\n",
              "      <td>94</td>\n",
              "    </tr>\n",
              "    <tr>\n",
              "      <th>15</th>\n",
              "      <td>10006</td>\n",
              "      <td>Jennifer</td>\n",
              "      <td>Wilson</td>\n",
              "      <td>2000-01-06</td>\n",
              "      <td>M</td>\n",
              "      <td>C</td>\n",
              "      <td>Calculus</td>\n",
              "      <td>90</td>\n",
              "    </tr>\n",
              "    <tr>\n",
              "      <th>18</th>\n",
              "      <td>10007</td>\n",
              "      <td>Jessica</td>\n",
              "      <td>Garcia</td>\n",
              "      <td>2000-01-07</td>\n",
              "      <td>F</td>\n",
              "      <td>B</td>\n",
              "      <td>Calculus</td>\n",
              "      <td>70</td>\n",
              "    </tr>\n",
              "    <tr>\n",
              "      <th>21</th>\n",
              "      <td>10008</td>\n",
              "      <td>Fred</td>\n",
              "      <td>Clark</td>\n",
              "      <td>2000-01-08</td>\n",
              "      <td>F</td>\n",
              "      <td>C</td>\n",
              "      <td>Calculus</td>\n",
              "      <td>66</td>\n",
              "    </tr>\n",
              "    <tr>\n",
              "      <th>24</th>\n",
              "      <td>10009</td>\n",
              "      <td>Bob</td>\n",
              "      <td>Lopez</td>\n",
              "      <td>2000-01-09</td>\n",
              "      <td>F</td>\n",
              "      <td>B</td>\n",
              "      <td>Calculus</td>\n",
              "      <td>91</td>\n",
              "    </tr>\n",
              "  </tbody>\n",
              "</table>\n",
              "</div>"
            ],
            "text/plain": [
              "       id first_name last_name       birth gender class   Subject  score\n",
              "0   10001       John       Doe  2000-01-01      M     A  Calculus     63\n",
              "3   10002       Jane     Smith  2000-01-02      F     B  Calculus     63\n",
              "6   10003      Sarah    Thomas  2000-01-03      M     B  Calculus     96\n",
              "9   10004      Frank     Brown  2000-01-04      M     A  Calculus     88\n",
              "12  10005       Mike     Davis  2000-01-05      F     C  Calculus     94\n",
              "15  10006   Jennifer    Wilson  2000-01-06      M     C  Calculus     90\n",
              "18  10007    Jessica    Garcia  2000-01-07      F     B  Calculus     70\n",
              "21  10008       Fred     Clark  2000-01-08      F     C  Calculus     66\n",
              "24  10009        Bob     Lopez  2000-01-09      F     B  Calculus     91"
            ]
          },
          "execution_count": 10,
          "metadata": {},
          "output_type": "execute_result"
        }
      ],
      "source": [
        "item_group = df.groupby('Subject')\n",
        "#item_group.groups\n",
        "item_group.get_group('Calculus')"
      ]
    },
    {
      "cell_type": "markdown",
      "metadata": {
        "id": "QUKWAfN12Z5W"
      },
      "source": [
        "### **Example: Groupby – Aggregations**"
      ]
    },
    {
      "cell_type": "markdown",
      "metadata": {
        "id": "miZbq_R32eZm"
      },
      "source": [
        "You can use aggregation function such as mean, sum, etc to get the aggregate value of each group. Aggregation functions are used once the group by object is created.\n",
        "\n",
        "Let’s calculate the average score of each Subject."
      ]
    },
    {
      "cell_type": "code",
      "execution_count": 11,
      "metadata": {
        "id": "98_R7HO82Wm-"
      },
      "outputs": [
        {
          "data": {
            "text/plain": [
              "Subject\n",
              "Calculus      80.111111\n",
              "Geometry      74.000000\n",
              "Statistics    79.000000\n",
              "Name: score, dtype: float64"
            ]
          },
          "execution_count": 11,
          "metadata": {},
          "output_type": "execute_result"
        }
      ],
      "source": [
        "# Directly using mean() function\n",
        "agg_group_subject = df.groupby('Subject')['score'].mean()\n",
        "agg_group_subject"
      ]
    },
    {
      "cell_type": "markdown",
      "metadata": {
        "id": "ru0PEjafhrB8"
      },
      "source": [
        "## **Alternativily**: the below line will give the same output.\n"
      ]
    },
    {
      "cell_type": "code",
      "execution_count": 13,
      "metadata": {
        "id": "fZxMLlqVhY2i"
      },
      "outputs": [
        {
          "data": {
            "text/plain": [
              "Subject\n",
              "Calculus      80.111111\n",
              "Geometry      74.000000\n",
              "Statistics    79.000000\n",
              "Name: score, dtype: float64"
            ]
          },
          "execution_count": 13,
          "metadata": {},
          "output_type": "execute_result"
        }
      ],
      "source": [
        "agg_group_subject = df.groupby('Subject')['score'].agg('mean')\n",
        "agg_group_subject"
      ]
    },
    {
      "cell_type": "markdown",
      "metadata": {
        "id": "iyv1sgT23mxG"
      },
      "source": [
        "Let’s calculate the average score of each Student."
      ]
    },
    {
      "cell_type": "code",
      "execution_count": 15,
      "metadata": {
        "id": "hMYG1vWp3dQ2"
      },
      "outputs": [
        {
          "name": "stdout",
          "output_type": "stream",
          "text": [
            "first_name  last_name\n",
            "Bob         Lopez        82.333333\n",
            "Frank       Brown        82.333333\n",
            "Fred        Clark        77.000000\n",
            "Jane        Smith        73.666667\n",
            "Jennifer    Wilson       78.666667\n",
            "Jessica     Garcia       77.666667\n",
            "John        Doe          63.666667\n",
            "Mike        Davis        87.333333\n",
            "Sarah       Thomas       76.666667\n",
            "Name: score, dtype: float64\n"
          ]
        }
      ],
      "source": [
        "agg_group_stu = df.groupby([\"first_name\", \"last_name\"])['score'].mean()\n",
        "print(agg_group_stu)"
      ]
    },
    {
      "cell_type": "markdown",
      "metadata": {
        "id": "s3pBdbCziRwq"
      },
      "source": [
        "## **Alternativily: the below line will give the same output.**"
      ]
    },
    {
      "cell_type": "code",
      "execution_count": 16,
      "metadata": {
        "id": "09W1-ycSh9bc"
      },
      "outputs": [
        {
          "name": "stdout",
          "output_type": "stream",
          "text": [
            "first_name  last_name\n",
            "Bob         Lopez        82.333333\n",
            "Frank       Brown        82.333333\n",
            "Fred        Clark        77.000000\n",
            "Jane        Smith        73.666667\n",
            "Jennifer    Wilson       78.666667\n",
            "Jessica     Garcia       77.666667\n",
            "John        Doe          63.666667\n",
            "Mike        Davis        87.333333\n",
            "Sarah       Thomas       76.666667\n",
            "Name: score, dtype: float64\n"
          ]
        }
      ],
      "source": [
        "agg_group_stu = df.groupby([\"first_name\", \"last_name\"])['score'].agg('mean')\n",
        "print(agg_group_stu)"
      ]
    },
    {
      "cell_type": "markdown",
      "metadata": {
        "id": "sVNXWkqV2uwe"
      },
      "source": [
        "### **Example: Aggregation group for Multiple columns:**\n",
        "You can make groups for aggregation value by using multiple columns\n",
        "\n",
        "Let’s calculate the average and total score of each student."
      ]
    },
    {
      "cell_type": "code",
      "execution_count": null,
      "metadata": {
        "id": "XNPyaZxn2t9B"
      },
      "outputs": [
        {
          "name": "stdout",
          "output_type": "stream",
          "text": [
            "                           mean  sum\n",
            "first_name last_name                \n",
            "Bob        Lopez      82.333333  247\n",
            "Frank      Brown      82.333333  247\n",
            "Fred       Clark      77.000000  231\n",
            "Jane       Smith      73.666667  221\n",
            "Jennifer   Wilson     78.666667  236\n",
            "Jessica    Garcia     77.666667  233\n",
            "John       Doe        63.666667  191\n",
            "Mike       Davis      87.333333  262\n",
            "Sarah      Thomas     76.666667  230\n"
          ]
        },
        {
          "name": "stderr",
          "output_type": "stream",
          "text": [
            "C:\\Users\\james.byers\\AppData\\Local\\Temp\\ipykernel_3804\\1189427603.py:2: FutureWarning: The provided callable <function mean at 0x0000020BD56B9440> is currently using SeriesGroupBy.mean. In a future version of pandas, the provided callable will be used directly. To keep current behavior pass the string \"mean\" instead.\n",
            "  agg_group = df.groupby([\"first_name\", \"last_name\"])['score'].agg([np.mean,np.sum])\n",
            "C:\\Users\\james.byers\\AppData\\Local\\Temp\\ipykernel_3804\\1189427603.py:2: FutureWarning: The provided callable <function sum at 0x0000020BD56B8040> is currently using SeriesGroupBy.sum. In a future version of pandas, the provided callable will be used directly. To keep current behavior pass the string \"sum\" instead.\n",
            "  agg_group = df.groupby([\"first_name\", \"last_name\"])['score'].agg([np.mean,np.sum])\n"
          ]
        }
      ],
      "source": [
        "# In a future version of pandas, the provided callable will be used directly. To keep current behavior pass the string \"mean\" or \"sum\" instead.\n",
        "agg_group = df.groupby([\"first_name\", \"last_name\"])['score'].agg([np.mean, np.sum])\n",
        "print(agg_group)"
      ]
    },
    {
      "cell_type": "markdown",
      "metadata": {
        "id": "h1BZ28aF4Mav"
      },
      "source": [
        "### **Example: Lets count the number of students**"
      ]
    },
    {
      "cell_type": "code",
      "execution_count": 19,
      "metadata": {
        "id": "ITsH-G0K374e"
      },
      "outputs": [
        {
          "data": {
            "text/plain": [
              "first_name  last_name\n",
              "Bob         Lopez        3\n",
              "Frank       Brown        3\n",
              "Fred        Clark        3\n",
              "Jane        Smith        3\n",
              "Jennifer    Wilson       3\n",
              "Jessica     Garcia       3\n",
              "John        Doe          3\n",
              "Mike        Davis        3\n",
              "Sarah       Thomas       3\n",
              "Name: id, dtype: int64"
            ]
          },
          "execution_count": 19,
          "metadata": {},
          "output_type": "execute_result"
        }
      ],
      "source": [
        "agg_group_count = df.groupby([\"first_name\", \"last_name\"])[\"id\"].count()\n",
        "\n",
        "agg_group_count"
      ]
    },
    {
      "cell_type": "markdown",
      "metadata": {
        "id": "JTsySJNq8caW"
      },
      "source": [
        "### **Exmaple: Find the highest score of the each Student**"
      ]
    },
    {
      "cell_type": "code",
      "execution_count": 20,
      "metadata": {
        "id": "bjXZ9Os67_yn"
      },
      "outputs": [
        {
          "data": {
            "text/html": [
              "<div>\n",
              "<style scoped>\n",
              "    .dataframe tbody tr th:only-of-type {\n",
              "        vertical-align: middle;\n",
              "    }\n",
              "\n",
              "    .dataframe tbody tr th {\n",
              "        vertical-align: top;\n",
              "    }\n",
              "\n",
              "    .dataframe thead th {\n",
              "        text-align: right;\n",
              "    }\n",
              "</style>\n",
              "<table border=\"1\" class=\"dataframe\">\n",
              "  <thead>\n",
              "    <tr style=\"text-align: right;\">\n",
              "      <th></th>\n",
              "      <th></th>\n",
              "      <th>id</th>\n",
              "      <th>birth</th>\n",
              "      <th>gender</th>\n",
              "      <th>class</th>\n",
              "      <th>Subject</th>\n",
              "      <th>score</th>\n",
              "    </tr>\n",
              "    <tr>\n",
              "      <th>first_name</th>\n",
              "      <th>last_name</th>\n",
              "      <th></th>\n",
              "      <th></th>\n",
              "      <th></th>\n",
              "      <th></th>\n",
              "      <th></th>\n",
              "      <th></th>\n",
              "    </tr>\n",
              "  </thead>\n",
              "  <tbody>\n",
              "    <tr>\n",
              "      <th>Bob</th>\n",
              "      <th>Lopez</th>\n",
              "      <td>10009</td>\n",
              "      <td>2000-01-09</td>\n",
              "      <td>F</td>\n",
              "      <td>B</td>\n",
              "      <td>Statistics</td>\n",
              "      <td>91</td>\n",
              "    </tr>\n",
              "    <tr>\n",
              "      <th>Frank</th>\n",
              "      <th>Brown</th>\n",
              "      <td>10004</td>\n",
              "      <td>2000-01-04</td>\n",
              "      <td>M</td>\n",
              "      <td>A</td>\n",
              "      <td>Statistics</td>\n",
              "      <td>88</td>\n",
              "    </tr>\n",
              "    <tr>\n",
              "      <th>Fred</th>\n",
              "      <th>Clark</th>\n",
              "      <td>10008</td>\n",
              "      <td>2000-01-08</td>\n",
              "      <td>F</td>\n",
              "      <td>C</td>\n",
              "      <td>Statistics</td>\n",
              "      <td>94</td>\n",
              "    </tr>\n",
              "    <tr>\n",
              "      <th>Jane</th>\n",
              "      <th>Smith</th>\n",
              "      <td>10002</td>\n",
              "      <td>2000-01-02</td>\n",
              "      <td>F</td>\n",
              "      <td>B</td>\n",
              "      <td>Statistics</td>\n",
              "      <td>94</td>\n",
              "    </tr>\n",
              "    <tr>\n",
              "      <th>Jennifer</th>\n",
              "      <th>Wilson</th>\n",
              "      <td>10006</td>\n",
              "      <td>2000-01-06</td>\n",
              "      <td>M</td>\n",
              "      <td>C</td>\n",
              "      <td>Statistics</td>\n",
              "      <td>90</td>\n",
              "    </tr>\n",
              "    <tr>\n",
              "      <th>Jessica</th>\n",
              "      <th>Garcia</th>\n",
              "      <td>10007</td>\n",
              "      <td>2000-01-07</td>\n",
              "      <td>F</td>\n",
              "      <td>B</td>\n",
              "      <td>Statistics</td>\n",
              "      <td>83</td>\n",
              "    </tr>\n",
              "    <tr>\n",
              "      <th>John</th>\n",
              "      <th>Doe</th>\n",
              "      <td>10001</td>\n",
              "      <td>2000-01-01</td>\n",
              "      <td>M</td>\n",
              "      <td>A</td>\n",
              "      <td>Statistics</td>\n",
              "      <td>65</td>\n",
              "    </tr>\n",
              "    <tr>\n",
              "      <th>Mike</th>\n",
              "      <th>Davis</th>\n",
              "      <td>10005</td>\n",
              "      <td>2000-01-05</td>\n",
              "      <td>F</td>\n",
              "      <td>C</td>\n",
              "      <td>Statistics</td>\n",
              "      <td>94</td>\n",
              "    </tr>\n",
              "    <tr>\n",
              "      <th>Sarah</th>\n",
              "      <th>Thomas</th>\n",
              "      <td>10003</td>\n",
              "      <td>2000-01-03</td>\n",
              "      <td>M</td>\n",
              "      <td>B</td>\n",
              "      <td>Statistics</td>\n",
              "      <td>96</td>\n",
              "    </tr>\n",
              "  </tbody>\n",
              "</table>\n",
              "</div>"
            ],
            "text/plain": [
              "                         id       birth gender class     Subject  score\n",
              "first_name last_name                                                   \n",
              "Bob        Lopez      10009  2000-01-09      F     B  Statistics     91\n",
              "Frank      Brown      10004  2000-01-04      M     A  Statistics     88\n",
              "Fred       Clark      10008  2000-01-08      F     C  Statistics     94\n",
              "Jane       Smith      10002  2000-01-02      F     B  Statistics     94\n",
              "Jennifer   Wilson     10006  2000-01-06      M     C  Statistics     90\n",
              "Jessica    Garcia     10007  2000-01-07      F     B  Statistics     83\n",
              "John       Doe        10001  2000-01-01      M     A  Statistics     65\n",
              "Mike       Davis      10005  2000-01-05      F     C  Statistics     94\n",
              "Sarah      Thomas     10003  2000-01-03      M     B  Statistics     96"
            ]
          },
          "execution_count": 20,
          "metadata": {},
          "output_type": "execute_result"
        }
      ],
      "source": [
        "df.groupby([\"first_name\", \"last_name\"]).max()"
      ]
    },
    {
      "cell_type": "markdown",
      "metadata": {
        "id": "DtEZml3K8mHe"
      },
      "source": [
        "### **Example: Find the lowest score of the each Student**"
      ]
    },
    {
      "cell_type": "code",
      "execution_count": 21,
      "metadata": {
        "id": "u9r6wfnN8Vg1"
      },
      "outputs": [
        {
          "data": {
            "text/html": [
              "<div>\n",
              "<style scoped>\n",
              "    .dataframe tbody tr th:only-of-type {\n",
              "        vertical-align: middle;\n",
              "    }\n",
              "\n",
              "    .dataframe tbody tr th {\n",
              "        vertical-align: top;\n",
              "    }\n",
              "\n",
              "    .dataframe thead th {\n",
              "        text-align: right;\n",
              "    }\n",
              "</style>\n",
              "<table border=\"1\" class=\"dataframe\">\n",
              "  <thead>\n",
              "    <tr style=\"text-align: right;\">\n",
              "      <th></th>\n",
              "      <th></th>\n",
              "      <th>id</th>\n",
              "      <th>birth</th>\n",
              "      <th>gender</th>\n",
              "      <th>class</th>\n",
              "      <th>Subject</th>\n",
              "      <th>score</th>\n",
              "    </tr>\n",
              "    <tr>\n",
              "      <th>first_name</th>\n",
              "      <th>last_name</th>\n",
              "      <th></th>\n",
              "      <th></th>\n",
              "      <th></th>\n",
              "      <th></th>\n",
              "      <th></th>\n",
              "      <th></th>\n",
              "    </tr>\n",
              "  </thead>\n",
              "  <tbody>\n",
              "    <tr>\n",
              "      <th>Bob</th>\n",
              "      <th>Lopez</th>\n",
              "      <td>10009</td>\n",
              "      <td>2000-01-09</td>\n",
              "      <td>F</td>\n",
              "      <td>B</td>\n",
              "      <td>Calculus</td>\n",
              "      <td>75</td>\n",
              "    </tr>\n",
              "    <tr>\n",
              "      <th>Frank</th>\n",
              "      <th>Brown</th>\n",
              "      <td>10004</td>\n",
              "      <td>2000-01-04</td>\n",
              "      <td>M</td>\n",
              "      <td>A</td>\n",
              "      <td>Calculus</td>\n",
              "      <td>73</td>\n",
              "    </tr>\n",
              "    <tr>\n",
              "      <th>Fred</th>\n",
              "      <th>Clark</th>\n",
              "      <td>10008</td>\n",
              "      <td>2000-01-08</td>\n",
              "      <td>F</td>\n",
              "      <td>C</td>\n",
              "      <td>Calculus</td>\n",
              "      <td>66</td>\n",
              "    </tr>\n",
              "    <tr>\n",
              "      <th>Jane</th>\n",
              "      <th>Smith</th>\n",
              "      <td>10002</td>\n",
              "      <td>2000-01-02</td>\n",
              "      <td>F</td>\n",
              "      <td>B</td>\n",
              "      <td>Calculus</td>\n",
              "      <td>63</td>\n",
              "    </tr>\n",
              "    <tr>\n",
              "      <th>Jennifer</th>\n",
              "      <th>Wilson</th>\n",
              "      <td>10006</td>\n",
              "      <td>2000-01-06</td>\n",
              "      <td>M</td>\n",
              "      <td>C</td>\n",
              "      <td>Calculus</td>\n",
              "      <td>68</td>\n",
              "    </tr>\n",
              "    <tr>\n",
              "      <th>Jessica</th>\n",
              "      <th>Garcia</th>\n",
              "      <td>10007</td>\n",
              "      <td>2000-01-07</td>\n",
              "      <td>F</td>\n",
              "      <td>B</td>\n",
              "      <td>Calculus</td>\n",
              "      <td>70</td>\n",
              "    </tr>\n",
              "    <tr>\n",
              "      <th>John</th>\n",
              "      <th>Doe</th>\n",
              "      <td>10001</td>\n",
              "      <td>2000-01-01</td>\n",
              "      <td>M</td>\n",
              "      <td>A</td>\n",
              "      <td>Calculus</td>\n",
              "      <td>63</td>\n",
              "    </tr>\n",
              "    <tr>\n",
              "      <th>Mike</th>\n",
              "      <th>Davis</th>\n",
              "      <td>10005</td>\n",
              "      <td>2000-01-05</td>\n",
              "      <td>F</td>\n",
              "      <td>C</td>\n",
              "      <td>Calculus</td>\n",
              "      <td>78</td>\n",
              "    </tr>\n",
              "    <tr>\n",
              "      <th>Sarah</th>\n",
              "      <th>Thomas</th>\n",
              "      <td>10003</td>\n",
              "      <td>2000-01-03</td>\n",
              "      <td>M</td>\n",
              "      <td>B</td>\n",
              "      <td>Calculus</td>\n",
              "      <td>61</td>\n",
              "    </tr>\n",
              "  </tbody>\n",
              "</table>\n",
              "</div>"
            ],
            "text/plain": [
              "                         id       birth gender class   Subject  score\n",
              "first_name last_name                                                 \n",
              "Bob        Lopez      10009  2000-01-09      F     B  Calculus     75\n",
              "Frank      Brown      10004  2000-01-04      M     A  Calculus     73\n",
              "Fred       Clark      10008  2000-01-08      F     C  Calculus     66\n",
              "Jane       Smith      10002  2000-01-02      F     B  Calculus     63\n",
              "Jennifer   Wilson     10006  2000-01-06      M     C  Calculus     68\n",
              "Jessica    Garcia     10007  2000-01-07      F     B  Calculus     70\n",
              "John       Doe        10001  2000-01-01      M     A  Calculus     63\n",
              "Mike       Davis      10005  2000-01-05      F     C  Calculus     78\n",
              "Sarah      Thomas     10003  2000-01-03      M     B  Calculus     61"
            ]
          },
          "execution_count": 21,
          "metadata": {},
          "output_type": "execute_result"
        }
      ],
      "source": [
        "df.groupby([\"first_name\", \"last_name\"]).min()"
      ]
    }
  ],
  "metadata": {
    "colab": {
      "provenance": []
    },
    "kernelspec": {
      "display_name": "Python 3",
      "name": "python3"
    },
    "language_info": {
      "codemirror_mode": {
        "name": "ipython",
        "version": 3
      },
      "file_extension": ".py",
      "mimetype": "text/x-python",
      "name": "python",
      "nbconvert_exporter": "python",
      "pygments_lexer": "ipython3",
      "version": "3.12.0"
    }
  },
  "nbformat": 4,
  "nbformat_minor": 0
}
