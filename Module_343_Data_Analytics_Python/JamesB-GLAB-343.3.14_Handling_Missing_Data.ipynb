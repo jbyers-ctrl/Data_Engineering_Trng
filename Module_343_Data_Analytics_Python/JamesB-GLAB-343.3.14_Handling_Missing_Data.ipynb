{
  "cells": [
    {
      "cell_type": "markdown",
      "metadata": {
        "id": "ydk07LBhHXMG"
      },
      "source": [
        "# **Guided Lab 343.3.14 - Handling Missing Data**\n"
      ]
    },
    {
      "cell_type": "markdown",
      "metadata": {
        "id": "DBXs7_6GHcnj"
      },
      "source": [
        "## **Lab Overview**\n",
        "\n",
        "Missing data is a common problem in real-world datasets. It can occur for various reasons, such as data entry errors, sensor malfunctions, or simply incomplete data collection.\n",
        "\n",
        "In this lab, we will demonstrate how to handle missing data (mostly in the form NaN value) in Pandas, we will utilize the **DataFrame.dropna(), DataFrame.fillna()** and **DataFrame.replace()** functions.\n",
        "\n",
        "## **Lab Objective:**\n",
        "By the end of this lab, learners will be able to:\n",
        "\n",
        "- Describe the need for Handling Missing Data:\n",
        "- Explore the Role of np.nan in Representing Missing Data:\n",
        "- Utilize the **df.dropna(), DataFrame.fillna()**and **DataFrame.replace()** functions to handle missing data.\n",
        "- Identify and understand the implications of missing data in datasets.\n",
        "\n",
        "## **Introduction**\n",
        "\n",
        "Missing data is a common problem in real-world datasets. It can occur for various reasons, such as data entry errors, sensor malfunctions, or simply incomplete data collection.  In this lab, we will demonstrate the techniques for handling missing data using the Pandas library in Python. We will focus on identifying, understanding, and applying different strategies for dealing with missing values. By the end of this lab, you will be equipped with the knowledge and tools to effectively manage missing data in your own datasets.\n",
        "\n",
        "---\n",
        "\n",
        "# **Begin:**"
      ]
    },
    {
      "cell_type": "markdown",
      "metadata": {
        "id": "49A40vQdHwHU"
      },
      "source": [
        "**Example 1: Dropping or Cleaning the Missing Data Using df.dropna() method.**\n",
        "\n",
        "This following example initializes a pandas DataFrame with a dataset representing information about employees. It then demonstrates how to handle missing data by dropping rows containing NaN (Not a Number) values using the **dropna()** function. The **dropna()** function drops all the rows with missing values.\n",
        "\n",
        "\n",
        "\n",
        "**Note:**The *np.nan* values in the dataset are representative of missing or undefined data, and np refers to the NumPy library. Make sure to import NumPy (import numpy as np) before using *np.nan*."
      ]
    },
    {
      "cell_type": "code",
      "execution_count": 1,
      "metadata": {},
      "outputs": [],
      "source": [
        "import pandas as pd\n",
        "import numpy as np"
      ]
    },
    {
      "cell_type": "code",
      "execution_count": 2,
      "metadata": {
        "id": "NFmpnKfiIAVj"
      },
      "outputs": [
        {
          "name": "stdout",
          "output_type": "stream",
          "text": [
            "        Name   Age  Weight     Salary\n",
            "0      James  36.0    75.0  5428000.0\n",
            "1    Villers  38.0    74.0  3428000.0\n",
            "2      VKole  31.0    70.0  8428000.0\n",
            "3      Smith  34.0    80.0  4428000.0\n",
            "4      Gayle  40.0   100.0  4528000.0\n",
            "5       Adam  40.0     NaN  4528000.0\n",
            "6     Rooter  33.0    72.0  7028000.0\n",
            "7   Peterson  42.0    85.0  2528000.0\n",
            "8      lynda  42.0    85.0        NaN\n",
            "9        NaN  42.0    85.0        NaN\n",
            "10     Jenny   NaN   100.0    25632.0\n",
            "11      Kenn   NaN   110.0    25632.0\n",
            "12       Aly   NaN    90.0    25582.0\n",
            "13      John  41.0    85.0  1528000.0\n",
            "---- after dropping or cleaning the missing data ---\n",
            "        Name   Age  Weight     Salary\n",
            "0      James  36.0    75.0  5428000.0\n",
            "1    Villers  38.0    74.0  3428000.0\n",
            "2      VKole  31.0    70.0  8428000.0\n",
            "3      Smith  34.0    80.0  4428000.0\n",
            "4      Gayle  40.0   100.0  4528000.0\n",
            "6     Rooter  33.0    72.0  7028000.0\n",
            "7   Peterson  42.0    85.0  2528000.0\n",
            "13      John  41.0    85.0  1528000.0\n"
          ]
        }
      ],
      "source": [
        "# Initializing the nested list with Data set\n",
        "employee_list = [['James', 36, 75, 5428000],\n",
        "               ['Villers', 38, 74, 3428000],\n",
        "               ['VKole', 31, 70, 8428000],\n",
        "               ['Smith', 34, 80, 4428000],\n",
        "               ['Gayle', 40, 100, 4528000],\n",
        "               ['Adam', 40, np.nan, 4528000],\n",
        "               ['Rooter', 33, 72, 7028000],\n",
        "               ['Peterson', 42, 85, 2528000],\n",
        "               ['lynda', 42, 85, np.nan],\n",
        "               [np.nan, 42, 85, np.nan],\n",
        "               ['Jenny', np.nan, 100, 25632],\n",
        "               ['Kenn', np.nan, 110, 25632],\n",
        "                ['Aly', np.nan, 90, 25582],\n",
        "               ['John', 41, 85, 1528000]]\n",
        "\n",
        "# creating a pandas dataframe\n",
        "df = pd.DataFrame(employee_list, columns=['Name', 'Age', 'Weight', 'Salary'])\n",
        "\n",
        "print(df)\n",
        "print('---- after dropping or cleaning the missing data ---')\n",
        "df = df.dropna()\n",
        "print(df)\n"
      ]
    },
    {
      "cell_type": "markdown",
      "metadata": {
        "id": "9dOnFq_rIONt"
      },
      "source": [
        "Like many other approaches, dropna() also has some pros and cons.\n",
        "\n",
        "**Pros**\n",
        "\n",
        "- Straightforward and simple to use.\n",
        "- Beneficial when missing values have no importance.\n",
        "\n",
        "**Cons**\n",
        "- Using this approach can lead to information loss, which can introduce bias to the final dataset.\n",
        "- This is not appropriate when the data is not missing completely at random.\n",
        "- Data set with a large proportion of missing value can be significantly decreased, which can impact the result of all statistical analysis on that data set.\n"
      ]
    },
    {
      "cell_type": "markdown",
      "metadata": {
        "id": "a767OfwoIZ2j"
      },
      "source": [
        "**Example 2: Filling Missing Data Using df.fillna() method**\n",
        "\n",
        "Pandas has several options for filling or replacing missing values with other values. One of the most convenient methods is the **.fillna()** method; you can use it to replace missing values with:\n",
        "\n",
        "- Specified values.\n",
        "\n",
        "- The values above the missing value.\n",
        "\n",
        "- The values below the missing value.\n",
        "\n",
        "**Syntax:**\n",
        "\n",
        "# `DataFrame.fillna(value=None, method=None, axis=None, inplace=False, limit=None, downcast=None, **kwargs)`\n",
        "\n",
        "**Parameters:**\n",
        "- **value:** static, dictionary, array, series, or dataframe to fill instead of NaN.\n",
        "- **method:** Method is used if the user does not pass any value. Pandas has different methods like bfill(), backfill(), or ffill(), which fills the place with value in the Forward index or Previous/Back, respectively.\n",
        "- **axis:** axis takes int or string value for rows/columns. Input can be 0 or 1 for Integer and ‘index’ or ‘columns’ for String.\n",
        "inplace: a boolean, which makes the changes in the data frame itself if True.\n",
        "- **limit:** an integer value, which specifies the maximum number of consecutive forward/backward NaN value fills.\n",
        "- **downcast**: takes a dict, which specifies what dtype to downcast to which one such as float64 to int64.\n",
        "- **kwargs:** any other keyword arguments.\n",
        "\n"
      ]
    },
    {
      "cell_type": "markdown",
      "metadata": {
        "id": "YV5ZuOZCJT4m"
      },
      "source": [
        "Consider the following Data frame."
      ]
    },
    {
      "cell_type": "code",
      "execution_count": 3,
      "metadata": {
        "id": "zubJ3oOvHUQs"
      },
      "outputs": [
        {
          "name": "stdout",
          "output_type": "stream",
          "text": [
            "        Name  Age  Weight     Salary\n",
            "0      James   36    75.0  5428000.0\n",
            "1    Villers   38    74.0  3428000.0\n",
            "2      VKole   31    70.0  8428000.0\n",
            "3      Smith   34    80.0  4428000.0\n",
            "4      Gayle   40   100.0  4528000.0\n",
            "5       Adam   40     NaN  4528000.0\n",
            "6     Rooter   33    72.0  7028000.0\n",
            "7   Peterson   42    85.0  2528000.0\n",
            "8      lynda   42    85.0        NaN\n",
            "9        NaN   42    85.0        NaN\n",
            "10      John   41    85.0  1528000.0\n"
          ]
        }
      ],
      "source": [
        "# Initializing the nested list with Data set\n",
        "employee_list = [['James', 36, 75, 5428000],\n",
        "               ['Villers', 38, 74, 3428000],\n",
        "               ['VKole', 31, 70, 8428000],\n",
        "               ['Smith', 34, 80, 4428000],\n",
        "               ['Gayle', 40, 100, 4528000],\n",
        "               ['Adam', 40, np.nan, 4528000],\n",
        "               ['Rooter', 33, 72, 7028000],\n",
        "               ['Peterson', 42, 85, 2528000],\n",
        "               ['lynda', 42, 85, np.nan],\n",
        "               [np.nan, 42, 85, np.nan],\n",
        "               ['John', 41, 85, 1528000],]\n",
        "\n",
        "# creating a pandas dataframe\n",
        "df = pd.DataFrame(employee_list, columns=['Name', 'Age', 'Weight', 'Salary'])\n",
        "\n",
        "print(df)\n",
        "\n"
      ]
    },
    {
      "cell_type": "markdown",
      "metadata": {
        "id": "dbpw4jIvJZ0E"
      },
      "source": [
        "# **Example 2.1: fillna() on all columns**"
      ]
    },
    {
      "cell_type": "code",
      "execution_count": 4,
      "metadata": {
        "id": "5cCmcwtTJZA8"
      },
      "outputs": [
        {
          "name": "stdout",
          "output_type": "stream",
          "text": [
            "---------------Before Cleaning NaN values--------------\n",
            "        Name   Age  Weight     Salary\n",
            "0      James  36.0    75.0  5428000.0\n",
            "1    Villers  38.0    74.0  3428000.0\n",
            "2       Kole  31.0    70.0  8428000.0\n",
            "3      Smith  34.0    80.0  4428000.0\n",
            "4      Gayle  40.0   100.0  4528000.0\n",
            "5       Adam  40.0     NaN  4528000.0\n",
            "6     Rooter  33.0    72.0  7028000.0\n",
            "7   Peterson  42.0    85.0  2528000.0\n",
            "8      lynda  42.0    85.0        NaN\n",
            "9        NaN  42.0    85.0        NaN\n",
            "10     Jenny   NaN   100.0    25632.0\n",
            "11      Kenn   NaN   110.0    25632.0\n",
            "12       Aly   NaN    90.0    25582.0\n",
            "13      John  41.0    85.0  1528000.0\n",
            "---------------after filling all columns------------\n",
            "        Name   Age Weight     Salary\n",
            "0      James  36.0   75.0  5428000.0\n",
            "1    Villers  38.0   74.0  3428000.0\n",
            "2       Kole  31.0   70.0  8428000.0\n",
            "3      Smith  34.0   80.0  4428000.0\n",
            "4      Gayle  40.0  100.0  4528000.0\n",
            "5       Adam  40.0   None  4528000.0\n",
            "6     Rooter  33.0   72.0  7028000.0\n",
            "7   Peterson  42.0   85.0  2528000.0\n",
            "8      lynda  42.0   85.0       None\n",
            "9       None  42.0   85.0       None\n",
            "10     Jenny  None  100.0    25632.0\n",
            "11      Kenn  None  110.0    25632.0\n",
            "12       Aly  None   90.0    25582.0\n",
            "13      John  41.0   85.0  1528000.0\n"
          ]
        }
      ],
      "source": [
        "# fillna() on all columns\n",
        "# Initializing the nested list with Data set\n",
        "employee_list = [['James', 36, 75, 5428000],\n",
        "               ['Villers', 38, 74, 3428000],\n",
        "               ['Kole', 31, 70, 8428000],\n",
        "               ['Smith', 34, 80, 4428000],\n",
        "               ['Gayle', 40, 100, 4528000],\n",
        "               ['Adam', 40, np.nan, 4528000],\n",
        "               ['Rooter', 33, 72, 7028000],\n",
        "               ['Peterson', 42, 85, 2528000],\n",
        "               ['lynda', 42, 85, np.nan],\n",
        "               [np.nan, 42, 85, np.nan],\n",
        "               ['Jenny', np.nan, 100, 25632],\n",
        "               ['Kenn', np.nan, 110, 25632],\n",
        "                ['Aly', np.nan, 90, 25582],\n",
        "               ['John', 41, 85, 1528000],]\n",
        "\n",
        "# creating a pandas dataframe\n",
        "df = pd.DataFrame(employee_list, columns=['Name', 'Age', 'Weight', 'Salary'])\n",
        "print(\"---------------Before Cleaning NaN values--------------\")\n",
        "print(df)\n",
        "print('---------------after filling all columns------------')\n",
        "print(df.fillna('None'))\n",
        "\n"
      ]
    },
    {
      "cell_type": "markdown",
      "metadata": {
        "id": "qpZY-gO4Jfuk"
      },
      "source": [
        "## **Example 2.2:  Fill same value on multiple columns from NaN values**\n",
        "\n",
        "The below example updates columns 'Weight' and 'Age' with 'pending' for NaN values:\n",
        "\n",
        "\n",
        "\n",
        "\n"
      ]
    },
    {
      "cell_type": "code",
      "execution_count": 7,
      "metadata": {
        "id": "WgHyNGWmJhp3"
      },
      "outputs": [
        {
          "name": "stdout",
          "output_type": "stream",
          "text": [
            "---------------Before Cleaning NaN values--------------\n",
            "        Name   Age  Weight     Salary\n",
            "0      James  36.0    75.0  5428000.0\n",
            "1    Villers  38.0    74.0  3428000.0\n",
            "2      VKole  31.0    70.0  8428000.0\n",
            "3      Smith  34.0    80.0  4428000.0\n",
            "4      Gayle  40.0   100.0  4528000.0\n",
            "5       Adam  40.0     NaN  4528000.0\n",
            "6     Rooter  33.0    72.0  7028000.0\n",
            "7   Peterson  42.0    85.0  2528000.0\n",
            "8      lynda  42.0    85.0        NaN\n",
            "9        NaN  42.0    85.0        NaN\n",
            "10     Jenny   NaN   100.0    25632.0\n",
            "11      Kenn   NaN   110.0    25632.0\n",
            "12       Aly   NaN    90.0    25582.0\n",
            "13      John  41.0    85.0  1528000.0\n",
            "---------------after Cleaning NaN values from multiple columns--------------\n",
            "     Weight      Age\n",
            "0      75.0     36.0\n",
            "1      74.0     38.0\n",
            "2      70.0     31.0\n",
            "3      80.0     34.0\n",
            "4     100.0     40.0\n",
            "5   pending     40.0\n",
            "6      72.0     33.0\n",
            "7      85.0     42.0\n",
            "8      85.0     42.0\n",
            "9      85.0     42.0\n",
            "10    100.0  pending\n",
            "11    110.0  pending\n",
            "12     90.0  pending\n",
            "13     85.0     41.0\n"
          ]
        }
      ],
      "source": [
        "employee_list = [['James', 36, 75, 5428000],\n",
        "               ['Villers', 38, 74, 3428000],\n",
        "               ['VKole', 31, 70, 8428000],\n",
        "               ['Smith', 34, 80, 4428000],\n",
        "               ['Gayle', 40, 100, 4528000],\n",
        "               ['Adam', 40, np.nan, 4528000],\n",
        "               ['Rooter', 33, 72, 7028000],\n",
        "               ['Peterson', 42, 85, 2528000],\n",
        "               ['lynda', 42, 85, np.nan],\n",
        "               [np.nan, 42, 85, np.nan],\n",
        "               ['Jenny', np.nan, 100, 25632],\n",
        "               ['Kenn', np.nan, 110, 25632],\n",
        "                ['Aly', np.nan, 90, 25582],\n",
        "               ['John', 41, 85, 1528000],]\n",
        "\n",
        "# creating a pandas dataframe\n",
        "df = pd.DataFrame(employee_list, columns=['Name', 'Age', 'Weight', 'Salary'])\n",
        "print(\"---------------Before Cleaning NaN values--------------\")\n",
        "print(df)\n",
        "\n",
        "print(\"---------------after Cleaning NaN values from multiple columns--------------\")\n",
        "df = df[['Weight','Age']].fillna('pending')\n",
        "print(df)\n"
      ]
    },
    {
      "cell_type": "markdown",
      "metadata": {
        "id": "q1SfqcuoOH61"
      },
      "source": [
        "## **Example 2.3:  Fill different value for each column**\n",
        "Fill different value for each column from NaN values\n",
        "Now, let’s see how to fill different values for each column. The below example updates column:\n",
        "\n",
        "- ‘Name’ with ‘verification pending’,\n",
        "\n",
        "- ‘Weight’ with ‘pending’,\n",
        "\n",
        "- ‘Age’ with ‘unknown’\n",
        "\n",
        "- ‘Salary’ with ‘0.0’ for NaN values.\n",
        "\n",
        "\n",
        "\n",
        "\n",
        "\n",
        "\n"
      ]
    },
    {
      "cell_type": "code",
      "execution_count": 8,
      "metadata": {
        "id": "LDGjGqGeOLo1"
      },
      "outputs": [
        {
          "name": "stdout",
          "output_type": "stream",
          "text": [
            "---------------Before Cleaning NaN values--------------\n",
            "        Name   Age  Weight     Salary\n",
            "0      James  36.0    75.0  5428000.0\n",
            "1    Villers  38.0    74.0  3428000.0\n",
            "2      VKole  31.0    70.0  8428000.0\n",
            "3      Smith  34.0    80.0  4428000.0\n",
            "4      Gayle  40.0   100.0  4528000.0\n",
            "5       Adam  40.0     NaN  4528000.0\n",
            "6     Rooter  33.0    72.0  7028000.0\n",
            "7   Peterson  42.0    85.0  2528000.0\n",
            "8      lynda  42.0    85.0        NaN\n",
            "9        NaN  42.0    85.0        NaN\n",
            "10     Jenny   NaN   100.0    25632.0\n",
            "11      Kenn   NaN   110.0    25632.0\n",
            "12       Aly   NaN    90.0    25582.0\n",
            "13      John  41.0    85.0  1528000.0\n",
            "-----after Cleaning NaN values from multiple columns--------------\n"
          ]
        },
        {
          "data": {
            "text/html": [
              "<div>\n",
              "<style scoped>\n",
              "    .dataframe tbody tr th:only-of-type {\n",
              "        vertical-align: middle;\n",
              "    }\n",
              "\n",
              "    .dataframe tbody tr th {\n",
              "        vertical-align: top;\n",
              "    }\n",
              "\n",
              "    .dataframe thead th {\n",
              "        text-align: right;\n",
              "    }\n",
              "</style>\n",
              "<table border=\"1\" class=\"dataframe\">\n",
              "  <thead>\n",
              "    <tr style=\"text-align: right;\">\n",
              "      <th></th>\n",
              "      <th>Name</th>\n",
              "      <th>Age</th>\n",
              "      <th>Weight</th>\n",
              "      <th>Salary</th>\n",
              "    </tr>\n",
              "  </thead>\n",
              "  <tbody>\n",
              "    <tr>\n",
              "      <th>0</th>\n",
              "      <td>James</td>\n",
              "      <td>36.0</td>\n",
              "      <td>75.0</td>\n",
              "      <td>5428000.0</td>\n",
              "    </tr>\n",
              "    <tr>\n",
              "      <th>1</th>\n",
              "      <td>Villers</td>\n",
              "      <td>38.0</td>\n",
              "      <td>74.0</td>\n",
              "      <td>3428000.0</td>\n",
              "    </tr>\n",
              "    <tr>\n",
              "      <th>2</th>\n",
              "      <td>VKole</td>\n",
              "      <td>31.0</td>\n",
              "      <td>70.0</td>\n",
              "      <td>8428000.0</td>\n",
              "    </tr>\n",
              "    <tr>\n",
              "      <th>3</th>\n",
              "      <td>Smith</td>\n",
              "      <td>34.0</td>\n",
              "      <td>80.0</td>\n",
              "      <td>4428000.0</td>\n",
              "    </tr>\n",
              "    <tr>\n",
              "      <th>4</th>\n",
              "      <td>Gayle</td>\n",
              "      <td>40.0</td>\n",
              "      <td>100.0</td>\n",
              "      <td>4528000.0</td>\n",
              "    </tr>\n",
              "    <tr>\n",
              "      <th>5</th>\n",
              "      <td>Adam</td>\n",
              "      <td>40.0</td>\n",
              "      <td>Pending</td>\n",
              "      <td>4528000.0</td>\n",
              "    </tr>\n",
              "    <tr>\n",
              "      <th>6</th>\n",
              "      <td>Rooter</td>\n",
              "      <td>33.0</td>\n",
              "      <td>72.0</td>\n",
              "      <td>7028000.0</td>\n",
              "    </tr>\n",
              "    <tr>\n",
              "      <th>7</th>\n",
              "      <td>Peterson</td>\n",
              "      <td>42.0</td>\n",
              "      <td>85.0</td>\n",
              "      <td>2528000.0</td>\n",
              "    </tr>\n",
              "    <tr>\n",
              "      <th>8</th>\n",
              "      <td>lynda</td>\n",
              "      <td>42.0</td>\n",
              "      <td>85.0</td>\n",
              "      <td>0.0</td>\n",
              "    </tr>\n",
              "    <tr>\n",
              "      <th>9</th>\n",
              "      <td>Verification pending</td>\n",
              "      <td>42.0</td>\n",
              "      <td>85.0</td>\n",
              "      <td>0.0</td>\n",
              "    </tr>\n",
              "    <tr>\n",
              "      <th>10</th>\n",
              "      <td>Jenny</td>\n",
              "      <td>Unknown</td>\n",
              "      <td>100.0</td>\n",
              "      <td>25632.0</td>\n",
              "    </tr>\n",
              "    <tr>\n",
              "      <th>11</th>\n",
              "      <td>Kenn</td>\n",
              "      <td>Unknown</td>\n",
              "      <td>110.0</td>\n",
              "      <td>25632.0</td>\n",
              "    </tr>\n",
              "    <tr>\n",
              "      <th>12</th>\n",
              "      <td>Aly</td>\n",
              "      <td>Unknown</td>\n",
              "      <td>90.0</td>\n",
              "      <td>25582.0</td>\n",
              "    </tr>\n",
              "    <tr>\n",
              "      <th>13</th>\n",
              "      <td>John</td>\n",
              "      <td>41.0</td>\n",
              "      <td>85.0</td>\n",
              "      <td>1528000.0</td>\n",
              "    </tr>\n",
              "  </tbody>\n",
              "</table>\n",
              "</div>"
            ],
            "text/plain": [
              "                    Name      Age   Weight     Salary\n",
              "0                  James     36.0     75.0  5428000.0\n",
              "1                Villers     38.0     74.0  3428000.0\n",
              "2                  VKole     31.0     70.0  8428000.0\n",
              "3                  Smith     34.0     80.0  4428000.0\n",
              "4                  Gayle     40.0    100.0  4528000.0\n",
              "5                   Adam     40.0  Pending  4528000.0\n",
              "6                 Rooter     33.0     72.0  7028000.0\n",
              "7               Peterson     42.0     85.0  2528000.0\n",
              "8                  lynda     42.0     85.0        0.0\n",
              "9   Verification pending     42.0     85.0        0.0\n",
              "10                 Jenny  Unknown    100.0    25632.0\n",
              "11                  Kenn  Unknown    110.0    25632.0\n",
              "12                   Aly  Unknown     90.0    25582.0\n",
              "13                  John     41.0     85.0  1528000.0"
            ]
          },
          "execution_count": 8,
          "metadata": {},
          "output_type": "execute_result"
        }
      ],
      "source": [
        "employee_list = [['James', 36, 75, 5428000],\n",
        "               ['Villers', 38, 74, 3428000],\n",
        "               ['VKole', 31, 70, 8428000],\n",
        "               ['Smith', 34, 80, 4428000],\n",
        "               ['Gayle', 40, 100, 4528000],\n",
        "               ['Adam', 40, np.nan, 4528000],\n",
        "               ['Rooter', 33, 72, 7028000],\n",
        "               ['Peterson', 42, 85, 2528000],\n",
        "               ['lynda', 42, 85, np.nan],\n",
        "               [np.nan, 42, 85, np.nan],\n",
        "               ['Jenny', np.nan, 100, 25632],\n",
        "               ['Kenn', np.nan, 110, 25632],\n",
        "                ['Aly', np.nan, 90, 25582],\n",
        "               ['John', 41, 85, 1528000],]\n",
        "\n",
        "# creating a pandas dataframe\n",
        "df = pd.DataFrame(employee_list, columns=['Name', 'Age', 'Weight', 'Salary'])\n",
        "print(\"---------------Before Cleaning NaN values--------------\")\n",
        "print(df)\n",
        "print(\"-----after Cleaning NaN values from multiple columns--------------\")\n",
        "\n",
        "df2 = df.fillna(value={'Weight':'Pending','Age':\"Unknown\", 'Salary': \"0.0\", 'Name': \"Verification pending\"})\n",
        "\n",
        "df2"
      ]
    },
    {
      "cell_type": "markdown",
      "metadata": {
        "id": "pLVHvyyNOYI9"
      },
      "source": [
        "# **Pandas Replace NaN with Blank/Empty String**\n",
        "\n",
        "By using replace() or fillna() methods, you can replace NaN values with a Blank/Empty string in Pandas DataFrame.\n",
        "\n",
        "Now, let’s create a DataFrame with a few rows and columns, and execute some examples and validate the results. Our DataFrame contains column names Courses, Fee, Duration and Discount."
      ]
    },
    {
      "cell_type": "code",
      "execution_count": 9,
      "metadata": {
        "id": "FnqIQMTTOZgt"
      },
      "outputs": [
        {
          "data": {
            "text/html": [
              "<div>\n",
              "<style scoped>\n",
              "    .dataframe tbody tr th:only-of-type {\n",
              "        vertical-align: middle;\n",
              "    }\n",
              "\n",
              "    .dataframe tbody tr th {\n",
              "        vertical-align: top;\n",
              "    }\n",
              "\n",
              "    .dataframe thead th {\n",
              "        text-align: right;\n",
              "    }\n",
              "</style>\n",
              "<table border=\"1\" class=\"dataframe\">\n",
              "  <thead>\n",
              "    <tr style=\"text-align: right;\">\n",
              "      <th></th>\n",
              "      <th>Courses</th>\n",
              "      <th>Fee</th>\n",
              "      <th>Duration</th>\n",
              "      <th>Discount</th>\n",
              "    </tr>\n",
              "  </thead>\n",
              "  <tbody>\n",
              "    <tr>\n",
              "      <th>0</th>\n",
              "      <td>Spark</td>\n",
              "      <td>20000.0</td>\n",
              "      <td>NaN</td>\n",
              "      <td>1000.0</td>\n",
              "    </tr>\n",
              "    <tr>\n",
              "      <th>1</th>\n",
              "      <td>NaN</td>\n",
              "      <td>25000.0</td>\n",
              "      <td>40days</td>\n",
              "      <td>NaN</td>\n",
              "    </tr>\n",
              "    <tr>\n",
              "      <th>2</th>\n",
              "      <td>Hadoop</td>\n",
              "      <td>NaN</td>\n",
              "      <td>35days</td>\n",
              "      <td>1500.0</td>\n",
              "    </tr>\n",
              "    <tr>\n",
              "      <th>3</th>\n",
              "      <td>Python</td>\n",
              "      <td>22000.0</td>\n",
              "      <td>NaN</td>\n",
              "      <td>NaN</td>\n",
              "    </tr>\n",
              "    <tr>\n",
              "      <th>4</th>\n",
              "      <td>pandas</td>\n",
              "      <td>24000.0</td>\n",
              "      <td>60days</td>\n",
              "      <td>2500.0</td>\n",
              "    </tr>\n",
              "    <tr>\n",
              "      <th>5</th>\n",
              "      <td>NaN</td>\n",
              "      <td>NaN</td>\n",
              "      <td>50days</td>\n",
              "      <td>2100.0</td>\n",
              "    </tr>\n",
              "    <tr>\n",
              "      <th>6</th>\n",
              "      <td>Java</td>\n",
              "      <td>22000.0</td>\n",
              "      <td>55days</td>\n",
              "      <td>NaN</td>\n",
              "    </tr>\n",
              "  </tbody>\n",
              "</table>\n",
              "</div>"
            ],
            "text/plain": [
              "  Courses      Fee Duration  Discount\n",
              "0   Spark  20000.0      NaN    1000.0\n",
              "1     NaN  25000.0   40days       NaN\n",
              "2  Hadoop      NaN   35days    1500.0\n",
              "3  Python  22000.0      NaN       NaN\n",
              "4  pandas  24000.0   60days    2500.0\n",
              "5     NaN      NaN   50days    2100.0\n",
              "6    Java  22000.0   55days       NaN"
            ]
          },
          "execution_count": 9,
          "metadata": {},
          "output_type": "execute_result"
        }
      ],
      "source": [
        "technologies = {\n",
        "    'Courses':[\"Spark\",np.nan,\"Hadoop\",\"Python\",\"pandas\",np.nan,\"Java\"],\n",
        "    'Fee' :[20000,25000, np.nan,22000,24000,np.nan,22000],\n",
        "    'Duration':[np.nan,'40days','35days', np.nan,'60days','50days','55days'],\n",
        "    'Discount':[1000,np.nan,1500,np.nan,2500,2100,np.nan]\n",
        "              }\n",
        "df = pd.DataFrame(technologies)\n",
        "df\n"
      ]
    },
    {
      "cell_type": "markdown",
      "metadata": {
        "id": "YCuMP1oXOibN"
      },
      "source": [
        "**Example 3: Convert NaN to Empty String in Pandas**\n",
        "\n",
        "Use **df.replace(np.nan,'',regex=True)** method to replace all NaN values to an empty string in the Pandas DataFrame column.\n"
      ]
    },
    {
      "cell_type": "code",
      "execution_count": null,
      "metadata": {
        "id": "6ehVyVz4Ojxs"
      },
      "outputs": [
        {
          "data": {
            "text/html": [
              "<div>\n",
              "<style scoped>\n",
              "    .dataframe tbody tr th:only-of-type {\n",
              "        vertical-align: middle;\n",
              "    }\n",
              "\n",
              "    .dataframe tbody tr th {\n",
              "        vertical-align: top;\n",
              "    }\n",
              "\n",
              "    .dataframe thead th {\n",
              "        text-align: right;\n",
              "    }\n",
              "</style>\n",
              "<table border=\"1\" class=\"dataframe\">\n",
              "  <thead>\n",
              "    <tr style=\"text-align: right;\">\n",
              "      <th></th>\n",
              "      <th>Courses</th>\n",
              "      <th>Fee</th>\n",
              "      <th>Duration</th>\n",
              "      <th>Discount</th>\n",
              "    </tr>\n",
              "  </thead>\n",
              "  <tbody>\n",
              "    <tr>\n",
              "      <th>0</th>\n",
              "      <td>Spark</td>\n",
              "      <td>20000.0</td>\n",
              "      <td></td>\n",
              "      <td>1000.0</td>\n",
              "    </tr>\n",
              "    <tr>\n",
              "      <th>1</th>\n",
              "      <td></td>\n",
              "      <td>25000.0</td>\n",
              "      <td>40days</td>\n",
              "      <td></td>\n",
              "    </tr>\n",
              "    <tr>\n",
              "      <th>2</th>\n",
              "      <td>Hadoop</td>\n",
              "      <td></td>\n",
              "      <td>35days</td>\n",
              "      <td>1500.0</td>\n",
              "    </tr>\n",
              "    <tr>\n",
              "      <th>3</th>\n",
              "      <td>Python</td>\n",
              "      <td>22000.0</td>\n",
              "      <td></td>\n",
              "      <td></td>\n",
              "    </tr>\n",
              "    <tr>\n",
              "      <th>4</th>\n",
              "      <td>pandas</td>\n",
              "      <td>24000.0</td>\n",
              "      <td>60days</td>\n",
              "      <td>2500.0</td>\n",
              "    </tr>\n",
              "    <tr>\n",
              "      <th>5</th>\n",
              "      <td></td>\n",
              "      <td></td>\n",
              "      <td>50days</td>\n",
              "      <td>2100.0</td>\n",
              "    </tr>\n",
              "    <tr>\n",
              "      <th>6</th>\n",
              "      <td>Java</td>\n",
              "      <td>22000.0</td>\n",
              "      <td>55days</td>\n",
              "      <td></td>\n",
              "    </tr>\n",
              "  </tbody>\n",
              "</table>\n",
              "</div>"
            ],
            "text/plain": [
              "  Courses      Fee Duration Discount\n",
              "0   Spark  20000.0            1000.0\n",
              "1          25000.0   40days         \n",
              "2  Hadoop            35days   1500.0\n",
              "3  Python  22000.0                  \n",
              "4  pandas  24000.0   60days   2500.0\n",
              "5                    50days   2100.0\n",
              "6    Java  22000.0   55days         "
            ]
          },
          "execution_count": 10,
          "metadata": {},
          "output_type": "execute_result"
        }
      ],
      "source": [
        "technologies = {\n",
        "    'Courses':[\"Spark\",np.nan,\"Hadoop\",\"Python\",\"pandas\",np.nan,\"Java\"],\n",
        "    'Fee' :[20000,25000, np.nan,22000,24000,np.nan,22000],\n",
        "    'Duration':[np.nan,'40days','35days', np.nan,'60days','50days','55days'],\n",
        "    'Discount':[1000,np.nan,1500,np.nan,2500,2100,np.nan]\n",
        "              }\n",
        "df = pd.DataFrame(technologies)\n",
        "df2 = df.replace(np.nan, '', regex=True)\n",
        "df2"
      ]
    },
    {
      "cell_type": "markdown",
      "metadata": {
        "id": "w47kwE9nOlXc"
      },
      "source": [
        "**Example 4: Multiple Columns Replace Empty String**\n",
        "\n",
        "In order to replace NaN values with Blank strings on multiple columns or all columns from a list, use **df[['Courses','Fee']] = df[['Courses','Fee']].fillna('')**. This replaces NaN values on Courses and Fee columns.\n"
      ]
    },
    {
      "cell_type": "code",
      "execution_count": 11,
      "metadata": {
        "id": "SqEB0g4GOtVl"
      },
      "outputs": [
        {
          "name": "stdout",
          "output_type": "stream",
          "text": [
            "   Courses      Fee\n",
            "0    Spark  20000.0\n",
            "1  PENDING  25000.0\n",
            "2   Hadoop  PENDING\n",
            "3   Python  22000.0\n",
            "4   pandas  24000.0\n",
            "5  PENDING  PENDING\n",
            "6     Java  22000.0\n"
          ]
        }
      ],
      "source": [
        "technologies = {\n",
        "    'Courses':[\"Spark\",np.nan,\"Hadoop\",\"Python\",\"pandas\",np.nan,\"Java\"],\n",
        "    'Fee' :[20000,25000, np.nan,22000,24000,np.nan,22000],\n",
        "    'Duration':[np.nan,'40days','35days', np.nan,'60days','50days','55days'],\n",
        "    'Discount':[1000,np.nan,1500,np.nan,2500,2100,np.nan]\n",
        "              }\n",
        "df = pd.DataFrame(technologies)\n",
        "\n",
        "# Using multiple columns\n",
        "df2 = df[['Courses','Fee' ]] = df[['Courses','Fee' ]].fillna('PENDING')\n",
        "print(df2)\n",
        "\n"
      ]
    },
    {
      "cell_type": "markdown",
      "metadata": {
        "id": "9Y8tGNHNOwYj"
      },
      "source": [
        "**Example 5: fillna() with inplace=True**\n",
        "\n",
        "Notice that the above output after applying fillna() function returns a new DataFrame. In order to update the current/referring DataFrame in place, use df.fillna('',inplace=True). When using this, the fillna() method returns the None type.\n"
      ]
    },
    {
      "cell_type": "code",
      "execution_count": 14,
      "metadata": {
        "id": "Pr7BqjIEOyoE"
      },
      "outputs": [
        {
          "name": "stdout",
          "output_type": "stream",
          "text": [
            "None\n"
          ]
        },
        {
          "name": "stderr",
          "output_type": "stream",
          "text": [
            "C:\\Users\\james.byers\\AppData\\Local\\Temp\\ipykernel_16776\\3567312899.py:12: FutureWarning: Setting an item of incompatible dtype is deprecated and will raise an error in a future version of pandas. Value 'Pending' has dtype incompatible with float64, please explicitly cast to a compatible dtype first.\n",
            "  df2 = df.fillna('Pending', inplace=True)\n"
          ]
        },
        {
          "data": {
            "text/html": [
              "<div>\n",
              "<style scoped>\n",
              "    .dataframe tbody tr th:only-of-type {\n",
              "        vertical-align: middle;\n",
              "    }\n",
              "\n",
              "    .dataframe tbody tr th {\n",
              "        vertical-align: top;\n",
              "    }\n",
              "\n",
              "    .dataframe thead th {\n",
              "        text-align: right;\n",
              "    }\n",
              "</style>\n",
              "<table border=\"1\" class=\"dataframe\">\n",
              "  <thead>\n",
              "    <tr style=\"text-align: right;\">\n",
              "      <th></th>\n",
              "      <th>Courses</th>\n",
              "      <th>Fee</th>\n",
              "      <th>Duration</th>\n",
              "      <th>Discount</th>\n",
              "    </tr>\n",
              "  </thead>\n",
              "  <tbody>\n",
              "    <tr>\n",
              "      <th>0</th>\n",
              "      <td>Spark</td>\n",
              "      <td>20000.0</td>\n",
              "      <td>Pending</td>\n",
              "      <td>1000.0</td>\n",
              "    </tr>\n",
              "    <tr>\n",
              "      <th>1</th>\n",
              "      <td>Pending</td>\n",
              "      <td>25000.0</td>\n",
              "      <td>40days</td>\n",
              "      <td>Pending</td>\n",
              "    </tr>\n",
              "    <tr>\n",
              "      <th>2</th>\n",
              "      <td>Hadoop</td>\n",
              "      <td>Pending</td>\n",
              "      <td>35days</td>\n",
              "      <td>1500.0</td>\n",
              "    </tr>\n",
              "    <tr>\n",
              "      <th>3</th>\n",
              "      <td>Python</td>\n",
              "      <td>22000.0</td>\n",
              "      <td>Pending</td>\n",
              "      <td>Pending</td>\n",
              "    </tr>\n",
              "    <tr>\n",
              "      <th>4</th>\n",
              "      <td>pandas</td>\n",
              "      <td>24000.0</td>\n",
              "      <td>60days</td>\n",
              "      <td>2500.0</td>\n",
              "    </tr>\n",
              "    <tr>\n",
              "      <th>5</th>\n",
              "      <td>Pending</td>\n",
              "      <td>Pending</td>\n",
              "      <td>50days</td>\n",
              "      <td>2100.0</td>\n",
              "    </tr>\n",
              "    <tr>\n",
              "      <th>6</th>\n",
              "      <td>Java</td>\n",
              "      <td>22000.0</td>\n",
              "      <td>55days</td>\n",
              "      <td>Pending</td>\n",
              "    </tr>\n",
              "  </tbody>\n",
              "</table>\n",
              "</div>"
            ],
            "text/plain": [
              "   Courses      Fee Duration Discount\n",
              "0    Spark  20000.0  Pending   1000.0\n",
              "1  Pending  25000.0   40days  Pending\n",
              "2   Hadoop  Pending   35days   1500.0\n",
              "3   Python  22000.0  Pending  Pending\n",
              "4   pandas  24000.0   60days   2500.0\n",
              "5  Pending  Pending   50days   2100.0\n",
              "6     Java  22000.0   55days  Pending"
            ]
          },
          "execution_count": 14,
          "metadata": {},
          "output_type": "execute_result"
        }
      ],
      "source": [
        "#fillna() with inplace=True\n",
        "\n",
        "# initializing the nested list with Data set and NaN values\n",
        "technologies = {\n",
        "    'Courses':[\"Spark\",np.nan,\"Hadoop\",\"Python\",\"pandas\",np.nan,\"Java\"],\n",
        "    'Fee' :[20000,25000, np.nan,22000,24000,np.nan,22000],\n",
        "    'Duration':[np.nan,'40days','35days', np.nan,'60days','50days','55days'],\n",
        "    'Discount':[1000,np.nan,1500,np.nan,2500,2100,np.nan]\n",
        "              }\n",
        "df = pd.DataFrame(technologies)\n",
        "# Using pandas replace nan with null\n",
        "df2 = df.fillna('Pending', inplace=True)\n",
        "print(df2)\n",
        "df\n",
        "\n",
        "\n",
        "\n"
      ]
    },
    {
      "cell_type": "markdown",
      "metadata": {
        "id": "u6SG3IGFO3_M"
      },
      "source": [
        "**Example 6: Handling Missing Data from CSV file**\n",
        "\n",
        "In this example, we will utilize the dummy employee dataset.\n",
        "\n",
        "[Click here to download employee dataset (employee.csv)](https://drive.google.com/file/d/14RV1xKIRzWS166LtGqnPC1Wg7eTlI_y1/view)\n",
        "\n",
        "As we have learned in the previous example, the **fillna()** function can be used to deal with NaN values. We have some NaN or missing values in the CSV file, let's handle them by using **fillna()** function.\n"
      ]
    },
    {
      "cell_type": "code",
      "execution_count": 15,
      "metadata": {
        "id": "aSS6frDoPJ14"
      },
      "outputs": [
        {
          "name": "stdout",
          "output_type": "stream",
          "text": [
            "============Before Handling missing values=====\n",
            "        Name   Age  Weight     Salary\n",
            "0      James  36.0    75.0  5428000.0\n",
            "1    Villers  38.0    74.0  3428000.0\n",
            "2      VKole  31.0    70.0  8428000.0\n",
            "3      Smith  34.0    80.0  4428000.0\n",
            "4      Gayle  40.0   100.0  4528000.0\n",
            "5       Adam  40.0     NaN  4528000.0\n",
            "6     Rooter  33.0    72.0  7028000.0\n",
            "7   Peterson  42.0    85.0  2528000.0\n",
            "8      lynda  42.0    85.0        NaN\n",
            "9       <NA>  42.0    85.0        NaN\n",
            "10     Jenny   NaN   100.0    25632.0\n",
            "11      Kenn   NaN   110.0    25632.0\n",
            "12       Aly   NaN    90.0    25582.0\n",
            "13      John  41.0    85.0  1528000.0\n",
            "14       Ali  26.0    69.0        NaN\n",
            "===========After Handling missing values using fillna()=====\n",
            "                    Name      Age   Weight     Salary\n",
            "0                  James     36.0     75.0  5428000.0\n",
            "1                Villers     38.0     74.0  3428000.0\n",
            "2                  VKole     31.0     70.0  8428000.0\n",
            "3                  Smith     34.0     80.0  4428000.0\n",
            "4                  Gayle     40.0    100.0  4528000.0\n",
            "5                   Adam     40.0  pending  4528000.0\n",
            "6                 Rooter     33.0     72.0  7028000.0\n",
            "7               Peterson     42.0     85.0  2528000.0\n",
            "8                  lynda     42.0     85.0        0.0\n",
            "9   Verification Pending     42.0     85.0        0.0\n",
            "10                 Jenny  Unknown    100.0    25632.0\n",
            "11                  Kenn  Unknown    110.0    25632.0\n",
            "12                   Aly  Unknown     90.0    25582.0\n",
            "13                  John     41.0     85.0  1528000.0\n",
            "14                   Ali     26.0     69.0        0.0\n"
          ]
        }
      ],
      "source": [
        "df = pd.read_csv('./Data/employee.csv', dtype={'Name':'string' })\n",
        "\n",
        "print('============Before Handling missing values=====')\n",
        "print(df)\n",
        "\n",
        "print('===========After Handling missing values using fillna()=====')\n",
        "df2 = df.fillna(value={'Name':'Verification Pending','Age':\"Unknown\", 'Weight': \"pending\", 'Salary': 0.0})\n",
        "print(df2)"
      ]
    },
    {
      "cell_type": "markdown",
      "metadata": {
        "id": "Q1ZZ-nqUhkl4"
      },
      "source": [
        " ### **Example 7: Identify the first non-empty row in a Pandas Series or column**"
      ]
    },
    {
      "cell_type": "markdown",
      "metadata": {
        "id": "YqcVIVEYiBPC"
      },
      "source": [
        "To identify the first non-empty row in a Pandas Series or column, you can use the `first_valid_index()` method. This method returns the index label of the first non-null (non-empty) value in the Series. Here's how you can use it:"
      ]
    },
    {
      "cell_type": "markdown",
      "metadata": {
        "id": "gKxxI07cjzQp"
      },
      "source": [
        "Example 7.1"
      ]
    },
    {
      "cell_type": "code",
      "execution_count": 16,
      "metadata": {
        "colab": {
          "base_uri": "https://localhost:8080/"
        },
        "id": "KVpEqCMDiYmF",
        "outputId": "95b6f4d2-0980-43f8-d588-2c7c306bb73f"
      },
      "outputs": [
        {
          "name": "stdout",
          "output_type": "stream",
          "text": [
            "Index of the first non-empty row: 2\n",
            "Value of the first non-empty row: 5.0\n"
          ]
        }
      ],
      "source": [
        "# Example Pandas Series\n",
        "data = pd.Series([None, None, 5, 10, None, 20])\n",
        "\n",
        "# Find the index label of the first non-empty row\n",
        "first_non_empty_index = data.first_valid_index()\n",
        "\n",
        "print(\"Index of the first non-empty row:\", first_non_empty_index)\n",
        "print(\"Value of the first non-empty row:\", data[first_non_empty_index])\n"
      ]
    },
    {
      "cell_type": "markdown",
      "metadata": {
        "id": "rrvTW63xj2ow"
      },
      "source": [
        "Example 7.2"
      ]
    },
    {
      "cell_type": "code",
      "execution_count": 17,
      "metadata": {
        "id": "QiBfYfM9jmkQ"
      },
      "outputs": [
        {
          "name": "stdout",
          "output_type": "stream",
          "text": [
            "Index of the first non-empty row: 2\n",
            "Value of the first non-empty row: 5.0\n"
          ]
        }
      ],
      "source": [
        "# Example Pandas Series with NaN values\n",
        "data = pd.Series([np.nan, np.nan, 5, 10, np.nan, 20])\n",
        "\n",
        "# Find the index label of the first non-empty row\n",
        "first_non_empty_index = data.first_valid_index()\n",
        "\n",
        "print(\"Index of the first non-empty row:\", first_non_empty_index)\n",
        "print(\"Value of the first non-empty row:\", data[first_non_empty_index])"
      ]
    },
    {
      "cell_type": "markdown",
      "metadata": {
        "id": "pYq0EQbAj7jI"
      },
      "source": [
        "In the above examples, the first non-empty row in the Series occurs at index label 2, and the corresponding value is 5.0. You can use this method to identify the first non-empty row in any Pandas Series or column."
      ]
    }
  ],
  "metadata": {
    "colab": {
      "provenance": []
    },
    "kernelspec": {
      "display_name": "Python 3",
      "name": "python3"
    },
    "language_info": {
      "codemirror_mode": {
        "name": "ipython",
        "version": 3
      },
      "file_extension": ".py",
      "mimetype": "text/x-python",
      "name": "python",
      "nbconvert_exporter": "python",
      "pygments_lexer": "ipython3",
      "version": "3.12.0"
    }
  },
  "nbformat": 4,
  "nbformat_minor": 0
}
