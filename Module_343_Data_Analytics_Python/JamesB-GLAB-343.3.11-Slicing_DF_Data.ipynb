{
  "cells": [
    {
      "cell_type": "markdown",
      "metadata": {
        "id": "Fras_dSVEZxs"
      },
      "source": [
        "# **Guided Lab 343.3.11 - Slicing Pandas Dataframe’s Data**\n",
        "\n",
        "## **Lab Introduction:**\n",
        "Pandas is a powerful Python library for data analysis and manipulation. One of its key features is the ability to slice data from DataFrames, allowing you to extract specific subsets of data for further analysis. This lab will guide you through the essential techniques for slicing Pandas DataFrames using the iloc and loc indexers.\n",
        "\n",
        "**Why is slicing important?**\n",
        "\n",
        "- `Data Exploration:` Slicing lets you quickly examine specific parts of your data, such as individual rows, columns, or ranges of values.\n",
        "- `Data Cleaning:` You can use slicing to remove unwanted data or select only the data you need for your analysis.\n",
        "- `Data Transformation:` Slicing can be used to create new DataFrames with specific columns or rows, enabling you to reshape your data for different purposes.\n",
        "- `Data Analysis:` By isolating specific subsets of data, slicing allows you to perform targeted analyses on smaller portions of your dataset.\n",
        "\n",
        "## **Learning Objective:**\n",
        "By the end of this lab, learner will be able to:\n",
        "- Slicing Pandas Dataframe’s Data\n",
        "- Use the iloc indexer to slice data by row and column positions.\n",
        "- Use the loc indexer to slice data by row and column labels.\n",
        "- Select specific rows and columns from a DataFrame using both iloc and loc methods.\n",
        "- Identify the first non-empty row in a Pandas Series or column using first_valid_index()\n",
        "- Effectively manipulate and extract desired data subsets from Pandas DataFrames for analysis and further processing.\n"
      ]
    },
    {
      "cell_type": "markdown",
      "metadata": {
        "id": "eXcSx0BLGrqE"
      },
      "source": [
        "## **Instructions:**\n",
        "\n",
        "\n",
        "\n",
        "## **Method #1: Slicing Dataframe using DataFrame.iloc[]**\n",
        "\n",
        "**Example 1.1: Slicing by rows**\n",
        "\n",
        "In the below example, we will slice:\n",
        "- The only first row from the dataframe.\n",
        "- The first four rows (from index 0 to 3) from the dataframe.\n"
      ]
    },
    {
      "cell_type": "code",
      "execution_count": 1,
      "metadata": {
        "id": "bdMCECE1ECkU"
      },
      "outputs": [
        {
          "name": "stdout",
          "output_type": "stream",
          "text": [
            " ------data frame before slicing-----\n",
            "       Name  Age  Weight   Salary\n",
            "0     James   36      75  5428000\n",
            "1   Villers   38      74  3428000\n",
            "2     VKole   31      70  8428000\n",
            "3     Smith   34      80  4428000\n",
            "4     Gayle   40     100  4528000\n",
            "5    Rooter   33      72  7028000\n",
            "6  Peterson   42      85  2528000\n",
            "7      John   41      85  1528000\n",
            " ------ Select First Row by Index-----\n",
            "    Name  Age  Weight   Salary\n",
            "0  James   36      75  5428000\n",
            " ------ Select First 4 Row by Index-----\n",
            " ------data frame after slicing----\n",
            "      Name  Age  Weight   Salary\n",
            "0    James   36      75  5428000\n",
            "1  Villers   38      74  3428000\n",
            "2    VKole   31      70  8428000\n",
            "3    Smith   34      80  4428000\n"
          ]
        }
      ],
      "source": [
        "# importing pandas library\n",
        "import pandas as pd\n",
        "\n",
        "# Initializing the nested list with Data set\n",
        "employee_list = [['James', 36, 75, 5428000],\n",
        "               ['Villers', 38, 74, 3428000],\n",
        "               ['VKole', 31, 70, 8428000],\n",
        "               ['Smith', 34, 80, 4428000],\n",
        "               ['Gayle', 40, 100, 4528000],\n",
        "               ['Rooter', 33, 72, 7028000],\n",
        "               ['Peterson', 42, 85, 2528000],\n",
        "               ['John', 41, 85, 1528000],\n",
        "\n",
        "]\n",
        "\n",
        "# creating a pandas dataframe\n",
        "df = pd.DataFrame(employee_list, columns=['Name', 'Age', 'Weight', 'Salary'])\n",
        "\n",
        "print(' ------data frame before slicing-----')\n",
        "print(df)\n",
        "\n",
        "print(' ------ Select First Row by Index-----')\n",
        "# Select First Row by Index\n",
        "print(df.iloc[:1])\n",
        "\n",
        "print(' ------ Select First 4 Row by Index-----')\n",
        "# Slicing first 4 rows from dataframe\n",
        "df1 = df.iloc[0:4]\n",
        "# This above line used the iloc indexer to slice (select) the first 4 rows of the #original DataFrame (df) and assigns the result to a new DataFrame named df1.\n",
        "\n",
        "print(' ------data frame after slicing----')\n",
        "print(df1)\n"
      ]
    },
    {
      "cell_type": "markdown",
      "metadata": {
        "id": "FXrZpr_uEvYU"
      },
      "source": [
        "**Example 1.2 - Slicing by columns or index label**\n",
        "\n",
        "In the below example, we will slice the columns from the data frame.\n",
        "\n",
        "\n"
      ]
    },
    {
      "cell_type": "code",
      "execution_count": 3,
      "metadata": {
        "id": "EFYVTLr0EzHk"
      },
      "outputs": [
        {
          "name": "stdout",
          "output_type": "stream",
          "text": [
            "       Name  Age  Weight   Salary\n",
            "0     James   36      75  5428000\n",
            "1   Villers   38      74  3428000\n",
            "2     VKole   31      70  8428000\n",
            "3     Smith   34      80  4428000\n",
            "4     Gayle   40     100  4528000\n",
            "5    Rooter   33      72  7028000\n",
            "6  Peterson   42      85  2528000\n",
            "7      John   41      85  1528000\n",
            "====Slicing columns in dataframe======\n",
            "       Name  Age\n",
            "0     James   36\n",
            "1   Villers   38\n",
            "2     VKole   31\n",
            "3     Smith   34\n",
            "4     Gayle   40\n",
            "5    Rooter   33\n",
            "6  Peterson   42\n",
            "7      John   41\n",
            "====Slicing rows & columns in dataframe======\n",
            "      Name  Age\n",
            "0    James   36\n",
            "1  Villers   38\n",
            "2    VKole   31\n",
            "3    Smith   34\n"
          ]
        }
      ],
      "source": [
        "# Initializing the nested list with Data set\n",
        "employee_list = [['James', 36, 75, 5428000],\n",
        "               ['Villers', 38, 74, 3428000],\n",
        "               ['VKole', 31, 70, 8428000],\n",
        "               ['Smith', 34, 80, 4428000],\n",
        "               ['Gayle', 40, 100, 4528000],\n",
        "               ['Rooter', 33, 72, 7028000],\n",
        "               ['Peterson', 42, 85, 2528000],\n",
        "               ['John', 41, 85, 1528000]]\n",
        "\n",
        "# creating a pandas dataframe\n",
        "df = pd.DataFrame(employee_list, columns=['Name', 'Age', 'Weight', 'Salary'])\n",
        "\n",
        "# data frame before slicing\n",
        "print(df)\n",
        "print( '====Slicing columns in dataframe======')\n",
        "\n",
        "emp_df = df.iloc[:, 0:2]\n",
        "print(emp_df)\n",
        "\n",
        "print( '====Slicing rows & columns in dataframe======')\n",
        "emp_df2 = df.iloc[:4, 0:2]\n",
        "print(emp_df2)\n"
      ]
    },
    {
      "cell_type": "markdown",
      "metadata": {
        "id": "PoLb5PVSE1lU"
      },
      "source": [
        "**Example 1.3**\n",
        "\n",
        "Select values from row index 0 to 2(exclusive) and column position 0 to 2(exclusive)\n",
        "\n",
        "\n",
        "\n",
        "\n"
      ]
    },
    {
      "cell_type": "code",
      "execution_count": 4,
      "metadata": {
        "id": "vjGra45ME4hU"
      },
      "outputs": [
        {
          "name": "stdout",
          "output_type": "stream",
          "text": [
            "      Name  Age\n",
            "0    James   36\n",
            "1  Villers   38\n"
          ]
        }
      ],
      "source": [
        "print(df1.iloc[0:2, 0:2])"
      ]
    },
    {
      "cell_type": "markdown",
      "metadata": {
        "id": "RXCVeDiWE99r"
      },
      "source": [
        "## **Method #2 - Slicing Dataframe using DataFrame.loc[]**\n",
        "\n",
        "Creating Demo Data Set for Dataframe\n",
        "\n"
      ]
    },
    {
      "cell_type": "code",
      "execution_count": 6,
      "metadata": {
        "id": "zyvBkj7jFA-7"
      },
      "outputs": [
        {
          "data": {
            "text/html": [
              "<div>\n",
              "<style scoped>\n",
              "    .dataframe tbody tr th:only-of-type {\n",
              "        vertical-align: middle;\n",
              "    }\n",
              "\n",
              "    .dataframe tbody tr th {\n",
              "        vertical-align: top;\n",
              "    }\n",
              "\n",
              "    .dataframe thead th {\n",
              "        text-align: right;\n",
              "    }\n",
              "</style>\n",
              "<table border=\"1\" class=\"dataframe\">\n",
              "  <thead>\n",
              "    <tr style=\"text-align: right;\">\n",
              "      <th></th>\n",
              "      <th>team</th>\n",
              "      <th>points</th>\n",
              "      <th>assists</th>\n",
              "      <th>rebounds</th>\n",
              "      <th>steals</th>\n",
              "      <th>blocks</th>\n",
              "    </tr>\n",
              "  </thead>\n",
              "  <tbody>\n",
              "    <tr>\n",
              "      <th>0</th>\n",
              "      <td>A</td>\n",
              "      <td>18</td>\n",
              "      <td>5</td>\n",
              "      <td>11</td>\n",
              "      <td>4</td>\n",
              "      <td>1</td>\n",
              "    </tr>\n",
              "    <tr>\n",
              "      <th>1</th>\n",
              "      <td>B</td>\n",
              "      <td>22</td>\n",
              "      <td>7</td>\n",
              "      <td>8</td>\n",
              "      <td>3</td>\n",
              "      <td>0</td>\n",
              "    </tr>\n",
              "    <tr>\n",
              "      <th>2</th>\n",
              "      <td>C</td>\n",
              "      <td>19</td>\n",
              "      <td>7</td>\n",
              "      <td>10</td>\n",
              "      <td>3</td>\n",
              "      <td>0</td>\n",
              "    </tr>\n",
              "    <tr>\n",
              "      <th>3</th>\n",
              "      <td>D</td>\n",
              "      <td>14</td>\n",
              "      <td>9</td>\n",
              "      <td>6</td>\n",
              "      <td>2</td>\n",
              "      <td>3</td>\n",
              "    </tr>\n",
              "    <tr>\n",
              "      <th>4</th>\n",
              "      <td>E</td>\n",
              "      <td>14</td>\n",
              "      <td>12</td>\n",
              "      <td>6</td>\n",
              "      <td>5</td>\n",
              "      <td>2</td>\n",
              "    </tr>\n",
              "    <tr>\n",
              "      <th>5</th>\n",
              "      <td>F</td>\n",
              "      <td>11</td>\n",
              "      <td>9</td>\n",
              "      <td>5</td>\n",
              "      <td>4</td>\n",
              "      <td>2</td>\n",
              "    </tr>\n",
              "    <tr>\n",
              "      <th>6</th>\n",
              "      <td>G</td>\n",
              "      <td>20</td>\n",
              "      <td>9</td>\n",
              "      <td>9</td>\n",
              "      <td>3</td>\n",
              "      <td>1</td>\n",
              "    </tr>\n",
              "    <tr>\n",
              "      <th>7</th>\n",
              "      <td>H</td>\n",
              "      <td>28</td>\n",
              "      <td>4</td>\n",
              "      <td>12</td>\n",
              "      <td>8</td>\n",
              "      <td>5</td>\n",
              "    </tr>\n",
              "  </tbody>\n",
              "</table>\n",
              "</div>"
            ],
            "text/plain": [
              "  team  points  assists  rebounds  steals  blocks\n",
              "0    A      18        5        11       4       1\n",
              "1    B      22        7         8       3       0\n",
              "2    C      19        7        10       3       0\n",
              "3    D      14        9         6       2       3\n",
              "4    E      14       12         6       5       2\n",
              "5    F      11        9         5       4       2\n",
              "6    G      20        9         9       3       1\n",
              "7    H      28        4        12       8       5"
            ]
          },
          "execution_count": 6,
          "metadata": {},
          "output_type": "execute_result"
        }
      ],
      "source": [
        "#create DataFrame with six columns\n",
        "df = pd.DataFrame({'team': ['A', 'B', 'C', 'D', 'E', 'F', 'G', 'H'],\n",
        "                   'points': [18, 22, 19, 14, 14, 11, 20, 28],\n",
        "                   'assists': [5, 7, 7, 9, 12, 9, 9, 4],\n",
        "                   'rebounds': [11, 8, 10, 6, 6, 5, 9, 12],\n",
        "                   'steals': [4, 3, 3, 2, 5, 4, 3, 8],\n",
        "                   'blocks': [1, 0, 0, 3, 2, 2, 1, 5]})\n",
        "\n",
        "#view DataFrame\n",
        "df\n"
      ]
    },
    {
      "cell_type": "markdown",
      "metadata": {
        "id": "TCnD3vuHFCmT"
      },
      "source": [
        "**Example 2.1- Slice by Specific Column Names**\n",
        "\n",
        "We can use the following syntax to create a new DataFrame that only contains the columns team and rebounds:\n",
        "\n"
      ]
    },
    {
      "cell_type": "code",
      "execution_count": 9,
      "metadata": {
        "id": "k_cFiFiuFFHT"
      },
      "outputs": [
        {
          "data": {
            "text/html": [
              "<div>\n",
              "<style scoped>\n",
              "    .dataframe tbody tr th:only-of-type {\n",
              "        vertical-align: middle;\n",
              "    }\n",
              "\n",
              "    .dataframe tbody tr th {\n",
              "        vertical-align: top;\n",
              "    }\n",
              "\n",
              "    .dataframe thead th {\n",
              "        text-align: right;\n",
              "    }\n",
              "</style>\n",
              "<table border=\"1\" class=\"dataframe\">\n",
              "  <thead>\n",
              "    <tr style=\"text-align: right;\">\n",
              "      <th></th>\n",
              "      <th>team</th>\n",
              "      <th>rebounds</th>\n",
              "    </tr>\n",
              "  </thead>\n",
              "  <tbody>\n",
              "    <tr>\n",
              "      <th>0</th>\n",
              "      <td>A</td>\n",
              "      <td>11</td>\n",
              "    </tr>\n",
              "    <tr>\n",
              "      <th>1</th>\n",
              "      <td>B</td>\n",
              "      <td>8</td>\n",
              "    </tr>\n",
              "    <tr>\n",
              "      <th>2</th>\n",
              "      <td>C</td>\n",
              "      <td>10</td>\n",
              "    </tr>\n",
              "    <tr>\n",
              "      <th>3</th>\n",
              "      <td>D</td>\n",
              "      <td>6</td>\n",
              "    </tr>\n",
              "    <tr>\n",
              "      <th>4</th>\n",
              "      <td>E</td>\n",
              "      <td>6</td>\n",
              "    </tr>\n",
              "    <tr>\n",
              "      <th>5</th>\n",
              "      <td>F</td>\n",
              "      <td>5</td>\n",
              "    </tr>\n",
              "    <tr>\n",
              "      <th>6</th>\n",
              "      <td>G</td>\n",
              "      <td>9</td>\n",
              "    </tr>\n",
              "    <tr>\n",
              "      <th>7</th>\n",
              "      <td>H</td>\n",
              "      <td>12</td>\n",
              "    </tr>\n",
              "  </tbody>\n",
              "</table>\n",
              "</div>"
            ],
            "text/plain": [
              "  team  rebounds\n",
              "0    A        11\n",
              "1    B         8\n",
              "2    C        10\n",
              "3    D         6\n",
              "4    E         6\n",
              "5    F         5\n",
              "6    G         9\n",
              "7    H        12"
            ]
          },
          "execution_count": 9,
          "metadata": {},
          "output_type": "execute_result"
        }
      ],
      "source": [
        "#slice columns team and rebounds\n",
        "df_new = df.loc[:, ['team', 'rebounds']]\n",
        "\n",
        "#view new DataFrame\n",
        "df_new\n"
      ]
    },
    {
      "cell_type": "markdown",
      "metadata": {
        "id": "9nn5r9dJFGcj"
      },
      "source": [
        "**Example 2.2 - Slice by Column Names in Range**\n",
        "\n",
        "We can use the following example to create a new DataFrame that only contains the columns in the range between team and rebounds:\n",
        "\n",
        "\n"
      ]
    },
    {
      "cell_type": "code",
      "execution_count": 11,
      "metadata": {
        "id": "tajAbMLUFIPF"
      },
      "outputs": [
        {
          "data": {
            "text/html": [
              "<div>\n",
              "<style scoped>\n",
              "    .dataframe tbody tr th:only-of-type {\n",
              "        vertical-align: middle;\n",
              "    }\n",
              "\n",
              "    .dataframe tbody tr th {\n",
              "        vertical-align: top;\n",
              "    }\n",
              "\n",
              "    .dataframe thead th {\n",
              "        text-align: right;\n",
              "    }\n",
              "</style>\n",
              "<table border=\"1\" class=\"dataframe\">\n",
              "  <thead>\n",
              "    <tr style=\"text-align: right;\">\n",
              "      <th></th>\n",
              "      <th>team</th>\n",
              "      <th>points</th>\n",
              "      <th>assists</th>\n",
              "      <th>rebounds</th>\n",
              "    </tr>\n",
              "  </thead>\n",
              "  <tbody>\n",
              "    <tr>\n",
              "      <th>0</th>\n",
              "      <td>A</td>\n",
              "      <td>18</td>\n",
              "      <td>5</td>\n",
              "      <td>11</td>\n",
              "    </tr>\n",
              "    <tr>\n",
              "      <th>1</th>\n",
              "      <td>B</td>\n",
              "      <td>22</td>\n",
              "      <td>7</td>\n",
              "      <td>8</td>\n",
              "    </tr>\n",
              "    <tr>\n",
              "      <th>2</th>\n",
              "      <td>C</td>\n",
              "      <td>19</td>\n",
              "      <td>7</td>\n",
              "      <td>10</td>\n",
              "    </tr>\n",
              "    <tr>\n",
              "      <th>3</th>\n",
              "      <td>D</td>\n",
              "      <td>14</td>\n",
              "      <td>9</td>\n",
              "      <td>6</td>\n",
              "    </tr>\n",
              "    <tr>\n",
              "      <th>4</th>\n",
              "      <td>E</td>\n",
              "      <td>14</td>\n",
              "      <td>12</td>\n",
              "      <td>6</td>\n",
              "    </tr>\n",
              "    <tr>\n",
              "      <th>5</th>\n",
              "      <td>F</td>\n",
              "      <td>11</td>\n",
              "      <td>9</td>\n",
              "      <td>5</td>\n",
              "    </tr>\n",
              "    <tr>\n",
              "      <th>6</th>\n",
              "      <td>G</td>\n",
              "      <td>20</td>\n",
              "      <td>9</td>\n",
              "      <td>9</td>\n",
              "    </tr>\n",
              "    <tr>\n",
              "      <th>7</th>\n",
              "      <td>H</td>\n",
              "      <td>28</td>\n",
              "      <td>4</td>\n",
              "      <td>12</td>\n",
              "    </tr>\n",
              "  </tbody>\n",
              "</table>\n",
              "</div>"
            ],
            "text/plain": [
              "  team  points  assists  rebounds\n",
              "0    A      18        5        11\n",
              "1    B      22        7         8\n",
              "2    C      19        7        10\n",
              "3    D      14        9         6\n",
              "4    E      14       12         6\n",
              "5    F      11        9         5\n",
              "6    G      20        9         9\n",
              "7    H      28        4        12"
            ]
          },
          "execution_count": 11,
          "metadata": {},
          "output_type": "execute_result"
        }
      ],
      "source": [
        "\n",
        "#slice columns between team and rebounds\n",
        "df_new = df.loc[:, 'team':'rebounds']\n",
        "\n",
        "#view new DataFrame\n",
        "df_new\n"
      ]
    },
    {
      "cell_type": "markdown",
      "metadata": {
        "id": "x44PiRBuFJqr"
      },
      "source": [
        "**Example 2.3 - Select values from row index 0 to 2 and 'Name' column**\n",
        "\n",
        "Select values from row index 0 to 2 and 'Name' column\n",
        "\n",
        "\n"
      ]
    },
    {
      "cell_type": "code",
      "execution_count": 12,
      "metadata": {
        "id": "QKdnN3UsFMhb"
      },
      "outputs": [
        {
          "name": "stdout",
          "output_type": "stream",
          "text": [
            "  team\n",
            "3    D\n",
            "4    E\n",
            "5    F\n",
            "6    G\n"
          ]
        }
      ],
      "source": [
        "print(df.loc[3:6, ['team']])\n"
      ]
    },
    {
      "cell_type": "markdown",
      "metadata": {
        "id": "Q1ZZ-nqUhkl4"
      },
      "source": [
        " ## **Example 3: Identify the first non-empty row in a Pandas Series or column**"
      ]
    },
    {
      "cell_type": "markdown",
      "metadata": {
        "id": "YqcVIVEYiBPC"
      },
      "source": [
        "To identify the first non-empty row in a Pandas Series or column, you can use the `first_valid_index()` method. This method returns the index label of the first non-null (non-empty) value in the Series. Here's how you can use it:"
      ]
    },
    {
      "cell_type": "code",
      "execution_count": 13,
      "metadata": {
        "id": "KVpEqCMDiYmF"
      },
      "outputs": [
        {
          "name": "stdout",
          "output_type": "stream",
          "text": [
            "Index of the first non-empty row: 2\n",
            "Value of the first non-empty row: 5.0\n"
          ]
        }
      ],
      "source": [
        "# Example Pandas Series\n",
        "data = pd.Series([None, None, 5, 10, None, 20])\n",
        "\n",
        "# Find the index label of the first non-empty row\n",
        "first_non_empty_index = data.first_valid_index()\n",
        "\n",
        "print(\"Index of the first non-empty row:\", first_non_empty_index)\n",
        "print(\"Value of the first non-empty row:\", data[first_non_empty_index])\n"
      ]
    }
  ],
  "metadata": {
    "colab": {
      "provenance": []
    },
    "kernelspec": {
      "display_name": "Python 3",
      "name": "python3"
    },
    "language_info": {
      "codemirror_mode": {
        "name": "ipython",
        "version": 3
      },
      "file_extension": ".py",
      "mimetype": "text/x-python",
      "name": "python",
      "nbconvert_exporter": "python",
      "pygments_lexer": "ipython3",
      "version": "3.12.0"
    }
  },
  "nbformat": 4,
  "nbformat_minor": 0
}
