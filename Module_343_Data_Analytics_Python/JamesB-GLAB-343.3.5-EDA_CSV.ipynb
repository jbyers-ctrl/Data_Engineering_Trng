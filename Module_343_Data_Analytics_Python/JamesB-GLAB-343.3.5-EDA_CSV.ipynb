{
  "cells": [
    {
      "cell_type": "markdown",
      "metadata": {
        "id": "JsLHgrOmtSbE"
      },
      "source": [
        "# **Guided LAB 343.3.5 - Exploratory Data Analysis on CSV data - Basic insights from the Data**\n",
        "---\n"
      ]
    },
    {
      "cell_type": "markdown",
      "metadata": {
        "id": "hORGEvrC_cQ1"
      },
      "source": [
        "## **Lab Overview**\n",
        "\n",
        "This lab focuses on introducing fundamental data analysis techniques using Python's Pandas library. We'll primarily work with a CSV file containing employee data, exploring various methods to load, manipulate, and gain insights from it.\n",
        "\n",
        "In this lab, we will demonstrate how to read a CSV file with or without a header, skip rows, skip columns, set columns to index, and many more with examples. And we will perform Exploratory Data Analysis EDA on a CSV file.\n",
        "\n",
        "**Key Activities:**\n",
        "\n",
        "1. **Data Loading and Initial Exploration:**  We'll begin by importing the Pandas library and utilizing the `read_csv()` function to load the employee dataset into a Pandas DataFrame. We'll then use methods like `head()`, `tail()`, and `info()` to get an initial overview of the data's structure and content.\n",
        "2. **Data Handling Techniques:** We will delve into practical data handling strategies, such as skipping rows or selecting specific columns during the data loading process using parameters like `skiprows` and `usecols` with `read_csv()`.\n",
        "3. **Basic Exploratory Data Analysis (EDA):** We'll perform basic EDA to understand the dataset's characteristics. This includes examining data types, identifying potential missing values, and assessing the overall shape and size of the DataFrame.\n",
        "\n",
        "**Learning Outcomes:**\n",
        "\n",
        "By the end of this lab, you will be proficient in:\n",
        "\n",
        "* Importing and utilizing the Pandas library in Google Colab.\n",
        "* Loading CSV data into a Pandas DataFrame.\n",
        "* Applying data manipulation techniques to extract desired information.\n",
        "* Performing basic EDA to gain insights from datasets."
      ]
    },
    {
      "cell_type": "markdown",
      "metadata": {
        "id": "NeP9npqTtkH6"
      },
      "source": [
        "## **Introduction:**\n",
        "Use the pandas read_csv() function to read a CSV file (comma-separated) into a Python pandas DataFrame. which supports options to read any delimited file.\n",
        "\n",
        "## **Dataset:**\n",
        "In this lab we will utilize the dummy employee dataset.\n",
        "\n",
        "[Click here to download employee dataset (employee.csv)](https://drive.google.com/file/d/14RV1xKIRzWS166LtGqnPC1Wg7eTlI_y1/view?usp=drive_link)\n",
        "\n",
        "---\n",
        "\n",
        "# **Begin**\n",
        "\n"
      ]
    },
    {
      "cell_type": "markdown",
      "metadata": {
        "id": "NfTyApuouKdU"
      },
      "source": [
        "**Example 1: Reading Data from CSVs**\n",
        "\n",
        "Note: if you get error, use the line below:\n",
        "`df = pd.read_csv('employee.csv', on_bad_lines='skip')`\n",
        "\n"
      ]
    },
    {
      "cell_type": "code",
      "execution_count": 1,
      "metadata": {},
      "outputs": [],
      "source": [
        "import pandas as pd"
      ]
    },
    {
      "cell_type": "code",
      "execution_count": null,
      "metadata": {
        "id": "_QszDPGZuL4j"
      },
      "outputs": [
        {
          "data": {
            "text/html": [
              "<div>\n",
              "<style scoped>\n",
              "    .dataframe tbody tr th:only-of-type {\n",
              "        vertical-align: middle;\n",
              "    }\n",
              "\n",
              "    .dataframe tbody tr th {\n",
              "        vertical-align: top;\n",
              "    }\n",
              "\n",
              "    .dataframe thead th {\n",
              "        text-align: right;\n",
              "    }\n",
              "</style>\n",
              "<table border=\"1\" class=\"dataframe\">\n",
              "  <thead>\n",
              "    <tr style=\"text-align: right;\">\n",
              "      <th></th>\n",
              "      <th>Name</th>\n",
              "      <th>Age</th>\n",
              "      <th>Weight</th>\n",
              "      <th>Salary</th>\n",
              "    </tr>\n",
              "  </thead>\n",
              "  <tbody>\n",
              "    <tr>\n",
              "      <th>0</th>\n",
              "      <td>James</td>\n",
              "      <td>36.0</td>\n",
              "      <td>75.0</td>\n",
              "      <td>5428000.0</td>\n",
              "    </tr>\n",
              "    <tr>\n",
              "      <th>1</th>\n",
              "      <td>Villers</td>\n",
              "      <td>38.0</td>\n",
              "      <td>74.0</td>\n",
              "      <td>3428000.0</td>\n",
              "    </tr>\n",
              "    <tr>\n",
              "      <th>2</th>\n",
              "      <td>VKole</td>\n",
              "      <td>31.0</td>\n",
              "      <td>70.0</td>\n",
              "      <td>8428000.0</td>\n",
              "    </tr>\n",
              "    <tr>\n",
              "      <th>3</th>\n",
              "      <td>Smith</td>\n",
              "      <td>34.0</td>\n",
              "      <td>80.0</td>\n",
              "      <td>4428000.0</td>\n",
              "    </tr>\n",
              "    <tr>\n",
              "      <th>4</th>\n",
              "      <td>Gayle</td>\n",
              "      <td>40.0</td>\n",
              "      <td>100.0</td>\n",
              "      <td>4528000.0</td>\n",
              "    </tr>\n",
              "    <tr>\n",
              "      <th>5</th>\n",
              "      <td>Adam</td>\n",
              "      <td>40.0</td>\n",
              "      <td>NaN</td>\n",
              "      <td>4528000.0</td>\n",
              "    </tr>\n",
              "    <tr>\n",
              "      <th>6</th>\n",
              "      <td>Rooter</td>\n",
              "      <td>33.0</td>\n",
              "      <td>72.0</td>\n",
              "      <td>7028000.0</td>\n",
              "    </tr>\n",
              "    <tr>\n",
              "      <th>7</th>\n",
              "      <td>Peterson</td>\n",
              "      <td>42.0</td>\n",
              "      <td>85.0</td>\n",
              "      <td>2528000.0</td>\n",
              "    </tr>\n",
              "    <tr>\n",
              "      <th>8</th>\n",
              "      <td>lynda</td>\n",
              "      <td>42.0</td>\n",
              "      <td>85.0</td>\n",
              "      <td>NaN</td>\n",
              "    </tr>\n",
              "    <tr>\n",
              "      <th>9</th>\n",
              "      <td>NaN</td>\n",
              "      <td>42.0</td>\n",
              "      <td>85.0</td>\n",
              "      <td>NaN</td>\n",
              "    </tr>\n",
              "    <tr>\n",
              "      <th>10</th>\n",
              "      <td>Jenny</td>\n",
              "      <td>NaN</td>\n",
              "      <td>100.0</td>\n",
              "      <td>25632.0</td>\n",
              "    </tr>\n",
              "    <tr>\n",
              "      <th>11</th>\n",
              "      <td>Kenn</td>\n",
              "      <td>NaN</td>\n",
              "      <td>110.0</td>\n",
              "      <td>25632.0</td>\n",
              "    </tr>\n",
              "    <tr>\n",
              "      <th>12</th>\n",
              "      <td>Aly</td>\n",
              "      <td>NaN</td>\n",
              "      <td>90.0</td>\n",
              "      <td>25582.0</td>\n",
              "    </tr>\n",
              "    <tr>\n",
              "      <th>13</th>\n",
              "      <td>John</td>\n",
              "      <td>41.0</td>\n",
              "      <td>85.0</td>\n",
              "      <td>1528000.0</td>\n",
              "    </tr>\n",
              "    <tr>\n",
              "      <th>14</th>\n",
              "      <td>Ali</td>\n",
              "      <td>26.0</td>\n",
              "      <td>69.0</td>\n",
              "      <td>NaN</td>\n",
              "    </tr>\n",
              "  </tbody>\n",
              "</table>\n",
              "</div>"
            ],
            "text/plain": [
              "        Name   Age  Weight     Salary\n",
              "0      James  36.0    75.0  5428000.0\n",
              "1    Villers  38.0    74.0  3428000.0\n",
              "2      VKole  31.0    70.0  8428000.0\n",
              "3      Smith  34.0    80.0  4428000.0\n",
              "4      Gayle  40.0   100.0  4528000.0\n",
              "5       Adam  40.0     NaN  4528000.0\n",
              "6     Rooter  33.0    72.0  7028000.0\n",
              "7   Peterson  42.0    85.0  2528000.0\n",
              "8      lynda  42.0    85.0        NaN\n",
              "9        NaN  42.0    85.0        NaN\n",
              "10     Jenny   NaN   100.0    25632.0\n",
              "11      Kenn   NaN   110.0    25632.0\n",
              "12       Aly   NaN    90.0    25582.0\n",
              "13      John  41.0    85.0  1528000.0\n",
              "14       Ali  26.0    69.0        NaN"
            ]
          },
          "execution_count": 3,
          "metadata": {},
          "output_type": "execute_result"
        }
      ],
      "source": [
        "# Check to make sure the absolute/relative file path is correct\n",
        "df = pd.read_csv('./Data/employee.csv')\n",
        "df\n"
      ]
    },
    {
      "cell_type": "markdown",
      "metadata": {
        "id": "a4SKIjB5uUgz"
      },
      "source": [
        "Note: Use the sep or delimiter argument to specify the separator of the columns. By default, it uses a comma.\n"
      ]
    },
    {
      "cell_type": "markdown",
      "metadata": {
        "id": "UdOcz3nuuXV0"
      },
      "source": [
        "**Example 2: Viewing or Explore your Data**\n",
        "\n",
        "\n",
        "The first thing to do when opening a new dataset is to print out a few rows to keep as a visual reference. We accomplish this with .head():\n",
        "\n",
        "\n",
        "\n"
      ]
    },
    {
      "cell_type": "code",
      "execution_count": null,
      "metadata": {
        "id": "Q3j5UtRHtRIR"
      },
      "outputs": [
        {
          "data": {
            "text/html": [
              "<div>\n",
              "<style scoped>\n",
              "    .dataframe tbody tr th:only-of-type {\n",
              "        vertical-align: middle;\n",
              "    }\n",
              "\n",
              "    .dataframe tbody tr th {\n",
              "        vertical-align: top;\n",
              "    }\n",
              "\n",
              "    .dataframe thead th {\n",
              "        text-align: right;\n",
              "    }\n",
              "</style>\n",
              "<table border=\"1\" class=\"dataframe\">\n",
              "  <thead>\n",
              "    <tr style=\"text-align: right;\">\n",
              "      <th></th>\n",
              "      <th>Name</th>\n",
              "      <th>Age</th>\n",
              "      <th>Weight</th>\n",
              "      <th>Salary</th>\n",
              "    </tr>\n",
              "  </thead>\n",
              "  <tbody>\n",
              "    <tr>\n",
              "      <th>0</th>\n",
              "      <td>James</td>\n",
              "      <td>36.0</td>\n",
              "      <td>75.0</td>\n",
              "      <td>5428000.0</td>\n",
              "    </tr>\n",
              "    <tr>\n",
              "      <th>1</th>\n",
              "      <td>Villers</td>\n",
              "      <td>38.0</td>\n",
              "      <td>74.0</td>\n",
              "      <td>3428000.0</td>\n",
              "    </tr>\n",
              "    <tr>\n",
              "      <th>2</th>\n",
              "      <td>VKole</td>\n",
              "      <td>31.0</td>\n",
              "      <td>70.0</td>\n",
              "      <td>8428000.0</td>\n",
              "    </tr>\n",
              "    <tr>\n",
              "      <th>3</th>\n",
              "      <td>Smith</td>\n",
              "      <td>34.0</td>\n",
              "      <td>80.0</td>\n",
              "      <td>4428000.0</td>\n",
              "    </tr>\n",
              "    <tr>\n",
              "      <th>4</th>\n",
              "      <td>Gayle</td>\n",
              "      <td>40.0</td>\n",
              "      <td>100.0</td>\n",
              "      <td>4528000.0</td>\n",
              "    </tr>\n",
              "  </tbody>\n",
              "</table>\n",
              "</div>"
            ],
            "text/plain": [
              "      Name   Age  Weight     Salary\n",
              "0    James  36.0    75.0  5428000.0\n",
              "1  Villers  38.0    74.0  3428000.0\n",
              "2    VKole  31.0    70.0  8428000.0\n",
              "3    Smith  34.0    80.0  4428000.0\n",
              "4    Gayle  40.0   100.0  4528000.0"
            ]
          },
          "execution_count": 4,
          "metadata": {},
          "output_type": "execute_result"
        }
      ],
      "source": [
        "df.head() # Show first 5 rows"
      ]
    },
    {
      "cell_type": "markdown",
      "metadata": {
        "id": "tLPnNeGYucP6"
      },
      "source": [
        ".head() outputs the first five rows of your DataFrame by default, but we could also pass a number as well. df.head(10) would output the top ten rows.\n"
      ]
    },
    {
      "cell_type": "code",
      "execution_count": 5,
      "metadata": {
        "id": "blmNbn3Ou9vb"
      },
      "outputs": [
        {
          "data": {
            "text/html": [
              "<div>\n",
              "<style scoped>\n",
              "    .dataframe tbody tr th:only-of-type {\n",
              "        vertical-align: middle;\n",
              "    }\n",
              "\n",
              "    .dataframe tbody tr th {\n",
              "        vertical-align: top;\n",
              "    }\n",
              "\n",
              "    .dataframe thead th {\n",
              "        text-align: right;\n",
              "    }\n",
              "</style>\n",
              "<table border=\"1\" class=\"dataframe\">\n",
              "  <thead>\n",
              "    <tr style=\"text-align: right;\">\n",
              "      <th></th>\n",
              "      <th>Name</th>\n",
              "      <th>Age</th>\n",
              "      <th>Weight</th>\n",
              "      <th>Salary</th>\n",
              "    </tr>\n",
              "  </thead>\n",
              "  <tbody>\n",
              "    <tr>\n",
              "      <th>0</th>\n",
              "      <td>James</td>\n",
              "      <td>36.0</td>\n",
              "      <td>75.0</td>\n",
              "      <td>5428000.0</td>\n",
              "    </tr>\n",
              "    <tr>\n",
              "      <th>1</th>\n",
              "      <td>Villers</td>\n",
              "      <td>38.0</td>\n",
              "      <td>74.0</td>\n",
              "      <td>3428000.0</td>\n",
              "    </tr>\n",
              "    <tr>\n",
              "      <th>2</th>\n",
              "      <td>VKole</td>\n",
              "      <td>31.0</td>\n",
              "      <td>70.0</td>\n",
              "      <td>8428000.0</td>\n",
              "    </tr>\n",
              "    <tr>\n",
              "      <th>3</th>\n",
              "      <td>Smith</td>\n",
              "      <td>34.0</td>\n",
              "      <td>80.0</td>\n",
              "      <td>4428000.0</td>\n",
              "    </tr>\n",
              "    <tr>\n",
              "      <th>4</th>\n",
              "      <td>Gayle</td>\n",
              "      <td>40.0</td>\n",
              "      <td>100.0</td>\n",
              "      <td>4528000.0</td>\n",
              "    </tr>\n",
              "    <tr>\n",
              "      <th>5</th>\n",
              "      <td>Adam</td>\n",
              "      <td>40.0</td>\n",
              "      <td>NaN</td>\n",
              "      <td>4528000.0</td>\n",
              "    </tr>\n",
              "    <tr>\n",
              "      <th>6</th>\n",
              "      <td>Rooter</td>\n",
              "      <td>33.0</td>\n",
              "      <td>72.0</td>\n",
              "      <td>7028000.0</td>\n",
              "    </tr>\n",
              "    <tr>\n",
              "      <th>7</th>\n",
              "      <td>Peterson</td>\n",
              "      <td>42.0</td>\n",
              "      <td>85.0</td>\n",
              "      <td>2528000.0</td>\n",
              "    </tr>\n",
              "    <tr>\n",
              "      <th>8</th>\n",
              "      <td>lynda</td>\n",
              "      <td>42.0</td>\n",
              "      <td>85.0</td>\n",
              "      <td>NaN</td>\n",
              "    </tr>\n",
              "    <tr>\n",
              "      <th>9</th>\n",
              "      <td>NaN</td>\n",
              "      <td>42.0</td>\n",
              "      <td>85.0</td>\n",
              "      <td>NaN</td>\n",
              "    </tr>\n",
              "  </tbody>\n",
              "</table>\n",
              "</div>"
            ],
            "text/plain": [
              "       Name   Age  Weight     Salary\n",
              "0     James  36.0    75.0  5428000.0\n",
              "1   Villers  38.0    74.0  3428000.0\n",
              "2     VKole  31.0    70.0  8428000.0\n",
              "3     Smith  34.0    80.0  4428000.0\n",
              "4     Gayle  40.0   100.0  4528000.0\n",
              "5      Adam  40.0     NaN  4528000.0\n",
              "6    Rooter  33.0    72.0  7028000.0\n",
              "7  Peterson  42.0    85.0  2528000.0\n",
              "8     lynda  42.0    85.0        NaN\n",
              "9       NaN  42.0    85.0        NaN"
            ]
          },
          "execution_count": 5,
          "metadata": {},
          "output_type": "execute_result"
        }
      ],
      "source": [
        "\n",
        "df.head(10)"
      ]
    },
    {
      "cell_type": "markdown",
      "metadata": {
        "id": "eTH47R-cu52r"
      },
      "source": [
        "\n",
        "To see the last five rows, use df.tail(), which also accepts a number and prints the bottom two rows in this case.\n",
        "\n"
      ]
    },
    {
      "cell_type": "code",
      "execution_count": 6,
      "metadata": {
        "id": "6k7We2FEvBkz"
      },
      "outputs": [
        {
          "data": {
            "text/html": [
              "<div>\n",
              "<style scoped>\n",
              "    .dataframe tbody tr th:only-of-type {\n",
              "        vertical-align: middle;\n",
              "    }\n",
              "\n",
              "    .dataframe tbody tr th {\n",
              "        vertical-align: top;\n",
              "    }\n",
              "\n",
              "    .dataframe thead th {\n",
              "        text-align: right;\n",
              "    }\n",
              "</style>\n",
              "<table border=\"1\" class=\"dataframe\">\n",
              "  <thead>\n",
              "    <tr style=\"text-align: right;\">\n",
              "      <th></th>\n",
              "      <th>Name</th>\n",
              "      <th>Age</th>\n",
              "      <th>Weight</th>\n",
              "      <th>Salary</th>\n",
              "    </tr>\n",
              "  </thead>\n",
              "  <tbody>\n",
              "    <tr>\n",
              "      <th>13</th>\n",
              "      <td>John</td>\n",
              "      <td>41.0</td>\n",
              "      <td>85.0</td>\n",
              "      <td>1528000.0</td>\n",
              "    </tr>\n",
              "    <tr>\n",
              "      <th>14</th>\n",
              "      <td>Ali</td>\n",
              "      <td>26.0</td>\n",
              "      <td>69.0</td>\n",
              "      <td>NaN</td>\n",
              "    </tr>\n",
              "  </tbody>\n",
              "</table>\n",
              "</div>"
            ],
            "text/plain": [
              "    Name   Age  Weight     Salary\n",
              "13  John  41.0    85.0  1528000.0\n",
              "14   Ali  26.0    69.0        NaN"
            ]
          },
          "execution_count": 6,
          "metadata": {},
          "output_type": "execute_result"
        }
      ],
      "source": [
        "df.tail(2)"
      ]
    },
    {
      "cell_type": "markdown",
      "metadata": {
        "id": "NPOMih5ovKOb"
      },
      "source": [
        "**Example 3: Getting Information About your Data**\n",
        "\n",
        ".info() should be one of the very first commands you run after loading your data:\n",
        "\n",
        "\n"
      ]
    },
    {
      "cell_type": "code",
      "execution_count": 7,
      "metadata": {
        "id": "iinLkB4CvMtE"
      },
      "outputs": [
        {
          "name": "stdout",
          "output_type": "stream",
          "text": [
            "<class 'pandas.core.frame.DataFrame'>\n",
            "RangeIndex: 15 entries, 0 to 14\n",
            "Data columns (total 4 columns):\n",
            " #   Column  Non-Null Count  Dtype  \n",
            "---  ------  --------------  -----  \n",
            " 0   Name    14 non-null     object \n",
            " 1   Age     12 non-null     float64\n",
            " 2   Weight  14 non-null     float64\n",
            " 3   Salary  12 non-null     float64\n",
            "dtypes: float64(3), object(1)\n",
            "memory usage: 612.0+ bytes\n"
          ]
        }
      ],
      "source": [
        "\n",
        "df.info()"
      ]
    },
    {
      "cell_type": "markdown",
      "metadata": {
        "id": "RfKs8Y-RvOgj"
      },
      "source": [
        "**.info()** provides the essential details about your dataset such as the number of rows and columns, the number of non-null values, what type of data is in each column, and how much memory your DataFrame is using.\n",
        "\n",
        "Another fast and useful attribute is .shape, which returns just a tuple of (rows, columns):\n",
        "\n",
        "\n",
        "\n",
        "\n",
        "\n",
        "\n",
        "\n"
      ]
    },
    {
      "cell_type": "code",
      "execution_count": 8,
      "metadata": {
        "id": "CLxRE0hrvPk9"
      },
      "outputs": [
        {
          "data": {
            "text/plain": [
              "(15, 4)"
            ]
          },
          "execution_count": 8,
          "metadata": {},
          "output_type": "execute_result"
        }
      ],
      "source": [
        "df.shape\n"
      ]
    },
    {
      "cell_type": "markdown",
      "metadata": {
        "id": "wwcgjWC4vaHD"
      },
      "source": [
        "Note that .shape has no parentheses and is a simple tuple format (rows, columns). So, we have 15 rows and 4 columns in our employeeDataFrame."
      ]
    },
    {
      "cell_type": "markdown",
      "metadata": {
        "id": "tSjBF23svdDr"
      },
      "source": [
        "**Example 4: Skip Rows**\n",
        "\n",
        "Sometimes, you may need to skip the first row or skip the footer rows. To do this, use skiprows and skipfooter params, respectively.\n",
        "\n",
        "\n",
        "   \n"
      ]
    },
    {
      "cell_type": "code",
      "execution_count": null,
      "metadata": {
        "id": "-GMqnOJ1vepb"
      },
      "outputs": [
        {
          "name": "stdout",
          "output_type": "stream",
          "text": [
            "           0     1      2          3\n",
            "0      Gayle  40.0  100.0  4528000.0\n",
            "1       Adam  40.0    NaN  4528000.0\n",
            "2     Rooter  33.0   72.0  7028000.0\n",
            "3   Peterson  42.0   85.0  2528000.0\n",
            "4      lynda  42.0   85.0        NaN\n",
            "5        NaN  42.0   85.0        NaN\n",
            "6      Jenny   NaN  100.0    25632.0\n",
            "7       Kenn   NaN  110.0    25632.0\n",
            "8        Aly   NaN   90.0    25582.0\n",
            "9       John  41.0   85.0  1528000.0\n",
            "10       Ali  26.0   69.0        NaN\n",
            "\n",
            "       name   age  weight     salary\n",
            "0      Adam  40.0     NaN  4528000.0\n",
            "1    Rooter  33.0    72.0  7028000.0\n",
            "2  Peterson  42.0    85.0  2528000.0\n",
            "3     lynda  42.0    85.0        NaN\n",
            "4       NaN  42.0    85.0        NaN\n",
            "5     Jenny   NaN   100.0    25632.0\n",
            "6      Kenn   NaN   110.0    25632.0\n",
            "7       Aly   NaN    90.0    25582.0\n",
            "8      John  41.0    85.0  1528000.0\n",
            "9       Ali  26.0    69.0        NaN\n"
          ]
        }
      ],
      "source": [
        "\n",
        "# Skip first 5 rows including headers\n",
        "df_skip5 = pd.read_csv('./Data/employee.csv', header=None, skiprows=5)\n",
        "\n",
        "# Skip first 5 rows after headers\n",
        "df_skip5_exclude = pd.read_csv('./Data/employee.csv', header=0, names=['name', 'age', 'weight', 'salary'], skiprows=5)\n",
        "print(df_skip5)\n",
        "print()\n",
        "print(df_skip5_exclude)"
      ]
    },
    {
      "cell_type": "markdown",
      "metadata": {
        "id": "hooTG_34vhsV"
      },
      "source": [
        "**Example 5: Load Only Selected Columns**\n",
        "\n",
        "There are two common ways to use this argument:\n",
        "\n",
        "**Method 1:** Use usecols with Column Names\n",
        "\n",
        "Syntax:\n",
        "`df = pd.read_csv('my_data.csv', usecols=['column name one', 'column name two'])`\n",
        "\n",
        "**Method 2:** Use usecols with Column Positions\n",
        "\n",
        "Syntax:\n",
        "`df = pd.read_csv('my_data.csv', usecols=[0, 2])`\n",
        "\n",
        "\n",
        "\n",
        "\n"
      ]
    },
    {
      "cell_type": "code",
      "execution_count": 17,
      "metadata": {
        "id": "oHd2BQCPYG__"
      },
      "outputs": [
        {
          "data": {
            "text/html": [
              "<div>\n",
              "<style scoped>\n",
              "    .dataframe tbody tr th:only-of-type {\n",
              "        vertical-align: middle;\n",
              "    }\n",
              "\n",
              "    .dataframe tbody tr th {\n",
              "        vertical-align: top;\n",
              "    }\n",
              "\n",
              "    .dataframe thead th {\n",
              "        text-align: right;\n",
              "    }\n",
              "</style>\n",
              "<table border=\"1\" class=\"dataframe\">\n",
              "  <thead>\n",
              "    <tr style=\"text-align: right;\">\n",
              "      <th></th>\n",
              "      <th>Name</th>\n",
              "      <th>Salary</th>\n",
              "    </tr>\n",
              "  </thead>\n",
              "  <tbody>\n",
              "    <tr>\n",
              "      <th>0</th>\n",
              "      <td>James</td>\n",
              "      <td>5428000.0</td>\n",
              "    </tr>\n",
              "    <tr>\n",
              "      <th>1</th>\n",
              "      <td>Villers</td>\n",
              "      <td>3428000.0</td>\n",
              "    </tr>\n",
              "    <tr>\n",
              "      <th>2</th>\n",
              "      <td>VKole</td>\n",
              "      <td>8428000.0</td>\n",
              "    </tr>\n",
              "    <tr>\n",
              "      <th>3</th>\n",
              "      <td>Smith</td>\n",
              "      <td>4428000.0</td>\n",
              "    </tr>\n",
              "    <tr>\n",
              "      <th>4</th>\n",
              "      <td>Gayle</td>\n",
              "      <td>4528000.0</td>\n",
              "    </tr>\n",
              "    <tr>\n",
              "      <th>5</th>\n",
              "      <td>Adam</td>\n",
              "      <td>4528000.0</td>\n",
              "    </tr>\n",
              "    <tr>\n",
              "      <th>6</th>\n",
              "      <td>Rooter</td>\n",
              "      <td>7028000.0</td>\n",
              "    </tr>\n",
              "    <tr>\n",
              "      <th>7</th>\n",
              "      <td>Peterson</td>\n",
              "      <td>2528000.0</td>\n",
              "    </tr>\n",
              "    <tr>\n",
              "      <th>8</th>\n",
              "      <td>lynda</td>\n",
              "      <td>NaN</td>\n",
              "    </tr>\n",
              "    <tr>\n",
              "      <th>9</th>\n",
              "      <td>NaN</td>\n",
              "      <td>NaN</td>\n",
              "    </tr>\n",
              "    <tr>\n",
              "      <th>10</th>\n",
              "      <td>Jenny</td>\n",
              "      <td>25632.0</td>\n",
              "    </tr>\n",
              "    <tr>\n",
              "      <th>11</th>\n",
              "      <td>Kenn</td>\n",
              "      <td>25632.0</td>\n",
              "    </tr>\n",
              "    <tr>\n",
              "      <th>12</th>\n",
              "      <td>Aly</td>\n",
              "      <td>25582.0</td>\n",
              "    </tr>\n",
              "    <tr>\n",
              "      <th>13</th>\n",
              "      <td>John</td>\n",
              "      <td>1528000.0</td>\n",
              "    </tr>\n",
              "    <tr>\n",
              "      <th>14</th>\n",
              "      <td>Ali</td>\n",
              "      <td>NaN</td>\n",
              "    </tr>\n",
              "  </tbody>\n",
              "</table>\n",
              "</div>"
            ],
            "text/plain": [
              "        Name     Salary\n",
              "0      James  5428000.0\n",
              "1    Villers  3428000.0\n",
              "2      VKole  8428000.0\n",
              "3      Smith  4428000.0\n",
              "4      Gayle  4528000.0\n",
              "5       Adam  4528000.0\n",
              "6     Rooter  7028000.0\n",
              "7   Peterson  2528000.0\n",
              "8      lynda        NaN\n",
              "9        NaN        NaN\n",
              "10     Jenny    25632.0\n",
              "11      Kenn    25632.0\n",
              "12       Aly    25582.0\n",
              "13      John  1528000.0\n",
              "14       Ali        NaN"
            ]
          },
          "execution_count": 17,
          "metadata": {},
          "output_type": "execute_result"
        }
      ],
      "source": [
        "pd.read_csv('./Data/employee.csv', usecols=['Name', 'Salary'])"
      ]
    },
    {
      "cell_type": "code",
      "execution_count": 20,
      "metadata": {
        "id": "q0h5NfHOvim8"
      },
      "outputs": [
        {
          "data": {
            "text/html": [
              "<div>\n",
              "<style scoped>\n",
              "    .dataframe tbody tr th:only-of-type {\n",
              "        vertical-align: middle;\n",
              "    }\n",
              "\n",
              "    .dataframe tbody tr th {\n",
              "        vertical-align: top;\n",
              "    }\n",
              "\n",
              "    .dataframe thead th {\n",
              "        text-align: right;\n",
              "    }\n",
              "</style>\n",
              "<table border=\"1\" class=\"dataframe\">\n",
              "  <thead>\n",
              "    <tr style=\"text-align: right;\">\n",
              "      <th></th>\n",
              "      <th>Name</th>\n",
              "      <th>Salary</th>\n",
              "    </tr>\n",
              "  </thead>\n",
              "  <tbody>\n",
              "    <tr>\n",
              "      <th>0</th>\n",
              "      <td>James</td>\n",
              "      <td>5428000.0</td>\n",
              "    </tr>\n",
              "    <tr>\n",
              "      <th>1</th>\n",
              "      <td>Villers</td>\n",
              "      <td>3428000.0</td>\n",
              "    </tr>\n",
              "    <tr>\n",
              "      <th>2</th>\n",
              "      <td>VKole</td>\n",
              "      <td>8428000.0</td>\n",
              "    </tr>\n",
              "    <tr>\n",
              "      <th>3</th>\n",
              "      <td>Smith</td>\n",
              "      <td>4428000.0</td>\n",
              "    </tr>\n",
              "    <tr>\n",
              "      <th>4</th>\n",
              "      <td>Gayle</td>\n",
              "      <td>4528000.0</td>\n",
              "    </tr>\n",
              "    <tr>\n",
              "      <th>5</th>\n",
              "      <td>Adam</td>\n",
              "      <td>4528000.0</td>\n",
              "    </tr>\n",
              "    <tr>\n",
              "      <th>6</th>\n",
              "      <td>Rooter</td>\n",
              "      <td>7028000.0</td>\n",
              "    </tr>\n",
              "    <tr>\n",
              "      <th>7</th>\n",
              "      <td>Peterson</td>\n",
              "      <td>2528000.0</td>\n",
              "    </tr>\n",
              "    <tr>\n",
              "      <th>8</th>\n",
              "      <td>lynda</td>\n",
              "      <td>NaN</td>\n",
              "    </tr>\n",
              "    <tr>\n",
              "      <th>9</th>\n",
              "      <td>NaN</td>\n",
              "      <td>NaN</td>\n",
              "    </tr>\n",
              "    <tr>\n",
              "      <th>10</th>\n",
              "      <td>Jenny</td>\n",
              "      <td>25632.0</td>\n",
              "    </tr>\n",
              "    <tr>\n",
              "      <th>11</th>\n",
              "      <td>Kenn</td>\n",
              "      <td>25632.0</td>\n",
              "    </tr>\n",
              "    <tr>\n",
              "      <th>12</th>\n",
              "      <td>Aly</td>\n",
              "      <td>25582.0</td>\n",
              "    </tr>\n",
              "    <tr>\n",
              "      <th>13</th>\n",
              "      <td>John</td>\n",
              "      <td>1528000.0</td>\n",
              "    </tr>\n",
              "    <tr>\n",
              "      <th>14</th>\n",
              "      <td>Ali</td>\n",
              "      <td>NaN</td>\n",
              "    </tr>\n",
              "  </tbody>\n",
              "</table>\n",
              "</div>"
            ],
            "text/plain": [
              "        Name     Salary\n",
              "0      James  5428000.0\n",
              "1    Villers  3428000.0\n",
              "2      VKole  8428000.0\n",
              "3      Smith  4428000.0\n",
              "4      Gayle  4528000.0\n",
              "5       Adam  4528000.0\n",
              "6     Rooter  7028000.0\n",
              "7   Peterson  2528000.0\n",
              "8      lynda        NaN\n",
              "9        NaN        NaN\n",
              "10     Jenny    25632.0\n",
              "11      Kenn    25632.0\n",
              "12       Aly    25582.0\n",
              "13      John  1528000.0\n",
              "14       Ali        NaN"
            ]
          },
          "execution_count": 20,
          "metadata": {},
          "output_type": "execute_result"
        }
      ],
      "source": [
        "pd.read_csv('./Data/employee.csv', usecols =[0,3])\n"
      ]
    },
    {
      "cell_type": "markdown",
      "metadata": {
        "id": "zDqedojKALa-"
      },
      "source": [
        "## **Submission**\n",
        "- Submit your completed lab using the Start Assignment button on the assignment page in Canvas.\n",
        "- Your submission can be include:\n",
        "  - if you are using notebook then, all tasks should be written and submitted in a single notebook file, for example: (**your_name_labname.ipynb**).\n",
        "  - if you are using python script file, all tasks should be written and submitted in a single python script file for example: **(your_name_labname.py)**.\n",
        "- Add appropriate comments and any additional instructions if required.\n"
      ]
    }
  ],
  "metadata": {
    "colab": {
      "provenance": []
    },
    "kernelspec": {
      "display_name": "Python 3",
      "name": "python3"
    },
    "language_info": {
      "codemirror_mode": {
        "name": "ipython",
        "version": 3
      },
      "file_extension": ".py",
      "mimetype": "text/x-python",
      "name": "python",
      "nbconvert_exporter": "python",
      "pygments_lexer": "ipython3",
      "version": "3.12.0"
    }
  },
  "nbformat": 4,
  "nbformat_minor": 0
}
