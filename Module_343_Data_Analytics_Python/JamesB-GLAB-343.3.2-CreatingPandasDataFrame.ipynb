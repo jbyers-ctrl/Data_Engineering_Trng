{
  "cells": [
    {
      "cell_type": "markdown",
      "metadata": {
        "id": "viMUnlQlmDq8"
      },
      "source": [
        "# **Guided Lab - 343.3.2 - Creating a Pandas DataFrame**\n"
      ]
    },
    {
      "cell_type": "markdown",
      "metadata": {
        "id": "5E1kPMUdmQ6S"
      },
      "source": [
        "**Lab Objective:**\n",
        "\n",
        "In this lab, we will demonstrate how to create a Pandas Dataframe, a fundamental data structure in data analysis with Python.\n",
        "\n",
        "**Importance:** Mastering DataFrame creation is crucial for data manipulation, analysis, and visualization in Python. It's the foundation for working with data in Pandas.\n",
        "\n",
        "**Learning Objective:**\n",
        "\n",
        " By the end of this lab, you will be able to create DataFrames using various methods, including dictionaries, lists, and NumPy arrays.\n",
        "\n",
        "**Prerequisite/Equipment**\n",
        "- Python environment: Python related IDE(e.g., Anaconda, Jupyter Notebook).\n",
        "- NumPy library installed (can be installed via pip or conda).\n",
        "\n",
        "**Submission**\n",
        "- Submit your completed lab using the Start Assignment button on the assignment page in Canvas.\n",
        "- Your submission can be include:\n",
        "  - if you are using notebook then, all tasks should be written and submitted in a single notebook file, for example(**your_name_labname.ipynb**).\n",
        "  - if you are using python script file, all tasks should be written and submitted in a single python script file for example: **(your_name_labname.py)**.\n",
        "- Add appropriate comments and any additional instructions if required.\n",
        "\n",
        "**Instructions:**\n",
        "\n",
        "You can start by importing pandas along with NumPy, which you will use throughout the following examples:\n",
        "```\n",
        "import numpy as np\n",
        "import pandas as pd\n",
        "```\n",
        "\n",
        "\n",
        "\n",
        "\n",
        "That’s it. Now you’re ready to create some DataFrames.\n"
      ]
    },
    {
      "cell_type": "markdown",
      "metadata": {
        "id": "qzvPwhnkoDlS"
      },
      "source": [
        "**Example 1: Creating a Pandas DataFrame from Dictionaries**\n",
        "\n",
        "We can create a Pandas DataFrame with a Python dictionary:\n"
      ]
    },
    {
      "cell_type": "code",
      "execution_count": 1,
      "metadata": {},
      "outputs": [],
      "source": [
        "import numpy as np\n",
        "import pandas as pd"
      ]
    },
    {
      "cell_type": "code",
      "execution_count": 2,
      "metadata": {
        "colab": {
          "base_uri": "https://localhost:8080/",
          "height": 143
        },
        "id": "mU_p81cEoL2F",
        "outputId": "6a24ec31-85cb-4d31-aaa5-73e1994b86bb"
      },
      "outputs": [
        {
          "name": "stdout",
          "output_type": "stream",
          "text": [
            "   x  y    z\n",
            "0  1  2  100\n",
            "1  2  4  100\n",
            "2  3  8  100\n"
          ]
        }
      ],
      "source": [
        "# Create Python dictionary\n",
        "d = {'x': [1, 2, 3], 'y': [2, 4, 8], 'z': 100}\n",
        "\n",
        "# Create DataFrame from a dictionary\n",
        "df_d = pd.DataFrame(d)\n",
        "print(df_d)"
      ]
    },
    {
      "cell_type": "markdown",
      "metadata": {
        "id": "ioDyVXRZoVj5"
      },
      "source": [
        "The keys of the dictionary are the DataFrame’s column labels, and the dictionary values are the data values in the corresponding DataFrame columns.\n",
        "\n",
        "The values can be contained in a tuple, list, one-dimensional NumPy array, Pandas Series object, or one of several other data types. You can also provide a single value that will be copied along the entire column.\n",
        "\n",
        "It’s possible to control the order of the columns with the columns parameter and row labels with index as shown in the below example:\n",
        "\n",
        "\n",
        "\n"
      ]
    },
    {
      "cell_type": "code",
      "execution_count": 9,
      "metadata": {
        "colab": {
          "base_uri": "https://localhost:8080/",
          "height": 143
        },
        "id": "3aRMwxOmoY-q",
        "outputId": "6b29bfbe-cac5-4469-eed5-cb6bcced8807"
      },
      "outputs": [
        {
          "name": "stdout",
          "output_type": "stream",
          "text": [
            "       z  y  x\n",
            "100  100  2  1\n",
            "200  100  4  2\n",
            "300  100  8  3\n"
          ]
        }
      ],
      "source": [
        "df_d2 = pd.DataFrame(d, index=[100, 200, 300], columns=['z', 'y', 'x'])\n",
        "print(df_d2)"
      ]
    },
    {
      "cell_type": "markdown",
      "metadata": {
        "id": "RikJwF-hob4k"
      },
      "source": [
        "**Example 2.1: Creating a Pandas DataFrame from lists using zip() function**\n",
        "\n",
        "We can also use the **`zip()`** function to zip together multiple lists to create a DataFrame with more columns.\n"
      ]
    },
    {
      "cell_type": "code",
      "execution_count": 12,
      "metadata": {
        "id": "kVv2-pU5og_a"
      },
      "outputs": [
        {
          "data": {
            "text/html": [
              "<div>\n",
              "<style scoped>\n",
              "    .dataframe tbody tr th:only-of-type {\n",
              "        vertical-align: middle;\n",
              "    }\n",
              "\n",
              "    .dataframe tbody tr th {\n",
              "        vertical-align: top;\n",
              "    }\n",
              "\n",
              "    .dataframe thead th {\n",
              "        text-align: right;\n",
              "    }\n",
              "</style>\n",
              "<table border=\"1\" class=\"dataframe\">\n",
              "  <thead>\n",
              "    <tr style=\"text-align: right;\">\n",
              "      <th></th>\n",
              "      <th>Patient ID</th>\n",
              "      <th>Name</th>\n",
              "      <th>DoB</th>\n",
              "    </tr>\n",
              "  </thead>\n",
              "  <tbody>\n",
              "    <tr>\n",
              "      <th>0</th>\n",
              "      <td>101</td>\n",
              "      <td>alice</td>\n",
              "      <td>2023-01-01</td>\n",
              "    </tr>\n",
              "    <tr>\n",
              "      <th>1</th>\n",
              "      <td>23</td>\n",
              "      <td>bob</td>\n",
              "      <td>2023-01-02</td>\n",
              "    </tr>\n",
              "    <tr>\n",
              "      <th>2</th>\n",
              "      <td>48</td>\n",
              "      <td>charlie</td>\n",
              "      <td>3/10/2020 143045</td>\n",
              "    </tr>\n",
              "    <tr>\n",
              "      <th>3</th>\n",
              "      <td>49</td>\n",
              "      <td>Eric</td>\n",
              "      <td>13th of October, 2023</td>\n",
              "    </tr>\n",
              "  </tbody>\n",
              "</table>\n",
              "</div>"
            ],
            "text/plain": [
              "   Patient ID     Name                    DoB\n",
              "0         101    alice             2023-01-01\n",
              "1          23      bob             2023-01-02\n",
              "2          48  charlie       3/10/2020 143045\n",
              "3          49     Eric  13th of October, 2023"
            ]
          },
          "execution_count": 12,
          "metadata": {},
          "output_type": "execute_result"
        }
      ],
      "source": [
        "# create a list of patientID, name, and date of birth and assign it to a variable\n",
        "patientID = [101,23,48,49]\n",
        "name =       ['alice','bob','charlie','Eric']\n",
        "# create a list of dates\n",
        "date_of_birth = ['2023-01-01', '2023-01-02', '3/10/2020 143045', '13th of October, 2023']\n",
        "# Create a DataFrame using zip and pd.DataFrame\n",
        "myDF = pd.DataFrame(zip(patientID, name,date_of_birth), columns=['Patient ID', 'Name', 'DoB'])\n",
        "myDF\n",
        "\n"
      ]
    },
    {
      "cell_type": "markdown",
      "metadata": {
        "id": "-PoxQ6ey6My_"
      },
      "source": [
        "**Explanation:**\n",
        "- `zip(patientID, name, date_of_birth):` The zip() function combines the elements from the three lists into tuples. Each tuple represents a row of data, associating a patient ID, name, and date of birth.\n",
        "- `pd.DataFrame(...):` This creates a Pandas DataFrame using the output of zip() as the data source.\n",
        "- `columns=['patientID', 'name', 'date_of_birth']:` This argument sets the column names for the DataFrame."
      ]
    },
    {
      "cell_type": "markdown",
      "metadata": {
        "id": "htimvZNYojxq"
      },
      "source": [
        "**Example 2.2: Creating a Pandas DataFrame from List using Dictionary**\n",
        "\n",
        "- Another way to create a Pandas DataFrame is to use a **list** of **dictionaries**:\n",
        "- To use lists in a dictionary to create a Pandas DataFrame, we Create a dictionary of lists and then Pass the dictionary to the pd.DataFrame() constructor. Optionally, we can specify the column names for the DataFrame by passing a list of strings to the columns parameter of the pd.DataFrame() constructor.\n",
        "\n",
        "\n"
      ]
    },
    {
      "cell_type": "code",
      "execution_count": 13,
      "metadata": {
        "colab": {
          "base_uri": "https://localhost:8080/",
          "height": 143
        },
        "id": "xvXVEz_1opK0",
        "outputId": "12799d5f-b253-426a-cb7f-4a7bd74763c6"
      },
      "outputs": [
        {
          "data": {
            "text/html": [
              "<div>\n",
              "<style scoped>\n",
              "    .dataframe tbody tr th:only-of-type {\n",
              "        vertical-align: middle;\n",
              "    }\n",
              "\n",
              "    .dataframe tbody tr th {\n",
              "        vertical-align: top;\n",
              "    }\n",
              "\n",
              "    .dataframe thead th {\n",
              "        text-align: right;\n",
              "    }\n",
              "</style>\n",
              "<table border=\"1\" class=\"dataframe\">\n",
              "  <thead>\n",
              "    <tr style=\"text-align: right;\">\n",
              "      <th></th>\n",
              "      <th>x</th>\n",
              "      <th>y</th>\n",
              "      <th>z</th>\n",
              "    </tr>\n",
              "  </thead>\n",
              "  <tbody>\n",
              "    <tr>\n",
              "      <th>0</th>\n",
              "      <td>1</td>\n",
              "      <td>2</td>\n",
              "      <td>100</td>\n",
              "    </tr>\n",
              "    <tr>\n",
              "      <th>1</th>\n",
              "      <td>2</td>\n",
              "      <td>4</td>\n",
              "      <td>100</td>\n",
              "    </tr>\n",
              "    <tr>\n",
              "      <th>2</th>\n",
              "      <td>3</td>\n",
              "      <td>8</td>\n",
              "      <td>100</td>\n",
              "    </tr>\n",
              "  </tbody>\n",
              "</table>\n",
              "</div>"
            ],
            "text/plain": [
              "   x  y    z\n",
              "0  1  2  100\n",
              "1  2  4  100\n",
              "2  3  8  100"
            ]
          },
          "execution_count": 13,
          "metadata": {},
          "output_type": "execute_result"
        }
      ],
      "source": [
        "\n",
        "l = [{'x': 1, 'y': 2, 'z': 100},\n",
        "     {'x': 2, 'y': 4, 'z': 100},\n",
        "     {'x': 3, 'y': 8, 'z': 100}]\n",
        "\n",
        "pd.DataFrame(l)"
      ]
    },
    {
      "cell_type": "markdown",
      "metadata": {
        "id": "9Oraf8-doueS"
      },
      "source": [
        "Again, the dictionary keys are the column labels, and the dictionary values are the data values in the DataFrame.\n",
        "\n",
        "You can also use a **nested list,** or a **list of lists**, as the data values. If you do, then it is wise to explicitly specify the labels of columns, rows, or both when you create the DataFrame.\n"
      ]
    },
    {
      "cell_type": "code",
      "execution_count": 14,
      "metadata": {
        "id": "_Qboy8Ztov5j"
      },
      "outputs": [
        {
          "data": {
            "text/html": [
              "<div>\n",
              "<style scoped>\n",
              "    .dataframe tbody tr th:only-of-type {\n",
              "        vertical-align: middle;\n",
              "    }\n",
              "\n",
              "    .dataframe tbody tr th {\n",
              "        vertical-align: top;\n",
              "    }\n",
              "\n",
              "    .dataframe thead th {\n",
              "        text-align: right;\n",
              "    }\n",
              "</style>\n",
              "<table border=\"1\" class=\"dataframe\">\n",
              "  <thead>\n",
              "    <tr style=\"text-align: right;\">\n",
              "      <th></th>\n",
              "      <th>x</th>\n",
              "      <th>y</th>\n",
              "      <th>z</th>\n",
              "    </tr>\n",
              "  </thead>\n",
              "  <tbody>\n",
              "    <tr>\n",
              "      <th>0</th>\n",
              "      <td>1</td>\n",
              "      <td>2</td>\n",
              "      <td>100</td>\n",
              "    </tr>\n",
              "    <tr>\n",
              "      <th>1</th>\n",
              "      <td>2</td>\n",
              "      <td>4</td>\n",
              "      <td>100</td>\n",
              "    </tr>\n",
              "    <tr>\n",
              "      <th>2</th>\n",
              "      <td>3</td>\n",
              "      <td>8</td>\n",
              "      <td>100</td>\n",
              "    </tr>\n",
              "  </tbody>\n",
              "</table>\n",
              "</div>"
            ],
            "text/plain": [
              "   x  y    z\n",
              "0  1  2  100\n",
              "1  2  4  100\n",
              "2  3  8  100"
            ]
          },
          "execution_count": 14,
          "metadata": {},
          "output_type": "execute_result"
        }
      ],
      "source": [
        "l = [[1, 2, 100],\n",
        "     [2, 4, 100],\n",
        "     [3, 8, 100]]\n",
        "\n",
        "pd.DataFrame(l, columns=['x', 'y', 'z'])\n",
        "\n"
      ]
    },
    {
      "cell_type": "markdown",
      "metadata": {
        "id": "suae-8oBo5fy"
      },
      "source": [
        "That is how you can use a nested list to create a Pandas DataFrame. You can also use a list of tuples in the same way. To do so, just replace the nested lists in the example above with tuples.\n"
      ]
    },
    {
      "cell_type": "markdown",
      "metadata": {
        "id": "AL0Vy0FjPVUP"
      },
      "source": [
        "**Example 2.3: Creating Pandas using Lists**"
      ]
    },
    {
      "cell_type": "code",
      "execution_count": 17,
      "metadata": {
        "id": "VYsMIKbVPAZq"
      },
      "outputs": [
        {
          "name": "stdout",
          "output_type": "stream",
          "text": [
            "  stocks  prices\n",
            "0    IBM  115.00\n",
            "1  APPLE  119.14\n",
            "2  TWTTR   19.77\n",
            "3     GE   25.99\n",
            "4   MSFT   26.00\n",
            "Tuples:\n",
            "  stocks  prices\n",
            "0    IBM  115.00\n",
            "1  APPLE  119.14\n",
            "2  TWTTR   19.77\n",
            "3     GE   25.99\n",
            "4   MSFT   26.00\n"
          ]
        }
      ],
      "source": [
        "stocks = [\"IBM\", \"APPLE\", \"TWTTR\", \"GE\", \"MSFT\"]\n",
        "prices = [115.00, 119.14, 19.77, 25.99, 26]\n",
        "\n",
        "print(pd.DataFrame(zip(stocks, prices), columns=['stocks', 'prices']))\n",
        "\n",
        "# Using Tuples\n",
        "stocks1 = (\"IBM\", \"APPLE\", \"TWTTR\", \"GE\", \"MSFT\")\n",
        "prices1 = (115.00, 119.14, 19.77, 25.99, 26)\n",
        "print(\"Tuples:\")\n",
        "print(pd.DataFrame(zip(stocks1, prices1), columns=['stocks', 'prices']))\n"
      ]
    },
    {
      "cell_type": "markdown",
      "metadata": {
        "id": "wKeIka3lo7mK"
      },
      "source": [
        "**Example 3: Creating a pandas DataFrame from NumPy Arrays**\n",
        "\n",
        "You can pass a two-dimensional NumPy array to the DataFrame constructor the same way you do with a list:"
      ]
    },
    {
      "cell_type": "code",
      "execution_count": 24,
      "metadata": {
        "id": "_61jO1AEo-vd"
      },
      "outputs": [
        {
          "data": {
            "text/html": [
              "<div>\n",
              "<style scoped>\n",
              "    .dataframe tbody tr th:only-of-type {\n",
              "        vertical-align: middle;\n",
              "    }\n",
              "\n",
              "    .dataframe tbody tr th {\n",
              "        vertical-align: top;\n",
              "    }\n",
              "\n",
              "    .dataframe thead th {\n",
              "        text-align: right;\n",
              "    }\n",
              "</style>\n",
              "<table border=\"1\" class=\"dataframe\">\n",
              "  <thead>\n",
              "    <tr style=\"text-align: right;\">\n",
              "      <th></th>\n",
              "      <th>x</th>\n",
              "      <th>y</th>\n",
              "      <th>z</th>\n",
              "    </tr>\n",
              "  </thead>\n",
              "  <tbody>\n",
              "    <tr>\n",
              "      <th>0</th>\n",
              "      <td>1</td>\n",
              "      <td>2</td>\n",
              "      <td>100</td>\n",
              "    </tr>\n",
              "    <tr>\n",
              "      <th>1</th>\n",
              "      <td>2</td>\n",
              "      <td>4</td>\n",
              "      <td>100</td>\n",
              "    </tr>\n",
              "    <tr>\n",
              "      <th>2</th>\n",
              "      <td>3</td>\n",
              "      <td>8</td>\n",
              "      <td>100</td>\n",
              "    </tr>\n",
              "  </tbody>\n",
              "</table>\n",
              "</div>"
            ],
            "text/plain": [
              "   x  y    z\n",
              "0  1  2  100\n",
              "1  2  4  100\n",
              "2  3  8  100"
            ]
          },
          "execution_count": 24,
          "metadata": {},
          "output_type": "execute_result"
        }
      ],
      "source": [
        "# This following line creates a NumPy array named arr.\n",
        "arr = np.array([[1, 2, 100],[2, 4, 100],[3, 8, 100]])\n",
        "# This following line creates a Pandas DataFrame named df\n",
        "df = pd.DataFrame(arr, columns=['x', 'y', 'z'], copy=True)\n",
        "df\n"
      ]
    },
    {
      "cell_type": "markdown",
      "metadata": {
        "id": "fJ_5EitzpBCL"
      },
      "source": [
        "Although this example looks almost the same as the nested list implementation above, it has one advantage. You can specify the optional parameter copy.\n",
        "\n",
        "When a ***copy*** is set to ***False*** (its default setting), the data from the NumPy array is not copied. This means that the original data from the array is assigned to the Pandas DataFrame. If you modify the array, your DataFrame will change too:\n",
        "\n",
        "\n"
      ]
    },
    {
      "cell_type": "code",
      "execution_count": 25,
      "metadata": {
        "colab": {
          "base_uri": "https://localhost:8080/",
          "height": 143
        },
        "id": "RBsAeD8vpCeT",
        "outputId": "aa3ee674-2f10-4178-bd60-25559d0ff428"
      },
      "outputs": [
        {
          "name": "stdout",
          "output_type": "stream",
          "text": [
            "   x  y    z\n",
            "0  1  2  100\n",
            "1  2  4  100\n",
            "2  3  8  100 \n",
            "\n",
            "[[1000    2  100]\n",
            " [   2    4  100]\n",
            " [   3    8  100]]\n"
          ]
        }
      ],
      "source": [
        "arr[0, 0] = 1000\n",
        "print(df, \"\\n\")\n",
        "\n",
        "print(arr)\n"
      ]
    },
    {
      "cell_type": "markdown",
      "metadata": {
        "id": "FdASRcX3pO3b"
      },
      "source": [
        "Note: Not copying data values can save you a significant amount of time and processing power when working with large datasets.\n",
        "\n",
        "\n",
        "If this behavior is not what you want, you should specify copy=True in the DataFrame constructor. That way, df will be created with a copy of the values from arr instead of the actual values.\n"
      ]
    }
  ],
  "metadata": {
    "colab": {
      "provenance": []
    },
    "kernelspec": {
      "display_name": "Python 3",
      "name": "python3"
    },
    "language_info": {
      "codemirror_mode": {
        "name": "ipython",
        "version": 3
      },
      "file_extension": ".py",
      "mimetype": "text/x-python",
      "name": "python",
      "nbconvert_exporter": "python",
      "pygments_lexer": "ipython3",
      "version": "3.12.0"
    }
  },
  "nbformat": 4,
  "nbformat_minor": 0
}
