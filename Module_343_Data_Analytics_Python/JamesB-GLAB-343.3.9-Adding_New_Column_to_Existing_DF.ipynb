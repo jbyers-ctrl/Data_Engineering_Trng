{
  "cells": [
    {
      "cell_type": "markdown",
      "metadata": {
        "id": "UWq8C9mVCQ0O"
      },
      "source": [
        "# **Guided Lab - 343.3.9 - Adding new column to existing DataFrame in Pandas**\n",
        "\n",
        "\n",
        "## **Lab Objective:**\n",
        "- In this lab, we will cover how to add/append multiple columns and add a constant value, deriving new columns from an existing column to the Pandas DataFrame.\n",
        "\n",
        "- By the end of this lab, learners will be able to add new columns to Panda Dataframe using several approaches.\n",
        "\n",
        "## **Introduction:**\n",
        "In Pandas, a DataFrame represents a two-dimensional, heterogenous, tabular data structure with labeled rows and columns (axes). In simple words, it contains three components ― data, rows, columns.\n",
        "\n",
        "Let's discuss how to add new columns to the existing DataFrame in Pandas. There are multiple ways we can do this task.\n",
        "\n",
        "## **Instructions**\n"
      ]
    },
    {
      "cell_type": "markdown",
      "metadata": {
        "id": "QbMXAFOQChWD"
      },
      "source": [
        "## **Method #1: By Dictionary and declaring a new list as a column.**\n",
        "\n",
        "**Example 1.1:**\n",
        "\n",
        "Note that the length of your list should match the length of the index column; otherwise, it will show an error.\n",
        "import pandas as pd\n",
        "  \n",
        "\n",
        "\n"
      ]
    },
    {
      "cell_type": "code",
      "execution_count": 1,
      "metadata": {},
      "outputs": [],
      "source": [
        "import pandas as pd"
      ]
    },
    {
      "cell_type": "code",
      "execution_count": 3,
      "metadata": {
        "id": "v8TLWNGICsN9"
      },
      "outputs": [
        {
          "name": "stdout",
          "output_type": "stream",
          "text": [
            "------before -------\n",
            "     Name  Height Qualification  Score 1  Score 2\n",
            "0    Jane     5.1           Msc       56       50\n",
            "1  Princi     6.2            MA       86       96\n",
            "2   James     5.1           Msc       77       60\n",
            "3    Fadi     5.2           Msc       45       30\n",
            "------after adding column -------\n",
            "     Name  Height Qualification  Score 1  Score 2 Address\n",
            "0    Jane     5.1           Msc       56       50     NYC\n",
            "1  Princi     6.2            MA       86       96      NJ\n",
            "2   James     5.1           Msc       77       60      CA\n",
            "3    Fadi     5.2           Msc       45       30      PA\n",
            "------add another column-------\n",
            "     Name  Height Qualification  Score 1  Score 2 Address Gender\n",
            "0    Jane     5.1           Msc       56       50     NYC      F\n",
            "1  Princi     6.2            MA       86       96      NJ      F\n",
            "2   James     5.1           Msc       77       60      CA      M\n",
            "3    Fadi     5.2           Msc       45       30      PA      F\n"
          ]
        }
      ],
      "source": [
        "# Define a dictionary containing Students data and their respective details\n",
        "data = {'Name': ['Jane', 'Princi', 'James', 'Fadi'],\n",
        "        'Height': [5.1, 6.2, 5.1, 5.2],\n",
        "        'Qualification': ['Msc', 'MA', 'Msc', 'Msc'],\n",
        "        'Score 1' : [56,86,77,45],\n",
        "        'Score 2' : [50,96,60,30]}\n",
        "\n",
        "# Convert the dictionary into DataFrame\n",
        "df = pd.DataFrame(data)\n",
        "print(\"------before -------\")\n",
        "print(df)\n",
        "\n",
        "\n",
        "# Declare a list that is to be converted into a column\n",
        "address = ['NYC', 'NJ', 'CA', 'PA']\n",
        "\n",
        "# Using 'Address' as the column name\n",
        "# and equating it to the list\n",
        "df['Address'] = address\n",
        "print(\"------after adding column -------\")\n",
        "# Observe the result\n",
        "print(df)\n",
        "\n",
        "# Declare list to convert to a column\n",
        "gender = ['F', 'F', 'M', 'F']\n",
        "\n",
        "# Use 'Gender' as column name & add to df\n",
        "df['Gender'] = gender\n",
        "print(\"------add another column-------\")\n",
        "print(df)"
      ]
    },
    {
      "cell_type": "markdown",
      "metadata": {
        "id": "BOElKH_2C1Em"
      },
      "source": [
        "**Example: 1.2**\n",
        "\n",
        "- You can apply basic arithmetic operations such as addition, subtraction, multiplication, and division to Pandas DataFrame objects the same way you would with NumPy arrays:\n",
        "\n",
        "- The below example adds a new column based on a calculation of the existing column.\n",
        "\n",
        "\n",
        "\n"
      ]
    },
    {
      "cell_type": "code",
      "execution_count": null,
      "metadata": {
        "id": "y5jVR6tACYmk"
      },
      "outputs": [
        {
          "name": "stdout",
          "output_type": "stream",
          "text": [
            "------before -------\n",
            "     Name  Height Qualification  Score 1  Score 2\n",
            "0    Jane     5.1           Msc       56       50\n",
            "1  Princi     6.2            MA       86       96\n",
            "2   James     5.1           Msc       77       60\n",
            "3    Fadi     5.2           Msc       45       30\n",
            "------after adding column -------\n",
            "     Name  Height Qualification  Score 1  Score 2  Total_Score\n",
            "0    Jane     5.1           Msc       56       50          106\n",
            "1  Princi     6.2            MA       86       96          182\n",
            "2   James     5.1           Msc       77       60          137\n",
            "3    Fadi     5.2           Msc       45       30           75\n"
          ]
        }
      ],
      "source": [
        "# defining a dictionary containing Students data and their respective details\n",
        "data = {'Name': ['Jane', 'Princi', 'James', 'Fadi'],\n",
        "        'Height': [5.1, 6.2, 5.1, 5.2],\n",
        "        'Qualification': ['Msc', 'MA', 'Msc', 'Msc'],\n",
        "       'Score 1' : [56,86,77,45],\n",
        "           'Score 2' : [50,96,60,30]}\n",
        "\n",
        "# Convert the dictionary into DataFrame\n",
        "df = pd.DataFrame(data)\n",
        "print(\"------before -------\")\n",
        "print(df)\n",
        "print(\"------after adding column -------\")\n",
        "df['Total_Score'] = df['Score 1'] +  df['Score 2'] # add columns & store/add in another column\n",
        "\n",
        "print(df)"
      ]
    },
    {
      "cell_type": "markdown",
      "metadata": {
        "id": "BxF21f2qC8B2"
      },
      "source": [
        "**Example: 1.3**"
      ]
    },
    {
      "cell_type": "code",
      "execution_count": 7,
      "metadata": {
        "id": "B-7M7OZwCN9K"
      },
      "outputs": [
        {
          "name": "stdout",
          "output_type": "stream",
          "text": [
            "------before -------\n",
            "     Name  Height Qualification  Score 1  Score 2\n",
            "0    Jane     5.1           Msc       56       50\n",
            "1  Princi     6.2            MA       86       96\n",
            "2   James     5.1           Msc       77       60\n",
            "3    Fadi     5.2           Msc       45       30\n",
            "------after adding column -------\n",
            "     Name  Height Qualification  Score 1  Score 2  Total_Score  \\\n",
            "0    Jane     5.1           Msc       56       50          106   \n",
            "1  Princi     6.2            MA       86       96          182   \n",
            "2   James     5.1           Msc       77       60          137   \n",
            "3    Fadi     5.2           Msc       45       30           75   \n",
            "\n",
            "   Total_Score_average  \n",
            "0                 53.0  \n",
            "1                 91.0  \n",
            "2                 68.5  \n",
            "3                 37.5  \n"
          ]
        },
        {
          "data": {
            "text/html": [
              "<div>\n",
              "<style scoped>\n",
              "    .dataframe tbody tr th:only-of-type {\n",
              "        vertical-align: middle;\n",
              "    }\n",
              "\n",
              "    .dataframe tbody tr th {\n",
              "        vertical-align: top;\n",
              "    }\n",
              "\n",
              "    .dataframe thead th {\n",
              "        text-align: right;\n",
              "    }\n",
              "</style>\n",
              "<table border=\"1\" class=\"dataframe\">\n",
              "  <thead>\n",
              "    <tr style=\"text-align: right;\">\n",
              "      <th></th>\n",
              "      <th>Name</th>\n",
              "      <th>Height</th>\n",
              "      <th>Qualification</th>\n",
              "      <th>Score 1</th>\n",
              "      <th>Score 2</th>\n",
              "      <th>Total_Score</th>\n",
              "      <th>Total_Score_average</th>\n",
              "    </tr>\n",
              "  </thead>\n",
              "  <tbody>\n",
              "    <tr>\n",
              "      <th>0</th>\n",
              "      <td>Jane</td>\n",
              "      <td>5.1</td>\n",
              "      <td>Msc</td>\n",
              "      <td>56</td>\n",
              "      <td>50</td>\n",
              "      <td>106</td>\n",
              "      <td>53.0</td>\n",
              "    </tr>\n",
              "    <tr>\n",
              "      <th>1</th>\n",
              "      <td>Princi</td>\n",
              "      <td>6.2</td>\n",
              "      <td>MA</td>\n",
              "      <td>86</td>\n",
              "      <td>96</td>\n",
              "      <td>182</td>\n",
              "      <td>91.0</td>\n",
              "    </tr>\n",
              "    <tr>\n",
              "      <th>2</th>\n",
              "      <td>James</td>\n",
              "      <td>5.1</td>\n",
              "      <td>Msc</td>\n",
              "      <td>77</td>\n",
              "      <td>60</td>\n",
              "      <td>137</td>\n",
              "      <td>68.5</td>\n",
              "    </tr>\n",
              "    <tr>\n",
              "      <th>3</th>\n",
              "      <td>Fadi</td>\n",
              "      <td>5.2</td>\n",
              "      <td>Msc</td>\n",
              "      <td>45</td>\n",
              "      <td>30</td>\n",
              "      <td>75</td>\n",
              "      <td>37.5</td>\n",
              "    </tr>\n",
              "  </tbody>\n",
              "</table>\n",
              "</div>"
            ],
            "text/plain": [
              "     Name  Height Qualification  Score 1  Score 2  Total_Score  \\\n",
              "0    Jane     5.1           Msc       56       50          106   \n",
              "1  Princi     6.2            MA       86       96          182   \n",
              "2   James     5.1           Msc       77       60          137   \n",
              "3    Fadi     5.2           Msc       45       30           75   \n",
              "\n",
              "   Total_Score_average  \n",
              "0                 53.0  \n",
              "1                 91.0  \n",
              "2                 68.5  \n",
              "3                 37.5  "
            ]
          },
          "execution_count": 7,
          "metadata": {},
          "output_type": "execute_result"
        }
      ],
      "source": [
        "data = {'Name': ['Jane', 'Princi', 'James', 'Fadi'],\n",
        "        'Height': [5.1, 6.2, 5.1, 5.2],\n",
        "        'Qualification': ['Msc', 'MA', 'Msc', 'Msc'],\n",
        "       'Score 1' : [56,86,77,45],\n",
        "           'Score 2' : [50,96,60,30]}\n",
        "\n",
        "# Convert the dictionary into DataFrame\n",
        "df = pd.DataFrame(data)\n",
        "print(\"------before -------\")\n",
        "print(df)\n",
        "print(\"------after adding column -------\")\n",
        "#\n",
        "df['Total_Score'] = df['Score 1'] +  df['Score 2']\n",
        "df['Total_Score_average'] = df['Total_Score']/ 2\n",
        "print(df)\n",
        "df\n"
      ]
    },
    {
      "cell_type": "markdown",
      "metadata": {
        "id": "QJoGy2TnDB9k"
      },
      "source": [
        "**Example: 1.4**\n",
        "\n",
        "In the below example, we will rearrange columns and skip the height column.\n",
        "\n"
      ]
    },
    {
      "cell_type": "code",
      "execution_count": null,
      "metadata": {
        "id": "rACJ7X09DGWL"
      },
      "outputs": [
        {
          "name": "stdout",
          "output_type": "stream",
          "text": [
            "------before -------\n",
            "   Score 1  Score 2    Name Qualification\n",
            "0       56       50    Jane           Msc\n",
            "1       86       96  Princi            MA\n",
            "2       77       60   James           Msc\n",
            "3       45       30    Fadi           Msc\n",
            "------after adding column -------\n",
            "   Score 1  Score 2    Name Qualification  Total_Score\n",
            "0       56       50    Jane           Msc          106\n",
            "1       86       96  Princi            MA          182\n",
            "2       77       60   James           Msc          137\n",
            "3       45       30    Fadi           Msc           75\n"
          ]
        }
      ],
      "source": [
        "data = {'Name': ['Jane', 'Princi', 'James', 'Fadi'],\n",
        "        'Height': [5.1, 6.2, 5.1, 5.2],\n",
        "        'Qualification': ['Msc', 'MA', 'Msc', 'Msc'],\n",
        "       'Score 1' : [56,86,77,45],\n",
        "       'Score 2' : [50,96,60,30]\n",
        "       }\n",
        "\n",
        "# Convert the dictionary into DataFrame / skipping 'Height' column\n",
        "df = pd.DataFrame(data,columns = ['Score 1','Score 2','Name', 'Qualification'  ])\n",
        "print(\"------before -------\")\n",
        "print(df)\n",
        "print(\"------after adding column -------\")\n",
        "\n",
        "df['Total_Score'] = df['Score 1'] +  df['Score 2']\n",
        "print(df)\n"
      ]
    },
    {
      "cell_type": "markdown",
      "metadata": {
        "id": "7yKWe7z2DM0s"
      },
      "source": [
        "Example 1.5\n"
      ]
    },
    {
      "cell_type": "code",
      "execution_count": 12,
      "metadata": {
        "id": "4QxYGde7DN9A"
      },
      "outputs": [
        {
          "name": "stdout",
          "output_type": "stream",
          "text": [
            "Data frame before calculating percentage\n",
            "\n",
            "     Name  Univ_Marks\n",
            "0   Rohan         455\n",
            "1  Elvish         250\n",
            "2    John         495\n",
            "3     Sai         400\n",
            "4    Eric         350\n",
            "5    Adam         450\n",
            "\n",
            "Data frame with Percentage Column\n",
            "\n",
            "     Name  Univ_Marks  Percentage\n",
            "0   Rohan         455        91.0\n",
            "1  Elvish         250        50.0\n",
            "2    John         495        99.0\n",
            "3     Sai         400        80.0\n",
            "4    Eric         350        70.0\n",
            "5    Adam         450        90.0\n"
          ]
        }
      ],
      "source": [
        "# creating and initializing a list\n",
        "values = [['Rohan', 455], ['Elvish', 250], ['John', 495],\n",
        "          ['Sai', 400], ['Eric', 350], ['Adam', 450]]\n",
        "\n",
        "# creating a pandas dataframe\n",
        "df = pd.DataFrame(values, columns=['Name', 'Univ_Marks'])\n",
        "\n",
        "# displaying the data frame\n",
        "\n",
        "print('Data frame before calculating percentage\\n')\n",
        "print(df)\n",
        "print('\\nData frame with Percentage Column\\n')\n",
        "\n",
        "# Creating new column Percentage derived from Univ_Marks\n",
        "df[\"Percentage\"] = df[\"Univ_Marks\"]/500*100\n",
        "\n",
        "# displaying the data frame\n",
        "print(df)"
      ]
    },
    {
      "cell_type": "markdown",
      "metadata": {
        "id": "fRIxQ59lDQqT"
      },
      "source": [
        "## **Method #2: By using DataFrame.insert() function**\n",
        "\n",
        "It gives the freedom to add a column at any position we like, and not just at the end. It also provides different options for inserting the column values.\n",
        "\n",
        "**Example 2.1**\n",
        "\n",
        "\n"
      ]
    },
    {
      "cell_type": "code",
      "execution_count": null,
      "metadata": {
        "id": "-hINfql_DU7j"
      },
      "outputs": [
        {
          "name": "stdout",
          "output_type": "stream",
          "text": [
            "------before -------\n",
            "     Name  Height Qualification  Score 1  Score 2\n",
            "0    Jane     5.1           Msc       56       50\n",
            "1  Princi     6.2            MA       86       96\n",
            "2   James     5.1           Msc       77       60\n",
            "3    Fadi     5.2           Msc       45       30\n",
            "------after adding column -------\n",
            "     Name  Height  Age Qualification  Score 1  Score 2\n",
            "0    Jane     5.1   21           Msc       56       50\n",
            "1  Princi     6.2   23            MA       86       96\n",
            "2   James     5.1   24           Msc       77       60\n",
            "3    Fadi     5.2   21           Msc       45       30\n"
          ]
        }
      ],
      "source": [
        "# Define a dictionary containing Students data\n",
        "data = {'Name': ['Jane', 'Princi', 'James', 'Fadi'],\n",
        "        'Height': [5.1, 6.2, 5.1, 5.2],\n",
        "        'Qualification': ['Msc', 'MA', 'Msc', 'Msc'],\n",
        "       'Score 1' : [56,86,77,45],\n",
        "           'Score 2' : [50,96,60,30]}\n",
        "\n",
        "# Convert the dictionary into DataFrame\n",
        "df = pd.DataFrame(data)\n",
        "print(\"------before -------\")\n",
        "print(df)\n",
        "\n",
        "# Using DataFrame.insert() adding age column\n",
        "#     index,   col, value/content,  allow duplicates\n",
        "df.insert(2, \"Age\", [21, 23, 24, 21], True)\n",
        "print(\"------after adding column -------\")\n",
        "# Observe the result\n",
        "print(df)"
      ]
    },
    {
      "cell_type": "markdown",
      "metadata": {
        "id": "zDx49u9zDYWs"
      },
      "source": [
        "## **Method #3: Using Dataframe.assign() function**\n",
        "\n",
        "**Example 3.1**\n",
        "\n",
        "This method will create a new dataframe with a new column added to the old dataframe.\n",
        "\n",
        "**Returns a new object with all original columns in addition to new ones. Existing columns that are re-assigned will be overwritten**"
      ]
    },
    {
      "cell_type": "code",
      "execution_count": 19,
      "metadata": {
        "id": "yzL7cto-Dbje"
      },
      "outputs": [
        {
          "name": "stdout",
          "output_type": "stream",
          "text": [
            "------before -------\n",
            "     Name  Height Qualification  Score 1  Score 2\n",
            "0    Jane     5.1           Msc       56       50\n",
            "1  Princi     6.2            MA       86       96\n",
            "2   James     5.1           Msc       77       60\n",
            "3    Fadi     5.2           Msc       45       30\n",
            "------after adding column -------\n",
            "     Name  Height Qualification  Score 1  Score 2 address\n",
            "0    Jane     5.1           Msc       56       50     NYC\n",
            "1  Princi     6.2            MA       86       96      NJ\n",
            "2   James     5.1           Msc       77       60      CA\n",
            "3    Fadi     5.2           Msc       45       30      PA\n"
          ]
        }
      ],
      "source": [
        "# Define a dictionary containing Students data\n",
        "data = {'Name': ['Jane', 'Princi', 'James', 'Fadi'],\n",
        "        'Height': [5.1, 6.2, 5.1, 5.2],\n",
        "        'Qualification': ['Msc', 'MA', 'Msc', 'Msc'],\n",
        "       'Score 1' : [56,86,77,45],\n",
        "           'Score 2' : [50,96,60,30]}\n",
        "\n",
        "print(\"------before -------\")\n",
        "\n",
        "# Convert the dictionary into DataFrame\n",
        "df = pd.DataFrame(data)\n",
        "print(df)\n",
        "print(\"------after adding column -------\")\n",
        "# using DataFrame.assign() method adding 'Address' as the column name and adding it to the list\n",
        "df = df.assign(address = ['NYC', 'NJ', 'CA', 'PA'])\n",
        "\n",
        "# Observe the result\n",
        "print(df)"
      ]
    },
    {
      "cell_type": "code",
      "execution_count": 28,
      "metadata": {},
      "outputs": [
        {
          "name": "stdout",
          "output_type": "stream",
          "text": [
            "                temp_c\n",
            "South Carolina    17.0\n",
            "Florida           25.0\n",
            "\n",
            "Assigning column w/ Lambda:\n",
            "                temp_c  temp_f\n",
            "South Carolina    17.0    62.6\n",
            "Florida           25.0    77.0\n"
          ]
        }
      ],
      "source": [
        "df_temp = pd.DataFrame({'temp_c': [17.0, 25.0]},\n",
        "                        index=['South Carolina', 'Florida'])\n",
        "print(df_temp)\n",
        "print('\\nAssigning column w/ Lambda:')\n",
        "# value is a callable, evaluated on df using lambda\n",
        "print(df_temp.assign(temp_f = lambda x: x.temp_c * 9 / 5 + 32))"
      ]
    },
    {
      "cell_type": "markdown",
      "metadata": {
        "id": "FnGJVf7pH6qh"
      },
      "source": [
        "## **Submission**\n",
        "- Submit your completed lab using the Start Assignment button on the assignment page in Canvas.\n",
        "- Your submission can be include:\n",
        "  - if you are using notebook then, all tasks should be written and submitted in a single notebook file, for example: (**your_name_labname.ipynb**).\n",
        "  - if you are using python script file, all tasks should be written and submitted in a single python script file for example: **(your_name_labname.py)**.\n",
        "- Add appropriate comments and any additional instructions if required.\n"
      ]
    },
    {
      "cell_type": "code",
      "execution_count": null,
      "metadata": {
        "id": "0Utnv3_xH5-C"
      },
      "outputs": [],
      "source": []
    }
  ],
  "metadata": {
    "colab": {
      "provenance": []
    },
    "kernelspec": {
      "display_name": "Python 3",
      "name": "python3"
    },
    "language_info": {
      "codemirror_mode": {
        "name": "ipython",
        "version": 3
      },
      "file_extension": ".py",
      "mimetype": "text/x-python",
      "name": "python",
      "nbconvert_exporter": "python",
      "pygments_lexer": "ipython3",
      "version": "3.12.0"
    }
  },
  "nbformat": 4,
  "nbformat_minor": 0
}
