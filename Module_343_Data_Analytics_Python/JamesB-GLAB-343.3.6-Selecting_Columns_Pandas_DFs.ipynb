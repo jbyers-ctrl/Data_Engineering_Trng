{
  "cells": [
    {
      "cell_type": "markdown",
      "metadata": {
        "id": "ig6e04EWA_29"
      },
      "source": [
        "# **Guided Lab 343.3.6 - Selecting Columns in Pandas DataFrames**\n",
        "\n",
        "---\n",
        "\n"
      ]
    },
    {
      "cell_type": "markdown",
      "metadata": {
        "id": "DyUE-au_ZzO7"
      },
      "source": [
        "## **Learning Objective:**\n",
        "This lab focuses on accessing and selecting specific columns from Pandas DataFrames, a fundamental skill in data manipulation and analysis.\n",
        "\n",
        "By the end this lab, learners will be able to Select any specified column or columns from Pandas Dataframe.\n",
        "\n",
        "**Introduction:**\n",
        "\n",
        "Pandas DataFrames provide flexible ways to select columns, including:\n",
        "\n",
        "1. **Column Attribute:** Use square brackets `[]` with the column name for single column selection or a list of column names for multiple columns.\n",
        "2. **Column Index Number:** Access columns using their index number within the DataFrame.\n",
        "\n",
        "**Lab Activities:**\n",
        "\n",
        "1. **Import Dataset:** Begin by importing the `cars.json` dataset into a Pandas DataFrame named `df_cars`.\n",
        "2. **Select Single Column:** Extract the 'Car' column to demonstrate single column selection.\n",
        "3. **Select Multiple Columns:** Select 'Car', 'Model', and 'quantity' columns to illustrate multiple column selection.\n",
        "4. **Select by Column Index:** Practice selecting columns using their index number.\n",
        "5. **Continue Learning:** This lab serves as an introduction. Further exploration of column selection techniques will be covered later in the module.\n",
        "\n"
      ]
    },
    {
      "cell_type": "markdown",
      "metadata": {
        "id": "tYY9QDTIDiMy"
      },
      "source": [
        "## **Introduction:**\n",
        "**Selecting columns by using column attribute**\n",
        "\n",
        "- To select a single column, use square brackets [ ] with the column name of the column of interest.\n",
        "\n",
        "- To select multiple columns, use a list of column names within the selection brackets [ ].\n",
        "\n",
        "**Syntax:**\n",
        "\n",
        "```\n",
        "# select column to Series\n",
        "s = df['colName']\n",
        "\n",
        "# select column to dataframe\n",
        "df = df[['colName']]\n",
        "\n",
        "# select two or more column\n",
        "df = df[['ColOne','colTwo']]  \n",
        "\n",
        "# select column by column index number\n",
        "s = df[df.columns[0]]  \n",
        "\n",
        "# select columns by column index numbers\n",
        "df = df.columns[[0, 3, 4]]\n",
        "```\n",
        "\n"
      ]
    },
    {
      "cell_type": "markdown",
      "metadata": {
        "id": "NUAA9D9tBi2V"
      },
      "source": [
        "\n",
        "\n",
        "---\n",
        "\n",
        "## **Dataset:**\n",
        "\n",
        "The lab utilizes the [`cars.json`](https://drive.google.com/file/d/1CXAK8gbuLtc2NNOXVUgmja8fDg0TrNZm/view) dataset, providing a practical context for applying column selection methods.\n",
        "\n",
        " Let import cars dataset in Panda dataframe."
      ]
    },
    {
      "cell_type": "code",
      "execution_count": 1,
      "metadata": {},
      "outputs": [],
      "source": [
        "import pandas as pd"
      ]
    },
    {
      "cell_type": "code",
      "execution_count": 6,
      "metadata": {
        "id": "VzdvBb-gAymO"
      },
      "outputs": [
        {
          "data": {
            "text/html": [
              "<div>\n",
              "<style scoped>\n",
              "    .dataframe tbody tr th:only-of-type {\n",
              "        vertical-align: middle;\n",
              "    }\n",
              "\n",
              "    .dataframe tbody tr th {\n",
              "        vertical-align: top;\n",
              "    }\n",
              "\n",
              "    .dataframe thead th {\n",
              "        text-align: right;\n",
              "    }\n",
              "</style>\n",
              "<table border=\"1\" class=\"dataframe\">\n",
              "  <thead>\n",
              "    <tr style=\"text-align: right;\">\n",
              "      <th></th>\n",
              "      <th>Car</th>\n",
              "      <th>MPG</th>\n",
              "      <th>Cylinders</th>\n",
              "      <th>Displacement</th>\n",
              "      <th>Horsepower</th>\n",
              "      <th>Weight</th>\n",
              "      <th>Acceleration</th>\n",
              "      <th>Model</th>\n",
              "      <th>Origin</th>\n",
              "      <th>quantity</th>\n",
              "      <th>city</th>\n",
              "    </tr>\n",
              "  </thead>\n",
              "  <tbody>\n",
              "    <tr>\n",
              "      <th>0</th>\n",
              "      <td>Chevrolet Vega</td>\n",
              "      <td>25.0</td>\n",
              "      <td>4</td>\n",
              "      <td>140.0</td>\n",
              "      <td>75</td>\n",
              "      <td>2542</td>\n",
              "      <td>17.0</td>\n",
              "      <td>74</td>\n",
              "      <td>US</td>\n",
              "      <td>177</td>\n",
              "      <td>NJ</td>\n",
              "    </tr>\n",
              "    <tr>\n",
              "      <th>1</th>\n",
              "      <td>Chevrolet Vega (sw)</td>\n",
              "      <td>22.0</td>\n",
              "      <td>4</td>\n",
              "      <td>140.0</td>\n",
              "      <td>72</td>\n",
              "      <td>2408</td>\n",
              "      <td>19.0</td>\n",
              "      <td>71</td>\n",
              "      <td>US</td>\n",
              "      <td>91</td>\n",
              "      <td>DALLAS</td>\n",
              "    </tr>\n",
              "    <tr>\n",
              "      <th>2</th>\n",
              "      <td>Chevrolet Vega 2300</td>\n",
              "      <td>28.0</td>\n",
              "      <td>4</td>\n",
              "      <td>140.0</td>\n",
              "      <td>90</td>\n",
              "      <td>2264</td>\n",
              "      <td>15.5</td>\n",
              "      <td>71</td>\n",
              "      <td>US</td>\n",
              "      <td>74</td>\n",
              "      <td>TEXAS</td>\n",
              "    </tr>\n",
              "    <tr>\n",
              "      <th>3</th>\n",
              "      <td>Chevrolet Woody</td>\n",
              "      <td>24.5</td>\n",
              "      <td>4</td>\n",
              "      <td>98.0</td>\n",
              "      <td>60</td>\n",
              "      <td>2164</td>\n",
              "      <td>22.1</td>\n",
              "      <td>76</td>\n",
              "      <td>US</td>\n",
              "      <td>241</td>\n",
              "      <td>OH</td>\n",
              "    </tr>\n",
              "    <tr>\n",
              "      <th>4</th>\n",
              "      <td>Chevrolete Chevelle Malibu</td>\n",
              "      <td>16.0</td>\n",
              "      <td>6</td>\n",
              "      <td>250.0</td>\n",
              "      <td>105</td>\n",
              "      <td>3897</td>\n",
              "      <td>18.5</td>\n",
              "      <td>75</td>\n",
              "      <td>US</td>\n",
              "      <td>206</td>\n",
              "      <td>NewYork</td>\n",
              "    </tr>\n",
              "    <tr>\n",
              "      <th>...</th>\n",
              "      <td>...</td>\n",
              "      <td>...</td>\n",
              "      <td>...</td>\n",
              "      <td>...</td>\n",
              "      <td>...</td>\n",
              "      <td>...</td>\n",
              "      <td>...</td>\n",
              "      <td>...</td>\n",
              "      <td>...</td>\n",
              "      <td>...</td>\n",
              "      <td>...</td>\n",
              "    </tr>\n",
              "    <tr>\n",
              "      <th>156</th>\n",
              "      <td>Mercury Capri v6</td>\n",
              "      <td>21.0</td>\n",
              "      <td>6</td>\n",
              "      <td>155.0</td>\n",
              "      <td>107</td>\n",
              "      <td>2472</td>\n",
              "      <td>14.0</td>\n",
              "      <td>73</td>\n",
              "      <td>US</td>\n",
              "      <td>158</td>\n",
              "      <td>NewYork</td>\n",
              "    </tr>\n",
              "    <tr>\n",
              "      <th>157</th>\n",
              "      <td>Mercury Cougar Brougham</td>\n",
              "      <td>15.0</td>\n",
              "      <td>8</td>\n",
              "      <td>302.0</td>\n",
              "      <td>130</td>\n",
              "      <td>4295</td>\n",
              "      <td>14.9</td>\n",
              "      <td>77</td>\n",
              "      <td>US</td>\n",
              "      <td>27</td>\n",
              "      <td>NJ</td>\n",
              "    </tr>\n",
              "    <tr>\n",
              "      <th>158</th>\n",
              "      <td>Mercury Grand Marquis</td>\n",
              "      <td>16.5</td>\n",
              "      <td>8</td>\n",
              "      <td>351.0</td>\n",
              "      <td>138</td>\n",
              "      <td>3955</td>\n",
              "      <td>13.2</td>\n",
              "      <td>79</td>\n",
              "      <td>US</td>\n",
              "      <td>332</td>\n",
              "      <td>DALLAS</td>\n",
              "    </tr>\n",
              "    <tr>\n",
              "      <th>159</th>\n",
              "      <td>Mercury Lynx l</td>\n",
              "      <td>36.0</td>\n",
              "      <td>4</td>\n",
              "      <td>98.0</td>\n",
              "      <td>70</td>\n",
              "      <td>2125</td>\n",
              "      <td>17.3</td>\n",
              "      <td>82</td>\n",
              "      <td>US</td>\n",
              "      <td>425</td>\n",
              "      <td>TEXAS</td>\n",
              "    </tr>\n",
              "    <tr>\n",
              "      <th>160</th>\n",
              "      <td>Mercury Marquis</td>\n",
              "      <td>11.0</td>\n",
              "      <td>8</td>\n",
              "      <td>429.0</td>\n",
              "      <td>208</td>\n",
              "      <td>4633</td>\n",
              "      <td>11.0</td>\n",
              "      <td>72</td>\n",
              "      <td>US</td>\n",
              "      <td>112</td>\n",
              "      <td>OH</td>\n",
              "    </tr>\n",
              "  </tbody>\n",
              "</table>\n",
              "<p>161 rows × 11 columns</p>\n",
              "</div>"
            ],
            "text/plain": [
              "                            Car   MPG  Cylinders  Displacement  Horsepower  \\\n",
              "0                Chevrolet Vega  25.0          4         140.0          75   \n",
              "1           Chevrolet Vega (sw)  22.0          4         140.0          72   \n",
              "2           Chevrolet Vega 2300  28.0          4         140.0          90   \n",
              "3               Chevrolet Woody  24.5          4          98.0          60   \n",
              "4    Chevrolete Chevelle Malibu  16.0          6         250.0         105   \n",
              "..                          ...   ...        ...           ...         ...   \n",
              "156            Mercury Capri v6  21.0          6         155.0         107   \n",
              "157     Mercury Cougar Brougham  15.0          8         302.0         130   \n",
              "158       Mercury Grand Marquis  16.5          8         351.0         138   \n",
              "159              Mercury Lynx l  36.0          4          98.0          70   \n",
              "160             Mercury Marquis  11.0          8         429.0         208   \n",
              "\n",
              "     Weight  Acceleration  Model Origin  quantity     city  \n",
              "0      2542          17.0     74     US       177       NJ  \n",
              "1      2408          19.0     71     US        91   DALLAS  \n",
              "2      2264          15.5     71     US        74    TEXAS  \n",
              "3      2164          22.1     76     US       241       OH  \n",
              "4      3897          18.5     75     US       206  NewYork  \n",
              "..      ...           ...    ...    ...       ...      ...  \n",
              "156    2472          14.0     73     US       158  NewYork  \n",
              "157    4295          14.9     77     US        27       NJ  \n",
              "158    3955          13.2     79     US       332   DALLAS  \n",
              "159    2125          17.3     82     US       425    TEXAS  \n",
              "160    4633          11.0     72     US       112       OH  \n",
              "\n",
              "[161 rows x 11 columns]"
            ]
          },
          "execution_count": 6,
          "metadata": {},
          "output_type": "execute_result"
        }
      ],
      "source": [
        "\n",
        "df_cars = pd.read_json('./Data/cars.json')\n",
        "df_cars\n"
      ]
    },
    {
      "cell_type": "markdown",
      "metadata": {
        "id": "Auw5GKXhBHMr"
      },
      "source": [
        "## **Example - Select One Column:**\n",
        "\n",
        "Suppose we are interested in the Name of the cars."
      ]
    },
    {
      "cell_type": "code",
      "execution_count": 7,
      "metadata": {
        "id": "qL9KpTQtB5aW"
      },
      "outputs": [
        {
          "data": {
            "text/plain": [
              "0                  Chevrolet Vega\n",
              "1             Chevrolet Vega (sw)\n",
              "2             Chevrolet Vega 2300\n",
              "3                 Chevrolet Woody\n",
              "4      Chevrolete Chevelle Malibu\n",
              "                  ...            \n",
              "156              Mercury Capri v6\n",
              "157       Mercury Cougar Brougham\n",
              "158         Mercury Grand Marquis\n",
              "159                Mercury Lynx l\n",
              "160               Mercury Marquis\n",
              "Name: Car, Length: 161, dtype: object"
            ]
          },
          "execution_count": 7,
          "metadata": {},
          "output_type": "execute_result"
        }
      ],
      "source": [
        "df_cars['Car']"
      ]
    },
    {
      "cell_type": "code",
      "execution_count": 9,
      "metadata": {
        "id": "x8wavh2OCGDJ"
      },
      "outputs": [
        {
          "data": {
            "text/plain": [
              "0                Chevrolet Vega\n",
              "1           Chevrolet Vega (sw)\n",
              "2           Chevrolet Vega 2300\n",
              "3               Chevrolet Woody\n",
              "4    Chevrolete Chevelle Malibu\n",
              "5                     Chevy C20\n",
              "6                    Chevy S-10\n",
              "7              Chrysler Cordoba\n",
              "8    Chrysler Lebaron Medallion\n",
              "9        Chrysler Lebaron Salon\n",
              "Name: Car, dtype: object"
            ]
          },
          "execution_count": 9,
          "metadata": {},
          "output_type": "execute_result"
        }
      ],
      "source": [
        "df_cars['Car'].head(10)"
      ]
    },
    {
      "cell_type": "markdown",
      "metadata": {
        "id": "sw9PnhAJCLoz"
      },
      "source": [
        "\n",
        "\n",
        "---\n",
        "\n"
      ]
    },
    {
      "cell_type": "markdown",
      "metadata": {
        "id": "JjiHHpRUCmNp"
      },
      "source": [
        "## **Example: Select multiple Columns**\n",
        "\n",
        "Suppose, we are interested in the cars name, Model of the cars, and quantity"
      ]
    },
    {
      "cell_type": "code",
      "execution_count": 17,
      "metadata": {
        "id": "1ATIHQE7C67e"
      },
      "outputs": [
        {
          "name": "stdout",
          "output_type": "stream",
          "text": [
            "                   Car  Model  quantity\n",
            "0       Chevrolet Vega     74       177\n",
            "1  Chevrolet Vega (sw)     71        91\n",
            "2  Chevrolet Vega 2300     71        74\n",
            "3      Chevrolet Woody     76       241\n",
            "\n",
            "   Horsepower  Weight\n",
            "0          75    2542\n",
            "1          72    2408\n",
            "2          90    2264\n",
            "3          60    2164\n"
          ]
        }
      ],
      "source": [
        "print(df_cars[['Car','Model', 'quantity']].head(4))\n",
        "print()\n",
        "print(df_cars[['Horsepower','Weight']].head(4))\n"
      ]
    },
    {
      "cell_type": "markdown",
      "metadata": {
        "id": "RUczRXUkECgN"
      },
      "source": [
        "## **Example: Select single column by column index number**"
      ]
    },
    {
      "cell_type": "code",
      "execution_count": 14,
      "metadata": {
        "id": "fbo0E9HuELT7"
      },
      "outputs": [
        {
          "name": "stdout",
          "output_type": "stream",
          "text": [
            "Column 1:\n",
            "0                Chevrolet Vega\n",
            "1           Chevrolet Vega (sw)\n",
            "2           Chevrolet Vega 2300\n",
            "3               Chevrolet Woody\n",
            "4    Chevrolete Chevelle Malibu\n",
            "Name: Car, dtype: object \n",
            "\n",
            "Column 3:\n",
            "0    4\n",
            "1    4\n",
            "2    4\n",
            "3    4\n",
            "4    6\n",
            "Name: Cylinders, dtype: int64 \n",
            "\n"
          ]
        }
      ],
      "source": [
        "print(\"Column 1:\")\n",
        "print(df_cars[df_cars.columns[0]].head(5), '\\n')\n",
        "\n",
        "print(\"Column 3:\")\n",
        "print(df_cars[df_cars.columns[2]].head(5), '\\n')\n"
      ]
    },
    {
      "cell_type": "markdown",
      "metadata": {
        "id": "wK2zxSAoEnU_"
      },
      "source": [
        "## **Example: Select Multiple columns by column index number**"
      ]
    },
    {
      "cell_type": "code",
      "execution_count": 23,
      "metadata": {
        "id": "3zmaN5DQEt5o"
      },
      "outputs": [
        {
          "name": "stdout",
          "output_type": "stream",
          "text": [
            "                   Car   MPG  quantity\n",
            "0       Chevrolet Vega  25.0       177\n",
            "1  Chevrolet Vega (sw)  22.0        91\n",
            "\n",
            "   Model  Displacement  Weight\n",
            "0     74         140.0    2542\n",
            "1     71         140.0    2408\n"
          ]
        }
      ],
      "source": [
        "print(df_cars[df_cars.columns[[0,1,9]]].head(2))\n",
        "print()\n",
        "print(df_cars[df_cars.columns[[7, 3, 5]]].head(2))"
      ]
    },
    {
      "cell_type": "markdown",
      "metadata": {
        "id": "ANrCmGNRecEc"
      },
      "source": [
        "\n",
        "\n",
        "---\n",
        "\n"
      ]
    },
    {
      "cell_type": "markdown",
      "metadata": {
        "id": "iR3LSuqAeS09"
      },
      "source": [
        "**To be continue: We will continue this lab, later in this Module.**"
      ]
    },
    {
      "cell_type": "markdown",
      "metadata": {
        "id": "1RwbtQBLdZJ6"
      },
      "source": [
        "## **Submission Instructions**\n",
        "- Submit your completed lab using the Start Assignment button on the assignment page in Canvas.\n",
        "- Your submission can be include:\n",
        "  - if you are using notebook then, all tasks should be written and submitted in a single notebook file, for example: (**your_name_labname.ipynb**).\n",
        "  - if you are using python script file, all tasks should be written and submitted in a single python script file for example: **(your_name_labname.py)**.\n",
        "- Add appropriate comments and any additional instructions if required.\n"
      ]
    }
  ],
  "metadata": {
    "colab": {
      "provenance": []
    },
    "kernelspec": {
      "display_name": "Python 3",
      "name": "python3"
    },
    "language_info": {
      "codemirror_mode": {
        "name": "ipython",
        "version": 3
      },
      "file_extension": ".py",
      "mimetype": "text/x-python",
      "name": "python",
      "nbconvert_exporter": "python",
      "pygments_lexer": "ipython3",
      "version": "3.12.0"
    }
  },
  "nbformat": 4,
  "nbformat_minor": 0
}
