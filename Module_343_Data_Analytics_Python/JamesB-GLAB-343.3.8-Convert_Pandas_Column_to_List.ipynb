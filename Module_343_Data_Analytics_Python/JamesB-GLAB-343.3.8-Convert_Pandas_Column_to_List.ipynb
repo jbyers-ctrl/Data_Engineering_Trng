{
  "cells": [
    {
      "cell_type": "markdown",
      "metadata": {
        "id": "nTdv8Z43a3iB"
      },
      "source": [
        "# **Guided Lab - 343.3.8 - How to Convert Pandas Column to List**"
      ]
    },
    {
      "cell_type": "markdown",
      "metadata": {
        "id": "SuAW1qvCbO5g"
      },
      "source": [
        "## **Learning Objective:**\n",
        "In this Lab, will learn and demonstrate how to convert a Pandas column from a DataFrame to a list using the **.tolist()** method on the specific column.\n",
        "\n",
        "Upon completing this lab, you should be able to:\n",
        "\n",
        "- Extract a specific column from a Pandas DataFrame.\n",
        "- Convert a Pandas Series (column) into a Python list using various methods.\n",
        "- Describe the relationship between Pandas Series, NumPy arrays, and Python lists.\n",
        "- Access columns using both column names and index positions.\n",
        "Extract the DataFrame's index as a list."
      ]
    },
    {
      "cell_type": "markdown",
      "metadata": {
        "id": "vBiSu81abEJV"
      },
      "source": [
        "You can get or convert the pandas DataFrame column to the list using Series.values.tolist(), since each column in DataFrame is represented as a Series internally, you can use this function after getting a column you wanted to convert as a Series. You can get a column as a Series by using **df.column_name** or  **df['column_name']**."
      ]
    },
    {
      "cell_type": "markdown",
      "metadata": {
        "id": "s6AhiHKIaocy"
      },
      "source": [
        "## **Dataset**\n",
        "\n",
        "In this lab, we will use [cars.json](https://drive.google.com/file/d/1CXAK8gbuLtc2NNOXVUgmja8fDg0TrNZm/view) dataset, Let import cars dataset in Panda dataframe.\n",
        "\n",
        "## **Instructions:**"
      ]
    },
    {
      "cell_type": "code",
      "execution_count": 1,
      "metadata": {},
      "outputs": [],
      "source": [
        "import pandas as pd"
      ]
    },
    {
      "cell_type": "code",
      "execution_count": 3,
      "metadata": {
        "colab": {
          "base_uri": "https://localhost:8080/",
          "height": 423
        },
        "id": "_raHtlWuapYr",
        "outputId": "61e7dbfe-9275-4ddb-e1b2-85f9b2a175d1"
      },
      "outputs": [
        {
          "data": {
            "text/html": [
              "<div>\n",
              "<style scoped>\n",
              "    .dataframe tbody tr th:only-of-type {\n",
              "        vertical-align: middle;\n",
              "    }\n",
              "\n",
              "    .dataframe tbody tr th {\n",
              "        vertical-align: top;\n",
              "    }\n",
              "\n",
              "    .dataframe thead th {\n",
              "        text-align: right;\n",
              "    }\n",
              "</style>\n",
              "<table border=\"1\" class=\"dataframe\">\n",
              "  <thead>\n",
              "    <tr style=\"text-align: right;\">\n",
              "      <th></th>\n",
              "      <th>Car</th>\n",
              "      <th>MPG</th>\n",
              "      <th>Cylinders</th>\n",
              "      <th>Displacement</th>\n",
              "      <th>Horsepower</th>\n",
              "      <th>Weight</th>\n",
              "      <th>Acceleration</th>\n",
              "      <th>Model</th>\n",
              "      <th>Origin</th>\n",
              "      <th>quantity</th>\n",
              "      <th>city</th>\n",
              "    </tr>\n",
              "  </thead>\n",
              "  <tbody>\n",
              "    <tr>\n",
              "      <th>0</th>\n",
              "      <td>Chevrolet Vega</td>\n",
              "      <td>25.0</td>\n",
              "      <td>4</td>\n",
              "      <td>140.0</td>\n",
              "      <td>75</td>\n",
              "      <td>2542</td>\n",
              "      <td>17.0</td>\n",
              "      <td>74</td>\n",
              "      <td>US</td>\n",
              "      <td>177</td>\n",
              "      <td>NJ</td>\n",
              "    </tr>\n",
              "    <tr>\n",
              "      <th>1</th>\n",
              "      <td>Chevrolet Vega (sw)</td>\n",
              "      <td>22.0</td>\n",
              "      <td>4</td>\n",
              "      <td>140.0</td>\n",
              "      <td>72</td>\n",
              "      <td>2408</td>\n",
              "      <td>19.0</td>\n",
              "      <td>71</td>\n",
              "      <td>US</td>\n",
              "      <td>91</td>\n",
              "      <td>DALLAS</td>\n",
              "    </tr>\n",
              "    <tr>\n",
              "      <th>2</th>\n",
              "      <td>Chevrolet Vega 2300</td>\n",
              "      <td>28.0</td>\n",
              "      <td>4</td>\n",
              "      <td>140.0</td>\n",
              "      <td>90</td>\n",
              "      <td>2264</td>\n",
              "      <td>15.5</td>\n",
              "      <td>71</td>\n",
              "      <td>US</td>\n",
              "      <td>74</td>\n",
              "      <td>TEXAS</td>\n",
              "    </tr>\n",
              "    <tr>\n",
              "      <th>3</th>\n",
              "      <td>Chevrolet Woody</td>\n",
              "      <td>24.5</td>\n",
              "      <td>4</td>\n",
              "      <td>98.0</td>\n",
              "      <td>60</td>\n",
              "      <td>2164</td>\n",
              "      <td>22.1</td>\n",
              "      <td>76</td>\n",
              "      <td>US</td>\n",
              "      <td>241</td>\n",
              "      <td>OH</td>\n",
              "    </tr>\n",
              "  </tbody>\n",
              "</table>\n",
              "</div>"
            ],
            "text/plain": [
              "                   Car   MPG  Cylinders  Displacement  Horsepower  Weight  \\\n",
              "0       Chevrolet Vega  25.0          4         140.0          75    2542   \n",
              "1  Chevrolet Vega (sw)  22.0          4         140.0          72    2408   \n",
              "2  Chevrolet Vega 2300  28.0          4         140.0          90    2264   \n",
              "3      Chevrolet Woody  24.5          4          98.0          60    2164   \n",
              "\n",
              "   Acceleration  Model Origin  quantity    city  \n",
              "0          17.0     74     US       177      NJ  \n",
              "1          19.0     71     US        91  DALLAS  \n",
              "2          15.5     71     US        74   TEXAS  \n",
              "3          22.1     76     US       241      OH  "
            ]
          },
          "execution_count": 3,
          "metadata": {},
          "output_type": "execute_result"
        }
      ],
      "source": [
        "# do not forget to change the path of the file\n",
        "df_cars = pd.read_json('./Data/cars.json')\n",
        "df_cars.head(4)"
      ]
    },
    {
      "cell_type": "markdown",
      "metadata": {
        "id": "fjfXp9l6bv0S"
      },
      "source": [
        "### **Examples 1: Converting Pandas column to list using Series.values.tolist()**"
      ]
    },
    {
      "cell_type": "code",
      "execution_count": null,
      "metadata": {
        "colab": {
          "base_uri": "https://localhost:8080/"
        },
        "id": "iynEf9JCa2uZ",
        "outputId": "b49b69cf-d4a0-4eb2-fbd1-2585ff4387ee"
      },
      "outputs": [
        {
          "name": "stdout",
          "output_type": "stream",
          "text": [
            "['Chevrolet Vega', 'Chevrolet Vega (sw)', 'Chevrolet Vega 2300', 'Chevrolet Woody', 'Chevrolete Chevelle Malibu', 'Chevy C20', 'Chevy S-10', 'Chrysler Cordoba', 'Chrysler Lebaron Medallion', 'Chrysler Lebaron Salon', 'Chrysler Lebaron Town @ Country (sw)', 'Chrysler New Yorker Brougham', 'Chrysler Newport Royal', 'Citroen DS-21 Pallas', 'Datsun 1200', 'Datsun 200SX', 'Datsun 200-SX', 'Datsun 210', 'Datsun 210', 'Datsun 210 MPG', 'Datsun 280-ZX', 'Datsun 310', 'Datsun 310 GX', 'Datsun 510', 'Datsun 510 (sw)', 'Datsun 510 Hatchback', 'Datsun 610', 'Datsun 710', 'Datsun 710', 'Datsun 810', 'Datsun 810 Maxima', 'Datsun B210', 'Datsun B-210', 'Datsun B210 GX', 'Datsun F-10 Hatchback', 'Datsun PL510', 'Datsun PL510', 'Dodge Aries SE', 'Dodge Aries Wagon (sw)', 'Dodge Aspen', 'Dodge Aspen', 'Dodge Aspen 6', 'Dodge Aspen SE', 'Dodge Challenger SE', 'Dodge Charger 2.2', 'Dodge Colt', 'Dodge Colt', 'Dodge Colt', 'Dodge Colt (sw)', 'Dodge Colt Hardtop', 'Dodge Colt Hatchback Custom', 'Dodge Colt m/m', 'Dodge Coronet Brougham', 'Dodge Coronet Custom', 'Dodge Coronet Custom (sw)', 'Dodge D100', 'Dodge D200', 'Dodge Dart Custom', 'Dodge Diplomat', 'Dodge Magnum XE', 'Dodge Monaco (sw)', 'Dodge Monaco Brougham', 'Dodge Omni', 'Dodge Rampage', 'Dodge St. Regis', 'Fiat 124 Sport Coupe', 'Fiat 124 TC', 'Fiat 124B', 'Fiat 128', 'Fiat 128', 'Fiat 131', 'Fiat Strada Custom', 'Fiat x1.9', 'Ford Country', 'Ford Country Squire (sw)', 'Ford Country Squire (sw)', 'Ford Escort 2H', 'Ford Escort 4W', 'Ford F108', 'Ford F250', 'Ford Fairmont', 'Ford Fairmont (auto)', 'Ford Fairmont (man)', 'Ford Fairmont 4', 'Ford Fairmont Futura', 'Ford Fiesta', 'Ford Futura', 'Ford Galaxie 500', 'Ford Galaxie 500', 'Ford Galaxie 500', 'Ford Gran Torino', 'Ford Gran Torino', 'Ford Gran Torino', 'Ford Gran Torino (sw)', 'Ford Gran Torino (sw)', 'Ford Grenada', 'Ford Grenada ghia', 'Ford Grenada gl', 'Ford Grenada l', 'Ford LTD', 'Ford LTD', 'Ford LTD Landau', 'Ford Maverick', 'Ford Maverick', 'Ford Maverick', 'Ford Maverick', 'Ford Maverick', 'Ford Mustang', 'Ford Mustang Boss 302', 'Ford Mustang Cobra', 'Ford Mustang GL', 'Ford Mustang II', 'Ford Mustang II 2+2', 'Ford Pinto', 'Ford Pinto', 'Ford Pinto', 'Ford Pinto', 'Ford Pinto', 'Ford Pinto', 'Ford Pinto (sw)', 'Ford Pinto Runabout', 'Ford Ranger', 'Ford Thunderbird', 'Ford Torino', 'Ford Torino (sw)', 'Ford Torino 500', 'Hi 1200D', 'Honda Accord', 'Honda Accord', 'Honda Accord CVCC', 'Honda Accord LX', 'Honda Civic', 'Honda Civic', 'Honda Civic', 'Honda Civic (auto)', 'Honda Civic 1300', 'Honda Civic 1500 gl', 'Honda Civic CVCC', 'Honda Civic CVCC', 'Honda Prelude', 'Mazda 626', 'Mazda 626', 'Mazda GLC', 'Mazda GLC 4', 'Mazda GLC Custom', 'Mazda GLC Custom l', 'Mazda GLC Deluxe', 'Mazda GLC Deluxe', 'Mazda RX2 Coupe', 'Mazda RX3', 'Mazda RX-4', 'Mazda RX-7 GS', 'Mercedes Benz 300d', 'Mercedes-Benz 240d', 'Mercedes-Benz 280s', 'Mercury Capri 2000', 'Mercury Capri v6', 'Mercury Cougar Brougham', 'Mercury Grand Marquis', 'Mercury Lynx l', 'Mercury Marquis']\n",
            "[74, 71, 71, 76, 75, 70, 82, 77, 82, 81, 79, 73, 72, 70, 71, 81, 78, 79, 80, 81, 80, 80, 82, 78, 72, 80, 73, 74, 75, 77, 81, 74, 76, 78, 77, 70, 71, 82, 81, 78, 80, 79, 76, 70, 82, 74, 76, 80, 72, 72, 79, 77, 76, 73, 74, 76, 70, 73, 78, 78, 71, 77, 78, 82, 79, 73, 74, 71, 73, 74, 76, 79, 74, 73, 71, 79, 81, 81, 76, 70, 80, 78, 78, 79, 82, 78, 78, 70, 71, 72, 73, 74, 76, 72, 74, 77, 76, 81, 82, 73, 75, 79, 70, 73, 74, 75, 76, 71, 70, 80, 82, 75, 77, 71, 73, 74, 75, 75, 76, 72, 72, 82, 77, 70, 70, 71, 70, 80, 82, 77, 78, 74, 76, 82, 82, 81, 80, 75, 78, 81, 80, 81, 80, 81, 82, 82, 78, 79, 72, 73, 77, 80, 79, 80, 76, 71, 73, 77, 79, 82, 72]\n"
          ]
        }
      ],
      "source": [
        "# Example 1: Using Series.values.tolist()\n",
        "# in the below example, we are getting the column 'Car' of the dataframe\n",
        "col_car_list = df_cars.Car.values.tolist()\n",
        "print(col_car_list)\n",
        "\n",
        "# getting the column 'Model' of the dataframe\n",
        "col_model_list = df_cars.Model.values.tolist()\n",
        "print(col_model_list)\n"
      ]
    },
    {
      "cell_type": "markdown",
      "metadata": {
        "id": "fWFB4NFLe_zl"
      },
      "source": [
        "**Alternatively, you can also write the statement using.**"
      ]
    },
    {
      "cell_type": "code",
      "execution_count": null,
      "metadata": {
        "id": "M8DaiGUifC6P"
      },
      "outputs": [],
      "source": [
        "# in the below example, we are getting the index of the dataframe\n",
        "df_cars[\"Car\"].values.tolist()"
      ]
    },
    {
      "cell_type": "markdown",
      "metadata": {
        "id": "FFULLNTsd-gF"
      },
      "source": [
        "Below is an explanation of each section of the statement.\n",
        "\n",
        "- df_cars['Courses'] returns a Series object of a specified column.\n",
        "\n",
        "- df_cars['Courses'].values returns an array with column values and this has a helper function .tolist() to convert to a list."
      ]
    },
    {
      "cell_type": "markdown",
      "metadata": {
        "id": "8Ktfv3L-flJh"
      },
      "source": [
        "# **Example 2: Converting Pandas column to list using list() Function**\n",
        "\n",
        "list() function will return the list with the values of the specified column of DataFrame."
      ]
    },
    {
      "cell_type": "code",
      "execution_count": 8,
      "metadata": {
        "id": "TMunsTJubbvW"
      },
      "outputs": [
        {
          "name": "stdout",
          "output_type": "stream",
          "text": [
            "['Chevrolet Vega', 'Chevrolet Vega (sw)']\n",
            "[74, 71]\n"
          ]
        }
      ],
      "source": [
        "print(list(df_cars[\"Car\"].head(2)))\n",
        "print(list(df_cars[\"Model\"].head(2)))"
      ]
    },
    {
      "cell_type": "markdown",
      "metadata": {
        "id": "2vMBachZfy6-"
      },
      "source": [
        "# **Example 3: Convert Pandas column to Numpy array**\n",
        "\n",
        "Sometimes you may be required to convert the Pandas column to Numpy Array you can do so by using the **to_numpy()** function."
      ]
    },
    {
      "cell_type": "code",
      "execution_count": 10,
      "metadata": {
        "id": "Q8AZM5nPfzpD"
      },
      "outputs": [
        {
          "name": "stdout",
          "output_type": "stream",
          "text": [
            "['Chevrolet Vega' 'Chevrolet Vega (sw)' 'Chevrolet Vega 2300'\n",
            " 'Chevrolet Woody']\n",
            "Get the array from specified column:\n",
            "\n",
            "<class 'numpy.ndarray'>\n"
          ]
        }
      ],
      "source": [
        "\n",
        "col_list = df_cars['Car'].head(4).to_numpy()\n",
        "print(col_list)\n",
        "print(\"Get the array from specified column:\\n\")\n",
        "print(type(col_list))\n",
        "\n"
      ]
    },
    {
      "cell_type": "markdown",
      "metadata": {
        "id": "a03TQ-PIgnWl"
      },
      "source": [
        "# **Example 4: Converting Pandas column to list using by Column Index**\n",
        "\n",
        "If you have a column index and want to get the column values of an index, first you have to get the column name by index and then use the approaches explained above to convert it to a list.\n",
        "\n",
        "From the below example **`df.columns[0]`** returns the column name for an index 0, which is Car.\n"
      ]
    },
    {
      "cell_type": "code",
      "execution_count": 13,
      "metadata": {
        "id": "1pFhoxvkhYrh"
      },
      "outputs": [
        {
          "name": "stdout",
          "output_type": "stream",
          "text": [
            "['Chevrolet Vega', 'Chevrolet Vega (sw)', 'Chevrolet Vega 2300', 'Chevrolet Woody']\n",
            "<class 'list'>\n"
          ]
        }
      ],
      "source": [
        "# in the below example, we are getting the column names of the dataframe\n",
        "col_list = df_cars[df_cars.columns[0]].head(4).values.tolist()\n",
        "print(col_list)\n",
        "print(type(col_list))\n",
        "\n"
      ]
    },
    {
      "cell_type": "markdown",
      "metadata": {
        "id": "q6eSDdcxhaJ_"
      },
      "source": [
        "# **Example 5: Convert Index Column to List**\n"
      ]
    },
    {
      "cell_type": "code",
      "execution_count": 16,
      "metadata": {
        "id": "Aem7erJIh8BG"
      },
      "outputs": [
        {
          "name": "stdout",
          "output_type": "stream",
          "text": [
            "[0, 1, 2, 3, 4]\n",
            "5\n"
          ]
        }
      ],
      "source": [
        "# in the below example, we are getting the index of the dataframe\n",
        "index_list = df_cars.head().index.tolist()\n",
        "print(index_list)\n",
        "print(len(index_list))"
      ]
    }
  ],
  "metadata": {
    "colab": {
      "provenance": []
    },
    "kernelspec": {
      "display_name": "Python 3",
      "name": "python3"
    },
    "language_info": {
      "codemirror_mode": {
        "name": "ipython",
        "version": 3
      },
      "file_extension": ".py",
      "mimetype": "text/x-python",
      "name": "python",
      "nbconvert_exporter": "python",
      "pygments_lexer": "ipython3",
      "version": "3.12.0"
    }
  },
  "nbformat": 4,
  "nbformat_minor": 0
}
