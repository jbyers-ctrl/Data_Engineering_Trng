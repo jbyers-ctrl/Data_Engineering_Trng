{
  "cells": [
    {
      "cell_type": "markdown",
      "metadata": {
        "id": "Rw5I9thFUZpb"
      },
      "source": [
        "# **Guided Lab - 343.2.1 - NumPy Random module - Random Number Generation**"
      ]
    },
    {
      "cell_type": "markdown",
      "metadata": {
        "id": "TewQFMyUyIt8"
      },
      "source": [
        "## **Lab Overview:**\n",
        "\n",
        "In this lab, we will explore the functionality of several important random number generation functions provided by the NumPy library in Python. These functions include `np.random.choice()` for generating random samples from `arrays`, `np.random.shuffle() for shuffling the contents of arrays, and `np.random.randn()` for generating random numbers from a standard normal distribution. Through hands-on exercises, participants will gain a understanding of how to use these functions effectively in various scenarios.\n",
        "\n",
        "## **Lab Objective:**\n",
        "\n",
        "By the end of this lab, participants will:\n",
        "\n",
        "- Describe the purpose and the usage of key random number generation functions provided by NumPy, including np.random.choice(), np.random.shuffle(), and np.random.randn().\n",
        "- Demonstrate how to generate random samples from arrays, shuffle array contents, and generate random numbers from a standard normal distribution.\n"
      ]
    },
    {
      "cell_type": "markdown",
      "metadata": {
        "id": "fwUdnJ2hiSOX"
      },
      "source": [
        "## **Introduction**\n",
        "The syntax of `np.random.randn()` typically involves passing the desired dimensions of the array as arguments. For example:\n",
        "\n",
        "```np.random.randn() - generates a single random number```\n",
        "\n",
        "```np.random.randn(n) - generates an array of n random numbers.```\n",
        "\n",
        "``` np.random.randn(m, n) - generates a 2D array with m rows and n columns of random numbers.```\n",
        "\n",
        "Note: These random numbers are will be drawn from a standard normal distribution, where the mean is 0 and the standard deviation is 1.\n",
        "\n",
        "\n",
        "\n",
        "\n"
      ]
    },
    {
      "cell_type": "markdown",
      "metadata": {
        "id": "Mv04aa8HjcRq"
      },
      "source": [
        "## **Example 1: Generates a single random number.**\n",
        "\n",
        "in this example we will generate a single random number by using the random() function. The random() function returns a random number within the range of 0 to 1.0."
      ]
    },
    {
      "cell_type": "code",
      "execution_count": 12,
      "metadata": {
        "colab": {
          "base_uri": "https://localhost:8080/"
        },
        "id": "cp5kJc3ZiOY6",
        "outputId": "9f0099fa-4601-493c-933a-e144da43882c"
      },
      "outputs": [
        {
          "name": "stdout",
          "output_type": "stream",
          "text": [
            "Random number sampled from a standard normal distribution: [0.10108953 0.24906625 0.79648364 0.58939269 0.99779708 0.57535609\n",
            " 0.58763224 0.29679178 0.42867092 0.92937507]\n",
            "\n",
            "Random number sampled from a standard normal distribution:\n",
            " [1 2 0 0 3 1 2] 42\n",
            "Random number sampled from a standard normal distribution:\n",
            " [[1 1 2 1]\n",
            " [0 4 0 0]\n",
            " [4 1 0 2]]\n"
          ]
        }
      ],
      "source": [
        "import numpy as np\n",
        "from numpy import random\n",
        "\n",
        "# 10 random floats between 0 and 1\n",
        "data = random.rand(10) \n",
        "print(\"Random number sampled from a standard normal distribution:\",data)\n",
        "print()\n",
        "\n",
        "# 7 random integers between 0 and 5, returns one integer without arguments, size specifies the shape of an array\n",
        "data2 = random.randint(5, size=(7)) \n",
        "print(\"Random number sampled from a standard normal distribution:\\n\",data2, 42)\n",
        "\n",
        "data3 = random.randint(5, size=(3, 4)) \n",
        "print(\"Random number sampled from a standard normal distribution:\\n\",data3)"
      ]
    },
    {
      "cell_type": "markdown",
      "metadata": {
        "id": "_KaEiK-dvG2b"
      },
      "source": [
        "## **Example 2: Generates an array of n random numbers.**\n",
        "In this example, we generate an array of n random numbers by using the `np.random.randn(n)` function. The function returns an array of n random numbers with mean 0 and standard deviation 1.\n"
      ]
    },
    {
      "cell_type": "code",
      "execution_count": 13,
      "metadata": {
        "colab": {
          "base_uri": "https://localhost:8080/"
        },
        "id": "FRjXR1dJvXk8",
        "outputId": "b0c10a52-a243-46d2-d35c-e78af2acae05"
      },
      "outputs": [
        {
          "name": "stdout",
          "output_type": "stream",
          "text": [
            "Array of 5 random numbers sampled from a standard normal distribution:\n",
            "[ 1.74597212 -0.04976857 -0.81894081 -0.71959882  0.36540445]\n"
          ]
        }
      ],
      "source": [
        "n = 5\n",
        "random_numbers = random.randn(n)\n",
        "print(\"Array of\", n, \"random numbers sampled from a standard normal distribution:\")\n",
        "print(random_numbers)\n"
      ]
    },
    {
      "cell_type": "markdown",
      "metadata": {
        "id": "-Q1BaIuhwdfl"
      },
      "source": [
        "## **Example 3: Generates a 2D array with m rows and n columns of random numbers.**\n",
        "\n",
        "In this example, we will generate a 2D array with 3 rows and 4 columns of random numbers. The result will be a 3x4 2D array with random numbers ranging from 0 to 99.    "
      ]
    },
    {
      "cell_type": "code",
      "execution_count": 16,
      "metadata": {
        "colab": {
          "base_uri": "https://localhost:8080/"
        },
        "id": "6EYj92yPwsUf",
        "outputId": "304beef0-3b08-4a9a-e47c-ea7f5688ac32"
      },
      "outputs": [
        {
          "name": "stdout",
          "output_type": "stream",
          "text": [
            "2D array of random numbers sampled from a standard normal distribution ( 3 rows x 2 columns):\n",
            "[[-0.76477598  0.19917108]\n",
            " [-0.99037421  0.98610926]\n",
            " [ 0.25248891  0.12892551]]\n",
            "2D array of random numbers sampled from a standard normal distribution ( 4 rows x 2 columns):\n",
            " [[0.29538017 0.86670919]\n",
            " [0.21590136 0.02381745]\n",
            " [0.58687493 1.24131465]\n",
            " [0.06618132 0.78091248]]\n"
          ]
        }
      ],
      "source": [
        "m = 3\n",
        "n = 2\n",
        "random_numbers_2d = random.randn(m, n)\n",
        "print(\"2D array of random numbers sampled from a standard normal distribution (\", m, \"rows x\", n, \"columns):\")\n",
        "print(random_numbers_2d)\n",
        "\n",
        "m1 = 4\n",
        "n1 = 2\n",
        "random_numbers2_2d = random.randn(m1, n1)\n",
        "print(\"2D array of random numbers sampled from a standard normal distribution (\", m1, \"rows x\", n1, \"columns):\\n\", random_numbers2_2d)"
      ]
    },
    {
      "cell_type": "markdown",
      "metadata": {
        "id": "Kk3xLSIaxLjL"
      },
      "source": [
        "## **Example 4: Generates a random sample from a given 1-D array.**\n",
        "In this example, we will generate a random sample from a given 1-D array. We will use the numpy.random.choice() function to do this."
      ]
    },
    {
      "cell_type": "code",
      "execution_count": null,
      "metadata": {
        "colab": {
          "base_uri": "https://localhost:8080/"
        },
        "id": "qNCwp62_w_ts",
        "outputId": "c302f329-7c68-4abf-9bd7-d6ef82d4a001"
      },
      "outputs": [
        {
          "name": "stdout",
          "output_type": "stream",
          "text": [
            "Randomly sampled element: c\n",
            "Randomly sampled element: ['b' 'b' 'b' 'b' 'd' 'd' 'd' 'd' 'd' 'd']\n"
          ]
        }
      ],
      "source": [
        "from numpy import random\n",
        "\n",
        "# Define an array of elements\n",
        "elements = ['a', 'b', 'c', 'd', 'e']\n",
        "\n",
        "# Generate a random sample from the array\n",
        "random_sample = random.choice(elements)\n",
        "print(\"Randomly sampled element:\", random_sample)\n",
        "\n",
        "# The probability is set by a number between 0 and 1, where 0 means that the value will never occur and 1 means that the value will always occur.\n",
        "# The probability of 'b' and 'd' are .5 and .4, use size to specify the array shape\n",
        "random_sample_2 = random.choice(elements, p=[0.0, 0.5, 0.0, 0.4, 0.1], size=(10))\n",
        "print(\"Randomly sampled element:\", random_sample_2)\n"
      ]
    },
    {
      "cell_type": "markdown",
      "metadata": {
        "id": "bibIYG-zxtSF"
      },
      "source": [
        "## **Example 5: Shuffles the contents of an array in place.**\n",
        "In this example, we will shuffle the contents of an array. We will use the np.random.shuffle() function."
      ]
    },
    {
      "cell_type": "code",
      "execution_count": null,
      "metadata": {
        "colab": {
          "base_uri": "https://localhost:8080/"
        },
        "id": "aU_a1TEax83D",
        "outputId": "031dfb88-7521-405a-e87e-bafcafe35031"
      },
      "outputs": [
        {
          "name": "stdout",
          "output_type": "stream",
          "text": [
            "Shuffled array: ['e', 'c', 'a', 'd', 'b']\n"
          ]
        }
      ],
      "source": [
        "# Define an array of elements\n",
        "elements = ['a', 'b', 'c', 'd', 'e']\n",
        "\n",
        "# Shuffle the array in place\n",
        "random.shuffle(elements)\n",
        "print(\"Shuffled array:\", elements)\n"
      ]
    },
    {
      "cell_type": "markdown",
      "metadata": {
        "id": "MTSW009ez0o0"
      },
      "source": [
        "## **Example 6: Real world example -Restauran**t Menu Randomizer\n",
        "\n",
        "Suppose you're designing a digital menu for a restaurant, and you want to create a feature that suggests a random dish to the user when they're undecided about what to order. You can use the random module to implement this feature."
      ]
    },
    {
      "cell_type": "code",
      "execution_count": null,
      "metadata": {
        "colab": {
          "base_uri": "https://localhost:8080/"
        },
        "id": "eN0iFFTIza1l",
        "outputId": "fb12af63-f05e-4549-a57e-25b3e2530ff9"
      },
      "outputs": [
        {
          "name": "stdout",
          "output_type": "stream",
          "text": [
            "Welcome to the Restaurant Menu Randomizer!\n",
            "\n",
            "If you're undecided about what to order, let us help you decide.\n",
            "\n"
          ]
        },
        {
          "name": "stdout",
          "output_type": "stream",
          "text": [
            "Randomly suggested dish: Sushi Platter \n",
            "\n",
            "Randomly suggested dish: Pad Thai \n",
            "\n",
            "Randomly suggested dish: Grilled Salmon \n",
            "\n",
            "Randomly suggested dish: Margherita Pizza \n",
            "\n",
            "\n",
            "Thank you for using the Restaurant Menu Randomizer. Enjoy your meal!\n"
          ]
        }
      ],
      "source": [
        "# Define a list of dishes on the menu\n",
        "menu = [\n",
        "    \"Spaghetti Carbonara\",\n",
        "    \"Chicken Alfredo\",\n",
        "    \"Margherita Pizza\",\n",
        "    \"Cheeseburger\",\n",
        "    \"Caesar Salad\",\n",
        "    \"Fish and Chips\",\n",
        "    \"Pad Thai\",\n",
        "    \"Sushi Platter\",\n",
        "    \"Vegetable Stir-Fry\",\n",
        "    \"Grilled Salmon\"\n",
        "]\n",
        "\n",
        "# Function to suggest a random dish\n",
        "def suggest_dish():\n",
        "    random_dish = random.choice(menu)\n",
        "    return random_dish\n",
        "\n",
        "# Main program\n",
        "print(\"Welcome to the Restaurant Menu Randomizer!\\n\")\n",
        "print(\"If you're undecided about what to order, let us help you decide.\\n\")\n",
        "\n",
        "while True:\n",
        "    user_input = input(\"Press enter to get a random dish suggestion (or type 'quit' to exit): \\n\")\n",
        "\n",
        "    if user_input.lower() == 'quit':\n",
        "        print(\"Thank you for using the Restaurant Menu Randomizer. Enjoy your meal!\")\n",
        "        break\n",
        "\n",
        "    suggested_dish = suggest_dish()\n",
        "    print(\"Randomly suggested dish:\", suggested_dish, \"\\n\")\n"
      ]
    }
  ],
  "metadata": {
    "colab": {
      "provenance": []
    },
    "kernelspec": {
      "display_name": "default",
      "language": "python",
      "name": "python3"
    },
    "language_info": {
      "codemirror_mode": {
        "name": "ipython",
        "version": 3
      },
      "file_extension": ".py",
      "mimetype": "text/x-python",
      "name": "python",
      "nbconvert_exporter": "python",
      "pygments_lexer": "ipython3",
      "version": "3.10.12"
    }
  },
  "nbformat": 4,
  "nbformat_minor": 0
}
