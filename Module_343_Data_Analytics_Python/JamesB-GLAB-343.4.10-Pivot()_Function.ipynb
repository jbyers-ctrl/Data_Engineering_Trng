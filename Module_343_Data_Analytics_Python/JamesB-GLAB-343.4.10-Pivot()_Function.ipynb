{
  "cells": [
    {
      "cell_type": "markdown",
      "metadata": {
        "id": "9hkm8QI289X3"
      },
      "source": [
        "# **Guided Lab - How to use Pivot() function**"
      ]
    },
    {
      "cell_type": "markdown",
      "metadata": {
        "id": "1s4B2CpdAfIQ"
      },
      "source": [
        "## **Lab Overview**\n",
        "\n",
        "This lab will guide you through the process of using the `pivot()` function in Pandas to reshape and analyze data efficiently. We will apply the `pivot()` function to real-world scenarios, such as financial portfolio analysis.\n",
        "\n",
        "\n",
        "\n",
        "## **Learning Objective:**\n",
        "\n",
        "By completing this learning object, learners wil be able to:\n",
        "* Describe the syntax and functionality of the `pivot()` function in Pandas.\n",
        "* Learn how to use the `pivot()` function to reshape data for analysis.\n",
        "* Apply the `pivot()` function to real-world scenarios, such as financial portfolio analysis.\n"
      ]
    },
    {
      "cell_type": "markdown",
      "metadata": {
        "id": "mk6hBrzX2Fwx"
      },
      "source": [
        "## **Example One:**\n",
        "Consider the following DataFrame:"
      ]
    },
    {
      "cell_type": "code",
      "execution_count": 1,
      "metadata": {},
      "outputs": [],
      "source": [
        "import pandas as pd\n",
        "import numpy as np\n",
        "import datetime"
      ]
    },
    {
      "cell_type": "code",
      "execution_count": 2,
      "metadata": {
        "colab": {
          "base_uri": "https://localhost:8080/"
        },
        "id": "AA8mzcyD1hBU",
        "outputId": "a86a13dc-f6bc-4b4f-da7a-71fb3c1c6579"
      },
      "outputs": [
        {
          "data": {
            "text/html": [
              "<div>\n",
              "<style scoped>\n",
              "    .dataframe tbody tr th:only-of-type {\n",
              "        vertical-align: middle;\n",
              "    }\n",
              "\n",
              "    .dataframe tbody tr th {\n",
              "        vertical-align: top;\n",
              "    }\n",
              "\n",
              "    .dataframe thead th {\n",
              "        text-align: right;\n",
              "    }\n",
              "</style>\n",
              "<table border=\"1\" class=\"dataframe\">\n",
              "  <thead>\n",
              "    <tr style=\"text-align: right;\">\n",
              "      <th></th>\n",
              "      <th>Date</th>\n",
              "      <th>Category</th>\n",
              "      <th>Value</th>\n",
              "    </tr>\n",
              "  </thead>\n",
              "  <tbody>\n",
              "    <tr>\n",
              "      <th>0</th>\n",
              "      <td>2022-01-01</td>\n",
              "      <td>A</td>\n",
              "      <td>10</td>\n",
              "    </tr>\n",
              "    <tr>\n",
              "      <th>1</th>\n",
              "      <td>2022-01-01</td>\n",
              "      <td>B</td>\n",
              "      <td>20</td>\n",
              "    </tr>\n",
              "    <tr>\n",
              "      <th>2</th>\n",
              "      <td>2022-01-02</td>\n",
              "      <td>A</td>\n",
              "      <td>15</td>\n",
              "    </tr>\n",
              "    <tr>\n",
              "      <th>3</th>\n",
              "      <td>2022-01-02</td>\n",
              "      <td>B</td>\n",
              "      <td>25</td>\n",
              "    </tr>\n",
              "  </tbody>\n",
              "</table>\n",
              "</div>"
            ],
            "text/plain": [
              "         Date Category  Value\n",
              "0  2022-01-01        A     10\n",
              "1  2022-01-01        B     20\n",
              "2  2022-01-02        A     15\n",
              "3  2022-01-02        B     25"
            ]
          },
          "execution_count": 2,
          "metadata": {},
          "output_type": "execute_result"
        }
      ],
      "source": [
        "data = {\n",
        "    'Date': ['2022-01-01', '2022-01-01', '2022-01-02', '2022-01-02'],\n",
        "    'Category': ['A', 'B', 'A', 'B'],\n",
        "    'Value': [10, 20, 15, 25]\n",
        "}\n",
        "\n",
        "df = pd.DataFrame(data)\n",
        "df\n"
      ]
    },
    {
      "cell_type": "markdown",
      "metadata": {
        "id": "orMtHUcR2NEI"
      },
      "source": [
        "Now, let's use the pivot method:"
      ]
    },
    {
      "cell_type": "code",
      "execution_count": 4,
      "metadata": {
        "colab": {
          "base_uri": "https://localhost:8080/"
        },
        "id": "Iv7AISAo2OuX",
        "outputId": "6209a1d6-9ee0-4638-f1cb-a822abad1cac"
      },
      "outputs": [
        {
          "data": {
            "text/html": [
              "<div>\n",
              "<style scoped>\n",
              "    .dataframe tbody tr th:only-of-type {\n",
              "        vertical-align: middle;\n",
              "    }\n",
              "\n",
              "    .dataframe tbody tr th {\n",
              "        vertical-align: top;\n",
              "    }\n",
              "\n",
              "    .dataframe thead th {\n",
              "        text-align: right;\n",
              "    }\n",
              "</style>\n",
              "<table border=\"1\" class=\"dataframe\">\n",
              "  <thead>\n",
              "    <tr style=\"text-align: right;\">\n",
              "      <th>Category</th>\n",
              "      <th>A</th>\n",
              "      <th>B</th>\n",
              "    </tr>\n",
              "    <tr>\n",
              "      <th>Date</th>\n",
              "      <th></th>\n",
              "      <th></th>\n",
              "    </tr>\n",
              "  </thead>\n",
              "  <tbody>\n",
              "    <tr>\n",
              "      <th>2022-01-01</th>\n",
              "      <td>10</td>\n",
              "      <td>20</td>\n",
              "    </tr>\n",
              "    <tr>\n",
              "      <th>2022-01-02</th>\n",
              "      <td>15</td>\n",
              "      <td>25</td>\n",
              "    </tr>\n",
              "  </tbody>\n",
              "</table>\n",
              "</div>"
            ],
            "text/plain": [
              "Category     A   B\n",
              "Date              \n",
              "2022-01-01  10  20\n",
              "2022-01-02  15  25"
            ]
          },
          "execution_count": 4,
          "metadata": {},
          "output_type": "execute_result"
        }
      ],
      "source": [
        "pivot_df = df.pivot(index='Date', columns='Category', values='Value')\n",
        "pivot_df\n"
      ]
    },
    {
      "cell_type": "markdown",
      "metadata": {
        "id": "NyziWpIZ2RfP"
      },
      "source": [
        "In the above example, the pivot() function transformed the original DataFrame into a new DataFrame where the unique values in the 'Date' column became the index, the unique values in the 'Category' column became the columns, and the 'Value' column provided the values for the new DataFrame."
      ]
    },
    {
      "cell_type": "markdown",
      "metadata": {
        "id": "BYCu_QEm2Y1n"
      },
      "source": [
        "**Note:**\n",
        "If there are multiple rows for a unique combination of index and columns, you may need to use the pivot_table method, which allows you to specify an aggregation function to handle duplicate values.\n",
        "\n",
        "The pivot() function is a specialized form of the more general pivot_table method. pivot_table provides additional flexibility and functionality for handling duplicate values and aggregations."
      ]
    },
    {
      "cell_type": "markdown",
      "metadata": {
        "id": "1-p8Awlp2jXg"
      },
      "source": [
        "## **Example Two:**\n",
        "Consider the following DataFrame:"
      ]
    },
    {
      "cell_type": "code",
      "execution_count": 5,
      "metadata": {
        "id": "367iaSqk2jfn"
      },
      "outputs": [
        {
          "data": {
            "text/html": [
              "<div>\n",
              "<style scoped>\n",
              "    .dataframe tbody tr th:only-of-type {\n",
              "        vertical-align: middle;\n",
              "    }\n",
              "\n",
              "    .dataframe tbody tr th {\n",
              "        vertical-align: top;\n",
              "    }\n",
              "\n",
              "    .dataframe thead th {\n",
              "        text-align: right;\n",
              "    }\n",
              "</style>\n",
              "<table border=\"1\" class=\"dataframe\">\n",
              "  <thead>\n",
              "    <tr style=\"text-align: right;\">\n",
              "      <th></th>\n",
              "      <th>Name</th>\n",
              "      <th>Fruit</th>\n",
              "      <th>Quantity</th>\n",
              "    </tr>\n",
              "  </thead>\n",
              "  <tbody>\n",
              "    <tr>\n",
              "      <th>0</th>\n",
              "      <td>Alice</td>\n",
              "      <td>Apple</td>\n",
              "      <td>3</td>\n",
              "    </tr>\n",
              "    <tr>\n",
              "      <th>1</th>\n",
              "      <td>Bob</td>\n",
              "      <td>Banana</td>\n",
              "      <td>2</td>\n",
              "    </tr>\n",
              "    <tr>\n",
              "      <th>2</th>\n",
              "      <td>Alice</td>\n",
              "      <td>Orange</td>\n",
              "      <td>1</td>\n",
              "    </tr>\n",
              "    <tr>\n",
              "      <th>3</th>\n",
              "      <td>Charlie</td>\n",
              "      <td>Apple</td>\n",
              "      <td>4</td>\n",
              "    </tr>\n",
              "  </tbody>\n",
              "</table>\n",
              "</div>"
            ],
            "text/plain": [
              "      Name   Fruit  Quantity\n",
              "0    Alice   Apple         3\n",
              "1      Bob  Banana         2\n",
              "2    Alice  Orange         1\n",
              "3  Charlie   Apple         4"
            ]
          },
          "execution_count": 5,
          "metadata": {},
          "output_type": "execute_result"
        }
      ],
      "source": [
        "data = {'Name': ['Alice', 'Bob', 'Alice', 'Charlie'],\n",
        "        'Fruit': ['Apple', 'Banana', 'Orange', 'Apple'],\n",
        "        'Quantity': [3, 2, 1, 4]}\n",
        "\n",
        "df_2 = pd.DataFrame(data)\n",
        "df_2"
      ]
    },
    {
      "cell_type": "code",
      "execution_count": 6,
      "metadata": {
        "id": "D77Nikr-2pcf"
      },
      "outputs": [
        {
          "name": "stdout",
          "output_type": "stream",
          "text": [
            "Fruit    Apple  Banana  Orange\n",
            "Name                          \n",
            "Alice      3.0     NaN     1.0\n",
            "Bob        NaN     2.0     NaN\n",
            "Charlie    4.0     NaN     NaN\n"
          ]
        }
      ],
      "source": [
        "pivoted_df_2 = df_2.pivot(index='Name', columns='Fruit', values='Quantity')\n",
        "print(pivoted_df_2)"
      ]
    },
    {
      "cell_type": "markdown",
      "metadata": {
        "id": "Jp9JZhza_IT_"
      },
      "source": [
        "## **Example Three:**\n",
        "\n",
        "Consider the following DataFrame:"
      ]
    },
    {
      "cell_type": "code",
      "execution_count": 8,
      "metadata": {
        "id": "vXVYKv2t9Rz-"
      },
      "outputs": [
        {
          "name": "stdout",
          "output_type": "stream",
          "text": [
            "Original DataFrame:\n"
          ]
        },
        {
          "data": {
            "text/html": [
              "<div>\n",
              "<style scoped>\n",
              "    .dataframe tbody tr th:only-of-type {\n",
              "        vertical-align: middle;\n",
              "    }\n",
              "\n",
              "    .dataframe tbody tr th {\n",
              "        vertical-align: top;\n",
              "    }\n",
              "\n",
              "    .dataframe thead th {\n",
              "        text-align: right;\n",
              "    }\n",
              "</style>\n",
              "<table border=\"1\" class=\"dataframe\">\n",
              "  <thead>\n",
              "    <tr style=\"text-align: right;\">\n",
              "      <th></th>\n",
              "      <th>course</th>\n",
              "      <th>batch</th>\n",
              "      <th>instructor</th>\n",
              "      <th>grade</th>\n",
              "    </tr>\n",
              "  </thead>\n",
              "  <tbody>\n",
              "    <tr>\n",
              "      <th>0</th>\n",
              "      <td>CS2e1</td>\n",
              "      <td>1</td>\n",
              "      <td>xaviel</td>\n",
              "      <td>88.7</td>\n",
              "    </tr>\n",
              "    <tr>\n",
              "      <th>1</th>\n",
              "      <td>C5201</td>\n",
              "      <td>2</td>\n",
              "      <td>young</td>\n",
              "      <td>92.0</td>\n",
              "    </tr>\n",
              "    <tr>\n",
              "      <th>2</th>\n",
              "      <td>CS201</td>\n",
              "      <td>3</td>\n",
              "      <td>zachary</td>\n",
              "      <td>95.2</td>\n",
              "    </tr>\n",
              "    <tr>\n",
              "      <th>3</th>\n",
              "      <td>DE659</td>\n",
              "      <td>1</td>\n",
              "      <td>carla</td>\n",
              "      <td>78.3</td>\n",
              "    </tr>\n",
              "    <tr>\n",
              "      <th>4</th>\n",
              "      <td>DE659</td>\n",
              "      <td>2</td>\n",
              "      <td>wendy</td>\n",
              "      <td>96.0</td>\n",
              "    </tr>\n",
              "    <tr>\n",
              "      <th>5</th>\n",
              "      <td>DE659</td>\n",
              "      <td>3</td>\n",
              "      <td>allen</td>\n",
              "      <td>92.5</td>\n",
              "    </tr>\n",
              "  </tbody>\n",
              "</table>\n",
              "</div>"
            ],
            "text/plain": [
              "  course  batch instructor  grade\n",
              "0  CS2e1      1     xaviel   88.7\n",
              "1  C5201      2      young   92.0\n",
              "2  CS201      3    zachary   95.2\n",
              "3  DE659      1      carla   78.3\n",
              "4  DE659      2      wendy   96.0\n",
              "5  DE659      3      allen   92.5"
            ]
          },
          "execution_count": 8,
          "metadata": {},
          "output_type": "execute_result"
        }
      ],
      "source": [
        "df_3 = pd.DataFrame({ 'course': ['CS2e1', 'C5201', 'CS201','DE659', 'DE659', 'DE659'],\n",
        "                   'batch': [1, 2, 3, 1, 2, 3],\n",
        "                    'instructor': ['xaviel', 'young', 'zachary','carla','wendy', 'allen'],\n",
        "                    'grade': [88.7, 92, 95.2, 78.3, 96, 92.5]\n",
        "                    }\n",
        "                  )\n",
        "# Display the original DataFrame\n",
        "print(\"Original DataFrame:\")\n",
        "df_3"
      ]
    },
    {
      "cell_type": "markdown",
      "metadata": {
        "id": "et1__7sg-TEn"
      },
      "source": [
        "**3.1 - The following line, pivots the DataFrame to show grades for each course within each batch.**\n",
        "\n"
      ]
    },
    {
      "cell_type": "code",
      "execution_count": 9,
      "metadata": {
        "id": "gLq8NOHz9tBR"
      },
      "outputs": [
        {
          "data": {
            "text/html": [
              "<div>\n",
              "<style scoped>\n",
              "    .dataframe tbody tr th:only-of-type {\n",
              "        vertical-align: middle;\n",
              "    }\n",
              "\n",
              "    .dataframe tbody tr th {\n",
              "        vertical-align: top;\n",
              "    }\n",
              "\n",
              "    .dataframe thead th {\n",
              "        text-align: right;\n",
              "    }\n",
              "</style>\n",
              "<table border=\"1\" class=\"dataframe\">\n",
              "  <thead>\n",
              "    <tr style=\"text-align: right;\">\n",
              "      <th>course</th>\n",
              "      <th>C5201</th>\n",
              "      <th>CS201</th>\n",
              "      <th>CS2e1</th>\n",
              "      <th>DE659</th>\n",
              "    </tr>\n",
              "    <tr>\n",
              "      <th>batch</th>\n",
              "      <th></th>\n",
              "      <th></th>\n",
              "      <th></th>\n",
              "      <th></th>\n",
              "    </tr>\n",
              "  </thead>\n",
              "  <tbody>\n",
              "    <tr>\n",
              "      <th>1</th>\n",
              "      <td>NaN</td>\n",
              "      <td>NaN</td>\n",
              "      <td>88.7</td>\n",
              "      <td>78.3</td>\n",
              "    </tr>\n",
              "    <tr>\n",
              "      <th>2</th>\n",
              "      <td>92.0</td>\n",
              "      <td>NaN</td>\n",
              "      <td>NaN</td>\n",
              "      <td>96.0</td>\n",
              "    </tr>\n",
              "    <tr>\n",
              "      <th>3</th>\n",
              "      <td>NaN</td>\n",
              "      <td>95.2</td>\n",
              "      <td>NaN</td>\n",
              "      <td>92.5</td>\n",
              "    </tr>\n",
              "  </tbody>\n",
              "</table>\n",
              "</div>"
            ],
            "text/plain": [
              "course  C5201  CS201  CS2e1  DE659\n",
              "batch                             \n",
              "1         NaN    NaN   88.7   78.3\n",
              "2        92.0    NaN    NaN   96.0\n",
              "3         NaN   95.2    NaN   92.5"
            ]
          },
          "execution_count": 9,
          "metadata": {},
          "output_type": "execute_result"
        }
      ],
      "source": [
        "#  Pivot for Grades by Course and Batch:\n",
        "df_3.pivot(index='batch', columns='course', values='grade')"
      ]
    },
    {
      "cell_type": "markdown",
      "metadata": {
        "id": "ncljUTmx-2z2"
      },
      "source": [
        "The above line uses the pivot() method to reshape the DataFrame based on the 'batch', 'course', and 'grade' columns. The resulting DataFrame will have 'batch' as the index, 'course' as columns, and 'grade' as values."
      ]
    },
    {
      "cell_type": "markdown",
      "metadata": {
        "id": "zle1URDB-sKJ"
      },
      "source": [
        "**3.2 - The following line,  pivots to show instructors for each course within each batch.**"
      ]
    },
    {
      "cell_type": "code",
      "execution_count": 10,
      "metadata": {
        "id": "0MBNw63593TG"
      },
      "outputs": [
        {
          "data": {
            "text/html": [
              "<div>\n",
              "<style scoped>\n",
              "    .dataframe tbody tr th:only-of-type {\n",
              "        vertical-align: middle;\n",
              "    }\n",
              "\n",
              "    .dataframe tbody tr th {\n",
              "        vertical-align: top;\n",
              "    }\n",
              "\n",
              "    .dataframe thead th {\n",
              "        text-align: right;\n",
              "    }\n",
              "</style>\n",
              "<table border=\"1\" class=\"dataframe\">\n",
              "  <thead>\n",
              "    <tr style=\"text-align: right;\">\n",
              "      <th>batch</th>\n",
              "      <th>1</th>\n",
              "      <th>2</th>\n",
              "      <th>3</th>\n",
              "    </tr>\n",
              "    <tr>\n",
              "      <th>course</th>\n",
              "      <th></th>\n",
              "      <th></th>\n",
              "      <th></th>\n",
              "    </tr>\n",
              "  </thead>\n",
              "  <tbody>\n",
              "    <tr>\n",
              "      <th>C5201</th>\n",
              "      <td>NaN</td>\n",
              "      <td>young</td>\n",
              "      <td>NaN</td>\n",
              "    </tr>\n",
              "    <tr>\n",
              "      <th>CS201</th>\n",
              "      <td>NaN</td>\n",
              "      <td>NaN</td>\n",
              "      <td>zachary</td>\n",
              "    </tr>\n",
              "    <tr>\n",
              "      <th>CS2e1</th>\n",
              "      <td>xaviel</td>\n",
              "      <td>NaN</td>\n",
              "      <td>NaN</td>\n",
              "    </tr>\n",
              "    <tr>\n",
              "      <th>DE659</th>\n",
              "      <td>carla</td>\n",
              "      <td>wendy</td>\n",
              "      <td>allen</td>\n",
              "    </tr>\n",
              "  </tbody>\n",
              "</table>\n",
              "</div>"
            ],
            "text/plain": [
              "batch        1      2        3\n",
              "course                        \n",
              "C5201      NaN  young      NaN\n",
              "CS201      NaN    NaN  zachary\n",
              "CS2e1   xaviel    NaN      NaN\n",
              "DE659    carla  wendy    allen"
            ]
          },
          "execution_count": 10,
          "metadata": {},
          "output_type": "execute_result"
        }
      ],
      "source": [
        "#Pivot for Instructors by Course and Batch:\n",
        "df_3.pivot(index= 'course', columns='batch', values='instructor')"
      ]
    },
    {
      "cell_type": "markdown",
      "metadata": {
        "id": "IzhijXc5_W7u"
      },
      "source": [
        "The above line uses the pivot() method to reshape the DataFrame based on the 'course', 'batch', and 'instructor' columns. The resulting DataFrame will have 'course' as the index, 'batch' as columns, and 'instructor' as values."
      ]
    },
    {
      "cell_type": "markdown",
      "metadata": {
        "id": "LUJFnN-v_i02"
      },
      "source": [
        "**3.3 - The following lione, pivots without specifying values, so it uses all non-index/column values (here, instructor and grade).**"
      ]
    },
    {
      "cell_type": "code",
      "execution_count": 11,
      "metadata": {
        "id": "j0mIuRXe-BzO"
      },
      "outputs": [
        {
          "data": {
            "text/html": [
              "<div>\n",
              "<style scoped>\n",
              "    .dataframe tbody tr th:only-of-type {\n",
              "        vertical-align: middle;\n",
              "    }\n",
              "\n",
              "    .dataframe tbody tr th {\n",
              "        vertical-align: top;\n",
              "    }\n",
              "\n",
              "    .dataframe thead tr th {\n",
              "        text-align: left;\n",
              "    }\n",
              "\n",
              "    .dataframe thead tr:last-of-type th {\n",
              "        text-align: right;\n",
              "    }\n",
              "</style>\n",
              "<table border=\"1\" class=\"dataframe\">\n",
              "  <thead>\n",
              "    <tr>\n",
              "      <th></th>\n",
              "      <th colspan=\"3\" halign=\"left\">instructor</th>\n",
              "      <th colspan=\"3\" halign=\"left\">grade</th>\n",
              "    </tr>\n",
              "    <tr>\n",
              "      <th>batch</th>\n",
              "      <th>1</th>\n",
              "      <th>2</th>\n",
              "      <th>3</th>\n",
              "      <th>1</th>\n",
              "      <th>2</th>\n",
              "      <th>3</th>\n",
              "    </tr>\n",
              "    <tr>\n",
              "      <th>course</th>\n",
              "      <th></th>\n",
              "      <th></th>\n",
              "      <th></th>\n",
              "      <th></th>\n",
              "      <th></th>\n",
              "      <th></th>\n",
              "    </tr>\n",
              "  </thead>\n",
              "  <tbody>\n",
              "    <tr>\n",
              "      <th>C5201</th>\n",
              "      <td>NaN</td>\n",
              "      <td>young</td>\n",
              "      <td>NaN</td>\n",
              "      <td>NaN</td>\n",
              "      <td>92.0</td>\n",
              "      <td>NaN</td>\n",
              "    </tr>\n",
              "    <tr>\n",
              "      <th>CS201</th>\n",
              "      <td>NaN</td>\n",
              "      <td>NaN</td>\n",
              "      <td>zachary</td>\n",
              "      <td>NaN</td>\n",
              "      <td>NaN</td>\n",
              "      <td>95.2</td>\n",
              "    </tr>\n",
              "    <tr>\n",
              "      <th>CS2e1</th>\n",
              "      <td>xaviel</td>\n",
              "      <td>NaN</td>\n",
              "      <td>NaN</td>\n",
              "      <td>88.7</td>\n",
              "      <td>NaN</td>\n",
              "      <td>NaN</td>\n",
              "    </tr>\n",
              "    <tr>\n",
              "      <th>DE659</th>\n",
              "      <td>carla</td>\n",
              "      <td>wendy</td>\n",
              "      <td>allen</td>\n",
              "      <td>78.3</td>\n",
              "      <td>96.0</td>\n",
              "      <td>92.5</td>\n",
              "    </tr>\n",
              "  </tbody>\n",
              "</table>\n",
              "</div>"
            ],
            "text/plain": [
              "       instructor                 grade            \n",
              "batch           1      2        3     1     2     3\n",
              "course                                             \n",
              "C5201         NaN  young      NaN   NaN  92.0   NaN\n",
              "CS201         NaN    NaN  zachary   NaN   NaN  95.2\n",
              "CS2e1      xaviel    NaN      NaN  88.7   NaN   NaN\n",
              "DE659       carla  wendy    allen  78.3  96.0  92.5"
            ]
          },
          "execution_count": 11,
          "metadata": {},
          "output_type": "execute_result"
        }
      ],
      "source": [
        "df_3.pivot(index= 'course', columns='batch')"
      ]
    },
    {
      "cell_type": "markdown",
      "metadata": {
        "id": "s7zvpV29_q5l"
      },
      "source": [
        "The above line uses the pivot() method to reshape the DataFrame based on the 'course', 'batch', and 'instructor' columns. The resulting DataFrame will have 'course' as the index, 'batch' as columns, and 'instructor' as values.\n",
        "\n",
        "Output:"
      ]
    },
    {
      "cell_type": "markdown",
      "metadata": {
        "id": "EuhiGJrq_vtN"
      },
      "source": [
        "\n",
        "\n",
        "---\n",
        "\n"
      ]
    },
    {
      "cell_type": "markdown",
      "metadata": {
        "id": "rLi9BJez4UKf"
      },
      "source": [
        "## **Example Four: Real-world scenarios - Financial Portfolio Analysis:**\n",
        "In this example, we will consider a DataFrame representing the daily returns of different stocks in a portfolio over a period of time. We'll then use the pivot method to reshape the data for better analysis."
      ]
    },
    {
      "cell_type": "code",
      "execution_count": 15,
      "metadata": {
        "id": "8a0UEXiP4LHB"
      },
      "outputs": [
        {
          "name": "stdout",
          "output_type": "stream",
          "text": [
            "Original DataFrame:\n",
            "        Date  Stock    Return\n",
            "0 2022-01-01   AAPL  0.005967\n",
            "1 2022-01-01  GOOGL -0.000383\n",
            "2 2022-01-01   MSFT  0.007477\n",
            "3 2022-01-02   AAPL  0.016230\n",
            "4 2022-01-02  GOOGL -0.001342\n",
            "\n",
            "Reshaped DataFrame:\n",
            "Stock           AAPL     GOOGL      MSFT\n",
            "Date                                    \n",
            "2022-01-01  0.005967 -0.000383  0.007477\n",
            "2022-01-02  0.016230 -0.001342 -0.001341\n",
            "2022-01-03  0.016792  0.008674 -0.003695\n",
            "2022-01-04  0.006426 -0.003634 -0.003657\n",
            "2022-01-05  0.003420 -0.018133 -0.016249\n"
          ]
        }
      ],
      "source": [
        "# Create a DataFrame with daily returns for different stocks\n",
        "np.random.seed(42)\n",
        "start_date = datetime.date(2022, 1, 1)\n",
        "end_date = datetime.date(2022, 1, 10)\n",
        "date_range = pd.date_range(start_date, end_date, freq='D')\n",
        "# Create a DataFrame with daily returns for different stocks\n",
        "data = {\n",
        "    'Date': np.repeat(date_range, 3),\n",
        "    'Stock': ['AAPL', 'GOOGL', 'MSFT'] * len(date_range),\n",
        "    'Return': np.random.normal(loc=0.001, scale=0.01, size=len(date_range) * 3)\n",
        "}\n",
        "\n",
        "returns_df = pd.DataFrame(data)\n",
        "\n",
        "# Display the original DataFrame\n",
        "print(\"Original DataFrame:\")\n",
        "print(returns_df.head())\n",
        "\n",
        "# Use pivot to reshape the DataFrame for better analysis\n",
        "pivot_df_3 = returns_df.pivot(index='Date', columns='Stock', values='Return')\n",
        "\n",
        "# Display the reshaped DataFrame\n",
        "print(\"\\nReshaped DataFrame:\")\n",
        "print(pivot_df_3.head())\n"
      ]
    },
    {
      "cell_type": "markdown",
      "metadata": {
        "id": "l7YpVrwn8Grn"
      },
      "source": [
        "- In the above example, we generate random daily returns for three stocks (AAPL, GOOGL, MSFT) over a period of 10 days. The original DataFrame has a long format with columns for 'Date', 'Stock', and 'Return'.\n",
        "\n",
        "- The pivot method is then used to reshape the DataFrame, making it more suitable for financial portfolio analysis. The resulting DataFrame (pivot_df) has dates as the index, stock symbols as columns, and daily returns as values.\n",
        "\n",
        "- This reshaped DataFrame makes it easier to perform various portfolio analyses, such as calculating cumulative returns, correlation matrices, and statistical summaries for each stock in the portfolio.\n",
        "\n",
        "- Keep in mind that this is a simplified example, and in a real-world scenario, you might have more detailed data and perform more sophisticated analyses based on your specific requirements."
      ]
    }
  ],
  "metadata": {
    "colab": {
      "provenance": []
    },
    "kernelspec": {
      "display_name": "Python 3",
      "name": "python3"
    },
    "language_info": {
      "codemirror_mode": {
        "name": "ipython",
        "version": 3
      },
      "file_extension": ".py",
      "mimetype": "text/x-python",
      "name": "python",
      "nbconvert_exporter": "python",
      "pygments_lexer": "ipython3",
      "version": "3.12.0"
    }
  },
  "nbformat": 4,
  "nbformat_minor": 0
}
