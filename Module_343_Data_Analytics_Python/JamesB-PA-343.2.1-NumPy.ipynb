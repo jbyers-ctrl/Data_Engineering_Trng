{
 "cells": [
  {
   "cell_type": "markdown",
   "id": "121203ad",
   "metadata": {},
   "source": [
    "## Task 1: Data Type Objects\n",
    "1. Create a NumPy array using np.array() function and specify the data type as 'int32.' Print the array and its data type.\n",
    "1. Create another NumPy array using np.array() with the data type as 'float64.' Print the array and its data type."
   ]
  },
  {
   "cell_type": "code",
   "execution_count": 2,
   "id": "3206000c",
   "metadata": {},
   "outputs": [],
   "source": [
    "import numpy as np"
   ]
  },
  {
   "cell_type": "code",
   "execution_count": 3,
   "id": "c9f511ba",
   "metadata": {},
   "outputs": [
    {
     "name": "stdout",
     "output_type": "stream",
     "text": [
      "[1 2 3 4 5 6 7]\n",
      "int32\n"
     ]
    }
   ],
   "source": [
    "arr = np.array([1, 2, 3, 4, 5, 6, 7], dtype='int32')\n",
    "print(arr)\n",
    "print(arr.dtype)"
   ]
  },
  {
   "cell_type": "markdown",
   "id": "72455061",
   "metadata": {},
   "source": [
    "## Task 2: One-Dimensional and Multi-Dimensional Arrays\n",
    "1. Create a one-dimensional NumPy array containing the integers from 1 to 5. Print the array.\n",
    "1. Create a two-dimensional NumPy array (matrix) with the following values:"
   ]
  },
  {
   "cell_type": "code",
   "execution_count": 4,
   "id": "e9fd2a2b",
   "metadata": {},
   "outputs": [
    {
     "name": "stdout",
     "output_type": "stream",
     "text": [
      "[1 2 3 4 5]\n",
      "[[ 6  7  8  9]\n",
      " [10 11 12 13]]\n"
     ]
    }
   ],
   "source": [
    "arr_1d = np.array([1, 2, 3, 4, 5])\n",
    "print(arr_1d)\n",
    "\n",
    "arr_2d = np.array([[6, 7, 8, 9], [10, 11, 12, 13]])\n",
    "print(arr_2d)"
   ]
  },
  {
   "cell_type": "markdown",
   "id": "0f0755b8",
   "metadata": {},
   "source": [
    "## Task 3: NumPy Operations\n",
    "1. Create two NumPy arrays arr1 and arr2 with any values of your choice. Perform element-wise addition, subtraction, multiplication, and division between these arrays and print the results.\n",
    "1. Calculate the dot product between arr1 and arr2. Print the result.\n",
    "1. Use NumPy to calculate the mean, median, and standard deviation of arr1."
   ]
  },
  {
   "cell_type": "code",
   "execution_count": 7,
   "id": "aef8f612",
   "metadata": {},
   "outputs": [
    {
     "name": "stdout",
     "output_type": "stream",
     "text": [
      "Addition: \n",
      " [ 4  6  8 10] \n",
      "Subtraction:\n",
      " [1 3 5 7] \n",
      "Multiplication:\n",
      " [20 40 60 80] \n",
      "Division:\n",
      " [1. 2. 3. 4.]\n",
      "\n",
      "Dot product:\n",
      " 280\n",
      "\n",
      "Mean:\n",
      " 5.0 \n",
      "Median:\n",
      " 5.0 \n",
      "Standard Deviation:\n",
      " 2.23606797749979\n",
      "\n",
      "Addition: \n",
      " [12 14 16 18] \n",
      "Subtraction:\n",
      " [ 9 11 13 15] \n",
      "Multiplication:\n",
      " [100 120 140 160] \n",
      "Division:\n",
      " [5. 6. 7. 8.]\n",
      "\n",
      "Dot product:\n",
      " 280\n",
      "\n",
      "Mean:\n",
      " 13.0 \n",
      "Median:\n",
      " 13.0 \n",
      "Standard Deviation:\n",
      " 2.23606797749979\n"
     ]
    }
   ],
   "source": [
    "arr1 = np.array([2, 4, 6, 8])\n",
    "arr2 = np.array([10, 12, 14, 16])\n",
    "\n",
    "add_arr1 = arr1 + 2\n",
    "sub_arr1 = arr1 - 1\n",
    "mult_arr1 = arr1 * 10\n",
    "div_arr1 = arr1 / 2\n",
    "dot_arr1 = np.dot(arr1, arr2)\n",
    "mean_arr1 = np.mean(arr1)\n",
    "median_arr1 = np.median(arr1)\n",
    "std_arr1 = np.std(arr1)\n",
    "\n",
    "print(\"Addition: \\n\", add_arr1, \"\\nSubtraction:\\n\", sub_arr1, \"\\nMultiplication:\\n\", mult_arr1, \"\\nDivision:\\n\", div_arr1)\n",
    "print(\"\\nDot product:\\n\", dot_arr1)\n",
    "print(\"\\nMean:\\n\", mean_arr1, \"\\nMedian:\\n\", median_arr1, \"\\nStandard Deviation:\\n\", std_arr1)\n",
    "\n",
    "add_arr2 = arr2 + 2\n",
    "sub_arr2 = arr2 - 1\n",
    "mult_arr2 = arr2 * 10\n",
    "div_arr2 = arr2 / 2\n",
    "dot_arr2 = np.dot(arr1, arr2)\n",
    "mean_arr2 = np.mean(arr2)\n",
    "median_arr2 = np.median(arr2)\n",
    "std_arr2 = np.std(arr2)\n",
    "\n",
    "print(\"\\nAddition: \\n\", add_arr2, \"\\nSubtraction:\\n\", sub_arr2, \"\\nMultiplication:\\n\", mult_arr2, \"\\nDivision:\\n\", div_arr2)\n",
    "print(\"\\nDot product:\\n\", dot_arr2)\n",
    "print(\"\\nMean:\\n\", mean_arr2, \"\\nMedian:\\n\", median_arr2, \"\\nStandard Deviation:\\n\", std_arr2)"
   ]
  }
 ],
 "metadata": {
  "kernelspec": {
   "display_name": "default",
   "language": "python",
   "name": "python3"
  },
  "language_info": {
   "codemirror_mode": {
    "name": "ipython",
    "version": 3
   },
   "file_extension": ".py",
   "mimetype": "text/x-python",
   "name": "python",
   "nbconvert_exporter": "python",
   "pygments_lexer": "ipython3",
   "version": "3.10.12"
  }
 },
 "nbformat": 4,
 "nbformat_minor": 5
}
