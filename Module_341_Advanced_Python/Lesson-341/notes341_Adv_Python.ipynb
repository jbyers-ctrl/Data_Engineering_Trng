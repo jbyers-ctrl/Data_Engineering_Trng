{
 "cells": [
  {
   "cell_type": "markdown",
   "metadata": {},
   "source": [
    "## Generator"
   ]
  },
  {
   "cell_type": "code",
   "execution_count": null,
   "metadata": {},
   "outputs": [],
   "source": [
    "def powers_of_two():\n",
    "    n = 1\n",
    "    while True:\n",
    "        n *= 2\n",
    "        yield n\n",
    "\n",
    "\n",
    "powers = powers_of_two()\n",
    "for _ in range(20):\n",
    "    print(next(powers))"
   ]
  },
  {
   "cell_type": "code",
   "execution_count": 2,
   "metadata": {},
   "outputs": [
    {
     "name": "stdout",
     "output_type": "stream",
     "text": [
      "2\n",
      "4\n",
      "6\n"
     ]
    }
   ],
   "source": [
    "def even_n(max_n = 1):\n",
    "    n = 1\n",
    "    while n <= max_n:\n",
    "        yield n * 2\n",
    "        n += 1\n",
    "\n",
    "\n",
    "i = even_n(3)\n",
    "print(next(i))\n",
    "print(next(i))\n",
    "print(next(i))"
   ]
  }
 ],
 "metadata": {
  "kernelspec": {
   "display_name": "Python 3",
   "language": "python",
   "name": "python3"
  },
  "language_info": {
   "codemirror_mode": {
    "name": "ipython",
    "version": 3
   },
   "file_extension": ".py",
   "mimetype": "text/x-python",
   "name": "python",
   "nbconvert_exporter": "python",
   "pygments_lexer": "ipython3",
   "version": "3.12.0"
  }
 },
 "nbformat": 4,
 "nbformat_minor": 2
}
