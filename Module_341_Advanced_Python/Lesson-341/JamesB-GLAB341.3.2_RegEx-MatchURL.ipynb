{
 "cells": [
  {
   "cell_type": "markdown",
   "metadata": {},
   "source": [
    "## Guided Lab 341.4.2 - Regular Expression - Match URL pattern in Python\n",
    "Learning Objectives:\n",
    "By the end of this lab, you will be able to:\n",
    "\n",
    "Describe the basics of regular expressions.\n",
    "Use regex to validate URL patterns, ensuring they conform to expected formats.\n",
    "Extract URLs from text using regex, identifying web addresses within larger content.\n",
    "Extract domain names from URLs using regex, isolating the core website address.\n",
    "Lab Objective:\n",
    "This lab demonstrate you how to validate and match URL using Regex in python. By the end of this lab, learners will be able to utilize the Regex to valida and match URL patterns in python.\n",
    "\n",
    "Lab Structure:\n",
    "The lab is divided into three main examples:\n",
    "\n",
    "- Validate the URL: This example focuses on using regex to check if a given URL is valid. It introduces the validate_url function, which employs a complex regex pattern to ensure URLs adhere to standard structures.\n",
    "- Match the URL from the string: This example demonstrates how to extract URLs from a given text string. It utilizes the extract_urls function and a regex pattern designed to identify URLs within text.\n",
    "- Match the URL from the string and print URL: This example expands on the previous one by not only extracting URLs but also extracting the domain names from those URLs. It uses the extract_urls_and_domains function and two regex patterns for URL and domain extraction.\n",
    "### Key Concepts:\n",
    "- Regular Expressions: A sequence of characters that define a search pattern, used for pattern matching within text.\n",
    "- URL Validation: The process of checking if a URL is syntactically correct and conforms to expected standards.\n",
    "- URL Extraction: The process of identifying and extracting URLs from larger text content.\n",
    "- Domain Extraction: The process of isolating the domain name (e.g., google.com) from a URL."
   ]
  },
  {
   "cell_type": "markdown",
   "metadata": {},
   "source": [
    "## Example 1: Validate the URL\n",
    "To match a url pattern, you can use the following regular expression:\n",
    "\n",
    "The given code defines a Python function validate_url(url) that checks if a given URL is valid. It uses a regular expression to validate URLs, and the regular expression pattern is quite complex. The function returns True if the URL is valid and False otherwise."
   ]
  },
  {
   "cell_type": "code",
   "execution_count": 1,
   "metadata": {},
   "outputs": [
    {
     "name": "stdout",
     "output_type": "stream",
     "text": [
      "True\n",
      "False\n"
     ]
    }
   ],
   "source": [
    "import re\n",
    "\n",
    "def validate_url(url):\n",
    "    pattern = re.compile(r'^https?://(?:(?:[A-Z0-9](?:[A-Z0-9-]{0,61}[A-Z0-9])?\\.)+[A-Z]{2,6}\\b|(?:(?:25[0-5]|2[0-4][0-9]|[01]?[0-9][0-9]?)\\.){3}(?:25[0-5]|2[0-4][0-9]|[01]?[0-9][0-9]?))(:[0-9]{1,4})?(?:/?|[/?]\\S+)$', re.IGNORECASE)\n",
    "    return pattern.match(url) is not None\n",
    "\n",
    "print(validate_url(\"http://www.google.com\")) # Output: True\n",
    "print(validate_url(\"www.google.com\")) # Output: False"
   ]
  },
  {
   "cell_type": "markdown",
   "metadata": {},
   "source": [
    "Here's an explanation of the code:\n",
    "def validate_url(url): This line defines the validate_url function, which takes a single parameter, url, representing the URL to be validated.\n",
    "\n",
    "pattern = re.compile(r'^https?://(?:(?:A-Z0-9?.)+[A-Z]{2,6}\\b|(?:(?:25[0-5]|2[0-4][0-9]|[01]?[0-9][0-9]?).){3}(?:25[0-5]|2[0-4][0-9]|[01]?[0-9][0-9]?))(:[0-9]{1,4})?(?:/?|[/?]\\S+)$', re.IGNORECASE): This line defines a regular expression pattern to validate URLs. The pattern checks for the following components in a URL:\n",
    "\n",
    "^https?://: The URL must start with either \"http://\" or \"https://\".\n",
    "\n",
    "(?:(?:A-Z0-9?.)+[A-Z]{2,6}\\b|(?:(?:25[0-5]|2[0-4][0-9]|[01]?[0-9][0-9]?).){3}(?:25[0-5]|2[0-4][0-9]|[01]?[0-9][0-9]?)): This part of the pattern checks for the domain name or IP address part of the URL. It can be a valid domain name or a valid IP address. and The ? makes the \"s\" in \"https\" optional.\n",
    "\n",
    "(:[0-9]{1,4})?: This matches an optional port number (e.g., :8080). The ? makes the entire group optional.\n",
    "\n",
    "(?:/?|[/?]\\S+)$: This part of the pattern checks for optional path components.\n",
    "\n",
    "return pattern.match(url) is not None: This line uses the re.match method to check if the provided url matches the regular expression pattern. If it matches, it returns True, indicating that the URL is valid. If it doesn't match, it returns False, indicating that the URL is not valid.\n",
    "\n",
    "The code then tests the validate_url function with two sample URLs and prints the results.\n",
    "\n",
    "print(validate_url(\"http://www.google.com\")): This URL is valid, so the function returns True.\n",
    "\n",
    "print(validate_url(\"www.google.com\")): This URL is not valid because it lacks the \"http://\" or \"https://\" prefix, so the function returns False."
   ]
  },
  {
   "cell_type": "markdown",
   "metadata": {},
   "source": [
    "## Example 2: Match the URL from the string"
   ]
  },
  {
   "cell_type": "code",
   "execution_count": null,
   "metadata": {},
   "outputs": [
    {
     "name": "stdout",
     "output_type": "stream",
     "text": [
      "URLs found in the text:\n"
     ]
    }
   ],
   "source": [
    "def extract_urls(text):\n",
    "    # Regular expression for matching URLs\n",
    "    url_pattern = r'https?://[a-zA-Z0-9.-]+(/\\S*)?'\n",
    "\n",
    "    # Find all URLs in the text\n",
    "    urls = re.findall(url_pattern, text)\n",
    "\n",
    "    return urls\n",
    "\n",
    "text = \"Visit my website at https://www.example.com for more information. You can also check http://www.example.org/products\"\n",
    "\n",
    "# Call the function to extract URLs\n",
    "urls = extract_urls(text)\n",
    "\n",
    "print(\"URLs found in the text:\")\n",
    "for url in urls:\n",
    "    print(url)"
   ]
  },
  {
   "cell_type": "markdown",
   "metadata": {},
   "source": [
    "This regular expression is used to match URLs. It looks for patterns starting with \"http://\" or \"https://\" followed by a domain part, which consists of alphanumeric characters, dots, and hyphens. It also allows for an optional path and query string (if any) captured by (/\\S*)?. We use re.findall to find all URLs in the given text. The URLs found in the text are then printed.\n",
    "\n",
    "Here's a breakdown:\n",
    "\n",
    "- url_pattern = ...: This part assigns the regex pattern to a variable named url_pattern for later use.\n",
    "- r'...': The r' before the opening quote indicates a raw string literal, preventing Python from interpreting backslashes () in the pattern as escape sequences.\n",
    "- https?://: This matches the beginning of a URL, looking for either \"http://\" or \"https://\". The ? makes the \"s\" in \"https\" optional, allowing for both secure and non-secure URLs.\n",
    "- [a-zA-Z0-9.-]+: This matches one or more (+) occurrences of any alphanumeric character (a-zA-Z0-9), dot (.), or hyphen (-). This part typically captures the domain name portion of the URL (e.g., \"[redacted link]).\n",
    "- (/\\S*)?: This part is optional, as indicated by the ? at the end.\n",
    "- (/ ... ): This group captures the path and query string part of the URL, if present.\n",
    "- \\S*: This matches zero or more (*) occurrences of any non-whitespace character (\\S). This allows for various path and query string structures (e.g., \"/products\", \"/blog?id=123\")."
   ]
  },
  {
   "cell_type": "markdown",
   "metadata": {},
   "source": [
    "## Example 3: Match the URL from the string and print URL"
   ]
  },
  {
   "cell_type": "code",
   "execution_count": 4,
   "metadata": {},
   "outputs": [
    {
     "name": "stdout",
     "output_type": "stream",
     "text": [
      "URLs found in the text:\n",
      "https://www.example.com\n",
      "\n",
      "Extracted domain names:\n",
      "www.example.com\n"
     ]
    }
   ],
   "source": [
    "def extract_urls_and_domains(text):\n",
    "    # Regular expression for matching URLs\n",
    "    url_pattern = r'https?://\\S+'\n",
    "\n",
    "    # Regular expression for extracting domain names from URLs\n",
    "    domain_pattern = r'https?://([a-zA-Z0-9.-]+)'\n",
    "\n",
    "    # Find all URLs in the text\n",
    "    urls = re.findall(url_pattern, text)\n",
    "\n",
    "    # Extract domain names from the URLs\n",
    "    domains = [re.search(domain_pattern, url).group(1) for url in urls]\n",
    "\n",
    "    return urls, domains\n",
    "\n",
    "text = \"Visit my website at https://www.example.com for more information.\"\n",
    "\n",
    "# Call the function to extract URLs and domains\n",
    "urls, domains = extract_urls_and_domains(text)\n",
    "\n",
    "print(\"URLs found in the text:\")\n",
    "for url in urls:\n",
    "    print(url)\n",
    "\n",
    "print(\"\\nExtracted domain names:\")\n",
    "for domain in domains:\n",
    "    print(domain)"
   ]
  },
  {
   "cell_type": "code",
   "execution_count": 5,
   "metadata": {},
   "outputs": [
    {
     "name": "stdout",
     "output_type": "stream",
     "text": [
      "P@sswOrd123 is valid: True\n",
      "password is valid: False\n"
     ]
    }
   ],
   "source": [
    "def validate_password(password):\n",
    "    pattern = r\"^(?=.*[a-z])(?=.*[A-Z])(?=.*\\d)(?=.*[@$!%*?&])[A-Za-z\\d@$!%*?&]{8,}$\"\n",
    "    if re.match(pattern, password):\n",
    "        return True\n",
    "    else:\n",
    "        return False\n",
    "\n",
    "password_strong = \"P@sswOrd123\"\n",
    "password_weak = \"password\"\n",
    "\n",
    "print(f\"{password_strong} is valid: {validate_password(password_strong)}\")\n",
    "print(f\"{password_weak} is valid: {validate_password(password_weak)}\")"
   ]
  },
  {
   "cell_type": "markdown",
   "metadata": {},
   "source": [
    "## Explanation of the code above:\n",
    "- ^ (Start of the string):\n",
    "\n",
    "    This anchor asserts that the pattern must match from the very beginning of the input string.\n",
    "- (?=.*[a-z]) (Positive Lookahead for lowercase letter):\n",
    "\n",
    "    (?=...) is a positive lookahead assertion. It checks if the pattern inside the parentheses can be found at the current position, but it doesn't consume any characters in the string.\n",
    "    .* matches any character (except newline) zero or more times.\n",
    "    [a-z] matches any lowercase letter from 'a' to 'z'.\n",
    "    Together: This part ensures that the string contains at least one lowercase letter.\n",
    "- (?=.*[A-Z]) (Positive Lookahead for uppercase letter):\n",
    "\n",
    "    Similar to the previous lookahead, this ensures that the string contains at least one uppercase letter from 'A' to 'Z'.\n",
    "- (?=.*\\d) (Positive Lookahead for digit):\n",
    "\n",
    "    \\d matches any digit (0-9).\n",
    "    Together: This part ensures that the string contains at least one digit.\n",
    "- (?=.*[@$!%*?&]) (Positive Lookahead for special character):\n",
    "\n",
    "    [@$!%*?&] is a character class that matches any one of the specified special characters.\n",
    "    Together: This part ensures that the string contains at least one of the characters: @, $, !, %, *, ?, or &.\n",
    "- [A-Za-z\\d@$!%*?&]{8,} (Matching the allowed characters with a minimum length):\n",
    "\n",
    "    [A-Za-z\\d@$!%*?&] is a character class that matches any uppercase letter, lowercase letter, digit, or one of the specified special characters.\n",
    "    {8,} is a quantifier that specifies that the preceding character class must match at least 8 times. This enforces a minimum length of 8 characters for the entire string.\n",
    "- $ (End of the string):\n",
    "    This anchor asserts that the pattern must match until the very end of the input string.\n"
   ]
  }
 ],
 "metadata": {
  "kernelspec": {
   "display_name": ".zulu",
   "language": "python",
   "name": "python3"
  },
  "language_info": {
   "codemirror_mode": {
    "name": "ipython",
    "version": 3
   },
   "file_extension": ".py",
   "mimetype": "text/x-python",
   "name": "python",
   "nbconvert_exporter": "python",
   "pygments_lexer": "ipython3",
   "version": "3.10.12"
  }
 },
 "nbformat": 4,
 "nbformat_minor": 2
}
