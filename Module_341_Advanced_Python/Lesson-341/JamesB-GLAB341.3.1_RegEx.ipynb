{
 "cells": [
  {
   "cell_type": "markdown",
   "metadata": {},
   "source": [
    "## RegEx\n",
    "- Objective:\n",
    "- This lab demonstrates how to use Regex Expressions and python re module's methods for Regular expression.\n",
    "\n",
    "- By the end of this lab, learner will be able to: identofy the re module's methods ofr Regex Utilize the regex in the python applications"
   ]
  },
  {
   "cell_type": "markdown",
   "metadata": {},
   "source": [
    "## Example 1: findall()\n",
    "- the pattern is set to find all words with a length of 5 or more.\n",
    "- The below example demonstrates how to use re.compile() with findall() to find all occurrences of a pattern in a given string."
   ]
  },
  {
   "cell_type": "code",
   "execution_count": 3,
   "metadata": {},
   "outputs": [
    {
     "name": "stdout",
     "output_type": "stream",
     "text": [
      "Hello\n",
      "world\n",
      "shining\n"
     ]
    }
   ],
   "source": [
    "import re\n",
    "# creating a pattern and Compile the regular expression pattern\n",
    "pattern = re.compile(r'\\b\\w{5,}\\b')\n",
    "#After compiling the pattern,\n",
    "#you can use the findall() method to find all occurrences of the pattern in a given string.\n",
    "text = \"Hello, world! The sky is blue, and the sun is shining.\"\n",
    "\n",
    "matches = pattern.findall(text)\n",
    "\n",
    "for match in matches:\n",
    "    print(match)"
   ]
  },
  {
   "cell_type": "code",
   "execution_count": 1,
   "metadata": {},
   "outputs": [
    {
     "ename": "NameError",
     "evalue": "name 're' is not defined",
     "output_type": "error",
     "traceback": [
      "\u001b[0;31m---------------------------------------------------------------------------\u001b[0m",
      "\u001b[0;31mNameError\u001b[0m                                 Traceback (most recent call last)",
      "Cell \u001b[0;32mIn[1], line 2\u001b[0m\n\u001b[1;32m      1\u001b[0m \u001b[38;5;66;03m# creating a pattern and Compile the regular expression pattern\u001b[39;00m\n\u001b[0;32m----> 2\u001b[0m pattern1 \u001b[38;5;241m=\u001b[39m \u001b[43mre\u001b[49m\u001b[38;5;241m.\u001b[39mcompile(\u001b[38;5;124mr\u001b[39m\u001b[38;5;124m'\u001b[39m\u001b[38;5;124m\\\u001b[39m\u001b[38;5;124mb\u001b[39m\u001b[38;5;124m\\\u001b[39m\u001b[38;5;124mw\u001b[39m\u001b[38;5;124m{\u001b[39m\u001b[38;5;124m1,4}\u001b[39m\u001b[38;5;124m\\\u001b[39m\u001b[38;5;124mb\u001b[39m\u001b[38;5;124m'\u001b[39m) \u001b[38;5;66;03m# pattern of words w/ 1 to 4 letters\u001b[39;00m\n\u001b[1;32m      3\u001b[0m text1 \u001b[38;5;241m=\u001b[39m \u001b[38;5;124m\"\u001b[39m\u001b[38;5;124mMary had a little lamb that like Python!\u001b[39m\u001b[38;5;124m\"\u001b[39m\n\u001b[1;32m      5\u001b[0m matches1 \u001b[38;5;241m=\u001b[39m pattern1\u001b[38;5;241m.\u001b[39mfindall(text1)\n",
      "\u001b[0;31mNameError\u001b[0m: name 're' is not defined"
     ]
    }
   ],
   "source": [
    "# creating a pattern and Compile the regular expression pattern\n",
    "pattern1 = re.compile(r'\\b\\w{1,4}\\b') # pattern of words w/ 1 to 4 letters\n",
    "text1 = \"Mary had a little lamb that like Python!\"\n",
    "\n",
    "matches1 = pattern1.findall(text1)\n",
    "\n",
    "for match in matches1:\n",
    "    print(match) # Output: (  Mary\n",
    "                            # had\n",
    "                            # a\n",
    "                            # lamb\n",
    "                            # that\n",
    "                            # like)"
   ]
  },
  {
   "cell_type": "markdown",
   "metadata": {},
   "source": [
    "## Example 2: findall()\n",
    "- In the following example, the pattern will match all strings containing alphanumeric characters and the hyphen."
   ]
  },
  {
   "cell_type": "code",
   "execution_count": null,
   "metadata": {},
   "outputs": [
    {
     "name": "stdout",
     "output_type": "stream",
     "text": [
      "Contact\n",
      "me\n",
      "at\n",
      "john.doe\n",
      "example.com\n",
      "or\n",
      "jane.doe\n",
      "example.com\n",
      "for\n",
      "more\n",
      "information\n"
     ]
    }
   ],
   "source": [
    "# Compile the regular expression pattern\n",
    "pattern = re.compile(r'\\b[A-Za-z0-9._%+-]+\\b')\n",
    "\n",
    "# target string\n",
    "text = \"Contact me at john.doe@example.com or jane.doe@example.com for more information.\"\n",
    "\n",
    "# Find all matches of the pattern in the test string\n",
    "matches = pattern.findall(text)\n",
    "\n",
    "# Print the matches\n",
    "for match in matches:\n",
    "    print(match)"
   ]
  },
  {
   "cell_type": "code",
   "execution_count": null,
   "metadata": {},
   "outputs": [
    {
     "name": "stdout",
     "output_type": "stream",
     "text": [
      "Contact\n",
      "me\n",
      "at\n",
      "john\n",
      "doe\n",
      "example\n",
      "com\n",
      "or\n",
      "jane\n",
      "doe\n",
      "example\n",
      "com\n",
      "for\n",
      "more\n",
      "information\n"
     ]
    }
   ],
   "source": [
    "# Compile the regular expression pattern\n",
    "pattern = re.compile(r'\\b\\w+\\b') # alphanumeric characters NOT ._%+-\n",
    "\n",
    "# target string\n",
    "text = \"Contact me at john.doe@example.com or jane.doe@example.com for more information.\"\n",
    "\n",
    "# Find all matches of the pattern in the test string\n",
    "matches = pattern.findall(text)\n",
    "\n",
    "# Print the matches\n",
    "for match in matches:\n",
    "    print(match)"
   ]
  },
  {
   "cell_type": "markdown",
   "metadata": {},
   "source": [
    "## Example 3: findall()\n",
    "- In this example, we will match all the email addresses in a string using a regular expression pattern."
   ]
  },
  {
   "cell_type": "code",
   "execution_count": null,
   "metadata": {},
   "outputs": [
    {
     "name": "stdout",
     "output_type": "stream",
     "text": [
      "john.doe@example.com\n",
      "jane.doe@example.com\n"
     ]
    }
   ],
   "source": [
    "# Our original string\n",
    "text = \"Contact me at john.doe@example.com or jane.doe@example.com for more information.\"\n",
    "\n",
    "# The regular expression pattern to search for\n",
    "pattern = re.compile(r'\\b[A-Za-z0-9._%+-]+@[A-Za-z0-9.-]+\\.[A-Z|a-z]{2,}\\b')\n",
    "\n",
    "# Use the findall() function to find all matches in the string\n",
    "matches = re.findall(pattern, text)\n",
    "\n",
    "for match in matches:\n",
    "    print(match)"
   ]
  },
  {
   "cell_type": "code",
   "execution_count": null,
   "metadata": {},
   "outputs": [
    {
     "name": "stdout",
     "output_type": "stream",
     "text": [
      "Type:  <class 'list'>\n",
      "doe@yahoo.\n",
      "jane_doe@gmail.com\n",
      "cat_hat@aol.org\n"
     ]
    }
   ],
   "source": [
    "text2 = \"Contact me at john%.doe@yahoo.comm or jane_doe@gmail.com or cat_hat@aol.org for more information.\"\n",
    "\n",
    "# (?:...) \n",
    "# Matches whatever regular expression is inside the parentheses, but the substring matched by the group cannot be retrieved after performing a match or referenced later in the pattern.\n",
    "pattern2 = re.compile(r'\\b[A-Za-z0-9._]+@[A-Za-z0-9.-]+\\.(?:com|org)?\\b')\n",
    "\n",
    "# Use the findall() function to find all matches in the string\n",
    "matches2 = re.findall(pattern2, text2)\n",
    "print(\"Type: \", type(matches2)) # Type:  <class 'list'>\n",
    "for match in matches2:\n",
    "    print(match)"
   ]
  },
  {
   "cell_type": "markdown",
   "metadata": {},
   "source": [
    "## Example 4: search()\n",
    "### Basic Examples\n",
    "- Joke: what do you call a pig with three eyes? piiig!\n",
    "\n",
    "- The basic rules of regular expression search for a pattern within a string are:\n",
    "\n",
    "- The search proceeds through the string from start to end, stopping at the first match found All of the pattern must be matched, but not all of the string If match = re.search(pat, str) is successful, match is not None and in particular match.group() is the matching text"
   ]
  },
  {
   "cell_type": "code",
   "execution_count": null,
   "metadata": {},
   "outputs": [],
   "source": [
    "## Search for pattern 'iii' in string 'piiig'.\n",
    "## All of the pattern must match, but it may appear anywhere.\n",
    "## On success, match.group() is matched text.\n",
    "match_one = re.search(r'iii', 'piiig') # found, match.group() == \"iii\"\n",
    "print(match_one)\n",
    "match_two = re.search(r'igs', 'piiig') # not found, match == None\n",
    "print(match_two)\n",
    "  ## . = any char but \\n\n",
    "match_three = re.search(r'..g', 'piiig') # found, match.group() == \"iig\"\n",
    "print(match_three)\n",
    "  ## \\d = digit char, \\w = word char\n",
    "match_four = re.search(r'\\d\\d\\d', 'p123g') # found, match.group() == \"123\"\n",
    "print(match_four)\n",
    "match_five = re.search(r'\\w\\w\\w', '@@abcd!!') # found, match.group() == \"abc\"\n",
    "print(match_five)\n",
    "\n",
    "\n"
   ]
  },
  {
   "cell_type": "markdown",
   "metadata": {},
   "source": [
    "Data extraction: retrieving specific info from unstructured data"
   ]
  },
  {
   "cell_type": "code",
   "execution_count": null,
   "metadata": {},
   "outputs": [],
   "source": [
    "log_data = \"2025-04-07 15:30:00 - ERROR - An error occurred while processing data.\"\n",
    "pattern = r\"(\\d{4}-\\d{2}-\\d{2} \\d{2}:\\d{2}:\\d{2}) - (\\w+) - (.*)\"\n",
    "    \n",
    "match_six = re.search(pattern, log_data)\n",
    "print(\"Type: \", type(match_six)) # Type:  <class 're.Match'>\n",
    "\n",
    "print(match_six)\n",
    "# for match in match_six:\n",
    "#     print(match) # TypeError: 're.Match' object is not iterable"
   ]
  },
  {
   "cell_type": "markdown",
   "metadata": {},
   "source": [
    "Repetition\n",
    "\n",
    "Things get more interesting when you use + and * to specify repetition in the pattern.\n",
    "\n",
    "\" + -- 1 or more occurrences of the pattern to its left, e.g. 'i+' = one or more i's\"\n",
    "\n",
    "\" * -- 0 or more occurrences of the pattern to its left\"\n",
    "\n",
    "\" ? -- match 0 or 1 occurrences of the pattern to its left\"\n",
    "\n",
    "Leftmost & Largest\n",
    "\n",
    "First the search finds the leftmost match for the pattern, and second it tries to use up as much of the string as possible -- i.e. + and * go as far as possible (the + and * are said to be \"greedy\")."
   ]
  },
  {
   "cell_type": "code",
   "execution_count": null,
   "metadata": {},
   "outputs": [
    {
     "name": "stdout",
     "output_type": "stream",
     "text": [
      "<re.Match object; span=(0, 4), match='piii'>\n",
      "<re.Match object; span=(1, 3), match='ii'>\n",
      "<re.Match object; span=(2, 9), match='1 2   3'>\n",
      "<re.Match object; span=(2, 6), match='1 2 '>\n",
      "<re.Match object; span=(2, 7), match='12  3'>\n",
      "<re.Match object; span=(2, 5), match='123'>\n",
      "None\n",
      "<re.Match object; span=(3, 6), match='bar'>\n"
     ]
    }
   ],
   "source": [
    "  ## i+ = one or more i's, as many as possible.\n",
    "match_one = re.search(r'pi+', 'piiig') # found, match.group() == \"piii\"\n",
    "print(match_one)\n",
    "\n",
    "  ## Finds the first/leftmost solution, and within it drives the +\n",
    "  ## as far as possible (aka 'leftmost and largest').\n",
    "  ## In this example, note that it does not get to the second set of i's.\n",
    "match_two = re.search(r'i+', 'piigiiii') # found, match.group() == \"ii\"\n",
    "print(match_two)\n",
    "\n",
    "  ## \\s* = zero or more whitespace chars\n",
    "  ## Here look for 3 digits, possibly separated by whitespace.\n",
    "match_three = re.search(r'\\d\\s*\\d\\s*\\d', 'xx1 2   3xx') # found, match.group() == \"1 2   3\"\n",
    "print(match_three)\n",
    "\n",
    "match_3 = re.search(r'\\d*\\s\\d*\\s\\d*', 'xx1 2   3xx') # found, match.group() == \"1 2 \"\n",
    "print(match_3)\n",
    "\n",
    "match_four = re.search(r'\\d\\s*\\d\\s*\\d', 'xx12  3xx') # found, match.group() == \"12  3\"\n",
    "print(match_four)\n",
    "match_five = re.search(r'\\d\\s*\\d\\s*\\d', 'xx123xx') # found, match.group() == \"123\"\n",
    "print(match_five)\n",
    "\n",
    "  ## ^ = matches the start of string, so this fails:\n",
    "match_six = re.search(r'^b\\w+', 'foobar') # not found, match == None\n",
    "print(match_six)\n",
    "  ## but without the ^ it succeeds:\n",
    "match_seven = re.search(r'b\\w+', 'foobar') # found, match.group() == \"bar\"\n",
    "print(match_seven)"
   ]
  },
  {
   "cell_type": "markdown",
   "metadata": {},
   "source": [
    "## Example 5: Grouping with search()\n",
    "We can use parentheses to group sub-patterns in a regex pattern."
   ]
  },
  {
   "cell_type": "code",
   "execution_count": null,
   "metadata": {},
   "outputs": [
    {
     "name": "stdout",
     "output_type": "stream",
     "text": [
      "Found a match: is an interpreted\n",
      "No match found.\n"
     ]
    }
   ],
   "source": [
    "text = \"Python is an interpreted high-level programming language for general-purpose programming.\"\n",
    "pattern = \"is (an|the) interpreted\"\n",
    "text2 = \"\"\"Mary had a little lamb\n",
    "           It's fleece was white as snow, yeah\"\"\"\n",
    "pattern2 = \"a snow\"\n",
    "\n",
    "match = re.search(pattern, text)\n",
    "match2 = re.search(pattern2, text2) # Output: No match found\n",
    "\n",
    "if match:\n",
    "    print(\"Found a match:\", match.group())\n",
    "else:\n",
    "    print(\"No match found.\")\n",
    "\n",
    "if match2:\n",
    "    print(\"Found a match:\", match2.group())\n",
    "else:\n",
    "    print(\"No match found.\")"
   ]
  },
  {
   "cell_type": "markdown",
   "metadata": {},
   "source": [
    "## Example 6: Match Phone Number pattern\n",
    "- Search for a pattern match in a string. Once you have a compiled regular expression pattern, you can use it to search for matches in a string.\n",
    "\n",
    "- The search() method searches the string for a match."
   ]
  },
  {
   "cell_type": "code",
   "execution_count": 14,
   "metadata": {},
   "outputs": [
    {
     "name": "stdout",
     "output_type": "stream",
     "text": [
      "None\n",
      "Found a match: 123-456-7890\n",
      "No match found.\n"
     ]
    }
   ],
   "source": [
    "pattern = re.compile(r'\\d{3}-\\d{3}-\\d{4}')\n",
    "\n",
    "phone_number = \"123-456-7890\"\n",
    "match = pattern.search(phone_number)\n",
    "phone_number2 = \"(123)456-7890\"\n",
    "match2 = pattern.search(phone_number2) # match2 = None\n",
    "print(match2)\n",
    "\n",
    "if match:\n",
    "    print(\"Found a match:\", match.group())\n",
    "else:\n",
    "    print(\"No match found.\")\n",
    "\n",
    "if match2:\n",
    "    print(\"Found a match:\", match2.group()) # Output: No match found.\n",
    "else:\n",
    "    print(\"No match found.\")"
   ]
  },
  {
   "cell_type": "markdown",
   "metadata": {},
   "source": [
    "### The match() method also searches the string for a match, but it only checks at the beginning of the string."
   ]
  },
  {
   "cell_type": "code",
   "execution_count": 10,
   "metadata": {},
   "outputs": [
    {
     "name": "stdout",
     "output_type": "stream",
     "text": [
      "Found a match: 123-456-7890\n",
      "None\n",
      "<re.Match object; span=(2, 3), match='m'>\n",
      "Found a match: m\n"
     ]
    }
   ],
   "source": [
    "match = pattern.match(phone_number)\n",
    "\n",
    "if match:\n",
    "    print(\"Found a match:\", match.group())\n",
    "else:\n",
    "    print(\"No match found.\")\n",
    "\n",
    "pattern = re.compile(\"m\")\n",
    "match2 = pattern.match(\"james\", 2)\n",
    "print(pattern.match(\"james\"))      # Returns 'None' as \"m\" is not at the start of \"james\".\n",
    "print(pattern.match(\"james\", 2))   # Match as \"m\" is the 3rd character of \"james\".\n",
    "\n",
    "if match2:\n",
    "    print(\"Found a match:\", match2.group())\n",
    "else:\n",
    "    print(\"No match found.\")"
   ]
  },
  {
   "cell_type": "markdown",
   "metadata": {},
   "source": [
    "### Find all pattern matches in a string\n",
    "To find all matches of a pattern in a string, you can use the findall() method."
   ]
  },
  {
   "cell_type": "code",
   "execution_count": 17,
   "metadata": {},
   "outputs": [
    {
     "name": "stdout",
     "output_type": "stream",
     "text": [
      "<class 'list'>\n",
      "Found a match: 123-456-7890\n",
      "Found a match: 234-567-8901\n"
     ]
    }
   ],
   "source": [
    "text = \"123-456-7890 is a phone number, and 234-567-8901 is another.\"\n",
    "matches = pattern.findall(text) # Creates a list\n",
    "print(type(matches))\n",
    "for match in matches: # This works because matches is an iterable\n",
    "    print(\"Found a match:\", match)"
   ]
  },
  {
   "cell_type": "markdown",
   "metadata": {},
   "source": [
    "## Example 7: Emails Example\n",
    "- Suppose you want to find the email address inside the string 'xyz alice-b@google.com purple monkey'. We'll use this as a running example to demonstrate more regular expression features. Here's an attempt using the pattern r'\\w+@\\w+':"
   ]
  },
  {
   "cell_type": "code",
   "execution_count": null,
   "metadata": {},
   "outputs": [
    {
     "name": "stdout",
     "output_type": "stream",
     "text": [
      "b@google\n",
      "jb@gmail.com\n"
     ]
    }
   ],
   "source": [
    "str = 'purple alice-b@google.com monkey dishwasher'\n",
    "match = re.search(r'\\w+@\\w+', str)\n",
    "\n",
    "str2 = \"James made this string up on the fly & sent it to jb@gmail.com!\"\n",
    "match_str2 = re.search(r\"\\w+@\\w+\\.com\", str2)\n",
    "\n",
    "if match:\n",
    "  print(match.group())  ## 'b@google'\n",
    "  \"\"\"\n",
    "  The search does not get the whole email address in this case because \n",
    "  the \\w does not match the '-' or '.' in the address.\n",
    "  \"\"\"\n",
    "\n",
    "if match_str2:\n",
    "  print(match_str2.group())  # 'jb@gmail.com'"
   ]
  },
  {
   "cell_type": "markdown",
   "metadata": {},
   "source": [
    "## Square Brackets\n",
    "- Square brackets can be used to indicate a set of chars, so [abc] matches 'a' or 'b' or 'c'. The codes \\w, \\s etc. work inside square brackets too with the one exception that dot (.) just means a literal dot. For the emails problem, the square brackets are an easy way to add '.' and '-' to the set of chars which can appear around the @ with the pattern r'[\\w.-]+@[\\w.-]+' to get the whole email address:\n",
    "- You can also use a dash to indicate a range, so [a-z] matches all lowercase letters. To use a dash without indicating a range, put the dash last, e.g. [abc-]. An up-hat (^) at the start of a square-bracket set inverts it, so [^ab] means any char except 'a' or 'b'."
   ]
  },
  {
   "cell_type": "code",
   "execution_count": 20,
   "metadata": {},
   "outputs": [
    {
     "name": "stdout",
     "output_type": "stream",
     "text": [
      "alice-b@google.com\n"
     ]
    }
   ],
   "source": [
    "match = re.search(r'[\\w.-]+@[\\w.-]+', str)\n",
    "if match:\n",
    "  print(match.group())  ## 'alice-b@google.com'"
   ]
  },
  {
   "cell_type": "markdown",
   "metadata": {},
   "source": [
    "## Group Extraction\n",
    "- The \"group\" feature of a regular expression allows you to pick out parts of the matching text. Suppose for the emails problem that we want to extract the username and host separately. To do this, add parentheses ( ) around the username and host in the pattern, like this: r'([\\w.-]+)@([\\w.-]+)'. In this case, the parentheses do not change what the pattern will match, instead they establish logical \"groups\" inside of the match text. On a successful search, match.group(1) is the match text corresponding to the 1st left parentheses, and match.group(2) is the text corresponding to the 2nd left parentheses. The plain match.group() is still the whole match text as usual.\n",
    "- A common workflow with regular expressions is that you write a pattern for the thing you are looking for, adding parentheses groups to extract the parts you want."
   ]
  },
  {
   "cell_type": "code",
   "execution_count": null,
   "metadata": {},
   "outputs": [
    {
     "name": "stdout",
     "output_type": "stream",
     "text": [
      "alice-b@google.com\n",
      "alice-b\n",
      "google.com\n",
      "('james.by-ers', 'yahoo.com')\n",
      "('24', None)\n",
      "('24', '0')\n"
     ]
    }
   ],
   "source": [
    "str = 'purple alice-b@google.com monkey dishwasher'\n",
    "match = re.search(r'([\\w.-]+)@([\\w.-]+)', str)\n",
    "if match:\n",
    "    print(match.group())   ## 'alice-b@google.com' (the whole match)\n",
    "    print(match.group(1))  ## 'alice-b' (the username, group 1)\n",
    "    print(match.group(2))  ## 'google.com' (the host, group 2)\n",
    "\n",
    "\n",
    "grp_str = 'Somebody email james.by-ers@yahoo.com real quick!'\n",
    "grp_match = re.search(r'([\\w.-]+)@([\\w.-]+)', grp_str)\n",
    "if grp_match:\n",
    "    print(grp_match.groups())   # Return a tuple containing all the subgroups of the match\n",
    "    # Output: ('james.by-ers', 'yahoo.com')\n",
    "\n",
    "m = re.match(r\"(\\d+)\\.?(\\d+)?\", \"24\")\n",
    "print(m.groups())      # Second group defaults to None. Output: ('24', None)\n",
    "print(m.groups('0'))   # Now, the second group defaults to '0'. Output ('24', '0')"
   ]
  },
  {
   "cell_type": "markdown",
   "metadata": {},
   "source": [
    "## Example 8: findall and Groups\n",
    "- The parentheses ( ) group mechanism can be combined with findall(). If the pattern includes 2 or more parentheses groups, then instead of returning a list of strings, findall() returns a list of tuples. Each tuple represents one match of the pattern, and inside the tuple is the group(1), group(2) .. data. So if 2 parentheses groups are added to the email pattern, then findall() returns a list of tuples, each length 2 containing the username and host, e.g. ('alice', 'google.com').\n",
    "- Once you have the list of tuples, you can loop over it to do some computation for each tuple. If the pattern includes no parentheses, then findall() returns a list of found strings as in earlier examples. If the pattern includes a single set of parentheses, then findall() returns a list of strings corresponding to that single group. (Obscure optional feature: Sometimes you have paren ( ) groupings in the pattern, but which you do not want to extract. In that case, write the parens with a ?: at the start, e.g. (?: ) and that left paren will not count as a group result.)"
   ]
  },
  {
   "cell_type": "code",
   "execution_count": 27,
   "metadata": {},
   "outputs": [
    {
     "name": "stdout",
     "output_type": "stream",
     "text": [
      "[('alice', 'google.com'), ('bob', 'abc.com')]\n",
      "alice\n",
      "google.com\n",
      "Google domain:  ('alice', 'google.com')\n",
      "bob\n",
      "abc.com\n"
     ]
    }
   ],
   "source": [
    "str = 'purple alice@google.com, blah monkey bob@abc.com blah dishwasher'\n",
    "tuples = re.findall(r'([\\w\\.-]+)@([\\w\\.-]+)', str)\n",
    "print(tuples)  ## [('alice', 'google.com'), ('bob', 'abc.com')]\n",
    "for tuple in tuples:\n",
    "  print(tuple[0])  ## username\n",
    "  print(tuple[1])  ## host\n",
    "  if \"google.com\" in tuple:\n",
    "    print(\"Google domain: \", tuple)"
   ]
  }
 ],
 "metadata": {
  "kernelspec": {
   "display_name": ".zulu",
   "language": "python",
   "name": "python3"
  },
  "language_info": {
   "codemirror_mode": {
    "name": "ipython",
    "version": 3
   },
   "file_extension": ".py",
   "mimetype": "text/x-python",
   "name": "python",
   "nbconvert_exporter": "python",
   "pygments_lexer": "ipython3",
   "version": "3.10.12"
  }
 },
 "nbformat": 4,
 "nbformat_minor": 2
}
