{
 "cells": [
  {
   "cell_type": "markdown",
   "id": "deb58d11",
   "metadata": {},
   "source": [
    "## Example: Addition\n",
    "- The Python math module provides the math.fsum() function, which is particularly useful for adding floating-point numbers with better precision than the standard + operator. The math.fsum() function takes an iterable (such as a list or tuple) of numbers as its argument and returns the sum of all elements in the iterable."
   ]
  },
  {
   "cell_type": "code",
   "execution_count": null,
   "id": "2a13762d",
   "metadata": {},
   "outputs": [
    {
     "name": "stdout",
     "output_type": "stream",
     "text": [
      "16.5\n",
      "Result Two:  176.5\n"
     ]
    }
   ],
   "source": [
    "import math\n",
    "numbers = [1.1, 2.2, 3.3, 4.4, 5.5]\n",
    "result = math.fsum(numbers)\n",
    "print(result)  # Output: 16.5\n",
    "numbers2 = [12.1, 23.2, 34.3, 47.4, 59.5]\n",
    "result2 = math.fsum(numbers2)\n",
    "print(\"Result Two: \", result2)  # Output: 176.5"
   ]
  },
  {
   "cell_type": "markdown",
   "id": "db2ca637",
   "metadata": {},
   "source": [
    "## Example: Division\n",
    "- Python has built-in division using the / operator. The math module provides math.floor() and math.ceil() functions that can be used in conjunction with division."
   ]
  },
  {
   "cell_type": "code",
   "execution_count": null,
   "id": "0e3b9eb2",
   "metadata": {},
   "outputs": [
    {
     "name": "stdout",
     "output_type": "stream",
     "text": [
      "3\n",
      "4\n"
     ]
    }
   ],
   "source": [
    "# Using math.floor() for integer division (floor division)\n",
    "a = 10\n",
    "b = 3\n",
    "result = math.floor(a / b)\n",
    "print(result)  # Output: 3\n",
    "\n",
    "\n",
    "# Using math.ceil() for ceiling division\n",
    "result2 = math.ceil(a / b)\n",
    "print(result2) # Output: 4"
   ]
  },
  {
   "cell_type": "markdown",
   "id": "9615da6f",
   "metadata": {},
   "source": [
    "## Example: Exponentiation\n",
    "- The math.exp() method returns a float number after raising e to the power of the given number. In other words, exp(x) gives e**x"
   ]
  },
  {
   "cell_type": "code",
   "execution_count": 4,
   "id": "66667c22",
   "metadata": {},
   "outputs": [
    {
     "name": "stdout",
     "output_type": "stream",
     "text": [
      "8.0\n"
     ]
    }
   ],
   "source": [
    "base = 2\n",
    "exponent = 3\n",
    "result = math.pow(base, exponent)\n",
    "print(result)  # Output: 8.0"
   ]
  },
  {
   "cell_type": "markdown",
   "id": "67c3c911",
   "metadata": {},
   "source": [
    "## Example: Square root\n",
    "- The math.sqrt() method returns the square root of a given number."
   ]
  },
  {
   "cell_type": "code",
   "execution_count": null,
   "id": "a14d5b9d",
   "metadata": {},
   "outputs": [
    {
     "name": "stdout",
     "output_type": "stream",
     "text": [
      "3.0\n",
      "10.0\n"
     ]
    }
   ],
   "source": [
    "number = 9\n",
    "result = math.sqrt(number)\n",
    "print(result)  # Output: 3.0\n",
    "\n",
    "number2 = 100\n",
    "result2 = math.sqrt(number2)\n",
    "print(result2)  # Output: 10.0"
   ]
  },
  {
   "cell_type": "markdown",
   "id": "c12d6070",
   "metadata": {},
   "source": [
    "## Example: power of a number\n",
    "- The pow() function computes x**y. This function first converts its arguments into floats, and then computes the power."
   ]
  },
  {
   "cell_type": "code",
   "execution_count": null,
   "id": "0ec0d16c",
   "metadata": {},
   "outputs": [
    {
     "name": "stdout",
     "output_type": "stream",
     "text": [
      "The value of 3**4 is : 81\n",
      "8**6 is : 262144\n"
     ]
    }
   ],
   "source": [
    "# Python code to demonstrate pow()\n",
    "print (\"The value of 3**4 is : \",end=\"\")\n",
    "# Returns 81\n",
    "print (pow(3,4))\n",
    "\n",
    "print (\"8**6 is: \", end=\"\")\n",
    "# Returns 262144\n",
    "print (pow(8, 6))"
   ]
  },
  {
   "cell_type": "markdown",
   "id": "994852a0",
   "metadata": {},
   "source": [
    "## Example: Logarithm"
   ]
  },
  {
   "cell_type": "code",
   "execution_count": null,
   "id": "08b1e9ea",
   "metadata": {},
   "outputs": [
    {
     "name": "stdout",
     "output_type": "stream",
     "text": [
      "4.605170185988092\n",
      "2.0\n",
      "3.912023005428146\n",
      "5.643856189774724\n"
     ]
    }
   ],
   "source": [
    "number = 100\n",
    "base = 10\n",
    "\n",
    "# Natural logarithm (base e)\n",
    "log_e = math.log(number)\n",
    "print(log_e)  # Output: 4.605170185988092\n",
    "# Logarithm with specified base\n",
    "log_base = math.log(number, base)\n",
    "print(log_base)  # Output: 2.0\n",
    "\n",
    "# Natural logarithm (base e)\n",
    "log_e2 = math.log(50)\n",
    "print(log_e2)  # Output: 3.912023005428146\n",
    "# Logarithm with specified base\n",
    "log_base2 = math.log(50, 2)\n",
    "print(log_base2)  # Output: 5.643856189774724"
   ]
  },
  {
   "cell_type": "markdown",
   "id": "c8592025",
   "metadata": {},
   "source": [
    "## Example: Factorial\n",
    "- Using the factorial() function, we can find the factorial of a number in a single line of the code. An error message is displayed if the number is not integral."
   ]
  },
  {
   "cell_type": "code",
   "execution_count": null,
   "id": "a3ef7709",
   "metadata": {},
   "outputs": [],
   "source": [
    "number = 5\n",
    "factorial = math.factorial(number)\n",
    "print(factorial)  # Output: 120"
   ]
  },
  {
   "cell_type": "markdown",
   "id": "63904983",
   "metadata": {},
   "source": [
    "## Example: Greatest Common Divisor (GCD):\n",
    "\n",
    "- gcd() function is used to find the greatest common divisor of two numbers passed as the arguments."
   ]
  },
  {
   "cell_type": "code",
   "execution_count": null,
   "id": "40272847",
   "metadata": {},
   "outputs": [
    {
     "name": "stdout",
     "output_type": "stream",
     "text": [
      "14\n",
      "2\n"
     ]
    }
   ],
   "source": [
    "a = 56\n",
    "b = 98\n",
    "\n",
    "gcd = math.gcd(a, b)\n",
    "print(gcd)  # Output: 14\n",
    "\n",
    "c = 222\n",
    "d = 112\n",
    "\n",
    "gcd2 = math.gcd(c, d)\n",
    "print(gcd2)  # Output: 2"
   ]
  },
  {
   "cell_type": "markdown",
   "id": "f5943845",
   "metadata": {},
   "source": [
    "## Example: Combinations"
   ]
  },
  {
   "cell_type": "code",
   "execution_count": null,
   "id": "26c17898",
   "metadata": {},
   "outputs": [
    {
     "name": "stdout",
     "output_type": "stream",
     "text": [
      "120\n",
      "53130\n"
     ]
    }
   ],
   "source": [
    "n = 10\n",
    "k = 3\n",
    "\n",
    "combinations = math.comb(n, k)\n",
    "print(combinations)  # Output: 120\n",
    "\n",
    "m = 25\n",
    "l = 5\n",
    "\n",
    "combinations2 = math.comb(m, l)\n",
    "print(combinations2)  # Output: 53130"
   ]
  },
  {
   "cell_type": "markdown",
   "id": "b79a05fd",
   "metadata": {},
   "source": [
    "## Example: Permutations"
   ]
  },
  {
   "cell_type": "code",
   "execution_count": null,
   "id": "a0c26f2e",
   "metadata": {},
   "outputs": [
    {
     "name": "stdout",
     "output_type": "stream",
     "text": [
      "720\n",
      "27907200\n"
     ]
    }
   ],
   "source": [
    "n = 10\n",
    "k = 3\n",
    "\n",
    "permutations = math.perm(n, k)\n",
    "print(permutations)  # Output: 720\n",
    "\n",
    "j = 20\n",
    "h = 6\n",
    "\n",
    "permutations2 = math.perm(j, h)\n",
    "print(permutations2)  # Output: 27907200"
   ]
  },
  {
   "cell_type": "markdown",
   "id": "47ff4d25",
   "metadata": {},
   "source": [
    "## Example: Rounding Functions"
   ]
  },
  {
   "cell_type": "code",
   "execution_count": null,
   "id": "06c5c3e9",
   "metadata": {},
   "outputs": [
    {
     "name": "stdout",
     "output_type": "stream",
     "text": [
      "6\n",
      "5\n",
      "13\n",
      "12\n"
     ]
    }
   ],
   "source": [
    "number = 5.5\n",
    "\n",
    "ceil_value = math.ceil(number)  # Round up to the nearest integer\n",
    "\n",
    "floor_value = math.floor(number) # Round down to the nearest integer\n",
    "\n",
    "print(ceil_value)  # Output: 6\n",
    "\n",
    "print(floor_value)  # Output: 5\n",
    "\n",
    "number2 = 12.8\n",
    "\n",
    "ceil_value2 = math.ceil(number2)  # Round up to the nearest integer\n",
    "\n",
    "floor_value2 = math.floor(number2) # Round down to the nearest integer\n",
    "\n",
    "print(ceil_value2)  # Output: 13\n",
    "\n",
    "print(floor_value2)  # Output: 12"
   ]
  },
  {
   "cell_type": "markdown",
   "id": "04127f53",
   "metadata": {},
   "source": [
    "## Example: Remainder and Modulo Operations"
   ]
  },
  {
   "cell_type": "code",
   "execution_count": null,
   "id": "d5a465ae",
   "metadata": {},
   "outputs": [
    {
     "name": "stdout",
     "output_type": "stream",
     "text": [
      "1.0\n",
      "1.0\n",
      "10.0\n",
      "10.0\n"
     ]
    }
   ],
   "source": [
    "x = 10\n",
    "y = 3\n",
    "\n",
    "remainder = math.remainder(x, y) # IEEE 754-style remainder\n",
    "\n",
    "modulus = math.fmod(x, y)        # C-style modulo operation\n",
    "\n",
    "print(remainder)  # Output: 1.0\n",
    "print(modulus)    # Output: 1.0\n",
    "\n",
    "x4 = 100\n",
    "y4 = 30\n",
    "\n",
    "remainder4 = math.remainder(x4, y4) # IEEE 754-style remainder\n",
    "\n",
    "modulus4 = math.fmod(x4, y4)        # C-style modulo operation\n",
    "\n",
    "print(remainder4)  # Output: 10.0\n",
    "print(modulus4)    # Output: 10.0"
   ]
  }
 ],
 "metadata": {
  "kernelspec": {
   "display_name": "Python 3",
   "language": "python",
   "name": "python3"
  },
  "language_info": {
   "codemirror_mode": {
    "name": "ipython",
    "version": 3
   },
   "file_extension": ".py",
   "mimetype": "text/x-python",
   "name": "python",
   "nbconvert_exporter": "python",
   "pygments_lexer": "ipython3",
   "version": "3.12.0"
  }
 },
 "nbformat": 4,
 "nbformat_minor": 5
}
