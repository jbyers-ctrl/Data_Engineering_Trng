{
 "cells": [
  {
   "cell_type": "markdown",
   "id": "b3f90d7e",
   "metadata": {},
   "source": [
    "## Task One: Lambda Map"
   ]
  },
  {
   "cell_type": "code",
   "execution_count": null,
   "id": "42b7f847",
   "metadata": {},
   "outputs": [
    {
     "name": "stdout",
     "output_type": "stream",
     "text": [
      "[0, 2, 4, 6, 8, 10]\n"
     ]
    }
   ],
   "source": [
    "def lambdaMap(arr):\n",
    "    \"\"\"Remove all negative numbers and double the remaining numbers\"\"\"\n",
    "\n",
    "    # list() function to show expected output\n",
    "    # filter() method with lambda function to remove all negative numbers\n",
    "    # map() method with lambda function to double the remaining numbers\n",
    "    ans = list(map(lambda x : x * 2, filter(lambda x : x >= 0, arr)))\n",
    "    return ans\n",
    "\n",
    "\n",
    "# Test cases\n",
    "test = [-3, -2, -1, 0, 1, 2, 3, 4, 5]\n",
    "ans = lambdaMap(test)\n",
    "print(ans)  # Expected Output: [0, 2, 4, 6, 8, 10]"
   ]
  },
  {
   "cell_type": "markdown",
   "id": "cd3f5ec1",
   "metadata": {},
   "source": [
    "## Task Two: Validating Strings with RegEx"
   ]
  },
  {
   "cell_type": "code",
   "execution_count": 12,
   "id": "c7167a5b",
   "metadata": {},
   "outputs": [
    {
     "name": "stdout",
     "output_type": "stream",
     "text": [
      "True\n"
     ]
    }
   ],
   "source": [
    "from re import compile\n",
    "from re import match\n",
    "\n",
    "\n",
    "# Write the regular expression in the blank space below\n",
    "\n",
    "# Write the regular expression in the blank space below\n",
    "# \\b to create a boundary to begin and end with 'a'\n",
    "# | or operator to include 'b' in it's own boundary\n",
    "regularExpression = r\"\\b^a+.+a+$\\b|\\b^b+.+b+$\\b\"\n",
    "\n",
    "\n",
    "# Test your regular expression.\n",
    "pattern = compile(regularExpression)\n",
    "if pattern.match(\"ababababa\"):\n",
    "    print(\"True\")\n",
    "else:\n",
    "    print(\"False\")"
   ]
  },
  {
   "cell_type": "markdown",
   "id": "2a8ea9a5",
   "metadata": {},
   "source": [
    "## Task Three: Iterators"
   ]
  },
  {
   "cell_type": "code",
   "execution_count": null,
   "id": "2c6de804",
   "metadata": {},
   "outputs": [
    {
     "name": "stdout",
     "output_type": "stream",
     "text": [
      "Hello,\n",
      "how\n",
      "are\n",
      "you?\n",
      "I\n",
      "hope\n",
      "you\n",
      "are\n",
      "doing\n",
      "well.\n"
     ]
    }
   ],
   "source": [
    "# Create the WordIterator class\n",
    "class WordIterator:\n",
    "    # write your code here\n",
    "    # write code for __init__(self, sentences) here\n",
    "    def __init__(self, sentences):\n",
    "        self.sentences = sentences\n",
    "        self.index = 0\n",
    "        self.index_word = 0\n",
    "        if self.sentences: # if the list is not empty\n",
    "            self.words = self.sentences[0].split() # convert sentence at element one into a list of words\n",
    "        else:\n",
    "            self.words = [] # create empty list        \n",
    "\n",
    "    # write code for __iter__(self) here\n",
    "    def __iter__(self):\n",
    "        return self\n",
    "    # write code for __next__(self) here\n",
    "    def __next__(self):       \n",
    "        if self.index_word < len(self.words): # iterate through words as long as list is not empty\n",
    "            tmp_word = self.words[self.index_word]\n",
    "            self.index_word += 1\n",
    "            return tmp_word            \n",
    "        else: \n",
    "            self.index += 1 \n",
    "            if self.index >= len(self.sentences): # check if at the end of sequence\n",
    "                raise StopIteration\n",
    "            self.words = self.sentences[self.index].split() # if words in the above if statement is empty, move to next sentence element\n",
    "            self.index_word = 0\n",
    "            return self.__next__()\n",
    "        \n",
    "        \n",
    "# Example list of sentences\n",
    "sentences_list = [\"Hello, how are you?\", \"I hope you are doing well.\"]\n",
    "\n",
    "\n",
    "# Creating a WordIterator\n",
    "word_iterator = WordIterator(sentences_list)\n",
    "\n",
    "\n",
    "# Iterating over the words\n",
    "for word in word_iterator:\n",
    "    print(word)"
   ]
  }
 ],
 "metadata": {
  "kernelspec": {
   "display_name": "Python 3",
   "language": "python",
   "name": "python3"
  },
  "language_info": {
   "codemirror_mode": {
    "name": "ipython",
    "version": 3
   },
   "file_extension": ".py",
   "mimetype": "text/x-python",
   "name": "python",
   "nbconvert_exporter": "python",
   "pygments_lexer": "ipython3",
   "version": "3.12.0"
  }
 },
 "nbformat": 4,
 "nbformat_minor": 5
}
