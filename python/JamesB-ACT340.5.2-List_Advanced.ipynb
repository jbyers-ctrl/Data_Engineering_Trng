{
 "cells": [
  {
   "cell_type": "markdown",
   "metadata": {},
   "source": [
    "## Problem 1\n",
    "- Using the list below, use a Class method to add the string \"skirt\" to the end of the list."
   ]
  },
  {
   "cell_type": "code",
   "execution_count": 1,
   "metadata": {},
   "outputs": [
    {
     "data": {
      "text/plain": [
       "['socks', 'pants', 'shirt', 'polo', 'skirt']"
      ]
     },
     "execution_count": 1,
     "metadata": {},
     "output_type": "execute_result"
    }
   ],
   "source": [
    "clothing= ['socks', 'pants', 'shirt', 'polo']\n",
    "\n",
    "clothing.append(\"skirt\")\n",
    "clothing"
   ]
  },
  {
   "cell_type": "markdown",
   "metadata": {},
   "source": [
    "## Problem 2\n",
    "- Using the same list as above, add a list to the 2nd index that includes the following strings:\n",
    "    - 'suit jacket', 'suit pants', 'tie', 'button down'"
   ]
  },
  {
   "cell_type": "code",
   "execution_count": null,
   "metadata": {},
   "outputs": [
    {
     "data": {
      "text/plain": [
       "['socks',\n",
       " 'pants',\n",
       " ['suit jacket', 'suit pants', 'tie', 'button down'],\n",
       " 'shirt',\n",
       " 'polo',\n",
       " 'skirt']"
      ]
     },
     "execution_count": 2,
     "metadata": {},
     "output_type": "execute_result"
    }
   ],
   "source": [
    "clothing.insert(2, ['suit jacket', 'suit pants', 'tie', 'button down'])\n",
    "clothing"
   ]
  },
  {
   "cell_type": "markdown",
   "metadata": {},
   "source": [
    "## Problem 3\n",
    "- Use the list below and use a Class method to get the total number of times the integer 14 appears in the list."
   ]
  },
  {
   "cell_type": "code",
   "execution_count": null,
   "metadata": {},
   "outputs": [
    {
     "name": "stdout",
     "output_type": "stream",
     "text": [
      "4\n"
     ]
    }
   ],
   "source": [
    "nums= [2, 150, 14, 36, 78, 81, 14, 1000, 54, 14, 14]\n",
    "print(nums.count(14))"
   ]
  },
  {
   "cell_type": "markdown",
   "metadata": {},
   "source": [
    "## Problem 4\n",
    "- Use the same list as above\n",
    "- Use a built-in function to find the total of all the numbers in the list."
   ]
  },
  {
   "cell_type": "code",
   "execution_count": 4,
   "metadata": {},
   "outputs": [
    {
     "data": {
      "text/plain": [
       "1457"
      ]
     },
     "execution_count": 4,
     "metadata": {},
     "output_type": "execute_result"
    }
   ],
   "source": [
    "total = sum(nums)\n",
    "total"
   ]
  },
  {
   "cell_type": "markdown",
   "metadata": {},
   "source": [
    "## Problem 5\n",
    "- Use the same list as above\n",
    "- Slice the list so that it is reversed without using the .reverse() method"
   ]
  },
  {
   "cell_type": "code",
   "execution_count": 5,
   "metadata": {},
   "outputs": [
    {
     "data": {
      "text/plain": [
       "[14, 14, 54, 1000, 14, 81, 78, 36, 14, 150, 2]"
      ]
     },
     "execution_count": 5,
     "metadata": {},
     "output_type": "execute_result"
    }
   ],
   "source": [
    "nums_reversed = nums[::-1]\n",
    "nums_reversed"
   ]
  },
  {
   "cell_type": "markdown",
   "metadata": {},
   "source": [
    "## Problem 6\n",
    "- Use the list below.\n",
    "- Slice the list so only the last two elements are included in the slice."
   ]
  },
  {
   "cell_type": "code",
   "execution_count": null,
   "metadata": {},
   "outputs": [
    {
     "name": "stdout",
     "output_type": "stream",
     "text": [
      "[4, 5]\n",
      "[4, 5]\n"
     ]
    }
   ],
   "source": [
    "one_to_five= [1, 2, 3, 4, 5]\n",
    "slice_result = one_to_five[3:]\n",
    "\n",
    "# If it is a long list or you don't know how long the list is\n",
    "slice_result2 = one_to_five[-2:]\n",
    "print(slice_result)\n",
    "print(slice_result2)"
   ]
  },
  {
   "cell_type": "markdown",
   "metadata": {},
   "source": [
    "## Problem 7\n",
    "- Use the list below\n",
    "- Write a for loop so that every item in the list is printed"
   ]
  },
  {
   "cell_type": "code",
   "execution_count": 9,
   "metadata": {},
   "outputs": [
    {
     "name": "stdout",
     "output_type": "stream",
     "text": [
      "koala\n",
      "cat\n",
      "fox\n",
      "panda\n",
      "chipmunk\n",
      "sloth\n"
     ]
    }
   ],
   "source": [
    "animals= [\"koala\", \"cat\", \"fox\", \"panda\", \"chipmunk\", \"sloth\"]\n",
    "\n",
    "for animal in animals:\n",
    "    print(animal)"
   ]
  },
  {
   "cell_type": "markdown",
   "metadata": {},
   "source": [
    "## Problem 8\n",
    "- Use the list below\n",
    "- Create a function that accepts a list as an argument\n",
    "- Check if the data type at each index is a list\n",
    "- If it is a list, check the length of the list. If it is greater than 3, add the second element to a new list.\n",
    "- Return the new list"
   ]
  },
  {
   "cell_type": "code",
   "execution_count": null,
   "metadata": {},
   "outputs": [
    {
     "name": "stdout",
     "output_type": "stream",
     "text": [
      "['you', 'win']\n"
     ]
    }
   ],
   "source": [
    "random_things= ['hello', ['breakfast', 'you', 'pencil', 2], 22, ['burrito', 'taco'],\n",
    "                [22, 'win', 33, [5], 'laptop']]\n",
    "\n",
    "def accept_list(lst):\n",
    "    new_list = []\n",
    "    for item in lst:\n",
    "        # Check if 'item' is a list\n",
    "        if isinstance(item, list):\n",
    "            if len(item) > 3:\n",
    "                new_list.append(item[1])\n",
    "    return new_list\n",
    "\n",
    "\n",
    "print(accept_list(random_things))"
   ]
  },
  {
   "cell_type": "markdown",
   "metadata": {},
   "source": [
    "## Problem 9\n",
    "\n",
    "- Use the list below\n",
    "- Create a new list\n",
    "- Use a for loop and the append() method to append each item with a Dr. prefix to the new list."
   ]
  },
  {
   "cell_type": "code",
   "execution_count": 18,
   "metadata": {},
   "outputs": [
    {
     "data": {
      "text/plain": [
       "['Dr. Dre', 'Dr. Seuss', 'Dr. Who', 'Dr. McCoy']"
      ]
     },
     "execution_count": 18,
     "metadata": {},
     "output_type": "execute_result"
    }
   ],
   "source": [
    "names = ['Dre', 'Seuss', 'Who', 'McCoy']\n",
    "\n",
    "Docs = []\n",
    "for name in names:\n",
    "    Docs.append(f\"Dr. {name}\")\n",
    "Docs"
   ]
  },
  {
   "cell_type": "markdown",
   "metadata": {},
   "source": [
    "## Problem 10\n",
    "\n",
    "- Use the list below\n",
    "- Use a while loop, iterate through the list and if there is an integer 100, print a message that says what index the 100 is at\n",
    "- Example: \"There is a 100 at index no: 5\""
   ]
  },
  {
   "cell_type": "code",
   "execution_count": 21,
   "metadata": {},
   "outputs": [
    {
     "name": "stdout",
     "output_type": "stream",
     "text": [
      "There is a 100 at index no: 7\n"
     ]
    }
   ],
   "source": [
    "num2= [10, 99, 85, 76, 43, 2, 77, 100, 13, 12, 42, 99, -1, -100]\n",
    "\n",
    "# num2_len = len(num2)\n",
    "i = 0\n",
    "while i < len(num2):\n",
    "    for idx, item in enumerate(num2):\n",
    "        if item == 100:\n",
    "            print(f\"There is a 100 at index no: {idx}\")\n",
    "        i += 1\n"
   ]
  },
  {
   "cell_type": "markdown",
   "metadata": {},
   "source": [
    "## Problem 11\n",
    "\n",
    "- Use the list below\n",
    "- Create a new list\n",
    "- Use a for loop or a whole loop to iterate through the list and append all the elements in the old list, to the new list UNLESS the element is an empty string"
   ]
  },
  {
   "cell_type": "code",
   "execution_count": 22,
   "metadata": {},
   "outputs": [
    {
     "name": "stdout",
     "output_type": "stream",
     "text": [
      "[\"McDonald's\", \"Wendy's\", 'Burger King', 'Taco Bell']\n"
     ]
    }
   ],
   "source": [
    "list1= [\"McDonald's\", \"Wendy's\", \"\", \"Burger King\", \"\", \"Taco Bell\"]\n",
    "\n",
    "another_list = []\n",
    "for item in list1:\n",
    "    if item == \"\":\n",
    "        continue\n",
    "    else:\n",
    "        another_list.append(item)\n",
    "print(another_list)"
   ]
  }
 ],
 "metadata": {
  "kernelspec": {
   "display_name": "Python 3",
   "language": "python",
   "name": "python3"
  },
  "language_info": {
   "codemirror_mode": {
    "name": "ipython",
    "version": 3
   },
   "file_extension": ".py",
   "mimetype": "text/x-python",
   "name": "python",
   "nbconvert_exporter": "python",
   "pygments_lexer": "ipython3",
   "version": "3.12.0"
  }
 },
 "nbformat": 4,
 "nbformat_minor": 2
}
