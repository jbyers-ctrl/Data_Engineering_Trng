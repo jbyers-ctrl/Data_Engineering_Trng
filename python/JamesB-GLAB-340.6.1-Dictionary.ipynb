{
 "cells": [
  {
   "cell_type": "markdown",
   "metadata": {},
   "source": [
    "## Example 1"
   ]
  },
  {
   "cell_type": "code",
   "execution_count": null,
   "metadata": {},
   "outputs": [
    {
     "name": "stdout",
     "output_type": "stream",
     "text": [
      "The IP address of the Domain Name Server server is 8.8.8.8\n",
      "The IP address of the Gateway Server server is 192.168.1.1\n",
      "The IP address of the Print Server server is 192.168.1.33\n",
      "The IP address of the Mail Server server is 192.168.1.190\n",
      "\n"
     ]
    }
   ],
   "source": [
    "# The network() function accepts a dictionary \"servers\" as a parameter.\n",
    "def network(servers):\n",
    "\n",
    "    # A string variable is initialized to hold the \"result\".\n",
    "    result = \"\"\n",
    "\n",
    "    # For each \"hostname\" (key) and \"IP address\" (value) in the \"server\" dictionary items...\n",
    "    for hostname, IP_address in servers.items():\n",
    "\n",
    "        # A string identifying the hostname and IP address for each server is added\n",
    "        # to the \"result\" variable. The string .format() function and is used to plug\n",
    "        # the hostname and IP_address variables into the designated {} placeholders\n",
    "        # within the string.\n",
    "        # result += \"The IP address of the {} server is {}\".format(hostname, IP_address) + \"\\n\"\n",
    "        result += f\"The IP address of the {hostname} server is {IP_address}\\n\"\n",
    "\n",
    "    # Return the \"result\" variable string.\n",
    "    return result\n",
    "\n",
    "# Call the \"network\" function with the dictionary.\n",
    "print(network({\"Domain Name Server\":\"8.8.8.8\", \"Gateway Server\":\"192.168.1.1\", \"Print Server\":\"192.168.1.33\", \"Mail Server\":\"192.168.1.190\"}))\n",
    "\n",
    "# Should print:\n",
    "# The IP address of the Domain Name Server server is 8.8.8.8\n",
    "# The IP address of the Gateway Server server is 192.168.1.1\n",
    "# The IP address of the Print Server server is 192.168.1.33\n",
    "# The IP address of the Mail Server server is 192.168.1.190"
   ]
  },
  {
   "cell_type": "code",
   "execution_count": 5,
   "metadata": {},
   "outputs": [
    {
     "name": "stdout",
     "output_type": "stream",
     "text": [
      "The IP address of the google-public-dns-a.google.com server is 8.8.8.8\n",
      "The IP address of the google-public-dns-b.google.com server is 8.8.4.4\n",
      "The IP address of the cloudflare-dns.com server is 1.1.1.1\n",
      "The IP address of the cloudflare-dns-alt.com server is 1.0.0.1\n",
      "The IP address of the dns.quad9.net server is 9.9.9.9\n",
      "The IP address of the dns1.quad9.net server is 149.112.112.112\n",
      "The IP address of the dns.adguard.com server is 94.140.14.14\n",
      "The IP address of the dns-family.adguard.com server is 94.140.15.15\n",
      "The IP address of the opendns.com server is 208.67.222.222\n",
      "The IP address of the resolver1.opendns.com server is 208.67.220.220\n",
      "\n"
     ]
    }
   ],
   "source": [
    "def free_networks(servers):\n",
    "\n",
    "    # A string variable is initialized to hold the \"result\".\n",
    "    result = \"\"\n",
    "\n",
    "    # For each \"hostname\" (key) and \"IP address\" (value) in the \"server\" dictionary items...\n",
    "    for hostname, IP_address in servers.items():        \n",
    "        result += f\"The IP address of the {hostname} server is {IP_address}\\n\"\n",
    "\n",
    "    # Return the \"result\" variable string.\n",
    "    return result\n",
    "\n",
    "# Call the \"free_networks\" function with the dictionary.\n",
    "print(free_networks({\"google-public-dns-a.google.com\": \"8.8.8.8\",\n",
    "    \"google-public-dns-b.google.com\": \"8.8.4.4\",\n",
    "    \"cloudflare-dns.com\": \"1.1.1.1\",\n",
    "    \"cloudflare-dns-alt.com\": \"1.0.0.1\",\n",
    "    \"dns.quad9.net\": \"9.9.9.9\",\n",
    "    \"dns1.quad9.net\": \"149.112.112.112\",\n",
    "    \"dns.adguard.com\": \"94.140.14.14\",\n",
    "    \"dns-family.adguard.com\": \"94.140.15.15\",\n",
    "    \"opendns.com\": \"208.67.222.222\",\n",
    "    \"resolver1.opendns.com\": \"208.67.220.220\",}))"
   ]
  }
 ],
 "metadata": {
  "kernelspec": {
   "display_name": "Python 3",
   "language": "python",
   "name": "python3"
  },
  "language_info": {
   "codemirror_mode": {
    "name": "ipython",
    "version": 3
   },
   "file_extension": ".py",
   "mimetype": "text/x-python",
   "name": "python",
   "nbconvert_exporter": "python",
   "pygments_lexer": "ipython3",
   "version": "3.12.0"
  }
 },
 "nbformat": 4,
 "nbformat_minor": 2
}
