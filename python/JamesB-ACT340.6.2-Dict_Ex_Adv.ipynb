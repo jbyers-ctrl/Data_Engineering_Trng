{
 "cells": [
  {
   "cell_type": "markdown",
   "metadata": {},
   "source": [
    "# Dictionary Practice Exercises-Advanced"
   ]
  },
  {
   "cell_type": "markdown",
   "metadata": {},
   "source": [
    "## Problem 1\n",
    "\n",
    "- Add the following key/value pair to the dictionary below. \"oceans\": [\"Pacific\", \"Atlantic\", \"Indian\", \"Arctic\"]"
   ]
  },
  {
   "cell_type": "code",
   "execution_count": null,
   "metadata": {},
   "outputs": [
    {
     "data": {
      "text/plain": [
       "{'continets': ['North America',\n",
       "  'South America',\n",
       "  'Africa',\n",
       "  'Antarctica',\n",
       "  'Australia',\n",
       "  'Asia',\n",
       "  'Europe'],\n",
       " 'oceans': ['Pacific', 'Atlantic', 'Indian', 'Arctic'],\n",
       " 'states': ['Georgia', 'Florida', 'Arizona', 'Texas']}"
      ]
     },
     "execution_count": 3,
     "metadata": {},
     "output_type": "execute_result"
    }
   ],
   "source": [
    "geography = {\"continets\": [\"North America\", \"South America\", \"Africa\", \"Antarctica\", \"Australia\", \"Asia\", \"Europe\"]}\n",
    "geography.update(oceans = [\"Pacific\", \"Atlantic\", \"Indian\", \"Arctic\"])\n",
    "# Or\n",
    "geography['states'] = [\"Georgia\", \"Florida\", \"Arizona\", \"Texas\"]\n",
    "\n",
    "geography"
   ]
  },
  {
   "cell_type": "markdown",
   "metadata": {},
   "source": [
    "## Problem 2\n",
    "\n",
    "- Use the Dictionary below\n",
    "- Change the value for the height key to 72 inches"
   ]
  },
  {
   "cell_type": "code",
   "execution_count": 4,
   "metadata": {},
   "outputs": [
    {
     "data": {
      "text/plain": [
       "{'name': 'John Doe', 'age': 25, 'height': 72, 'symptoms': 'cough'}"
      ]
     },
     "execution_count": 4,
     "metadata": {},
     "output_type": "execute_result"
    }
   ],
   "source": [
    "patient= {\"name\": \"John Doe\", \"age\": 25, \"height\": 64, \"symptoms\": \"cough\" }\n",
    "patient['height'] = 72\n",
    "patient"
   ]
  },
  {
   "cell_type": "markdown",
   "metadata": {},
   "source": [
    "## Problem 3\n",
    "\n",
    "- Use the same dictionary as above\n",
    "- Use a Class method to generate a list of tuples that consists of each key:value pair"
   ]
  },
  {
   "cell_type": "code",
   "execution_count": 5,
   "metadata": {},
   "outputs": [
    {
     "data": {
      "text/plain": [
       "dict_items([('name', 'John Doe'), ('age', 25), ('height', 72), ('symptoms', 'cough')])"
      ]
     },
     "execution_count": 5,
     "metadata": {},
     "output_type": "execute_result"
    }
   ],
   "source": [
    "patient_list = patient.items()\n",
    "patient_list"
   ]
  },
  {
   "cell_type": "markdown",
   "metadata": {},
   "source": [
    "## Problem 4\n",
    "\n",
    "- Use the same dictionary as above\n",
    "- Use a Class method to print the value of \"name'"
   ]
  },
  {
   "cell_type": "code",
   "execution_count": 9,
   "metadata": {},
   "outputs": [
    {
     "name": "stdout",
     "output_type": "stream",
     "text": [
      "John Doe\n"
     ]
    }
   ],
   "source": [
    "print(patient.get('name'))"
   ]
  },
  {
   "cell_type": "markdown",
   "metadata": {},
   "source": [
    "## Problem 5\n",
    "\n",
    "- Use the same dictionary as above\n",
    "- Use a Class method to look for the key \"weight\", and supply a default arguement of 150 if the value is not found"
   ]
  },
  {
   "cell_type": "code",
   "execution_count": 10,
   "metadata": {},
   "outputs": [
    {
     "name": "stdout",
     "output_type": "stream",
     "text": [
      "150\n"
     ]
    }
   ],
   "source": [
    "print(patient.get('weight', 150))"
   ]
  },
  {
   "cell_type": "markdown",
   "metadata": {},
   "source": [
    "## Problem 6\n",
    "\n",
    "- Use the same dictionary as above\n",
    "- Use a Class method to remove everything from the dictionary"
   ]
  },
  {
   "cell_type": "code",
   "execution_count": 11,
   "metadata": {},
   "outputs": [
    {
     "data": {
      "text/plain": [
       "{}"
      ]
     },
     "execution_count": 11,
     "metadata": {},
     "output_type": "execute_result"
    }
   ],
   "source": [
    "patient.clear()\n",
    "patient"
   ]
  },
  {
   "cell_type": "markdown",
   "metadata": {},
   "source": [
    "## Problem 7\n",
    "\n",
    "- Use the dictionary below\n",
    "- Use a for loop to move through the dictionary.\n",
    "- If the value is above 2000, add the value to a new list minus 500\n",
    "- Example: If the value is 2500, 2000 would be added to the new list"
   ]
  },
  {
   "cell_type": "code",
   "execution_count": 12,
   "metadata": {},
   "outputs": [
    {
     "name": "stdout",
     "output_type": "stream",
     "text": [
      "[2700, 51500]\n"
     ]
    }
   ],
   "source": [
    "stock_qty= {\"cookies\": 3200, \"bread\": 500, \"crackers\": 52000, \"chips\": 2000}\n",
    "\n",
    "new_list =[]\n",
    "\n",
    "for k, v in stock_qty.items():\n",
    "    if v > 2000:\n",
    "        v -= 500\n",
    "        new_list.append(v)\n",
    "print(new_list)"
   ]
  },
  {
   "cell_type": "markdown",
   "metadata": {},
   "source": [
    "## *Problem 8*\n",
    "\n",
    "Use the list I did below\n",
    "\n",
    "- Loop through the list\n",
    "\n",
    "- Create a dictionary to keep track of how many times a number appears in a list\n",
    "\n",
    "- Print the final dictionary\n",
    "\n",
    "- Things to consider:\n",
    "\n",
    "    - How to check if an integer already exists in the new dictionary\n",
    "    - What is the first value when the key gets added to the dictionary?\n",
    "    - How to increase the value of each key on each iteration of the loop?"
   ]
  },
  {
   "cell_type": "code",
   "execution_count": 13,
   "metadata": {},
   "outputs": [
    {
     "name": "stdout",
     "output_type": "stream",
     "text": [
      "{10: 2, 9: 3, 88: 1, 20: 2, 22: 1, 101: 1, 68: 1, 108: 1, 33: 1, 53: 1}\n"
     ]
    }
   ],
   "source": [
    "num_list= [10, 9, 88, 20, 9, 20, 22, 101, 68, 10, 108, 33, 9, 53]\n",
    "\n",
    "num_freq = {}\n",
    "\n",
    "for num in num_list:\n",
    "    if num in num_freq:\n",
    "        num_freq[num] += 1\n",
    "    else:\n",
    "        num_freq[num] = 1\n",
    "print(num_freq)"
   ]
  },
  {
   "cell_type": "code",
   "execution_count": null,
   "metadata": {},
   "outputs": [],
   "source": []
  }
 ],
 "metadata": {
  "kernelspec": {
   "display_name": "Python 3",
   "language": "python",
   "name": "python3"
  },
  "language_info": {
   "codemirror_mode": {
    "name": "ipython",
    "version": 3
   },
   "file_extension": ".py",
   "mimetype": "text/x-python",
   "name": "python",
   "nbconvert_exporter": "python",
   "pygments_lexer": "ipython3",
   "version": "3.12.0"
  }
 },
 "nbformat": 4,
 "nbformat_minor": 2
}
