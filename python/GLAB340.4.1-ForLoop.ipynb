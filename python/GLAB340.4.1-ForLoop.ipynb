{
 "cells": [
  {
   "cell_type": "markdown",
   "metadata": {},
   "source": [
    "## Example 1: Display Sum of n Natural Numbers\n",
    "- In the following program, the user will be prompted to enter a positive integer number, and the program will find the sum of the “n” natural numbers entered by the user."
   ]
  },
  {
   "cell_type": "code",
   "execution_count": null,
   "metadata": {},
   "outputs": [
    {
     "name": "stdout",
     "output_type": "stream",
     "text": [
      "The sum of the first 3 natural numbers is: 6\n"
     ]
    }
   ],
   "source": [
    "# Input: Take the value of 'n' from the user\n",
    "n = int(input(\"Enter a positive integer (n): \"))\n",
    "\n",
    "# Initialize a variable to store the sum\n",
    "sum_of_natural_numbers = 0\n",
    "\n",
    "# Calculate the sum of the first 'n' natural numbers\n",
    "for i in range(1, n + 1):\n",
    "    sum_of_natural_numbers += i\n",
    "\n",
    "# Display the sum\n",
    "print(f\"The sum of the first {n} natural numbers is: {sum_of_natural_numbers}\")"
   ]
  },
  {
   "cell_type": "code",
   "execution_count": 12,
   "metadata": {},
   "outputs": [
    {
     "name": "stdout",
     "output_type": "stream",
     "text": [
      "The total is: 100\n"
     ]
    }
   ],
   "source": [
    "# Input from the user\n",
    "result = int(input(\"Enter a positive number: \"))\n",
    "\n",
    "# Initialize a variable to store accumulation\n",
    "total = 0\n",
    "\n",
    "# Calculate the sum of numbers stepping every 2 numbers\n",
    "for i in range(1, result + 1, 2):\n",
    "    total += i\n",
    "\n",
    "# Display the total\n",
    "print(f\"The total is: {total}\")"
   ]
  },
  {
   "cell_type": "markdown",
   "metadata": {},
   "source": [
    "## Example 2: Palindrome \n",
    "- In this example, we are going to see whether a number is a palindrome. \n",
    "- A for loop is used in this case. A palindrome number, when reversed, represents the same number."
   ]
  },
  {
   "cell_type": "code",
   "execution_count": 17,
   "metadata": {},
   "outputs": [
    {
     "name": "stdout",
     "output_type": "stream",
     "text": [
      "55 is a palindrome number.\n"
     ]
    }
   ],
   "source": [
    "# Input: Take a number from the user\n",
    "number = int(input(\"Enter a number: \"))\n",
    "\n",
    "\n",
    "# Convert the number to a string for easier comparison\n",
    "num_str = str(number)\n",
    "\n",
    "\n",
    "# Reverse the string\n",
    "reversed_str = num_str[::-1]\n",
    "\n",
    "\n",
    "# Check if the original number and its reverse are the same\n",
    "if num_str == reversed_str:\n",
    "    print(f\"{number} is a palindrome number.\")\n",
    "else:\n",
    "    print(f\"{number} is not a palindrome number.\")"
   ]
  },
  {
   "cell_type": "markdown",
   "metadata": {},
   "source": [
    "## Example 3: Pattern\n",
    "In this example, construct the following pattern using a nested for loop.\n",
    "- #*\n",
    "- #* *\n",
    "- #* * *\n",
    "- #* * * *\n",
    "- #* * * * *\n",
    "- #* * * *\n",
    "- #* * *\n",
    "- #* *\n",
    "- #*\n"
   ]
  },
  {
   "cell_type": "code",
   "execution_count": 21,
   "metadata": {},
   "outputs": [
    {
     "name": "stdout",
     "output_type": "stream",
     "text": [
      "\n",
      "* \n",
      "* * \n",
      "* * * \n",
      "* * * * \n",
      "* * * * * \n",
      "* * * * \n",
      "* * * \n",
      "* * \n",
      "* \n"
     ]
    }
   ],
   "source": [
    "n=5\n",
    "for i in range(n):\n",
    "    for j in range(i):\n",
    "        print ('* ', end=\"\")\n",
    "    print('')\n",
    "\n",
    "\n",
    "for i in range(n,0,-1):\n",
    "    for j in range(i):\n",
    "        print('* ', end=\"\")\n",
    "    print('')"
   ]
  },
  {
   "cell_type": "code",
   "execution_count": null,
   "metadata": {},
   "outputs": [
    {
     "name": "stdout",
     "output_type": "stream",
     "text": [
      "1 2 3 \n",
      "4 5 6 \n",
      "7 8 9 \n"
     ]
    }
   ],
   "source": [
    "matrix = [[1, 2, 3], [4, 5, 6], [7, 8, 9]]\n",
    "\n",
    "# Accessing elements using nested loops\n",
    "for i in range(len(matrix)): # Iterate through rows\n",
    "    for j in range(len(matrix[0])): # Iterate through columns\n",
    "        print(matrix[i][j], end=\" \") # Print element at row i, column j        \n",
    "    print() # New line after each row"
   ]
  },
  {
   "cell_type": "markdown",
   "metadata": {},
   "source": [
    "## Example 4: Pyramid Pattern\n",
    "- In this example, construct the pyramid  pattern using a nested for loop.\n"
   ]
  },
  {
   "cell_type": "code",
   "execution_count": null,
   "metadata": {},
   "outputs": [
    {
     "name": "stdout",
     "output_type": "stream",
     "text": [
      "                   *\n",
      "                  ***\n",
      "                 *****\n",
      "                *******\n",
      "               *********\n",
      "              ***********\n",
      "             *************\n",
      "            ***************\n",
      "           *****************\n",
      "          *******************\n",
      "         *********************\n",
      "        ***********************\n",
      "       *************************\n",
      "      ***************************\n",
      "     *****************************\n",
      "    *******************************\n",
      "   *********************************\n",
      "  ***********************************\n",
      " *************************************\n",
      "***************************************\n"
     ]
    }
   ],
   "source": [
    "# Input: Take the number of rows for the pyramid from the user\n",
    "n = int(input(\"Enter the number of rows for the pyramid: \"))\n",
    "\n",
    "\n",
    "# Outer loop for the number of rows\n",
    "for i in range(1, n + 1):\n",
    "    # Print leading spaces for formatting (columns)\n",
    "    for j in range(n - i):\n",
    "        print(\" \", end=\"\")\n",
    "    # Print asterisks for the current row (columns)\n",
    "    for k in range(2 * i - 1): # multiply the row number (i) by 2, subtract 1: Ex. For row 1, (2 * 1 - 1 = 1 star) | For row 2, (2 * 2 - 1 = 3 stars)\n",
    "        print(\"*\", end=\"\")\n",
    "    # Move to the next line for the next row\n",
    "    print()"
   ]
  }
 ],
 "metadata": {
  "kernelspec": {
   "display_name": "Python 3",
   "language": "python",
   "name": "python3"
  },
  "language_info": {
   "codemirror_mode": {
    "name": "ipython",
    "version": 3
   },
   "file_extension": ".py",
   "mimetype": "text/x-python",
   "name": "python",
   "nbconvert_exporter": "python",
   "pygments_lexer": "ipython3",
   "version": "3.12.0"
  }
 },
 "nbformat": 4,
 "nbformat_minor": 2
}
