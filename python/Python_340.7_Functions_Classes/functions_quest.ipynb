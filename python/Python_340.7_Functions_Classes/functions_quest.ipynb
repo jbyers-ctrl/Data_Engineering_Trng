{
 "cells": [
  {
   "cell_type": "code",
   "execution_count": null,
   "metadata": {},
   "outputs": [],
   "source": [
    "# The Mighty Calculator\n",
    "def add_numbers(a, b):\n",
    "    return a + b\n",
    "\n",
    "def subtract_numbers(a, b):\n",
    "    return a - b\n",
    "\n",
    "def multiply_numbers(a, b):\n",
    "    return a * b\n",
    "\n",
    "def divide_numbers(a, b):\n",
    "    if b != 0:\n",
    "        return a / b\n",
    "    else:\n",
    "        return \"Error: Division by zero!\"\n",
    "\n",
    "result = add_numbers(5, 3)\n",
    "print(\"The sum is:\", result)\n",
    "\n",
    "result = subtract_numbers(10, 4)\n",
    "print(\"The difference is:\", result)\n",
    "\n",
    "result = multiply_numbers(6, 2)\n",
    "print(\"The product is:\", result)\n",
    "\n",
    "result = divide_numbers(15, 0)\n",
    "print(\"The quotient is:\", result)"
   ]
  },
  {
   "cell_type": "markdown",
   "metadata": {},
   "source": [
    "## The Quest for Fibonacci: \n",
    "- Write a iterative function to calculate the Fibonacci sequence. Prompt the user to enter a number and display the corresponding Fibonacci number."
   ]
  },
  {
   "cell_type": "code",
   "execution_count": null,
   "metadata": {},
   "outputs": [
    {
     "name": "stdout",
     "output_type": "stream",
     "text": [
      "5702887\n"
     ]
    }
   ],
   "source": [
    "# Iterative Fibonacci Sequence \n",
    "# is a sequence in which each element is the sum of the two elements that precede it\n",
    "# Prompt the user to enter a number and display the corresponding Fibonacci number\n",
    "\n",
    "# User input\n",
    "num_input = int(input(\"Enter a number: \"))\n",
    "\n",
    "def fibonacci(n):\n",
    "    # default list to start\n",
    "    num_list = [0, 1]\n",
    "    # use to point to the index before the iterator 'num' in for loop\n",
    "    pointer = 0\n",
    "    # iterate over a range given by user\n",
    "    for num in range(1, n):\n",
    "        # sum of two elements\n",
    "        sum_of_value = num_list[num] + num_list[pointer] \n",
    "        # append the sum of the two elements above to 'num_list'\n",
    "        num_list.append(sum_of_value)\n",
    "        # increment the pointer to keep up with the 'num' iterator/variable\n",
    "        pointer += 1\n",
    "    # return the value of the user's number entered from the 'num_list'\n",
    "    return num_list[n]\n",
    "\n",
    "print(fibonacci(num_input))"
   ]
  },
  {
   "cell_type": "markdown",
   "metadata": {},
   "source": [
    "## The Quest for Fibonacci: \n",
    "- Write a recursive function to calculate the Fibonacci sequence. Prompt the user to enter a number and display the corresponding Fibonacci number."
   ]
  },
  {
   "cell_type": "code",
   "execution_count": null,
   "metadata": {},
   "outputs": [
    {
     "name": "stdout",
     "output_type": "stream",
     "text": [
      "21\n"
     ]
    }
   ],
   "source": [
    "# Recursive Fibonacci Sequence \n",
    "# is a sequence in which each element is the sum of the two elements that precede it\n",
    "# Prompt the user to enter a number and display the corresponding Fibonacci number\n",
    "\n",
    "# User input\n",
    "num_input = int(input(\"Enter a number: \"))\n",
    "\n",
    "def fibonacci(n):\n",
    "    # base case\n",
    "    if n <= 0:\n",
    "        return n\n",
    "    else:\n",
    "        answr = fibonacci(n - 1) + fibonacci(n - 2)\n",
    "        return answr\n",
    "    \n",
    "print(fibonacci(num_input))\n"
   ]
  }
 ],
 "metadata": {
  "kernelspec": {
   "display_name": "Python 3",
   "language": "python",
   "name": "python3"
  },
  "language_info": {
   "codemirror_mode": {
    "name": "ipython",
    "version": 3
   },
   "file_extension": ".py",
   "mimetype": "text/x-python",
   "name": "python",
   "nbconvert_exporter": "python",
   "pygments_lexer": "ipython3",
   "version": "3.12.0"
  }
 },
 "nbformat": 4,
 "nbformat_minor": 2
}
