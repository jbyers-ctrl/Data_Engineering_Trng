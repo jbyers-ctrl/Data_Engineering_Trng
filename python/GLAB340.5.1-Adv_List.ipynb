{
 "cells": [
  {
   "cell_type": "markdown",
   "metadata": {},
   "source": [
    "## Guided Lab 340-5.1 - Advance Example - List\n",
    "### Learning Objective:\n",
    "- By the end of this lab, You will be able to utlize the list[] with functions.\n",
    "\n",
    "### lab Objective:\n",
    "The primary objective of this code is to create a function that combines two lists of years, recent_first and recent_last, and arranges the years in chronological order. The code aims to achieve the following objectives:\n",
    "\n",
    "- Reverse the order of the recent_first list to make it chronological.\n",
    "\n",
    "- Extend the recent_last list by appending the reversed recent_first list to it.\n",
    "\n",
    "- Return the combined list, which is now in chronological order.\n",
    "\n",
    "Provide a clear example of how to call the function and print the combined list, demonstrating its practical usage.\n",
    "\n",
    "### Instructions\n",
    "#### Example One: Using .reverse() and .extend methods\n",
    "- This following function accepts two variables, each containing a list of years. A current \"recent_first\" list contains [2022, 2018, 2011, 2006]. An older \"recent_last\" list contains [1989, 1992, 1997, 2001]. The lists need to be combined with the years in chronological order.\n",
    "\n",
    "- Reverse the order of a list using the .reverse() method.\n",
    "- Combine two lists using the .extend() method."
   ]
  },
  {
   "cell_type": "code",
   "execution_count": 1,
   "metadata": {},
   "outputs": [
    {
     "name": "stdout",
     "output_type": "stream",
     "text": [
      "[1989, 1992, 1997, 2001, 2006, 2011, 2018, 2022]\n"
     ]
    }
   ],
   "source": [
    "def record_profit_years(recent_first, recent_last):\n",
    "    # Reverse the order of the \"recent_first\" list so that it is in chronological order.\n",
    "    recent_first.reverse()\n",
    "\n",
    "    # Extend the \"recent_last\" list by appending the newly reversed \"recent_first\" list.\n",
    "    recent_last.extend(recent_first)\n",
    "\n",
    "    # Return the \"recent_last\", which now contains the two lists combined in chronological order.\n",
    "    return recent_last\n",
    "\n",
    "# Assign the two lists to the two variables to be passed to the record_profit_years() function.\n",
    "recent_first = [2022, 2018, 2011, 2006]\n",
    "recent_last = [1989, 1992, 1997, 2001]\n",
    "\n",
    "# Call the record_profit_years() function and pass the two lists as  parameters.\n",
    "print(record_profit_years(recent_first, recent_last))\n",
    "# Should print [1989, 1992, 1997, 2001, 2006, 2011, 2018, 2022]"
   ]
  },
  {
   "cell_type": "markdown",
   "metadata": {},
   "source": [
    "## Here's a detailed breakdown of the code:\n",
    "- def record_profit_years(recent_first, recent_last): - This line defines a function named record_profit_years that takes two parameters, recent_first and recent_last, which are expected to be lists of years.\n",
    "\n",
    "- recent_first.reverse(): Inside the function, the code reverses the order of the recent_first list using the reverse() method. This step arranges the years in chronological order, from oldest to most recent.\n",
    "\n",
    "- recent_last.extend(recent_first): The code then extends the recent_last list by appending the reversed recent_first list. This combines both lists, ensuring that the years are in chronological order.\n",
    "\n",
    "- return recent_last: Finally, the function returns the combined list, which is now in chronological order.\n",
    "\n",
    "- *recent_first = [2022, 2018, 2011, 2006] and recent_last = [1989, 1992, 1997, 2001]: *These lines assign two lists of years to the recent_first and recent_last variables.\n",
    "\n",
    "- print(record_profit_years(recent_first, recent_last)): The code calls the record_profit_years function, passing the recent_first and recent_last lists as parameters. It then prints the result, which should be the combined list of years in chronological order.\n",
    "\n",
    "This code can be useful in scenarios where data needs to be organized chronologically, such as financial data, historical records, or any other application where time-based ordering is crucial."
   ]
  },
  {
   "cell_type": "markdown",
   "metadata": {},
   "source": [
    "## Additional Example"
   ]
  },
  {
   "cell_type": "code",
   "execution_count": 9,
   "metadata": {},
   "outputs": [
    {
     "name": "stdout",
     "output_type": "stream",
     "text": [
      "[6000, 11000, 18000, 20000, 79000, 89000, 92000, 97000]\n"
     ]
    }
   ],
   "source": [
    "def ytd_financials(financials_a, financials_b):    \n",
    "    # Extend the \"financials_b\" list by appending the newly reversed \"financials_a\" list.\n",
    "    financials_b.extend(financials_a)\n",
    "\n",
    "    # Sort the combined lists.\n",
    "    result = sorted(financials_b)\n",
    "    \n",
    "    # Return the \"financials_b\", which now contains the two lists combined sorted.\n",
    "    return result\n",
    "\n",
    "# Assign the two lists to the two variables to be passed to the ytd_financials() function.\n",
    "financials_a = [20000, 18000, 11000, 6000]\n",
    "financials_b = [89000, 92000, 97000, 79000]\n",
    "\n",
    "# Call the ytd_financials() function and pass the two lists as  parameters.\n",
    "print(ytd_financials(financials_a, financials_b))"
   ]
  }
 ],
 "metadata": {
  "kernelspec": {
   "display_name": "Python 3",
   "language": "python",
   "name": "python3"
  },
  "language_info": {
   "codemirror_mode": {
    "name": "ipython",
    "version": 3
   },
   "file_extension": ".py",
   "mimetype": "text/x-python",
   "name": "python",
   "nbconvert_exporter": "python",
   "pygments_lexer": "ipython3",
   "version": "3.12.0"
  }
 },
 "nbformat": 4,
 "nbformat_minor": 2
}
