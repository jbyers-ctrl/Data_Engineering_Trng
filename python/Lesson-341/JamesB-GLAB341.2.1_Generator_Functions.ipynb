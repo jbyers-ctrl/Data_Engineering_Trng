{
 "cells": [
  {
   "cell_type": "markdown",
   "metadata": {},
   "source": [
    "## Guided Lab - 341.2.1 - Python - Generator Functions\n",
    "- Python - Generator Functions\n",
    "    - Python provides a generator to create your own iterator function. A generator is a special type of function which does not return a single value, instead, it returns an iterator object with a sequence of values. In a generator function, a yield statement is used rather than a return statement. The following is a simple generator function."
   ]
  },
  {
   "cell_type": "code",
   "execution_count": 2,
   "metadata": {},
   "outputs": [
    {
     "name": "stdout",
     "output_type": "stream",
     "text": [
      "First item\n",
      "10\n",
      "Second item\n",
      "20\n",
      "Last item\n",
      "30\n"
     ]
    },
    {
     "ename": "StopIteration",
     "evalue": "",
     "output_type": "error",
     "traceback": [
      "\u001b[31m---------------------------------------------------------------------------\u001b[39m",
      "\u001b[31mStopIteration\u001b[39m                             Traceback (most recent call last)",
      "\u001b[36mCell\u001b[39m\u001b[36m \u001b[39m\u001b[32mIn[2]\u001b[39m\u001b[32m, line 24\u001b[39m\n\u001b[32m     21\u001b[39m val = \u001b[38;5;28mnext\u001b[39m(gen) \u001b[38;5;66;03m#Last item\u001b[39;00m\n\u001b[32m     22\u001b[39m \u001b[38;5;28mprint\u001b[39m(val) \u001b[38;5;66;03m#30\u001b[39;00m\n\u001b[32m---> \u001b[39m\u001b[32m24\u001b[39m val = \u001b[38;5;28;43mnext\u001b[39;49m\u001b[43m(\u001b[49m\u001b[43mgen\u001b[49m\u001b[43m)\u001b[49m \u001b[38;5;66;03m#error (StopIteration)\u001b[39;00m\n",
      "\u001b[31mStopIteration\u001b[39m: "
     ]
    }
   ],
   "source": [
    "def mygenerator():\n",
    "    print('First item')\n",
    "    yield 10\n",
    "\n",
    "    print('Second item')\n",
    "    yield 20\n",
    "\n",
    "    print('Last item')\n",
    "    yield 30\n",
    "    \n",
    "# iterator for 'mygenerator' function\n",
    "gen = mygenerator()\n",
    "#Example: next()\n",
    "val = next(gen) #First item\n",
    "# this will return the value against the yield keyword each time it is called\n",
    "print(val) #10\n",
    "\n",
    "val = next(gen) #Second item\n",
    "print(val) #20\n",
    "\n",
    "val = next(gen) #Last item\n",
    "print(val) #30\n",
    "\n",
    "val = next(gen) #error (StopIteration)"
   ]
  },
  {
   "cell_type": "markdown",
   "metadata": {},
   "source": [
    "The generator function cannot include the return keyword. If you include it, then it will terminate the function. The difference between yield and return is that yield returns a value and pauses the execution while maintaining the internal states, whereas the return statement returns a value and terminates the execution of the function."
   ]
  },
  {
   "cell_type": "code",
   "execution_count": null,
   "metadata": {},
   "outputs": [
    {
     "name": "stdout",
     "output_type": "stream",
     "text": [
      "First item\n",
      "Second item\n",
      "40\n"
     ]
    },
    {
     "ename": "StopIteration",
     "evalue": "",
     "output_type": "error",
     "traceback": [
      "\u001b[31m---------------------------------------------------------------------------\u001b[39m",
      "\u001b[31mStopIteration\u001b[39m                             Traceback (most recent call last)",
      "\u001b[36mCell\u001b[39m\u001b[36m \u001b[39m\u001b[32mIn[13]\u001b[39m\u001b[32m, line 22\u001b[39m\n\u001b[32m     20\u001b[39m val = \u001b[38;5;28mnext\u001b[39m(gen) \u001b[38;5;66;03m#Second item\u001b[39;00m\n\u001b[32m     21\u001b[39m \u001b[38;5;28mprint\u001b[39m(val) \u001b[38;5;66;03m#10\u001b[39;00m\n\u001b[32m---> \u001b[39m\u001b[32m22\u001b[39m val = \u001b[38;5;28;43mnext\u001b[39;49m\u001b[43m(\u001b[49m\u001b[43mgen\u001b[49m\u001b[43m)\u001b[49m \u001b[38;5;66;03m#error\u001b[39;00m\n",
      "\u001b[31mStopIteration\u001b[39m: "
     ]
    }
   ],
   "source": [
    "#Example: return in Generator Function\n",
    "def mygenerator():\n",
    "    print('First item')\n",
    "    yield 10\n",
    "\n",
    "\n",
    "    print('Second item')\n",
    "    yield 20 * 2  # this do computer 20 * 2\n",
    "    \n",
    "    return  # terminates the function\n",
    "\n",
    "    print('Last item')\n",
    "    yield 30\n",
    "\n",
    "\n",
    "#Example: Generator Function\n",
    "gen = mygenerator()\n",
    "gen = mygenerator()\n",
    "val = next(gen) #First item\n",
    "val = next(gen) #Second item\n",
    "print(val) #10\n",
    "val = next(gen) #error"
   ]
  },
  {
   "cell_type": "code",
   "execution_count": 5,
   "metadata": {},
   "outputs": [
    {
     "name": "stdout",
     "output_type": "stream",
     "text": [
      "1\n",
      "2\n",
      "3\n",
      "1\n",
      "2\n",
      "3\n"
     ]
    }
   ],
   "source": [
    "def simple_generator():\n",
    "    yield 1\n",
    "    yield 2\n",
    "    yield 3\n",
    "\n",
    "# Create a generator object\n",
    "my_generator = simple_generator()\n",
    "\n",
    "# Iterate over the generator\n",
    "for value in my_generator:\n",
    "    print(value)\n",
    "# Output:\n",
    "# 1\n",
    "# 2\n",
    "# 3\n",
    "\n",
    "# Using next()\n",
    "my_generator = simple_generator()\n",
    "print(next(my_generator))  # Output: 1\n",
    "print(next(my_generator))  # Output: 2\n",
    "print(next(my_generator))  # Output: 3"
   ]
  },
  {
   "cell_type": "code",
   "execution_count": null,
   "metadata": {},
   "outputs": [
    {
     "name": "stdout",
     "output_type": "stream",
     "text": [
      "499999500000\n",
      "999999\n",
      "0\n",
      "[0, 2, 4, 6, 8]\n"
     ]
    }
   ],
   "source": [
    "# a generator that yields items instead of returning a list\n",
    "def firstn(n):\n",
    "    num = 0\n",
    "    while num < n:\n",
    "        yield num\n",
    "        num += 1\n",
    "\n",
    "sum_of_first_n = sum(firstn(1000000)) # Output: 499999500000\n",
    "sum_of_first_n2 = max(firstn(1000000)) # Output: 999999\n",
    "sum_of_first_n3 = min(firstn(1000000)) # Output: 0\n",
    "sum_of_first_n4 = list(filter(lambda x : x % 2 == 0, firstn(10))) # Output: [0, 2, 4, 6, 8]\n",
    "print(sum_of_first_n)\n",
    "print(sum_of_first_n2)\n",
    "print(sum_of_first_n3)\n",
    "print(sum_of_first_n4)"
   ]
  }
 ],
 "metadata": {
  "kernelspec": {
   "display_name": "Python 3",
   "language": "python",
   "name": "python3"
  },
  "language_info": {
   "codemirror_mode": {
    "name": "ipython",
    "version": 3
   },
   "file_extension": ".py",
   "mimetype": "text/x-python",
   "name": "python",
   "nbconvert_exporter": "python",
   "pygments_lexer": "ipython3",
   "version": "3.12.0"
  }
 },
 "nbformat": 4,
 "nbformat_minor": 2
}
