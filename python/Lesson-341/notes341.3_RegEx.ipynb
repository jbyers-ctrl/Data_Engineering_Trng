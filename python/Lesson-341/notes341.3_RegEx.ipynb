{
 "cells": [
  {
   "cell_type": "markdown",
   "metadata": {},
   "source": [
    "## Regular Expression\n",
    "- <b>Search:</b> Allows you to search for specific patterns of characters, such as phone numbers, email addresses, dates, etc.\n",
    "- <b>Modify:</b> Can be used to extract data from text, or replace certain patterns with other text. For example, you can search for the word ‘Hello’ and replace it with ‘Hi’ or you can search for the phone number xx-xxxx-xxxx and replace it with the format xxx-xxx-xxxx.\n",
    "- <b>Validate:</b> Validate user input. Developers can ensure data being processed meets certain criteria such as format, length, or type. For example, if a user is required to enter an email address, validation can ensure that the input contains an \"@\" symbol and a valid domain name."
   ]
  },
  {
   "cell_type": "markdown",
   "metadata": {},
   "source": [
    "## Common use cases\n",
    "- Validating email addresses, URLs, and phone numbers.\n",
    "- Web form Validations.\n",
    "- Parsing and extracting information from text.\n",
    "- Search and replace operations in strings.\n",
    "- Text data cleaning and validation.\n"
   ]
  },
  {
   "cell_type": "code",
   "execution_count": 1,
   "metadata": {},
   "outputs": [],
   "source": [
    "import re"
   ]
  },
  {
   "cell_type": "markdown",
   "metadata": {},
   "source": [
    "### Raw Strings\n",
    "- A regular string, when prefixed with 'r' or 'R' becomes a raw string.\n",
    "- The difference between a normal string and a raw string is that the normal string in print() function translates escape characters (such as \\n, \\t etc.) if any, while those in a raw string are not."
   ]
  },
  {
   "cell_type": "code",
   "execution_count": null,
   "metadata": {},
   "outputs": [
    {
     "name": "stdout",
     "output_type": "stream",
     "text": [
      "Hello! How are you?\n",
      "normal string:  Hello!\n",
      "How are you?\n",
      "raw string:  Hello!\\nHow are you?\n"
     ]
    }
   ],
   "source": [
    "rawstr = r\"Hello! How are you?\"\n",
    "print(rawstr)\n",
    "\n",
    "str1 = \"Hello!\\nHow are you?\"\n",
    "print(\"normal string: \", str1) # '\\n' inside str1 (normal string) is translated as a newline being printed on the next line\n",
    "\n",
    "str2 = r\"Hello!\\nHow are you?\"\n",
    "print(\"raw string: \", str2) # '\\n' is printed as \\n"
   ]
  },
  {
   "cell_type": "markdown",
   "metadata": {},
   "source": [
    "## RegEx Metacharacters\n",
    "<table>\n",
    "<tr>\n",
    "    <th>Pattern</th>\n",
    "    <th>Description</th>\n",
    "</tr>\n",
    "\n",
    "<tr>\n",
    "    <td>[abc]</td>\n",
    "    <td>match any of the characters a, b, or c</td>\n",
    "</tr>\n",
    "\n",
    "<tr>\n",
    "    <td>[a-c]</td>\n",
    "    <td>which uses a range to express the same set of characters</td>\n",
    "</tr>\n",
    "\n",
    "<tr>\n",
    "    <td>[a-z]</td>\n",
    "    <td>match only lowercase letters</td>\n",
    "</tr>\n",
    "\n",
    "<tr>\n",
    "    <td>[0-9]</td>\n",
    "    <td>match only digits</td>\n",
    "</tr>\n",
    "\n",
    "<tr>\n",
    "    <td>.</td>\n",
    "    <td>Matches any single character</td>\n",
    "</tr>\n",
    "\n",
    "<tr>\n",
    "    <td>*</td>\n",
    "    <td>Matches zero or more occurrences of the preceding element</td>\n",
    "</tr>\n",
    "\n",
    "<tr>\n",
    "    <td>+</td>\n",
    "    <td>Matches one or more occurrences of the preceding element</td>\n",
    "</tr>\n",
    "\n",
    "<tr>\n",
    "    <td>?</td>\n",
    "    <td>Matches zero or one occurrence of the preceding element</td>\n",
    "</tr>\n",
    "\n",
    "<tr>\n",
    "    <td>^</td>\n",
    "    <td>Matches the start of the string</td>\n",
    "</tr>\n",
    "\n",
    "<tr>\n",
    "    <td>$</td>\n",
    "    <td>Matches the end of the string</td>\n",
    "</tr>\n",
    "\n",
    "<tr>\n",
    "    <td>|</td>\n",
    "    <td>Serves as an OR operator</td>\n",
    "</tr>\n",
    "\n",
    "<tr>\n",
    "    <td>[]</td>\n",
    "    <td>Matches any single character within the brackets</td>\n",
    "</tr>\n",
    "\n",
    "<tr>\n",
    "    <td>[^ ]</td>\n",
    "    <td>Matches any single character NOT within the brackets</td>\n",
    "</tr>\n",
    "\n",
    "<tr>\n",
    "    <td>()</td>\n",
    "    <td>Groups regex operators together</td>\n",
    "</tr>\n",
    "\n",
    "<tr>\n",
    "    <td>\\d</td>\n",
    "    <td>Matches any decimal digit; this is equivalent to the class [0-9]</td>\n",
    "</tr>\n",
    "\n",
    "<tr>\n",
    "    <td>\\D</td>\n",
    "    <td>Matches any non-digit character</td>\n",
    "</tr>\n",
    "\n",
    "<tr>\n",
    "    <td>\\s</td>\n",
    "    <td>Matches any whitespace character</td>\n",
    "</tr>\n",
    "\n",
    "<tr>\n",
    "    <td>\\S</td>\n",
    "    <td>Matches any non-whitespace character</td>\n",
    "</tr>\n",
    "\n",
    "<tr>\n",
    "    <td>\\w</td>\n",
    "    <td>Matches any alphanumeric character</td>\n",
    "</tr>\n",
    "\n",
    "<tr>\n",
    "    <td>\\W</td>\n",
    "    <td>Matches any non-alphanumeric character</td>\n",
    "</tr>\n",
    "\n",
    "<tr>\n",
    "    <td>\\b</td>\n",
    "    <td>boundary between word and non-word. /B is opposite of /b</td>\n",
    "</tr>\n",
    "\n",
    "<tr>\n",
    "    <td>\\</td>\n",
    "    <td>It is used for special meaning characters like . to match a period or + for plus sign.\n",
    "For example, use \\. to match a period or \\\\ to match a slash. If you are unsure if a character has special meaning, such as '@', you can try putting a slash in front of it, \\@. If its not a valid escape sequence, like \\c, your python program will halt with an error\n",
    "</td>\n",
    "</tr>\n",
    "\n",
    "<tr>\n",
    "    <td>{n, m}</td>\n",
    "    <td>Matches at least n and at most m occurrences of preceding</td>\n",
    "</tr>\n",
    "\n",
    "<tr>\n",
    "    <td>a | b</td>\n",
    "    <td>Matches either a or b</td>\n",
    "</tr>\n",
    "\n",
    "<tr>\n",
    "    <td>\\t, \\n, \\r</td>\n",
    "    <td>tab, newline, return</td>\n",
    "</tr>\n",
    "</table>\n",
    "\n"
   ]
  },
  {
   "cell_type": "markdown",
   "metadata": {},
   "source": [
    "## Examples\n",
    "- 2 | 3 The | character is a “pipe” symbol and is used as an “or” operator. So 2 | 3 will return either 2 or 3.\n",
    "- \\d{3}-\\d{3}-\\d{4}:            Matches a US telephone number.\n",
    "- [A-Za-z0-9._%+-]+@[A-Za-z0-9.-]+\\.[A-Za-z]{2,}:       Matches an email address.\n",
    "- (http://|https://)?([A-Za-z0-9-]+\\.[A-Za-z0-9-.]+)(/[A-Za-z0-9-._~:/?#@!$&'()*+,;=]*)?:   Matches a URL."
   ]
  },
  {
   "cell_type": "markdown",
   "metadata": {},
   "source": [
    "## Python RegEx Methods\n",
    "<table>\n",
    "<tr>\n",
    "    <th>Method</th>\n",
    "    <th>Description</th>\n",
    "</tr>\n",
    "\n",
    "<tr>\n",
    "    <td>re.compile('pattern')</td>\n",
    "    <td>Compile a regular expression pattern provided as a string into a re.Pattern object</td>\n",
    "</tr>\n",
    "\n",
    "<tr>\n",
    "    <td>re.search(pattern, str)</td>\n",
    "    <td>Search for occurrences of the regex pattern inside the target string and return only the first match</td>\n",
    "</tr>\n",
    "\n",
    "<tr>\n",
    "    <td>re.match(pattern, str)</td>\n",
    "    <td>Try to match the regex pattern at the start of the string. It returns a match only if the pattern is located at the beginning of the string</td>\n",
    "</tr>\n",
    "\n",
    "<tr>\n",
    "    <td>re.fullmatch(pattern, str)</td>\n",
    "    <td>Match the regular expression pattern to the entire string from the first to the last character</td>\n",
    "</tr>\n",
    "\n",
    "<tr>\n",
    "    <td>re.findall(pattern, str)</td>\n",
    "    <td>Scans the regex pattern through the entire string and returns all matches</td>\n",
    "</tr>\n",
    "\n",
    "<tr>\n",
    "    <td>re.finditer(pattern, str)</td>\n",
    "    <td>Scans the regex pattern through the entire string and returns an iterator yielding match objects</td>\n",
    "</tr>\n",
    "\n",
    "<tr>\n",
    "    <td>re.split(pattern, str)</td>\n",
    "    <td>It breaks a string into a list of matches as per the given regular expression pattern</td>\n",
    "</tr>\n",
    "\n",
    "<tr>\n",
    "    <td>re.sub(pattern, replacement, str)</td>\n",
    "    <td>Replace one or more occurrences of a pattern in the string with a replacement</td>\n",
    "</tr>\n",
    "\n",
    "<tr>\n",
    "    <td>re.subn(pattern, replacement, str)</td>\n",
    "    <td>Same as re.sub(). The difference is it will return a tuple of two elements.\n",
    "First, a new string after all replacement, and second the number of replacements it has made\n",
    "</td>\n",
    "</tr>\n",
    "</table>"
   ]
  },
  {
   "cell_type": "markdown",
   "metadata": {},
   "source": [
    "## RegEx Flags\n",
    "- Example: re.findall(pattern, string, flags=re.I|re.M|re.X) # use the | operator to connec them\n",
    "<table>\n",
    "<tr>\n",
    "    <th>Flag</th>\n",
    "    <th>Long Syntax</th>\n",
    "    <th>Meaning</th>\n",
    "</tr>\n",
    "\n",
    "<tr>\n",
    "    <td>re.A</td>\n",
    "    <td>re.ASCII</td>\n",
    "    <td>Perform ASCII-only matching instead of full Unicode matching</td>\n",
    "</tr>\n",
    "\n",
    "<tr>\n",
    "    <td>re.I</td>\n",
    "    <td>re.IGNORECASE</td>\n",
    "    <td>Perform case-insensitive matching</td>\n",
    "</tr>\n",
    "\n",
    "<tr>\n",
    "    <td>re.M</td>\n",
    "    <td>re.MULTILINE</td>\n",
    "    <td>This flag is used with metacharacter ^ (caret) and $ (dollar). When this flag is specified, the metacharacter ^ matches the pattern at beginning of the string and each newline’s beginning (\\n).\n",
    "And the metacharacter $ matches pattern at the end of the string and the end of each new line (\\n)</td>\n",
    "</tr>\n",
    "\n",
    "<tr>\n",
    "    <td>re.S</td>\n",
    "    <td>re.DOTALL</td>\n",
    "    <td>Make the DOT (.) special character match any character at all, including a newline. Without this flag, DOT(.) will match anything except a newline</td>\n",
    "</tr>\n",
    "\n",
    "<tr>\n",
    "    <td>re.X</td>\n",
    "    <td>re.VERBOSE</td>\n",
    "    <td>Allow comment in the regex. This flag is useful to make regex more readable by allowing comments in the regex</td>\n",
    "</tr>"
   ]
  },
  {
   "cell_type": "markdown",
   "metadata": {},
   "source": [
    "## Match Object Methods\n",
    "- When a match to a regex pattern is found, Python returns a Match object. Use methods of re.Match to extract matched values & positions.\n",
    "<table>\n",
    "<tr>\n",
    "    <th>Method</th>\n",
    "    <th>Meaning</th>\n",
    "</tr>\n",
    "\n",
    "<tr>\n",
    "    <td>group()</td>\n",
    "    <td>Return the string matched by the regex pattern</td>\n",
    "</tr>\n",
    "\n",
    "<tr>\n",
    "    <td>groups()</td>\n",
    "    <td>Returns a tuple containing the strings for all matched subgroups</td>\n",
    "</tr>\n",
    "\n",
    "<tr>\n",
    "    <td>start()</td>\n",
    "    <td>Return the start position of the match</td>\n",
    "</tr>\n",
    "\n",
    "<tr>\n",
    "    <td>end()</td>\n",
    "    <td>Return the end position of the match</td>\n",
    "</tr>\n",
    "\n",
    "<tr>\n",
    "    <td>span()</td>\n",
    "    <td>Return a tuple containing the (start, end) positions of the match</td>\n",
    "</tr>\n",
    "</table>"
   ]
  },
  {
   "cell_type": "markdown",
   "metadata": {},
   "source": [
    "## Compile RegEx Pattern\n",
    "- Python’s re.compile() method is used to compile a regular expression pattern provided as a string into a regex pattern object (re.Pattern). Later, we can use this pattern object to search for a match inside different target strings using regex methods such as a re.match() or re.search().\n",
    "\n",
    "- In simple terms, we can compile a regular expression into a regex object to look for occurrences of the same pattern inside various target strings without rewriting it."
   ]
  },
  {
   "cell_type": "code",
   "execution_count": 4,
   "metadata": {},
   "outputs": [
    {
     "name": "stdout",
     "output_type": "stream",
     "text": [
      "re.compile('\\\\b\\\\w{5}\\\\b')\n",
      "['Jessa', 'Kelly']\n"
     ]
    }
   ],
   "source": [
    "# re.compile(pattern, flags=0)\n",
    "pattern = re.compile(r\"\\b\\w{5}\\b\") # Look for a 5-letter word\n",
    "res = pattern.findall(\"Jessa and Kelly\")\n",
    "print(pattern)\n",
    "print(res)"
   ]
  },
  {
   "cell_type": "code",
   "execution_count": 5,
   "metadata": {},
   "outputs": [
    {
     "name": "stdout",
     "output_type": "stream",
     "text": [
      "['2', '5']\n"
     ]
    }
   ],
   "source": [
    "target_str = \"My roll number is 25\"\n",
    "\n",
    "# created a regex pattern r'\\d' to match any digit between 0 to 9\n",
    "# used the re.findall() method to match our pattern\n",
    "res = re.findall(r\"\\d\", target_str) \n",
    "\n",
    "# extract matching value\n",
    "print(res) # Output [2, 5]"
   ]
  },
  {
   "cell_type": "markdown",
   "metadata": {},
   "source": [
    "## Capture email address\n",
    "- In the following example, we will capture the email addresses, starting from 'From:' and extending until the '@' character"
   ]
  },
  {
   "cell_type": "code",
   "execution_count": 6,
   "metadata": {},
   "outputs": [
    {
     "name": "stdout",
     "output_type": "stream",
     "text": [
      "['From: stephen.a.smith@espn.com, drake@hotmail.com, frenchMontana@']\n"
     ]
    }
   ],
   "source": [
    "stri = 'From: stephen.a.smith@espn.com, drake@hotmail.com, frenchMontana@gmail.com'\n",
    "stri = stri.rstrip()\n",
    "print(re.findall('From:.+@', stri))"
   ]
  },
  {
   "cell_type": "code",
   "execution_count": null,
   "metadata": {},
   "outputs": [],
   "source": []
  }
 ],
 "metadata": {
  "kernelspec": {
   "display_name": "Python 3",
   "language": "python",
   "name": "python3"
  },
  "language_info": {
   "codemirror_mode": {
    "name": "ipython",
    "version": 3
   },
   "file_extension": ".py",
   "mimetype": "text/x-python",
   "name": "python",
   "nbconvert_exporter": "python",
   "pygments_lexer": "ipython3",
   "version": "3.12.0"
  }
 },
 "nbformat": 4,
 "nbformat_minor": 2
}
