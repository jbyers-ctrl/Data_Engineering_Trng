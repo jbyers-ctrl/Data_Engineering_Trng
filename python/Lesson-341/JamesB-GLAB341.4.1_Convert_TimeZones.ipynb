{
 "cells": [
  {
   "cell_type": "markdown",
   "metadata": {},
   "source": [
    "## Guided lab - 341.4.1 - Convert Between Two Specific Time Zones\n",
    "### Lab Overview\n",
    "In this lab you will demonstrate a simple function to convert between two specific time zones using Python's pytz library. You will learn how to define time zones, create datetime objects, and perform conversions\n",
    "\n",
    "### Learning Objective:\n",
    "By the end of this lab, learners will be able to:\n",
    "\n",
    "Find timezone and convert between two timezone in python.\n",
    "Describe the concept of time zones in Python.\n",
    "Install and import the pytz library.\n",
    "Convert a datetime object from one time zone to another.\n",
    "Apply these skills to practical examples.\n",
    "### Prerequest:\n",
    "To use Pytz, you first need to install it. You can install Pytz using pip, by running the following command in your terminal or command prompt or NoteBook:\n",
    "\n",
    "pip install pytz"
   ]
  },
  {
   "cell_type": "code",
   "execution_count": 6,
   "metadata": {},
   "outputs": [],
   "source": [
    "from datetime import datetime, date\n",
    "import pytz\n",
    "# Define a function to convert a datetime object between two time zones\n",
    "def convert_time_zone(dt, from_tz, to_tz):\n",
    "    \"\"\"\n",
    "    Converts a datetime object from one time zone to another.\n",
    "\n",
    "    Args:\n",
    "        dt (datetime): The datetime object to convert.\n",
    "        from_tz (str): The current time zone of the datetime object.\n",
    "        to_tz (str): The time zone to convert the datetime object to.\n",
    "\n",
    "    Returns:\n",
    "        datetime: The converted datetime object.\n",
    "    \"\"\"\n",
    "    # Create timezone objects\n",
    "    from_tz = pytz.timezone(from_tz)\n",
    "    print(\"Original: \", from_tz)\n",
    "    to_tz = pytz.timezone(to_tz)\n",
    "    print(\"Target: \", to_tz)\n",
    "\n",
    "    # Convert the datetime object to the 'from_tz' timezone (if necessary)\n",
    "    dt = dt.replace(tzinfo=from_tz)\n",
    "\n",
    "    # Convert the datetime object to the 'to_tz' timezone\n",
    "    dt = dt.astimezone(to_tz)\n",
    "\n",
    "    return dt"
   ]
  },
  {
   "cell_type": "markdown",
   "metadata": {},
   "source": [
    "- This convert_time_zone() function takes a datetime object (dt), the original time zone (from_tz), and the target time zone (to_tz) as input.\n",
    "- It creates timezone objects using pytz.timezone().\n",
    "- It sets the original time zone of the datetime object using replace (tzinfo=from_tz).\n",
    "- It converts the datetime object to the target time zone using astimezone (to_tz).\n",
    "- It returns the converted datetime object."
   ]
  },
  {
   "cell_type": "code",
   "execution_count": 5,
   "metadata": {},
   "outputs": [
    {
     "name": "stdout",
     "output_type": "stream",
     "text": [
      "Original:  UTC\n",
      "Target:  America/New_York\n",
      "2022-01-01 07:30:45-05:00\n"
     ]
    }
   ],
   "source": [
    "# Define a datetime object\n",
    "dt = datetime(2022, 1, 1, 12, 30, 45)\n",
    "\n",
    "# Define the current time zone of the datetime object\n",
    "from_tz = \"UTC\"\n",
    "\n",
    "# Define the time zone to convert the datetime object to\n",
    "to_tz = \"America/New_York\"\n",
    "\n",
    "# Convert the datetime object between the two time zones\n",
    "converted_dt = convert_time_zone(dt, from_tz, to_tz)\n",
    "# Print the converted datetime object\n",
    "print(converted_dt)"
   ]
  }
 ],
 "metadata": {
  "kernelspec": {
   "display_name": ".zulu",
   "language": "python",
   "name": "python3"
  },
  "language_info": {
   "codemirror_mode": {
    "name": "ipython",
    "version": 3
   },
   "file_extension": ".py",
   "mimetype": "text/x-python",
   "name": "python",
   "nbconvert_exporter": "python",
   "pygments_lexer": "ipython3",
   "version": "3.10.12"
  }
 },
 "nbformat": 4,
 "nbformat_minor": 2
}
