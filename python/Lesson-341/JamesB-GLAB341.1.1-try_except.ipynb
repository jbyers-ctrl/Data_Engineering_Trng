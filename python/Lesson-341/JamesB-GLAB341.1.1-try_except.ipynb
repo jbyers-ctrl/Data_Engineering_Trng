{
 "cells": [
  {
   "cell_type": "markdown",
   "metadata": {},
   "source": [
    "## Guided Lab - The “try” and “except” Block to Handling Exceptions\n",
    "- Key Concepts Covered:\n",
    "\n",
    "    - <b>Basic Exception Handling:</b> The lab introduces the fundamental try and except blocks. Code within the try block is monitored for errors. If an error (exception) occurs, the code within the except block is executed, preventing the program from crashing.\n",
    "\n",
    "    - <b>Handling Specific Exceptions:</b> Instead of catching all exceptions generically, the lab demonstrates how to handle specific exception types (like ValueError and ZeroDivisionError) using multiple except blocks. This allows for tailored error messages and more robust code.\n",
    "\n",
    "    - <b>User Input and Error Handling:</b> The provided examples illustrate how to handle potential errors arising from user input, such as when a user enters invalid data types or attempts to divide by zero."
   ]
  },
  {
   "cell_type": "markdown",
   "metadata": {},
   "source": [
    "## Built-in Exceptions\n",
    "<table>\n",
    "    <tr>\n",
    "        <th>Exception</th>\t<th>Description</th>\n",
    "    </tr>\n",
    "    <tr>\n",
    "        <td>ArithmeticError</td>\t<td>Raised when an error occurs in numeric calculations</td>\n",
    "    </tr>\n",
    "    <tr>\n",
    "        <td>AssertionError</td>\t<td>Raised when an assert statement fails</td>\n",
    "    </tr>\n",
    "    <tr>\n",
    "        <td>AttributeError</td>\t<td>Raised when attribute reference or assignment fails</td>\n",
    "    </tr>\n",
    "    <tr>\n",
    "        <td>Exception</td>\t<td>Base class for all exceptions</td>\n",
    "    </tr>\n",
    "    <tr>\n",
    "        <td>EOFError</td>\t<td>Raised when the input() method hits an \"end of file\" condition (EOF)</td>\n",
    "    </tr>\n",
    "    <tr>\n",
    "        <td>FloatingPointError</td>\t<td>Raised when a floating point calculation fails</td>\n",
    "    </tr>\n",
    "    <tr>\n",
    "        <td>GeneratorExit</td>\t<td>Raised when a generator is closed (with the close() method)</td>\n",
    "    </tr>\n",
    "    <tr>\n",
    "        <td>ImportError</td>\t<td>Raised when an imported module does not exist</td>\n",
    "    </tr>\n",
    "    <tr>\n",
    "        <td>IndentationError</td>\t<td>Raised when indentation is not correct</td>\n",
    "    </tr>\n",
    "    <tr>\n",
    "        <td>IndexError</td>\t<td>Raised when an index of a sequence does not exist</td>\n",
    "    </tr>\n",
    "    <tr>\n",
    "        <td>KeyError</td>\t<td>Raised when a key does not exist in a dictionary</td>\n",
    "    </tr>\n",
    "    <tr>\n",
    "        <td>KeyboardInterrupt</td>\t<td>Raised when the user presses Ctrl+c, Ctrl+z or Delete</td>\n",
    "    </tr>\n",
    "    <tr>\n",
    "        <td>LookupError</td>\t<td>Raised when errors raised cant be found</td>\n",
    "    </tr>\n",
    "    <tr>\n",
    "        <td>MemoryError</td>\t<td>Raised when a program runs out of memory</td>\n",
    "    </tr>\n",
    "    <tr>\n",
    "        <td>NameError</td>\t<td>Raised when a variable does not exist</td>\n",
    "    </tr>\n",
    "    <tr>\n",
    "        <td>NotImplementedError</td>\t<td>Raised when an abstract method requires an inherited class to override the method</td>\n",
    "    </tr>\n",
    "    <tr>\n",
    "        <td>OSError</td>\t<td>Raised when a system related operation causes an error</td>\n",
    "    </tr> \n",
    "    <tr>\n",
    "        <td>OverflowError</td>\t<td>Raised when the result of a numeric calculation is too large</td>\n",
    "    </tr> \n",
    "    <tr>\n",
    "        <td>ReferenceError</td>\t<td>Raised when a weak reference object does not exist</td>\n",
    "    </tr> \n",
    "    <tr>\n",
    "        <td>RuntimeError</td>\t<td>Raised when an error occurs that do not belong to any specific exceptions</td>\n",
    "    </tr> \n",
    "    <tr>\n",
    "        <td>StopIteration</td>\t<td>Raised when the next() method of an iterator has no further values</td>\n",
    "    </tr> \n",
    "    <tr>\n",
    "        <td>SyntaxError</td>\t<td>Raised when a syntax error occurs</td>\n",
    "    </tr> \n",
    "    <tr>\n",
    "        <td>TabError</td>\t<td>Raised when indentation consists of tabs or spaces</td>\n",
    "    </tr> \n",
    "    <tr>\n",
    "        <td>SystemError</td>\t<td>Raised when a system error occurs</td>\n",
    "    </tr> \n",
    "    <tr>\n",
    "        <td>SystemExit</td>\t<td>Raised when the sys.exit() function is called</td>\n",
    "    </tr> \n",
    "    <tr>\n",
    "        <td>TypeError</td>\t<td>Raised when two different types are combined</td>\n",
    "    </tr> \n",
    "    <tr>\n",
    "        <td>UnboundLocalError</td>\t<td>Raised when a local variable is referenced before assignment</td>\n",
    "    </tr> \n",
    "    <tr>\n",
    "        <td>UnicodeError</td>\t<td>Raised when a unicode problem occurs</td>\n",
    "    </tr> \n",
    "    <tr>\n",
    "        <td>UnicodeEncodeError</td>\t<td>Raised when a unicode encoding problem occurs</td>\n",
    "    </tr> \n",
    "    <tr>\n",
    "        <td>UnicodeDecodeError</td>\t<td>Raised when a unicode decoding problem occurs</td>\n",
    "    </tr> \n",
    "    <tr>\n",
    "        <td>UnicodeTranslateError</td>\t<td>Raised when a unicode translation problem occurs</td>\n",
    "    </tr> \n",
    "    <tr>\n",
    "        <td>ValueError</td>\t<td>Raised when there is a wrong value in a specified data type</td>\n",
    "    </tr> \n",
    "    <tr>\n",
    "        <td>ZeroDivisionError</td>\t<td>Raised when the second operator in a division is zero</td>\n",
    "    </tr>\n",
    "</table>"
   ]
  },
  {
   "cell_type": "code",
   "execution_count": null,
   "metadata": {},
   "outputs": [],
   "source": [
    "a = 10\n",
    "b = 0\n",
    "c = a / b\n",
    "print(\"a/b = %d\" % c) # when we divided by 0 Python throws an exception as ZeroDivisionError & the program terminates abnormally"
   ]
  },
  {
   "cell_type": "markdown",
   "metadata": {},
   "source": [
    "Both keywords \"try\" & \"except\" are followed by indented blocks"
   ]
  },
  {
   "cell_type": "code",
   "execution_count": null,
   "metadata": {},
   "outputs": [],
   "source": [
    "try:  # Without the try block, the program will crash and raise an error\n",
    "    a = 10\n",
    "    b = 0\n",
    "    c = a/b\n",
    "    print(\"The answer of a divide by b:\", c)\n",
    "except:  # lets you handle the error; can define as many exception blocks as you want\n",
    "    print(\"Can't divide with zero. Provide different number\")"
   ]
  },
  {
   "cell_type": "markdown",
   "metadata": {},
   "source": [
    "### Catching Specific Exceptions\n",
    "- In the above examples, the except block was used without specifying any particular exception. This means it would catch any exception that occurred within the try block. While this can be useful for basic error handling, it's generally considered bad practice.\n",
    "\n",
    "- Why Specificity Matters:\n",
    "\n",
    "- Catching all exceptions indiscriminately can mask underlying issues and make debugging more difficult. Instead, it's crucial to be specific about the types of exceptions you anticipate and handle them individually.\n",
    "\n",
    "- How to Catch Specific Exceptions:\n",
    "\n",
    "- To catch a specific exception, you simply name the exception type after the except keyword. For instance:"
   ]
  },
  {
   "cell_type": "markdown",
   "metadata": {},
   "source": [
    "In the following example, we will ask the user for the denominator value. If the user enters a number, the program will evaluate and produce the result.\n",
    "\n",
    "If the user enters a non-numeric value, the try block will throw a ValueError exception, and we can catch that using a first catch block ‘except ValueError’ by printing the message ‘Entered value is wrong’.\n",
    "\n",
    "And suppose the user enters the denominator as zero. In that case, the try block will throw a ZeroDivisionError, and we can catch that using a second catch block by printing the message ‘Can’t divide by zero’."
   ]
  },
  {
   "cell_type": "code",
   "execution_count": null,
   "metadata": {},
   "outputs": [
    {
     "name": "stdout",
     "output_type": "stream",
     "text": [
      "Entered value is wrong\n"
     ]
    }
   ],
   "source": [
    "try:\n",
    "    a = int(input(\"Enter value of a:\"))\n",
    "    b = int(input(\"Enter value of b:\"))\n",
    "    c = a/b\n",
    "    print(\"The answer of a divide by b:\", c)\n",
    "except ValueError:  # wrong value in a specified data type\n",
    "    print(\"Entered value is wrong\")\n",
    "except ZeroDivisionError:  # second operator in a division is zero\n",
    "    print(\"Can't divide by zero\")"
   ]
  },
  {
   "cell_type": "code",
   "execution_count": null,
   "metadata": {},
   "outputs": [
    {
     "name": "stdout",
     "output_type": "stream",
     "text": [
      "The variable doesn't exist\n"
     ]
    }
   ],
   "source": [
    "try:\n",
    "    a = int(input(\"Enter value of a:\"))\n",
    "    b = int(input(\"Enter value of b:\"))\n",
    "    c = a/b\n",
    "    print(\"The answer of a divide by b:\", d)\n",
    "except NameError:  # variable 'd' does not exist\n",
    "    print(\"The variable doesn't exist\")\n"
   ]
  },
  {
   "cell_type": "code",
   "execution_count": null,
   "metadata": {},
   "outputs": [
    {
     "name": "stdout",
     "output_type": "stream",
     "text": [
      "alex\n",
      "tj\n",
      "Error: list index out of range\n"
     ]
    }
   ],
   "source": [
    "my_name_list = ['james', 'alex', 'juan', 'tj']\n",
    "\n",
    "# Correct access\n",
    "print(my_list[1])  # Output: alex\n",
    "print(my_list[3])  # Output: tj\n",
    "\n",
    "# Incorrect access leading to IndexError\n",
    "try:\n",
    "    print(my_list[5])  # Raises IndexError: list index out of range\n",
    "except IndexError as e:\n",
    "    print(f\"Error: {e}\") "
   ]
  }
 ],
 "metadata": {
  "kernelspec": {
   "display_name": "Python 3",
   "language": "python",
   "name": "python3"
  },
  "language_info": {
   "codemirror_mode": {
    "name": "ipython",
    "version": 3
   },
   "file_extension": ".py",
   "mimetype": "text/x-python",
   "name": "python",
   "nbconvert_exporter": "python",
   "pygments_lexer": "ipython3",
   "version": "3.12.0"
  }
 },
 "nbformat": 4,
 "nbformat_minor": 2
}
