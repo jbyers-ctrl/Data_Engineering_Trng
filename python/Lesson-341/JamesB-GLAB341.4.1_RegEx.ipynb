{
 "cells": [
  {
   "cell_type": "markdown",
   "metadata": {},
   "source": [
    "## RegEx\n",
    "- Objective:\n",
    "- This lab demonstrates how to use Regex Expressions and python re module's methods for Regular expression.\n",
    "\n",
    "- By the end of this lab, learner will be able to: identofy the re module's methods ofr Regex Utilize the regex in the python applications"
   ]
  },
  {
   "cell_type": "markdown",
   "metadata": {},
   "source": [
    "## Example 1: findall()\n",
    "- the pattern is set to find all words with a length of 5 or more.\n",
    "- The below example demonstrates how to use re.compile() with findall() to find all occurrences of a pattern in a given string."
   ]
  },
  {
   "cell_type": "code",
   "execution_count": 1,
   "metadata": {},
   "outputs": [
    {
     "name": "stdout",
     "output_type": "stream",
     "text": [
      "Hello\n",
      "world\n",
      "shining\n"
     ]
    }
   ],
   "source": [
    "import re\n",
    "# creating a pattern and Compile the regular expression pattern\n",
    "pattern = re.compile(r'\\b\\w{5,}\\b')\n",
    "#After compiling the pattern,\n",
    "#you can use the findall() method to find all occurrences of the pattern in a given string.\n",
    "text = \"Hello, world! The sky is blue, and the sun is shining.\"\n",
    "\n",
    "matches = pattern.findall(text)\n",
    "\n",
    "for match in matches:\n",
    "    print(match)"
   ]
  },
  {
   "cell_type": "code",
   "execution_count": null,
   "metadata": {},
   "outputs": [
    {
     "name": "stdout",
     "output_type": "stream",
     "text": [
      "Mary\n",
      "had\n",
      "a\n",
      "lamb\n",
      "that\n",
      "like\n"
     ]
    }
   ],
   "source": [
    "# creating a pattern and Compile the regular expression pattern\n",
    "pattern1 = re.compile(r'\\b\\w{1,4}\\b') # pattern of words w/ 1 to 4 letters\n",
    "text1 = \"Mary had a little lamb that like Python!\"\n",
    "\n",
    "matches1 = pattern1.findall(text1)\n",
    "\n",
    "for match in matches1:\n",
    "    print(match) # Output: (  Mary\n",
    "                            # had\n",
    "                            # a\n",
    "                            # lamb\n",
    "                            # that\n",
    "                            # like)"
   ]
  },
  {
   "cell_type": "markdown",
   "metadata": {},
   "source": [
    "## Example 2: findall()\n",
    "- In the following example, the pattern will match all strings containing alphanumeric characters and the hyphen."
   ]
  },
  {
   "cell_type": "code",
   "execution_count": 7,
   "metadata": {},
   "outputs": [
    {
     "name": "stdout",
     "output_type": "stream",
     "text": [
      "Contact\n",
      "me\n",
      "at\n",
      "john.doe\n",
      "example.com\n",
      "or\n",
      "jane.doe\n",
      "example.com\n",
      "for\n",
      "more\n",
      "information\n"
     ]
    }
   ],
   "source": [
    "# Compile the regular expression pattern\n",
    "pattern = re.compile(r'\\b[A-Za-z0-9._%+-]+\\b')\n",
    "\n",
    "# target string\n",
    "text = \"Contact me at john.doe@example.com or jane.doe@example.com for more information.\"\n",
    "\n",
    "# Find all matches of the pattern in the test string\n",
    "matches = pattern.findall(text)\n",
    "\n",
    "# Print the matches\n",
    "for match in matches:\n",
    "    print(match)"
   ]
  },
  {
   "cell_type": "code",
   "execution_count": null,
   "metadata": {},
   "outputs": [
    {
     "name": "stdout",
     "output_type": "stream",
     "text": [
      "Contact\n",
      "me\n",
      "at\n",
      "john\n",
      "doe\n",
      "example\n",
      "com\n",
      "or\n",
      "jane\n",
      "doe\n",
      "example\n",
      "com\n",
      "for\n",
      "more\n",
      "information\n"
     ]
    }
   ],
   "source": [
    "# Compile the regular expression pattern\n",
    "pattern = re.compile(r'\\b\\w+\\b') # alphanumeric characters NOT ._%+-\n",
    "\n",
    "# target string\n",
    "text = \"Contact me at john.doe@example.com or jane.doe@example.com for more information.\"\n",
    "\n",
    "# Find all matches of the pattern in the test string\n",
    "matches = pattern.findall(text)\n",
    "\n",
    "# Print the matches\n",
    "for match in matches:\n",
    "    print(match)"
   ]
  },
  {
   "cell_type": "markdown",
   "metadata": {},
   "source": [
    "## Example 3: findall()\n",
    "- In this example, we will match all the email addresses in a string using a regular expression pattern."
   ]
  },
  {
   "cell_type": "code",
   "execution_count": 14,
   "metadata": {},
   "outputs": [
    {
     "name": "stdout",
     "output_type": "stream",
     "text": [
      "john.doe@example.com\n",
      "jane.doe@example.com\n"
     ]
    }
   ],
   "source": [
    "# Our original string\n",
    "text = \"Contact me at john.doe@example.com or jane.doe@example.com for more information.\"\n",
    "\n",
    "# The regular expression pattern to search for\n",
    "pattern = re.compile(r'\\b[A-Za-z0-9._%+-]+@[A-Za-z0-9.-]+\\.[A-Z|a-z]{2,}\\b')\n",
    "\n",
    "# Use the findall() function to find all matches in the string\n",
    "matches = re.findall(pattern, text)\n",
    "\n",
    "for match in matches:\n",
    "    print(match)"
   ]
  },
  {
   "cell_type": "code",
   "execution_count": null,
   "metadata": {},
   "outputs": [
    {
     "name": "stdout",
     "output_type": "stream",
     "text": [
      "Type:  <class 'list'>\n",
      "doe@yahoo.\n",
      "jane_doe@gmail.com\n",
      "cat_hat@aol.org\n"
     ]
    }
   ],
   "source": [
    "text2 = \"Contact me at john%.doe@yahoo.comm or jane_doe@gmail.com or cat_hat@aol.org for more information.\"\n",
    "\n",
    "# (?:...) \n",
    "# Matches whatever regular expression is inside the parentheses, but the substring matched by the group cannot be retrieved after performing a match or referenced later in the pattern.\n",
    "pattern2 = re.compile(r'\\b[A-Za-z0-9._]+@[A-Za-z0-9.-]+\\.(?:com|org)?\\b')\n",
    "\n",
    "# Use the findall() function to find all matches in the string\n",
    "matches2 = re.findall(pattern2, text2)\n",
    "print(\"Type: \", type(matches2)) # Type:  <class 'list'>\n",
    "for match in matches2:\n",
    "    print(match)"
   ]
  },
  {
   "cell_type": "markdown",
   "metadata": {},
   "source": [
    "## Example 4: search()\n",
    "### Basic Examples\n",
    "- Joke: what do you call a pig with three eyes? piiig!\n",
    "\n",
    "- The basic rules of regular expression search for a pattern within a string are:\n",
    "\n",
    "- The search proceeds through the string from start to end, stopping at the first match found All of the pattern must be matched, but not all of the string If match = re.search(pat, str) is successful, match is not None and in particular match.group() is the matching text"
   ]
  },
  {
   "cell_type": "code",
   "execution_count": null,
   "metadata": {},
   "outputs": [],
   "source": [
    "## Search for pattern 'iii' in string 'piiig'.\n",
    "## All of the pattern must match, but it may appear anywhere.\n",
    "## On success, match.group() is matched text.\n",
    "match_one = re.search(r'iii', 'piiig') # found, match.group() == \"iii\"\n",
    "print(match_one)\n",
    "match_two = re.search(r'igs', 'piiig') # not found, match == None\n",
    "print(match_two)\n",
    "  ## . = any char but \\n\n",
    "match_three = re.search(r'..g', 'piiig') # found, match.group() == \"iig\"\n",
    "print(match_three)\n",
    "  ## \\d = digit char, \\w = word char\n",
    "match_four = re.search(r'\\d\\d\\d', 'p123g') # found, match.group() == \"123\"\n",
    "print(match_four)\n",
    "match_five = re.search(r'\\w\\w\\w', '@@abcd!!') # found, match.group() == \"abc\"\n",
    "print(match_five)\n",
    "\n",
    "\n"
   ]
  },
  {
   "cell_type": "markdown",
   "metadata": {},
   "source": [
    "Data extraction: retrieving specific info from unstructured data"
   ]
  },
  {
   "cell_type": "code",
   "execution_count": null,
   "metadata": {},
   "outputs": [],
   "source": [
    "log_data = \"2025-04-07 15:30:00 - ERROR - An error occurred while processing data.\"\n",
    "pattern = r\"(\\d{4}-\\d{2}-\\d{2} \\d{2}:\\d{2}:\\d{2}) - (\\w+) - (.*)\"\n",
    "    \n",
    "match_six = re.search(pattern, log_data)\n",
    "print(\"Type: \", type(match_six)) # Type:  <class 're.Match'>\n",
    "\n",
    "print(match_six)\n",
    "# for match in match_six:\n",
    "#     print(match) # TypeError: 're.Match' object is not iterable"
   ]
  },
  {
   "cell_type": "markdown",
   "metadata": {},
   "source": [
    "Repetition\n",
    "\n",
    "Things get more interesting when you use + and * to specify repetition in the pattern.\n",
    "\n",
    "\" + -- 1 or more occurrences of the pattern to its left, e.g. 'i+' = one or more i's\"\n",
    "\n",
    "\" * -- 0 or more occurrences of the pattern to its left\"\n",
    "\n",
    "\" ? -- match 0 or 1 occurrences of the pattern to its left\"\n",
    "\n",
    "Leftmost & Largest\n",
    "\n",
    "First the search finds the leftmost match for the pattern, and second it tries to use up as much of the string as possible -- i.e. + and * go as far as possible (the + and * are said to be \"greedy\")."
   ]
  },
  {
   "cell_type": "code",
   "execution_count": null,
   "metadata": {},
   "outputs": [
    {
     "name": "stdout",
     "output_type": "stream",
     "text": [
      "<re.Match object; span=(0, 4), match='piii'>\n",
      "<re.Match object; span=(1, 3), match='ii'>\n",
      "<re.Match object; span=(2, 9), match='1 2   3'>\n",
      "<re.Match object; span=(2, 6), match='1 2 '>\n",
      "<re.Match object; span=(2, 7), match='12  3'>\n",
      "<re.Match object; span=(2, 5), match='123'>\n",
      "None\n",
      "<re.Match object; span=(3, 6), match='bar'>\n"
     ]
    }
   ],
   "source": [
    "  ## i+ = one or more i's, as many as possible.\n",
    "match_one = re.search(r'pi+', 'piiig') # found, match.group() == \"piii\"\n",
    "print(match_one)\n",
    "\n",
    "  ## Finds the first/leftmost solution, and within it drives the +\n",
    "  ## as far as possible (aka 'leftmost and largest').\n",
    "  ## In this example, note that it does not get to the second set of i's.\n",
    "match_two = re.search(r'i+', 'piigiiii') # found, match.group() == \"ii\"\n",
    "print(match_two)\n",
    "\n",
    "  ## \\s* = zero or more whitespace chars\n",
    "  ## Here look for 3 digits, possibly separated by whitespace.\n",
    "match_three = re.search(r'\\d\\s*\\d\\s*\\d', 'xx1 2   3xx') # found, match.group() == \"1 2   3\"\n",
    "print(match_three)\n",
    "\n",
    "match_3 = re.search(r'\\d*\\s\\d*\\s\\d*', 'xx1 2   3xx') # found, match.group() == \"1 2 \"\n",
    "print(match_3)\n",
    "\n",
    "match_four = re.search(r'\\d\\s*\\d\\s*\\d', 'xx12  3xx') # found, match.group() == \"12  3\"\n",
    "print(match_four)\n",
    "match_five = re.search(r'\\d\\s*\\d\\s*\\d', 'xx123xx') # found, match.group() == \"123\"\n",
    "print(match_five)\n",
    "\n",
    "  ## ^ = matches the start of string, so this fails:\n",
    "match_six = re.search(r'^b\\w+', 'foobar') # not found, match == None\n",
    "print(match_six)\n",
    "  ## but without the ^ it succeeds:\n",
    "match_seven = re.search(r'b\\w+', 'foobar') # found, match.group() == \"bar\"\n",
    "print(match_seven)"
   ]
  },
  {
   "cell_type": "markdown",
   "metadata": {},
   "source": [
    "## Example 5: Grouping with search()\n",
    "We can use parentheses to group sub-patterns in a regex pattern."
   ]
  },
  {
   "cell_type": "code",
   "execution_count": null,
   "metadata": {},
   "outputs": [
    {
     "name": "stdout",
     "output_type": "stream",
     "text": [
      "Found a match: is an interpreted\n",
      "No match found.\n"
     ]
    }
   ],
   "source": [
    "text = \"Python is an interpreted high-level programming language for general-purpose programming.\"\n",
    "pattern = \"is (an|the) interpreted\"\n",
    "text2 = \"\"\"Mary had a little lamb\n",
    "           It's fleece was white as snow, yeah\"\"\"\n",
    "pattern2 = \"a snow\"\n",
    "\n",
    "match = re.search(pattern, text)\n",
    "match2 = re.search(pattern2, text2) # Output: No match found\n",
    "\n",
    "if match:\n",
    "    print(\"Found a match:\", match.group())\n",
    "else:\n",
    "    print(\"No match found.\")\n",
    "\n",
    "if match2:\n",
    "    print(\"Found a match:\", match2.group())\n",
    "else:\n",
    "    print(\"No match found.\")"
   ]
  },
  {
   "cell_type": "markdown",
   "metadata": {},
   "source": [
    "## Example 6: Match Phone Number pattern\n",
    "- Search for a pattern match in a string. Once you have a compiled regular expression pattern, you can use it to search for matches in a string.\n",
    "\n",
    "- The search() method searches the string for a match."
   ]
  },
  {
   "cell_type": "code",
   "execution_count": 45,
   "metadata": {},
   "outputs": [
    {
     "name": "stdout",
     "output_type": "stream",
     "text": [
      "None\n",
      "Found a match: 123-456-7890\n",
      "No match found.\n"
     ]
    }
   ],
   "source": [
    "pattern = re.compile(r'\\d{3}-\\d{3}-\\d{4}')\n",
    "\n",
    "phone_number = \"123-456-7890\"\n",
    "match = pattern.search(phone_number)\n",
    "phone_number2 = \"(123)456-7890\"\n",
    "match2 = pattern.search(phone_number2) # match2 = None\n",
    "print(match2)\n",
    "\n",
    "if match:\n",
    "    print(\"Found a match:\", match.group())\n",
    "else:\n",
    "    print(\"No match found.\")\n",
    "\n",
    "if match2:\n",
    "    print(\"Found a match:\", match2.group()) # Output: No match found.\n",
    "else:\n",
    "    print(\"No match found.\")"
   ]
  },
  {
   "cell_type": "markdown",
   "metadata": {},
   "source": [
    "### The match() method also searches the string for a match, but it only checks at the beginning of the string."
   ]
  },
  {
   "cell_type": "code",
   "execution_count": 46,
   "metadata": {},
   "outputs": [
    {
     "name": "stdout",
     "output_type": "stream",
     "text": [
      "Found a match: 123-456-7890\n",
      "None\n",
      "<re.Match object; span=(2, 3), match='m'>\n"
     ]
    }
   ],
   "source": [
    "match = pattern.match(phone_number)\n",
    "\n",
    "if match:\n",
    "    print(\"Found a match:\", match.group())\n",
    "else:\n",
    "    print(\"No match found.\")\n",
    "\n",
    "pattern = re.compile(\"m\")\n",
    "print(pattern.match(\"james\"))      # No match as \"m\" is not at the start of \"james\".\n",
    "print(pattern.match(\"james\", 2))   # Match as \"m\" is the 3rd character of \"james\"."
   ]
  }
 ],
 "metadata": {
  "kernelspec": {
   "display_name": "Python 3",
   "language": "python",
   "name": "python3"
  },
  "language_info": {
   "codemirror_mode": {
    "name": "ipython",
    "version": 3
   },
   "file_extension": ".py",
   "mimetype": "text/x-python",
   "name": "python",
   "nbconvert_exporter": "python",
   "pygments_lexer": "ipython3",
   "version": "3.12.0"
  }
 },
 "nbformat": 4,
 "nbformat_minor": 2
}
