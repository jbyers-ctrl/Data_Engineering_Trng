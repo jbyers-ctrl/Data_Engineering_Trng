{
 "cells": [
  {
   "cell_type": "markdown",
   "metadata": {},
   "source": [
    "## Exceptions"
   ]
  },
  {
   "cell_type": "markdown",
   "metadata": {},
   "source": [
    "Task\n",
    "\n",
    "You are given two values  and .\n",
    "Perform integer division and print .\n",
    "\n",
    "Input Format\n",
    "\n",
    "The first line contains , the number of test cases.\n",
    "The next  lines each contain the space separated values of  and .\n",
    "\n",
    "Constraints\n",
    "\n",
    "Output Format\n",
    "\n",
    "Print the value of .\n",
    "In the case of ZeroDivisionError or ValueError, print the error code.\n",
    "\n",
    "Sample Input\n",
    "\n",
    "    3\n",
    "    1 0\n",
    "    2 $\n",
    "    3 1\n",
    "Sample Output\n",
    "\n",
    "    Error Code: integer division or modulo by zero\n",
    "    Error Code: invalid literal for int() with base 10: '$'\n",
    "    3"
   ]
  },
  {
   "cell_type": "code",
   "execution_count": 1,
   "metadata": {},
   "outputs": [
    {
     "name": "stdout",
     "output_type": "stream",
     "text": [
      "Error Code: integer division or modulo by zero\n",
      "2\n"
     ]
    }
   ],
   "source": [
    "# Enter your code here. Read input from STDIN. Print output to STDOUT\n",
    "\n",
    "test_cases = int(input())   \n",
    "for values in range(test_cases):\n",
    "    try:\n",
    "        a, b = input().split()        \n",
    "        answr = int(a) // int(b)\n",
    "        print(answr)\n",
    "    except ZeroDivisionError as zde:\n",
    "        print(\"Error Code:\", zde)\n",
    "    except ValueError as ve:\n",
    "        print(\"Error Code:\", ve)"
   ]
  }
 ],
 "metadata": {
  "kernelspec": {
   "display_name": "Python 3",
   "language": "python",
   "name": "python3"
  },
  "language_info": {
   "codemirror_mode": {
    "name": "ipython",
    "version": 3
   },
   "file_extension": ".py",
   "mimetype": "text/x-python",
   "name": "python",
   "nbconvert_exporter": "python",
   "pygments_lexer": "ipython3",
   "version": "3.12.0"
  }
 },
 "nbformat": 4,
 "nbformat_minor": 2
}
