{
 "cells": [
  {
   "cell_type": "markdown",
   "metadata": {},
   "source": [
    "## Problem 1\n",
    "\n",
    "- Create a new string with the following sentence:\n",
    "\n",
    "- “You learn more from failure than from success.\"\n",
    "\n",
    "\n",
    "    - Use the 1st, 4th, and last charachter to create a new string."
   ]
  },
  {
   "cell_type": "code",
   "execution_count": 1,
   "metadata": {},
   "outputs": [
    {
     "data": {
      "text/plain": [
       "'Yl.'"
      ]
     },
     "execution_count": 1,
     "metadata": {},
     "output_type": "execute_result"
    }
   ],
   "source": [
    "orig_str = \"You learn more from failure than from success.\"\n",
    "new_str_1 = orig_str[0]\n",
    "new_str_2 = orig_str[4]\n",
    "new_str_3 = orig_str[-1]\n",
    "\n",
    "new_str = f\"{new_str_1}{new_str_2}{new_str_3}\"\n",
    "new_str"
   ]
  },
  {
   "cell_type": "markdown",
   "metadata": {},
   "source": [
    "## Problem 2\n",
    "\n",
    "- Use the same string variable from above\n",
    "- Use the replace() method to replace the \".\" with an \"!\""
   ]
  },
  {
   "cell_type": "code",
   "execution_count": 2,
   "metadata": {},
   "outputs": [
    {
     "data": {
      "text/plain": [
       "'Yl!'"
      ]
     },
     "execution_count": 2,
     "metadata": {},
     "output_type": "execute_result"
    }
   ],
   "source": [
    "replace_char = new_str.replace(\".\", \"!\")\n",
    "replace_char"
   ]
  },
  {
   "cell_type": "markdown",
   "metadata": {},
   "source": [
    "## Problem 3\n",
    "\n",
    "- Use the string variable below and create a new variable that has all of the charachters from the original string as lowercase characters"
   ]
  },
  {
   "cell_type": "code",
   "execution_count": 3,
   "metadata": {},
   "outputs": [
    {
     "data": {
      "text/plain": [
       "'“when you change your thoughts, remember to also change your world.”'"
      ]
     },
     "execution_count": 3,
     "metadata": {},
     "output_type": "execute_result"
    }
   ],
   "source": [
    "new_str= \"“WHEN YOU Change your thougHts, remember to ALSO change your world.”\"\n",
    "lower_str = new_str.lower()\n",
    "lower_str"
   ]
  },
  {
   "cell_type": "markdown",
   "metadata": {},
   "source": [
    "## Problem 4\n",
    "\n",
    "- Take the new_str variable from above and make all of characters uppercase"
   ]
  },
  {
   "cell_type": "code",
   "execution_count": 4,
   "metadata": {},
   "outputs": [
    {
     "data": {
      "text/plain": [
       "'“WHEN YOU CHANGE YOUR THOUGHTS, REMEMBER TO ALSO CHANGE YOUR WORLD.”'"
      ]
     },
     "execution_count": 4,
     "metadata": {},
     "output_type": "execute_result"
    }
   ],
   "source": [
    "upper_str = new_str.upper()\n",
    "upper_str"
   ]
  },
  {
   "cell_type": "markdown",
   "metadata": {},
   "source": [
    "## Problem 5\n",
    "\n",
    "- Use the string variable below and the startswith() method to check and see if the string starts with the charachter \"Z\".\n",
    "- Check if it starts with the charachter \"t\""
   ]
  },
  {
   "cell_type": "code",
   "execution_count": 5,
   "metadata": {},
   "outputs": [
    {
     "name": "stdout",
     "output_type": "stream",
     "text": [
      "False\n",
      "False\n"
     ]
    }
   ],
   "source": [
    "new_str= \"There are no traffic jams along the extra mile.\"\n",
    "start_with_Z = new_str.startswith(\"Z\")\n",
    "start_with_t = new_str.startswith(\"t\")\n",
    "print(start_with_Z)\n",
    "print(start_with_t)"
   ]
  },
  {
   "cell_type": "markdown",
   "metadata": {},
   "source": [
    "## Problem 6\n",
    "\n",
    "- Use the same new_str variable and the index() method to identify the index of charachter \"j\""
   ]
  },
  {
   "cell_type": "code",
   "execution_count": 6,
   "metadata": {},
   "outputs": [
    {
     "data": {
      "text/plain": [
       "21"
      ]
     },
     "execution_count": 6,
     "metadata": {},
     "output_type": "execute_result"
    }
   ],
   "source": [
    "index_of_str = new_str.index(\"j\")\n",
    "index_of_str"
   ]
  },
  {
   "cell_type": "markdown",
   "metadata": {},
   "source": [
    "## Problem 7\n",
    "\n",
    "- Use the same new_str variable\n",
    "- Use the count() method to find the number of times \"t\" and \"o\" appear in a string\n",
    "- Create a print statement that has both results in one statement. You can use string concatenation, fstring, or any other way you can think of!"
   ]
  },
  {
   "cell_type": "code",
   "execution_count": 7,
   "metadata": {},
   "outputs": [
    {
     "name": "stdout",
     "output_type": "stream",
     "text": [
      "'t' appears 3 times and 'o' appears 2 times.\n"
     ]
    }
   ],
   "source": [
    "count_str_t = new_str.count(\"t\")\n",
    "count_str_o = new_str.count(\"o\")\n",
    "print(f\"'t' appears {count_str_t} times and 'o' appears {count_str_o} times.\")"
   ]
  },
  {
   "cell_type": "markdown",
   "metadata": {},
   "source": [
    "## Problem 8\n",
    "\n",
    "- Using the string below, find the length of the given string."
   ]
  },
  {
   "cell_type": "code",
   "execution_count": 8,
   "metadata": {},
   "outputs": [
    {
     "name": "stdout",
     "output_type": "stream",
     "text": [
      "13\n"
     ]
    }
   ],
   "source": [
    "greeting= \"Good Morning!\"\n",
    "print(len(greeting))"
   ]
  },
  {
   "cell_type": "markdown",
   "metadata": {},
   "source": [
    "## Problem 9\n",
    "\n",
    "- Use the string below, and documentation on string methods to find if all the charachters in a string are alpha charachters."
   ]
  },
  {
   "cell_type": "code",
   "execution_count": 9,
   "metadata": {},
   "outputs": [
    {
     "name": "stdout",
     "output_type": "stream",
     "text": [
      "True\n"
     ]
    }
   ],
   "source": [
    "alphabet= \"abcdefghijklmnopqrstuvwxyz\"\n",
    "print(alphabet.isalpha())"
   ]
  },
  {
   "cell_type": "markdown",
   "metadata": {},
   "source": [
    "## Problem 10\n",
    "\n",
    "- Use the string below to complete the following:\n",
    "\n",
    "- Use the find() method for the value \"y\"\n",
    "- Use the index() method for the value \"y\"\n",
    "- Create a comment explaining the difference between the two methods"
   ]
  },
  {
   "cell_type": "code",
   "execution_count": 12,
   "metadata": {},
   "outputs": [
    {
     "name": "stdout",
     "output_type": "stream",
     "text": [
      "-1\n"
     ]
    },
    {
     "ename": "ValueError",
     "evalue": "substring not found",
     "output_type": "error",
     "traceback": [
      "\u001b[31m---------------------------------------------------------------------------\u001b[39m",
      "\u001b[31mValueError\u001b[39m                                Traceback (most recent call last)",
      "\u001b[36mCell\u001b[39m\u001b[36m \u001b[39m\u001b[32mIn[12]\u001b[39m\u001b[32m, line 3\u001b[39m\n\u001b[32m      1\u001b[39m learning= \u001b[33m\"\u001b[39m\u001b[33mLearning is fun!\u001b[39m\u001b[33m\"\u001b[39m\n\u001b[32m      2\u001b[39m \u001b[38;5;28mprint\u001b[39m(learning.find(\u001b[33m\"\u001b[39m\u001b[33my\u001b[39m\u001b[33m\"\u001b[39m))\n\u001b[32m----> \u001b[39m\u001b[32m3\u001b[39m \u001b[38;5;28mprint\u001b[39m(\u001b[43mlearning\u001b[49m\u001b[43m.\u001b[49m\u001b[43mindex\u001b[49m\u001b[43m(\u001b[49m\u001b[33;43m\"\u001b[39;49m\u001b[33;43my\u001b[39;49m\u001b[33;43m\"\u001b[39;49m\u001b[43m)\u001b[49m)\n",
      "\u001b[31mValueError\u001b[39m: substring not found"
     ]
    }
   ],
   "source": [
    "learning= \"Learning is fun!\"\n",
    "print(learning.find(\"y\"))\n",
    "print(learning.index(\"y\"))"
   ]
  },
  {
   "cell_type": "markdown",
   "metadata": {},
   "source": [
    "## Problem 11\n",
    "- Use the string below to count the number of times each character appears in a string."
   ]
  },
  {
   "cell_type": "code",
   "execution_count": 28,
   "metadata": {},
   "outputs": [
    {
     "name": "stdout",
     "output_type": "stream",
     "text": [
      "1\n",
      "1\n",
      "1\n",
      "3\n",
      "1\n",
      "2\n",
      "3\n",
      "3\n",
      "1\n",
      "3\n",
      "4\n",
      "5\n",
      "5\n",
      "2\n",
      "3\n",
      "5\n",
      "1\n"
     ]
    }
   ],
   "source": [
    "count_string = \"Twinkle twinkle little star, how I wonder what you are\"\n",
    "# ct_str_lst = list(count_string)\n",
    "# ct_str_joined = \",\".join(ct_str_lst)\n",
    "ct_str1 = count_string.count(\"u\")\n",
    "ct_str2 = count_string.count(\"y\")\n",
    "ct_str3 = count_string.count(\"d\")\n",
    "ct_str4 = count_string.count(\"o\")\n",
    "ct_str5 = count_string.count(\"I\")\n",
    "ct_str6 = count_string.count(\"h\")\n",
    "ct_str7 = count_string.count(\"r\")\n",
    "ct_str8 = count_string.count(\"a\")\n",
    "ct_str9 = count_string.count(\"s\")\n",
    "ct_str11 = count_string.count(\"i\")\n",
    "ct_str12 = count_string.count(\"l\")\n",
    "ct_str13 = count_string.count(\"t\")\n",
    "ct_str14 = count_string.count(\"e\")\n",
    "ct_str15 = count_string.count(\"k\")\n",
    "ct_str16 = count_string.count(\"n\")\n",
    "ct_str17 = count_string.count(\"w\")\n",
    "ct_str18 = count_string.count(\"T\")\n",
    "# print(ct_str_lst, end=\",\")\n",
    "print(ct_str1)\n",
    "print(ct_str2)\n",
    "print(ct_str3)\n",
    "print(ct_str4)\n",
    "print(ct_str5)\n",
    "print(ct_str6)\n",
    "print(ct_str7)\n",
    "print(ct_str8)\n",
    "print(ct_str9)\n",
    "print(ct_str11)\n",
    "print(ct_str12)\n",
    "print(ct_str13)\n",
    "print(ct_str14)\n",
    "print(ct_str15)\n",
    "print(ct_str16)\n",
    "print(ct_str17)\n",
    "print(ct_str18)\n"
   ]
  }
 ],
 "metadata": {
  "kernelspec": {
   "display_name": "Python 3",
   "language": "python",
   "name": "python3"
  },
  "language_info": {
   "codemirror_mode": {
    "name": "ipython",
    "version": 3
   },
   "file_extension": ".py",
   "mimetype": "text/x-python",
   "name": "python",
   "nbconvert_exporter": "python",
   "pygments_lexer": "ipython3",
   "version": "3.12.0"
  }
 },
 "nbformat": 4,
 "nbformat_minor": 2
}
