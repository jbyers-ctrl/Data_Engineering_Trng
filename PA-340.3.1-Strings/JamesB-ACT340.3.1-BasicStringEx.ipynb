{
 "cells": [
  {
   "cell_type": "markdown",
   "metadata": {},
   "source": [
    "## Problem 1\n",
    "\n",
    "- Use the following string to practice the string methods below:\n",
    "\n",
    "    - \"Everything is an Object in Python!!!\"\n",
    "\n",
    "\n",
    "    - Convert the entire string to uppercase\n",
    "    - Convert the entire string to lowercase\n",
    "    - Convert only the first letter to uppercase\n",
    "    - Count the number of occurrences\n",
    "    - Find a character or substring\n",
    "    - Check if sequence of characters are alpha and numeric\n",
    "    - Check if sequence ends with select characters"
   ]
  },
  {
   "cell_type": "code",
   "execution_count": 6,
   "metadata": {},
   "outputs": [
    {
     "name": "stdout",
     "output_type": "stream",
     "text": [
      "Everything is an Object in Python!!!\n",
      "EVERYTHING IS AN OBJECT IN PYTHON!!!\n",
      "everything is an object in python!!!\n",
      "Everything is an object in python!!!\n",
      "3\n",
      "17\n",
      "False\n",
      "True\n"
     ]
    }
   ],
   "source": [
    "stringy = \"Everything is an Object in Python!!!\"\n",
    "print(stringy)\n",
    "print(stringy.upper())\n",
    "print(stringy.lower())\n",
    "print(stringy.capitalize())\n",
    "print(stringy.count(\"t\"))\n",
    "print(stringy.find(\"Obj\"))\n",
    "print(stringy.isalnum())\n",
    "print(stringy.endswith(\"Python!!!\"))"
   ]
  },
  {
   "cell_type": "markdown",
   "metadata": {},
   "source": [
    "- Using Variables in Strings\n",
    "    - There are often times you will want to use a variabe inside of a string. There are a few ways to do this, but the most common way is to use f-strings."
   ]
  },
  {
   "cell_type": "code",
   "execution_count": 9,
   "metadata": {},
   "outputs": [
    {
     "name": "stdout",
     "output_type": "stream",
     "text": [
      "john doe\n",
      "5 + 10 = 15\n",
      "Hello, John Doe\n",
      "Hello, JOHN DOE\n"
     ]
    }
   ],
   "source": [
    "first_name= \"john\"\n",
    "last_name= \"doe\"\n",
    "full_name= f\"{first_name} {last_name}\"\n",
    "\n",
    "print(full_name)\n",
    "\n",
    "# Using arithmetic in f-strings\n",
    "a = 5\n",
    "b = 10\n",
    "print(f\"5 + 10 = {a + b}\")\n",
    "\n",
    "# Use string methods inside of f-strings\n",
    "print(f\"Hello, {full_name.title()}\")\n",
    "print(f\"Hello, {full_name.upper()}\")"
   ]
  },
  {
   "cell_type": "markdown",
   "metadata": {},
   "source": [
    "- Stripping Whitespace\n",
    "    - In Python, the string \"animal\" and \"animal \" are not equal. The whitespace becomes especially important when checking for the length of a string or comparing two strings. The string class has methods to help us remove whitespace."
   ]
  },
  {
   "cell_type": "code",
   "execution_count": 28,
   "metadata": {},
   "outputs": [
    {
     "name": "stdout",
     "output_type": "stream",
     "text": [
      " reindeer games\n",
      "reindeer games \n",
      "reindeer games\n",
      "==============================\n",
      " ++++++++Hello World\n",
      "Hello World++++++++++  \n",
      "Hello World\n",
      "==============================\n",
      "==========James\n",
      "James-------\n",
      "James\n"
     ]
    }
   ],
   "source": [
    "phrase = \" reindeer games \"\n",
    "phrase_1 = \" ++++++++Hello World++++++++++  \"\n",
    "phrase_2 = \"==========James-------\"\n",
    "\n",
    "print(phrase.rstrip())\n",
    "print(phrase.lstrip())\n",
    "print(phrase.strip())\n",
    "print(\"=\"*30)\n",
    "print(phrase_1.rstrip(\"+ \"))\n",
    "print(phrase_1.lstrip(\" +\"))\n",
    "print(phrase_1.strip(\" +\"))\n",
    "print(\"=\"*30)\n",
    "print(phrase_2.rstrip(\"-\"))\n",
    "print(phrase_2.lstrip(\"=\"))\n",
    "print(phrase_2.strip(\"=-\"))"
   ]
  },
  {
   "cell_type": "markdown",
   "metadata": {},
   "source": [
    "## Problem 2\n",
    "\n",
    "- Find a short quote and its author. Assign the quote to a variable and assign the name of the author to another variable.\n",
    "\n",
    "- Use fstring to create a new variable called message the replicates the following format:\n",
    "\n",
    "    - \"Michael Scott once said, \"I'm not superstitious but I am a little stitious.\""
   ]
  },
  {
   "cell_type": "code",
   "execution_count": 30,
   "metadata": {},
   "outputs": [
    {
     "name": "stdout",
     "output_type": "stream",
     "text": [
      "Valerie once said, \"Patience, young grasshopper.\"\n",
      "Valerie once said, 'Patience, young grasshopper.'\n",
      "Bruce Lee once said, 'I fear not the man who has practiced 10,000 kicks once, but I fear the man who has practiced one kick 10,000 times.'\n"
     ]
    }
   ],
   "source": [
    "Famous = \"Valerie\"\n",
    "\n",
    "Quote = \"Patience, young grasshopper\"\n",
    "\n",
    "print(f'{Famous} once said, \"{Quote}.\"')\n",
    "print(\"{} once said, '{}.'\".format(Famous,Quote))\n",
    "\n",
    "author = \"Bruce Lee\" \n",
    "new_quote = \"I fear not the man who has practiced 10,000 kicks once, but I fear the man who has practiced one kick 10,000 times.\"\n",
    "message = f\"{author} once said, '{new_quote}'\"\n",
    "print(message)\n",
    "\n"
   ]
  },
  {
   "cell_type": "markdown",
   "metadata": {},
   "source": [
    "- String Indexing and Slicing\n",
    "    - Because a string is a sequence, it can be accessed in the same ways that other sequence-based data types are, through indexing and slicing.\n",
    "\n",
    "    - Like the list data type that has items that correspond to an index number, each of a string’s characters also correspond to an index number, starting with the index number 0.\n",
    "\n",
    "    - If we want to access a particular index in a string we can do this using square brackets."
   ]
  },
  {
   "cell_type": "code",
   "execution_count": 35,
   "metadata": {},
   "outputs": [
    {
     "name": "stdout",
     "output_type": "stream",
     "text": [
      "a\n",
      "e\n",
      "a\n",
      "=============================================\n",
      "Alw\n",
      "las\n",
      "nseE\n",
      "nosremE odlaW hplaR yb .od ot diarfa era uoy tahw od syawlA\n",
      "=============================================\n"
     ]
    }
   ],
   "source": [
    "name = \"James is the greatest\"\n",
    "\n",
    "print(name[1])\n",
    "print(name[3])\n",
    "print(name[-5])\n",
    "\n",
    "print(\"=\"*45)\n",
    "\n",
    "quote = \"Always do what you are afraid to do. by Ralph Waldo Emerson\"\n",
    "\n",
    "print(quote[:3])\n",
    "print(quote[1: 6: 2])\n",
    "print(quote[-1: -8: -2])\n",
    "print(quote[: : -1])\n",
    "print(\"=\"*45)\n"
   ]
  },
  {
   "cell_type": "markdown",
   "metadata": {},
   "source": [
    "## Problem 3\n",
    "\n",
    "- Create a string to practice indexing and slicing on.\n",
    "\n",
    "    - Include at least on whitespace\n",
    "    - Include at least one special charachter\n",
    "    - Must have a length of at least 10\n",
    "\n",
    "- Complete the following\n",
    "\n",
    "    - Reverse the entire string\n",
    "    - Get the last charachter of the string\n",
    "    - Get every other chrachter in the string\n",
    "    - Check the length of the string\n",
    "    - Get the 4th charachter in the string\n",
    "    - Get the 4th charachter through the 9th charachter in the string\n",
    "    - Get the 7th through last charachter in the string"
   ]
  },
  {
   "cell_type": "code",
   "execution_count": 40,
   "metadata": {},
   "outputs": [
    {
     "name": "stdout",
     "output_type": "stream",
     "text": [
      "* .eno eb ot si dneirf a evah ot yaw ylno ehT *\n",
      "*\n",
      "*Teol a ohv  redi ob n.*\n",
      "47\n",
      "e\n",
      "e only\n",
      "nly way to have a friend is to be one. *\n"
     ]
    }
   ],
   "source": [
    "ralph = \"* The only way to have a friend is to be one. *\"\n",
    "\n",
    "# String reversed\n",
    "reversed_ralph = ralph[::-1]\n",
    "print(reversed_ralph)\n",
    "\n",
    "# Last character in the string\n",
    "ralph_last_char = ralph[-1]\n",
    "print(ralph_last_char)\n",
    "\n",
    "# Print every other character\n",
    "every_other = ralph[::2]\n",
    "print(every_other)\n",
    "\n",
    "# Print the length of the string\n",
    "len_ralph = len(ralph)\n",
    "print(len_ralph)\n",
    "\n",
    "# Print the 4th character\n",
    "char_four = ralph[4:5]\n",
    "print(char_four)\n",
    "\n",
    "# Print the 4th - 9th character\n",
    "char_nine = ralph[4:10]\n",
    "print(char_nine)\n",
    "\n",
    "# Print the 7th - last character\n",
    "char_seven = ralph[7:]\n",
    "print(char_seven)"
   ]
  }
 ],
 "metadata": {
  "kernelspec": {
   "display_name": "Python 3",
   "language": "python",
   "name": "python3"
  },
  "language_info": {
   "codemirror_mode": {
    "name": "ipython",
    "version": 3
   },
   "file_extension": ".py",
   "mimetype": "text/x-python",
   "name": "python",
   "nbconvert_exporter": "python",
   "pygments_lexer": "ipython3",
   "version": "3.12.0"
  }
 },
 "nbformat": 4,
 "nbformat_minor": 2
}
