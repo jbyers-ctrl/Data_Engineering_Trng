{
 "cells": [
  {
   "cell_type": "markdown",
   "metadata": {},
   "source": [
    "## Problem 1\n",
    "- Write a program that declares 1 variable x, and then assigns 7 to it. \n",
    "- Write an if statement to print out “Less than 10” if x is less than 10. Change x to equal 15, and notice the result (the console should not display anything)."
   ]
  },
  {
   "cell_type": "code",
   "execution_count": 1,
   "metadata": {},
   "outputs": [
    {
     "name": "stdout",
     "output_type": "stream",
     "text": [
      "Less than 10\n"
     ]
    }
   ],
   "source": [
    "x = 7\n",
    "\n",
    "if x < 10:\n",
    "    print(\"Less than 10\")"
   ]
  },
  {
   "cell_type": "code",
   "execution_count": null,
   "metadata": {},
   "outputs": [],
   "source": [
    "x = 15\n",
    "\n",
    "if x < 10:\n",
    "    print(\"Less than 10\") # Console does not display anything"
   ]
  },
  {
   "cell_type": "markdown",
   "metadata": {},
   "source": [
    "## Problem 2\n",
    "- Write a program that declares 1 variable x, and then assigns 7 to it. \n",
    "- Write an if-else statement that prints out “Less than 10” if x is less than 10, and “Greater than 10” if x is greater than 10. \n",
    "- Change x to 15 and notice the result. "
   ]
  },
  {
   "cell_type": "code",
   "execution_count": 3,
   "metadata": {},
   "outputs": [
    {
     "name": "stdout",
     "output_type": "stream",
     "text": [
      "Less than 10\n"
     ]
    }
   ],
   "source": [
    "x = 7\n",
    "\n",
    "if x < 10:\n",
    "    print(\"Less than 10\")\n",
    "else:\n",
    "    print(\"Greater than 10\")"
   ]
  },
  {
   "cell_type": "code",
   "execution_count": null,
   "metadata": {},
   "outputs": [
    {
     "name": "stdout",
     "output_type": "stream",
     "text": [
      "Greater than 10\n"
     ]
    }
   ],
   "source": [
    "x = 15\n",
    "\n",
    "if x < 10:\n",
    "    print(\"Less than 10\")\n",
    "else:\n",
    "    print(\"Greater than 10\")"
   ]
  },
  {
   "cell_type": "markdown",
   "metadata": {},
   "source": [
    "## Problem 3\n",
    "- Write a program that declares 1 variable x, and then assigns 15 to it. \n",
    "- Write an if...elif...else statement that prints out “Less than 10” if x is less than 10; “Between 10 and 20” if x is greater than 10 but less than 20, and “Greater than or equal to 20” if x is greater than or equal to 20. \n",
    "- Change x to 50 and notice the result."
   ]
  },
  {
   "cell_type": "code",
   "execution_count": 5,
   "metadata": {},
   "outputs": [
    {
     "name": "stdout",
     "output_type": "stream",
     "text": [
      "Between 10 and 20\n"
     ]
    }
   ],
   "source": [
    "x = 15\n",
    "\n",
    "if x < 10:\n",
    "    print(\"Less than 10\")\n",
    "elif x > 10 and x < 20:\n",
    "    print(\"Between 10 and 20\")\n",
    "else:\n",
    "    print(\"Greater than or equal to 20\")"
   ]
  },
  {
   "cell_type": "code",
   "execution_count": 6,
   "metadata": {},
   "outputs": [
    {
     "name": "stdout",
     "output_type": "stream",
     "text": [
      "Greater than or equal to 20\n"
     ]
    }
   ],
   "source": [
    "x = 50\n",
    "\n",
    "if x < 10:\n",
    "    print(\"Less than 10\")\n",
    "elif x > 10 and x < 20:\n",
    "    print(\"Between 10 and 20\")\n",
    "else:\n",
    "    print(\"Greater than or equal to 20\")"
   ]
  },
  {
   "cell_type": "markdown",
   "metadata": {},
   "source": [
    "## Problem 4\n",
    "\n",
    "- Write a program that declares 1 variable x, and then assigns 15 to it. Write an if-else statement that prints “Out of range” if the number is less than 10 or greater than 20 and prints “In range” if the number is between 10 and 20 (including equal to 10 or 20). \n",
    "- Change x to 5 and notice the result."
   ]
  },
  {
   "cell_type": "code",
   "execution_count": 7,
   "metadata": {},
   "outputs": [
    {
     "name": "stdout",
     "output_type": "stream",
     "text": [
      "In range\n"
     ]
    }
   ],
   "source": [
    "x = 15\n",
    "\n",
    "if x < 10 or x > 20:\n",
    "    print(\"Out of range\")\n",
    "else:\n",
    "    print(\"In range\")"
   ]
  },
  {
   "cell_type": "code",
   "execution_count": 8,
   "metadata": {},
   "outputs": [
    {
     "name": "stdout",
     "output_type": "stream",
     "text": [
      "Out of range\n"
     ]
    }
   ],
   "source": [
    "x = 5\n",
    "\n",
    "if x < 10 or x > 20:\n",
    "    print(\"Out of range\")\n",
    "else:\n",
    "    print(\"In range\")"
   ]
  },
  {
   "cell_type": "markdown",
   "metadata": {},
   "source": [
    "## Problem 5\n",
    "\n",
    "- Write a program that uses if...elif...else statements to print out grades A, B, C, D, and F according to the following criteria:\n",
    "    - A: 90-100\n",
    "    - B: 80-89\n",
    "    - C: 70-79\n",
    "    - D: 60-69\n",
    "    - F: <60\n",
    "- Use the input() function  to accept a number score from the user to determine the letter grade. Print out “Score out of range” if the score is less than 0 or greater than 100."
   ]
  },
  {
   "cell_type": "code",
   "execution_count": 20,
   "metadata": {},
   "outputs": [
    {
     "name": "stdout",
     "output_type": "stream",
     "text": [
      "Score out of range\n"
     ]
    }
   ],
   "source": [
    "score = input(\"In order to get your letter grade, please enter your numeric score: \")\n",
    "score = int(score)\n",
    "\n",
    "if score >= 90 and score <= 100:\n",
    "    print(\"A\")\n",
    "elif score >= 80 and score <= 89:\n",
    "    print(\"B\")\n",
    "elif score >= 70 and score <= 79:\n",
    "    print(\"C\")\n",
    "elif score >= 60 and score <= 69:\n",
    "    print(\"D\")\n",
    "elif score >= 0 and score <= 59:\n",
    "    print(\"F\")\n",
    "else:\n",
    "    print(\"Score out of range\")"
   ]
  },
  {
   "cell_type": "markdown",
   "metadata": {},
   "source": [
    "## Problem 6\n",
    "\n",
    "- Create a program that lets the users input their filing status and income. \n",
    "- Display how much tax the user would have to pay according to status and income.\n",
    "    - The U.S. federal personal income tax is calculated based on the filing status and taxable income. \n",
    "    - There are four filing statuses: Single, Married Filing Jointly, Married Filing Separately and Head of Household. \n",
    "    - The tax rates for 2009 are shown below.\n"
   ]
  },
  {
   "cell_type": "code",
   "execution_count": 23,
   "metadata": {},
   "outputs": [
    {
     "name": "stdout",
     "output_type": "stream",
     "text": [
      "You are in the 25% Tax bracket\n"
     ]
    }
   ],
   "source": [
    "file_status = input(\"Enter your filing status: Single, Married Filing Jointly, Married Filing Separately, or Head of Household: \")\n",
    "file_status = file_status.lower()\n",
    "income = input(\"Enter your income: \")\n",
    "income = int(income)\n",
    "\n",
    "# single\n",
    "if file_status == \"single\" and 0 <= income <= 8350:\n",
    "    print(\"You are in the 10% Tax bracket\")\n",
    "elif file_status == \"single\" and 8351 <= income <= 33950:\n",
    "    print(\"You are in the 15% Tax bracket\")\n",
    "elif file_status == \"single\" and 33951 <= income <= 82250:\n",
    "    print(\"You are in the 25% Tax bracket\")\n",
    "elif file_status == \"single\" and 82251 <= income <= 171550:\n",
    "    print(\"You are in the 28% Tax bracket\")\n",
    "elif file_status == \"single\" and 171551 <= income <= 372950:\n",
    "    print(\"You are in the 33% Tax bracket\")\n",
    "elif file_status == \"single\" and income >= 372951:\n",
    "    print(\"You are in the 35% Tax bracket\")\n",
    "\n",
    "# married jointly     \n",
    "elif file_status == \"married filing jointly\" and 0 <= income <= 16700:\n",
    "    print(\"You are in the 10% Tax bracket\")\n",
    "elif file_status == \"married filing jointly\" and 16701 <= income <= 67900:\n",
    "    print(\"You are in the 15% Tax bracket\")\n",
    "elif file_status == \"married filing jointly\" and 67901 <= income <= 137050:\n",
    "    print(\"You are in the 25% Tax bracket\")\n",
    "elif file_status == \"married filing jointly\" and 137051 <= income <= 208850:\n",
    "    print(\"You are in the 28% Tax bracket\")\n",
    "elif file_status == \"married filing jointly\" and 208851 <= income <= 372950:\n",
    "    print(\"You are in the 33% Tax bracket\")\n",
    "elif file_status == \"married filing jointly\" and income >= 372951:\n",
    "    print(\"You are in the 35% Tax bracket\")\n",
    "\n",
    "# married separately    \n",
    "elif file_status == \"married filing separately\" and 0 <= income <= 8350:\n",
    "    print(\"You are in the 10% Tax bracket\")\n",
    "elif file_status == \"married filing separately\" and 8351 <= income <= 33950:\n",
    "    print(\"You are in the 15% Tax bracket\")\n",
    "elif file_status == \"married filing separately\" and 33951 <= income <= 68525:\n",
    "    print(\"You are in the 25% Tax bracket\")\n",
    "elif file_status == \"married filing separately\" and 68526 <= income <= 104425:\n",
    "    print(\"You are in the 28% Tax bracket\")\n",
    "elif file_status == \"married filing separately\" and 104426 <= income <= 186475:\n",
    "    print(\"You are in the 33% Tax bracket\")\n",
    "elif file_status == \"married filing separately\" and income >= 186476:\n",
    "    print(\"You are in the 35% Tax bracket\")\n",
    "\n",
    "# head of household    \n",
    "elif file_status == \"head of household\" and 0 <= income <= 11950:\n",
    "    print(\"You are in the 10% Tax bracket\")\n",
    "elif file_status == \"head of household\" and 11951 <= income <= 45500:\n",
    "    print(\"You are in the 15% Tax bracket\")\n",
    "elif file_status == \"head of household\" and 45501 <= income <= 117450:\n",
    "    print(\"You are in the 25% Tax bracket\")\n",
    "elif file_status == \"head of household\" and 117451 <= income <= 190200:\n",
    "    print(\"You are in the 28% Tax bracket\")\n",
    "elif file_status == \"head of household\" and 190201 <= income <= 372950:\n",
    "    print(\"You are in the 33% Tax bracket\")\n",
    "elif file_status == \"head of household\" and income >= 372951:\n",
    "    print(\"You are in the 35% Tax bracket\")"
   ]
  }
 ],
 "metadata": {
  "kernelspec": {
   "display_name": "Python 3",
   "language": "python",
   "name": "python3"
  },
  "language_info": {
   "codemirror_mode": {
    "name": "ipython",
    "version": 3
   },
   "file_extension": ".py",
   "mimetype": "text/x-python",
   "name": "python",
   "nbconvert_exporter": "python",
   "pygments_lexer": "ipython3",
   "version": "3.12.0"
  }
 },
 "nbformat": 4,
 "nbformat_minor": 2
}
