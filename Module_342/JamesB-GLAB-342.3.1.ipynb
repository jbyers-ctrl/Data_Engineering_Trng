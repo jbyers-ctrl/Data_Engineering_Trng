{
 "cells": [
  {
   "cell_type": "code",
   "execution_count": null,
   "id": "599b4fcb",
   "metadata": {},
   "outputs": [
    {
     "name": "stdout",
     "output_type": "stream",
     "text": [
      "Connected to MySQL database\n",
      "Connection closed\n"
     ]
    }
   ],
   "source": [
    "import mysql.connector as mydbconnection\n",
    "from mysql.connector import Error\n",
    "\n",
    "def connect():\n",
    "    \"\"\" Connect to MySQL database \"\"\"\n",
    "    conn = None\n",
    "    try:\n",
    "        conn = mydbconnection.connect(database='classicmodels',\n",
    "                                             user='root',\n",
    "                                             password='password')\n",
    "        if conn.is_connected():\n",
    "            print('Connected to MySQL database')\n",
    "\n",
    "    except Error as e:\n",
    "        print(e) # print error\n",
    "\n",
    "    finally:\n",
    "        if conn is not None and conn.is_connected():\n",
    "            conn.close() # close connection\n",
    "            print('Connection closed')\n",
    "\n",
    "\n",
    "if __name__ == '__main__':\n",
    "    connect()\n"
   ]
  },
  {
   "cell_type": "markdown",
   "id": "60ab33e7",
   "metadata": {},
   "source": [
    "#### Note:\n",
    "- If the username or password is not valid, you will get the following error:\n",
    "    - `1045 (28000): Access denied for user 'root'@'localhost' (using password: YES)`\n",
    "\n",
    "- In case the MySQL is not available, you will get the following error:\n",
    "    - `2003: Can't connect to MySQL server on 'localhost:3306' (10061 No connection could be made because the target machine actively refused it)`"
   ]
  }
 ],
 "metadata": {
  "kernelspec": {
   "display_name": "Python 3",
   "language": "python",
   "name": "python3"
  },
  "language_info": {
   "codemirror_mode": {
    "name": "ipython",
    "version": 3
   },
   "file_extension": ".py",
   "mimetype": "text/x-python",
   "name": "python",
   "nbconvert_exporter": "python",
   "pygments_lexer": "ipython3",
   "version": "3.12.0"
  }
 },
 "nbformat": 4,
 "nbformat_minor": 5
}
