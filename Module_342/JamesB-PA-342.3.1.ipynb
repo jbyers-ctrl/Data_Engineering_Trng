{
 "cells": [
  {
   "cell_type": "markdown",
   "id": "754e880e",
   "metadata": {},
   "source": [
    "### Objective:\n",
    "In this assignment, you will practice the Python Database API. \n",
    "\n",
    "The outcomes include:\n",
    "\n",
    "Creating a database named \"RegistrationDB\" using Python.\n",
    "Developing Python methods to interact with the database:\n",
    "Creating a \"user\" table.\n",
    "Inserting initial user data.\n",
    "Retrieving all users' data.\n",
    "Retrieving data for a specific user by name.\n",
    "Validating user credentials.\n",
    "Updating user information.\n",
    "Testing the implemented methods within the program.\n",
    "Verifying database changes manually.\n",
    "\n",
    "\n"
   ]
  },
  {
   "cell_type": "markdown",
   "id": "aabd7be7",
   "metadata": {},
   "source": [
    "1. Creating Database: \n",
    "    - Create a Python Program to create a Database, named RegistrationDB."
   ]
  },
  {
   "cell_type": "code",
   "execution_count": null,
   "id": "e7532867",
   "metadata": {},
   "outputs": [
    {
     "name": "stdout",
     "output_type": "stream",
     "text": [
      "Successfully Connected to MySQL database\n",
      "Database connection is closed\n"
     ]
    }
   ],
   "source": [
    "import mysql.connector as dbconnect\n",
    "from mysql.connector import Error\n",
    "\n",
    "def create_database(db_name):\n",
    "    try:\n",
    "        myconnection = dbconnect.connect(host='localhost', user='root', password='password')\n",
    "        if myconnection.is_connected(): # Verify DB connection is established\n",
    "            print('Successfully Connected to MySQL database')\n",
    "            cursor = myconnection.cursor()\n",
    "            SQLQuery = \"CREATE DATABASE IF NOT EXISTS %s\"\n",
    "            cursor.execute(SQLQuery, params=db_name)\n",
    "    except Error as e:\n",
    "        print(\"Error while connecting to Database\", e)\n",
    "    finally:\n",
    "            if myconnection.is_connected():\n",
    "                cursor.close()\n",
    "                myconnection.close()\n",
    "            print(\"Database connection is closed\")\n",
    "\n",
    "dbName = \"RegistrationDB\"\n",
    "create_database(dbName)"
   ]
  },
  {
   "cell_type": "code",
   "execution_count": 10,
   "id": "cd98deba",
   "metadata": {},
   "outputs": [
    {
     "name": "stdout",
     "output_type": "stream",
     "text": [
      "Successfully Connected to MySQL database\n",
      "Error while connecting to Database 1064 (42000): You have an error in your SQL syntax; check the manual that corresponds to your MySQL server version for the right syntax to use near ''registrationdb'' at line 1\n",
      "Database connection is closed\n"
     ]
    }
   ],
   "source": [
    "def drop_database(db_name:str):\n",
    "    try:\n",
    "        myconnection = dbconnect.connect(host='localhost', database=db_name, user='root', password='password')\n",
    "        if myconnection.is_connected(): # Verify DB connection is established\n",
    "            print('Successfully Connected to MySQL database')\n",
    "            cursor = myconnection.cursor()\n",
    "            SQLQuery = \"DROP DATABASE %s\"\n",
    "            cursor.execute(SQLQuery, (db_name,))\n",
    "            print(f\"Dropped {db_name} database.\")\n",
    "    except Error as e:\n",
    "        print(\"Error while connecting to Database\", e)\n",
    "    finally:\n",
    "            if myconnection.is_connected():\n",
    "                cursor.close()\n",
    "                myconnection.close()\n",
    "            print(\"Database connection is closed\")\n",
    "\n",
    "dbName = \"registrationdb\"\n",
    "drop_database(dbName)"
   ]
  },
  {
   "cell_type": "markdown",
   "id": "efb8f174",
   "metadata": {},
   "source": [
    "2. Creating Method:\n",
    "    - Create a file named usertable_manipulation.py. Create a Python program with the following methods: \n",
    "        - generate_user_table()\n",
    "        - get_all_users()\n",
    "        - get_user_by_name(name)\n",
    "        - validate_user(email, password)\n",
    "        - update_user(email, name, password)"
   ]
  },
  {
   "cell_type": "code",
   "execution_count": null,
   "id": "8157213f",
   "metadata": {},
   "outputs": [],
   "source": []
  },
  {
   "cell_type": "markdown",
   "id": "2df2d3f9",
   "metadata": {},
   "source": [
    "3. generate_user_table() Method:\n",
    "    - ➢ Establish a connection to the RegistrationDB.\n",
    "    - ➢ Create a user table with the following fields/columns:\n",
    "        - ▶ email varchar(100)\n",
    "        - ▶ name varchar(50)\n",
    "        - ▶ password varchar(30)\n",
    "    - ➢ Insert the following values into the table:\n",
    "        - ▶ 'ywbaek@perscholas.org', 'young', 'letsgomets'\n",
    "        - ▶ 'mcordon@perscholas.org', 'marcial', 'perscholas'\n",
    "        - ▶ 'mhaseeb@perscholas.org', 'haseeb', 'platform'"
   ]
  },
  {
   "cell_type": "code",
   "execution_count": null,
   "id": "2b0387e9",
   "metadata": {},
   "outputs": [],
   "source": []
  },
  {
   "cell_type": "markdown",
   "id": "907cb5b8",
   "metadata": {},
   "source": [
    "4. get_all_users() Method:\n",
    "    - ➢ Establish a connection to the RegistrationDB.\n",
    "    - ➢ Print out the email, name, and password of all users."
   ]
  },
  {
   "cell_type": "code",
   "execution_count": null,
   "id": "c4cc889c",
   "metadata": {},
   "outputs": [],
   "source": []
  },
  {
   "cell_type": "markdown",
   "id": "d1bea767",
   "metadata": {},
   "source": [
    "5. get_user_by_name(name) Method:\n",
    "    - ➢ Establish a connection to the RegistrationDB.\n",
    "    - ➢ Print out the email and password of the user with the given name."
   ]
  },
  {
   "cell_type": "code",
   "execution_count": null,
   "id": "b712adbd",
   "metadata": {},
   "outputs": [],
   "source": []
  },
  {
   "cell_type": "markdown",
   "id": "be709203",
   "metadata": {},
   "source": [
    "6. validate_user(email, password) Method:\n",
    "    - ➢ Establish a connection to the RegistrationDB.\n",
    "    - ➢ Return True if a user exists with the given email and password. Return False otherwise."
   ]
  },
  {
   "cell_type": "code",
   "execution_count": null,
   "id": "a5dbb162",
   "metadata": {},
   "outputs": [],
   "source": []
  },
  {
   "cell_type": "markdown",
   "id": "99e33b5d",
   "metadata": {},
   "source": [
    "7. update_user(email, name, password) method:\n",
    "\n",
    "    - ➢ Establish a connection to the RegistrationDB.\n",
    "    - ➢ For the user with the given email, set the values of name and password to the given name and password.\n",
    "    - ➢ Return True if successful, False otherwise.\n",
    "    - ➢ Test the functions by running them in the program.\n",
    "    - ➢ Check the database manually to see if the changes are applied correctly."
   ]
  },
  {
   "cell_type": "code",
   "execution_count": null,
   "id": "9bdd1ccc",
   "metadata": {},
   "outputs": [],
   "source": []
  }
 ],
 "metadata": {
  "kernelspec": {
   "display_name": "Python 3",
   "language": "python",
   "name": "python3"
  },
  "language_info": {
   "codemirror_mode": {
    "name": "ipython",
    "version": 3
   },
   "file_extension": ".py",
   "mimetype": "text/x-python",
   "name": "python",
   "nbconvert_exporter": "python",
   "pygments_lexer": "ipython3",
   "version": "3.12.0"
  }
 },
 "nbformat": 4,
 "nbformat_minor": 5
}
