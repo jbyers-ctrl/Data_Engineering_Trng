{
 "cells": [
  {
   "cell_type": "code",
   "execution_count": 16,
   "id": "55c65cdd",
   "metadata": {},
   "outputs": [
    {
     "name": "stdout",
     "output_type": "stream",
     "text": [
      "How\n",
      " Pytho\n",
      "n Hand\n",
      "les Files?\n",
      "\n",
      "If you are working in a large software application where they process a large amount\n",
      "of data, then we cannot expect that data to be stored in a variable as the variables are\n",
      "volatile in nature.\n",
      "\n",
      "Hence when you are about to handle such situations, the role of files will come into\n",
      "the picture.\n",
      "\n",
      "As files are non-volatile in nature, the data will be stored permanently in a secondary\n",
      "device like Hard Disk and using python we will handle these files in our applications.\n",
      "\n",
      "Are you thinking about how python will handle files?\n",
      "\n",
      "Let’s take an Example of how normal people will handle the files. If we want to read\n",
      "the data from a file or write the data into a file, then, first of all, we will open the file\n",
      "or will create a new file if the file does not exist and then perform the normal\n",
      "read/write operations, save the file and close it.\n",
      "\n",
      "Similarly, we do the same operations in python using some in-built methods or\n",
      "functions.\n",
      "[]\n"
     ]
    }
   ],
   "source": [
    "with open(r\"C:\\Users\\james.byers\\Data_Engineer\\Module_342\\Data\\my_file.txt\", \"r+\") as fo:\n",
    "    \n",
    "    print(fo.read(3)) # prints ‘How’\n",
    "    print(fo.read(6))  #prints ' Pytho' \n",
    "    print(fo.read(6)) #printss 'n Hand'\n",
    "    print(fo.readline()) # prints 'How Python Handles Files?'\n",
    "    print(fo.read())\t\n",
    "    print(fo.readlines())"
   ]
  },
  {
   "cell_type": "code",
   "execution_count": null,
   "id": "60a91b05",
   "metadata": {},
   "outputs": [],
   "source": [
    "# Using the same file created from previous section\n",
    "with open(r\"C:\\Users\\james.byers\\Data_Engineer\\Module_342\\Data\\my_file.txt\", mode = 'r+') as fo:\n",
    "  print(fo.read(3)) # prints 'How'\n",
    "  print(fo.tell())  # prints '3'\n",
    "  fo.seek(45)    # moves the cursor from 3 to 45\n",
    "  print(fo.tell()) # prints '45'\n",
    "  print(fo.read()) # prints 'This is currently the last line\\n'"
   ]
  },
  {
   "cell_type": "code",
   "execution_count": null,
   "id": "27dfc997",
   "metadata": {},
   "outputs": [
    {
     "name": "stdout",
     "output_type": "stream",
     "text": [
      "James\n",
      "Malik\n",
      "Shari\n",
      "Names have been written to the file.\n"
     ]
    }
   ],
   "source": [
    "# Write a list to a file using a loop\n",
    "def write_names_to_file(names, file_path):\n",
    "    try:\n",
    "        with open(file_path, 'w') as f:\n",
    "            for item in names:\n",
    "                f.write(\"%s\\n\" % item) # finds a pattern of strings | can also just use 'item'\n",
    "                # f.write('\\n'.join(names)) # string begins at the end of line\n",
    "                print(item)\n",
    "            print('Names have been written to the file.')\n",
    "    except Exception as e:\n",
    "        print(f\"An error occurred: {str(e)}\")\n",
    "\n",
    "# Example of using the function\n",
    "names = ['Jessa', 'Eric', 'Bob']\n",
    "\n",
    "file_path = r\"C:\\Users\\james.byers\\Data_Engineer\\Module_342\\Data\\sales.txt\"\n",
    "\n",
    "write_names_to_file(names, file_path)"
   ]
  },
  {
   "cell_type": "code",
   "execution_count": 32,
   "id": "b9d21d7a",
   "metadata": {},
   "outputs": [],
   "source": [
    "with open(\"./Data/sales.txt\", \"a+\") as fp:\n",
    "    fp.write(\"\\nJohn\")"
   ]
  },
  {
   "cell_type": "code",
   "execution_count": null,
   "id": "9aedfbd3",
   "metadata": {},
   "outputs": [],
   "source": [
    "more_names = [\"\\nHaseeb\", \"\\nJimmy\", \"\\nFig\", \"\\nTano\"]\n",
    "with open(\"./Data/sales.txt\", \"a+\") as fp:\n",
    "    fp.writelines(more_names)"
   ]
  },
  {
   "cell_type": "code",
   "execution_count": 36,
   "id": "281f3429",
   "metadata": {},
   "outputs": [
    {
     "name": "stdout",
     "output_type": "stream",
     "text": [
      "Course Id\tCourse Name\tInstructor\n",
      "CSIPL01\tIntroduction to Java\tMarcial Cordon\n",
      "CSIPL02\tIntroduction to Python\tYoung Wook Baek\n"
     ]
    }
   ],
   "source": [
    "with open(\"./Data/courses.csv\", \"r+\") as csv_file:\n",
    "    for line in csv_file.readlines():\n",
    "        c_id, c_name, instructor = line.strip().split(',')\n",
    "        print(f\"{c_id}\\t{c_name}\\t{instructor}\")"
   ]
  },
  {
   "cell_type": "code",
   "execution_count": 45,
   "id": "8a6bdd9e",
   "metadata": {},
   "outputs": [
    {
     "name": "stdout",
     "output_type": "stream",
     "text": [
      "collection\n",
      "print name of the Child Elements:\n",
      "genre {'category': 'Action'}\n",
      "genre {'category': 'Thriller'}\n"
     ]
    }
   ],
   "source": [
    "import xml.etree.ElementTree as ET\n",
    "# Parse XML file\n",
    "xml_string = \"./Data/movie.xml\"\n",
    "xml_tree = ET.parse(xml_string)\n",
    "\n",
    "# Get root element\n",
    "xml_root = xml_tree.getroot()\n",
    "\n",
    "# Print root element tag name\n",
    "print(xml_root.tag)\n",
    "# Get the child elements of the root element\n",
    "child = xml_root.findall(\"movie\")\n",
    "print('print name of the Child Elements:')\n",
    "for child in xml_root:\n",
    "      print(child.tag, child.attrib)"
   ]
  }
 ],
 "metadata": {
  "kernelspec": {
   "display_name": "Python 3",
   "language": "python",
   "name": "python3"
  },
  "language_info": {
   "codemirror_mode": {
    "name": "ipython",
    "version": 3
   },
   "file_extension": ".py",
   "mimetype": "text/x-python",
   "name": "python",
   "nbconvert_exporter": "python",
   "pygments_lexer": "ipython3",
   "version": "3.12.0"
  }
 },
 "nbformat": 4,
 "nbformat_minor": 5
}
