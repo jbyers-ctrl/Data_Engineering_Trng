{
 "cells": [
  {
   "cell_type": "markdown",
   "id": "8483008b",
   "metadata": {},
   "source": [
    "## Example 1 - File Handling with Python\n",
    "- Demonstrate how to open and close files using the open() and close() functions.\n",
    "- Show how to perform read and write operations on text files.\n",
    "- Explain how to work with binary files using Python.\n",
    "- Introduce Python's OS module for file-related operations such as directory manipulation."
   ]
  },
  {
   "cell_type": "code",
   "execution_count": 3,
   "id": "43adbb67",
   "metadata": {},
   "outputs": [
    {
     "name": "stdout",
     "output_type": "stream",
     "text": [
      "File './Data/sample.txt' has been written and closed.\n"
     ]
    }
   ],
   "source": [
    "# Opening & Closing Files\n",
    "try:\n",
    "    # open text file for writing (creates it if it doesn't exist)\n",
    "    file_path = \"./Data/sample.txt\"\n",
    "    file = open(file_path, \"w\")\n",
    "\n",
    "    # write data to file\n",
    "    file.write(\"Hello World, this is James!\\n\")\n",
    "    file.write(\"This is a sample text file.\\n\")\n",
    "\n",
    "    # close file\n",
    "    file.close()\n",
    "    print(f\"File '{file_path}' has been written and closed.\")\n",
    "except IOError as e:\n",
    "    print(f\"An error occurred: {e}\")\n"
   ]
  },
  {
   "cell_type": "code",
   "execution_count": null,
   "id": "cfb0176a",
   "metadata": {},
   "outputs": [],
   "source": [
    "# Performing Read Operations on Text Files\n",
    "try:\n",
    "    # Open the text file for reading\n",
    "    file = open(file_path, \"r\")\n",
    "    \n",
    "    # Read and print the file contents line by line\n",
    "    print(\"\\nFile Contents:\")\n",
    "    for line in file:\n",
    "        print(line.strip())  # Strip to remove leading/trailing whitespace\n",
    "    \n",
    "    # Close the file\n",
    "    file.close()\n",
    "except IOError as e:\n",
    "    print(f\"An error occurred: {e}\")\n"
   ]
  },
  {
   "cell_type": "code",
   "execution_count": null,
   "id": "188b2219",
   "metadata": {},
   "outputs": [],
   "source": [
    "# Working with Binary Files\n",
    "try:\n",
    "    # Open a binary file for writing (create if it doesn't exist)\n",
    "    binary_file_path = \"./Data/sample.bin\"\n",
    "    binary_file = open(binary_file_path, \"wb\")\n",
    "    \n",
    "    # Write binary data to the file\n",
    "    binary_file.write(bytes([65, 66, 67]))  # Writing bytes 'ABC'\n",
    "    \n",
    "    # Close the binary file\n",
    "    binary_file.close()\n",
    "    print(f\"Binary file '{binary_file_path}' has been written and closed.\")\n",
    "except IOError as e:\n",
    "    print(f\"An error occurred: {e}\")\n"
   ]
  },
  {
   "cell_type": "code",
   "execution_count": 4,
   "id": "9c1fc687",
   "metadata": {},
   "outputs": [
    {
     "name": "stdout",
     "output_type": "stream",
     "text": [
      "\n",
      "The file './Data/sample.txt' exists.\n",
      "File size: 58 bytes\n",
      "File has been renamed to './Data/renamed_sample.txt'\n",
      "File './Data/renamed_sample.txt' has been deleted.\n"
     ]
    }
   ],
   "source": [
    "# Using Python's os Module\n",
    "import os\n",
    "\n",
    "# Check if a file exists\n",
    "if os.path.exists(file_path):\n",
    "    print(f\"\\nThe file '{file_path}' exists.\")\n",
    "    \n",
    "    # Get file size\n",
    "    file_size = os.path.getsize(file_path)\n",
    "    print(f\"File size: {file_size} bytes\")\n",
    "    \n",
    "    # Rename the file\n",
    "    new_file_path = \"./Data/renamed_sample.txt\"\n",
    "    os.rename(file_path, new_file_path)\n",
    "    print(f\"File has been renamed to '{new_file_path}'\")\n",
    "    \n",
    "    # Delete the file\n",
    "    os.remove(new_file_path)\n",
    "    print(f\"File '{new_file_path}' has been deleted.\")\n",
    "else:\n",
    "    print(f\"\\nThe file '{file_path}' does not exist.\")\n"
   ]
  },
  {
   "cell_type": "code",
   "execution_count": 6,
   "id": "201e31f5",
   "metadata": {},
   "outputs": [
    {
     "name": "stdout",
     "output_type": "stream",
     "text": [
      "\n",
      "Directory 'my_directory' has been created.\n",
      "Directory has been renamed to 'renamed_directory'\n",
      "Directory 'renamed_directory' has been removed.\n"
     ]
    }
   ],
   "source": [
    "import time\n",
    "# Directory Manipulation\n",
    "try:\n",
    "    # Create a new directory\n",
    "    new_directory = \"my_directory\"\n",
    "    os.mkdir(new_directory)\n",
    "    print(f\"\\nDirectory '{new_directory}' has been created.\")\n",
    "    time.sleep(5) # pause for 5 seconds\n",
    "    \n",
    "    # Rename the directory\n",
    "    renamed_directory = \"renamed_directory\"\n",
    "    os.rename(new_directory, renamed_directory)\n",
    "    print(f\"Directory has been renamed to '{renamed_directory}'\")\n",
    "    time.sleep(5) # pause for 5 seconds\n",
    "    \n",
    "    # Remove the directory\n",
    "    os.rmdir(renamed_directory)\n",
    "    print(f\"Directory '{renamed_directory}' has been removed.\")\n",
    "except OSError as e:\n",
    "    print(f\"An error occurred: {e}\")\n"
   ]
  },
  {
   "cell_type": "markdown",
   "id": "4020652c",
   "metadata": {},
   "source": [
    "### Example 2: RESTful Web Services with Python\n",
    "- Discuss the role of HTTP methods (GET, POST, PUT, DELETE) in RESTful APIs.\n",
    "- Show how to interact with RESTful web services using Python's requests library.\n",
    "- Explain how to handle JSON responses from REST APIs.\n",
    "- Describe HTTP status codes and demonstrate error handling in web service requests.\n",
    "- Let's continue with the previous example and demonstrate how to interact with a RESTful web service using Python's requests library, handle JSON responses, and demonstrate error handling with HTTP status codes."
   ]
  },
  {
   "cell_type": "code",
   "execution_count": null,
   "id": "7a5d01f9",
   "metadata": {},
   "outputs": [
    {
     "name": "stdout",
     "output_type": "stream",
     "text": [
      "{'userId': 1, 'id': 1, 'title': 'sunt aut facere repellat provident occaecati excepturi optio reprehenderit', 'body': 'quia et suscipit\\nsuscipit recusandae consequuntur expedita et cum\\nreprehenderit molestiae ut ut quas totam\\nnostrum rerum est autem sunt rem eveniet architecto'}\n",
      "\n",
      "Retrieved Data:\n",
      "User ID: 1\n",
      "Post ID: 1\n",
      "Title: sunt aut facere repellat provident occaecati excepturi optio reprehenderit\n",
      "Body: quia et suscipit\n",
      "suscipit recusandae consequuntur expedita et cum\n",
      "reprehenderit molestiae ut ut quas totam\n",
      "nostrum rerum est autem sunt rem eveniet architecto\n",
      "\n"
     ]
    }
   ],
   "source": [
    "import requests\n",
    "import json\n",
    "\n",
    "# RESTful Web Service Endpoint (example: JSONPlaceholder)\n",
    "api_endpoint = \"https://jsonplaceholder.typicode.com/posts/1\"\n",
    "\n",
    "# Send an HTTP GET request to retrieve data from the RESTful API\n",
    "try:\n",
    "    response = requests.get(api_endpoint)\n",
    "    # Check if the request was successful (HTTP status code 200)\n",
    "    if response.status_code == 200:\n",
    "        # Parse the JSON response\n",
    "        post_data = json.loads(response.text)\n",
    "        print(post_data)\n",
    "        \n",
    "        # Display the retrieved data\n",
    "        print(\"\\nRetrieved Data:\")\n",
    "        print(f\"User ID: {post_data['userId']}\")\n",
    "        print(f\"Post ID: {post_data['id']}\")\n",
    "        print(f\"Title: {post_data['title']}\")\n",
    "        print(f\"Body: {post_data['body']}\\n\")\n",
    "    else:\n",
    "        # Handle errors based on HTTP status codes\n",
    "        print(f\"HTTP Error: {response.status_code}\")\n",
    "except requests.exceptions.RequestException as e:\n",
    "    print(f\"An error occurred: {e}\")\n"
   ]
  },
  {
   "cell_type": "code",
   "execution_count": 9,
   "id": "8ac51040",
   "metadata": {},
   "outputs": [
    {
     "name": "stdout",
     "output_type": "stream",
     "text": [
      "HTTP Error: 404\n"
     ]
    }
   ],
   "source": [
    "# Handling JSON Responses from REST APIs\n",
    "# Let's assume we want to create a new post using POST method\n",
    "new_post_data = {\n",
    "    \"title\": \"New Post\",\n",
    "    \"body\": \"This is a new post created using Python requests.\",\n",
    "    \"userId\": 1  # Assume a valid user ID\n",
    "}\n",
    "# Send an HTTP POST request to create a new post\n",
    "try:\n",
    "    post_response = requests.post(api_endpoint, json=new_post_data)\n",
    "    \n",
    "    if post_response.status_code == 201:\n",
    "        created_post_data = json.loads(post_response.text)\n",
    "        print(\"\\nCreated Post Data:\")\n",
    "        print(f\"User ID: {created_post_data['userId']}\")\n",
    "        print(f\"Post ID: {created_post_data['id']}\")\n",
    "        print(f\"Title: {created_post_data['title']}\")\n",
    "        print(f\"Body: {created_post_data['body']}\\n\")\n",
    "    else:\n",
    "        print(f\"HTTP Error: {post_response.status_code}\")\n",
    "except requests.exceptions.RequestException as e:\n",
    "    print(f\"An error occurred: {e}\")\n"
   ]
  },
  {
   "cell_type": "markdown",
   "id": "12ee5f1f",
   "metadata": {},
   "source": [
    "### Example 3: XML Handling with Python\n",
    "- Use Python's libraries (e.g., xml.etree.ElementTree) to parse XML data.\n",
    "- Explain how to navigate XML trees and extract information.\n",
    "- Demonstrate how to programmatically modify and create XML documents.\n",
    "- Introduce XPath and demonstrate how to use it to query XML data.\n",
    "- In the example below:\n",
    "    - We start with sample XML data representing a bookstore.\n",
    "    - We parse the XML data using ET.fromstring() to create an ElementTree object with the root element.\n",
    "    - We navigate the XML tree using find() and findall() to extract information from the XML elements.\n",
    "    - We programmatically modify the XML data by increasing the prices of the books.\n",
    "    - We create a new book element and add it to the XML.\n",
    "    - We serialize the modified XML back to a string using ET.tostring().\n",
    "    - Finally, we use XPath expressions with findall() to query and print the titles of all books in the XML."
   ]
  },
  {
   "cell_type": "code",
   "execution_count": 10,
   "id": "c40abced",
   "metadata": {},
   "outputs": [],
   "source": [
    "import xml.etree.ElementTree as ET\n",
    "\n",
    "# Sample XML data\n",
    "xml_data = \"\"\"\n",
    "<bookstore>\n",
    "    <book>\n",
    "        <title>Python Programming</title>\n",
    "        <author>John Doe</author>\n",
    "        <price>29.95</price>\n",
    "    </book>\n",
    "    <book>\n",
    "        <title>Web Development</title>\n",
    "        <author>Jane Smith</author>\n",
    "        <price>19.99</price>\n",
    "    </book>\n",
    "</bookstore>\n",
    "\"\"\"\n"
   ]
  },
  {
   "cell_type": "code",
   "execution_count": 11,
   "id": "b693e702",
   "metadata": {},
   "outputs": [
    {
     "name": "stdout",
     "output_type": "stream",
     "text": [
      "Title: Python Programming\n",
      "Author: John Doe\n",
      "Price: $29.95\n",
      "\n",
      "Title: Web Development\n",
      "Author: Jane Smith\n",
      "Price: $19.99\n",
      "\n",
      "Modified XML:\n",
      "<bookstore>\n",
      "    <book>\n",
      "        <title>Python Programming</title>\n",
      "        <author>John Doe</author>\n",
      "        <price>32.945</price>\n",
      "    </book>\n",
      "    <book>\n",
      "        <title>Web Development</title>\n",
      "        <author>Jane Smith</author>\n",
      "        <price>21.989</price>\n",
      "    </book>\n",
      "<book><title>Data Science</title><author>Alice Johnson</author><price>39.99</price></book></bookstore>\n"
     ]
    }
   ],
   "source": [
    "# Parse the XML data\n",
    "root = ET.fromstring(xml_data)\n",
    "\n",
    "# Navigating XML Trees and Extracting Information\n",
    "for book_element in root.findall(\"book\"):\n",
    "    title = book_element.find(\"title\").text\n",
    "    author = book_element.find(\"author\").text\n",
    "    price = float(book_element.find(\"price\").text)\n",
    "    \n",
    "    print(f\"Title: {title}\")\n",
    "    print(f\"Author: {author}\")\n",
    "    print(f\"Price: ${price:.2f}\\n\")\n",
    "\n",
    "# Programmatically Modify XML Documents\n",
    "for book_element in root.findall(\"book\"):\n",
    "    price_element = book_element.find(\"price\")\n",
    "    current_price = float(price_element.text)\n",
    "    \n",
    "    # Increase the price by 10%\n",
    "    new_price = current_price * 1.10\n",
    "    price_element.text = str(new_price)\n",
    "\n",
    "# Create a new book element and add it to the XML\n",
    "new_book_element = ET.Element(\"book\")\n",
    "new_title_element = ET.Element(\"title\")\n",
    "new_title_element.text = \"Data Science\"\n",
    "new_author_element = ET.Element(\"author\")\n",
    "new_author_element.text = \"Alice Johnson\"\n",
    "new_price_element = ET.Element(\"price\")\n",
    "new_price_element.text = \"39.99\"\n",
    "new_book_element.append(new_title_element)\n",
    "new_book_element.append(new_author_element)\n",
    "new_book_element.append(new_price_element)\n",
    "root.append(new_book_element)\n",
    "\n",
    "# Serialize the modified XML to a string\n",
    "modified_xml = ET.tostring(root, encoding=\"utf-8\").decode()\n",
    "\n",
    "# Print the modified XML\n",
    "print(\"Modified XML:\")\n",
    "print(modified_xml)\n"
   ]
  },
  {
   "cell_type": "code",
   "execution_count": 12,
   "id": "90e48bcd",
   "metadata": {},
   "outputs": [
    {
     "name": "stdout",
     "output_type": "stream",
     "text": [
      "\n",
      "Using XPath:\n",
      "Title: Python Programming\n",
      "Title: Web Development\n",
      "Title: Data Science\n"
     ]
    }
   ],
   "source": [
    "# Using XPath to Query XML Data\n",
    "print(\"\\nUsing XPath:\")\n",
    "titles = root.findall(\".//title\")\n",
    "for title in titles:\n",
    "    print(f\"Title: {title.text}\")\n"
   ]
  },
  {
   "cell_type": "code",
   "execution_count": 13,
   "id": "71edcdc0",
   "metadata": {},
   "outputs": [
    {
     "name": "stdout",
     "output_type": "stream",
     "text": [
      "\n",
      "Using XPath:\n",
      "Author: John Doe\n",
      "Author: Jane Smith\n",
      "Author: Alice Johnson\n"
     ]
    }
   ],
   "source": [
    "# Using XPath to Query XML Data\n",
    "print(\"\\nUsing XPath:\")\n",
    "authors = root.findall(\".//author\")\n",
    "for author in authors:\n",
    "    print(f\"Author: {author.text}\")\n"
   ]
  },
  {
   "cell_type": "code",
   "execution_count": null,
   "id": "a72f8060",
   "metadata": {},
   "outputs": [],
   "source": []
  }
 ],
 "metadata": {
  "kernelspec": {
   "display_name": "default",
   "language": "python",
   "name": "python3"
  },
  "language_info": {
   "codemirror_mode": {
    "name": "ipython",
    "version": 3
   },
   "file_extension": ".py",
   "mimetype": "text/x-python",
   "name": "python",
   "nbconvert_exporter": "python",
   "pygments_lexer": "ipython3",
   "version": "3.10.12"
  }
 },
 "nbformat": 4,
 "nbformat_minor": 5
}
