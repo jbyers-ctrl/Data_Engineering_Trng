{
 "cells": [
  {
   "cell_type": "markdown",
   "id": "15150c56",
   "metadata": {},
   "source": [
    "### Lab Overview:\n",
    "- This lab focuses on inserting data into a MySQL database from a Python application. It covers creating a database and table, then inserting data using various methods, including single-row inserts, inserts using Python variables, and inserting multiple rows.\n",
    "- Learning Objective:\n",
    "    - By the end of this lab, learners will be able to insert data into MySQL using Python.\n",
    "- Prerequisite:  \n",
    "    - You must be familiar with using MySQL languages like Data Manipulation Language (DML) and Data Query Language (DQL). \n",
    "- Steps:\n",
    "    - Create a database.\n",
    "    - Create a table for demonstration.\n",
    "    - To insert new rows into a MySQL table:\n",
    "        1. Connect to the MySQL database server by creating a new MySQLConnection object.\n",
    "        1. Initiate a MySQLCursor object from the MySQLConnection object.\n",
    "        1. Execute the INSERT statement to insert data into the table.\n",
    "        1. Close the database connection.\n"
   ]
  },
  {
   "cell_type": "markdown",
   "id": "a79f9934",
   "metadata": {},
   "source": [
    "### Creating a Database.\n",
    "- For this lab, you must have the “usersdb” database. If you do not have the “usersdb” database setup, Run the below query on MySQL workbench.\n",
    "    - `create database usersdb`\n",
    "\n",
    "### Create Table"
   ]
  },
  {
   "cell_type": "code",
   "execution_count": 1,
   "id": "33326fe5",
   "metadata": {},
   "outputs": [
    {
     "name": "stdout",
     "output_type": "stream",
     "text": [
      "Table is created\n",
      "MySQL connection is closed\n"
     ]
    }
   ],
   "source": [
    "import mysql.connector as mydbconnection\n",
    "from mysql.connector import Error\n",
    "try:\n",
    "    # connect to MySQL              arguments passed to connect\n",
    "\tconn = mydbconnection.connect(database='usersdb', user='root',password='password', port ='3306')\n",
    "\n",
    "    # create a cursor object to perform various SQL operations\n",
    "\tcursor=conn.cursor()\n",
    "\n",
    "    # SQL query to run\n",
    "\tmyquery2 = \"CREATE TABLE `laptop` (`Id` int(11) NOT NULL,\\\n",
    "  `Name` varchar(250) NOT NULL,\\\n",
    "  `Price` float NOT NULL,\\\n",
    "  `Purchase_date` date NOT NULL)\"\n",
    "    \n",
    "    # runs the SQL query and returns the result\n",
    "\tcursor.execute(myquery2)\n",
    "\tprint(\"Table is created\")\n",
    "except Error as e:\n",
    "    print(\"Failed tocreate table {}\".format(e))\n",
    "finally:\n",
    "   # check that connection to MySQL DB has been established\n",
    "   if conn.is_connected():\n",
    "    # close open connection\n",
    "    conn.close()\n",
    "    print(\"MySQL connection is closed\")\n"
   ]
  },
  {
   "cell_type": "markdown",
   "id": "011bd107",
   "metadata": {},
   "source": [
    "#### Example 1: Insert a Single Row into MySQL Table from Python\n",
    "- In the below example, we will Insert a Single Row into a MySQL Table from Python.\n"
   ]
  },
  {
   "cell_type": "code",
   "execution_count": 2,
   "id": "565e1267",
   "metadata": {},
   "outputs": [
    {
     "name": "stdout",
     "output_type": "stream",
     "text": [
      "1 Record inserted successfully into Laptop table\n",
      "MySQL connection is closed\n"
     ]
    }
   ],
   "source": [
    "try:\n",
    "    conn = mydbconnection.connect(database='usersdb', user='root',password='password', port='3306')\n",
    "\n",
    "    mySql_insert_query = \"\"\"INSERT INTO Laptop (Id, Name, Price, Purchase_date) \n",
    "                           VALUES \n",
    "                           (15, 'Lenovo ThinkPad P71', 6459, '2019-08-14') \"\"\"\n",
    "\n",
    "    # create a cursor object to perform various SQL operations\n",
    "    cursor = conn.cursor()\n",
    "\n",
    "    # runs the SQL query and returns the result\n",
    "    cursor.execute(mySql_insert_query)\n",
    "\n",
    "    # make changes to DB\n",
    "    conn.commit()\n",
    "    print(cursor.rowcount, \"Record inserted successfully into Laptop table\")\n",
    "    cursor.close()\n",
    "\n",
    "except Error as e:\n",
    "    print(\"Failed to insert record into Laptop table {}\".format(e))\n",
    "\n",
    "finally:\n",
    "   if conn.is_connected():\n",
    "    conn.close()\n",
    "    print(\"MySQL connection is closed\")\n"
   ]
  },
  {
   "cell_type": "markdown",
   "id": "f97f6ab0",
   "metadata": {},
   "source": [
    "### Example 2: Use Python Variables in a MySQL Insert Query\n",
    "- Sometimes, you need to insert a Python variable value into a table’s column. For example, in the user signup form, the user enters his/her details. You can take those values in Python variables and insert them into a table.\n",
    "    - We can insert Python variables into the table using the prepared statement and parameterized query.\n",
    "    - Using a parameterized query, we can pass Python variables as a query parameter in which placeholders (%s) are used for parameters.\n"
   ]
  },
  {
   "cell_type": "code",
   "execution_count": 3,
   "id": "3595e4af",
   "metadata": {},
   "outputs": [
    {
     "name": "stdout",
     "output_type": "stream",
     "text": [
      "Record inserted successfully into Laptop table\n",
      "MySQL connection is closed\n",
      "Record inserted successfully into Laptop table\n",
      "MySQL connection is closed\n"
     ]
    }
   ],
   "source": [
    "def insert_varibles_into_table(id, name, price, purchase_date):\n",
    "    try:\n",
    "        conn = mydbconnection.connect(database='usersdb', user='root',password='password', port ='3306')\n",
    "        cursor = conn.cursor()\n",
    "        mySql_insert_query = \"\"\"INSERT INTO Laptop (Id, Name, Price, Purchase_date)VALUES (%s, %s, %s, %s) \"\"\"                  \n",
    "\n",
    "        record = (id, name, price, purchase_date)\n",
    "        cursor.execute(mySql_insert_query, record)\n",
    "        conn.commit()\n",
    "        print(\"Record inserted successfully into Laptop table\")\n",
    "\n",
    "    except Error as error:\n",
    "        print(\"Failed to insert into MySQL table {}\".format(error))\n",
    "\n",
    "    finally:\n",
    "        if conn.is_connected():\n",
    "            cursor.close()\n",
    "            conn.close()\n",
    "            print(\"MySQL connection is closed\")\n",
    "\n",
    "\n",
    "insert_varibles_into_table(2, 'Area 51M', 6999, '2019-04-14')\n",
    "insert_varibles_into_table(3, 'MacBook Pro', 2499, '2019-06-20')\n"
   ]
  },
  {
   "cell_type": "markdown",
   "id": "36175def",
   "metadata": {},
   "source": [
    "### Example 3: Insert multiple rows into MySQL Table using cursor’s executemany()\n",
    "- In the previous example, we have used the execute() method of the cursor object to insert a single record.\n",
    "- What if you want to insert multiple rows into a table in a single insert query from the Python application. Use the cursor’s executemany() function to insert multiple records into a table.\n",
    "- Syntax of the executemany() method:\n",
    "- `cursor.executemany(operation, seq_of_params)`\n",
    "- This method executes Insert operation against all parameter sequences in the sequence seq_of_params argument.\n",
    "- You need to include lists of tuples in the seq_of_params argument along with the insert query.\n",
    "- Each tuple inside the list contains a single row that you want to insert so that you can add as many rows in the list and pass a list to a cursor.executemany() function along with the insert query.\n",
    "- Note: Each tuple is enclosed within parentheses and is separated by commas. For example, to insert multiple rows in a laptop table, we can use the following SQL Query:\n",
    "- `INSERT INTO Laptop (Id, Name, Price, Purchase_date) VALUES (%s, %s, %s, %s)`\n",
    "- And in seq_of_params, we are passing the below List.\n",
    "- `records_to_insert = [(4, 'HP Pavilion Power', 1999, '2019-01-11'), (5, 'MSI WS75 9TL-496', 5799, '2019-02-27'), (6, 'Microsoft Surface', 2330, '2019-07-23')]`"
   ]
  },
  {
   "cell_type": "code",
   "execution_count": 4,
   "id": "32538357",
   "metadata": {},
   "outputs": [
    {
     "name": "stdout",
     "output_type": "stream",
     "text": [
      "3 Record inserted successfully into Laptop table\n",
      "MySQL connection is closed\n"
     ]
    }
   ],
   "source": [
    "try:\n",
    "    conn = mydbconnection.connect(database='usersdb', user='root',password='password', port ='3306')\n",
    "\n",
    "    mySql_insert_query = \"\"\"INSERT INTO Laptop (Id, Name, Price, Purchase_date) \n",
    "                           VALUES (%s, %s, %s, %s) \"\"\"\n",
    "\n",
    "    records_to_insert = [(4, 'HP Pavilion Power', 1999, '2019-01-11'),\n",
    "                         (5, 'MSI WS75 9TL-496', 5799, '2019-02-27'),\n",
    "                         (6, 'Microsoft Surface', 2330, '2019-07-23')]\n",
    "    cursor = conn.cursor()\n",
    "    cursor.executemany(mySql_insert_query, records_to_insert) # insert multiple records\n",
    "    conn.commit()\n",
    "    print(cursor.rowcount, \"Record inserted successfully into Laptop table\")\n",
    "\n",
    "except Error as error:\n",
    "    print(\"Failed to insert record into MySQL table {}\".format(error))\n",
    "\n",
    "finally:\n",
    "    if conn.is_connected():\n",
    "        cursor.close()\n",
    "        conn.close()\n",
    "        print(\"MySQL connection is closed\")\n"
   ]
  }
 ],
 "metadata": {
  "kernelspec": {
   "display_name": "Python 3",
   "language": "python",
   "name": "python3"
  },
  "language_info": {
   "codemirror_mode": {
    "name": "ipython",
    "version": 3
   },
   "file_extension": ".py",
   "mimetype": "text/x-python",
   "name": "python",
   "nbconvert_exporter": "python",
   "pygments_lexer": "ipython3",
   "version": "3.12.0"
  }
 },
 "nbformat": 4,
 "nbformat_minor": 5
}
