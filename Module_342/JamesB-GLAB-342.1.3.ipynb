{
 "cells": [
  {
   "cell_type": "markdown",
   "id": "214d2761",
   "metadata": {},
   "source": [
    "## Parsing XML documents using Python\n",
    "### Objective:\n",
    "- In this Python XML Parser lab, you will learn how to parse XML using Python. By the endo of lab, learners will be able to:\n",
    "\n",
    "    - Read XML document by using pythom ElementTree module.\n",
    "    - Use parse() function.\n",
    "    - Filter elements from XML document.\n",
    "- Instructions:\n",
    "    - The xml.etree.ElementTree module provides a simple and effective way to parse and create XML data.\n",
    "\n",
    "    - We can get the list of attributes and their values in the root tag. Once we find the attributes, it helps us navigate the XML tree easily.\n",
    "\n",
    "        - The parse(“file.xml”) function takes XML file format to parse it. Take a look - The getroot() method returns the root element of ‘my_document.xml’.\n",
    "        - We can also filter the results out of the xml tree by using the findall() function of this module."
   ]
  },
  {
   "cell_type": "code",
   "execution_count": 2,
   "id": "fffc520f",
   "metadata": {},
   "outputs": [
    {
     "name": "stdout",
     "output_type": "stream",
     "text": [
      "collection\n",
      "[]\n",
      "print name of the Child Elements:\n",
      "genre {'category': 'Action'}\n",
      "genre {'category': 'Thriller'}\n"
     ]
    }
   ],
   "source": [
    "import xml.etree.ElementTree as ET\n",
    "\n",
    "xml_file = \"./Data/movie.xml\"\n",
    "# Parse XML file\n",
    "xml_tree = ET.parse(xml_file)\n",
    "\n",
    "# Get root element\n",
    "xml_root = xml_tree.getroot()\n",
    "\n",
    "# Print root element tag name\n",
    "print(xml_root.tag)\n",
    "\n",
    "# Get the child elements of the root element\n",
    "child = xml_root.findall(\"movie\") # Use a for loop to iterate over children elements\n",
    "print(child) # Output is an empty list\n",
    "\n",
    "print('print name of the Child Elements:')\n",
    "for child in xml_root:\n",
    "      print(child.tag, child.attrib)\n"
   ]
  },
  {
   "cell_type": "code",
   "execution_count": null,
   "id": "3d74d569",
   "metadata": {},
   "outputs": [],
   "source": [
    "# iterate over the entire tree\n",
    "all_elements = [elem.tag for elem in xml_root.iter()]\n",
    "all_elements"
   ]
  },
  {
   "cell_type": "code",
   "execution_count": null,
   "id": "90667a09",
   "metadata": {},
   "outputs": [
    {
     "name": "stdout",
     "output_type": "stream",
     "text": [
      "<?xml version='1.0' encoding='utf8'?>\n",
      "<collection>\n",
      "    <genre category=\"Action\">\n",
      "        <decade years=\"1980s\">\n",
      "            <movie favorite=\"True\" title=\"Indiana Jones: The raiders of the lost Ark\">\n",
      "                <format multiple=\"No\">DVD</format>\n",
      "                <year>1981</year>\n",
      "                <rating>PG</rating>\n",
      "                <description>\n",
      "                'Archaeologist and adventurer Indiana Jones \n",
      "                is hired by the U.S. government to find the Ark of the \n",
      "                Covenant before the Nazis.'\n",
      "                </description>\n",
      "            </movie>\n",
      "            <movie favorite=\"True\" title=\"THE KARATE KID\">\n",
      "                <format multiple=\"Yes\">DVD,Online</format>\n",
      "                <year>1984</year>\n",
      "                <rating>PG</rating>\n",
      "                <description>None provided.</description>\n",
      "            </movie>\n",
      "            <movie favorite=\"False\" title=\"Back 2 the Future\">\n",
      "                <format multiple=\"False\">Blu-ray</format>\n",
      "                <year>1985</year>\n",
      "                <rating>PG</rating>\n",
      "                <description>Marty McFly</description>\n",
      "            </movie>\n",
      "        </decade>\n",
      "        <decade years=\"1990s\">\n",
      "            <movie favorite=\"False\" title=\"X-Men\">\n",
      "                <format multiple=\"Yes\">dvd, digital</format>\n",
      "                <year>2000</year>\n",
      "                <rating>PG-13</rating>\n",
      "                <description>Two mutants come to a private academy for their kind whose resident superhero team must oppose a terrorist organization with similar powers.</description>\n",
      "            </movie>\n",
      "            <movie favorite=\"True\" title=\"Batman Returns\">\n",
      "                <format multiple=\"No\">VHS</format>\n",
      "                <year>1992</year>\n",
      "                <rating>PG13</rating>\n",
      "                <description>NA.</description>\n",
      "            </movie>\n",
      "            <movie favorite=\"False\" title=\"Reservoir Dogs\">\n",
      "                <format multiple=\"No\">Online</format>\n",
      "                <year>1992</year>\n",
      "                <rating>R</rating>\n",
      "                <description>WhAtEvER I Want!!!?!</description>\n",
      "            </movie>\n",
      "        </decade>\n",
      "    </genre>\n",
      "    <genre category=\"Thriller\">\n",
      "        <decade years=\"1970s\">\n",
      "            <movie favorite=\"False\" title=\"ALIEN\">\n",
      "                <format multiple=\"Yes\">DVD</format>\n",
      "                <year>1979</year>\n",
      "                <rating>R</rating>\n",
      "                <description>fhfdh</description>\n",
      "            </movie>\n",
      "        </decade>\n",
      "        <decade years=\"1980s\">\n",
      "            <movie favorite=\"True\" title=\"Ferris Bueller's Day Off\">\n",
      "                <format multiple=\"No\">DVD</format>\n",
      "                <year>1986</year>\n",
      "                <rating>PG13</rating>\n",
      "                <description>Funny movie about a funny guy</description>\n",
      "            </movie>\n",
      "            <movie favorite=\"FALSE\" title=\"American Psycho\">\n",
      "                <format multiple=\"No\">blue-ray</format>\n",
      "                <year>2000</year>\n",
      "                <rating>Unrated</rating>\n",
      "                <description>psychopathic Bateman</description>\n",
      "            </movie>\n",
      "        </decade>\n",
      "    </genre>\n",
      "</collection>\n"
     ]
    }
   ],
   "source": [
    "#  see the whole document\n",
    "print(ET.tostring(xml_root, encoding='utf8').decode('utf8'))"
   ]
  },
  {
   "cell_type": "code",
   "execution_count": null,
   "id": "1c076bcb",
   "metadata": {},
   "outputs": [],
   "source": [
    "# expand iter() function with finding specific elements of interest\n",
    "for movie in xml_root.iter('movie'):\n",
    "  print(movie.attrib) # list all attributes of the movie element in the tree"
   ]
  },
  {
   "cell_type": "markdown",
   "id": "0b50501f",
   "metadata": {},
   "source": [
    "### XPath Expressions\n",
    "- Many times elements will not have attributes, they will only have text content. Using the attribute .text, you can print out this content\n",
    "- Printing out the XML is helpful, but XPath is a query language used to search through an XML quickly and easily. XPath stands for XML Path Language and uses, as the name suggests, a \"path like\" syntax to identify and navigate nodes in an XML document.\n",
    "\n",
    "- Understanding XPath is critically important to scanning and populating XMLs. ElementTree has a .findall() function that will traverse the immediate children of the referenced element. You can use XPath expressions to specify more useful searches."
   ]
  },
  {
   "cell_type": "code",
   "execution_count": null,
   "id": "69c74e73",
   "metadata": {},
   "outputs": [
    {
     "name": "stdout",
     "output_type": "stream",
     "text": [
      "\n",
      "                'Archaeologist and adventurer Indiana Jones \n",
      "                is hired by the U.S. government to find the Ark of the \n",
      "                Covenant before the Nazis.'\n",
      "                \n",
      "None provided.\n",
      "Marty McFly\n",
      "Two mutants come to a private academy for their kind whose resident superhero team must oppose a terrorist organization with similar powers.\n",
      "NA.\n",
      "WhAtEvER I Want!!!?!\n",
      "fhfdh\n",
      "Funny movie about a funny guy\n",
      "psychopathic Bateman\n"
     ]
    }
   ],
   "source": [
    "for description in xml_root.iter('description'):\n",
    "    print(description.text) # print out all the descriptions of the movies"
   ]
  },
  {
   "cell_type": "code",
   "execution_count": 6,
   "id": "c8495fba",
   "metadata": {},
   "outputs": [
    {
     "name": "stdout",
     "output_type": "stream",
     "text": [
      "{'favorite': 'True', 'title': 'Batman Returns'}\n",
      "{'favorite': 'False', 'title': 'Reservoir Dogs'}\n"
     ]
    }
   ],
   "source": [
    "# search the tree for movies that came out in 1992\n",
    "for movie in xml_root.findall(\"./genre/decade/movie/[year='1992']\"):\n",
    "    print(movie.attrib)"
   ]
  },
  {
   "cell_type": "code",
   "execution_count": 7,
   "id": "d6a87887",
   "metadata": {},
   "outputs": [
    {
     "name": "stdout",
     "output_type": "stream",
     "text": [
      "{'favorite': 'False', 'title': 'X-Men'}\n",
      "{'favorite': 'FALSE', 'title': 'American Psycho'}\n"
     ]
    }
   ],
   "source": [
    "# search the tree for movies that came out in 1992\n",
    "for movie in xml_root.findall(\"./genre/decade/movie/[year='2000']\"):\n",
    "    print(movie.attrib)"
   ]
  },
  {
   "cell_type": "code",
   "execution_count": null,
   "id": "0d30a4c3",
   "metadata": {},
   "outputs": [
    {
     "name": "stdout",
     "output_type": "stream",
     "text": [
      "{'favorite': 'True', 'title': 'THE KARATE KID'}\n",
      "{'favorite': 'False', 'title': 'X-Men'}\n",
      "{'favorite': 'False', 'title': 'ALIEN'}\n"
     ]
    }
   ],
   "source": [
    "for movie in xml_root.findall(\"./genre/decade/movie/format/[@multiple='Yes']..\"): # return the parent element of the current element using .. to go up one level\n",
    "    print(movie.attrib)"
   ]
  }
 ],
 "metadata": {
  "kernelspec": {
   "display_name": "Python 3",
   "language": "python",
   "name": "python3"
  },
  "language_info": {
   "codemirror_mode": {
    "name": "ipython",
    "version": 3
   },
   "file_extension": ".py",
   "mimetype": "text/x-python",
   "name": "python",
   "nbconvert_exporter": "python",
   "pygments_lexer": "ipython3",
   "version": "3.12.0"
  }
 },
 "nbformat": 4,
 "nbformat_minor": 5
}
