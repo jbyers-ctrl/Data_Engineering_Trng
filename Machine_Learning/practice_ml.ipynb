{
 "cells": [
  {
   "cell_type": "code",
   "execution_count": null,
   "id": "4a8d2da5",
   "metadata": {},
   "outputs": [],
   "source": [
    "# FindSpark simplifies the process of using Apache Spark with Python\n",
    "import requests\n",
    "import pyspark\n",
    "import findspark\n",
    "\n",
    "# Initializing FindSpark to locate Spark installation\n",
    "findspark.init()\n",
    "\n",
    "# Importing SparkSession from pyspark.sql module\n",
    "from pyspark.sql import SparkSession\n",
    "\n",
    "#import functions/Classes for sparkml\n",
    "from pyspark.ml.feature import StringIndexer\n",
    "from pyspark.ml.feature import VectorAssembler\n",
    "from pyspark.ml.feature import StandardScaler\n",
    "from pyspark.ml.classification import LogisticRegression\n",
    "from pyspark.ml.regression import LinearRegression\n",
    "from pyspark.sql import functions as f\n",
    "from pyspark.sql.types import IntegerType\n",
    "\n",
    "# import functions/Classes for pipeline creation\n",
    "from pyspark.ml import Pipeline\n",
    "\n",
    "# import functions/Classes for metrics\n",
    "from pyspark.ml.evaluation import RegressionEvaluator, MulticlassClassificationEvaluator, BinaryClassificationEvaluator, ClusteringEvaluator"
   ]
  },
  {
   "cell_type": "code",
   "execution_count": 20,
   "id": "21caa95f",
   "metadata": {},
   "outputs": [],
   "source": [
    "spark = SparkSession.builder.appName(\"Classification using SparkML\").getOrCreate()"
   ]
  },
  {
   "cell_type": "code",
   "execution_count": 21,
   "id": "9972ffd8",
   "metadata": {},
   "outputs": [
    {
     "name": "stdout",
     "output_type": "stream",
     "text": [
      "+--------------+------------------+--------------+----------+------------+------+------+-------+-------------+-------------+\n",
      "|Application_ID|Application_Status|Credit_History|Dependents|   Education|Gender|Income|Married|Property_Area|Self_Employed|\n",
      "+--------------+------------------+--------------+----------+------------+------+------+-------+-------------+-------------+\n",
      "|      LP001002|                 Y|             1|         0|    Graduate|  Male|medium|     No|        Urban|           No|\n",
      "|      LP001003|                 N|             1|         1|    Graduate|  Male|medium|    Yes|        Rural|           No|\n",
      "|      LP001005|                 Y|             1|         0|    Graduate|  Male|   low|    Yes|        Urban|          Yes|\n",
      "|      LP001006|                 Y|             1|         0|Not Graduate|  Male|   low|    Yes|        Urban|           No|\n",
      "|      LP001008|                 Y|             1|         0|    Graduate|  Male|medium|     No|        Urban|           No|\n",
      "+--------------+------------------+--------------+----------+------------+------+------+-------+-------------+-------------+\n",
      "only showing top 5 rows\n",
      "\n"
     ]
    }
   ],
   "source": [
    "api_url = \"https://raw.githubusercontent.com/platformps/LoanDataset/main/loan_data.json\"\n",
    "response = requests.get(api_url)\n",
    "loan_df = spark.read.json(spark.sparkContext.parallelize([response.json()]))\n",
    "loan_df.show(5)"
   ]
  },
  {
   "cell_type": "code",
   "execution_count": 4,
   "id": "df3c1cd2",
   "metadata": {},
   "outputs": [],
   "source": [
    "customer_df = spark.read.json(\"data\\cdw_sapp_customer.json\", multiLine=True)\n",
    "credit_df = spark.read.json(\"data\\cdw_sapp_credit.json\", multiLine=True)\n",
    "branch_df = spark.read.json(\"data\\cdw_sapp_branch.json\", multiLine=True)\n",
    "\n",
    "# all_df = spark.read.json([\"data\\cdw_sapp_branch.json\",\n",
    "                        # \"data\\cdw_sapp_credit.json\",\n",
    "                        # \"data\\cdw_sapp_customer.json\"\n",
    "                        # ], multiLine=True)\n",
    "# all_df.printSchema()\n",
    "# all_df.show()\n"
   ]
  },
  {
   "cell_type": "code",
   "execution_count": null,
   "id": "da7d87e9",
   "metadata": {},
   "outputs": [],
   "source": [
    "customer_df.show(10)"
   ]
  },
  {
   "cell_type": "code",
   "execution_count": null,
   "id": "368b19e7",
   "metadata": {},
   "outputs": [],
   "source": [
    "credit_df.show(10)"
   ]
  },
  {
   "cell_type": "code",
   "execution_count": null,
   "id": "0734f0a9",
   "metadata": {},
   "outputs": [],
   "source": [
    "branch_df.show(10)"
   ]
  },
  {
   "cell_type": "code",
   "execution_count": 5,
   "id": "66b62b0d",
   "metadata": {},
   "outputs": [
    {
     "name": "stdout",
     "output_type": "stream",
     "text": [
      "+----------------+------+------------+-------------+-------------------+----------+----------+--------+----------+---------+--------------------+-----------+---------+------------+-----------+---------+---+-----+--------------+----------------+-----------------+----+\n",
      "|  CREDIT_CARD_NO|APT_NO|   CUST_CITY| CUST_COUNTRY|         CUST_EMAIL|CUST_PHONE|CUST_STATE|CUST_ZIP|FIRST_NAME|LAST_NAME|        LAST_UPDATED|MIDDLE_NAME|      SSN| STREET_NAME|BRANCH_CODE| CUST_SSN|DAY|MONTH|TRANSACTION_ID|TRANSACTION_TYPE|TRANSACTION_VALUE|YEAR|\n",
      "+----------------+------+------------+-------------+-------------------+----------+----------+--------+----------+---------+--------------------+-----------+---------+------------+-----------+---------+---+-----+--------------+----------------+-----------------+----+\n",
      "|4210653349028689|   774|Harleysville|United States|ACampos@example.com|   1236163|        PA|   19438|    Amalia|   Campos|2018-04-21T12:49:...|        Hal|123459988|Valley Drive|        114|123459988| 14|    2|             1|       Education|             78.9|2018|\n",
      "|4210653349028689|   774|Harleysville|United States|ACampos@example.com|   1236163|        PA|   19438|    Amalia|   Campos|2018-04-21T12:49:...|        Hal|123459988|Valley Drive|         35|123459988| 20|    3|             2|   Entertainment|            14.24|2018|\n",
      "|4210653349028689|   774|Harleysville|United States|ACampos@example.com|   1236163|        PA|   19438|    Amalia|   Campos|2018-04-21T12:49:...|        Hal|123459988|Valley Drive|        160|123459988|  8|    7|             3|         Grocery|             56.7|2018|\n",
      "|4210653349028689|   774|Harleysville|United States|ACampos@example.com|   1236163|        PA|   19438|    Amalia|   Campos|2018-04-21T12:49:...|        Hal|123459988|Valley Drive|        114|123459988| 19|    4|             4|   Entertainment|            59.73|2018|\n",
      "|4210653349028689|   774|Harleysville|United States|ACampos@example.com|   1236163|        PA|   19438|    Amalia|   Campos|2018-04-21T12:49:...|        Hal|123459988|Valley Drive|         93|123459988| 10|   10|             5|             Gas|             3.59|2018|\n",
      "+----------------+------+------------+-------------+-------------------+----------+----------+--------+----------+---------+--------------------+-----------+---------+------------+-----------+---------+---+-----+--------------+----------------+-----------------+----+\n",
      "only showing top 5 rows\n",
      "\n"
     ]
    }
   ],
   "source": [
    "credit_cust_joined = customer_df.join(credit_df, on='CREDIT_CARD_NO')\n",
    "credit_cust_joined.show(5)"
   ]
  },
  {
   "cell_type": "code",
   "execution_count": 6,
   "id": "c44d1c2d",
   "metadata": {},
   "outputs": [
    {
     "name": "stdout",
     "output_type": "stream",
     "text": [
      "+-----------+----------------+------+------------+-------------+-------------------+----------+----------+--------+----------+---------+--------------------+-----------+---------+------------+---------+---+-----+--------------+----------------+-----------------+----+------------+------------+------------+------------+---------------+----------+--------------------+\n",
      "|BRANCH_CODE|  CREDIT_CARD_NO|APT_NO|   CUST_CITY| CUST_COUNTRY|         CUST_EMAIL|CUST_PHONE|CUST_STATE|CUST_ZIP|FIRST_NAME|LAST_NAME|        LAST_UPDATED|MIDDLE_NAME|      SSN| STREET_NAME| CUST_SSN|DAY|MONTH|TRANSACTION_ID|TRANSACTION_TYPE|TRANSACTION_VALUE|YEAR| BRANCH_CITY| BRANCH_NAME|BRANCH_PHONE|BRANCH_STATE|  BRANCH_STREET|BRANCH_ZIP|        LAST_UPDATED|\n",
      "+-----------+----------------+------+------------+-------------+-------------------+----------+----------+--------+----------+---------+--------------------+-----------+---------+------------+---------+---+-----+--------------+----------------+-----------------+----+------------+------------+------------+------------+---------------+----------+--------------------+\n",
      "|        114|4210653349028689|   774|Harleysville|United States|ACampos@example.com|   1236163|        PA|   19438|    Amalia|   Campos|2018-04-21T12:49:...|        Hal|123459988|Valley Drive|123459988| 14|    2|             1|       Education|             78.9|2018|    PalmCity|Example Bank|  1234172062|          FL| Madison Street|     34990|2018-04-18T16:51:...|\n",
      "|         35|4210653349028689|   774|Harleysville|United States|ACampos@example.com|   1236163|        PA|   19438|    Amalia|   Campos|2018-04-21T12:49:...|        Hal|123459988|Valley Drive|123459988| 20|    3|             2|   Entertainment|            14.24|2018|  Loganville|Example Bank|  1234316769|          GA|    Durham Road|     30052|2018-04-18T16:51:...|\n",
      "|        160|4210653349028689|   774|Harleysville|United States|ACampos@example.com|   1236163|        PA|   19438|    Amalia|   Campos|2018-04-21T12:49:...|        Hal|123459988|Valley Drive|123459988|  8|    7|             3|         Grocery|             56.7|2018|  GardenCity|Example Bank|  1234696702|          NY|Beechwood Drive|     11530|2018-04-18T16:51:...|\n",
      "|        114|4210653349028689|   774|Harleysville|United States|ACampos@example.com|   1236163|        PA|   19438|    Amalia|   Campos|2018-04-21T12:49:...|        Hal|123459988|Valley Drive|123459988| 19|    4|             4|   Entertainment|            59.73|2018|    PalmCity|Example Bank|  1234172062|          FL| Madison Street|     34990|2018-04-18T16:51:...|\n",
      "|         93|4210653349028689|   774|Harleysville|United States|ACampos@example.com|   1236163|        PA|   19438|    Amalia|   Campos|2018-04-21T12:49:...|        Hal|123459988|Valley Drive|123459988| 10|   10|             5|             Gas|             3.59|2018|Poughkeepsie|Example Bank|  1234885339|          NY|Harrison Street|     12601|2018-04-18T16:51:...|\n",
      "+-----------+----------------+------+------------+-------------+-------------------+----------+----------+--------+----------+---------+--------------------+-----------+---------+------------+---------+---+-----+--------------+----------------+-----------------+----+------------+------------+------------+------------+---------------+----------+--------------------+\n",
      "only showing top 5 rows\n",
      "\n"
     ]
    }
   ],
   "source": [
    "joined = customer_df.join(credit_df, on='CREDIT_CARD_NO').join(branch_df, on='BRANCH_CODE')\n",
    "joined.show(5)"
   ]
  },
  {
   "cell_type": "code",
   "execution_count": 34,
   "id": "0e6572a2",
   "metadata": {},
   "outputs": [
    {
     "name": "stdout",
     "output_type": "stream",
     "text": [
      "root\n",
      " |-- Application_ID: string (nullable = true)\n",
      " |-- Application_Status: string (nullable = true)\n",
      " |-- Credit_History: long (nullable = true)\n",
      " |-- Dependents: integer (nullable = true)\n",
      " |-- Education: string (nullable = true)\n",
      " |-- Gender: string (nullable = true)\n",
      " |-- Income: string (nullable = true)\n",
      " |-- Married: string (nullable = true)\n",
      " |-- Property_Area: string (nullable = true)\n",
      " |-- Self_Employed: string (nullable = true)\n",
      "\n"
     ]
    }
   ],
   "source": [
    "new_loan_df = loan_df.withColumn(\"Dependents\", f.regexp_replace(f.col(\"Dependents\"), \"\\+\", \"\")\\\n",
    "                                 .cast(IntegerType()))\n",
    "\n",
    "new_loan_df.printSchema()"
   ]
  },
  {
   "cell_type": "code",
   "execution_count": 11,
   "id": "7878a2bd",
   "metadata": {},
   "outputs": [
    {
     "name": "stdout",
     "output_type": "stream",
     "text": [
      "+--------------+------------------+--------------+----------+------------+------+------+-------+-------------+-------------+\n",
      "|Application_ID|Application_Status|Credit_History|Dependents|   Education|Gender|Income|Married|Property_Area|Self_Employed|\n",
      "+--------------+------------------+--------------+----------+------------+------+------+-------+-------------+-------------+\n",
      "|      LP001002|                 Y|             1|         0|    Graduate|  Male|medium|     No|        Urban|           No|\n",
      "|      LP001003|                 N|             1|         1|    Graduate|  Male|medium|    Yes|        Rural|           No|\n",
      "|      LP001005|                 Y|             1|         0|    Graduate|  Male|   low|    Yes|        Urban|          Yes|\n",
      "|      LP001006|                 Y|             1|         0|Not Graduate|  Male|   low|    Yes|        Urban|           No|\n",
      "|      LP001008|                 Y|             1|         0|    Graduate|  Male|medium|     No|        Urban|           No|\n",
      "|      LP001011|                 Y|             1|         2|    Graduate|  Male|medium|    Yes|        Urban|          Yes|\n",
      "|      LP001013|                 Y|             1|         0|Not Graduate|  Male|   low|    Yes|        Urban|           No|\n",
      "|      LP001014|                 N|             0|         3|    Graduate|  Male|   low|    Yes|    Semiurban|           No|\n",
      "|      LP001018|                 Y|             1|         2|    Graduate|  Male|medium|    Yes|        Urban|           No|\n",
      "|      LP001020|                 N|             1|         1|    Graduate|  Male|  high|    Yes|    Semiurban|           No|\n",
      "|      LP001024|                 Y|             1|         2|    Graduate|  Male|   low|    Yes|        Urban|           No|\n",
      "|      LP001028|                 Y|             1|         2|    Graduate|  Male|   low|    Yes|        Urban|           No|\n",
      "|      LP001029|                 N|             1|         0|    Graduate|  Male|   low|     No|        Rural|           No|\n",
      "|      LP001030|                 Y|             1|         2|    Graduate|  Male|   low|    Yes|        Urban|           No|\n",
      "|      LP001032|                 Y|             1|         0|    Graduate|  Male|medium|     No|        Urban|           No|\n",
      "|      LP001036|                 N|             0|         0|    Graduate|Female|   low|     No|        Urban|           No|\n",
      "|      LP001038|                 N|             1|         0|Not Graduate|  Male|medium|    Yes|        Rural|           No|\n",
      "|      LP001043|                 N|             0|         0|Not Graduate|  Male|medium|    Yes|        Urban|           No|\n",
      "|      LP001046|                 Y|             1|         1|    Graduate|  Male|medium|    Yes|        Urban|           No|\n",
      "|      LP001047|                 N|             0|         0|Not Graduate|  Male|   low|    Yes|    Semiurban|           No|\n",
      "+--------------+------------------+--------------+----------+------------+------+------+-------+-------------+-------------+\n",
      "only showing top 20 rows\n",
      "\n"
     ]
    }
   ],
   "source": [
    "new_loan_df.show()"
   ]
  },
  {
   "cell_type": "code",
   "execution_count": 35,
   "id": "fa4247e4",
   "metadata": {},
   "outputs": [],
   "source": [
    "inputs = [\"Application_Status\", \"Education\", \"Gender\", \"Income\", \"Married\", \"Property_Area\", \"Self_Employed\"]\n",
    "outputs = [\"Application_Status_Index\", \"Education_Index\", \"Gender_Index\", \"Income_Index\", \"Married_Index\", \"Property_Area_Index\", \"Self_Employed_Index\"]"
   ]
  },
  {
   "cell_type": "code",
   "execution_count": 36,
   "id": "71ec35cb",
   "metadata": {},
   "outputs": [],
   "source": [
    "indexer = StringIndexer(inputCols=inputs, outputCols=outputs)\n",
    "indexed = indexer.fit(new_loan_df).transform(new_loan_df)"
   ]
  },
  {
   "cell_type": "code",
   "execution_count": 15,
   "id": "d9ecc55d",
   "metadata": {},
   "outputs": [
    {
     "name": "stdout",
     "output_type": "stream",
     "text": [
      "+--------------+------------------+--------------+----------+------------+------+------+-------+-------------+-------------+------------------------+---------------+------------+------------+-------------+-------------------+-------------------+\n",
      "|Application_ID|Application_Status|Credit_History|Dependents|   Education|Gender|Income|Married|Property_Area|Self_Employed|Application_Status_Index|Education_Index|Gender_Index|Income_Index|Married_Index|Property_Area_Index|Self_Employed_Index|\n",
      "+--------------+------------------+--------------+----------+------------+------+------+-------+-------------+-------------+------------------------+---------------+------------+------------+-------------+-------------------+-------------------+\n",
      "|      LP001002|                 Y|             1|         0|    Graduate|  Male|medium|     No|        Urban|           No|                     0.0|            0.0|         0.0|         1.0|          1.0|                1.0|                0.0|\n",
      "|      LP001003|                 N|             1|         1|    Graduate|  Male|medium|    Yes|        Rural|           No|                     1.0|            0.0|         0.0|         1.0|          0.0|                2.0|                0.0|\n",
      "|      LP001005|                 Y|             1|         0|    Graduate|  Male|   low|    Yes|        Urban|          Yes|                     0.0|            0.0|         0.0|         0.0|          0.0|                1.0|                1.0|\n",
      "|      LP001006|                 Y|             1|         0|Not Graduate|  Male|   low|    Yes|        Urban|           No|                     0.0|            1.0|         0.0|         0.0|          0.0|                1.0|                0.0|\n",
      "|      LP001008|                 Y|             1|         0|    Graduate|  Male|medium|     No|        Urban|           No|                     0.0|            0.0|         0.0|         1.0|          1.0|                1.0|                0.0|\n",
      "|      LP001011|                 Y|             1|         2|    Graduate|  Male|medium|    Yes|        Urban|          Yes|                     0.0|            0.0|         0.0|         1.0|          0.0|                1.0|                1.0|\n",
      "|      LP001013|                 Y|             1|         0|Not Graduate|  Male|   low|    Yes|        Urban|           No|                     0.0|            1.0|         0.0|         0.0|          0.0|                1.0|                0.0|\n",
      "|      LP001014|                 N|             0|         3|    Graduate|  Male|   low|    Yes|    Semiurban|           No|                     1.0|            0.0|         0.0|         0.0|          0.0|                0.0|                0.0|\n",
      "|      LP001018|                 Y|             1|         2|    Graduate|  Male|medium|    Yes|        Urban|           No|                     0.0|            0.0|         0.0|         1.0|          0.0|                1.0|                0.0|\n",
      "|      LP001020|                 N|             1|         1|    Graduate|  Male|  high|    Yes|    Semiurban|           No|                     1.0|            0.0|         0.0|         2.0|          0.0|                0.0|                0.0|\n",
      "|      LP001024|                 Y|             1|         2|    Graduate|  Male|   low|    Yes|        Urban|           No|                     0.0|            0.0|         0.0|         0.0|          0.0|                1.0|                0.0|\n",
      "|      LP001028|                 Y|             1|         2|    Graduate|  Male|   low|    Yes|        Urban|           No|                     0.0|            0.0|         0.0|         0.0|          0.0|                1.0|                0.0|\n",
      "|      LP001029|                 N|             1|         0|    Graduate|  Male|   low|     No|        Rural|           No|                     1.0|            0.0|         0.0|         0.0|          1.0|                2.0|                0.0|\n",
      "|      LP001030|                 Y|             1|         2|    Graduate|  Male|   low|    Yes|        Urban|           No|                     0.0|            0.0|         0.0|         0.0|          0.0|                1.0|                0.0|\n",
      "|      LP001032|                 Y|             1|         0|    Graduate|  Male|medium|     No|        Urban|           No|                     0.0|            0.0|         0.0|         1.0|          1.0|                1.0|                0.0|\n",
      "|      LP001036|                 N|             0|         0|    Graduate|Female|   low|     No|        Urban|           No|                     1.0|            0.0|         1.0|         0.0|          1.0|                1.0|                0.0|\n",
      "|      LP001038|                 N|             1|         0|Not Graduate|  Male|medium|    Yes|        Rural|           No|                     1.0|            1.0|         0.0|         1.0|          0.0|                2.0|                0.0|\n",
      "|      LP001043|                 N|             0|         0|Not Graduate|  Male|medium|    Yes|        Urban|           No|                     1.0|            1.0|         0.0|         1.0|          0.0|                1.0|                0.0|\n",
      "|      LP001046|                 Y|             1|         1|    Graduate|  Male|medium|    Yes|        Urban|           No|                     0.0|            0.0|         0.0|         1.0|          0.0|                1.0|                0.0|\n",
      "|      LP001047|                 N|             0|         0|Not Graduate|  Male|   low|    Yes|    Semiurban|           No|                     1.0|            1.0|         0.0|         0.0|          0.0|                0.0|                0.0|\n",
      "+--------------+------------------+--------------+----------+------------+------+------+-------+-------------+-------------+------------------------+---------------+------------+------------+-------------+-------------------+-------------------+\n",
      "only showing top 20 rows\n",
      "\n"
     ]
    }
   ],
   "source": [
    "indexed.show()"
   ]
  },
  {
   "cell_type": "code",
   "execution_count": 37,
   "id": "25abd9f1",
   "metadata": {},
   "outputs": [
    {
     "name": "stdout",
     "output_type": "stream",
     "text": [
      "+----------+------------------------+---------------+------------+------------+-------------+-------------------+-------------------+\n",
      "|Dependents|Application_Status_Index|Education_Index|Gender_Index|Income_Index|Married_Index|Property_Area_Index|Self_Employed_Index|\n",
      "+----------+------------------------+---------------+------------+------------+-------------+-------------------+-------------------+\n",
      "|         0|                     0.0|            0.0|         0.0|         1.0|          1.0|                1.0|                0.0|\n",
      "|         1|                     1.0|            0.0|         0.0|         1.0|          0.0|                2.0|                0.0|\n",
      "|         0|                     0.0|            0.0|         0.0|         0.0|          0.0|                1.0|                1.0|\n",
      "|         0|                     0.0|            1.0|         0.0|         0.0|          0.0|                1.0|                0.0|\n",
      "|         0|                     0.0|            0.0|         0.0|         1.0|          1.0|                1.0|                0.0|\n",
      "+----------+------------------------+---------------+------------+------------+-------------+-------------------+-------------------+\n",
      "only showing top 5 rows\n",
      "\n"
     ]
    }
   ],
   "source": [
    "dropped_index = indexed.drop(\"Application_ID\", \"Credit_History\", \"Application_Status\", \"Education\", \"Gender\", \"Income\", \"Married\", \"Property_Area\", \"Self_Employed\")\n",
    "dropped_index.show(5)"
   ]
  },
  {
   "cell_type": "markdown",
   "id": "67f61081",
   "metadata": {},
   "source": [
    "### Define pipeline stages\n"
   ]
  },
  {
   "cell_type": "code",
   "execution_count": 38,
   "id": "32c10eec",
   "metadata": {},
   "outputs": [
    {
     "name": "stdout",
     "output_type": "stream",
     "text": [
      "root\n",
      " |-- Dependents: integer (nullable = true)\n",
      " |-- Application_Status_Index: double (nullable = false)\n",
      " |-- Education_Index: double (nullable = false)\n",
      " |-- Gender_Index: double (nullable = false)\n",
      " |-- Income_Index: double (nullable = false)\n",
      " |-- Married_Index: double (nullable = false)\n",
      " |-- Property_Area_Index: double (nullable = false)\n",
      " |-- Self_Employed_Index: double (nullable = false)\n",
      "\n"
     ]
    }
   ],
   "source": [
    "dropped_index.printSchema()"
   ]
  },
  {
   "cell_type": "code",
   "execution_count": 39,
   "id": "f204e9ba",
   "metadata": {},
   "outputs": [],
   "source": [
    "# Stage 1 - assemble the input columns into a single vector \n",
    "vectorAssembler = VectorAssembler(inputCols=[\"Dependents\", \"Education_Index\", \"Gender_Index\", \"Income_Index\", \"Married_Index\", \"Property_Area_Index\", \"Self_Employed_Index\"], outputCol=\"features\")\n",
    "# Stage 2 - scale the features using standard scaler\n",
    "scaler = StandardScaler(inputCol=\"features\", outputCol=\"scaledFeatures\")\n",
    "# Stage 3 - create a linear regression instance\n",
    "lr = LinearRegression(featuresCol=\"scaledFeatures\", labelCol=\"Application_Status_Index\")"
   ]
  },
  {
   "cell_type": "markdown",
   "id": "5dcc4629",
   "metadata": {},
   "source": [
    "## Task 3 - Build the pipeline\n"
   ]
  },
  {
   "cell_type": "code",
   "execution_count": 40,
   "id": "44d39741",
   "metadata": {},
   "outputs": [],
   "source": [
    "# Build the pipeline\n",
    "# All the stages of the pipeline are mentioned in the order of execution.\n",
    "pipeline = Pipeline(stages=[vectorAssembler, scaler, lr])"
   ]
  },
  {
   "cell_type": "markdown",
   "id": "d459d852",
   "metadata": {},
   "source": [
    "## Task 4 - Split the data"
   ]
  },
  {
   "cell_type": "code",
   "execution_count": 41,
   "id": "b656a6e4",
   "metadata": {},
   "outputs": [],
   "source": [
    "# Split the data into training and testing sets\n",
    "(trainingData, testData) = dropped_index.randomSplit([0.8, .02], seed=42)"
   ]
  },
  {
   "cell_type": "markdown",
   "id": "ae1cd29a",
   "metadata": {},
   "source": [
    "## Task 5 - Fit the pipeline"
   ]
  },
  {
   "cell_type": "code",
   "execution_count": 42,
   "id": "51523b59",
   "metadata": {},
   "outputs": [],
   "source": [
    "# Fit the pipeline to the training data\n",
    "# ignore any warnings. The warnings are due to the simplified settings and the security settings of the lab\n",
    "\n",
    "model = pipeline.fit(trainingData)"
   ]
  },
  {
   "cell_type": "markdown",
   "id": "5a2983d0",
   "metadata": {},
   "source": [
    "## Task 6 - Evaluate the model"
   ]
  },
  {
   "cell_type": "code",
   "execution_count": 43,
   "id": "29eba2db",
   "metadata": {},
   "outputs": [],
   "source": [
    "predictions = model.transform(testData)"
   ]
  },
  {
   "cell_type": "markdown",
   "id": "bc040058",
   "metadata": {},
   "source": [
    "Print the rmse value"
   ]
  },
  {
   "cell_type": "code",
   "execution_count": 44,
   "id": "2f38988d",
   "metadata": {},
   "outputs": [
    {
     "name": "stdout",
     "output_type": "stream",
     "text": [
      "Root Mean Squared Error (RMSE) = 0.4282090528632675\n"
     ]
    }
   ],
   "source": [
    "evaluator = RegressionEvaluator(labelCol=\"Application_Status_Index\", predictionCol=\"prediction\", metricName=\"rmse\")\n",
    "rmse = evaluator.evaluate(predictions)\n",
    "print(\"Root Mean Squared Error (RMSE) =\", rmse)"
   ]
  },
  {
   "cell_type": "code",
   "execution_count": 18,
   "id": "96be593f",
   "metadata": {},
   "outputs": [],
   "source": [
    "spark.stop()"
   ]
  },
  {
   "cell_type": "code",
   "execution_count": null,
   "id": "605b1b63",
   "metadata": {},
   "outputs": [],
   "source": [
    "new_index = indexed.select(\"Dependents\", \"Education\", \"Education_Index\", \"Gender\", \"Gender_Index\", \"Income\", \"Income_Index\", \"Married\", \"Married_Index\", \"Property_Area\", \"Property_Area_Index\", \"Self_Employed\", \"Self_Employed_Index\", \"Application_Status\", \"Application_Status_Index\")\n",
    "\n"
   ]
  },
  {
   "cell_type": "code",
   "execution_count": null,
   "id": "19c4a1ca",
   "metadata": {},
   "outputs": [],
   "source": []
  }
 ],
 "metadata": {
  "kernelspec": {
   "display_name": ".data",
   "language": "python",
   "name": "python3"
  },
  "language_info": {
   "codemirror_mode": {
    "name": "ipython",
    "version": 3
   },
   "file_extension": ".py",
   "mimetype": "text/x-python",
   "name": "python",
   "nbconvert_exporter": "python",
   "pygments_lexer": "ipython3",
   "version": "3.10.0"
  }
 },
 "nbformat": 4,
 "nbformat_minor": 5
}
