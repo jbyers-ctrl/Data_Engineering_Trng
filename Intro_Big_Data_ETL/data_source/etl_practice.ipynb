{
 "cells": [
  {
   "cell_type": "code",
   "execution_count": 1,
   "id": "51708bf9",
   "metadata": {},
   "outputs": [],
   "source": [
    "import glob\n",
    "import pandas as pd\n",
    "import xml.etree.ElementTree as ET\n",
    "from datetime import datetime"
   ]
  },
  {
   "cell_type": "code",
   "execution_count": 2,
   "id": "83b15515",
   "metadata": {},
   "outputs": [],
   "source": [
    "# two file paths that will be available globally in the code for all functions\n",
    "log_file = \"log_file.txt\" # stores all the logs\n",
    "target_file = \"transformed_data.csv\" # store the final output data that you can load to a database"
   ]
  },
  {
   "cell_type": "code",
   "execution_count": null,
   "id": "ce9c5754",
   "metadata": {},
   "outputs": [],
   "source": [
    "# extract the data from different file formats\n",
    "def extract_from_csv(file_to_process):\n",
    "    df = pd.read_csv(file_to_process)\n",
    "    return df\n",
    "\n",
    "def extract_from_json(file_to_process):\n",
    "    df = pd.read_json(file_to_process, lines=True)\n",
    "    return df\n",
    "\n",
    "def extract_from_xml(file_to_process):\n",
    "    df = pd.DataFrame(columns=[\"car_model\", \"year_of_manufacture\", \"price\", \"fuel\"])\n",
    "    tree = ET.parse(file_to_process)\n",
    "    root = tree.getroot()\n",
    "    for car in root:\n",
    "        car_model = car.find(\"car_model\").text\n",
    "        year_of_manufature = int(car.find(\"year_of_manufacture\").text)\n",
    "        price = float(car.find(\"price\").text)\n",
    "        fuel = car.find(\"fuel\").text\n",
    "        df = pd.concat([df, pd.DataFrame([{\"car_model\":car_model, \"year_of_manufacture\":year_of_manufature, \"price\":price, \"fuel\":fuel}])], ignore_index=True)\n",
    "    return df\n",
    "\n",
    "# extract_from_json(\"/home/jbyers/Data_Engineering/PerScholas_DE/Data_Engineering_Trng/Intro_Big_Data_ETL/data_source/used_car_prices1.json\")"
   ]
  },
  {
   "cell_type": "code",
   "execution_count": 11,
   "id": "03f71500",
   "metadata": {},
   "outputs": [],
   "source": [
    "def extract(): \n",
    "    extracted_data = pd.DataFrame(columns=[\"car_model\", \"year_of_manufacture\", \"price\", \"fuel\"]) # create an empty data frame to hold extracted data \n",
    "     \n",
    "    # process all csv files, except the target file\n",
    "    for csvfile in glob.glob(\"*.csv\"): \n",
    "        if csvfile != target_file:  # check if the file is not the target file\n",
    "            extracted_data = pd.concat([extracted_data, pd.DataFrame(extract_from_csv(csvfile))], ignore_index=True) \n",
    "         \n",
    "    # process all json files \n",
    "    for jsonfile in glob.glob(\"*.json\"): \n",
    "        extracted_data = pd.concat([extracted_data, pd.DataFrame(extract_from_json(jsonfile))], ignore_index=True) \n",
    "     \n",
    "    # process all xml files \n",
    "    for xmlfile in glob.glob(\"*.xml\"): \n",
    "        extracted_data = pd.concat([extracted_data, pd.DataFrame(extract_from_xml(xmlfile))], ignore_index=True) \n",
    "         \n",
    "    return extracted_data "
   ]
  },
  {
   "cell_type": "code",
   "execution_count": 7,
   "id": "460a108e",
   "metadata": {},
   "outputs": [],
   "source": [
    "# Transform the values under the 'price' header such that they are rounded to 2 decimal places\n",
    "def transform(data):\n",
    "    data[\"price\"] = round(data.price, 2)\n",
    "    return data"
   ]
  },
  {
   "cell_type": "code",
   "execution_count": 13,
   "id": "9769416b",
   "metadata": {},
   "outputs": [],
   "source": [
    "def load_data(target_file, transformed_data):\n",
    "    transformed_data.to_csv(target_file, index=False)"
   ]
  },
  {
   "cell_type": "code",
   "execution_count": 9,
   "id": "54a3db6f",
   "metadata": {},
   "outputs": [],
   "source": [
    "def log_progress(message):\n",
    "    timestamp_format = '%Y-%h-%d-%H:%M:%S' # Year-Monthname-Day-Hour-Minute-Second\n",
    "    now = datetime.now() # get current timestamp\n",
    "    timestamp = now.strftime(timestamp_format)\n",
    "    with open(log_file, \"a\") as f:\n",
    "        f.write(timestamp + ',' + message + '\\n')"
   ]
  },
  {
   "cell_type": "code",
   "execution_count": 14,
   "id": "3382a493",
   "metadata": {},
   "outputs": [
    {
     "name": "stderr",
     "output_type": "stream",
     "text": [
      "/tmp/ipykernel_25256/452771192.py:7: FutureWarning: The behavior of DataFrame concatenation with empty or all-NA entries is deprecated. In a future version, this will no longer exclude empty or all-NA columns when determining the result dtypes. To retain the old behavior, exclude the relevant entries before the concat operation.\n",
      "  extracted_data = pd.concat([extracted_data, pd.DataFrame(extract_from_csv(csvfile))], ignore_index=True)\n",
      "/tmp/ipykernel_25256/534414815.py:19: FutureWarning: The behavior of DataFrame concatenation with empty or all-NA entries is deprecated. In a future version, this will no longer exclude empty or all-NA columns when determining the result dtypes. To retain the old behavior, exclude the relevant entries before the concat operation.\n",
      "  df = pd.concat([df, pd.DataFrame([{\"car_model\":car_model, \"year_of_manufacture\":year_of_manufature, \"price\":price, \"fuel\":fuel}])], ignore_index=True)\n",
      "/tmp/ipykernel_25256/534414815.py:19: FutureWarning: The behavior of DataFrame concatenation with empty or all-NA entries is deprecated. In a future version, this will no longer exclude empty or all-NA columns when determining the result dtypes. To retain the old behavior, exclude the relevant entries before the concat operation.\n",
      "  df = pd.concat([df, pd.DataFrame([{\"car_model\":car_model, \"year_of_manufacture\":year_of_manufature, \"price\":price, \"fuel\":fuel}])], ignore_index=True)\n",
      "/tmp/ipykernel_25256/534414815.py:19: FutureWarning: The behavior of DataFrame concatenation with empty or all-NA entries is deprecated. In a future version, this will no longer exclude empty or all-NA columns when determining the result dtypes. To retain the old behavior, exclude the relevant entries before the concat operation.\n",
      "  df = pd.concat([df, pd.DataFrame([{\"car_model\":car_model, \"year_of_manufacture\":year_of_manufature, \"price\":price, \"fuel\":fuel}])], ignore_index=True)\n"
     ]
    },
    {
     "name": "stdout",
     "output_type": "stream",
     "text": [
      "Transformed Data\n",
      "        car_model year_of_manufacture     price    fuel\n",
      "0        alto k10                2016   4253.73  Petrol\n",
      "1           ignis                2017   7313.43  Petrol\n",
      "2             sx4                2011   6567.16  Petrol\n",
      "3        alto k10                2014   3731.34  Petrol\n",
      "4         wagon r                2013   4328.36  Petrol\n",
      "..            ...                 ...       ...     ...\n",
      "85        etios g                2015   5895.52  Petrol\n",
      "86  corolla altis                2013   8208.96  Petrol\n",
      "87        corolla                2004   2238.81  Petrol\n",
      "88  corolla altis                2010   7835.82  Petrol\n",
      "89       fortuner                2012  21641.79  Diesel\n",
      "\n",
      "[90 rows x 4 columns]\n"
     ]
    }
   ],
   "source": [
    "# Log the initialization of the ETL process \n",
    "log_progress(\"ETL Job Started\") \n",
    " \n",
    "# Log the beginning of the Extraction process \n",
    "log_progress(\"Extract phase Started\") \n",
    "extracted_data = extract() \n",
    " \n",
    "# Log the completion of the Extraction process \n",
    "log_progress(\"Extract phase Ended\") \n",
    " \n",
    "# Log the beginning of the Transformation process \n",
    "log_progress(\"Transform phase Started\") \n",
    "transformed_data = transform(extracted_data) \n",
    "print(\"Transformed Data\") \n",
    "print(transformed_data) \n",
    " \n",
    "# Log the completion of the Transformation process \n",
    "log_progress(\"Transform phase Ended\") \n",
    " \n",
    "# Log the beginning of the Loading process \n",
    "log_progress(\"Load phase Started\") \n",
    "load_data(target_file,transformed_data) \n",
    " \n",
    "# Log the completion of the Loading process \n",
    "log_progress(\"Load phase Ended\") \n",
    " \n",
    "# Log the completion of the ETL process \n",
    "log_progress(\"ETL Job Ended\") "
   ]
  }
 ],
 "metadata": {
  "kernelspec": {
   "display_name": "default",
   "language": "python",
   "name": "python3"
  },
  "language_info": {
   "codemirror_mode": {
    "name": "ipython",
    "version": 3
   },
   "file_extension": ".py",
   "mimetype": "text/x-python",
   "name": "python",
   "nbconvert_exporter": "python",
   "pygments_lexer": "ipython3",
   "version": "3.10.12"
  }
 },
 "nbformat": 4,
 "nbformat_minor": 5
}
