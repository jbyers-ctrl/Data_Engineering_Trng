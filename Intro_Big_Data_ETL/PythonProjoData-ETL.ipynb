{
 "cells": [
  {
   "cell_type": "markdown",
   "id": "820a6f0a",
   "metadata": {},
   "source": [
    "### Composite Functions - ETL\n",
    "### Write a simple Extract function"
   ]
  },
  {
   "cell_type": "code",
   "execution_count": null,
   "id": "f39142dd",
   "metadata": {},
   "outputs": [],
   "source": [
    "import glob\n",
    "import pandas as pd\n",
    "\n",
    "list_csv = glob.glob('*.csv')\n",
    "list_csv:['source1.csv', 'source2.csv', 'source3.csv']\n",
    "\n",
    "# Extract CSV\n",
    "def extract_from_csv(file_to_process):\n",
    "    dataframe = pd.read_csv(file_to_process)\n",
    "    return dataframe\n",
    "\n",
    "df = extract_from_csv('source1.csv')\n",
    "\n",
    "\n",
    "list_json = glob.glob('*.json')\n",
    "list_json:['source1.json', 'source2.json', 'source3.json']\n",
    "\n",
    "# Extract JSON\n",
    "def extract_from_json(file_to_process):\n",
    "    dataframe = pd.read_json(file_to_process, lines=True)\n",
    "    return dataframe\n",
    "\n",
    "df = extract_from_json('source1.json')"
   ]
  },
  {
   "cell_type": "code",
   "execution_count": null,
   "id": "34206420",
   "metadata": {},
   "outputs": [],
   "source": [
    "\n",
    "def extract():\n",
    "\n",
    "    # create an empty data frame to hold extracted data\n",
    "    extracted_data = pd.DataFrame(columns=['name', 'height', 'weight'])\n",
    "\n",
    "    # process all csv files\n",
    "    for csvfile in glob.glob('*.csv'):\n",
    "        extracted_data = extracted_data.append(extract_from_csv(csvfile), ignore_index=True)\n",
    "\n",
    "    # process all json files\n",
    "    for jsonfile in glob.glob('*.json'):\n",
    "        extracted_data = extracted_data.append(extract_from_json(jsonfile), ignore_index=True)\n",
    "    \n",
    "    return extracted_data"
   ]
  },
  {
   "cell_type": "markdown",
   "id": "d9624c3c",
   "metadata": {},
   "source": [
    "### Write a simple Transform function"
   ]
  },
  {
   "cell_type": "code",
   "execution_count": null,
   "id": "2e4509bc",
   "metadata": {},
   "outputs": [],
   "source": [
    "def transform(data):\n",
    "\n",
    "    # convert height which is in inches to millimeter\n",
    "    # convert inches to meters and round off to two decimals (one inch is 0.0254 meters)\n",
    "    data['height'] = round(data.height * 0.0254, 2)\n",
    "\n",
    "    # convert pounds to kilograms and round off to two decimal (one pound is 0.45359237 kilograms)\n",
    "    data['weight'] = round(data.weight * 0.45359237, 2)\n",
    "    return data"
   ]
  },
  {
   "cell_type": "markdown",
   "id": "cf79b62c",
   "metadata": {},
   "source": [
    "### Write a simple Load function"
   ]
  },
  {
   "cell_type": "code",
   "execution_count": null,
   "id": "8633b4c1",
   "metadata": {},
   "outputs": [],
   "source": [
    "def load(targetfile, data_to_load):\n",
    "    data_to_load.to_csv(targetfile)\n",
    "\n",
    "    targetfile = \"transformed_data.csv\"\n",
    "\n",
    "    load(targetfile, transformed_data)"
   ]
  },
  {
   "cell_type": "markdown",
   "id": "65d313f2",
   "metadata": {},
   "source": [
    "### Write a simple Logging function"
   ]
  },
  {
   "cell_type": "code",
   "execution_count": null,
   "id": "39b7048d",
   "metadata": {},
   "outputs": [],
   "source": [
    "from datetime import datetime\n",
    "\n",
    "def log(message):\n",
    "    timestamp_format = '%Y-%h-%d-%H:%M:%S'\n",
    "    now = datetime.now()\n",
    "    timestamp = now.strftime(timestamp_format)\n",
    "    with open(\"logfile.txt\", \"a\") as f:\n",
    "        f.write(timestamp + ',' + message + '\\n')"
   ]
  },
  {
   "cell_type": "markdown",
   "id": "472aba8f",
   "metadata": {},
   "source": [
    "### Final Call - call functions"
   ]
  },
  {
   "cell_type": "code",
   "execution_count": null,
   "id": "726ed0c6",
   "metadata": {},
   "outputs": [],
   "source": [
    "log(\"ETL Job Started\")\n",
    "\n",
    "log(\"Extracted phase Started\")\n",
    "extracted_data = extract()\n",
    "log(\"Extract phase Ended\")\n",
    "\n",
    "log(\"Transform Job Started\")\n",
    "transformed_data = transform(extracted_data)\n",
    "log(\"Transform Job Ended\")\n",
    "\n",
    "log(\"Load Job Started\")\n",
    "load(targetfile, transformed_data)\n",
    "log(\"Load Job Ended\")\n",
    "\n",
    "log(\"ETL Job Ended\")"
   ]
  }
 ],
 "metadata": {
  "language_info": {
   "name": "python"
  }
 },
 "nbformat": 4,
 "nbformat_minor": 5
}
