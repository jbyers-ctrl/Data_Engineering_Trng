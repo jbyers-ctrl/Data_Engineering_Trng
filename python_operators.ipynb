{
 "cells": [
  {
   "cell_type": "code",
   "execution_count": 2,
   "metadata": {},
   "outputs": [],
   "source": [
    "a = 32    # Initialize the value of a  \n",
    "b = 6      # Initialize the value of b  "
   ]
  },
  {
   "cell_type": "markdown",
   "metadata": {},
   "source": [
    "# Arithmetic Operators"
   ]
  },
  {
   "cell_type": "code",
   "execution_count": 6,
   "metadata": {},
   "outputs": [
    {
     "name": "stdout",
     "output_type": "stream",
     "text": [
      "Addition of two numbers: 38\n",
      "Subtraction of two numbers: 26\n",
      "Multiplication of two numbers: 192\n",
      "Division of two numbers: 5.333333333333333\n",
      "Reminder of two numbers: 2\n",
      "Exponent of two numbers: 1073741824\n",
      "Floor division of two numbers: 5\n",
      "Result of MultipleOperators is:  2.5\n"
     ]
    }
   ],
   "source": [
    "print('Addition of two numbers:', a+b)\n",
    "print('Subtraction of two numbers:', a-b)  \n",
    "print('Multiplication of two numbers:',a*b)\n",
    "print('Division of two numbers:', a/b)  \n",
    "print('Reminder of two numbers:', a%b)  \n",
    "print('Exponent of two numbers:', a**b)  \n",
    "print('Floor division of two numbers:', a//b)  \n",
    "MultipleOperators = 1 + 2 * 3 / 4.0\n",
    "print(\"Result of MultipleOperators is: \", MultipleOperators)"
   ]
  },
  {
   "cell_type": "code",
   "execution_count": 9,
   "metadata": {},
   "outputs": [
    {
     "name": "stdout",
     "output_type": "stream",
     "text": [
      "Division of two numbers: 1.4352941176470588\n",
      "Reminder of two numbers: 3.6999999999999993\n",
      "Exponent of two numbers: 1714188434.938843\n",
      "Floor division of two numbers: 1.0\n"
     ]
    }
   ],
   "source": [
    "# Reassign value for 'a' and 'b' to floats \n",
    "a = 12.2\n",
    "b = 8.5\n",
    "print('Division of two numbers:', a/b)  \n",
    "print('Reminder of two numbers:', a%b)  \n",
    "print('Exponent of two numbers:', a**b)  \n",
    "print('Floor division of two numbers:', a//b)  "
   ]
  },
  {
   "cell_type": "markdown",
   "metadata": {},
   "source": [
    "# Assignment Operators"
   ]
  },
  {
   "cell_type": "code",
   "execution_count": 16,
   "metadata": {},
   "outputs": [
    {
     "name": "stdout",
     "output_type": "stream",
     "text": [
      "a=10: assigns the value 10 to variable a\n",
      "a+=b: 15\n",
      "a-=b: 5\n",
      "a*=b: 50\n",
      "a%=b: 0\n",
      "a**=b: 100000\n",
      "a//=b: 2\n",
      "j is :  10\n",
      "j is :  5\n",
      "k is :  5\n",
      "j is :  10\n",
      "k is :  10\n"
     ]
    }
   ],
   "source": [
    "# Reassign 'a' and 'b'\n",
    "\n",
    "a = 10\n",
    "b = 5\n",
    "\n",
    "print('a=10: assigns the value 10 to variable a')  # assigns a value\n",
    "print('a+=b:', a+b)  # shorthand of a = a + b\n",
    "print('a-=b:', a-b)  # shorthand of a = a - b\n",
    "print('a*=b:', a*b)  # shorthand of a = a * b\n",
    "print('a%=b:', a%b)  # shorthand of a = a % b\n",
    "print('a**=b:', a**b)  # shorthand of a = a ** b\n",
    "print('a//=b:', a//b)  # shorthand of a = a/ b  \n",
    "   \n",
    "j = 10 # j gets the value 10.\n",
    "print(\"j is : \" , j)\n",
    "j = 5 # j gets the value 5. The previous value is overwritten.\n",
    "k = j # k gets the value 5.\n",
    "print(\"j is : \" , j)\n",
    "print(\"k is : \" , k)\n",
    "\n",
    "\n",
    "k = j = 10; # (k = (j = 10))\n",
    "print(\"j is : \" , j)\n",
    "print(\"k is : \" , k)"
   ]
  },
  {
   "cell_type": "markdown",
   "metadata": {},
   "source": [
    "# Comparison Operators"
   ]
  },
  {
   "cell_type": "code",
   "execution_count": 24,
   "metadata": {},
   "outputs": [
    {
     "name": "stdout",
     "output_type": "stream",
     "text": [
      "Two variables/values are equal or not: False\n",
      "Two numbers are not equal or not: True\n",
      "a is less than or equal to b: False\n",
      "a is greater than or equal to b: True\n",
      "a is greater b: True\n",
      "a is less than b: False\n",
      "True\n",
      "False\n",
      "True\n",
      "False\n",
      "True\n"
     ]
    }
   ],
   "source": [
    "a = 23.5      # Initialize the value of a  \n",
    "b = 9.4      # Initialize the value of b  \n",
    "c = \"Hello\" # String\n",
    "d = \"World\" # String\n",
    "print('Two variables/values are equal or not:', c==d)  \n",
    "print('Two numbers are not equal or not:', a!=b)  \n",
    "print('a is less than or equal to b:', a<=b)  \n",
    "print('a is greater than or equal to b:', a>=b)  \n",
    "print('a is greater b:', a>b)  \n",
    "print('a is less than b:', a<b)\n",
    "print(15 < 25)\n",
    "print(15 >= 25)\n",
    "print(15 <= 25)\n",
    "print(15 > 25)\n",
    "print(15 != 25)"
   ]
  },
  {
   "cell_type": "markdown",
   "metadata": {},
   "source": [
    "# Logical Operators"
   ]
  },
  {
   "cell_type": "code",
   "execution_count": 21,
   "metadata": {},
   "outputs": [
    {
     "name": "stdout",
     "output_type": "stream",
     "text": [
      "Is this statement true?: False\n",
      "Any one statement is true?: True\n",
      "Each statement is true then return False and vice-versa: True\n",
      "True\n",
      "True\n",
      "False\n",
      "False\n"
     ]
    }
   ],
   "source": [
    "a = 5          # initialize the value of a    \n",
    "print('Is this statement true?:', a > 3 and a < 5)  # If both the operands are true,  the condition becomes true\n",
    "print('Any one statement is true?:', a > 3 or a < 5)  # If any of the two operands are non-zero, the condition becomes true\n",
    "print('Each statement is true then return False and vice-versa:', (not(a > 3 and a < 5)))\n",
    "print(5 < 7 and 3 < 8)\n",
    "print(5 < 7 or 3 < 8)\n",
    "print(11 < 7 or 9 < 8)\n",
    "print(not(5 < 7 or 3 < 8))"
   ]
  },
  {
   "cell_type": "markdown",
   "metadata": {},
   "source": [
    "# Identity Operators"
   ]
  },
  {
   "cell_type": "code",
   "execution_count": 29,
   "metadata": {},
   "outputs": [
    {
     "name": "stdout",
     "output_type": "stream",
     "text": [
      "True\n",
      "False\n",
      "False\n",
      "True\n",
      "True\n",
      "False\n",
      "---------------\n",
      "True\n",
      "False\n",
      "True\n",
      "False\n",
      "True\n",
      "False\n"
     ]
    }
   ],
   "source": [
    "a = [\"Rose\", \"Lotus\"]\n",
    "b = [\"Rose\", \"Lotus\"]\n",
    "c = a\n",
    "d = \"James\"\n",
    "e = \"James\"\n",
    "print(a is c)\n",
    "print(a is not c)\n",
    "print(a is b)\n",
    "print(a is not b)\n",
    "print(a == b)\n",
    "print(a != b)\n",
    "print(15*'-')\n",
    "print(d is e)\n",
    "print(d is not e)\n",
    "print(d is e)\n",
    "print(d is not e)\n",
    "print(30 == 30)\n",
    "print(30 != 30)"
   ]
  },
  {
   "cell_type": "markdown",
   "metadata": {},
   "source": [
    "# Membership Operators"
   ]
  },
  {
   "cell_type": "code",
   "execution_count": 33,
   "metadata": {},
   "outputs": [
    {
     "name": "stdout",
     "output_type": "stream",
     "text": [
      " Is value Present? True\n",
      " Is value not Present? True\n",
      "True\n",
      "True\n",
      "True\n",
      "False\n",
      "True\n",
      "True\n",
      "False\n",
      "True\n"
     ]
    }
   ],
   "source": [
    "x = [\"Rose\", \"Lotus\"]  \n",
    "print(' Is value Present?', \"Rose\" in x)  \n",
    "print(' Is value not Present?', \"Riya\" not in x)    \n",
    "\n",
    "\n",
    "x = 'Hello world'\n",
    "y = {1:'a', 2:'b'}\n",
    "\n",
    "\n",
    "# check if 'H' is present in x string\n",
    "print('H' in x)  # prints True\n",
    "# check if 'hello' is present in x string\n",
    "print('hello' not in x)  # prints True\n",
    "# check if '1' key is present in y\n",
    "print(1 in y)  # prints True\n",
    "# check if 'a' key is present in y\n",
    "print('a' in y)  # prints False\n",
    "\n",
    "popular_cars = [\n",
    "    \"Toyota Camry\",\n",
    "    \"Honda Civic\",\n",
    "    \"Ford F-150\",\n",
    "    \"Toyota RAV4\",\n",
    "    \"Honda CR-V\",\n",
    "    \"Chevrolet Silverado\",\n",
    "    \"Nissan Rogue\",\n",
    "    \"Tesla Model 3\",\n",
    "    \"Hyundai Tucson\",\n",
    "    \"Jeep Wrangler\"\n",
    "]\n",
    "\n",
    "# check if 'Rover' is present in popular_cars string\n",
    "print('Rover' not in popular_cars)  # prints True\n",
    "# check if 'Toyota Camry' is present in popular_cars string\n",
    "print('Toyota Camry' in popular_cars)  # prints True\n",
    "# check if 'Spaceship' kepopular_cars is present in popular_cars\n",
    "print('Spaceship' in popular_cars)  # prints False\n",
    "# check if 'Honda' key is present in popular_cars\n",
    "print('Honda CR-V' in popular_cars)  # prints True"
   ]
  }
 ],
 "metadata": {
  "kernelspec": {
   "display_name": "Python 3",
   "language": "python",
   "name": "python3"
  },
  "language_info": {
   "codemirror_mode": {
    "name": "ipython",
    "version": 3
   },
   "file_extension": ".py",
   "mimetype": "text/x-python",
   "name": "python",
   "nbconvert_exporter": "python",
   "pygments_lexer": "ipython3",
   "version": "3.12.0"
  }
 },
 "nbformat": 4,
 "nbformat_minor": 2
}
