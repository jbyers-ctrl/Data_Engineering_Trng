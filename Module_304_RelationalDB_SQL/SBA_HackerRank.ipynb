{
 "cells": [
  {
   "cell_type": "code",
   "execution_count": null,
   "id": "b3f8f8d2",
   "metadata": {
    "vscode": {
     "languageId": "sql"
    }
   },
   "outputs": [],
   "source": [
    "-- 2. Lists number of courses of each department\n",
    "SELECT d.name AS Department, COUNT(c.name) AS Number_of_Courses\n",
    "FROM department d\n",
    "JOIN course c ON d.id=c.deptId\n",
    "GROUP BY Department\n",
    "ORDER BY Number_of_Courses, Department;"
   ]
  },
  {
   "cell_type": "code",
   "execution_count": null,
   "id": "2500b6f2",
   "metadata": {
    "vscode": {
     "languageId": "sql"
    }
   },
   "outputs": [],
   "source": [
    "-- 3. Lists course and number of students in that course\n",
    "SELECT c.name AS Course_Name, COUNT(sc.studentId) AS Number_of_Students\n",
    "FROM course c\n",
    "JOIN studentCourse sc ON c.id=sc.courseId\n",
    "JOIN student s ON sc.studentId=s.id \n",
    "GROUP BY Course_Name\n",
    "ORDER BY Number_of_Students DESC, Course_Name ASC;"
   ]
  },
  {
   "cell_type": "code",
   "execution_count": null,
   "id": "b52c761a",
   "metadata": {
    "vscode": {
     "languageId": "sql"
    }
   },
   "outputs": [],
   "source": [
    "-- 4. List courses without faculty\n",
    "SELECT c.name AS Course_Name\n",
    "FROM course c\n",
    "LEFT JOIN facultyCourse fc ON c.id=fc.courseId\n",
    "LEFT JOIN faculty f ON fc.facultyId=f.id \n",
    "WHERE f.id IS NULL\n",
    "GROUP BY Course_Name\n",
    "ORDER BY Course_Name ASC;"
   ]
  },
  {
   "cell_type": "code",
   "execution_count": null,
   "id": "55ec2832",
   "metadata": {
    "vscode": {
     "languageId": "sql"
    }
   },
   "outputs": [],
   "source": [
    "-- 5. List # of students in courses without faculty\n",
    "SELECT c.name AS Course_Name, COUNT(sc.studentId) AS Number_of_Students\n",
    "FROM course c\n",
    "LEFT JOIN facultyCourse fc ON c.id=fc.courseId\n",
    "LEFT JOIN faculty f ON fc.facultyId=f.id\n",
    "LEFT JOIN studentCourse sc ON c.id=sc.courseId \n",
    "WHERE f.id IS NULL\n",
    "GROUP BY Course_Name\n",
    "ORDER BY Number_of_Students DESC, Course_Name ASC;"
   ]
  },
  {
   "cell_type": "code",
   "execution_count": null,
   "id": "a19a10e5",
   "metadata": {
    "vscode": {
     "languageId": "sql"
    }
   },
   "outputs": [],
   "source": [
    "-- 6. Lists total # of students enrolled each year\n",
    "SELECT COUNT(DISTINCT(studentId)) AS Students, YEAR(startDate) AS Year\n",
    "FROM studentCourse\n",
    "GROUP BY Year\n",
    "ORDER BY Year ASC, Students DESC;"
   ]
  },
  {
   "cell_type": "code",
   "execution_count": null,
   "id": "9b464775",
   "metadata": {
    "vscode": {
     "languageId": "sql"
    }
   },
   "outputs": [],
   "source": [
    "-- 7 Lists Start Date and # of Students enrolled in August of each year\n",
    "SELECT startDate AS Start_Date, COUNT(DISTINCT(studentId)) AS Total_Number_of_Students\n",
    "FROM studentCourse\n",
    "GROUP BY Start_Date\n",
    "HAVING MONTH(startDate) = 8\n",
    "ORDER BY Start_Date, Total_Number_of_Students;"
   ]
  },
  {
   "cell_type": "code",
   "execution_count": null,
   "id": "51518477",
   "metadata": {
    "vscode": {
     "languageId": "sql"
    }
   },
   "outputs": [],
   "source": [
    "-- 8. List students Name and # of Courses in their major\n",
    "SELECT s.firstname AS First_Name, s.lastname AS Last_Name, COUNT(c.deptId) AS Number_of_Courses\n",
    "FROM student s\n",
    "JOIN studentCourse sc ON s.id=sc.studentId\n",
    "JOIN course c ON sc.courseId=c.id\n",
    "JOIN department d ON s.majorId=d.id\n",
    "WHERE s.majorId = c.deptId\n",
    "GROUP BY First_Name, Last_Name\n",
    "ORDER BY Number_of_Courses DESC, First_Name, Last_Name;"
   ]
  },
  {
   "cell_type": "code",
   "execution_count": null,
   "id": "7b79307f",
   "metadata": {
    "vscode": {
     "languageId": "sql"
    }
   },
   "outputs": [],
   "source": [
    "-- 9.  List Name and Average of students with less than 50%\n",
    "SELECT firstname AS First_Name, lastname AS Last_Name, ROUND(AVG(progress), 1) AS Average_Progress \n",
    "FROM student s\n",
    "JOIN studentCourse sc ON s.id=sc.studentId\n",
    "GROUP BY First_Name, Last_Name\n",
    "HAVING Average_Progress < 50 AND Average_Progress < (SELECT AVG(progress) FROM studentCourse)\n",
    "ORDER BY Average_Progress DESC, First_Name, Last_Name;"
   ]
  },
  {
   "cell_type": "code",
   "execution_count": null,
   "id": "48f888d8",
   "metadata": {
    "vscode": {
     "languageId": "sql"
    }
   },
   "outputs": [],
   "source": [
    "-- 10. List Course Name and Students Average\n",
    "SELECT c.name AS Course_Name, ROUND(AVG(sc.progress), 1) AS Average_Progress\n",
    "FROM course c\n",
    "JOIN studentCourse sc ON c.id=sc.courseId\n",
    "GROUP BY Course_Name\n",
    "ORDER BY Average_Progress DESC, Course_Name;"
   ]
  },
  {
   "cell_type": "code",
   "execution_count": null,
   "id": "cfe3bd47",
   "metadata": {
    "vscode": {
     "languageId": "sql"
    }
   },
   "outputs": [],
   "source": [
    "-- 11. Course with the highest Average Progress\n",
    "SELECT c.name AS Course_Name, ROUND(AVG(sc.progress), 1) AS Average_Student_Progress\n",
    "FROM course c\n",
    "JOIN studentCourse sc ON c.id=sc.courseId\n",
    "GROUP BY Course_Name\n",
    "ORDER BY Average_Student_Progress DESC LIMIT 1;"
   ]
  },
  {
   "cell_type": "code",
   "execution_count": null,
   "id": "b60a1d32",
   "metadata": {
    "vscode": {
     "languageId": "sql"
    }
   },
   "outputs": [],
   "source": [
    "-- 12. List faculty name and the average progress of all their courses\n",
    "SELECT f.firstname AS First_Name, f.lastname AS Last_Name, ROUND(AVG(sc.progress), 1) AS Average_Progress \n",
    "FROM faculty f\n",
    "JOIN facultyCourse fc ON f.id=fc.facultyId\n",
    "JOIN course c ON fc.courseId=c.id\n",
    "JOIN studentCourse sc ON c.id=sc.courseId \n",
    "GROUP BY First_Name, Last_Name\n",
    "ORDER BY Average_Progress DESC, First_Name, Last_Name;"
   ]
  },
  {
   "cell_type": "code",
   "execution_count": null,
   "id": "8357e1c3",
   "metadata": {
    "vscode": {
     "languageId": "sql"
    }
   },
   "outputs": [],
   "source": [
    "-- 13. Min & Max Grades\n",
    "SELECT s.firstname AS First_Name, s.lastname AS Last_Name, \n",
    "        CASE\n",
    "            WHEN MIN(sc.progress) < 40 THEN 'F'\n",
    "            WHEN MIN(sc.progress) < 50 THEN 'D'\n",
    "            WHEN MIN(sc.progress) < 60 THEN 'C'\n",
    "            WHEN MIN(sc.progress) < 70 THEN 'B'\n",
    "            WHEN MIN(sc.progress) >= 70 THEN 'A'\n",
    "        END AS Minimum_Grade, \n",
    "        CASE\n",
    "            WHEN MAX(sc.progress) < 40 THEN 'F'\n",
    "            WHEN MAX(sc.progress) < 50 THEN 'D'\n",
    "            WHEN MAX(sc.progress) < 60 THEN 'C'\n",
    "            WHEN MAX(sc.progress) < 70 THEN 'B'\n",
    "            WHEN MAX(sc.progress) >= 70 THEN 'A'\n",
    "        END AS Maximum_Grade \n",
    "FROM student s\n",
    "JOIN studentCourse sc ON s.id=sc.studentId\n",
    "GROUP BY First_Name, Last_Name\n",
    "ORDER BY Minimum_Grade DESC, Maximum_Grade DESC, First_Name, Last_Name;"
   ]
  }
 ],
 "metadata": {
  "language_info": {
   "name": "python"
  }
 },
 "nbformat": 4,
 "nbformat_minor": 5
}
