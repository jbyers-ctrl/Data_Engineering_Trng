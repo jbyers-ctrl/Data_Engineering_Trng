{
 "cells": [
  {
   "cell_type": "markdown",
   "id": "1a18f05c",
   "metadata": {},
   "source": [
    "### SQL Examples With Classic Models Database. These queries and questions cover a range of SQL concepts, including `JOIN`s, `GROUP BY`, `ORDER BY`, aggregate functions, and `CASE` statements:"
   ]
  },
  {
   "cell_type": "markdown",
   "id": "f751547f",
   "metadata": {},
   "source": [
    "1. Category Based Queries \n",
    "Question: List the product lines and the number of products in each product line. Sort the output by the number of products in descending order."
   ]
  },
  {
   "cell_type": "code",
   "execution_count": null,
   "id": "31d2f059",
   "metadata": {
    "vscode": {
     "languageId": "sql"
    }
   },
   "outputs": [],
   "source": [
    "SELECT pp.productLine, COUNT(p.productCode) AS total\n",
    "FROM productlines pp\n",
    "JOIN products p ON pp.productLine = p.productLine\n",
    "GROUP BY pp.productLine\n",
    "ORDER BY total DESC;"
   ]
  },
  {
   "cell_type": "markdown",
   "id": "61f35366",
   "metadata": {},
   "source": [
    "2. Specific Month Orders  \n",
    "Question: List the order date and the number of orders placed in October of each year. Sort the output by order date in ascending order."
   ]
  },
  {
   "cell_type": "code",
   "execution_count": null,
   "id": "de76617b",
   "metadata": {
    "vscode": {
     "languageId": "sql"
    }
   },
   "outputs": [],
   "source": [
    "SELECT orderDate, COUNT(orderDate) AS num_of_orders\n",
    "FROM orders\n",
    "WHERE MONTH(orderDate) = 10\n",
    "GROUP BY orderDate;\n",
    "\n",
    "SELECT o.orderDate, SUM(od.quantityOrdered) AS num_of_orders\n",
    "FROM orders o\n",
    "JOIN orderdetails od ON o.orderNumber=od.orderNumber\n",
    "WHERE MONTH(orderDate) = 10\n",
    "GROUP BY orderDate;"
   ]
  },
  {
   "cell_type": "markdown",
   "id": "a5a93685",
   "metadata": {},
   "source": [
    "3. Customer Orders by Sales Rep  \n",
    "Question: List the sales rep's first name, last name, and the number of customers they are responsible for. Sort the output by the number of customers in descending order."
   ]
  },
  {
   "cell_type": "code",
   "execution_count": null,
   "id": "f081e6bf",
   "metadata": {
    "vscode": {
     "languageId": "sql"
    }
   },
   "outputs": [],
   "source": [
    "SELECT e.firstName, e.lastName, COUNT(c.customerNumber) AS NumberOfCustomers\n",
    "FROM employees e\n",
    "JOIN customers c ON e.employeeNumber = c.salesRepEmployeeNumber\n",
    "GROUP BY e.employeeNumber\n",
    "ORDER BY NumberOfCustomers DESC;"
   ]
  },
  {
   "cell_type": "markdown",
   "id": "2e1319f1",
   "metadata": {},
   "source": [
    "4. Payment Average  \n",
    "Question: List the customer name and their average payment amount. Sort the output by average payment amount in descending order."
   ]
  },
  {
   "cell_type": "code",
   "execution_count": null,
   "id": "ef8d3e69",
   "metadata": {
    "vscode": {
     "languageId": "sql"
    }
   },
   "outputs": [],
   "source": [
    "SELECT c.customerName, AVG(p.amount) AS AveragePayment\n",
    "FROM customers c\n",
    "JOIN payments p ON c.customerNumber = p.customerNumber\n",
    "GROUP BY c.customerNumber\n",
    "ORDER BY AveragePayment DESC;"
   ]
  },
  {
   "cell_type": "markdown",
   "id": "7f8c26b2",
   "metadata": {},
   "source": [
    "5. Product Popularity \n",
    "Question: List the product name and the total quantity ordered for each product. Sort the output by the total quantity ordered in descending order."
   ]
  },
  {
   "cell_type": "code",
   "execution_count": null,
   "id": "44fbe876",
   "metadata": {
    "vscode": {
     "languageId": "sql"
    }
   },
   "outputs": [],
   "source": [
    "SELECT p.productName, SUM(od.quantityOrdered) AS TotalQuantityOrdered\n",
    "FROM products p\n",
    "JOIN orderdetails od ON p.productCode = od.productCode\n",
    "GROUP BY p.productName\n",
    "ORDER BY TotalQuantityOrdered DESC;"
   ]
  },
  {
   "cell_type": "markdown",
   "id": "543116ee",
   "metadata": {},
   "source": [
    "6. Employee Absence \n",
    "Question: List employees who have not made any sales (i.e., they are not listed as `salesRepEmployeeNumber` for any customer)."
   ]
  },
  {
   "cell_type": "code",
   "execution_count": null,
   "id": "27b88de0",
   "metadata": {
    "vscode": {
     "languageId": "sql"
    }
   },
   "outputs": [],
   "source": [
    "SELECT e.firstName, e.lastName\n",
    "FROM employees e\n",
    "LEFT JOIN customers c ON e.employeeNumber = c.salesRepEmployeeNumber\n",
    "WHERE c.salesRepEmployeeNumber IS NULL;"
   ]
  },
  {
   "cell_type": "markdown",
   "id": "bd36d558",
   "metadata": {},
   "source": [
    "7. Customer Orders Over Time  \n",
    "Question: List the year and the total number of orders placed in each year. Sort the output by year in ascending order."
   ]
  },
  {
   "cell_type": "code",
   "execution_count": null,
   "id": "21d0183b",
   "metadata": {
    "vscode": {
     "languageId": "sql"
    }
   },
   "outputs": [],
   "source": [
    "SELECT YEAR(orderDate) AS OrderYear, COUNT(orderNumber) AS TotalOrders\n",
    "FROM orders\n",
    "GROUP BY OrderYear\n",
    "ORDER BY OrderYear ASC;"
   ]
  },
  {
   "cell_type": "markdown",
   "id": "109aa5e0",
   "metadata": {},
   "source": [
    "8. Highest Average Order Amount  \n",
    "Question: Find the order with the highest total amount."
   ]
  },
  {
   "cell_type": "code",
   "execution_count": null,
   "id": "c0670f0b",
   "metadata": {
    "vscode": {
     "languageId": "sql"
    }
   },
   "outputs": [],
   "source": [
    "SELECT orderNumber, SUM(quantityOrdered * priceEach) AS TotalAmount\n",
    "FROM orderdetails\n",
    "GROUP BY orderNumber\n",
    "ORDER BY TotalAmount DESC\n",
    "LIMIT 1;"
   ]
  },
  {
   "cell_type": "markdown",
   "id": "6f339abe",
   "metadata": {},
   "source": [
    "9. Order Average Amount \n",
    "Question: List the order number and the total amount for each order. Sort the output by the total amount in descending order."
   ]
  },
  {
   "cell_type": "code",
   "execution_count": null,
   "id": "b5359da9",
   "metadata": {
    "vscode": {
     "languageId": "sql"
    }
   },
   "outputs": [],
   "source": [
    "SELECT orderNumber, SUM(quantityOrdered * priceEach) AS TotalAmount\n",
    "FROM orderdetails\n",
    "GROUP BY orderNumber\n",
    "ORDER BY TotalAmount DESC;"
   ]
  }
 ],
 "metadata": {
  "kernelspec": {
   "display_name": "default",
   "language": "python",
   "name": "python3"
  },
  "language_info": {
   "name": "python",
   "version": "3.10.12"
  }
 },
 "nbformat": 4,
 "nbformat_minor": 5
}
