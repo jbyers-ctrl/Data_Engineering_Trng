{
 "cells": [
  {
   "cell_type": "code",
   "execution_count": 28,
   "id": "1c35e31e",
   "metadata": {},
   "outputs": [],
   "source": [
    "import pyspark\n",
    "from pyspark.sql import SparkSession \n",
    "from pyspark.sql import functions as F"
   ]
  },
  {
   "cell_type": "code",
   "execution_count": 4,
   "id": "1fd10386",
   "metadata": {},
   "outputs": [],
   "source": [
    "# Creating Spark Session\n",
    "spark = SparkSession.builder.appName('companyABC').getOrCreate()\n",
    "\n",
    "# Reading /loading the Dataset from CSV file \n",
    "spark_df = spark.read.load(\"Data/CompanyABC_stock.csv\", format=\"csv\", header=True, inferSchema=True)"
   ]
  },
  {
   "cell_type": "code",
   "execution_count": 5,
   "id": "30764fb4",
   "metadata": {},
   "outputs": [
    {
     "data": {
      "text/plain": [
       "['Date', 'Open', 'High', 'Low', 'Close', 'Volume', 'Adj Close']"
      ]
     },
     "execution_count": 5,
     "metadata": {},
     "output_type": "execute_result"
    }
   ],
   "source": [
    "spark_df.columns"
   ]
  },
  {
   "cell_type": "code",
   "execution_count": 6,
   "id": "c2a43b87",
   "metadata": {},
   "outputs": [
    {
     "name": "stdout",
     "output_type": "stream",
     "text": [
      "root\n",
      " |-- Date: date (nullable = true)\n",
      " |-- Open: double (nullable = true)\n",
      " |-- High: double (nullable = true)\n",
      " |-- Low: double (nullable = true)\n",
      " |-- Close: double (nullable = true)\n",
      " |-- Volume: integer (nullable = true)\n",
      " |-- Adj Close: double (nullable = true)\n",
      "\n"
     ]
    }
   ],
   "source": [
    "spark_df.printSchema()"
   ]
  },
  {
   "cell_type": "code",
   "execution_count": 7,
   "id": "4339eff6",
   "metadata": {},
   "outputs": [
    {
     "name": "stdout",
     "output_type": "stream",
     "text": [
      "+-------+------------------+-----------------+-----------------+-----------------+-----------------+-----------------+\n",
      "|summary|              Open|             High|              Low|            Close|           Volume|        Adj Close|\n",
      "+-------+------------------+-----------------+-----------------+-----------------+-----------------+-----------------+\n",
      "|  count|              1258|             1258|             1258|             1258|             1258|             1258|\n",
      "|   mean| 72.35785375357709|72.83938807631165| 71.9186009594594|72.38844998012726|8222093.481717011|67.23883848728146|\n",
      "| stddev|  6.76809024470826|6.768186808159218|6.744075756255496|6.756859163732991|  4519780.8431556|6.722609449996857|\n",
      "|    min|56.389998999999996|        57.060001|        56.299999|        56.419998|          2094900|        50.363689|\n",
      "|    max|         90.800003|        90.970001|            89.25|        90.470001|         80898100|84.91421600000001|\n",
      "+-------+------------------+-----------------+-----------------+-----------------+-----------------+-----------------+\n",
      "\n"
     ]
    }
   ],
   "source": [
    "spark_df.describe().show()"
   ]
  },
  {
   "cell_type": "code",
   "execution_count": 8,
   "id": "4bb6d2f3",
   "metadata": {},
   "outputs": [
    {
     "name": "stdout",
     "output_type": "stream",
     "text": [
      "+----------+------------------+------------------+------------------+------------------+--------+------------------+\n",
      "|      Date|              Open|              High|               Low|             Close|  Volume|         Adj Close|\n",
      "+----------+------------------+------------------+------------------+------------------+--------+------------------+\n",
      "|2012-01-03|         59.970001|         61.060001|         59.869999|         60.330002|12668800|52.619234999999996|\n",
      "|2012-01-04|60.209998999999996|         60.349998|         59.470001|59.709998999999996| 9593300|         52.078475|\n",
      "|2012-01-05|         59.349998|         59.619999|         58.369999|         59.419998|12768200|         51.825539|\n",
      "|2012-01-06|         59.419998|         59.450001|         58.869999|              59.0| 8069400|          51.45922|\n",
      "|2012-01-09|         59.029999|         59.549999|         58.919998|             59.18| 6679300|51.616215000000004|\n",
      "|2012-01-10|             59.43|59.709998999999996|             58.98|59.040001000000004| 6907300|         51.494109|\n",
      "|2012-01-11|         59.060001|         59.529999|59.040001000000004|         59.400002| 6365600|         51.808098|\n",
      "|2012-01-12|59.790001000000004|              60.0|         59.400002|              59.5| 7236400|51.895315999999994|\n",
      "|2012-01-13|             59.18|59.610001000000004|59.009997999999996|59.540001000000004| 7729300|51.930203999999996|\n",
      "|2012-01-17|         59.869999|60.110001000000004|             59.52|         59.849998| 8500000|         52.200581|\n",
      "|2012-01-18|59.790001000000004|         60.029999|         59.650002|60.009997999999996| 5911400|         52.340131|\n",
      "|2012-01-19|             59.93|             60.73|             59.75|60.610001000000004| 9234600|         52.863447|\n",
      "|2012-01-20|             60.75|             61.25|         60.669998|61.009997999999996|10378800|53.212320999999996|\n",
      "|2012-01-23|         60.810001|             60.98|60.509997999999996|             60.91| 7134100|         53.125104|\n",
      "|2012-01-24|             60.75|              62.0|             60.75|61.389998999999996| 7362800| 53.54375400000001|\n",
      "|2012-01-25|             61.18|61.610001000000004|61.040001000000004|         61.470001| 5915800| 53.61353100000001|\n",
      "|2012-01-26|         61.799999|             61.84|             60.77|         60.970001| 7436200|         53.177436|\n",
      "|2012-01-27|60.860001000000004|         61.119999|60.540001000000004|60.709998999999996| 6287300|         52.950665|\n",
      "|2012-01-30|         60.470001|             61.32|         60.349998|         61.299999| 7636900|53.465256999999994|\n",
      "|2012-01-31|         61.529999|             61.57|         60.580002|61.360001000000004| 9761500|53.517590000000006|\n",
      "+----------+------------------+------------------+------------------+------------------+--------+------------------+\n",
      "only showing top 20 rows\n",
      "\n"
     ]
    }
   ],
   "source": [
    "spark_df.show()"
   ]
  },
  {
   "cell_type": "code",
   "execution_count": 16,
   "id": "199887cc",
   "metadata": {},
   "outputs": [
    {
     "name": "stdout",
     "output_type": "stream",
     "text": [
      "+----------+------------------+---------+---------+------------------+--------+------------------+\n",
      "|      Date|              Open|     High|      Low|             Close|  Volume|         Adj Close|\n",
      "+----------+------------------+---------+---------+------------------+--------+------------------+\n",
      "|2012-01-03|         59.970001|61.060001|59.869999|         60.330002|12668800|52.619234999999996|\n",
      "|2012-01-04|60.209998999999996|60.349998|59.470001|59.709998999999996| 9593300|         52.078475|\n",
      "|2012-01-05|         59.349998|59.619999|58.369999|         59.419998|12768200|         51.825539|\n",
      "|2012-01-06|         59.419998|59.450001|58.869999|              59.0| 8069400|          51.45922|\n",
      "|2012-01-09|         59.029999|59.549999|58.919998|             59.18| 6679300|51.616215000000004|\n",
      "+----------+------------------+---------+---------+------------------+--------+------------------+\n",
      "only showing top 5 rows\n",
      "\n"
     ]
    }
   ],
   "source": [
    "# Print first 5 rows\n",
    "spark_df.show(5)"
   ]
  },
  {
   "cell_type": "code",
   "execution_count": 21,
   "id": "cef5a51c",
   "metadata": {},
   "outputs": [
    {
     "name": "stdout",
     "output_type": "stream",
     "text": [
      "+----------+------------------+------------------+------------------+------------------+--------+------------------+--------------------+\n",
      "|      Date|              Open|              High|               Low|             Close|  Volume|         Adj Close|            HV Ratio|\n",
      "+----------+------------------+------------------+------------------+------------------+--------+------------------+--------------------+\n",
      "|2012-01-03|         59.970001|         61.060001|         59.869999|         60.330002|12668800|52.619234999999996|4.819714653321546E-6|\n",
      "|2012-01-04|60.209998999999996|         60.349998|         59.470001|59.709998999999996| 9593300|         52.078475|6.290848613094555E-6|\n",
      "|2012-01-05|         59.349998|         59.619999|         58.369999|         59.419998|12768200|         51.825539|4.669412994783916E-6|\n",
      "|2012-01-06|         59.419998|         59.450001|         58.869999|              59.0| 8069400|          51.45922|7.367338463826307E-6|\n",
      "|2012-01-09|         59.029999|         59.549999|         58.919998|             59.18| 6679300|51.616215000000004|8.915604778943901E-6|\n",
      "|2012-01-10|             59.43|59.709998999999996|             58.98|59.040001000000004| 6907300|         51.494109|8.644477436914568E-6|\n",
      "|2012-01-11|         59.060001|         59.529999|59.040001000000004|         59.400002| 6365600|         51.808098|9.351828421515645E-6|\n",
      "|2012-01-12|59.790001000000004|              60.0|         59.400002|              59.5| 7236400|51.895315999999994| 8.29141562102703E-6|\n",
      "|2012-01-13|             59.18|59.610001000000004|59.009997999999996|59.540001000000004| 7729300|51.930203999999996|7.712212102001476E-6|\n",
      "|2012-01-17|         59.869999|60.110001000000004|             59.52|         59.849998| 8500000|         52.200581|7.071764823529412E-6|\n",
      "|2012-01-18|59.790001000000004|         60.029999|         59.650002|60.009997999999996| 5911400|         52.340131|1.015495466386981E-5|\n",
      "|2012-01-19|             59.93|             60.73|             59.75|60.610001000000004| 9234600|         52.863447|6.576354146362592...|\n",
      "|2012-01-20|             60.75|             61.25|         60.669998|61.009997999999996|10378800|53.212320999999996| 5.90145296180676E-6|\n",
      "|2012-01-23|         60.810001|             60.98|60.509997999999996|             60.91| 7134100|         53.125104|8.547679455011844E-6|\n",
      "|2012-01-24|             60.75|              62.0|             60.75|61.389998999999996| 7362800| 53.54375400000001|8.420709512685392E-6|\n",
      "|2012-01-25|             61.18|61.610001000000004|61.040001000000004|         61.470001| 5915800| 53.61353100000001|1.041448341728929...|\n",
      "|2012-01-26|         61.799999|             61.84|             60.77|         60.970001| 7436200|         53.177436|8.316075414862431E-6|\n",
      "|2012-01-27|60.860001000000004|         61.119999|60.540001000000004|60.709998999999996| 6287300|         52.950665|9.721183814992126E-6|\n",
      "|2012-01-30|         60.470001|             61.32|         60.349998|         61.299999| 7636900|53.465256999999994|8.029436027707578E-6|\n",
      "|2012-01-31|         61.529999|             61.57|         60.580002|61.360001000000004| 9761500|53.517590000000006|6.307432259386365E-6|\n",
      "+----------+------------------+------------------+------------------+------------------+--------+------------------+--------------------+\n",
      "only showing top 20 rows\n",
      "\n"
     ]
    }
   ],
   "source": [
    "\"\"\" Create a new DataFrame column called “HV Ratio,” which will \n",
    "stimulate the ratio of the High price versus the total Volume of \n",
    "stock that was traded for a day.\"\"\"\n",
    "\n",
    "spark_df = spark_df.withColumn(\"HV Ratio\", spark_df[\"High\"] / spark_df[\"Volume\"])\n",
    "spark_df.show()"
   ]
  },
  {
   "cell_type": "code",
   "execution_count": 100,
   "id": "d538b27e",
   "metadata": {},
   "outputs": [
    {
     "name": "stdout",
     "output_type": "stream",
     "text": [
      "+----------+---------+\n",
      "|      Date|     High|\n",
      "+----------+---------+\n",
      "|2015-01-13|90.970001|\n",
      "+----------+---------+\n",
      "only showing top 1 row\n",
      "\n"
     ]
    }
   ],
   "source": [
    "# Find out on what day the stock price was the highest\n",
    "max_price = spark_df.select(\"Date\", \"High\").sort(F.col('High').desc())\n",
    "max_price.show(1)"
   ]
  },
  {
   "cell_type": "code",
   "execution_count": 101,
   "id": "65a4f6a6",
   "metadata": {},
   "outputs": [
    {
     "name": "stdout",
     "output_type": "stream",
     "text": [
      "+-----------------+\n",
      "|       avg(Close)|\n",
      "+-----------------+\n",
      "|72.38844998012726|\n",
      "+-----------------+\n",
      "\n"
     ]
    }
   ],
   "source": [
    "# average (mean) closing price\n",
    "\n",
    "avg_closing_price = spark_df.agg(F.avg('Close'))\n",
    "avg_closing_price.show()"
   ]
  },
  {
   "cell_type": "code",
   "execution_count": 102,
   "id": "1fd1216f",
   "metadata": {},
   "outputs": [
    {
     "name": "stdout",
     "output_type": "stream",
     "text": [
      "+-----------+\n",
      "|min(Volume)|\n",
      "+-----------+\n",
      "|    2094900|\n",
      "+-----------+\n",
      "\n",
      "+-----------+\n",
      "|max(Volume)|\n",
      "+-----------+\n",
      "|   80898100|\n",
      "+-----------+\n",
      "\n"
     ]
    }
   ],
   "source": [
    "# minimum volumes of stock traded\n",
    "min_volume = spark_df.agg(F.min('Volume'))\n",
    "min_volume.show()\n",
    "\n",
    "# maximum  volumes of stock traded\n",
    "max_volume = spark_df.agg(F.max('Volume'))\n",
    "max_volume.show()"
   ]
  },
  {
   "cell_type": "code",
   "execution_count": 103,
   "id": "6b268a3c",
   "metadata": {},
   "outputs": [
    {
     "name": "stdout",
     "output_type": "stream",
     "text": [
      "+----------+------------------+\n",
      "|      Date|             Close|\n",
      "+----------+------------------+\n",
      "|2012-01-03|         60.330002|\n",
      "|2012-01-04|59.709998999999996|\n",
      "|2012-01-05|         59.419998|\n",
      "|2012-01-06|              59.0|\n",
      "|2012-01-09|             59.18|\n",
      "|2012-01-10|59.040001000000004|\n",
      "|2012-01-11|         59.400002|\n",
      "|2012-01-12|              59.5|\n",
      "|2012-01-13|59.540001000000004|\n",
      "|2012-01-17|         59.849998|\n",
      "|2012-01-18|60.009997999999996|\n",
      "|2012-01-19|60.610001000000004|\n",
      "|2012-01-20|61.009997999999996|\n",
      "|2012-01-23|             60.91|\n",
      "|2012-01-24|61.389998999999996|\n",
      "|2012-01-25|         61.470001|\n",
      "|2012-01-26|         60.970001|\n",
      "|2012-01-27|60.709998999999996|\n",
      "|2012-01-30|         61.299999|\n",
      "|2012-01-31|61.360001000000004|\n",
      "+----------+------------------+\n",
      "only showing top 20 rows\n",
      "\n"
     ]
    }
   ],
   "source": [
    "# number of days closing value was less than 70 dollars\n",
    "days_under_70 = spark_df.select('Date', 'Close').filter(F.col('Close') < 70)\n",
    "days_under_70.show()"
   ]
  },
  {
   "cell_type": "code",
   "execution_count": null,
   "id": "2c1c8b79",
   "metadata": {},
   "outputs": [
    {
     "name": "stdout",
     "output_type": "stream",
     "text": [
      "+----------------+\n",
      "|       avg(High)|\n",
      "+----------------+\n",
      "|84.7920002956522|\n",
      "+----------------+\n",
      "\n"
     ]
    }
   ],
   "source": [
    "# percentage of time High was greater than 80 dollars\n",
    "high_over_80 = spark_df.select('High').filter(F.col('High') > 80).agg(F.avg(F.col('High')))\n",
    "high_over_80.show()"
   ]
  },
  {
   "cell_type": "code",
   "execution_count": 78,
   "id": "e193af98",
   "metadata": {},
   "outputs": [],
   "source": [
    "# Load/Write CompanyABC stock.csv file data into CompanyABC_DB database from the SparkSQL Dataframe\n",
    "spark_df.write.format(\"jdbc\") \\\n",
    "  .mode(\"append\") \\\n",
    "  .option(\"url\", \"jdbc:mysql://localhost:3306/CompanyABC_DB\") \\\n",
    "  .option(\"dbtable\", \"CompanyABC_DB.sba_Spark_Demo\") \\\n",
    "  .option(\"user\", \"root\") \\\n",
    "  .option(\"password\", \"password\") \\\n",
    "  .save()"
   ]
  },
  {
   "cell_type": "code",
   "execution_count": 80,
   "id": "605d415c",
   "metadata": {},
   "outputs": [],
   "source": [
    "# Load/Read both CompanyABC sales datasets (Sales_April_2019.csv and Sales_February_2019.csv) into a single SparkSQL DataFrame\n",
    "\n",
    "# Creating Spark Session\n",
    "spark = SparkSession.builder.appName('companyABC Sales Data').getOrCreate()\n",
    "\n",
    "# list of different file paths\n",
    "file_paths = [\"Data/Sales_April_2019.csv\", \"Data/Sales_February_2019.csv\"]\n",
    "\n",
    "# Reading /loading the Dataset from CSV file \n",
    "sales_df = spark.read.csv(file_paths, header=True, inferSchema=True)"
   ]
  },
  {
   "cell_type": "code",
   "execution_count": 81,
   "id": "d4a98cc7",
   "metadata": {},
   "outputs": [
    {
     "data": {
      "text/plain": [
       "['Order ID',\n",
       " 'Product',\n",
       " 'Quantity Ordered',\n",
       " 'Price Each',\n",
       " 'Order Date',\n",
       " 'Purchase Address']"
      ]
     },
     "execution_count": 81,
     "metadata": {},
     "output_type": "execute_result"
    }
   ],
   "source": [
    "sales_df.columns"
   ]
  },
  {
   "cell_type": "code",
   "execution_count": 82,
   "id": "0f810a74",
   "metadata": {},
   "outputs": [
    {
     "name": "stdout",
     "output_type": "stream",
     "text": [
      "root\n",
      " |-- Order ID: integer (nullable = true)\n",
      " |-- Product: string (nullable = true)\n",
      " |-- Quantity Ordered: integer (nullable = true)\n",
      " |-- Price Each: double (nullable = true)\n",
      " |-- Order Date: string (nullable = true)\n",
      " |-- Purchase Address: string (nullable = true)\n",
      "\n"
     ]
    }
   ],
   "source": [
    "sales_df.printSchema()"
   ]
  },
  {
   "cell_type": "code",
   "execution_count": 83,
   "id": "56e2565b",
   "metadata": {},
   "outputs": [
    {
     "name": "stdout",
     "output_type": "stream",
     "text": [
      "+-------+------------------+------------+-------------------+------------------+--------------+--------------------+\n",
      "|summary|          Order ID|     Product|   Quantity Ordered|        Price Each|    Order Date|    Purchase Address|\n",
      "+-------+------------------+------------+-------------------+------------------+--------------+--------------------+\n",
      "|  count|             30275|       30328|              30275|             30275|         30328|               30328|\n",
      "|   mean|173816.63355904212|        NULL| 1.1239966969446737| 183.7621383980421|          NULL|                NULL|\n",
      "| stddev|14902.179833784816|        NULL|0.43431295924749175|328.79347229907665|          NULL|                NULL|\n",
      "|    min|            150502|20in Monitor|                  1|              2.99|02/01/19 01:51|1 14th St, New Yo...|\n",
      "|    max|            194094|      iPhone|                  7|            1700.0|    Order Date|    Purchase Address|\n",
      "+-------+------------------+------------+-------------------+------------------+--------------+--------------------+\n",
      "\n"
     ]
    }
   ],
   "source": [
    "sales_df.describe().show()"
   ]
  },
  {
   "cell_type": "code",
   "execution_count": 84,
   "id": "2a509326",
   "metadata": {},
   "outputs": [
    {
     "name": "stdout",
     "output_type": "stream",
     "text": [
      "+--------+--------------------+----------------+----------+---------------+--------------------+\n",
      "|Order ID|             Product|Quantity Ordered|Price Each|     Order Date|    Purchase Address|\n",
      "+--------+--------------------+----------------+----------+---------------+--------------------+\n",
      "|  176558|USB-C Charging Cable|               2|     11.95| 4/19/2019 8:46|917 1st St, Dalla...|\n",
      "|  176559|Bose SoundSport H...|               1|     99.99| 4/7/2019 22:30|682 Chestnut St, ...|\n",
      "|  176560|        Google Phone|               1|     600.0|4/12/2019 14:38|669 Spruce St, Lo...|\n",
      "|  176560|    Wired Headphones|               1|     11.99|4/12/2019 14:38|669 Spruce St, Lo...|\n",
      "|  176561|    Wired Headphones|               1|     11.99| 4/30/2019 9:27|333 8th St, Los A...|\n",
      "|  176562|USB-C Charging Cable|               1|     11.95|4/29/2019 13:03|381 Wilson St, Sa...|\n",
      "|  176563|Bose SoundSport H...|               1|     99.99|  4/2/2019 7:46|668 Center St, Se...|\n",
      "|  176564|USB-C Charging Cable|               1|     11.95|4/12/2019 10:58|790 Ridge St, Atl...|\n",
      "|  176565|  Macbook Pro Laptop|               1|    1700.0|4/24/2019 10:38|915 Willow St, Sa...|\n",
      "|  176566|    Wired Headphones|               1|     11.99| 4/8/2019 14:05|83 7th St, Boston...|\n",
      "|  176567|        Google Phone|               1|     600.0|4/18/2019 17:18|444 7th St, Los A...|\n",
      "|  176568|Lightning Chargin...|               1|     14.95|4/15/2019 12:18|438 Elm St, Seatt...|\n",
      "|  176569|27in 4K Gaming Mo...|               1|    389.99|4/16/2019 19:23|657 Hill St, Dall...|\n",
      "|  176570|AA Batteries (4-p...|               1|      3.84|4/22/2019 15:09|186 12th St, Dall...|\n",
      "|  176571|Lightning Chargin...|               1|     14.95|4/19/2019 14:29|253 Johnson St, A...|\n",
      "|  176572|Apple Airpods Hea...|               1|     150.0| 4/4/2019 20:30|149 Dogwood St, N...|\n",
      "|  176573|USB-C Charging Cable|               1|     11.95|4/27/2019 18:41|214 Chestnut St, ...|\n",
      "|  176574|        Google Phone|               1|     600.0| 4/3/2019 19:42|20 Hill St, Los A...|\n",
      "|  176574|USB-C Charging Cable|               1|     11.95| 4/3/2019 19:42|20 Hill St, Los A...|\n",
      "|  176575|AAA Batteries (4-...|               1|      2.99| 4/27/2019 0:30|433 Hill St, New ...|\n",
      "+--------+--------------------+----------------+----------+---------------+--------------------+\n",
      "only showing top 20 rows\n",
      "\n"
     ]
    }
   ],
   "source": [
    "sales_df.show()"
   ]
  },
  {
   "cell_type": "code",
   "execution_count": null,
   "id": "4b310c83",
   "metadata": {},
   "outputs": [
    {
     "name": "stdout",
     "output_type": "stream",
     "text": [
      "+--------+--------------------+----------------+----------+---------------+--------------------+-----------+\n",
      "|Order ID|             Product|Quantity Ordered|Price Each|     Order Date|    Purchase Address|Total Price|\n",
      "+--------+--------------------+----------------+----------+---------------+--------------------+-----------+\n",
      "|  176558|USB-C Charging Cable|               2|     11.95| 4/19/2019 8:46|917 1st St, Dalla...|       23.9|\n",
      "|  176559|Bose SoundSport H...|               1|     99.99| 4/7/2019 22:30|682 Chestnut St, ...|      99.99|\n",
      "|  176560|        Google Phone|               1|     600.0|4/12/2019 14:38|669 Spruce St, Lo...|      600.0|\n",
      "|  176560|    Wired Headphones|               1|     11.99|4/12/2019 14:38|669 Spruce St, Lo...|      11.99|\n",
      "|  176561|    Wired Headphones|               1|     11.99| 4/30/2019 9:27|333 8th St, Los A...|      11.99|\n",
      "|  176562|USB-C Charging Cable|               1|     11.95|4/29/2019 13:03|381 Wilson St, Sa...|      11.95|\n",
      "|  176563|Bose SoundSport H...|               1|     99.99|  4/2/2019 7:46|668 Center St, Se...|      99.99|\n",
      "|  176564|USB-C Charging Cable|               1|     11.95|4/12/2019 10:58|790 Ridge St, Atl...|      11.95|\n",
      "|  176565|  Macbook Pro Laptop|               1|    1700.0|4/24/2019 10:38|915 Willow St, Sa...|     1700.0|\n",
      "|  176566|    Wired Headphones|               1|     11.99| 4/8/2019 14:05|83 7th St, Boston...|      11.99|\n",
      "|  176567|        Google Phone|               1|     600.0|4/18/2019 17:18|444 7th St, Los A...|      600.0|\n",
      "|  176568|Lightning Chargin...|               1|     14.95|4/15/2019 12:18|438 Elm St, Seatt...|      14.95|\n",
      "|  176569|27in 4K Gaming Mo...|               1|    389.99|4/16/2019 19:23|657 Hill St, Dall...|     389.99|\n",
      "|  176570|AA Batteries (4-p...|               1|      3.84|4/22/2019 15:09|186 12th St, Dall...|       3.84|\n",
      "|  176571|Lightning Chargin...|               1|     14.95|4/19/2019 14:29|253 Johnson St, A...|      14.95|\n",
      "|  176572|Apple Airpods Hea...|               1|     150.0| 4/4/2019 20:30|149 Dogwood St, N...|      150.0|\n",
      "|  176573|USB-C Charging Cable|               1|     11.95|4/27/2019 18:41|214 Chestnut St, ...|      11.95|\n",
      "|  176574|        Google Phone|               1|     600.0| 4/3/2019 19:42|20 Hill St, Los A...|      600.0|\n",
      "|  176574|USB-C Charging Cable|               1|     11.95| 4/3/2019 19:42|20 Hill St, Los A...|      11.95|\n",
      "|  176575|AAA Batteries (4-...|               1|      2.99| 4/27/2019 0:30|433 Hill St, New ...|       2.99|\n",
      "+--------+--------------------+----------------+----------+---------------+--------------------+-----------+\n",
      "only showing top 20 rows\n",
      "\n"
     ]
    }
   ],
   "source": [
    "# create a new column called “Total price” for quantity ordered\n",
    "sales_df = sales_df.withColumn('Total Price', F.col('Price Each') * F.col('Quantity Ordered'))\n",
    "sales_df.show()"
   ]
  },
  {
   "cell_type": "code",
   "execution_count": 88,
   "id": "bd26661f",
   "metadata": {},
   "outputs": [],
   "source": [
    "# Load/Write both sales.csv file data into CompanyABC_DB database from the SparkSQL Dataframe\n",
    "sales_df.write.format(\"jdbc\") \\\n",
    "  .mode(\"overwrite\") \\\n",
    "  .option(\"url\", \"jdbc:mysql://localhost:3306/CompanyABC_DB\") \\\n",
    "  .option(\"dbtable\", \"CompanyABC_DB.sales_data\") \\\n",
    "  .option(\"user\", \"root\") \\\n",
    "  .option(\"password\", \"password\") \\\n",
    "  .save()"
   ]
  }
 ],
 "metadata": {
  "kernelspec": {
   "display_name": ".data",
   "language": "python",
   "name": "python3"
  },
  "language_info": {
   "codemirror_mode": {
    "name": "ipython",
    "version": 3
   },
   "file_extension": ".py",
   "mimetype": "text/x-python",
   "name": "python",
   "nbconvert_exporter": "python",
   "pygments_lexer": "ipython3",
   "version": "3.10.0"
  }
 },
 "nbformat": 4,
 "nbformat_minor": 5
}
