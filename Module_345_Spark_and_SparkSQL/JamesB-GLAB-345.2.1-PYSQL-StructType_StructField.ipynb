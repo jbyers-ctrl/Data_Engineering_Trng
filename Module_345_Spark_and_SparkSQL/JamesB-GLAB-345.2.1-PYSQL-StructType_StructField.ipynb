{
 "cells": [
  {
   "cell_type": "markdown",
   "id": "5e37dfa4",
   "metadata": {},
   "source": [
    "## Lab Overview\n",
    "- In this lab, you will work with structured data in PySpark. You will define a schema using StructType and StructField to specify the structure of your data, including column names and data types. Then, you will create a PySpark DataFrame using this schema() method and populate it with sample student data containing various data types (string, integer, and float). Finally, you will learn how to display the schema and its fields and print the schema in a tree format for better readability.\n",
    "\n",
    "- In this lab, we will create data within the list[] that contains five rows and six columns and assign column names as “rollno” with the string data type, a name with the string data type, an age with the integer type, the height with a float type, the weight with an integer, and an address with the string data type. Finally, we will display the DataFrame schema using the schema() method.\n",
    "\n",
    "### Learning Objective\n",
    "- Define the schema for a PySpark DataFrame using StructType and StructField.\n",
    "- Create a DataFrame with columns containing various data types (string, integer, and float).\n",
    "- Display the schema and its fields, and print the schema in a tree format."
   ]
  },
  {
   "cell_type": "markdown",
   "id": "7376a3e4",
   "metadata": {},
   "source": [
    "#### Example 1"
   ]
  },
  {
   "cell_type": "code",
   "execution_count": 1,
   "id": "7b2fccd6",
   "metadata": {},
   "outputs": [],
   "source": [
    "import pyspark\n",
    "from pyspark.sql import SparkSession\n",
    "from pyspark.sql.types import StructType, StructField, StringType, IntegerType, FloatType"
   ]
  },
  {
   "cell_type": "code",
   "execution_count": 3,
   "id": "1ef2e5a0",
   "metadata": {},
   "outputs": [
    {
     "name": "stdout",
     "output_type": "stream",
     "text": [
      "+------+---------+---+------+------+-------+\n",
      "|rollno|     name|age|height|weight|address|\n",
      "+------+---------+---+------+------+-------+\n",
      "|   001|     john| 23|  5.79|    67|     NY|\n",
      "|   002|    James| 18|  3.79|    34|     NY|\n",
      "|   003|     Eric| 17|  2.79|    17|     NJ|\n",
      "|   004|Shahparan| 19|  3.69|    28|     NJ|\n",
      "|   005|     Flex| 37|  5.59|    54| Dallas|\n",
      "+------+---------+---+------+------+-------+\n",
      "\n",
      "root\n",
      " |-- rollno: string (nullable = true)\n",
      " |-- name: string (nullable = true)\n",
      " |-- age: integer (nullable = true)\n",
      " |-- height: float (nullable = true)\n",
      " |-- weight: integer (nullable = true)\n",
      " |-- address: string (nullable = true)\n",
      "\n"
     ]
    }
   ],
   "source": [
    "spark_app = SparkSession.builder.appName('sparkdemo').getOrCreate()\n",
    "\n",
    "# ------create student data with 5 rows and 6 attributes------\n",
    "students =[['001', 'john', 23, 5.79, 67, 'NY'], \n",
    "            ['002', 'James', 18, 3.79, 34, 'NY'], \n",
    "            ['003', 'Eric', 17, 2.79, 17, 'NJ'],\n",
    "            ['004', 'Shahparan', 19, 3.69, 28, 'NJ'], \n",
    "            ['005', 'Flex', 37, 5.59, 54, 'Dallas']\n",
    "        ]\n",
    "\n",
    "#----------define the StructType and StructFields-------\n",
    "#for the below column names\n",
    "schema = StructType([\n",
    "    StructField(\"rollno\", StringType(), True),\n",
    "    StructField(\"name\", StringType(), True),\n",
    "    StructField(\"age\", IntegerType(), True),\n",
    "    StructField(\"height\", FloatType(), True),\n",
    "    StructField(\"weight\", IntegerType(), True),\n",
    "    StructField(\"address\", StringType(), True)  ])\n",
    " \n",
    "#-----create the dataframe and add schema to the dataframe---\n",
    "df = spark_app.createDataFrame(students, schema=schema)\n",
    "df.show()\n",
    "df.printSchema()\n"
   ]
  },
  {
   "cell_type": "markdown",
   "id": "b4cd5b67",
   "metadata": {},
   "source": [
    "#### Example 2 - Print DF Schema\n",
    "- Returns the DF type along with columns"
   ]
  },
  {
   "cell_type": "code",
   "execution_count": 3,
   "id": "679c7a20",
   "metadata": {},
   "outputs": [
    {
     "data": {
      "text/plain": [
       "StructType([StructField('rollno', StringType(), True), StructField('name', StringType(), True), StructField('age', IntegerType(), True), StructField('height', FloatType(), True), StructField('weight', IntegerType(), True), StructField('address', StringType(), True)])"
      ]
     },
     "execution_count": 3,
     "metadata": {},
     "output_type": "execute_result"
    }
   ],
   "source": [
    "df.schema"
   ]
  },
  {
   "cell_type": "code",
   "execution_count": null,
   "id": "7fa62c40",
   "metadata": {},
   "outputs": [
    {
     "data": {
      "text/plain": [
       "[StructField('rollno', StringType(), True),\n",
       " StructField('name', StringType(), True),\n",
       " StructField('age', IntegerType(), True),\n",
       " StructField('height', FloatType(), True),\n",
       " StructField('weight', IntegerType(), True),\n",
       " StructField('address', StringType(), True)]"
      ]
     },
     "execution_count": 4,
     "metadata": {},
     "output_type": "execute_result"
    }
   ],
   "source": [
    "# Display fields\n",
    "df.schema.fields"
   ]
  },
  {
   "cell_type": "code",
   "execution_count": null,
   "id": "a9c0f723",
   "metadata": {},
   "outputs": [
    {
     "name": "stdout",
     "output_type": "stream",
     "text": [
      "root\n",
      " |-- rollno: string (nullable = true)\n",
      " |-- name: string (nullable = true)\n",
      " |-- age: integer (nullable = true)\n",
      " |-- height: float (nullable = true)\n",
      " |-- weight: integer (nullable = true)\n",
      " |-- address: string (nullable = true)\n",
      "\n"
     ]
    }
   ],
   "source": [
    "# Display schema in tree format\n",
    "df.printSchema()"
   ]
  }
 ],
 "metadata": {
  "kernelspec": {
   "display_name": ".data",
   "language": "python",
   "name": "python3"
  },
  "language_info": {
   "codemirror_mode": {
    "name": "ipython",
    "version": 3
   },
   "file_extension": ".py",
   "mimetype": "text/x-python",
   "name": "python",
   "nbconvert_exporter": "python",
   "pygments_lexer": "ipython3",
   "version": "3.10.0"
  }
 },
 "nbformat": 4,
 "nbformat_minor": 5
}
