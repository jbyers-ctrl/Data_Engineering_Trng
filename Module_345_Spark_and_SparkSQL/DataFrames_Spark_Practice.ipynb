{
  "cells": [
    {
      "cell_type": "markdown",
      "metadata": {
        "application/vnd.databricks.v1+cell": {
          "cellMetadata": {},
          "inputWidgets": {},
          "nuid": "eed0932b-d7a1-4cf1-a8b5-a9f67e5466b8",
          "showTitle": false,
          "tableResultSettingsMap": {},
          "title": ""
        },
        "id": "H8aKApMY_J_I"
      },
      "source": [
        "# Spark DataFrames\n",
        "\n",
        "We'll be covering some basic methods used when\n",
        "\n",
        "First, use Seaborn to load the Titanic Dataset\n",
        "\n",
        "```python\n",
        "titanic_df = sns.load_dataset('titanic')\n",
        "df_t = spark.createDataFrame(titanic_df)\n",
        "```\n",
        "\n",
        "Alternatively, we'll need to load in a DataFrame from a file. If you've uploaded the Titanic dataset (`train.csv`) then use the path to that file, for example `/FileStore/tables/train.csv`.\n",
        "\n",
        "\n",
        "Here's the code for loading `train.csv` into a DataFrame:\n",
        "\n",
        "```python\n",
        "df = spark.read.csv(\"/FileStore/tables/train.csv\", header=True, inferSchema=True)\n",
        "```\n",
        "  \n",
        "This is analogous to Pandas' `pd.read_csv()` method, albeit more complicated.\n",
        "- `spark`: Spark's object for working with structured data (like a csv)\n",
        "- `read.csv(\"/FileStore/tables/train.csv\")`: We're loading a csv and specifying its location\n",
        "- `header=True`: Specifies that we have a header row in our csv\n",
        "- `inferSchema=True`: Unlike pandas, Spark does not automatically infer the datatypes for each column. We either have to manually set the datatypes or run this option\n",
        "\n",
        "Run the sample code above in the following cell to load in our DataFrame."
      ]
    },
    {
      "cell_type": "code",
      "execution_count": null,
      "metadata": {
        "id": "XW0NZpTV_J_K"
      },
      "outputs": [],
      "source": [
        "import seaborn as sns\n",
        "import pyspark\n",
        "from pyspark.sql import SparkSession"
      ]
    },
    {
      "cell_type": "code",
      "execution_count": null,
      "metadata": {
        "id": "akLdmLN4_J_L"
      },
      "outputs": [],
      "source": [
        "spark = SparkSession.builder.getOrCreate()"
      ]
    },
    {
      "cell_type": "code",
      "execution_count": null,
      "metadata": {
        "application/vnd.databricks.v1+cell": {
          "cellMetadata": {},
          "inputWidgets": {},
          "nuid": "c425f33b-9331-4230-acd0-5a84e220b03f",
          "showTitle": false,
          "tableResultSettingsMap": {},
          "title": ""
        },
        "id": "VgEr9cQo_J_M"
      },
      "outputs": [],
      "source": [
        "# df_t for Seaborn Titanic Data\n"
      ]
    },
    {
      "cell_type": "code",
      "execution_count": null,
      "metadata": {
        "id": "4DG8dqYQ_J_M"
      },
      "outputs": [],
      "source": [
        "# df for train.csv Titanic Data\n",
        "\n"
      ]
    },
    {
      "cell_type": "markdown",
      "metadata": {
        "application/vnd.databricks.v1+cell": {
          "cellMetadata": {},
          "inputWidgets": {},
          "nuid": "f58142e3-5df7-4eda-8b04-f39b65554103",
          "showTitle": false,
          "tableResultSettingsMap": {},
          "title": ""
        },
        "id": "4GzMH9o6_J_N"
      },
      "source": [
        "# `df.show()`\n",
        "\n",
        "`df.show()` is similar to pandas' `df.head()` method with a couple of exceptions:\n",
        "1. `.show()` will print the first 20 rows\n",
        "2. **It is only a print statement**. If you try to set `.show()` to a variable, you will not get a DataFrame.\n",
        "\n",
        "`.show()` has a few parameters:\n",
        "1. Number of rows to show (int)\n",
        "2. Truncate (boolean)"
      ]
    },
    {
      "cell_type": "code",
      "execution_count": null,
      "metadata": {
        "application/vnd.databricks.v1+cell": {
          "cellMetadata": {},
          "inputWidgets": {},
          "nuid": "2527e6eb-c9d6-4f7e-80d4-e89cfdc0da36",
          "showTitle": false,
          "tableResultSettingsMap": {},
          "title": ""
        },
        "id": "zDpC6AoJ_J_N",
        "outputId": "65c7a810-bd82-4564-f414-d38e16ac8bf2"
      },
      "outputs": [
        {
          "data": {
            "text/html": [
              "<style scoped>\n",
              "  .ansiout {\n",
              "    display: block;\n",
              "    unicode-bidi: embed;\n",
              "    white-space: pre-wrap;\n",
              "    word-wrap: break-word;\n",
              "    word-break: break-all;\n",
              "    font-family: \"Menlo\", \"Monaco\", \"Consolas\", \"Ubuntu Mono\", \"Source Code Pro\", monospace;\n",
              "    font-size: 13px;\n",
              "    color: #555;\n",
              "    margin-left: 4px;\n",
              "    line-height: 19px;\n",
              "  }\n",
              "</style>"
            ]
          },
          "metadata": {
            "application/vnd.databricks.v1+output": {
              "arguments": {},
              "data": "",
              "errorSummary": "",
              "errorTraceType": null,
              "metadata": {},
              "type": "ipynbError"
            }
          },
          "output_type": "display_data"
        }
      ],
      "source": []
    },
    {
      "cell_type": "markdown",
      "metadata": {
        "application/vnd.databricks.v1+cell": {
          "cellMetadata": {},
          "inputWidgets": {},
          "nuid": "8e5019cc-869f-4d18-a828-39c2890ea7a7",
          "showTitle": false,
          "tableResultSettingsMap": {},
          "title": ""
        },
        "id": "b-8B1Sh1_J_O"
      },
      "source": [
        "Alternatively, you can also use the `df_t.show()` function to view a `df_t` dataframe\n",
        "\n",
        "What do you notice about `df` and `df_t`?"
      ]
    },
    {
      "cell_type": "code",
      "execution_count": null,
      "metadata": {
        "application/vnd.databricks.v1+cell": {
          "cellMetadata": {},
          "inputWidgets": {},
          "nuid": "3990b7ae-8156-480a-b363-ef7b7e6086a5",
          "showTitle": false,
          "tableResultSettingsMap": {},
          "title": ""
        },
        "id": "f__uPaeo_J_O",
        "outputId": "8aaffb8a-ecbf-4701-b442-96d5a2e9a7c3"
      },
      "outputs": [
        {
          "data": {
            "text/html": [
              "<style scoped>\n",
              "  .ansiout {\n",
              "    display: block;\n",
              "    unicode-bidi: embed;\n",
              "    white-space: pre-wrap;\n",
              "    word-wrap: break-word;\n",
              "    word-break: break-all;\n",
              "    font-family: \"Menlo\", \"Monaco\", \"Consolas\", \"Ubuntu Mono\", \"Source Code Pro\", monospace;\n",
              "    font-size: 13px;\n",
              "    color: #555;\n",
              "    margin-left: 4px;\n",
              "    line-height: 19px;\n",
              "  }\n",
              "</style>"
            ]
          },
          "metadata": {
            "application/vnd.databricks.v1+output": {
              "arguments": {},
              "data": "",
              "errorSummary": "",
              "errorTraceType": null,
              "metadata": {},
              "type": "ipynbError"
            }
          },
          "output_type": "display_data"
        }
      ],
      "source": []
    },
    {
      "cell_type": "markdown",
      "metadata": {
        "application/vnd.databricks.v1+cell": {
          "cellMetadata": {},
          "inputWidgets": {},
          "nuid": "8e859ad0-a442-4a1f-9318-883c313d60e2",
          "showTitle": false,
          "tableResultSettingsMap": {},
          "title": ""
        },
        "id": "YfQJzThe_J_P"
      },
      "source": [
        "# Column Data\n",
        "\n",
        "`df_t.columns` & `df.columns` returns a list of strings, one for each column's name.\n",
        "\n",
        "`df_t.printSchema` & `df.printSchema` allows us to see each column and its associated data type.\n",
        "\n",
        "`df_t.dtypes` & `df.dtypes` returns a list of tuples, each tuple containing the column's name and data type."
      ]
    },
    {
      "cell_type": "code",
      "execution_count": null,
      "metadata": {
        "application/vnd.databricks.v1+cell": {
          "cellMetadata": {},
          "inputWidgets": {},
          "nuid": "abf662d6-2ab2-4ebb-9050-fb1e0ac78a12",
          "showTitle": false,
          "tableResultSettingsMap": {},
          "title": ""
        },
        "id": "bnkxNzsC_J_P",
        "outputId": "0ca1569d-aedf-48f1-cfd2-a6c0cbd298f4"
      },
      "outputs": [
        {
          "data": {
            "text/html": [
              "<style scoped>\n",
              "  .ansiout {\n",
              "    display: block;\n",
              "    unicode-bidi: embed;\n",
              "    white-space: pre-wrap;\n",
              "    word-wrap: break-word;\n",
              "    word-break: break-all;\n",
              "    font-family: \"Menlo\", \"Monaco\", \"Consolas\", \"Ubuntu Mono\", \"Source Code Pro\", monospace;\n",
              "    font-size: 13px;\n",
              "    color: #555;\n",
              "    margin-left: 4px;\n",
              "    line-height: 19px;\n",
              "  }\n",
              "</style>"
            ]
          },
          "metadata": {
            "application/vnd.databricks.v1+output": {
              "arguments": {},
              "data": "",
              "errorSummary": "",
              "errorTraceType": null,
              "metadata": {},
              "type": "ipynbError"
            }
          },
          "output_type": "display_data"
        }
      ],
      "source": []
    },
    {
      "cell_type": "code",
      "execution_count": null,
      "metadata": {
        "application/vnd.databricks.v1+cell": {
          "cellMetadata": {},
          "inputWidgets": {},
          "nuid": "e5adc65a-f5e3-4a72-8f7e-c78b1be05928",
          "showTitle": false,
          "tableResultSettingsMap": {},
          "title": ""
        },
        "id": "yntMhmM9_J_P",
        "outputId": "a964eeaf-502d-409e-bf94-7fe50203a9ec"
      },
      "outputs": [
        {
          "data": {
            "text/html": [
              "<style scoped>\n",
              "  .ansiout {\n",
              "    display: block;\n",
              "    unicode-bidi: embed;\n",
              "    white-space: pre-wrap;\n",
              "    word-wrap: break-word;\n",
              "    word-break: break-all;\n",
              "    font-family: \"Menlo\", \"Monaco\", \"Consolas\", \"Ubuntu Mono\", \"Source Code Pro\", monospace;\n",
              "    font-size: 13px;\n",
              "    color: #555;\n",
              "    margin-left: 4px;\n",
              "    line-height: 19px;\n",
              "  }\n",
              "</style>"
            ]
          },
          "metadata": {
            "application/vnd.databricks.v1+output": {
              "arguments": {},
              "data": "",
              "errorSummary": "",
              "errorTraceType": null,
              "metadata": {},
              "type": "ipynbError"
            }
          },
          "output_type": "display_data"
        }
      ],
      "source": []
    },
    {
      "cell_type": "code",
      "execution_count": null,
      "metadata": {
        "application/vnd.databricks.v1+cell": {
          "cellMetadata": {},
          "inputWidgets": {},
          "nuid": "7d893ee2-0d6c-4317-9161-e5f5bff36f14",
          "showTitle": false,
          "tableResultSettingsMap": {},
          "title": ""
        },
        "id": "Ks8SBDRb_J_P",
        "outputId": "f32efc56-01c4-4319-f202-9a2df60e6626"
      },
      "outputs": [
        {
          "data": {
            "text/html": [
              "<style scoped>\n",
              "  .ansiout {\n",
              "    display: block;\n",
              "    unicode-bidi: embed;\n",
              "    white-space: pre-wrap;\n",
              "    word-wrap: break-word;\n",
              "    word-break: break-all;\n",
              "    font-family: \"Menlo\", \"Monaco\", \"Consolas\", \"Ubuntu Mono\", \"Source Code Pro\", monospace;\n",
              "    font-size: 13px;\n",
              "    color: #555;\n",
              "    margin-left: 4px;\n",
              "    line-height: 19px;\n",
              "  }\n",
              "</style>"
            ]
          },
          "metadata": {
            "application/vnd.databricks.v1+output": {
              "arguments": {},
              "data": "",
              "errorSummary": "",
              "errorTraceType": null,
              "metadata": {},
              "type": "ipynbError"
            }
          },
          "output_type": "display_data"
        }
      ],
      "source": []
    },
    {
      "cell_type": "markdown",
      "metadata": {
        "id": "79RT5dK4_J_Q"
      },
      "source": [
        "# EXTRA CHALLENGE:\n",
        "\n",
        "How would you compare, contrast, or combine the data from these two dataframes?"
      ]
    },
    {
      "cell_type": "markdown",
      "metadata": {
        "application/vnd.databricks.v1+cell": {
          "cellMetadata": {},
          "inputWidgets": {},
          "nuid": "fcdd6474-ac33-4b2f-949d-bea952fd7766",
          "showTitle": false,
          "tableResultSettingsMap": {},
          "title": ""
        },
        "id": "Tut3-Hvy_J_Q"
      },
      "source": [
        "# Challenge\n",
        "Use `df.dtypes` & `df_t.dtypes` to create a list of the numerical columns (names only)."
      ]
    },
    {
      "cell_type": "code",
      "execution_count": null,
      "metadata": {
        "application/vnd.databricks.v1+cell": {
          "cellMetadata": {},
          "inputWidgets": {},
          "nuid": "82e96b1a-a6e4-4b91-88d0-b290ec6d7c31",
          "showTitle": false,
          "tableResultSettingsMap": {},
          "title": ""
        },
        "id": "4XdzAuGP_J_Q",
        "outputId": "d4979207-012b-45b5-eef0-77f4d7179f4a"
      },
      "outputs": [
        {
          "data": {
            "text/html": [
              "<style scoped>\n",
              "  .ansiout {\n",
              "    display: block;\n",
              "    unicode-bidi: embed;\n",
              "    white-space: pre-wrap;\n",
              "    word-wrap: break-word;\n",
              "    word-break: break-all;\n",
              "    font-family: \"Menlo\", \"Monaco\", \"Consolas\", \"Ubuntu Mono\", \"Source Code Pro\", monospace;\n",
              "    font-size: 13px;\n",
              "    color: #555;\n",
              "    margin-left: 4px;\n",
              "    line-height: 19px;\n",
              "  }\n",
              "</style>"
            ]
          },
          "metadata": {
            "application/vnd.databricks.v1+output": {
              "arguments": {},
              "data": "",
              "errorSummary": "",
              "errorTraceType": null,
              "metadata": {},
              "type": "ipynbError"
            }
          },
          "output_type": "display_data"
        }
      ],
      "source": []
    },
    {
      "cell_type": "markdown",
      "metadata": {
        "application/vnd.databricks.v1+cell": {
          "cellMetadata": {},
          "inputWidgets": {},
          "nuid": "d638a9a4-5888-4a3d-80e2-c0b9a804f2ae",
          "showTitle": false,
          "tableResultSettingsMap": {},
          "title": ""
        },
        "id": "_p-WH_cH_J_Q"
      },
      "source": [
        "# Summary statistics\n",
        "`df.describe()` provides summary statistics, similar to its Pandas counterpart. `.describe()` returns a DataFrame, so you'll need to use `.show()` if you want to  see the results."
      ]
    },
    {
      "cell_type": "code",
      "execution_count": null,
      "metadata": {
        "application/vnd.databricks.v1+cell": {
          "cellMetadata": {},
          "inputWidgets": {},
          "nuid": "d6d89ee5-a786-435c-a7f8-a625d49b629a",
          "showTitle": false,
          "tableResultSettingsMap": {},
          "title": ""
        },
        "id": "bGcwPXs5_J_R",
        "outputId": "e4026c91-e36e-4d60-9b37-1ea8e2bff055"
      },
      "outputs": [
        {
          "data": {
            "text/html": [
              "<style scoped>\n",
              "  .ansiout {\n",
              "    display: block;\n",
              "    unicode-bidi: embed;\n",
              "    white-space: pre-wrap;\n",
              "    word-wrap: break-word;\n",
              "    word-break: break-all;\n",
              "    font-family: \"Menlo\", \"Monaco\", \"Consolas\", \"Ubuntu Mono\", \"Source Code Pro\", monospace;\n",
              "    font-size: 13px;\n",
              "    color: #555;\n",
              "    margin-left: 4px;\n",
              "    line-height: 19px;\n",
              "  }\n",
              "</style>"
            ]
          },
          "metadata": {
            "application/vnd.databricks.v1+output": {
              "arguments": {},
              "data": "",
              "errorSummary": "",
              "errorTraceType": null,
              "metadata": {},
              "type": "ipynbError"
            }
          },
          "output_type": "display_data"
        }
      ],
      "source": []
    },
    {
      "cell_type": "markdown",
      "metadata": {
        "application/vnd.databricks.v1+cell": {
          "cellMetadata": {},
          "inputWidgets": {},
          "nuid": "8980a5b3-88b6-4ddc-bbf9-6fbe0c2feb09",
          "showTitle": false,
          "tableResultSettingsMap": {},
          "title": ""
        },
        "id": "pbswI2En_J_R"
      },
      "source": [
        "# Select\n",
        "\n",
        "Rather than looking at the entire dataset, `df.select()` allows us to view a subset of the columns. Simply pass in comma separated strings as arguments."
      ]
    },
    {
      "cell_type": "code",
      "execution_count": null,
      "metadata": {
        "application/vnd.databricks.v1+cell": {
          "cellMetadata": {},
          "inputWidgets": {},
          "nuid": "a1ad4bc8-dda2-43c5-a5e2-8ba7e144a008",
          "showTitle": false,
          "tableResultSettingsMap": {},
          "title": ""
        },
        "id": "v31kLxrh_J_R",
        "outputId": "2da52a6d-e79c-4521-dbb8-c53a3a261fa7"
      },
      "outputs": [
        {
          "data": {
            "text/html": [
              "<style scoped>\n",
              "  .ansiout {\n",
              "    display: block;\n",
              "    unicode-bidi: embed;\n",
              "    white-space: pre-wrap;\n",
              "    word-wrap: break-word;\n",
              "    word-break: break-all;\n",
              "    font-family: \"Menlo\", \"Monaco\", \"Consolas\", \"Ubuntu Mono\", \"Source Code Pro\", monospace;\n",
              "    font-size: 13px;\n",
              "    color: #555;\n",
              "    margin-left: 4px;\n",
              "    line-height: 19px;\n",
              "  }\n",
              "</style>"
            ]
          },
          "metadata": {
            "application/vnd.databricks.v1+output": {
              "arguments": {},
              "data": "",
              "errorSummary": "",
              "errorTraceType": null,
              "metadata": {},
              "type": "ipynbError"
            }
          },
          "output_type": "display_data"
        }
      ],
      "source": []
    },
    {
      "cell_type": "markdown",
      "metadata": {
        "application/vnd.databricks.v1+cell": {
          "cellMetadata": {},
          "inputWidgets": {},
          "nuid": "0b3b0ea2-8ce8-41ab-b35f-a0d0e5711f58",
          "showTitle": false,
          "tableResultSettingsMap": {},
          "title": ""
        },
        "id": "DqOdArJM_J_R"
      },
      "source": [
        "# Filtering\n",
        "\n",
        "`df.filter()` accepts a SQL string as a parameter. For example, to get all 3rd class passengers who emkared from Queenstown, we'd write the following:\n",
        "```python\n",
        "df.filter(\"Pclass = 3 AND Embarked = 'Q'\")\n",
        "```\n",
        "\n",
        "Create a filter that returns all **survivors** from 3rd class."
      ]
    },
    {
      "cell_type": "code",
      "execution_count": null,
      "metadata": {
        "application/vnd.databricks.v1+cell": {
          "cellMetadata": {},
          "inputWidgets": {},
          "nuid": "0ead212a-386a-4040-9d65-ea2b7c9c697b",
          "showTitle": false,
          "tableResultSettingsMap": {},
          "title": ""
        },
        "id": "X4NA-K6f_J_R",
        "outputId": "7bc3ae36-3e18-47a9-83a8-ebe52597cd46"
      },
      "outputs": [
        {
          "data": {
            "text/html": [
              "<style scoped>\n",
              "  .ansiout {\n",
              "    display: block;\n",
              "    unicode-bidi: embed;\n",
              "    white-space: pre-wrap;\n",
              "    word-wrap: break-word;\n",
              "    word-break: break-all;\n",
              "    font-family: \"Menlo\", \"Monaco\", \"Consolas\", \"Ubuntu Mono\", \"Source Code Pro\", monospace;\n",
              "    font-size: 13px;\n",
              "    color: #555;\n",
              "    margin-left: 4px;\n",
              "    line-height: 19px;\n",
              "  }\n",
              "</style>"
            ]
          },
          "metadata": {
            "application/vnd.databricks.v1+output": {
              "arguments": {},
              "data": "",
              "errorSummary": "",
              "errorTraceType": null,
              "metadata": {},
              "type": "ipynbError"
            }
          },
          "output_type": "display_data"
        }
      ],
      "source": []
    },
    {
      "cell_type": "markdown",
      "metadata": {
        "application/vnd.databricks.v1+cell": {
          "cellMetadata": {},
          "inputWidgets": {},
          "nuid": "87779ecc-8778-4b43-b883-da7f1453f791",
          "showTitle": false,
          "tableResultSettingsMap": {},
          "title": ""
        },
        "id": "xovP8BDJ_J_S"
      },
      "source": [
        "# Filtering: Null values\n",
        "\n",
        "Recall in SQL we use `WHERE col IS NULL` when looking for null values. Use that same logic to find everyone whose port of embarkation is null."
      ]
    },
    {
      "cell_type": "code",
      "execution_count": null,
      "metadata": {
        "application/vnd.databricks.v1+cell": {
          "cellMetadata": {},
          "inputWidgets": {},
          "nuid": "648d15f5-9564-4778-b773-ce3344f65909",
          "showTitle": false,
          "tableResultSettingsMap": {},
          "title": ""
        },
        "id": "P2Yn2kBX_J_S",
        "outputId": "5cd83ad6-1594-48d2-b54c-d42cc892509b"
      },
      "outputs": [
        {
          "data": {
            "text/html": [
              "<style scoped>\n",
              "  .ansiout {\n",
              "    display: block;\n",
              "    unicode-bidi: embed;\n",
              "    white-space: pre-wrap;\n",
              "    word-wrap: break-word;\n",
              "    word-break: break-all;\n",
              "    font-family: \"Menlo\", \"Monaco\", \"Consolas\", \"Ubuntu Mono\", \"Source Code Pro\", monospace;\n",
              "    font-size: 13px;\n",
              "    color: #555;\n",
              "    margin-left: 4px;\n",
              "    line-height: 19px;\n",
              "  }\n",
              "</style>"
            ]
          },
          "metadata": {
            "application/vnd.databricks.v1+output": {
              "arguments": {},
              "data": "",
              "errorSummary": "",
              "errorTraceType": null,
              "metadata": {},
              "type": "ipynbError"
            }
          },
          "output_type": "display_data"
        }
      ],
      "source": []
    },
    {
      "cell_type": "markdown",
      "metadata": {
        "application/vnd.databricks.v1+cell": {
          "cellMetadata": {},
          "inputWidgets": {},
          "nuid": "7e6cacaa-04aa-4cf5-923a-7b74ad719523",
          "showTitle": false,
          "tableResultSettingsMap": {},
          "title": ""
        },
        "id": "_GAEBbds_J_S"
      },
      "source": [
        "# Imputing null values\n",
        "\n",
        "`df.na.fill()` is similar to `df.fillna()` in pandas. `.fill()` accepts either a string or a number, and will impute all string or numerical columns respectively."
      ]
    },
    {
      "cell_type": "code",
      "execution_count": null,
      "metadata": {
        "application/vnd.databricks.v1+cell": {
          "cellMetadata": {},
          "inputWidgets": {},
          "nuid": "c58fad77-b2cc-41f2-8ece-2f9a9f631d83",
          "showTitle": false,
          "tableResultSettingsMap": {},
          "title": ""
        },
        "id": "SlalFJwN_J_S",
        "outputId": "ac753c07-434a-4a4c-eb51-bec36cb8e4f6"
      },
      "outputs": [
        {
          "data": {
            "text/html": [
              "<style scoped>\n",
              "  .ansiout {\n",
              "    display: block;\n",
              "    unicode-bidi: embed;\n",
              "    white-space: pre-wrap;\n",
              "    word-wrap: break-word;\n",
              "    word-break: break-all;\n",
              "    font-family: \"Menlo\", \"Monaco\", \"Consolas\", \"Ubuntu Mono\", \"Source Code Pro\", monospace;\n",
              "    font-size: 13px;\n",
              "    color: #555;\n",
              "    margin-left: 4px;\n",
              "    line-height: 19px;\n",
              "  }\n",
              "</style>"
            ]
          },
          "metadata": {
            "application/vnd.databricks.v1+output": {
              "arguments": {},
              "data": "",
              "errorSummary": "",
              "errorTraceType": null,
              "metadata": {},
              "type": "ipynbError"
            }
          },
          "output_type": "display_data"
        }
      ],
      "source": []
    },
    {
      "cell_type": "code",
      "execution_count": null,
      "metadata": {
        "application/vnd.databricks.v1+cell": {
          "cellMetadata": {},
          "inputWidgets": {},
          "nuid": "bf1f4295-cab3-4c90-a9e5-f8159a8383ac",
          "showTitle": false,
          "tableResultSettingsMap": {},
          "title": ""
        },
        "id": "BtfJgJV8_J_S",
        "outputId": "a1a12eac-1880-4d4c-f34c-bb3371184924"
      },
      "outputs": [
        {
          "data": {
            "text/html": [
              "<style scoped>\n",
              "  .ansiout {\n",
              "    display: block;\n",
              "    unicode-bidi: embed;\n",
              "    white-space: pre-wrap;\n",
              "    word-wrap: break-word;\n",
              "    word-break: break-all;\n",
              "    font-family: \"Menlo\", \"Monaco\", \"Consolas\", \"Ubuntu Mono\", \"Source Code Pro\", monospace;\n",
              "    font-size: 13px;\n",
              "    color: #555;\n",
              "    margin-left: 4px;\n",
              "    line-height: 19px;\n",
              "  }\n",
              "</style>"
            ]
          },
          "metadata": {
            "application/vnd.databricks.v1+output": {
              "arguments": {},
              "data": "",
              "errorSummary": "",
              "errorTraceType": null,
              "metadata": {},
              "type": "ipynbError"
            }
          },
          "output_type": "display_data"
        }
      ],
      "source": [
        "# Impute both string and numerical null values"
      ]
    },
    {
      "cell_type": "markdown",
      "metadata": {
        "application/vnd.databricks.v1+cell": {
          "cellMetadata": {},
          "inputWidgets": {},
          "nuid": "209dc114-f46c-47ee-a1f6-0bed49ea5167",
          "showTitle": false,
          "tableResultSettingsMap": {},
          "title": ""
        },
        "id": "SoBkBdJ2_J_S"
      },
      "source": [
        "# Renaming columns\n",
        "\n",
        "`df.withColumnRenamed()` is used for renaming columns:\n",
        "```python\n",
        "df.withColumnRenamed(\"OldCol\", \"NewCol\")\n",
        "```\n",
        "\n",
        "We'll use this method quite a bit. Spark's machine learning models require two columns in order to work: `\"features\"` and `\"label\"`. In the cell below, rename the \"Survived\" column to \"label\".\n"
      ]
    },
    {
      "cell_type": "code",
      "execution_count": null,
      "metadata": {
        "application/vnd.databricks.v1+cell": {
          "cellMetadata": {},
          "inputWidgets": {},
          "nuid": "55c95163-7202-4c1c-bcb9-03bce7e31c94",
          "showTitle": false,
          "tableResultSettingsMap": {},
          "title": ""
        },
        "id": "H5uHQrhV_J_S",
        "outputId": "3a916c21-2043-448c-d3a6-f276208dab2d"
      },
      "outputs": [
        {
          "data": {
            "text/html": [
              "<style scoped>\n",
              "  .ansiout {\n",
              "    display: block;\n",
              "    unicode-bidi: embed;\n",
              "    white-space: pre-wrap;\n",
              "    word-wrap: break-word;\n",
              "    word-break: break-all;\n",
              "    font-family: \"Menlo\", \"Monaco\", \"Consolas\", \"Ubuntu Mono\", \"Source Code Pro\", monospace;\n",
              "    font-size: 13px;\n",
              "    color: #555;\n",
              "    margin-left: 4px;\n",
              "    line-height: 19px;\n",
              "  }\n",
              "</style>"
            ]
          },
          "metadata": {
            "application/vnd.databricks.v1+output": {
              "arguments": {},
              "data": "",
              "errorSummary": "",
              "errorTraceType": null,
              "metadata": {},
              "type": "ipynbError"
            }
          },
          "output_type": "display_data"
        }
      ],
      "source": []
    },
    {
      "cell_type": "markdown",
      "metadata": {
        "application/vnd.databricks.v1+cell": {
          "cellMetadata": {},
          "inputWidgets": {},
          "nuid": "7f46ed4d-3318-450d-9391-4335a107afde",
          "showTitle": false,
          "tableResultSettingsMap": {},
          "title": ""
        },
        "id": "n-jrHCRk_J_S"
      },
      "source": [
        "# Creating new columns\n",
        "\n",
        "`df.withColumn()` is used for creating new columns. The first parameter is the name of the new column, and the second is the new column.\n",
        "\n",
        "```python\n",
        "df.withColumn(\"NewCol\", df.columnAsProperty)\n",
        "```\n",
        "\n",
        "In the cell below, create a column called \"FamilyCount\" which is equal to `df.SibSp + df.Parch`"
      ]
    },
    {
      "cell_type": "code",
      "execution_count": null,
      "metadata": {
        "application/vnd.databricks.v1+cell": {
          "cellMetadata": {},
          "inputWidgets": {},
          "nuid": "4af89c5e-519f-4776-bda7-4b3a105e69af",
          "showTitle": false,
          "tableResultSettingsMap": {},
          "title": ""
        },
        "id": "sVap08LT_J_T",
        "outputId": "266c9fee-d1fb-407a-fd03-6e5970f1941e"
      },
      "outputs": [
        {
          "data": {
            "text/html": [
              "<style scoped>\n",
              "  .ansiout {\n",
              "    display: block;\n",
              "    unicode-bidi: embed;\n",
              "    white-space: pre-wrap;\n",
              "    word-wrap: break-word;\n",
              "    word-break: break-all;\n",
              "    font-family: \"Menlo\", \"Monaco\", \"Consolas\", \"Ubuntu Mono\", \"Source Code Pro\", monospace;\n",
              "    font-size: 13px;\n",
              "    color: #555;\n",
              "    margin-left: 4px;\n",
              "    line-height: 19px;\n",
              "  }\n",
              "</style>"
            ]
          },
          "metadata": {
            "application/vnd.databricks.v1+output": {
              "arguments": {},
              "data": "",
              "errorSummary": "",
              "errorTraceType": null,
              "metadata": {},
              "type": "ipynbError"
            }
          },
          "output_type": "display_data"
        }
      ],
      "source": []
    },
    {
      "cell_type": "markdown",
      "metadata": {
        "application/vnd.databricks.v1+cell": {
          "cellMetadata": {},
          "inputWidgets": {},
          "nuid": "61922c61-b58c-425d-aad2-8f70981eab3b",
          "showTitle": false,
          "tableResultSettingsMap": {},
          "title": ""
        },
        "id": "H-qLhAG0_J_T"
      },
      "source": [
        "\n",
        "# SQL functions\n",
        "\n",
        "SQL functions are for performing some sort of calculation or transformation on our DataFrames. For example, finding the survival rate in our daset requires that we first import the `avg` function:\n",
        "\n",
        "```python\n",
        "from pyspark.sql.functions import avg, count, corr\n",
        "```\n",
        "\n",
        "And then apply it to the label column:\n",
        "```python\n",
        "df.select(avg(\"label\"))```"
      ]
    },
    {
      "cell_type": "code",
      "execution_count": null,
      "metadata": {
        "application/vnd.databricks.v1+cell": {
          "cellMetadata": {},
          "inputWidgets": {},
          "nuid": "3d3daad0-508a-4b36-94cd-d5250fbbedd5",
          "showTitle": false,
          "tableResultSettingsMap": {},
          "title": ""
        },
        "id": "H1QQdK--_J_T",
        "outputId": "06d8b785-6f11-47b7-84eb-a2172fea0465"
      },
      "outputs": [
        {
          "data": {
            "text/html": [
              "<style scoped>\n",
              "  .ansiout {\n",
              "    display: block;\n",
              "    unicode-bidi: embed;\n",
              "    white-space: pre-wrap;\n",
              "    word-wrap: break-word;\n",
              "    word-break: break-all;\n",
              "    font-family: \"Menlo\", \"Monaco\", \"Consolas\", \"Ubuntu Mono\", \"Source Code Pro\", monospace;\n",
              "    font-size: 13px;\n",
              "    color: #555;\n",
              "    margin-left: 4px;\n",
              "    line-height: 19px;\n",
              "  }\n",
              "</style>"
            ]
          },
          "metadata": {
            "application/vnd.databricks.v1+output": {
              "arguments": {},
              "data": "",
              "errorSummary": "",
              "errorTraceType": null,
              "metadata": {},
              "type": "ipynbError"
            }
          },
          "output_type": "display_data"
        }
      ],
      "source": []
    },
    {
      "cell_type": "code",
      "execution_count": null,
      "metadata": {
        "application/vnd.databricks.v1+cell": {
          "cellMetadata": {},
          "inputWidgets": {},
          "nuid": "b515a383-8013-4ff4-b7ad-12b51bab4812",
          "showTitle": false,
          "tableResultSettingsMap": {},
          "title": ""
        },
        "id": "_E_4COJ3_J_T",
        "outputId": "a9670dfa-37fd-4bac-e38b-6ab262ac4391"
      },
      "outputs": [
        {
          "data": {
            "text/html": [
              "<style scoped>\n",
              "  .ansiout {\n",
              "    display: block;\n",
              "    unicode-bidi: embed;\n",
              "    white-space: pre-wrap;\n",
              "    word-wrap: break-word;\n",
              "    word-break: break-all;\n",
              "    font-family: \"Menlo\", \"Monaco\", \"Consolas\", \"Ubuntu Mono\", \"Source Code Pro\", monospace;\n",
              "    font-size: 13px;\n",
              "    color: #555;\n",
              "    margin-left: 4px;\n",
              "    line-height: 19px;\n",
              "  }\n",
              "</style>"
            ]
          },
          "metadata": {
            "application/vnd.databricks.v1+output": {
              "arguments": {},
              "data": "",
              "errorSummary": "",
              "errorTraceType": null,
              "metadata": {},
              "type": "ipynbError"
            }
          },
          "output_type": "display_data"
        }
      ],
      "source": []
    },
    {
      "cell_type": "markdown",
      "metadata": {
        "application/vnd.databricks.v1+cell": {
          "cellMetadata": {},
          "inputWidgets": {},
          "nuid": "037ef2ec-69ad-4a7d-a044-540d1dfb5d76",
          "showTitle": false,
          "tableResultSettingsMap": {},
          "title": ""
        },
        "id": "HwQ1xDjS_J_T"
      },
      "source": [
        "# Challenge\n",
        "\n",
        "Calculate the [correlation](https://spark.apache.org/docs/latest/api/python/pyspark.sql.html#pyspark.sql.DataFrame.corr) between the label column and Pclass."
      ]
    },
    {
      "cell_type": "code",
      "execution_count": null,
      "metadata": {
        "application/vnd.databricks.v1+cell": {
          "cellMetadata": {},
          "inputWidgets": {},
          "nuid": "9b5078eb-af54-440b-a442-9a2137749a34",
          "showTitle": false,
          "tableResultSettingsMap": {},
          "title": ""
        },
        "id": "YH1UZZrC_J_T",
        "outputId": "926fcc3c-5945-4026-90f2-7cfc04278e6d"
      },
      "outputs": [
        {
          "data": {
            "text/html": [
              "<style scoped>\n",
              "  .ansiout {\n",
              "    display: block;\n",
              "    unicode-bidi: embed;\n",
              "    white-space: pre-wrap;\n",
              "    word-wrap: break-word;\n",
              "    word-break: break-all;\n",
              "    font-family: \"Menlo\", \"Monaco\", \"Consolas\", \"Ubuntu Mono\", \"Source Code Pro\", monospace;\n",
              "    font-size: 13px;\n",
              "    color: #555;\n",
              "    margin-left: 4px;\n",
              "    line-height: 19px;\n",
              "  }\n",
              "</style>"
            ]
          },
          "metadata": {
            "application/vnd.databricks.v1+output": {
              "arguments": {},
              "data": "",
              "errorSummary": "",
              "errorTraceType": null,
              "metadata": {},
              "type": "ipynbError"
            }
          },
          "output_type": "display_data"
        }
      ],
      "source": []
    },
    {
      "cell_type": "markdown",
      "metadata": {
        "application/vnd.databricks.v1+cell": {
          "cellMetadata": {},
          "inputWidgets": {},
          "nuid": "4966db73-efd0-4a06-8246-80d9348acab0",
          "showTitle": false,
          "tableResultSettingsMap": {},
          "title": ""
        },
        "id": "oDYuucNn_J_T"
      },
      "source": [
        "# Group BY\n",
        "\n",
        "Spark DataFrames have a `df.groupBy()` method similar to pandas. They are typically chained with an aggregate function (see previous section) like so:\n",
        "\n",
        "```python\n",
        "df.groupBy(\"Pclass\").agg(avg(\"label\")).show()\n",
        "```\n",
        "\n",
        "In the cell below, use the `.groupBy()` method to calculate two things:\n",
        "1. The survival rate for each port of embarkation\n",
        "2. How many passengers (regardless of survived) where from each port"
      ]
    },
    {
      "cell_type": "code",
      "execution_count": null,
      "metadata": {
        "application/vnd.databricks.v1+cell": {
          "cellMetadata": {},
          "inputWidgets": {},
          "nuid": "78868e7b-9136-41cc-8dfa-8d0465c2b78f",
          "showTitle": false,
          "tableResultSettingsMap": {},
          "title": ""
        },
        "id": "RhvaBch1_J_T",
        "outputId": "81b44e03-9d6b-4297-b1a2-3480183d11ed"
      },
      "outputs": [
        {
          "data": {
            "text/html": [
              "<style scoped>\n",
              "  .ansiout {\n",
              "    display: block;\n",
              "    unicode-bidi: embed;\n",
              "    white-space: pre-wrap;\n",
              "    word-wrap: break-word;\n",
              "    word-break: break-all;\n",
              "    font-family: \"Menlo\", \"Monaco\", \"Consolas\", \"Ubuntu Mono\", \"Source Code Pro\", monospace;\n",
              "    font-size: 13px;\n",
              "    color: #555;\n",
              "    margin-left: 4px;\n",
              "    line-height: 19px;\n",
              "  }\n",
              "</style>"
            ]
          },
          "metadata": {
            "application/vnd.databricks.v1+output": {
              "arguments": {},
              "data": "",
              "errorSummary": "",
              "errorTraceType": null,
              "metadata": {},
              "type": "ipynbError"
            }
          },
          "output_type": "display_data"
        }
      ],
      "source": []
    },
    {
      "cell_type": "markdown",
      "metadata": {
        "application/vnd.databricks.v1+cell": {
          "cellMetadata": {},
          "inputWidgets": {},
          "nuid": "0e4c0d00-00ea-41c7-9388-0e0d43a7d3fb",
          "showTitle": false,
          "tableResultSettingsMap": {},
          "title": ""
        },
        "id": "epQVZ8rE_J_T"
      },
      "source": [
        "# Challenges\n",
        "\n",
        "Using what we've learned, see how many challenges you can tackle:\n",
        "\n",
        "1. How many people were under the age of 30?\n",
        "2. What is the survival rate from 2nd class?\n",
        "3. How many null cabins are there?\n",
        "4. What is the correlation between FamilyCount and label?\n",
        "5. Create a list of all string columns"
      ]
    },
    {
      "cell_type": "code",
      "execution_count": null,
      "metadata": {
        "application/vnd.databricks.v1+cell": {
          "cellMetadata": {},
          "inputWidgets": {},
          "nuid": "ee936324-219a-44ca-bcfa-1814bb356232",
          "showTitle": false,
          "tableResultSettingsMap": {},
          "title": ""
        },
        "id": "_ldbgRWQ_J_h",
        "outputId": "ce5581ac-0fae-457e-d0ad-c6db74982120"
      },
      "outputs": [
        {
          "data": {
            "text/html": [
              "<style scoped>\n",
              "  .ansiout {\n",
              "    display: block;\n",
              "    unicode-bidi: embed;\n",
              "    white-space: pre-wrap;\n",
              "    word-wrap: break-word;\n",
              "    word-break: break-all;\n",
              "    font-family: \"Menlo\", \"Monaco\", \"Consolas\", \"Ubuntu Mono\", \"Source Code Pro\", monospace;\n",
              "    font-size: 13px;\n",
              "    color: #555;\n",
              "    margin-left: 4px;\n",
              "    line-height: 19px;\n",
              "  }\n",
              "</style>"
            ]
          },
          "metadata": {
            "application/vnd.databricks.v1+output": {
              "arguments": {},
              "data": "",
              "errorSummary": "",
              "errorTraceType": null,
              "metadata": {},
              "type": "ipynbError"
            }
          },
          "output_type": "display_data"
        }
      ],
      "source": [
        "# How many people were under the age of 30?"
      ]
    },
    {
      "cell_type": "code",
      "execution_count": null,
      "metadata": {
        "application/vnd.databricks.v1+cell": {
          "cellMetadata": {},
          "inputWidgets": {},
          "nuid": "f7cefecb-439d-4cd0-a592-66459b4b7d23",
          "showTitle": false,
          "tableResultSettingsMap": {},
          "title": ""
        },
        "id": "f2nKExxl_J_h",
        "outputId": "bb74099f-8448-4392-840d-69802e692244"
      },
      "outputs": [
        {
          "data": {
            "text/html": [
              "<style scoped>\n",
              "  .ansiout {\n",
              "    display: block;\n",
              "    unicode-bidi: embed;\n",
              "    white-space: pre-wrap;\n",
              "    word-wrap: break-word;\n",
              "    word-break: break-all;\n",
              "    font-family: \"Menlo\", \"Monaco\", \"Consolas\", \"Ubuntu Mono\", \"Source Code Pro\", monospace;\n",
              "    font-size: 13px;\n",
              "    color: #555;\n",
              "    margin-left: 4px;\n",
              "    line-height: 19px;\n",
              "  }\n",
              "</style>"
            ]
          },
          "metadata": {
            "application/vnd.databricks.v1+output": {
              "arguments": {},
              "data": "",
              "errorSummary": "",
              "errorTraceType": null,
              "metadata": {},
              "type": "ipynbError"
            }
          },
          "output_type": "display_data"
        }
      ],
      "source": [
        "# What is the survival rate from 2nd class?"
      ]
    },
    {
      "cell_type": "code",
      "execution_count": null,
      "metadata": {
        "application/vnd.databricks.v1+cell": {
          "cellMetadata": {},
          "inputWidgets": {},
          "nuid": "46f7f319-da8b-475f-bf89-b925e5e58121",
          "showTitle": false,
          "tableResultSettingsMap": {},
          "title": ""
        },
        "id": "lM05U7fz_J_h",
        "outputId": "c45409dd-2aaa-4d90-98c2-abff0ae12200"
      },
      "outputs": [
        {
          "data": {
            "text/html": [
              "<style scoped>\n",
              "  .ansiout {\n",
              "    display: block;\n",
              "    unicode-bidi: embed;\n",
              "    white-space: pre-wrap;\n",
              "    word-wrap: break-word;\n",
              "    word-break: break-all;\n",
              "    font-family: \"Menlo\", \"Monaco\", \"Consolas\", \"Ubuntu Mono\", \"Source Code Pro\", monospace;\n",
              "    font-size: 13px;\n",
              "    color: #555;\n",
              "    margin-left: 4px;\n",
              "    line-height: 19px;\n",
              "  }\n",
              "</style>"
            ]
          },
          "metadata": {
            "application/vnd.databricks.v1+output": {
              "arguments": {},
              "data": "",
              "errorSummary": "",
              "errorTraceType": null,
              "metadata": {},
              "type": "ipynbError"
            }
          },
          "output_type": "display_data"
        }
      ],
      "source": [
        "# How many null cabins are there?"
      ]
    },
    {
      "cell_type": "code",
      "execution_count": null,
      "metadata": {
        "application/vnd.databricks.v1+cell": {
          "cellMetadata": {},
          "inputWidgets": {},
          "nuid": "28fe89d3-621e-4580-b60e-0587c5136fda",
          "showTitle": false,
          "tableResultSettingsMap": {},
          "title": ""
        },
        "id": "VBnwLyEw_J_i",
        "outputId": "8dc5863b-24f0-43f4-c674-69327a54e01e"
      },
      "outputs": [
        {
          "data": {
            "text/html": [
              "<style scoped>\n",
              "  .ansiout {\n",
              "    display: block;\n",
              "    unicode-bidi: embed;\n",
              "    white-space: pre-wrap;\n",
              "    word-wrap: break-word;\n",
              "    word-break: break-all;\n",
              "    font-family: \"Menlo\", \"Monaco\", \"Consolas\", \"Ubuntu Mono\", \"Source Code Pro\", monospace;\n",
              "    font-size: 13px;\n",
              "    color: #555;\n",
              "    margin-left: 4px;\n",
              "    line-height: 19px;\n",
              "  }\n",
              "</style>"
            ]
          },
          "metadata": {
            "application/vnd.databricks.v1+output": {
              "arguments": {},
              "data": "",
              "errorSummary": "",
              "errorTraceType": null,
              "metadata": {},
              "type": "ipynbError"
            }
          },
          "output_type": "display_data"
        }
      ],
      "source": [
        "# What is the correlation between FamilyCount and label?"
      ]
    },
    {
      "cell_type": "code",
      "execution_count": null,
      "metadata": {
        "application/vnd.databricks.v1+cell": {
          "cellMetadata": {},
          "inputWidgets": {},
          "nuid": "a06adbc0-6a86-4096-8634-6cd5f5d92f9a",
          "showTitle": false,
          "tableResultSettingsMap": {},
          "title": ""
        },
        "id": "D3BHVepZ_J_i",
        "outputId": "83e84d8e-9763-473a-eb2e-71d40f077018"
      },
      "outputs": [
        {
          "data": {
            "text/html": [
              "<style scoped>\n",
              "  .ansiout {\n",
              "    display: block;\n",
              "    unicode-bidi: embed;\n",
              "    white-space: pre-wrap;\n",
              "    word-wrap: break-word;\n",
              "    word-break: break-all;\n",
              "    font-family: \"Menlo\", \"Monaco\", \"Consolas\", \"Ubuntu Mono\", \"Source Code Pro\", monospace;\n",
              "    font-size: 13px;\n",
              "    color: #555;\n",
              "    margin-left: 4px;\n",
              "    line-height: 19px;\n",
              "  }\n",
              "</style>"
            ]
          },
          "metadata": {
            "application/vnd.databricks.v1+output": {
              "arguments": {},
              "data": "",
              "errorSummary": "",
              "errorTraceType": null,
              "metadata": {},
              "type": "ipynbError"
            }
          },
          "output_type": "display_data"
        }
      ],
      "source": [
        "# Create a list of all string columns"
      ]
    }
  ],
  "metadata": {
    "application/vnd.databricks.v1+notebook": {
      "computePreferences": null,
      "dashboards": [],
      "environmentMetadata": null,
      "inputWidgetPreferences": null,
      "language": "python",
      "notebookMetadata": {
        "pythonIndentUnit": 2
      },
      "notebookName": "DataFrames",
      "widgets": {}
    },
    "colab": {
      "provenance": []
    },
    "kernelspec": {
      "display_name": "Python 3",
      "language": "python",
      "name": "python3"
    },
    "language_info": {
      "codemirror_mode": {
        "name": "ipython",
        "version": 3
      },
      "file_extension": ".py",
      "mimetype": "text/x-python",
      "name": "python",
      "nbconvert_exporter": "python",
      "pygments_lexer": "ipython3",
      "version": "3.11.4"
    }
  },
  "nbformat": 4,
  "nbformat_minor": 0
}
