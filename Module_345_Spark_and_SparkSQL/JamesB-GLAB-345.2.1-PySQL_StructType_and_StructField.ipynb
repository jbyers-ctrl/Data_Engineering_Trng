{
 "cells": [
  {
   "cell_type": "code",
   "execution_count": 4,
   "id": "6797815c",
   "metadata": {},
   "outputs": [],
   "source": [
    "import pyspark\n",
    "from pyspark.sql import SparkSession\n",
    "#and import struct types and data types\n",
    "from pyspark.sql.types import StructType,StructField,StringType,IntegerType,FloatType"
   ]
  },
  {
   "cell_type": "code",
   "execution_count": null,
   "id": "feba8a1f",
   "metadata": {},
   "outputs": [
    {
     "name": "stdout",
     "output_type": "stream",
     "text": [
      "+------+---------+---+------+------+-------+\n",
      "|rollno|     name|age|height|weight|address|\n",
      "+------+---------+---+------+------+-------+\n",
      "|   001|     john| 23|  5.79|    67|     NY|\n",
      "|   002|    James| 18|  3.79|    34|     NY|\n",
      "|   003|     Eric| 17|  2.79|    17|     NJ|\n",
      "|   004|Shahparan| 19|  3.69|    28|     NJ|\n",
      "|   005|     Flex| 37|  5.59|    54| Dallas|\n",
      "+------+---------+---+------+------+-------+\n",
      "\n"
     ]
    }
   ],
   "source": [
    "spark_app = SparkSession.builder.appName('sparkdemo').getOrCreate()\n",
    "\n",
    "# ------create student data with 5 rows and 6 attributes------\n",
    "students =[['001','john',23,5.79,67,'NY'], ['002','James',18,3.79,34,'NY'], ['003','Eric',17,2.79,17,'NJ'],\n",
    "               ['004','Shahparan',19,3.69,28,'NJ'],['005','Flex',37,5.59,54,'Dallas']]\n",
    "\n",
    "#----------define the StructType and StructFields-------\n",
    "#for the below column names\n",
    "schema=StructType([\n",
    "    StructField(\"rollno\",StringType(),True),\n",
    "    StructField(\"name\",StringType(),True),\n",
    "    StructField(\"age\",IntegerType(),True),\n",
    "    StructField(\"height\", FloatType(), True),\n",
    "    StructField(\"weight\", IntegerType(), True),\n",
    "    StructField(\"address\", StringType(), True)  ])\n",
    " \n",
    "#-----create the dataframe and add schema to the dataframe---\n",
    "df = spark_app.createDataFrame(students, schema=schema)\n",
    "df.show()\n"
   ]
  },
  {
   "cell_type": "code",
   "execution_count": 3,
   "id": "7e8ac908",
   "metadata": {},
   "outputs": [
    {
     "data": {
      "text/plain": [
       "[Row(rollno='001', name='john', age=23, height=5.789999961853027, weight=67, address='NY'),\n",
       " Row(rollno='002', name='James', age=18, height=3.7899999618530273, weight=34, address='NY'),\n",
       " Row(rollno='003', name='Eric', age=17, height=2.7899999618530273, weight=17, address='NJ'),\n",
       " Row(rollno='004', name='Shahparan', age=19, height=3.690000057220459, weight=28, address='NJ'),\n",
       " Row(rollno='005', name='Flex', age=37, height=5.590000152587891, weight=54, address='Dallas')]"
      ]
     },
     "execution_count": 3,
     "metadata": {},
     "output_type": "execute_result"
    }
   ],
   "source": [
    "df.collect()"
   ]
  }
 ],
 "metadata": {
  "kernelspec": {
   "display_name": ".data",
   "language": "python",
   "name": "python3"
  },
  "language_info": {
   "codemirror_mode": {
    "name": "ipython",
    "version": 3
   },
   "file_extension": ".py",
   "mimetype": "text/x-python",
   "name": "python",
   "nbconvert_exporter": "python",
   "pygments_lexer": "ipython3",
   "version": "3.10.0rc2"
  }
 },
 "nbformat": 4,
 "nbformat_minor": 5
}
