{
 "cells": [
  {
   "cell_type": "markdown",
   "id": "d7bbcc90",
   "metadata": {},
   "source": [
    "## Lab Overview\n",
    "- In this lab, we will explore PySpark SQL, which is Spark’s high-level API for working with structured data. You will learn how to interact with PySparkSQL, using the DataFrame API and SQL query.\n",
    "- Before you can use SQL in Spark, you will first need to create a temporary view. Creating a temporary view is performed by calling the createOrReplaceTempView() function on a DataFrame. Once created, pass any SQL statements in a call to spark.sql():\n",
    "### Learning Objective:\n",
    "- This lab aims to equip you with the practical skills to leverage PySpark SQL for querying Spark DataFrames. By the end of this lab, you will be able to:\n",
    "    - Import data from a CSV file into a Spark DataFrame.\n",
    "    - Register a DataFrame as a temporary view.\n",
    "    - Execute SQL queries against Spark DataFrames using `spark.sql()`.\n",
    "    - Perform various SQL operations, including filtering, grouping, sorting, and aggregation.\n",
    "    - Apply advanced SQL techniques like scalar subqueries and regular expressions within PySpark.\n",
    "    - Analyze and extract meaningful insights from data using PySpark SQL.\n"
   ]
  },
  {
   "cell_type": "code",
   "execution_count": 1,
   "id": "d5b30bf9",
   "metadata": {},
   "outputs": [],
   "source": [
    "import pyspark\n",
    "from pyspark.sql import SparkSession"
   ]
  },
  {
   "cell_type": "code",
   "execution_count": 2,
   "id": "ef1f4958",
   "metadata": {},
   "outputs": [
    {
     "name": "stdout",
     "output_type": "stream",
     "text": [
      "root\n",
      " |-- Car: string (nullable = true)\n",
      " |-- MPG: double (nullable = true)\n",
      " |-- Cylinders: integer (nullable = true)\n",
      " |-- Displacement: double (nullable = true)\n",
      " |-- Horsepower: integer (nullable = true)\n",
      " |-- Weight: integer (nullable = true)\n",
      " |-- Acceleration: double (nullable = true)\n",
      " |-- Model: integer (nullable = true)\n",
      " |-- Origin: string (nullable = true)\n",
      " |-- quantity: integer (nullable = true)\n",
      " |-- city: string (nullable = true)\n",
      "\n"
     ]
    }
   ],
   "source": [
    "# Initialize SparkSession\n",
    "spark = SparkSession.builder.appName('Carapp').getOrCreate()\n",
    "\n",
    "# Read CSV file with Spark DF API to return data in a DF\n",
    "cardf = spark.read.load(\"Data/cars.csv\", format=\"csv\", header=True, inferSchema=True)\n",
    "cardf.printSchema()"
   ]
  },
  {
   "cell_type": "markdown",
   "id": "1369fb27",
   "metadata": {},
   "source": [
    "#### Example 1: Return all data from CSV file"
   ]
  },
  {
   "cell_type": "code",
   "execution_count": 3,
   "id": "b5fbeb39",
   "metadata": {},
   "outputs": [
    {
     "name": "stdout",
     "output_type": "stream",
     "text": [
      "+--------------------+----+---------+------------+----------+------+------------+-----+------+--------+-------+\n",
      "|                 Car| MPG|Cylinders|Displacement|Horsepower|Weight|Acceleration|Model|Origin|quantity|   city|\n",
      "+--------------------+----+---------+------------+----------+------+------------+-----+------+--------+-------+\n",
      "|AMC Ambassador Br...|13.0|        8|       360.0|       175|  3821|        11.0|   73|    US|      25|NewYork|\n",
      "|  AMC Ambassador DPL|15.0|        8|       390.0|       190|  3850|         8.5|   70|    US|       2|     NJ|\n",
      "|  AMC Ambassador SST|17.0|        8|       304.0|       150|  3672|        11.5|   72|    US|       4| DALLAS|\n",
      "|         AMC Concord|19.4|        6|       232.0|        90|  3210|        17.2|   78|    US|      52|  TEXAS|\n",
      "|         AMC Concord|24.3|        4|       151.0|        90|  3003|        20.1|   80|    US|      42|     OH|\n",
      "|     AMC Concord d/l|18.1|        6|       258.0|       120|  3410|        15.1|   78|    US|       4|NewYork|\n",
      "|      AMC Concord DL|23.0|        4|       151.0|         0|  3035|        20.5|   82|    US|      45|     NJ|\n",
      "|    AMC Concord DL 6|20.2|        6|       232.0|        90|  3265|        18.2|   79|    US|     328| DALLAS|\n",
      "|         AMC Gremlin|21.0|        6|       199.0|        90|  2648|        15.0|   70|    US|      68|  TEXAS|\n",
      "|         AMC Gremlin|19.0|        6|       232.0|       100|  2634|        13.0|   71|    US|      78|     OH|\n",
      "+--------------------+----+---------+------------+----------+------+------------+-----+------+--------+-------+\n",
      "only showing top 10 rows\n",
      "\n"
     ]
    }
   ],
   "source": [
    "# Register DF as a temporary SQL table\n",
    "cardf.createTempView(\"dealer\") # dealer is used as a table name\n",
    "spark.sql(\"SELECT * FROM dealer\").show(10)"
   ]
  },
  {
   "cell_type": "markdown",
   "id": "73f12843",
   "metadata": {},
   "source": [
    "#### Example 2:  Find the sum of quantity per Dealer. Group by `car.`"
   ]
  },
  {
   "cell_type": "code",
   "execution_count": 4,
   "id": "4cd20f55",
   "metadata": {},
   "outputs": [
    {
     "name": "stdout",
     "output_type": "stream",
     "text": [
      "+--------------------+-------------+\n",
      "|                 Car|sum(quantity)|\n",
      "+--------------------+-------------+\n",
      "|Chevrolete Chevel...|          206|\n",
      "|Volkswagen 1131 D...|           63|\n",
      "|Chevrolet Monte C...|          582|\n",
      "|     Ford LTD Landau|          331|\n",
      "|       Honda Prelude|          400|\n",
      "|      Chevrolet Nova|          608|\n",
      "|   Volkswagen Rabbit|         1441|\n",
      "|     Ford Torino 500|           81|\n",
      "|        Toyota Camry|          153|\n",
      "|         Audi 100 LS|           65|\n",
      "|Plymouth Valiant ...|          197|\n",
      "|Toyota Corolla Ma...|          127|\n",
      "|Oldsmobile Cutlas...|          752|\n",
      "|Fiat 124 Sport Coupe|          159|\n",
      "|Chevrolet Caprice...|          732|\n",
      "|     Volvo 145e (sw)|          121|\n",
      "|            Audi Fox|          186|\n",
      "|    Chevrolet Camaro|          438|\n",
      "|       Dodge Aspen 6|          329|\n",
      "|AMC Ambassador Br...|           25|\n",
      "+--------------------+-------------+\n",
      "only showing top 20 rows\n",
      "\n"
     ]
    }
   ],
   "source": [
    "spark.sql(\"SELECT Car, sum(quantity) FROM dealer GROUP BY Car\").show()"
   ]
  },
  {
   "cell_type": "markdown",
   "id": "30bc4463",
   "metadata": {},
   "source": [
    "#### Example 3:  Multiple aggregations.\n",
    "- a. Sum of quantity per dealership.\n",
    "- b. Max quantity per dealership."
   ]
  },
  {
   "cell_type": "code",
   "execution_count": 5,
   "id": "b93cb3e1",
   "metadata": {},
   "outputs": [
    {
     "name": "stdout",
     "output_type": "stream",
     "text": [
      "+--------------------+---+---+\n",
      "|                 Car|sum|max|\n",
      "+--------------------+---+---+\n",
      "|AMC Ambassador Br...| 25| 25|\n",
      "|  AMC Ambassador DPL|  2|  2|\n",
      "|  AMC Ambassador SST|  4|  4|\n",
      "|         AMC Concord| 94| 52|\n",
      "|      AMC Concord DL| 45| 45|\n",
      "|    AMC Concord DL 6|328|328|\n",
      "|     AMC Concord d/l|  4|  4|\n",
      "|         AMC Gremlin|512|214|\n",
      "|          AMC Hornet|404|172|\n",
      "|AMC Hornet Sporta...| 90| 90|\n",
      "|         AMC Matador|833|234|\n",
      "|    AMC Matador (sw)|302|185|\n",
      "|           AMC Pacer|221|221|\n",
      "|       AMC Pacer d/l| 75| 75|\n",
      "|       AMC Rebel SST|  4|  4|\n",
      "|  AMC Rebel SST (sw)| 53| 53|\n",
      "|       AMC Spirit DL|575|575|\n",
      "|         Audi 100 LS| 65| 65|\n",
      "|          Audi 100LS|209|164|\n",
      "|           Audi 4000|362|362|\n",
      "+--------------------+---+---+\n",
      "only showing top 20 rows\n",
      "\n"
     ]
    }
   ],
   "source": [
    "spark.sql(\"SELECT Car, sum(quantity) AS sum, max(quantity) AS max FROM dealer GROUP BY Car ORDER BY Car\").show()"
   ]
  },
  {
   "cell_type": "markdown",
   "id": "11058104",
   "metadata": {},
   "source": [
    "#### Example 4: Count the number of distinct dealer cities per car."
   ]
  },
  {
   "cell_type": "code",
   "execution_count": 6,
   "id": "74d85f3f",
   "metadata": {},
   "outputs": [
    {
     "name": "stdout",
     "output_type": "stream",
     "text": [
      "+--------------------+-----+\n",
      "|                 Car|count|\n",
      "+--------------------+-----+\n",
      "|Chevrolete Chevel...|    1|\n",
      "|Volkswagen 1131 D...|    1|\n",
      "|Chevrolet Monte C...|    2|\n",
      "|     Ford LTD Landau|    1|\n",
      "|       Honda Prelude|    1|\n",
      "|      Chevrolet Nova|    3|\n",
      "|   Volkswagen Rabbit|    5|\n",
      "|     Ford Torino 500|    1|\n",
      "|        Toyota Camry|    1|\n",
      "|         Audi 100 LS|    1|\n",
      "|Plymouth Valiant ...|    1|\n",
      "|Toyota Corolla Ma...|    1|\n",
      "|Oldsmobile Cutlas...|    1|\n",
      "|Fiat 124 Sport Coupe|    1|\n",
      "|Chevrolet Caprice...|    3|\n",
      "|     Volvo 145e (sw)|    1|\n",
      "|    Chevrolet Camaro|    1|\n",
      "|            Audi Fox|    1|\n",
      "|       Dodge Aspen 6|    1|\n",
      "|    Pontiac Catalina|    3|\n",
      "+--------------------+-----+\n",
      "only showing top 20 rows\n",
      "\n"
     ]
    }
   ],
   "source": [
    "spark.sql(\"SELECT Car, count(DISTINCT city) AS count FROM dealer GROUP BY Car\").show()"
   ]
  },
  {
   "cell_type": "markdown",
   "id": "aba6d868",
   "metadata": {},
   "source": [
    "#### Example 5: Find the cars that have quantities greater than 200 and display data in descending order by quantity."
   ]
  },
  {
   "cell_type": "code",
   "execution_count": 7,
   "id": "20dda96e",
   "metadata": {},
   "outputs": [
    {
     "name": "stdout",
     "output_type": "stream",
     "text": [
      "+--------------------+----+---------+------------+----------+------+------------+-----+------+--------+------+\n",
      "|                 Car| MPG|Cylinders|Displacement|Horsepower|Weight|Acceleration|Model|Origin|quantity|  city|\n",
      "+--------------------+----+---------+------------+----------+------+------------+-----+------+--------+------+\n",
      "|   Plymouth Arrow GS|25.5|        4|       122.0|        96|  2300|        15.5|   77|    US|   75275|    OH|\n",
      "|Buick Opel Isuzu ...|30.0|        4|       111.0|        80|  2155|        14.8|   77|    US|     814|    OH|\n",
      "|      Toyota Mark II|19.0|        6|       156.0|       108|  2930|        15.5|   76| Japan|     757| TEXAS|\n",
      "|Oldsmobile Cutlas...|17.0|        8|       260.0|       110|  4060|        19.0|   77|    US|     752|    NJ|\n",
      "|       AMC Spirit DL|27.4|        4|       121.0|        80|  2670|        15.0|   79|    US|     575|    OH|\n",
      "|     Ford Mustang GL|27.0|        4|       140.0|        86|  2790|        15.6|   82|    US|     439|    OH|\n",
      "|    Chevrolet Camaro|27.0|        4|       151.0|        90|  2950|        17.3|   82|    US|     438| TEXAS|\n",
      "|    Toyota Celica GT|32.0|        4|       144.0|        96|  2665|        13.9|   82| Japan|     436| TEXAS|\n",
      "|Chrysler Lebaron ...|26.0|        4|       156.0|        92|  2585|        14.5|   82|    US|     434|DALLAS|\n",
      "|Buick Century Lim...|25.0|        6|       181.0|       110|  2945|        16.4|   82|    US|     432|DALLAS|\n",
      "|       Datsun 310 GX|38.0|        4|        91.0|        67|  1995|        16.2|   82| Japan|     431|    NJ|\n",
      "|  Honda Civic (auto)|32.0|        4|        91.0|        67|  1965|        15.7|   82| Japan|     430| TEXAS|\n",
      "|      Toyota Corolla|34.0|        4|       108.0|        70|  2245|        16.9|   82| Japan|     428|    NJ|\n",
      "|        Honda Accord|36.0|        4|       107.0|        75|  2205|        14.5|   82| Japan|     427|    OH|\n",
      "|      Mercury Lynx l|36.0|        4|        98.0|        70|  2125|        17.3|   82|    US|     425| TEXAS|\n",
      "|Plymouth Horizon ...|38.0|        4|       105.0|        63|  2125|        14.7|   82|    US|     424|DALLAS|\n",
      "|    Mazda GLC Custom|31.0|        4|        91.0|        68|  1970|        17.6|   82| Japan|     423| TEXAS|\n",
      "|  Mazda GLC Custom l|37.0|        4|        91.0|        68|  2025|        18.2|   82| Japan|     422|    OH|\n",
      "| Volkswagen Rabbit l|36.0|        4|       105.0|        74|  1980|        15.3|   82|Europe|     421|    NJ|\n",
      "|Ford Fairmont Futura|24.0|        4|       140.0|        92|  2865|        16.4|   82|    US|     419|    NJ|\n",
      "+--------------------+----+---------+------------+----------+------+------------+-----+------+--------+------+\n",
      "only showing top 20 rows\n",
      "\n"
     ]
    }
   ],
   "source": [
    "spark.sql(\"SELECT * FROM dealer WHERE quantity > 200 ORDER BY quantity desc\").show()"
   ]
  },
  {
   "cell_type": "markdown",
   "id": "0ef75a13",
   "metadata": {},
   "source": [
    "#### Example 6: Scalar Subquery in the `WHERE` clause.\n",
    "\n",
    "- Find the cars that have a horsepower greater than “average.”\n"
   ]
  },
  {
   "cell_type": "code",
   "execution_count": 9,
   "id": "415dda87",
   "metadata": {},
   "outputs": [
    {
     "name": "stdout",
     "output_type": "stream",
     "text": [
      "+--------------------+----+---------+------------+----------+------+------------+-----+------+--------+-------+\n",
      "|                 Car| MPG|Cylinders|Displacement|Horsepower|Weight|Acceleration|Model|Origin|quantity|   city|\n",
      "+--------------------+----+---------+------------+----------+------+------------+-----+------+--------+-------+\n",
      "|AMC Ambassador Br...|13.0|        8|       360.0|       175|  3821|        11.0|   73|    US|      25|NewYork|\n",
      "|  AMC Ambassador DPL|15.0|        8|       390.0|       190|  3850|         8.5|   70|    US|       2|     NJ|\n",
      "|  AMC Ambassador SST|17.0|        8|       304.0|       150|  3672|        11.5|   72|    US|       4| DALLAS|\n",
      "|     AMC Concord d/l|18.1|        6|       258.0|       120|  3410|        15.1|   78|    US|       4|NewYork|\n",
      "|AMC Hornet Sporta...|18.0|        6|       258.0|       110|  2962|        13.5|   71|    US|      90|     NJ|\n",
      "|         AMC Matador|14.0|        8|       304.0|       150|  3672|        11.5|   73|    US|     131|  TEXAS|\n",
      "|         AMC Matador|16.0|        6|       258.0|       110|  3632|        18.0|   74|    US|     179|NewYork|\n",
      "|         AMC Matador|15.0|        6|       258.0|       110|  3730|        19.0|   75|    US|     207|     NJ|\n",
      "|         AMC Matador|15.5|        8|       304.0|       120|  3962|        13.9|   76|    US|     234| DALLAS|\n",
      "|    AMC Matador (sw)|15.0|        8|       304.0|       150|  3892|        12.5|   72|    US|     117|  TEXAS|\n",
      "|    AMC Matador (sw)|14.0|        8|       304.0|       150|  4257|        15.5|   74|    US|     185|     OH|\n",
      "|       AMC Rebel SST|16.0|        8|       304.0|       150|  3433|        12.0|   70|    US|       4| DALLAS|\n",
      "|  AMC Rebel SST (sw)| 0.0|        8|       360.0|       175|  3850|        11.0|   70|    US|      53|  TEXAS|\n",
      "|            BMW 2002|26.0|        4|       121.0|       113|  2234|        12.5|   70|Europe|      67| DALLAS|\n",
      "|            BMW 320i|21.5|        4|       121.0|       110|  2600|        12.8|   77|Europe|     287|  TEXAS|\n",
      "|       Buick Century|17.0|        6|       231.0|       110|  3907|        21.0|   75|    US|     205|     OH|\n",
      "|       Buick Century|22.4|        6|       231.0|       110|  3415|        15.8|   81|    US|     409|NewYork|\n",
      "|   Buick Century 350|13.0|        8|       350.0|       175|  4100|        13.0|   73|    US|     130|     NJ|\n",
      "|Buick Century Lim...|25.0|        6|       181.0|       110|  2945|        16.4|   82|    US|     432| DALLAS|\n",
      "|Buick Century Lux...|13.0|        8|       350.0|       150|  4699|        14.5|   74|    US|     182|  TEXAS|\n",
      "+--------------------+----+---------+------------+----------+------+------------+-----+------+--------+-------+\n",
      "only showing top 20 rows\n",
      "\n"
     ]
    }
   ],
   "source": [
    "spark.sql(\"SELECT * FROM dealer WHERE Horsepower > (SELECT avg(Horsepower) FROM dealer)\").show()"
   ]
  },
  {
   "cell_type": "markdown",
   "id": "c0eccf46",
   "metadata": {},
   "source": [
    "#### Example 7: Find the sum of only 'Toyota Camrys' and 'Dodge D200s' per dealership."
   ]
  },
  {
   "cell_type": "code",
   "execution_count": 17,
   "id": "9546842c",
   "metadata": {},
   "outputs": [
    {
     "name": "stdout",
     "output_type": "stream",
     "text": [
      "+--------------------+-------------+\n",
      "|                 Car|sum(quantity)|\n",
      "+--------------------+-------------+\n",
      "|Chevrolete Chevel...|         NULL|\n",
      "|Volkswagen 1131 D...|         NULL|\n",
      "|Chevrolet Monte C...|         NULL|\n",
      "|     Ford LTD Landau|         NULL|\n",
      "|       Honda Prelude|          400|\n",
      "|      Chevrolet Nova|         NULL|\n",
      "|   Volkswagen Rabbit|         NULL|\n",
      "|     Ford Torino 500|         NULL|\n",
      "|        Toyota Camry|          153|\n",
      "|         Audi 100 LS|         NULL|\n",
      "|Plymouth Valiant ...|         NULL|\n",
      "|Toyota Corolla Ma...|         NULL|\n",
      "|Oldsmobile Cutlas...|         NULL|\n",
      "|Fiat 124 Sport Coupe|         NULL|\n",
      "|Chevrolet Caprice...|         NULL|\n",
      "|     Volvo 145e (sw)|         NULL|\n",
      "|            Audi Fox|         NULL|\n",
      "|    Chevrolet Camaro|         NULL|\n",
      "|       Dodge Aspen 6|         NULL|\n",
      "|AMC Ambassador Br...|         NULL|\n",
      "+--------------------+-------------+\n",
      "only showing top 20 rows\n",
      "\n"
     ]
    }
   ],
   "source": [
    "spark.sql(\"SELECT Car, sum(quantity) FILTER (WHERE Car IN ('Toyota Camry', 'Honda Prelude')) AS `sum(quantity)` FROM dealer GROUP BY Car\").show(20)"
   ]
  },
  {
   "cell_type": "markdown",
   "id": "7585d5f6",
   "metadata": {},
   "source": [
    "#### Example 8: Regular Expressions"
   ]
  },
  {
   "cell_type": "code",
   "execution_count": 18,
   "id": "6ad2e703",
   "metadata": {},
   "outputs": [
    {
     "name": "stdout",
     "output_type": "stream",
     "text": [
      "+--------------------+----------+\n",
      "|                 Car|  CarTitle|\n",
      "+--------------------+----------+\n",
      "|AMC Ambassador Br...|Ambassador|\n",
      "|  AMC Ambassador DPL|Ambassador|\n",
      "|  AMC Ambassador SST|Ambassador|\n",
      "|         AMC Concord|    Concor|\n",
      "|         AMC Concord|    Concor|\n",
      "|     AMC Concord d/l|   Concord|\n",
      "|      AMC Concord DL|   Concord|\n",
      "|    AMC Concord DL 6|   Concord|\n",
      "|         AMC Gremlin|    Gremli|\n",
      "|         AMC Gremlin|    Gremli|\n",
      "+--------------------+----------+\n",
      "only showing top 10 rows\n",
      "\n"
     ]
    }
   ],
   "source": [
    "spark.sql(\"SELECT Car, REGEXP_EXTRACT(Car, ' ([A-Za-z]+)\\.') AS CarTitle FROM dealer\").show(10)"
   ]
  },
  {
   "cell_type": "code",
   "execution_count": null,
   "id": "958980cd",
   "metadata": {},
   "outputs": [],
   "source": []
  }
 ],
 "metadata": {
  "kernelspec": {
   "display_name": ".data",
   "language": "python",
   "name": "python3"
  },
  "language_info": {
   "codemirror_mode": {
    "name": "ipython",
    "version": 3
   },
   "file_extension": ".py",
   "mimetype": "text/x-python",
   "name": "python",
   "nbconvert_exporter": "python",
   "pygments_lexer": "ipython3",
   "version": "3.10.0"
  }
 },
 "nbformat": 4,
 "nbformat_minor": 5
}
