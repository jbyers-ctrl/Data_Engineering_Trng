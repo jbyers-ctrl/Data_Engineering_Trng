{
 "cells": [
  {
   "cell_type": "markdown",
   "id": "bcefff72",
   "metadata": {},
   "source": [
    "## Lab Overview\n",
    "- We  can create a PySpark SQL DataFrame from different database sources such as SQL, Oracle, and PostgreSQL. In this lab, we will explore how to read data from SQL using a JDBC connection. We will use the “classicmodels” database in this example.\n",
    "\n",
    "### Lab Objectives\n",
    "- Identify how to set up a JDBC connector for Spark to establish communication with RDBMS sources\n",
    "- Illustrate how to use PySpark's DataFrame API to read data from an RDBMS source using JDBC connections.\n",
    "- List various DataFrame operations and methods to manipulate and analyze the data retrieved from the RDBMS source."
   ]
  },
  {
   "cell_type": "markdown",
   "id": "661957ca",
   "metadata": {},
   "source": [
    "### 1 - Setting Up SQL Connector for Spark\n",
    "- When we want Spark to communicate with RDBMS, we need a compatible connector. For SQL, you can download its connector at this link: SQL Connector. Once you download it, move it into the Spark Installation folder/jars folder and RESTART your Jupyter notebook."
   ]
  },
  {
   "cell_type": "markdown",
   "id": "7debeaf8",
   "metadata": {},
   "source": [
    "### 2 - Read Full Data from MySQL and add Data into the PySpark DataFrame\n",
    "- Creating SparkSession"
   ]
  },
  {
   "cell_type": "code",
   "execution_count": 1,
   "id": "04cd799a",
   "metadata": {},
   "outputs": [],
   "source": [
    "from pyspark.sql import SparkSession\n",
    "spark = SparkSession.builder.master(\"local[*]\").appName(\"Test SQL app\").getOrCreate()\n"
   ]
  },
  {
   "cell_type": "markdown",
   "id": "5b85788b",
   "metadata": {},
   "source": [
    "### Example 1: \n",
    "- In this example, we will read data from a MySQL database into a DataFrame using JDBC (Java Database Connectivity). It connects to the \"classicmodels\" database and loads the \"orders\" table into a Spark DataFrame.\n",
    "\n",
    "- Note: Do not forget to change the root and password as per your database."
   ]
  },
  {
   "cell_type": "code",
   "execution_count": null,
   "id": "8cc95ac0",
   "metadata": {},
   "outputs": [],
   "source": [
    "df = spark.read.format(\"jdbc\").options(driver=\"com.mysql.cj.jdbc.Driver\",\\\n",
    "                                     user=\"root\",\\\n",
    "                                     password=\"password\",\\\n",
    "                                     url=\"jdbc:mysql://localhost:3306/classicmodels\",\\\n",
    "                                     dbtable=\"classicmodels.orders\").load()\n"
   ]
  },
  {
   "cell_type": "code",
   "execution_count": 3,
   "id": "4d580551",
   "metadata": {},
   "outputs": [
    {
     "data": {
      "text/plain": [
       "326"
      ]
     },
     "execution_count": 3,
     "metadata": {},
     "output_type": "execute_result"
    }
   ],
   "source": [
    "# Count the number of rows available\n",
    "df.count()"
   ]
  },
  {
   "cell_type": "code",
   "execution_count": 4,
   "id": "2362855b",
   "metadata": {},
   "outputs": [
    {
     "name": "stdout",
     "output_type": "stream",
     "text": [
      "root\n",
      " |-- orderNumber: integer (nullable = true)\n",
      " |-- orderDate: date (nullable = true)\n",
      " |-- requiredDate: date (nullable = true)\n",
      " |-- shippedDate: date (nullable = true)\n",
      " |-- status: string (nullable = true)\n",
      " |-- comments: string (nullable = true)\n",
      " |-- customerNumber: integer (nullable = true)\n",
      "\n"
     ]
    }
   ],
   "source": [
    "# Print schema of 'order' table\n",
    "df.printSchema()"
   ]
  },
  {
   "cell_type": "code",
   "execution_count": 5,
   "id": "1d137881",
   "metadata": {},
   "outputs": [
    {
     "name": "stdout",
     "output_type": "stream",
     "text": [
      "+-----------+----------+------------+-----------+-------+--------------------+--------------+\n",
      "|orderNumber| orderDate|requiredDate|shippedDate| status|            comments|customerNumber|\n",
      "+-----------+----------+------------+-----------+-------+--------------------+--------------+\n",
      "|      10100|2003-01-06|  2003-01-13| 2003-01-10|Shipped|                NULL|           363|\n",
      "|      10101|2003-01-09|  2003-01-18| 2003-01-11|Shipped|Check on availabi...|           128|\n",
      "|      10102|2003-01-10|  2003-01-18| 2003-01-14|Shipped|                NULL|           181|\n",
      "|      10103|2003-01-29|  2003-02-07| 2003-02-02|Shipped|                NULL|           121|\n",
      "|      10104|2003-01-31|  2003-02-09| 2003-02-01|Shipped|                NULL|           141|\n",
      "|      10105|2003-02-11|  2003-02-21| 2003-02-12|Shipped|                NULL|           145|\n",
      "|      10106|2003-02-17|  2003-02-24| 2003-02-21|Shipped|                NULL|           278|\n",
      "|      10107|2003-02-24|  2003-03-03| 2003-02-26|Shipped|Difficult to nego...|           131|\n",
      "|      10108|2003-03-03|  2003-03-12| 2003-03-08|Shipped|                NULL|           385|\n",
      "|      10109|2003-03-10|  2003-03-19| 2003-03-11|Shipped|Customer requeste...|           486|\n",
      "|      10110|2003-03-18|  2003-03-24| 2003-03-20|Shipped|                NULL|           187|\n",
      "|      10111|2003-03-25|  2003-03-31| 2003-03-30|Shipped|                NULL|           129|\n",
      "|      10112|2003-03-24|  2003-04-03| 2003-03-29|Shipped|Customer requeste...|           144|\n",
      "|      10113|2003-03-26|  2003-04-02| 2003-03-27|Shipped|                NULL|           124|\n",
      "|      10114|2003-04-01|  2003-04-07| 2003-04-02|Shipped|                NULL|           172|\n",
      "|      10115|2003-04-04|  2003-04-12| 2003-04-07|Shipped|                NULL|           424|\n",
      "|      10116|2003-04-11|  2003-04-19| 2003-04-13|Shipped|                NULL|           381|\n",
      "|      10117|2003-04-16|  2003-04-24| 2003-04-17|Shipped|                NULL|           148|\n",
      "|      10118|2003-04-21|  2003-04-29| 2003-04-26|Shipped|Customer has work...|           216|\n",
      "|      10119|2003-04-28|  2003-05-05| 2003-05-02|Shipped|                NULL|           382|\n",
      "+-----------+----------+------------+-----------+-------+--------------------+--------------+\n",
      "only showing top 20 rows\n",
      "\n"
     ]
    }
   ],
   "source": [
    "# Show all columns with data from 'order' table\n",
    "df.show()"
   ]
  },
  {
   "cell_type": "markdown",
   "id": "6cce511a",
   "metadata": {},
   "source": [
    "### Example 2: Read with a custom query:\n",
    "- Spark does not limit us to reading an entire table at a time. We can also pass any SQL query to the Spark read() method, and we will get the query result as a data frame. Below is an example:\n",
    "- In this example, we will connect to a MySQL database and load a filtered subset of data from the \"orders\" table where customerNumber = 144"
   ]
  },
  {
   "cell_type": "code",
   "execution_count": 6,
   "id": "d9a1b8a1",
   "metadata": {},
   "outputs": [
    {
     "name": "stdout",
     "output_type": "stream",
     "text": [
      "+-----------+----------+------------+-----------+-------+--------------------+--------------+\n",
      "|orderNumber| orderDate|requiredDate|shippedDate| status|            comments|customerNumber|\n",
      "+-----------+----------+------------+-----------+-------+--------------------+--------------+\n",
      "|      10112|2003-03-24|  2003-04-03| 2003-03-29|Shipped|Customer requeste...|           144|\n",
      "|      10320|2004-11-03|  2004-11-13| 2004-11-07|Shipped|                NULL|           144|\n",
      "|      10326|2004-11-09|  2004-11-16| 2004-11-10|Shipped|                NULL|           144|\n",
      "|      10334|2004-11-19|  2004-11-28|       NULL|On Hold|The outstaniding ...|           144|\n",
      "+-----------+----------+------------+-----------+-------+--------------------+--------------+\n",
      "\n"
     ]
    }
   ],
   "source": [
    "query = \"(select * from orders where customerNumber = 144) as cust\"\n",
    "\n",
    "df = spark.read.format(\"jdbc\").options(driver=\"com.mysql.cj.jdbc.Driver\",\\\n",
    "                                     user=\"root\",\\\n",
    "                                     password=\"password\",\\\n",
    "                                     url=\"jdbc:mysql://localhost:3306/classicmodels\",\\\n",
    "                                     dbtable=query).load()\n",
    "df.show()\n"
   ]
  },
  {
   "cell_type": "markdown",
   "id": "94e9dc2d",
   "metadata": {},
   "source": [
    "### Example: 3: Querying Multiple Records from MySQL in PySpark:\n",
    "\n",
    "- In this example, we will connect to a MySQL database and retrieve orders for customers with customerNumber = 144 or customerNumber = 128. The SQL query is wrapped inside parentheses and aliased (as cust) for compatibility with JDBC. The filtered results are loaded into a Spark DataFrame and displayed using .show(), allowing efficient data processing and analysis within Spark."
   ]
  },
  {
   "cell_type": "code",
   "execution_count": null,
   "id": "4b422660",
   "metadata": {},
   "outputs": [
    {
     "name": "stdout",
     "output_type": "stream",
     "text": [
      "+-----------+----------+------------+-----------+-------+--------------------+--------------+\n",
      "|orderNumber| orderDate|requiredDate|shippedDate| status|            comments|customerNumber|\n",
      "+-----------+----------+------------+-----------+-------+--------------------+--------------+\n",
      "|      10101|2003-01-09|  2003-01-18| 2003-01-11|Shipped|Check on availabi...|           128|\n",
      "|      10230|2004-03-15|  2004-03-24| 2004-03-20|Shipped|Customer very con...|           128|\n",
      "|      10300|2003-10-04|  2003-10-13| 2003-10-09|Shipped|                NULL|           128|\n",
      "|      10323|2004-11-05|  2004-11-12| 2004-11-09|Shipped|                NULL|           128|\n",
      "|      10112|2003-03-24|  2003-04-03| 2003-03-29|Shipped|Customer requeste...|           144|\n",
      "|      10320|2004-11-03|  2004-11-13| 2004-11-07|Shipped|                NULL|           144|\n",
      "|      10326|2004-11-09|  2004-11-16| 2004-11-10|Shipped|                NULL|           144|\n",
      "|      10334|2004-11-19|  2004-11-28|       NULL|On Hold|The outstaniding ...|           144|\n",
      "+-----------+----------+------------+-----------+-------+--------------------+--------------+\n",
      "\n"
     ]
    }
   ],
   "source": [
    "query=\"(select * from orders where customerNumber = 144 or customerNumber = 128) as cust\"\n",
    "\n",
    "df = spark.read.format(\"jdbc\").options(driver=\"com.mysql.cj.jdbc.Driver\",\\\n",
    "                                     user=\"root\",\\\n",
    "                                     password=\"password\",\\\n",
    "                                     url=\"jdbc:mysql://localhost:3306/classicmodels\",\\\n",
    "                                     dbtable=query \\\n",
    "                                    ).load()\n",
    "df.show()\n"
   ]
  },
  {
   "cell_type": "code",
   "execution_count": null,
   "id": "ee2689d4",
   "metadata": {},
   "outputs": [],
   "source": []
  },
  {
   "cell_type": "code",
   "execution_count": null,
   "id": "f94d568f",
   "metadata": {},
   "outputs": [],
   "source": []
  },
  {
   "cell_type": "code",
   "execution_count": null,
   "id": "dcebf108",
   "metadata": {},
   "outputs": [],
   "source": []
  }
 ],
 "metadata": {
  "kernelspec": {
   "display_name": ".data",
   "language": "python",
   "name": "python3"
  },
  "language_info": {
   "codemirror_mode": {
    "name": "ipython",
    "version": 3
   },
   "file_extension": ".py",
   "mimetype": "text/x-python",
   "name": "python",
   "nbconvert_exporter": "python",
   "pygments_lexer": "ipython3",
   "version": "3.10.0rc2"
  }
 },
 "nbformat": 4,
 "nbformat_minor": 5
}
